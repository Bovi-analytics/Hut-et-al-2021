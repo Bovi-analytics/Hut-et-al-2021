{
  "nbformat": 4,
  "nbformat_minor": 0,
  "metadata": {
    "colab": {
      "name": "TimeBudgetGraph MonthsInMilk.ipynb",
      "provenance": [],
      "collapsed_sections": [],
      "toc_visible": true,
      "include_colab_link": true
    },
    "kernelspec": {
      "display_name": "Python 3",
      "name": "python3"
    },
    "language_info": {
      "name": "python"
    }
  },
  "cells": [
    {
      "cell_type": "markdown",
      "metadata": {
        "id": "view-in-github",
        "colab_type": "text"
      },
      "source": [
        "<a href=\"https://colab.research.google.com/github/Bovi-analytics/hut-et-al-2021/blob/master/TimeBudgetGraph_MonthsInMilk.ipynb\" target=\"_parent\"><img src=\"https://colab.research.google.com/assets/colab-badge.svg\" alt=\"Open In Colab\"/></a>"
      ]
    },
    {
      "cell_type": "code",
      "metadata": {
        "colab": {
          "base_uri": "https://localhost:8080/"
        },
        "id": "Goyfubyq8Pd-",
        "outputId": "f3030b2a-947e-498b-b003-713a0cd323e4"
      },
      "source": [
        "from google.colab import drive\n",
        "drive.mount('/content/drive')"
      ],
      "execution_count": null,
      "outputs": [
        {
          "output_type": "stream",
          "text": [
            "Mounted at /content/drive\n"
          ],
          "name": "stdout"
        }
      ]
    },
    {
      "cell_type": "code",
      "metadata": {
        "id": "ISimwquK_yE9"
      },
      "source": [
        "%reload_ext rpy2.ipython"
      ],
      "execution_count": null,
      "outputs": []
    },
    {
      "cell_type": "markdown",
      "metadata": {
        "id": "ImhMe8YDmYLM"
      },
      "source": [
        "# Load packages"
      ]
    },
    {
      "cell_type": "code",
      "metadata": {
        "id": "xSPtTijf-6Wf"
      },
      "source": [
        "%%R\n",
        "lib_loc <- \"/content/drive/Shareddrives/Bovi-Analytics/R-lib/\""
      ],
      "execution_count": null,
      "outputs": []
    },
    {
      "cell_type": "code",
      "metadata": {
        "id": "9jYxoBmb82Zl",
        "colab": {
          "base_uri": "https://localhost:8080/"
        },
        "outputId": "d1b6c04c-785e-4eec-ff42-749a70062b65"
      },
      "source": [
        "%%R\n",
        "package_list <- c(\"ggplot2\",\n",
        "                  \"readr\",\n",
        "                  \"plyr\",\n",
        "                  \"dplyr\",\n",
        "                  \"tidyr\",                \n",
        "                  \"lme4\",\n",
        "                  \"lmerTest\",\n",
        "                  \"emmeans\",\n",
        "                  \"lsmeans\",\n",
        "                  \"multcompView\",\n",
        "                  \"gridExtra\"\n",
        "                  )\n",
        "\n",
        "for (pkg in package_list) {\n",
        "  if (pkg %in% rownames(.packages()) == FALSE)\n",
        "  {library(pkg, lib.loc = lib_loc, character.only = TRUE)}\n",
        "\n",
        "}"
      ],
      "execution_count": null,
      "outputs": [
        {
          "output_type": "stream",
          "text": [
            "R[write to console]: \n",
            "Attaching package: ‘dplyr’\n",
            "\n",
            "\n",
            "R[write to console]: The following objects are masked from ‘package:plyr’:\n",
            "\n",
            "    arrange, count, desc, failwith, id, mutate, rename, summarise,\n",
            "    summarize\n",
            "\n",
            "\n",
            "R[write to console]: The following objects are masked from ‘package:stats’:\n",
            "\n",
            "    filter, lag\n",
            "\n",
            "\n",
            "R[write to console]: The following objects are masked from ‘package:base’:\n",
            "\n",
            "    intersect, setdiff, setequal, union\n",
            "\n",
            "\n",
            "R[write to console]: Loading required package: Matrix\n",
            "\n",
            "R[write to console]: \n",
            "Attaching package: ‘Matrix’\n",
            "\n",
            "\n",
            "R[write to console]: The following objects are masked from ‘package:tidyr’:\n",
            "\n",
            "    expand, pack, unpack\n",
            "\n",
            "\n",
            "R[write to console]: \n",
            "Attaching package: ‘lmerTest’\n",
            "\n",
            "\n",
            "R[write to console]: The following object is masked from ‘package:lme4’:\n",
            "\n",
            "    lmer\n",
            "\n",
            "\n",
            "R[write to console]: The following object is masked from ‘package:stats’:\n",
            "\n",
            "    step\n",
            "\n",
            "\n",
            "R[write to console]: The 'lsmeans' package is now basically a front end for 'emmeans'.\n",
            "Users are encouraged to switch the rest of the way.\n",
            "See help('transition') for more information, including how to\n",
            "convert old 'lsmeans' objects and scripts to work with 'emmeans'.\n",
            "\n",
            "R[write to console]: \n",
            "Attaching package: ‘gridExtra’\n",
            "\n",
            "\n",
            "R[write to console]: The following object is masked from ‘package:dplyr’:\n",
            "\n",
            "    combine\n",
            "\n",
            "\n"
          ],
          "name": "stderr"
        }
      ]
    },
    {
      "cell_type": "markdown",
      "metadata": {
        "id": "EVJtkPb08gsJ"
      },
      "source": [
        "# Eating time"
      ]
    },
    {
      "cell_type": "code",
      "metadata": {
        "id": "sqp7V6x18ZSX"
      },
      "source": [
        "%%R\n",
        "load(\"/content/drive/Shareddrives/Bovi-Analytics/Projects/SenseOfSensors/CsvData/SensorAggRepartitioned08032021/finalmodeleatingtime.rdata\")"
      ],
      "execution_count": null,
      "outputs": []
    },
    {
      "cell_type": "code",
      "metadata": {
        "id": "TfDP3pLL8tuS",
        "colab": {
          "base_uri": "https://localhost:8080/"
        },
        "outputId": "4895ae3a-097a-41f0-cc00-74150a5118bf"
      },
      "source": [
        "%%R\n",
        "LSMEatingTime <- lsmeans::lsmeans(finalModel, pairwise ~ MonthsInMilk, type = \"response\", glhargs=list())\n",
        "dfLSMEatingTime <- summary(LSMEatingTime)[[1]]\n",
        "dfLSMEatingTime$ObservationType = \"EatingTime\""
      ],
      "execution_count": null,
      "outputs": [
        {
          "output_type": "stream",
          "text": [
            "R[write to console]: Note: D.f. calculations have been disabled because the number of observations exceeds 3000.\n",
            "To enable adjustments, add the argument 'pbkrtest.limit = 42548' (or larger)\n",
            "[or, globally, 'set emm_options(pbkrtest.limit = 42548)' or larger];\n",
            "but be warned that this may result in large computation time and memory use.\n",
            "\n",
            "R[write to console]: Note: D.f. calculations have been disabled because the number of observations exceeds 3000.\n",
            "To enable adjustments, add the argument 'lmerTest.limit = 42548' (or larger)\n",
            "[or, globally, 'set emm_options(lmerTest.limit = 42548)' or larger];\n",
            "but be warned that this may result in large computation time and memory use.\n",
            "\n",
            "R[write to console]: NOTE: Results may be misleading due to involvement in interactions\n",
            "\n"
          ],
          "name": "stderr"
        }
      ]
    },
    {
      "cell_type": "markdown",
      "metadata": {
        "id": "g-zBR1APFHsg"
      },
      "source": [
        "#Rumination time"
      ]
    },
    {
      "cell_type": "code",
      "metadata": {
        "id": "HdI7xs0oFJvO"
      },
      "source": [
        "%%R\n",
        "load(\"/content/drive/Shareddrives/Bovi-Analytics/Projects/SenseOfSensors/CsvData/SensorAggRepartitioned08032021/finalmodelruminationtime.rdata\")"
      ],
      "execution_count": null,
      "outputs": []
    },
    {
      "cell_type": "code",
      "metadata": {
        "colab": {
          "base_uri": "https://localhost:8080/"
        },
        "id": "ssl_-12gFLwu",
        "outputId": "54710396-86e0-4336-8a55-6efe4093bef2"
      },
      "source": [
        "%%R\n",
        "LSMRuminatingTime<-lsmeans::lsmeans(finalModel, pairwise ~ MonthsInMilk, type = \"response\", glhargs=list())\n",
        "dfLSMRuminatingTime <- summary(LSMRuminatingTime)[[1]]\n",
        "dfLSMRuminatingTime$ObservationType = \"RuminationTime\""
      ],
      "execution_count": null,
      "outputs": [
        {
          "output_type": "stream",
          "text": [
            "R[write to console]: Note: D.f. calculations have been disabled because the number of observations exceeds 3000.\n",
            "To enable adjustments, add the argument 'pbkrtest.limit = 42548' (or larger)\n",
            "[or, globally, 'set emm_options(pbkrtest.limit = 42548)' or larger];\n",
            "but be warned that this may result in large computation time and memory use.\n",
            "\n",
            "R[write to console]: Note: D.f. calculations have been disabled because the number of observations exceeds 3000.\n",
            "To enable adjustments, add the argument 'lmerTest.limit = 42548' (or larger)\n",
            "[or, globally, 'set emm_options(lmerTest.limit = 42548)' or larger];\n",
            "but be warned that this may result in large computation time and memory use.\n",
            "\n",
            "R[write to console]: NOTE: Results may be misleading due to involvement in interactions\n",
            "\n"
          ],
          "name": "stderr"
        }
      ]
    },
    {
      "cell_type": "markdown",
      "metadata": {
        "id": "yoRG_niJ88iM"
      },
      "source": [
        "# Walking time"
      ]
    },
    {
      "cell_type": "code",
      "metadata": {
        "id": "BzIgo-jN8714"
      },
      "source": [
        "%%R\n",
        "load(\"/content/drive/Shareddrives/Bovi-Analytics/Projects/SenseOfSensors/CsvData/SensorAggRepartitioned08032021/finalmodelwalkingtime.rdata\")"
      ],
      "execution_count": null,
      "outputs": []
    },
    {
      "cell_type": "code",
      "metadata": {
        "id": "3e2hStku9E_P",
        "colab": {
          "base_uri": "https://localhost:8080/"
        },
        "outputId": "7e81517f-e9a8-4d52-ae50-aa81e5e7291b"
      },
      "source": [
        "%%R\n",
        "LSMWalkingTime<-lsmeans::lsmeans(finalModel, pairwise ~ MonthsInMilk, type = \"response\", glhargs=list())\n",
        "dfLSMWalkingTime <- summary(LSMWalkingTime)[[1]]\n",
        "dfLSMWalkingTime$ObservationType = \"WalkingTime\""
      ],
      "execution_count": null,
      "outputs": [
        {
          "output_type": "stream",
          "text": [
            "R[write to console]: Note: D.f. calculations have been disabled because the number of observations exceeds 3000.\n",
            "To enable adjustments, add the argument 'pbkrtest.limit = 54073' (or larger)\n",
            "[or, globally, 'set emm_options(pbkrtest.limit = 54073)' or larger];\n",
            "but be warned that this may result in large computation time and memory use.\n",
            "\n",
            "R[write to console]: Note: D.f. calculations have been disabled because the number of observations exceeds 3000.\n",
            "To enable adjustments, add the argument 'lmerTest.limit = 54073' (or larger)\n",
            "[or, globally, 'set emm_options(lmerTest.limit = 54073)' or larger];\n",
            "but be warned that this may result in large computation time and memory use.\n",
            "\n",
            "R[write to console]: NOTE: Results may be misleading due to involvement in interactions\n",
            "\n"
          ],
          "name": "stderr"
        }
      ]
    },
    {
      "cell_type": "markdown",
      "metadata": {
        "id": "Wd3mxyfwHZLn"
      },
      "source": [
        "#Leg activity"
      ]
    },
    {
      "cell_type": "code",
      "metadata": {
        "id": "0-UFTBEqIlV3"
      },
      "source": [
        "%%R\n",
        "load(\"/content/drive/Shareddrives/Bovi-Analytics/Projects/SenseOfSensors/CsvData/SensorAggRepartitioned08032021/finalmodellegactivity.rdata\")"
      ],
      "execution_count": null,
      "outputs": []
    },
    {
      "cell_type": "code",
      "metadata": {
        "colab": {
          "base_uri": "https://localhost:8080/"
        },
        "id": "nxOfED3IIuUi",
        "outputId": "96fb73cb-f028-4280-a32d-81022be9952d"
      },
      "source": [
        "%%R\n",
        "LSMLegActivity<-lsmeans::lsmeans(finalModel, pairwise ~ MonthsInMilk, type = \"response\", glhargs=list())\n",
        "dfLSMLegActivity <- summary(LSMLegActivity)[[1]]\n",
        "dfLSMLegActivity$ObservationType = \"LegActivity\""
      ],
      "execution_count": null,
      "outputs": [
        {
          "output_type": "stream",
          "text": [
            "R[write to console]: Note: D.f. calculations have been disabled because the number of observations exceeds 3000.\n",
            "To enable adjustments, add the argument 'pbkrtest.limit = 50188' (or larger)\n",
            "[or, globally, 'set emm_options(pbkrtest.limit = 50188)' or larger];\n",
            "but be warned that this may result in large computation time and memory use.\n",
            "\n",
            "R[write to console]: Note: D.f. calculations have been disabled because the number of observations exceeds 3000.\n",
            "To enable adjustments, add the argument 'lmerTest.limit = 50188' (or larger)\n",
            "[or, globally, 'set emm_options(lmerTest.limit = 50188)' or larger];\n",
            "but be warned that this may result in large computation time and memory use.\n",
            "\n",
            "R[write to console]: NOTE: Results may be misleading due to involvement in interactions\n",
            "\n"
          ],
          "name": "stderr"
        }
      ]
    },
    {
      "cell_type": "markdown",
      "metadata": {
        "id": "2OmiCEptI9rP"
      },
      "source": [
        "#Lying time"
      ]
    },
    {
      "cell_type": "code",
      "metadata": {
        "id": "H5MjnOcKJAaH"
      },
      "source": [
        "%%R\n",
        "load(\"/content/drive/Shareddrives/Bovi-Analytics/Projects/SenseOfSensors/CsvData/SensorAggRepartitioned08032021/finalmodellyingtime.rdata\")"
      ],
      "execution_count": null,
      "outputs": []
    },
    {
      "cell_type": "code",
      "metadata": {
        "colab": {
          "base_uri": "https://localhost:8080/"
        },
        "id": "f8XceKyUJEsO",
        "outputId": "3ca31e1f-6493-4daa-89e0-f79a303abfc9"
      },
      "source": [
        "%%R\n",
        "LSMLyingTime<-lsmeans::lsmeans(finalModel, pairwise ~ MonthsInMilk, type = \"response\", glhargs=list())\n",
        "dfLSMLyingTime <- summary(LSMLyingTime)[[1]]\n",
        "dfLSMLyingTime$ObservationType = \"LyingTime\""
      ],
      "execution_count": null,
      "outputs": [
        {
          "output_type": "stream",
          "text": [
            "R[write to console]: Note: D.f. calculations have been disabled because the number of observations exceeds 3000.\n",
            "To enable adjustments, add the argument 'pbkrtest.limit = 49867' (or larger)\n",
            "[or, globally, 'set emm_options(pbkrtest.limit = 49867)' or larger];\n",
            "but be warned that this may result in large computation time and memory use.\n",
            "\n",
            "R[write to console]: Note: D.f. calculations have been disabled because the number of observations exceeds 3000.\n",
            "To enable adjustments, add the argument 'lmerTest.limit = 49867' (or larger)\n",
            "[or, globally, 'set emm_options(lmerTest.limit = 49867)' or larger];\n",
            "but be warned that this may result in large computation time and memory use.\n",
            "\n",
            "R[write to console]: NOTE: Results may be misleading due to involvement in interactions\n",
            "\n"
          ],
          "name": "stderr"
        }
      ]
    },
    {
      "cell_type": "markdown",
      "metadata": {
        "id": "Kk6u_rueKTGC"
      },
      "source": [
        "#Standing time"
      ]
    },
    {
      "cell_type": "code",
      "metadata": {
        "id": "ZJblssrOKWKD"
      },
      "source": [
        "%%R\n",
        "load(\"/content/drive/Shareddrives/Bovi-Analytics/Projects/SenseOfSensors/CsvData/SensorAggRepartitioned08032021/finalmodelStandingtime.rdata\")"
      ],
      "execution_count": null,
      "outputs": []
    },
    {
      "cell_type": "code",
      "metadata": {
        "colab": {
          "base_uri": "https://localhost:8080/"
        },
        "id": "0CFx6lpwVHla",
        "outputId": "55a4995d-de9f-4230-b784-5186cd55bdef"
      },
      "source": [
        "%%R\n",
        "LSMStandingTime<-lsmeans::lsmeans(finalModel, pairwise ~ MonthsInMilk, type = \"response\", glhargs=list())\n",
        "dfLSMStandingTime <- summary(LSMStandingTime)[[1]]\n",
        "dfLSMStandingTime$ObservationType = \"StandingTime\""
      ],
      "execution_count": null,
      "outputs": [
        {
          "output_type": "stream",
          "text": [
            "R[write to console]: Note: D.f. calculations have been disabled because the number of observations exceeds 3000.\n",
            "To enable adjustments, add the argument 'pbkrtest.limit = 54056' (or larger)\n",
            "[or, globally, 'set emm_options(pbkrtest.limit = 54056)' or larger];\n",
            "but be warned that this may result in large computation time and memory use.\n",
            "\n",
            "R[write to console]: Note: D.f. calculations have been disabled because the number of observations exceeds 3000.\n",
            "To enable adjustments, add the argument 'lmerTest.limit = 54056' (or larger)\n",
            "[or, globally, 'set emm_options(lmerTest.limit = 54056)' or larger];\n",
            "but be warned that this may result in large computation time and memory use.\n",
            "\n",
            "R[write to console]: NOTE: Results may be misleading due to involvement in interactions\n",
            "\n"
          ],
          "name": "stderr"
        }
      ]
    },
    {
      "cell_type": "markdown",
      "metadata": {
        "id": "tJ8M-nKn9YVY"
      },
      "source": [
        "..."
      ]
    },
    {
      "cell_type": "code",
      "metadata": {
        "id": "gkI-36F79gdd"
      },
      "source": [
        "%%R\n",
        "library(dplyr)\n",
        "\n",
        "dfLSMFinal <- \n",
        "  dfLSMEatingTime %>%\n",
        "    bind_rows(dfLSMWalkingTime) %>%\n",
        "    bind_rows(dfLSMRuminatingTime) %>%\n",
        "    bind_rows(dfLSMLyingTime) %>%\n",
        "    bind_rows(dfLSMEatingTime) %>%\n",
        "    bind_rows(dfLSMLyingTime) %>%\n",
        "    bind_rows(dfLSMStandingTime)"
      ],
      "execution_count": null,
      "outputs": []
    },
    {
      "cell_type": "code",
      "metadata": {
        "id": "9THdNSOYV0Oo"
      },
      "source": [
        "%%R\n",
        "write.csv2(dfLSMFinal, file=\"/content/drive/Shareddrives/Bovi-Analytics/Projects/SenseOfSensors/CsvData/dfLSMFinalResult/Result.csv\")"
      ],
      "execution_count": null,
      "outputs": []
    },
    {
      "cell_type": "code",
      "metadata": {
        "colab": {
          "base_uri": "https://localhost:8080/",
          "height": 497
        },
        "id": "IbKeJHi1YJIr",
        "outputId": "a1061ea1-14d0-43aa-fa36-5431fa04211e"
      },
      "source": [
        "%%R\n",
        "dfLSMFinal %>% \n",
        "  filter(MonthsInMilk != 11) %>%\n",
        "  mutate(label = if_else(MonthsInMilk == max(as.numeric(MonthsInMilk)), as.character(ObservationType), NA_character_)) %>%\n",
        "  ggplot(\n",
        "  aes(\n",
        "    x=MonthsInMilk,\n",
        "    y=lsmean,\n",
        "    group=ObservationType, \n",
        "    color=ObservationType)\n",
        "    ) +\n",
        "  geom_line() +  \n",
        "  geom_errorbar(\n",
        "    aes(ymin=asymp.LCL, \n",
        "        ymax=asymp.UCL), \n",
        "    width=.2,\n",
        "    position=position_dodge(0.05)) +\n",
        "  labs(\n",
        "    title = \"Time budget months in milk\", \n",
        "    y=\"Minutes/day\" , \n",
        "    x = \"Months in milk\") +\n",
        "  theme_bw() +\n",
        "  theme(plot.title = element_text(hjust = 0.5),\n",
        "        panel.border = element_blank(), \n",
        "        panel.grid.major = element_blank(),\n",
        "        panel.grid.minor = element_blank(), \n",
        "        axis.line = element_line(colour = \"black\"))"
      ],
      "execution_count": null,
      "outputs": [
        {
          "output_type": "display_data",
          "data": {
            "image/png": "[encoded data removed]"
          },
          "metadata": {
            "tags": []
          }
        }
      ]
    },
    {
      "cell_type": "code",
      "metadata": {
        "id": "JilbSSRY8pxN"
      },
      "source": [
        "%%R\n",
        "MonthsInMilk <- dfLSMRuminatingTime$MonthsInMilk\n",
        "\n",
        "Ruminating <- dfLSMRuminatingTime$lsmean\n",
        "Ruminating.asymp.LCL <- dfLSMRuminatingTime$asymp.LCL\n",
        "Ruminating.asymp.UCL <- dfLSMRuminatingTime$asymp.UCL\n",
        "\n",
        "Eating <- dfLSMEatingTime$lsmean\n",
        "Eating.asymp.LCL <- dfLSMEatingTime$asymp.LCL\n",
        "Eating.asymp.UCL <- dfLSMEatingTime$asymp.UCL\n",
        "\n",
        "Standing <- dfLSMStandingTime$lsmean\n",
        "Standing.asymp.LCL <- dfLSMStandingTime$asymp.LCL\n",
        "Standing.asymp.UCL <- dfLSMStandingTime$asymp.UCL\n",
        "\n",
        "Lying <- dfLSMLyingTime$lsmean\n",
        "Lying.asymp.LCL <- dfLSMLyingTime$asymp.LCL\n",
        "Lying.asymp.UCL <- dfLSMLyingTime$asymp.UCL\n",
        "\n",
        "Walking <- dfLSMWalkingTime$lsmean\n",
        "Walking.asymp.LCL <- dfLSMWalkingTime$asymp.LCL\n",
        "Walking.asymp.UCL <- dfLSMWalkingTime$asymp.UCL\n",
        "\n",
        "LegActivity <- dfLSMLegActivity$lsmean\n",
        "LegActivity.asymp.LCL <- dfLSMLegActivity$asymp.LCL\n",
        "LegActivity.asymp.UCL <- dfLSMLegActivity$asymp.UCL\n",
        "\n",
        "dfTimeBudget <- data.frame(\n",
        "    MonthsInMilk, \n",
        "    Ruminating, \n",
        "    Ruminating.asymp.LCL, \n",
        "    Ruminating.asymp.UCL, \n",
        "\t  Eating, \n",
        "    Eating.asymp.LCL, \n",
        "    Eating.asymp.UCL,\n",
        "\t  Standing, \n",
        "    Standing.asymp.LCL, \n",
        "    Standing.asymp.UCL,\n",
        "\t  Lying, \n",
        "    Lying.asymp.LCL, \n",
        "    Lying.asymp.UCL,\n",
        "\t  Walking, \n",
        "    Walking.asymp.LCL, \n",
        "    Walking.asymp.UCL,\n",
        "\t  LegActivity, \n",
        "    LegActivity.asymp.LCL, \n",
        "    LegActivity.asymp.UCL\n",
        "\t)"
      ],
      "execution_count": null,
      "outputs": []
    },
    {
      "cell_type": "code",
      "metadata": {
        "colab": {
          "base_uri": "https://localhost:8080/",
          "height": 497
        },
        "id": "FS3QEN4Y8ppe",
        "outputId": "0ddec082-bd7c-40ea-deda-fc0b8e4414c2"
      },
      "source": [
        "%%R\n",
        "dfTimeBudget %>% \n",
        "  ggplot(\n",
        "      aes(x=MonthsInMilk, group=1)\n",
        "    ) + \n",
        "  geom_line(aes(y = Ruminating, colour = \"Ruminating\")) +\n",
        "  geom_errorbar(\n",
        "    aes(ymin=Ruminating.asymp.LCL, \n",
        "        ymax=Ruminating.asymp.UCL), \n",
        "    width=.2,\n",
        "    position=position_dodge(0.05),\n",
        "    color = \"turquoise3\") + \n",
        "  geom_line(aes(y = Walking, colour = \"Walking\")) + \n",
        "  geom_errorbar(\n",
        "    aes(ymin=Walking.asymp.LCL, \n",
        "        ymax=Walking.asymp.UCL), \n",
        "    width=.2,\n",
        "    position=position_dodge(0.05),\n",
        "    color = \"magenta\") + \n",
        "  geom_line(aes(y = Lying, colour = \"Lying\")) +\n",
        "    geom_errorbar(\n",
        "    aes(ymin=Lying.asymp.LCL, \n",
        "        ymax=Lying.asymp.UCL), \n",
        "    width=.2,\n",
        "    position=position_dodge(0.05),\n",
        "    color = \"green3\") + \n",
        "  geom_line(aes(y = Eating, colour = \"Eating\")) +\n",
        "    geom_errorbar(\n",
        "    aes(ymin=Eating.asymp.LCL, \n",
        "        ymax=Eating.asymp.UCL), \n",
        "    width=.2,\n",
        "    position=position_dodge(0.05),\n",
        "    color = \"red\") + \n",
        "  geom_line(aes(y = Standing, colour = \"Standing\")) +\n",
        "    geom_errorbar(\n",
        "    aes(ymin=Standing.asymp.LCL, \n",
        "        ymax=Standing.asymp.UCL), \n",
        "    width=.2,\n",
        "    position=position_dodge(0.05),\n",
        "    color = \"skyblue3\") + \n",
        "  geom_line(aes(y = LegActivity/5, colour = \"Leg activity (sec. Y-axis)\")) +\n",
        "  geom_errorbar(\n",
        "    aes(ymin=LegActivity.asymp.LCL/5, \n",
        "        ymax=LegActivity.asymp.UCL/5), \n",
        "    width=.2,\n",
        "    position=position_dodge(0.05),\n",
        "    color = \"gold3\") + \n",
        "  scale_y_continuous(sec.axis = sec_axis(~.*5, name = \"Number of steps per day\")) + \n",
        "\n",
        "  labs(\n",
        "    title = \"Time budget months in milk\", \n",
        "    y=\"Minutes per day\" ,  \n",
        "    x = \"Months in milk\",\n",
        "    colour = \"Behavior\") +\n",
        "  theme_bw() +\n",
        "  theme(plot.title = element_text(hjust = 0.5),\n",
        "        panel.border = element_blank(), \n",
        "        panel.grid.major = element_blank(),\n",
        "        panel.grid.minor = element_blank(), \n",
        "        axis.line = element_line(colour = \"black\"))"
      ],
      "execution_count": null,
      "outputs": [
        {
          "output_type": "display_data",
          "data": {
            "image/png": "[encoded data removed]"
          },
          "metadata": {
            "tags": []
          }
        }
      ]
    }
  ]
}