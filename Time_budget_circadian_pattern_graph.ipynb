{
  "nbformat": 4,
  "nbformat_minor": 0,
  "metadata": {
    "colab": {
      "name": "Time budget circadian pattern graph ",
      "provenance": [],
      "collapsed_sections": [],
      "toc_visible": true,
      "include_colab_link": true
    },
    "kernelspec": {
      "display_name": "Python 3",
      "name": "python3"
    },
    "language_info": {
      "name": "python"
    }
  },
  "cells": [
    {
      "cell_type": "markdown",
      "metadata": {
        "id": "view-in-github",
        "colab_type": "text"
      },
      "source": [
        "<a href=\"https://colab.research.google.com/github/Bovi-analytics/hut-et-al-2021/blob/master/Time_budget_circadian_pattern_graph.ipynb\" target=\"_parent\"><img src=\"https://colab.research.google.com/assets/colab-badge.svg\" alt=\"Open In Colab\"/></a>"
      ]
    },
    {
      "cell_type": "code",
      "metadata": {
        "colab": {
          "base_uri": "https://localhost:8080/"
        },
        "id": "Goyfubyq8Pd-",
        "outputId": "586038c0-7883-47f8-aa4a-1698479b4d96"
      },
      "source": [
        "from google.colab import drive\n",
        "drive.mount('/content/drive')"
      ],
      "execution_count": null,
      "outputs": [
        {
          "output_type": "stream",
          "text": [
            "Mounted at /content/drive\n"
          ],
          "name": "stdout"
        }
      ]
    },
    {
      "cell_type": "code",
      "metadata": {
        "id": "ISimwquK_yE9"
      },
      "source": [
        "%reload_ext rpy2.ipython"
      ],
      "execution_count": null,
      "outputs": []
    },
    {
      "cell_type": "markdown",
      "metadata": {
        "id": "ImhMe8YDmYLM"
      },
      "source": [
        "# Load packages"
      ]
    },
    {
      "cell_type": "code",
      "metadata": {
        "id": "xSPtTijf-6Wf"
      },
      "source": [
        "%%R\n",
        "lib_loc <- \"/content/drive/Shareddrives/Bovi-Analytics/R-lib/\""
      ],
      "execution_count": null,
      "outputs": []
    },
    {
      "cell_type": "code",
      "metadata": {
        "id": "9jYxoBmb82Zl",
        "colab": {
          "base_uri": "https://localhost:8080/"
        },
        "outputId": "c01552bf-0ca8-49c5-e2cc-36df504e5d36"
      },
      "source": [
        "%%R\n",
        "package_list <- c(\"ggplot2\",\n",
        "                  \"readr\",\n",
        "                  \"plyr\",\n",
        "                  \"dplyr\",\n",
        "                  \"tidyr\",                \n",
        "                  \"lme4\",\n",
        "                  \"lmerTest\",\n",
        "                  \"emmeans\",\n",
        "                  \"lsmeans\",\n",
        "                  \"multcompView\",\n",
        "                  \"gridExtra\",\n",
        "                  \"patchwork\"\n",
        "                  )\n",
        "\n",
        "for (pkg in package_list) {\n",
        "  if (pkg %in% rownames(.packages()) == FALSE)\n",
        "  {library(pkg, lib.loc = lib_loc, character.only = TRUE)}\n",
        "\n",
        "}"
      ],
      "execution_count": null,
      "outputs": [
        {
          "output_type": "stream",
          "text": [
            "R[write to console]: \n",
            "Attaching package: ‘dplyr’\n",
            "\n",
            "\n",
            "R[write to console]: The following objects are masked from ‘package:plyr’:\n",
            "\n",
            "    arrange, count, desc, failwith, id, mutate, rename, summarise,\n",
            "    summarize\n",
            "\n",
            "\n",
            "R[write to console]: The following objects are masked from ‘package:stats’:\n",
            "\n",
            "    filter, lag\n",
            "\n",
            "\n",
            "R[write to console]: The following objects are masked from ‘package:base’:\n",
            "\n",
            "    intersect, setdiff, setequal, union\n",
            "\n",
            "\n",
            "R[write to console]: Loading required package: Matrix\n",
            "\n",
            "R[write to console]: \n",
            "Attaching package: ‘Matrix’\n",
            "\n",
            "\n",
            "R[write to console]: The following objects are masked from ‘package:tidyr’:\n",
            "\n",
            "    expand, pack, unpack\n",
            "\n",
            "\n",
            "R[write to console]: \n",
            "Attaching package: ‘lmerTest’\n",
            "\n",
            "\n",
            "R[write to console]: The following object is masked from ‘package:lme4’:\n",
            "\n",
            "    lmer\n",
            "\n",
            "\n",
            "R[write to console]: The following object is masked from ‘package:stats’:\n",
            "\n",
            "    step\n",
            "\n",
            "\n",
            "R[write to console]: The 'lsmeans' package is now basically a front end for 'emmeans'.\n",
            "Users are encouraged to switch the rest of the way.\n",
            "See help('transition') for more information, including how to\n",
            "convert old 'lsmeans' objects and scripts to work with 'emmeans'.\n",
            "\n",
            "R[write to console]: \n",
            "Attaching package: ‘gridExtra’\n",
            "\n",
            "\n",
            "R[write to console]: The following object is masked from ‘package:dplyr’:\n",
            "\n",
            "    combine\n",
            "\n",
            "\n"
          ],
          "name": "stderr"
        }
      ]
    },
    {
      "cell_type": "markdown",
      "metadata": {
        "id": "EVJtkPb08gsJ"
      },
      "source": [
        "# Eating time"
      ]
    },
    {
      "cell_type": "code",
      "metadata": {
        "id": "sqp7V6x18ZSX"
      },
      "source": [
        "%%R\n",
        "load(\"/content/drive/Shareddrives/Bovi-Analytics/Projects/SenseOfSensors/CsvData/SensorAggRepartitioned08032021/finalmodel2hourseatingtime.rdata\")"
      ],
      "execution_count": null,
      "outputs": []
    },
    {
      "cell_type": "code",
      "metadata": {
        "id": "TfDP3pLL8tuS",
        "colab": {
          "base_uri": "https://localhost:8080/"
        },
        "outputId": "6732c5b3-9abc-4d01-9c92-53b811c162ce"
      },
      "source": [
        "%%R\n",
        "LSMEatingTime <- lsmeans::lsmeans(finalModel, pairwise ~ Hour, type = \"response\", glhargs=list())\n",
        "dfLSMEatingTime <- summary(LSMEatingTime)[[1]]\n",
        "dfLSMEatingTime$ObservationType = \"EatingTime\""
      ],
      "execution_count": null,
      "outputs": [
        {
          "output_type": "stream",
          "text": [
            "R[write to console]: Note: D.f. calculations have been disabled because the number of observations exceeds 3000.\n",
            "To enable adjustments, add the argument 'pbkrtest.limit = 508750' (or larger)\n",
            "[or, globally, 'set emm_options(pbkrtest.limit = 508750)' or larger];\n",
            "but be warned that this may result in large computation time and memory use.\n",
            "\n",
            "R[write to console]: Note: D.f. calculations have been disabled because the number of observations exceeds 3000.\n",
            "To enable adjustments, add the argument 'lmerTest.limit = 508750' (or larger)\n",
            "[or, globally, 'set emm_options(lmerTest.limit = 508750)' or larger];\n",
            "but be warned that this may result in large computation time and memory use.\n",
            "\n",
            "R[write to console]: NOTE: Results may be misleading due to involvement in interactions\n",
            "\n"
          ],
          "name": "stderr"
        }
      ]
    },
    {
      "cell_type": "markdown",
      "metadata": {
        "id": "g-zBR1APFHsg"
      },
      "source": [
        "#Rumination time"
      ]
    },
    {
      "cell_type": "code",
      "metadata": {
        "id": "HdI7xs0oFJvO"
      },
      "source": [
        "%%R\n",
        "load(\"/content/drive/Shareddrives/Bovi-Analytics/Projects/SenseOfSensors/CsvData/SensorAggRepartitioned08032021/finalmodel2hoursruminationtime.rdata\")"
      ],
      "execution_count": null,
      "outputs": []
    },
    {
      "cell_type": "code",
      "metadata": {
        "colab": {
          "base_uri": "https://localhost:8080/"
        },
        "id": "ssl_-12gFLwu",
        "outputId": "d334d2c4-5c3f-4bcc-c59b-4996f2fecc56"
      },
      "source": [
        "%%R\n",
        "LSMRuminatingTime<-lsmeans::lsmeans(finalModel, pairwise ~ Hour, type = \"response\", glhargs=list())\n",
        "dfLSMRuminatingTime <- summary(LSMRuminatingTime)[[1]]\n",
        "dfLSMRuminatingTime$ObservationType = \"RuminationTime\""
      ],
      "execution_count": null,
      "outputs": [
        {
          "output_type": "stream",
          "text": [
            "R[write to console]: Note: D.f. calculations have been disabled because the number of observations exceeds 3000.\n",
            "To enable adjustments, add the argument 'pbkrtest.limit = 508750' (or larger)\n",
            "[or, globally, 'set emm_options(pbkrtest.limit = 508750)' or larger];\n",
            "but be warned that this may result in large computation time and memory use.\n",
            "\n",
            "R[write to console]: Note: D.f. calculations have been disabled because the number of observations exceeds 3000.\n",
            "To enable adjustments, add the argument 'lmerTest.limit = 508750' (or larger)\n",
            "[or, globally, 'set emm_options(lmerTest.limit = 508750)' or larger];\n",
            "but be warned that this may result in large computation time and memory use.\n",
            "\n",
            "R[write to console]: NOTE: Results may be misleading due to involvement in interactions\n",
            "\n"
          ],
          "name": "stderr"
        }
      ]
    },
    {
      "cell_type": "markdown",
      "metadata": {
        "id": "yoRG_niJ88iM"
      },
      "source": [
        "# Walking time"
      ]
    },
    {
      "cell_type": "code",
      "metadata": {
        "id": "BzIgo-jN8714"
      },
      "source": [
        "%%R\n",
        "load(\"/content/drive/Shareddrives/Bovi-Analytics/Projects/SenseOfSensors/CsvData/SensorAggRepartitioned08032021/finalmodel2hourswalkingtime.rdata\")"
      ],
      "execution_count": null,
      "outputs": []
    },
    {
      "cell_type": "code",
      "metadata": {
        "id": "3e2hStku9E_P",
        "colab": {
          "base_uri": "https://localhost:8080/"
        },
        "outputId": "060e057b-1ad4-499f-d427-b40a4f128528"
      },
      "source": [
        "%%R\n",
        "LSMWalkingTime<-lsmeans::lsmeans(finalModel, pairwise ~ Hour, type = \"response\", glhargs=list())\n",
        "dfLSMWalkingTime <- summary(LSMWalkingTime)[[1]]\n",
        "dfLSMWalkingTime$ObservationType = \"WalkingTime\""
      ],
      "execution_count": null,
      "outputs": [
        {
          "output_type": "stream",
          "text": [
            "R[write to console]: Note: D.f. calculations have been disabled because the number of observations exceeds 3000.\n",
            "To enable adjustments, add the argument 'pbkrtest.limit = 568060' (or larger)\n",
            "[or, globally, 'set emm_options(pbkrtest.limit = 568060)' or larger];\n",
            "but be warned that this may result in large computation time and memory use.\n",
            "\n",
            "R[write to console]: Note: D.f. calculations have been disabled because the number of observations exceeds 3000.\n",
            "To enable adjustments, add the argument 'lmerTest.limit = 568060' (or larger)\n",
            "[or, globally, 'set emm_options(lmerTest.limit = 568060)' or larger];\n",
            "but be warned that this may result in large computation time and memory use.\n",
            "\n",
            "R[write to console]: NOTE: Results may be misleading due to involvement in interactions\n",
            "\n"
          ],
          "name": "stderr"
        }
      ]
    },
    {
      "cell_type": "markdown",
      "metadata": {
        "id": "Wd3mxyfwHZLn"
      },
      "source": [
        "#Leg activity"
      ]
    },
    {
      "cell_type": "code",
      "metadata": {
        "id": "0-UFTBEqIlV3"
      },
      "source": [
        "%%R\n",
        "load(\"/content/drive/Shareddrives/Bovi-Analytics/Projects/SenseOfSensors/CsvData/SensorAggRepartitioned08032021/finalmodel2hourslegactivity.rdata\")"
      ],
      "execution_count": null,
      "outputs": []
    },
    {
      "cell_type": "code",
      "metadata": {
        "colab": {
          "base_uri": "https://localhost:8080/"
        },
        "id": "nxOfED3IIuUi",
        "outputId": "79aba1d3-49be-4e62-8993-be7f1d4f2a65"
      },
      "source": [
        "%%R\n",
        "LSMLegActivity<-lsmeans::lsmeans(finalModel, pairwise ~ Hour, type = \"response\", glhargs=list())\n",
        "dfLSMLegActivity <- summary(LSMLegActivity)[[1]]\n",
        "dfLSMLegActivity$ObservationType = \"LegActivity\""
      ],
      "execution_count": null,
      "outputs": [
        {
          "output_type": "stream",
          "text": [
            "R[write to console]: Note: D.f. calculations have been disabled because the number of observations exceeds 3000.\n",
            "To enable adjustments, add the argument 'pbkrtest.limit = 524200' (or larger)\n",
            "[or, globally, 'set emm_options(pbkrtest.limit = 524200)' or larger];\n",
            "but be warned that this may result in large computation time and memory use.\n",
            "\n",
            "R[write to console]: Note: D.f. calculations have been disabled because the number of observations exceeds 3000.\n",
            "To enable adjustments, add the argument 'lmerTest.limit = 524200' (or larger)\n",
            "[or, globally, 'set emm_options(lmerTest.limit = 524200)' or larger];\n",
            "but be warned that this may result in large computation time and memory use.\n",
            "\n",
            "R[write to console]: NOTE: Results may be misleading due to involvement in interactions\n",
            "\n"
          ],
          "name": "stderr"
        }
      ]
    },
    {
      "cell_type": "markdown",
      "metadata": {
        "id": "2OmiCEptI9rP"
      },
      "source": [
        "#Lying time"
      ]
    },
    {
      "cell_type": "code",
      "metadata": {
        "id": "H5MjnOcKJAaH"
      },
      "source": [
        "%%R\n",
        "load(\"/content/drive/Shareddrives/Bovi-Analytics/Projects/SenseOfSensors/CsvData/SensorAggRepartitioned08032021/finalmodel2hourslyingtime.rdata\")"
      ],
      "execution_count": null,
      "outputs": []
    },
    {
      "cell_type": "code",
      "metadata": {
        "colab": {
          "base_uri": "https://localhost:8080/"
        },
        "id": "f8XceKyUJEsO",
        "outputId": "f3b3cf6e-68d1-4f24-fb00-57db2be2984b"
      },
      "source": [
        "%%R\n",
        "LSMLyingTime<-lsmeans::lsmeans(finalModel, pairwise ~ Hour, type = \"response\", glhargs=list())\n",
        "dfLSMLyingTime <- summary(LSMLyingTime)[[1]]\n",
        "dfLSMLyingTime$ObservationType = \"LyingTime\""
      ],
      "execution_count": null,
      "outputs": [
        {
          "output_type": "stream",
          "text": [
            "R[write to console]: Note: D.f. calculations have been disabled because the number of observations exceeds 3000.\n",
            "To enable adjustments, add the argument 'pbkrtest.limit = 520711' (or larger)\n",
            "[or, globally, 'set emm_options(pbkrtest.limit = 520711)' or larger];\n",
            "but be warned that this may result in large computation time and memory use.\n",
            "\n",
            "R[write to console]: Note: D.f. calculations have been disabled because the number of observations exceeds 3000.\n",
            "To enable adjustments, add the argument 'lmerTest.limit = 520711' (or larger)\n",
            "[or, globally, 'set emm_options(lmerTest.limit = 520711)' or larger];\n",
            "but be warned that this may result in large computation time and memory use.\n",
            "\n",
            "R[write to console]: NOTE: Results may be misleading due to involvement in interactions\n",
            "\n"
          ],
          "name": "stderr"
        }
      ]
    },
    {
      "cell_type": "markdown",
      "metadata": {
        "id": "Kk6u_rueKTGC"
      },
      "source": [
        "#Standing time"
      ]
    },
    {
      "cell_type": "code",
      "metadata": {
        "id": "ZJblssrOKWKD"
      },
      "source": [
        "%%R\n",
        "load(\"/content/drive/Shareddrives/Bovi-Analytics/Projects/SenseOfSensors/CsvData/SensorAggRepartitioned08032021/finalmodel2hoursStandingtime.rdata\")"
      ],
      "execution_count": null,
      "outputs": []
    },
    {
      "cell_type": "code",
      "metadata": {
        "colab": {
          "base_uri": "https://localhost:8080/"
        },
        "id": "0CFx6lpwVHla",
        "outputId": "bd3f014d-0814-45e8-bc93-deaf1c1f2e59"
      },
      "source": [
        "%%R\n",
        "LSMStandingTime<-lsmeans::lsmeans(finalModel, pairwise ~ Hour, type = \"response\", glhargs=list())\n",
        "dfLSMStandingTime <- summary(LSMStandingTime)[[1]]\n",
        "dfLSMStandingTime$ObservationType = \"StandingTime\""
      ],
      "execution_count": null,
      "outputs": [
        {
          "output_type": "stream",
          "text": [
            "R[write to console]: Note: D.f. calculations have been disabled because the number of observations exceeds 3000.\n",
            "To enable adjustments, add the argument 'pbkrtest.limit = 568042' (or larger)\n",
            "[or, globally, 'set emm_options(pbkrtest.limit = 568042)' or larger];\n",
            "but be warned that this may result in large computation time and memory use.\n",
            "\n",
            "R[write to console]: Note: D.f. calculations have been disabled because the number of observations exceeds 3000.\n",
            "To enable adjustments, add the argument 'lmerTest.limit = 568042' (or larger)\n",
            "[or, globally, 'set emm_options(lmerTest.limit = 568042)' or larger];\n",
            "but be warned that this may result in large computation time and memory use.\n",
            "\n",
            "R[write to console]: NOTE: Results may be misleading due to involvement in interactions\n",
            "\n"
          ],
          "name": "stderr"
        }
      ]
    },
    {
      "cell_type": "code",
      "metadata": {
        "id": "gkI-36F79gdd"
      },
      "source": [
        "%%R\n",
        "library(dplyr)\n",
        "\n",
        "dfLSMFinal <- \n",
        "  dfLSMEatingTime %>%\n",
        "    bind_rows(dfLSMWalkingTime) %>%\n",
        "    bind_rows(dfLSMRuminatingTime) %>%\n",
        "    bind_rows(dfLSMLyingTime) %>%\n",
        "    bind_rows(dfLSMEatingTime) %>%\n",
        "    bind_rows(dfLSMLyingTime) %>%\n",
        "    bind_rows(dfLSMStandingTime)\n",
        "    "
      ],
      "execution_count": null,
      "outputs": []
    },
    {
      "cell_type": "code",
      "metadata": {
        "colab": {
          "base_uri": "https://localhost:8080/"
        },
        "id": "oqKHDeQQQX5W",
        "outputId": "6afc2cf8-d9d1-4161-d5ee-0edd7e93ec2b"
      },
      "source": [
        "%%R\n",
        "dfLSMWalkingTime"
      ],
      "execution_count": null,
      "outputs": [
        {
          "output_type": "stream",
          "text": [
            " Hour lsmean     SE  df asymp.LCL asymp.UCL ObservationType\n",
            " 0      2.06 0.0245 Inf      2.02      2.11 WalkingTime    \n",
            " 2      1.63 0.0245 Inf      1.58      1.68 WalkingTime    \n",
            " 4      2.61 0.0245 Inf      2.57      2.66 WalkingTime    \n",
            " 6      4.36 0.0245 Inf      4.32      4.41 WalkingTime    \n",
            " 8      4.63 0.0245 Inf      4.58      4.68 WalkingTime    \n",
            " 10     4.38 0.0245 Inf      4.33      4.42 WalkingTime    \n",
            " 12     4.29 0.0245 Inf      4.24      4.33 WalkingTime    \n",
            " 14     4.43 0.0245 Inf      4.38      4.48 WalkingTime    \n",
            " 16     4.52 0.0245 Inf      4.47      4.57 WalkingTime    \n",
            " 18     4.02 0.0245 Inf      3.97      4.07 WalkingTime    \n",
            " 20     2.83 0.0245 Inf      2.79      2.88 WalkingTime    \n",
            " 22     2.35 0.0245 Inf      2.30      2.40 WalkingTime    \n",
            "\n",
            "Results are averaged over the levels of: MonthsInMilk, Parity, MilkingType, CalvingSeason \n",
            "Degrees-of-freedom method: asymptotic \n",
            "Confidence level used: 0.95 \n"
          ],
          "name": "stdout"
        }
      ]
    },
    {
      "cell_type": "code",
      "metadata": {
        "id": "qBSQFdvVRGe9"
      },
      "source": [
        "%%R\n",
        "Hour <- dfLSMRuminatingTime$Hour\n",
        "\n",
        "Ruminating <- dfLSMRuminatingTime$lsmean\n",
        "Ruminating.asymp.LCL <- dfLSMRuminatingTime$asymp.LCL\n",
        "Ruminating.asymp.UCL <- dfLSMRuminatingTime$asymp.UCL\n",
        "\n",
        "Eating <- dfLSMEatingTime$lsmean\n",
        "Eating.asymp.LCL <- dfLSMEatingTime$asymp.LCL\n",
        "Eating.asymp.UCL <- dfLSMEatingTime$asymp.UCL\n",
        "\n",
        "Standing <- dfLSMStandingTime$lsmean\n",
        "Standing.asymp.LCL <- dfLSMStandingTime$asymp.LCL\n",
        "Standing.asymp.UCL <- dfLSMStandingTime$asymp.UCL\n",
        "\n",
        "Lying <- dfLSMLyingTime$lsmean\n",
        "Lying.asymp.LCL <- dfLSMLyingTime$asymp.LCL\n",
        "Lying.asymp.UCL <- dfLSMLyingTime$asymp.UCL\n",
        "\n",
        "Walking <- dfLSMWalkingTime$lsmean\n",
        "Walking.asymp.LCL <- dfLSMWalkingTime$asymp.LCL\n",
        "Walking.asymp.UCL <- dfLSMWalkingTime$asymp.UCL\n",
        "\n",
        "LegActivity <- dfLSMLegActivity$lsmean\n",
        "LegActivity.asymp.LCL <- dfLSMLegActivity$asymp.LCL\n",
        "LegActivity.asymp.UCL <- dfLSMLegActivity$asymp.UCL\n",
        "\n",
        "dfTimeBudget <- data.frame(\n",
        "    Hour, \n",
        "    Ruminating, \n",
        "    Ruminating.asymp.LCL, \n",
        "    Ruminating.asymp.UCL, \n",
        "\t  Eating, \n",
        "    Eating.asymp.LCL, \n",
        "    Eating.asymp.UCL,\n",
        "\t  Standing, \n",
        "    Standing.asymp.LCL, \n",
        "    Standing.asymp.UCL,\n",
        "\t  Lying, \n",
        "    Lying.asymp.LCL, \n",
        "    Lying.asymp.UCL,\n",
        "\t  Walking, \n",
        "    Walking.asymp.LCL, \n",
        "    Walking.asymp.UCL,\n",
        "\t  LegActivity, \n",
        "    LegActivity.asymp.LCL, \n",
        "    LegActivity.asymp.UCL\n",
        "\t)"
      ],
      "execution_count": null,
      "outputs": []
    },
    {
      "cell_type": "code",
      "metadata": {
        "colab": {
          "base_uri": "https://localhost:8080/"
        },
        "id": "GR1NVp0kX_KA",
        "outputId": "5f9de534-32ca-4c1d-bb93-2bf8f50c3cd0"
      },
      "source": [
        "%%R\n",
        "dfTimeBudget"
      ],
      "execution_count": null,
      "outputs": [
        {
          "output_type": "stream",
          "text": [
            "   Hour Ruminating Ruminating.asymp.LCL Ruminating.asymp.UCL    Eating\n",
            "1     0   52.26413             52.00949             52.51878 20.660368\n",
            "2     2   54.95243             54.69775             55.20711 16.518953\n",
            "3     4   57.60550             57.35082             57.86018  9.422889\n",
            "4     6   46.80628             46.55161             47.06095 17.267982\n",
            "5     8   35.30573             35.05106             35.56040 32.941899\n",
            "6    10   35.26645             35.01179             35.52111 37.785152\n",
            "7    12   40.70364             40.44899             40.95830 33.383093\n",
            "8    14   41.65797             41.40332             41.91263 34.411901\n",
            "9    16   41.41935             41.16470             41.67400 35.174788\n",
            "10   18   37.36209             37.10745             37.61674 39.379558\n",
            "11   20   41.04648             40.79183             41.30114 36.934887\n",
            "12   22   50.73103             50.47638             50.98568 23.975419\n",
            "   Eating.asymp.LCL Eating.asymp.UCL Standing Standing.asymp.LCL\n",
            "1         20.393436         20.92730 45.15953           44.78283\n",
            "2         16.251962         16.78594 39.02201           38.64533\n",
            "3          9.155898          9.68988 52.42531           52.04864\n",
            "4         17.001007         17.53496 62.42214           62.04547\n",
            "5         32.674930         33.20887 60.37317           59.99650\n",
            "6         37.518200         38.05210 58.26172           57.88507\n",
            "7         33.116141         33.65004 61.29788           60.92123\n",
            "8         34.144954         34.67885 68.56918           68.19253\n",
            "9         34.907848         35.44173 79.72275           79.34607\n",
            "10        39.112623         39.64649 70.07988           69.70318\n",
            "11        36.667938         37.20184 55.09115           54.71445\n",
            "12        23.708474         24.24236 49.09659           48.71987\n",
            "   Standing.asymp.UCL    Lying Lying.asymp.LCL Lying.asymp.UCL  Walking\n",
            "1            45.53623 72.67106        72.27141        73.07070 2.064195\n",
            "2            39.39869 79.43218        79.03254        79.83182 1.627168\n",
            "3            52.80198 64.91796        64.51833        65.31759 2.613960\n",
            "4            62.79882 52.98446        52.58483        53.38408 4.363113\n",
            "5            60.74984 54.61538        54.21578        55.01499 4.632759\n",
            "6            58.63838 57.09819        56.69859        57.49779 4.376656\n",
            "7            61.67452 54.25241        53.85284        54.65199 4.285993\n",
            "8            68.94582 46.99313        46.59356        47.39271 4.432651\n",
            "9            80.09942 35.69615        35.29653        36.09578 4.517298\n",
            "10           70.45657 45.84541        45.44577        46.24505 4.017720\n",
            "11           55.46785 62.00378        61.60414        62.40343 2.834341\n",
            "12           49.47330 68.34292        67.94327        68.74257 2.346947\n",
            "   Walking.asymp.LCL Walking.asymp.UCL LegActivity LegActivity.asymp.LCL\n",
            "1           2.016118          2.112272    201.4788              197.7918\n",
            "2           1.579093          1.675243    169.8983              166.2113\n",
            "3           2.565887          2.662033    242.4595              238.7727\n",
            "4           4.315038          4.411187    385.2670              381.5802\n",
            "5           4.584686          4.680831    409.5890              405.9024\n",
            "6           4.328585          4.424727    390.5460              386.8596\n",
            "7           4.237923          4.334063    384.1251              380.4388\n",
            "8           4.384581          4.480721    394.6697              390.9834\n",
            "9           4.469224          4.565372    393.0312              389.3444\n",
            "10          3.969643          4.065797    347.6659              343.9789\n",
            "11          2.786263          2.882418    258.6535              254.9664\n",
            "12          2.298868          2.395027    222.2361              218.5491\n",
            "   LegActivity.asymp.UCL\n",
            "1               205.1659\n",
            "2               173.5853\n",
            "3               246.1463\n",
            "4               388.9538\n",
            "5               413.2756\n",
            "6               394.2325\n",
            "7               387.8113\n",
            "8               398.3559\n",
            "9               396.7180\n",
            "10              351.3529\n",
            "11              262.3406\n",
            "12              225.9231\n"
          ],
          "name": "stdout"
        }
      ]
    },
    {
      "cell_type": "code",
      "metadata": {
        "colab": {
          "base_uri": "https://localhost:8080/",
          "height": 497
        },
        "id": "QBDXFGwwQhHt",
        "outputId": "2179814e-7751-4fc0-b2e8-824b587cb40b"
      },
      "source": [
        "%%R\n",
        "dfTimeBudget %>% \n",
        "  ggplot(\n",
        "      aes(x=Hour, group=1)\n",
        "    ) + \n",
        "  geom_line(aes(y = Ruminating, colour = \"Ruminating\")) +\n",
        "  geom_errorbar(\n",
        "    aes(ymin=Ruminating.asymp.LCL, \n",
        "        ymax=Ruminating.asymp.UCL), \n",
        "    width=.2,\n",
        "    position=position_dodge(0.05),\n",
        "    color = \"turquoise3\") + \n",
        "  geom_line(aes(y = Walking, colour = \"Walking\")) + \n",
        "  geom_errorbar(\n",
        "    aes(ymin=Walking.asymp.LCL, \n",
        "        ymax=Walking.asymp.UCL), \n",
        "    width=.2,\n",
        "    position=position_dodge(0.05),\n",
        "    color = \"magenta\") + \n",
        "  geom_line(aes(y = Lying, colour = \"Lying\")) +\n",
        "    geom_errorbar(\n",
        "    aes(ymin=Lying.asymp.LCL, \n",
        "        ymax=Lying.asymp.UCL), \n",
        "    width=.2,\n",
        "    position=position_dodge(0.05),\n",
        "    color = \"green3\") + \n",
        "  geom_line(aes(y = Eating, colour = \"Eating\")) +\n",
        "    geom_errorbar(\n",
        "    aes(ymin=Eating.asymp.LCL, \n",
        "        ymax=Eating.asymp.UCL), \n",
        "    width=.2,\n",
        "    position=position_dodge(0.05),\n",
        "    color = \"red\") + \n",
        "  geom_line(aes(y = Standing, colour = \"Standing\")) +\n",
        "    geom_errorbar(\n",
        "    aes(ymin=Standing.asymp.LCL, \n",
        "        ymax=Standing.asymp.UCL), \n",
        "    width=.2,\n",
        "    position=position_dodge(0.05),\n",
        "    color = \"skyblue3\") + \n",
        "  geom_line(aes(y = LegActivity/5, colour = \"Leg activity (sec. Y-axis)\")) +\n",
        "  geom_errorbar(\n",
        "    aes(ymin=LegActivity.asymp.LCL/5, \n",
        "        ymax=LegActivity.asymp.UCL/5), \n",
        "    width=.2,\n",
        "    position=position_dodge(0.05),\n",
        "    color = \"gold3\") + \n",
        "  scale_y_continuous(sec.axis = sec_axis(~.*5, name = \"Number of steps per 2 hours\")) + \n",
        "\n",
        "  labs(\n",
        "    title = \"Time budget 24h pattern\", \n",
        "    y=\"Minutes per 2 hours\" ,  \n",
        "    x = \"Hour\",\n",
        "    colour = \"Behavior\") +\n",
        "  theme_bw() +\n",
        "  theme(plot.title = element_text(hjust = 0.5),\n",
        "        panel.border = element_blank(), \n",
        "        panel.grid.major = element_blank(),\n",
        "        panel.grid.minor = element_blank(), \n",
        "        axis.line = element_line(colour = \"black\"))"
      ],
      "execution_count": null,
      "outputs": [
        {
          "output_type": "display_data",
          "data": {
            "image/png": "[encoded data removed]"
          },
          "metadata": {
            "tags": []
          }
        }
      ]
    }
  ]
}