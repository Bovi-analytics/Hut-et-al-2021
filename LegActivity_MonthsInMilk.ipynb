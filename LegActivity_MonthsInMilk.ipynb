{
  "nbformat": 4,
  "nbformat_minor": 0,
  "metadata": {
    "colab": {
      "name": "LegActivity MonthsInMilk",
      "provenance": [],
      "collapsed_sections": [],
      "toc_visible": true,
      "include_colab_link": true
    },
    "kernelspec": {
      "name": "python3",
      "display_name": "Python 3"
    }
  },
  "cells": [
    {
      "cell_type": "markdown",
      "metadata": {
        "id": "view-in-github",
        "colab_type": "text"
      },
      "source": [
        "<a href=\"https://colab.research.google.com/github/Bovi-analytics/hut-et-al-2021/blob/master/LegActivity_MonthsInMilk.ipynb\" target=\"_parent\"><img src=\"https://colab.research.google.com/assets/colab-badge.svg\" alt=\"Open In Colab\"/></a>"
      ]
    },
    {
      "cell_type": "markdown",
      "metadata": {
        "id": "TfcV1OGDG8qU"
      },
      "source": [
        "# Statistical notebook for leg activity MonthsInMilk"
      ]
    },
    {
      "cell_type": "markdown",
      "metadata": {
        "id": "4DHelHm-HGUq"
      },
      "source": [
        "## Importing of google drive"
      ]
    },
    {
      "cell_type": "code",
      "metadata": {
        "colab": {
          "base_uri": "https://localhost:8080/"
        },
        "id": "WCUSUtqb21vg",
        "outputId": "9616faac-806d-4605-af81-0133e3f07b61"
      },
      "source": [
        "from google.colab import drive\n",
        "drive.mount('/content/drive')"
      ],
      "execution_count": null,
      "outputs": [
        {
          "output_type": "stream",
          "text": [
            "Mounted at /content/drive\n"
          ],
          "name": "stdout"
        }
      ]
    },
    {
      "cell_type": "markdown",
      "metadata": {
        "id": "4e7_OvVcHQ2o"
      },
      "source": [
        "## R loading"
      ]
    },
    {
      "cell_type": "code",
      "metadata": {
        "id": "TxkiqsiB23Kg"
      },
      "source": [
        "%reload_ext rpy2.ipython"
      ],
      "execution_count": null,
      "outputs": []
    },
    {
      "cell_type": "code",
      "metadata": {
        "id": "yQo4M3cOIn6a"
      },
      "source": [
        "%%R\n",
        "lib_loc <- \"/content/drive/Shareddrives/Bovi-Analytics/R-lib/\""
      ],
      "execution_count": null,
      "outputs": []
    },
    {
      "cell_type": "code",
      "metadata": {
        "colab": {
          "base_uri": "https://localhost:8080/"
        },
        "id": "DSf95XP5IsRY",
        "outputId": "d419d769-4a4b-41ad-9363-fe3777a9fa9a"
      },
      "source": [
        "%%R\n",
        "package_list <- c(\"ggplot2\",\n",
        "                  \"readr\",\n",
        "                  \"plyr\",\n",
        "                  \"dplyr\",\n",
        "                  \"tidyr\",                \n",
        "                  \"lme4\",\n",
        "                  \"lmerTest\",\n",
        "                  \"multcompView\",\n",
        "                  \"mvtnorm\",\n",
        "                  \"TH.data\",\n",
        "                  \"multcomp\",\n",
        "                  \"emmeans\",\n",
        "                  \"lsmeans\",\n",
        "                  \"carData\",\n",
        "                  \"car\"\n",
        "                  )\n",
        "\n",
        "for (pkg in package_list) {\n",
        "  if (pkg %in% rownames(.packages()) == FALSE)\n",
        "  {library(pkg, lib.loc = lib_loc, character.only = TRUE)}\n",
        "\n",
        "}"
      ],
      "execution_count": null,
      "outputs": [
        {
          "output_type": "stream",
          "text": [
            "R[write to console]: \n",
            "Attaching package: ‘dplyr’\n",
            "\n",
            "\n",
            "R[write to console]: The following objects are masked from ‘package:plyr’:\n",
            "\n",
            "    arrange, count, desc, failwith, id, mutate, rename, summarise,\n",
            "    summarize\n",
            "\n",
            "\n",
            "R[write to console]: The following objects are masked from ‘package:stats’:\n",
            "\n",
            "    filter, lag\n",
            "\n",
            "\n",
            "R[write to console]: The following objects are masked from ‘package:base’:\n",
            "\n",
            "    intersect, setdiff, setequal, union\n",
            "\n",
            "\n",
            "R[write to console]: Loading required package: Matrix\n",
            "\n",
            "R[write to console]: \n",
            "Attaching package: ‘Matrix’\n",
            "\n",
            "\n",
            "R[write to console]: The following objects are masked from ‘package:tidyr’:\n",
            "\n",
            "    expand, pack, unpack\n",
            "\n",
            "\n",
            "R[write to console]: \n",
            "Attaching package: ‘lmerTest’\n",
            "\n",
            "\n",
            "R[write to console]: The following object is masked from ‘package:lme4’:\n",
            "\n",
            "    lmer\n",
            "\n",
            "\n",
            "R[write to console]: The following object is masked from ‘package:stats’:\n",
            "\n",
            "    step\n",
            "\n",
            "\n",
            "R[write to console]: Loading required package: survival\n",
            "\n",
            "R[write to console]: Loading required package: MASS\n",
            "\n",
            "R[write to console]: \n",
            "Attaching package: ‘MASS’\n",
            "\n",
            "\n",
            "R[write to console]: The following object is masked from ‘package:dplyr’:\n",
            "\n",
            "    select\n",
            "\n",
            "\n",
            "R[write to console]: \n",
            "Attaching package: ‘TH.data’\n",
            "\n",
            "\n",
            "R[write to console]: The following object is masked from ‘package:MASS’:\n",
            "\n",
            "    geyser\n",
            "\n",
            "\n",
            "R[write to console]: The 'lsmeans' package is now basically a front end for 'emmeans'.\n",
            "Users are encouraged to switch the rest of the way.\n",
            "See help('transition') for more information, including how to\n",
            "convert old 'lsmeans' objects and scripts to work with 'emmeans'.\n",
            "\n",
            "R[write to console]: Registered S3 methods overwritten by 'car':\n",
            "  method                          from\n",
            "  influence.merMod                lme4\n",
            "  cooks.distance.influence.merMod lme4\n",
            "  dfbeta.influence.merMod         lme4\n",
            "  dfbetas.influence.merMod        lme4\n",
            "\n",
            "R[write to console]: \n",
            "Attaching package: ‘car’\n",
            "\n",
            "\n",
            "R[write to console]: The following object is masked from ‘package:dplyr’:\n",
            "\n",
            "    recode\n",
            "\n",
            "\n"
          ],
          "name": "stderr"
        }
      ]
    },
    {
      "cell_type": "markdown",
      "metadata": {
        "id": "j0a1jlpqHeJ4"
      },
      "source": [
        "## Data loading into dataframe"
      ]
    },
    {
      "cell_type": "code",
      "metadata": {
        "id": "XKMnpccx3BDP"
      },
      "source": [
        "%%R\n",
        "url = ('/content/drive/Shareddrives/Bovi-Analytics/Projects/SenseOfSensors/CsvData/SensorAggRepartitioned08032021/ObservationType=LegActivityStepsPerDay/part-00000-tid-183333261268000902-29b42dfd-564e-4e7d-8ea7-05b4fb30d5d6-1694-15.c000.csv')\n",
        "\n",
        "dataset = read.csv(url)\n",
        "\n"
      ],
      "execution_count": null,
      "outputs": []
    },
    {
      "cell_type": "code",
      "metadata": {
        "id": "EdsoTgv63LDl"
      },
      "source": [
        "%%R\n",
        "\n",
        "#path <- \"/content/drive/Shareddrives/Bovi-Analytics/Projects/SenseOfSensors/CsvData/SensorAggRepartitioned08032021/ObservationType=LegActivityStepsPer2Hours/part-00000-tid-183333261268000902-29b42dfd-564e-4e7d-8ea7-05b4fb30d5d6-1694-13.c000.csv\"\n",
        "AnalysisData <- \n",
        "  readr::read_csv(\"/content/drive/Shareddrives/Bovi-Analytics/Projects/SenseOfSensors/CsvData/SensorAggRepartitioned08032021/ObservationType=LegActivityStepsPerDay/part-00000-tid-183333261268000902-29b42dfd-564e-4e7d-8ea7-05b4fb30d5d6-1694-15.c000.csv\", \n",
        "    col_types = readr::cols(HerdIdentifier = readr::col_character(), \n",
        "        TransitionLactationNumber = readr::col_integer(), \n",
        "        TransitionParity = readr::col_character(), \n",
        "        TransitionMonthsInMilk = readr::col_integer(), \n",
        "        TransitionCalvingDate = readr::col_character(), \n",
        "        Hour = readr::col_integer(), \n",
        "        Observations = readr::col_integer())) %>% \n",
        "  dplyr::filter(dplyr::between(TransitionMonthsInMilk, -1, 10)) %>%\n",
        "  dplyr::mutate(\n",
        "    AnimalIdentifier = factor(AnimalIdentifier),\n",
        "    HerdIdentifier = factor(HerdIdentifier),\n",
        "    Parity = factor(TransitionParity),\n",
        "    MonthsInMilk = factor(TransitionMonthsInMilk),\n",
        "    CalvingSeason = factor(TransitionSeason),\n",
        "    Hour = factor(Hour),\n",
        "    SensorValue = ObservationValue,\n",
        "    MilkingType = factor(case_when(\n",
        "    HerdIdentifier %in% c(\"544\", \"2514\", \"3314\")~\"AMS\",\n",
        "    TRUE~\"CMS\"\n",
        "  ))\n",
        "  ) %>%\n",
        "  dplyr::select(AnimalIdentifier, HerdIdentifier, Parity, MonthsInMilk, CalvingSeason, Hour, SensorValue, MilkingType) %>%\n",
        "  tidyr::drop_na()"
      ],
      "execution_count": null,
      "outputs": []
    },
    {
      "cell_type": "code",
      "metadata": {
        "colab": {
          "base_uri": "https://localhost:8080/"
        },
        "id": "lLX-PUK_HwW-",
        "outputId": "da135c42-4962-46e2-b8ed-ce6ae4b8ca49"
      },
      "source": [
        "%%R\n",
        "head(AnalysisData)"
      ],
      "execution_count": null,
      "outputs": [
        {
          "output_type": "stream",
          "text": [
            "# A tibble: 6 x 8\n",
            "  AnimalIdentifier HerdIdentifier Parity MonthsInMilk CalvingSeason Hour \n",
            "  <fct>            <fct>          <fct>  <fct>        <fct>         <fct>\n",
            "1 33               2746           2      -1           Summer        22   \n",
            "2 644              2514           3+     6            Autumn        23   \n",
            "3 1092             2514           2      1            Winter        23   \n",
            "4 55               2746           1      9            Winter        22   \n",
            "5 46               544            2      8            Autumn        22   \n",
            "6 163              3              2      4            Autumn        23   \n",
            "# … with 2 more variables: SensorValue <dbl>, MilkingType <fct>\n"
          ],
          "name": "stdout"
        }
      ]
    },
    {
      "cell_type": "code",
      "metadata": {
        "colab": {
          "base_uri": "https://localhost:8080/"
        },
        "id": "6tB88jG161J_",
        "outputId": "3cdb8085-cc26-4399-f0b2-dc8aec71d932"
      },
      "source": [
        "%%R\n",
        "str(AnalysisData)"
      ],
      "execution_count": null,
      "outputs": [
        {
          "output_type": "stream",
          "text": [
            "tibble[,8] [50,188 × 8] (S3: tbl_df/tbl/data.frame)\n",
            " $ AnimalIdentifier: Factor w/ 1062 levels \"1\",\"2\",\"3\",\"4\",..: 33 279 462 55 46 163 285 285 419 45 ...\n",
            " $ HerdIdentifier  : Factor w/ 8 levels \"2011\",\"2297\",..: 4 3 3 4 7 5 3 3 8 4 ...\n",
            " $ Parity          : Factor w/ 3 levels \"1\",\"2\",\"3+\": 2 3 2 1 2 2 2 3 3 3 ...\n",
            " $ MonthsInMilk    : Factor w/ 12 levels \"-1\",\"0\",\"1\",\"2\",..: 1 8 3 11 10 6 9 5 10 2 ...\n",
            " $ CalvingSeason   : Factor w/ 4 levels \"Autumn\",\"Spring\",..: 3 1 4 4 1 1 3 3 3 2 ...\n",
            " $ Hour            : Factor w/ 2 levels \"22\",\"23\": 1 2 2 1 1 2 2 1 2 2 ...\n",
            " $ SensorValue     : num [1:50188] 6896 3235 3289 4035 2616 ...\n",
            " $ MilkingType     : Factor w/ 2 levels \"AMS\",\"CMS\": 2 1 1 2 1 2 1 1 2 2 ...\n"
          ],
          "name": "stdout"
        }
      ]
    },
    {
      "cell_type": "markdown",
      "metadata": {
        "id": "QDf9s0LDHzhB"
      },
      "source": [
        "## Descriptive statistics"
      ]
    },
    {
      "cell_type": "code",
      "metadata": {
        "colab": {
          "base_uri": "https://localhost:8080/"
        },
        "id": "fNJYm411H3Pi",
        "outputId": "8a6f1830-f7b5-4134-d214-c0cb72f8ae19"
      },
      "source": [
        "%%R\n",
        "AnalysisData %>%\n",
        "  group_by(Parity) %>%\n",
        "  summarise(Unique_Elements = n_distinct(AnimalIdentifier))"
      ],
      "execution_count": null,
      "outputs": [
        {
          "output_type": "stream",
          "text": [
            "# A tibble: 3 x 2\n",
            "  Parity Unique_Elements\n",
            "  <fct>            <int>\n",
            "1 1                  709\n",
            "2 2                  699\n",
            "3 3+                 745\n"
          ],
          "name": "stdout"
        }
      ]
    },
    {
      "cell_type": "code",
      "metadata": {
        "colab": {
          "base_uri": "https://localhost:8080/"
        },
        "id": "22hZZ-u2H5lK",
        "outputId": "4e8278c7-6f61-4319-e7b8-ecfcdba35638"
      },
      "source": [
        "%%R\n",
        "AnalysisData %>%\n",
        "  summarise(Unique_Elements = n_distinct(AnimalIdentifier))"
      ],
      "execution_count": null,
      "outputs": [
        {
          "output_type": "stream",
          "text": [
            "# A tibble: 1 x 1\n",
            "  Unique_Elements\n",
            "            <int>\n",
            "1            1062\n"
          ],
          "name": "stdout"
        }
      ]
    },
    {
      "cell_type": "markdown",
      "metadata": {
        "id": "Q8Ygm0faH7xJ"
      },
      "source": [
        "# Model building"
      ]
    },
    {
      "cell_type": "markdown",
      "metadata": {
        "id": "lBVwG4FhH96w"
      },
      "source": [
        "First we determine the null model"
      ]
    },
    {
      "cell_type": "markdown",
      "metadata": {
        "id": "R3In3XAH6UNw"
      },
      "source": [
        "## Null model"
      ]
    },
    {
      "cell_type": "code",
      "metadata": {
        "id": "oMj6hll16TdN"
      },
      "source": [
        "%%R\n",
        "Model.0 <- lme4::lmer(\n",
        "                  SensorValue ~ 1 + (1| HerdIdentifier:AnimalIdentifier), \n",
        "                  data = AnalysisData\n",
        "                  )\n"
      ],
      "execution_count": null,
      "outputs": []
    },
    {
      "cell_type": "markdown",
      "metadata": {
        "id": "Y67KPZBG6Vtp"
      },
      "source": [
        "## Univariable models"
      ]
    },
    {
      "cell_type": "code",
      "metadata": {
        "colab": {
          "base_uri": "https://localhost:8080/"
        },
        "id": "BtHdHQiAVH4_",
        "outputId": "6a8305c3-d740-4a53-9cad-906d494a53ff"
      },
      "source": [
        "%%R\n",
        "Model1.0 <- lme4::lmer(\n",
        "                  SensorValue ~ \n",
        "                  MonthsInMilk + \n",
        "                  (1| HerdIdentifier:AnimalIdentifier),\n",
        "                  REML = FALSE,\n",
        "                  data = AnalysisData\n",
        ")\n",
        "anova(Model.0,Model1.0,test=\"Chisq\")"
      ],
      "execution_count": null,
      "outputs": [
        {
          "output_type": "stream",
          "text": [
            "R[write to console]: refitting model(s) with ML (instead of REML)\n",
            "\n"
          ],
          "name": "stderr"
        },
        {
          "output_type": "stream",
          "text": [
            "Data: AnalysisData\n",
            "Models:\n",
            "Model.0: SensorValue ~ 1 + (1 | HerdIdentifier:AnimalIdentifier)\n",
            "Model1.0: SensorValue ~ MonthsInMilk + (1 | HerdIdentifier:AnimalIdentifier)\n",
            "         npar    AIC    BIC  logLik deviance  Chisq Df Pr(>Chisq)    \n",
            "Model.0     3 872346 872372 -436170   872340                         \n",
            "Model1.0   14 871092 871216 -435532   871064 1275.2 11  < 2.2e-16 ***\n",
            "---\n",
            "Signif. codes:  0 ‘***’ 0.001 ‘**’ 0.01 ‘*’ 0.05 ‘.’ 0.1 ‘ ’ 1\n"
          ],
          "name": "stdout"
        }
      ]
    },
    {
      "cell_type": "code",
      "metadata": {
        "colab": {
          "base_uri": "https://localhost:8080/"
        },
        "id": "gMvqQic5VSOL",
        "outputId": "61e375f8-7dbe-48d4-948d-6919edd0d878"
      },
      "source": [
        "%%R\n",
        "Model1.1 <- lme4::lmer(\n",
        "                  SensorValue ~ \n",
        "                  Parity + \n",
        "                  (1| HerdIdentifier:AnimalIdentifier),\n",
        "                  REML = FALSE,\n",
        "                  data = AnalysisData\n",
        "                  )\n",
        "anova(Model.0,Model1.1,test=\"Chisq\")"
      ],
      "execution_count": null,
      "outputs": [
        {
          "output_type": "stream",
          "text": [
            "R[write to console]: refitting model(s) with ML (instead of REML)\n",
            "\n"
          ],
          "name": "stderr"
        },
        {
          "output_type": "stream",
          "text": [
            "Data: AnalysisData\n",
            "Models:\n",
            "Model.0: SensorValue ~ 1 + (1 | HerdIdentifier:AnimalIdentifier)\n",
            "Model1.1: SensorValue ~ Parity + (1 | HerdIdentifier:AnimalIdentifier)\n",
            "         npar    AIC    BIC  logLik deviance Chisq Df Pr(>Chisq)    \n",
            "Model.0     3 872346 872372 -436170   872340                        \n",
            "Model1.1    5 871153 871197 -435571   871143  1197  2  < 2.2e-16 ***\n",
            "---\n",
            "Signif. codes:  0 ‘***’ 0.001 ‘**’ 0.01 ‘*’ 0.05 ‘.’ 0.1 ‘ ’ 1\n"
          ],
          "name": "stdout"
        }
      ]
    },
    {
      "cell_type": "code",
      "metadata": {
        "colab": {
          "base_uri": "https://localhost:8080/"
        },
        "id": "oszGEcBuVUqI",
        "outputId": "3166aac1-90bd-4cfb-a59c-4fb1a7468da5"
      },
      "source": [
        "%%R\n",
        "Model1.2 <- lme4::lmer(\n",
        "                  SensorValue ~ \n",
        "                  CalvingSeason +\n",
        "                  (1| HerdIdentifier:AnimalIdentifier),\n",
        "                  REML = FALSE,\n",
        "                  data = AnalysisData\n",
        "                  )\n",
        "anova(Model.0,Model1.2,test=\"Chisq\")"
      ],
      "execution_count": null,
      "outputs": [
        {
          "output_type": "stream",
          "text": [
            "R[write to console]: refitting model(s) with ML (instead of REML)\n",
            "\n"
          ],
          "name": "stderr"
        },
        {
          "output_type": "stream",
          "text": [
            "Data: AnalysisData\n",
            "Models:\n",
            "Model.0: SensorValue ~ 1 + (1 | HerdIdentifier:AnimalIdentifier)\n",
            "Model1.2: SensorValue ~ CalvingSeason + (1 | HerdIdentifier:AnimalIdentifier)\n",
            "         npar    AIC    BIC  logLik deviance  Chisq Df Pr(>Chisq)\n",
            "Model.0     3 872346 872372 -436170   872340                     \n",
            "Model1.2    6 872346 872399 -436167   872334 5.8148  3      0.121\n"
          ],
          "name": "stdout"
        }
      ]
    },
    {
      "cell_type": "code",
      "metadata": {
        "colab": {
          "base_uri": "https://localhost:8080/"
        },
        "id": "D1LlsEdpVWQP",
        "outputId": "8f1b9d25-f2b4-4368-87a0-47efcd389490"
      },
      "source": [
        "%%R\n",
        "Model1.3 <- lme4::lmer(\n",
        "                  SensorValue ~ \n",
        "                  MilkingType +\n",
        "                  (1| HerdIdentifier:AnimalIdentifier),\n",
        "                  REML = FALSE,\n",
        "                  data = AnalysisData\n",
        "                  )\n",
        "anova(Model.0,Model1.3,test=\"Chisq\")"
      ],
      "execution_count": null,
      "outputs": [
        {
          "output_type": "stream",
          "text": [
            "R[write to console]: refitting model(s) with ML (instead of REML)\n",
            "\n"
          ],
          "name": "stderr"
        },
        {
          "output_type": "stream",
          "text": [
            "Data: AnalysisData\n",
            "Models:\n",
            "Model.0: SensorValue ~ 1 + (1 | HerdIdentifier:AnimalIdentifier)\n",
            "Model1.3: SensorValue ~ MilkingType + (1 | HerdIdentifier:AnimalIdentifier)\n",
            "         npar    AIC    BIC  logLik deviance  Chisq Df Pr(>Chisq)    \n",
            "Model.0     3 872346 872372 -436170   872340                         \n",
            "Model1.3    4 871586 871621 -435789   871578 761.62  1  < 2.2e-16 ***\n",
            "---\n",
            "Signif. codes:  0 ‘***’ 0.001 ‘**’ 0.01 ‘*’ 0.05 ‘.’ 0.1 ‘ ’ 1\n"
          ],
          "name": "stdout"
        }
      ]
    },
    {
      "cell_type": "markdown",
      "metadata": {
        "id": "rKCtlNkpIQSK"
      },
      "source": [
        "## Multivariable models"
      ]
    },
    {
      "cell_type": "code",
      "metadata": {
        "id": "J5cyfRitITft"
      },
      "source": [
        "%%R\n",
        "Model2.0 <- lme4::lmer(\n",
        "                  SensorValue ~ \n",
        "                  Parity + MonthsInMilk + CalvingSeason + MilkingType +\n",
        "                  (1| HerdIdentifier:AnimalIdentifier),\n",
        "                  REML = FALSE,\n",
        "                  data = AnalysisData\n",
        "                  )"
      ],
      "execution_count": null,
      "outputs": []
    },
    {
      "cell_type": "code",
      "metadata": {
        "colab": {
          "base_uri": "https://localhost:8080/"
        },
        "id": "OxqnWFv7IVpE",
        "outputId": "580c74b2-fff2-49b4-fca4-eb8fa9970be3"
      },
      "source": [
        "%%R\n",
        "drop1(Model2.0,test=\"Chisq\")"
      ],
      "execution_count": null,
      "outputs": [
        {
          "output_type": "stream",
          "text": [
            "Single term deletions\n",
            "\n",
            "Model:\n",
            "SensorValue ~ Parity + MonthsInMilk + CalvingSeason + MilkingType + \n",
            "    (1 | HerdIdentifier:AnimalIdentifier)\n",
            "              npar    AIC     LRT Pr(Chi)    \n",
            "<none>             869190                    \n",
            "Parity           2 870337 1150.58  <2e-16 ***\n",
            "MonthsInMilk    11 870372 1203.40  <2e-16 ***\n",
            "CalvingSeason    3 869185    1.07  0.7834    \n",
            "MilkingType      1 869970  781.82  <2e-16 ***\n",
            "---\n",
            "Signif. codes:  0 ‘***’ 0.001 ‘**’ 0.01 ‘*’ 0.05 ‘.’ 0.1 ‘ ’ 1\n"
          ],
          "name": "stdout"
        }
      ]
    },
    {
      "cell_type": "markdown",
      "metadata": {
        "id": "O1Z0pKt0IYJH"
      },
      "source": [
        "## Introduction of interactions"
      ]
    },
    {
      "cell_type": "markdown",
      "metadata": {
        "id": "qkbdVjTLIbmO"
      },
      "source": [
        "### Interactions with MonthsInMilk"
      ]
    },
    {
      "cell_type": "code",
      "metadata": {
        "colab": {
          "base_uri": "https://localhost:8080/"
        },
        "id": "stz96VdDIe2O",
        "outputId": "928ceccd-6b19-497c-8b37-0710a68ffb7f"
      },
      "source": [
        "%%R\n",
        "Model2.1 <- lme4::lmer(\n",
        "                  SensorValue ~ \n",
        "                  MonthsInMilk*Parity + CalvingSeason + MilkingType +\n",
        "                  (1| HerdIdentifier:AnimalIdentifier),\n",
        "                  REML = FALSE,\n",
        "                  data = AnalysisData\n",
        "                  )\n",
        "anova(Model2.0,Model2.1,test=\"Chisq\")"
      ],
      "execution_count": null,
      "outputs": [
        {
          "output_type": "stream",
          "text": [
            "Data: AnalysisData\n",
            "Models:\n",
            "Model2.0: SensorValue ~ Parity + MonthsInMilk + CalvingSeason + MilkingType + \n",
            "Model2.0:     (1 | HerdIdentifier:AnimalIdentifier)\n",
            "Model2.1: SensorValue ~ MonthsInMilk * Parity + CalvingSeason + MilkingType + \n",
            "Model2.1:     (1 | HerdIdentifier:AnimalIdentifier)\n",
            "         npar    AIC    BIC  logLik deviance  Chisq Df Pr(>Chisq)    \n",
            "Model2.0   20 869190 869367 -434575   869150                         \n",
            "Model2.1   42 868855 869226 -434386   868771 379.01 22  < 2.2e-16 ***\n",
            "---\n",
            "Signif. codes:  0 ‘***’ 0.001 ‘**’ 0.01 ‘*’ 0.05 ‘.’ 0.1 ‘ ’ 1\n"
          ],
          "name": "stdout"
        }
      ]
    },
    {
      "cell_type": "code",
      "metadata": {
        "colab": {
          "base_uri": "https://localhost:8080/"
        },
        "id": "twSFafJWIhZc",
        "outputId": "c0740275-592a-4f7b-eb44-dae0ea685932"
      },
      "source": [
        "%%R\n",
        "Model2.2 <- lme4::lmer(\n",
        "                  SensorValue ~ \n",
        "                  MonthsInMilk*MilkingType + CalvingSeason + Parity +\n",
        "                  (1| HerdIdentifier:AnimalIdentifier),\n",
        "                  REML = FALSE,\n",
        "                  data = AnalysisData\n",
        "                  )\n",
        "anova(Model2.0,Model2.2,test=\"Chisq\")"
      ],
      "execution_count": null,
      "outputs": [
        {
          "output_type": "stream",
          "text": [
            "Data: AnalysisData\n",
            "Models:\n",
            "Model2.0: SensorValue ~ Parity + MonthsInMilk + CalvingSeason + MilkingType + \n",
            "Model2.0:     (1 | HerdIdentifier:AnimalIdentifier)\n",
            "Model2.2: SensorValue ~ MonthsInMilk * MilkingType + CalvingSeason + Parity + \n",
            "Model2.2:     (1 | HerdIdentifier:AnimalIdentifier)\n",
            "         npar    AIC    BIC  logLik deviance Chisq Df Pr(>Chisq)    \n",
            "Model2.0   20 869190 869367 -434575   869150                        \n",
            "Model2.2   31 868995 869268 -434466   868933 217.8 11  < 2.2e-16 ***\n",
            "---\n",
            "Signif. codes:  0 ‘***’ 0.001 ‘**’ 0.01 ‘*’ 0.05 ‘.’ 0.1 ‘ ’ 1\n"
          ],
          "name": "stdout"
        }
      ]
    },
    {
      "cell_type": "code",
      "metadata": {
        "colab": {
          "base_uri": "https://localhost:8080/"
        },
        "id": "_SQqG2sDIjVy",
        "outputId": "1027a9b7-cda2-4ea9-bd9f-8396a9ee9f9d"
      },
      "source": [
        "%%R\n",
        "Model2.3 <- lme4::lmer(\n",
        "                  SensorValue ~ \n",
        "                  MonthsInMilk*CalvingSeason + Parity + MilkingType +\n",
        "                  (1| HerdIdentifier:AnimalIdentifier),\n",
        "                  REML = FALSE,\n",
        "                  data = AnalysisData\n",
        "                  )\n",
        "anova(Model2.0,Model2.3,test=\"Chisq\")"
      ],
      "execution_count": null,
      "outputs": [
        {
          "output_type": "stream",
          "text": [
            "Data: AnalysisData\n",
            "Models:\n",
            "Model2.0: SensorValue ~ Parity + MonthsInMilk + CalvingSeason + MilkingType + \n",
            "Model2.0:     (1 | HerdIdentifier:AnimalIdentifier)\n",
            "Model2.3: SensorValue ~ MonthsInMilk * CalvingSeason + Parity + MilkingType + \n",
            "Model2.3:     (1 | HerdIdentifier:AnimalIdentifier)\n",
            "         npar    AIC    BIC  logLik deviance Chisq Df Pr(>Chisq)    \n",
            "Model2.0   20 869190 869367 -434575   869150                        \n",
            "Model2.3   53 855310 855777 -427602   855204 13947 33  < 2.2e-16 ***\n",
            "---\n",
            "Signif. codes:  0 ‘***’ 0.001 ‘**’ 0.01 ‘*’ 0.05 ‘.’ 0.1 ‘ ’ 1\n"
          ],
          "name": "stdout"
        }
      ]
    },
    {
      "cell_type": "markdown",
      "metadata": {
        "id": "qsEDIRM8Ilp2"
      },
      "source": [
        "## Multiple interactions"
      ]
    },
    {
      "cell_type": "code",
      "metadata": {
        "colab": {
          "base_uri": "https://localhost:8080/"
        },
        "id": "fWCykQhYIow_",
        "outputId": "0a3fad9c-1d8b-41da-9d11-2afb4092a3e2"
      },
      "source": [
        "%%R\n",
        "Model2.4 <- lme4::lmer(\n",
        "                  SensorValue ~ \n",
        "                  MonthsInMilk*CalvingSeason + \n",
        "                  MonthsInMilk*Parity + \n",
        "                  MonthsInMilk*MilkingType +\n",
        "                  (1| HerdIdentifier:AnimalIdentifier),\n",
        "                  REML = FALSE,\n",
        "                  data = AnalysisData\n",
        "                  )\n",
        "anova(Model2.0,Model2.4,test=\"Chisq\")"
      ],
      "execution_count": null,
      "outputs": [
        {
          "output_type": "stream",
          "text": [
            "Data: AnalysisData\n",
            "Models:\n",
            "Model2.0: SensorValue ~ Parity + MonthsInMilk + CalvingSeason + MilkingType + \n",
            "Model2.0:     (1 | HerdIdentifier:AnimalIdentifier)\n",
            "Model2.4: SensorValue ~ MonthsInMilk * CalvingSeason + MonthsInMilk * Parity + \n",
            "Model2.4:     MonthsInMilk * MilkingType + (1 | HerdIdentifier:AnimalIdentifier)\n",
            "         npar    AIC    BIC  logLik deviance Chisq Df Pr(>Chisq)    \n",
            "Model2.0   20 869190 869367 -434575   869150                        \n",
            "Model2.4   86 854680 855439 -427254   854508 14642 66  < 2.2e-16 ***\n",
            "---\n",
            "Signif. codes:  0 ‘***’ 0.001 ‘**’ 0.01 ‘*’ 0.05 ‘.’ 0.1 ‘ ’ 1\n"
          ],
          "name": "stdout"
        }
      ]
    },
    {
      "cell_type": "code",
      "metadata": {
        "colab": {
          "base_uri": "https://localhost:8080/"
        },
        "id": "9WI6VTSnIsYm",
        "outputId": "363c636d-040e-4ec6-8d05-a7c690397546"
      },
      "source": [
        "%%R\n",
        "summary(Model2.4)"
      ],
      "execution_count": null,
      "outputs": [
        {
          "output_type": "stream",
          "text": [
            "Linear mixed model fit by maximum likelihood  ['lmerMod']\n",
            "Formula: SensorValue ~ MonthsInMilk * CalvingSeason + MonthsInMilk * Parity +  \n",
            "    MonthsInMilk * MilkingType + (1 | HerdIdentifier:AnimalIdentifier)\n",
            "   Data: AnalysisData\n",
            "\n",
            "      AIC       BIC    logLik  deviance  df.resid \n",
            " 854680.1  855439.0 -427254.1  854508.1     50102 \n",
            "\n",
            "Scaled residuals: \n",
            "    Min      1Q  Median      3Q     Max \n",
            "-5.1066 -0.6059 -0.1094  0.4713 12.0131 \n",
            "\n",
            "Random effects:\n",
            " Groups                          Name        Variance Std.Dev.\n",
            " HerdIdentifier:AnimalIdentifier (Intercept)  413823   643.3  \n",
            " Residual                                    1349823  1161.8  \n",
            "Number of obs: 50188, groups:  HerdIdentifier:AnimalIdentifier, 1702\n",
            "\n",
            "Fixed effects:\n",
            "                                   Estimate Std. Error t value\n",
            "(Intercept)                         3556.77      71.28  49.901\n",
            "MonthsInMilk0                        471.51      83.08   5.675\n",
            "MonthsInMilk1                        528.72      85.34   6.195\n",
            "MonthsInMilk2                       -166.85      84.07  -1.985\n",
            "MonthsInMilk3                       -541.88      85.83  -6.314\n",
            "MonthsInMilk4                       -738.08      85.39  -8.644\n",
            "MonthsInMilk5                       -601.39      83.59  -7.195\n",
            "MonthsInMilk6                       -411.55      83.98  -4.900\n",
            "MonthsInMilk7                       -157.32      83.65  -1.881\n",
            "MonthsInMilk8                        580.30      85.61   6.779\n",
            "MonthsInMilk9                        712.82      85.39   8.348\n",
            "MonthsInMilk10                       557.37      84.71   6.580\n",
            "CalvingSeasonSpring                -1492.71      56.13 -26.593\n",
            "CalvingSeasonSummer                   26.27      52.96   0.496\n",
            "CalvingSeasonWinter                -1633.03      54.87 -29.762\n",
            "Parity2                              263.66      60.97   4.325\n",
            "Parity3+                            -281.77      54.89  -5.133\n",
            "MilkingTypeCMS                       860.20      53.48  16.084\n",
            "MonthsInMilk0:CalvingSeasonSpring    743.87      70.34  10.576\n",
            "MonthsInMilk1:CalvingSeasonSpring   2205.08      73.46  30.017\n",
            "MonthsInMilk2:CalvingSeasonSpring   3219.70      75.94  42.400\n",
            "MonthsInMilk3:CalvingSeasonSpring   3455.64      77.79  44.422\n",
            "MonthsInMilk4:CalvingSeasonSpring   3279.56      77.36  42.393\n",
            "MonthsInMilk5:CalvingSeasonSpring   2773.69      74.71  37.128\n",
            "MonthsInMilk6:CalvingSeasonSpring   1975.34      72.49  27.248\n",
            "MonthsInMilk7:CalvingSeasonSpring   1160.29      73.24  15.842\n",
            "MonthsInMilk8:CalvingSeasonSpring     73.85      76.03   0.971\n",
            "MonthsInMilk9:CalvingSeasonSpring   -398.94      79.52  -5.017\n",
            "MonthsInMilk10:CalvingSeasonSpring  -373.99      79.58  -4.700\n",
            "MonthsInMilk0:CalvingSeasonSummer    648.93      67.39   9.630\n",
            "MonthsInMilk1:CalvingSeasonSummer   1026.87      69.52  14.770\n",
            "MonthsInMilk2:CalvingSeasonSummer   1129.10      68.79  16.413\n",
            "MonthsInMilk3:CalvingSeasonSummer    774.57      70.00  11.065\n",
            "MonthsInMilk4:CalvingSeasonSummer    454.98      70.27   6.475\n",
            "MonthsInMilk5:CalvingSeasonSummer    -59.76      68.96  -0.867\n",
            "MonthsInMilk6:CalvingSeasonSummer   -546.11      72.22  -7.562\n",
            "MonthsInMilk7:CalvingSeasonSummer   -930.43      72.27 -12.874\n",
            "MonthsInMilk8:CalvingSeasonSummer  -1492.98      72.71 -20.532\n",
            "MonthsInMilk9:CalvingSeasonSummer  -1364.39      72.52 -18.814\n",
            "MonthsInMilk10:CalvingSeasonSummer  -817.25      72.39 -11.290\n",
            "MonthsInMilk0:CalvingSeasonWinter    418.09      70.93   5.894\n",
            "MonthsInMilk1:CalvingSeasonWinter   1049.07      74.49  14.083\n",
            "MonthsInMilk2:CalvingSeasonWinter   1664.68      72.14  23.077\n",
            "MonthsInMilk3:CalvingSeasonWinter   2195.85      74.82  29.348\n",
            "MonthsInMilk4:CalvingSeasonWinter   2673.94      74.99  35.657\n",
            "MonthsInMilk5:CalvingSeasonWinter   3215.06      75.86  42.383\n",
            "MonthsInMilk6:CalvingSeasonWinter   3076.52      75.80  40.589\n",
            "MonthsInMilk7:CalvingSeasonWinter   2600.36      74.79  34.769\n",
            "MonthsInMilk8:CalvingSeasonWinter   1653.06      76.32  21.660\n",
            "MonthsInMilk9:CalvingSeasonWinter    888.87      74.04  12.006\n",
            "MonthsInMilk10:CalvingSeasonWinter   468.21      73.44   6.376\n",
            "MonthsInMilk0:Parity2               -919.49      78.17 -11.763\n",
            "MonthsInMilk1:Parity2              -1055.98      80.34 -13.143\n",
            "MonthsInMilk2:Parity2               -939.83      79.43 -11.831\n",
            "MonthsInMilk3:Parity2               -835.51      79.33 -10.532\n",
            "MonthsInMilk4:Parity2               -678.33      79.10  -8.576\n",
            "MonthsInMilk5:Parity2               -691.75      78.98  -8.759\n",
            "MonthsInMilk6:Parity2               -675.68      79.21  -8.530\n",
            "MonthsInMilk7:Parity2               -585.57      79.13  -7.401\n",
            "MonthsInMilk8:Parity2               -678.10      79.32  -8.549\n",
            "MonthsInMilk9:Parity2               -635.53      79.33  -8.012\n",
            "MonthsInMilk10:Parity2              -573.05      79.28  -7.228\n",
            "MonthsInMilk0:Parity3+              -797.63      68.94 -11.570\n",
            "MonthsInMilk1:Parity3+             -1026.97      70.92 -14.481\n",
            "MonthsInMilk2:Parity3+              -737.92      70.21 -10.510\n",
            "MonthsInMilk3:Parity3+              -546.59      69.99  -7.809\n",
            "MonthsInMilk4:Parity3+              -303.80      69.92  -4.345\n",
            "MonthsInMilk5:Parity3+              -352.95      69.79  -5.057\n",
            "MonthsInMilk6:Parity3+              -293.15      70.10  -4.182\n",
            "MonthsInMilk7:Parity3+              -224.47      70.09  -3.203\n",
            "MonthsInMilk8:Parity3+              -306.88      70.06  -4.381\n",
            "MonthsInMilk9:Parity3+              -269.31      70.14  -3.840\n",
            "MonthsInMilk10:Parity3+             -191.79      70.08  -2.737\n",
            "MonthsInMilk0:MilkingTypeCMS         -21.06      54.78  -0.384\n",
            "MonthsInMilk1:MilkingTypeCMS         271.94      56.99   4.772\n",
            "MonthsInMilk2:MilkingTypeCMS         294.56      56.48   5.215\n",
            "MonthsInMilk3:MilkingTypeCMS         225.12      56.29   3.999\n",
            "MonthsInMilk4:MilkingTypeCMS         163.00      56.26   2.897\n",
            "MonthsInMilk5:MilkingTypeCMS         255.41      56.29   4.537\n",
            "MonthsInMilk6:MilkingTypeCMS         294.05      56.68   5.187\n",
            "MonthsInMilk7:MilkingTypeCMS         374.89      56.73   6.609\n",
            "MonthsInMilk8:MilkingTypeCMS         400.29      56.73   7.056\n",
            "MonthsInMilk9:MilkingTypeCMS         431.30      56.79   7.595\n",
            "MonthsInMilk10:MilkingTypeCMS        458.72      56.93   8.058\n"
          ],
          "name": "stdout"
        },
        {
          "output_type": "stream",
          "text": [
            "R[write to console]: \n",
            "Correlation matrix not shown by default, as p = 84 > 12.\n",
            "Use print(object, correlation=TRUE)  or\n",
            "    vcov(object)        if you need it\n",
            "\n",
            "\n"
          ],
          "name": "stderr"
        }
      ]
    },
    {
      "cell_type": "code",
      "metadata": {
        "colab": {
          "base_uri": "https://localhost:8080/"
        },
        "id": "jDNiR7eTIuyR",
        "outputId": "1d1cbd8e-1abf-4fd6-f83d-7d367e7c1a92"
      },
      "source": [
        "%%R\n",
        "finalModel <- Model2.4\n",
        "Modeldrop <- drop1(finalModel, test=\"Chisq\")\n",
        "if(\"Pr(>F)\" %in% colnames(Modeldrop))\n",
        "{\n",
        "  Pvalues <- Modeldrop$`Pr(>F)`\n",
        "} else \n",
        "{\n",
        "  Pvalues <- Modeldrop$`Pr(Chi)`\n",
        "}\n",
        "Modeldrop"
      ],
      "execution_count": null,
      "outputs": [
        {
          "output_type": "stream",
          "text": [
            "Single term deletions\n",
            "\n",
            "Model:\n",
            "SensorValue ~ MonthsInMilk * CalvingSeason + MonthsInMilk * Parity + \n",
            "    MonthsInMilk * MilkingType + (1 | HerdIdentifier:AnimalIdentifier)\n",
            "                           npar    AIC     LRT   Pr(Chi)    \n",
            "<none>                          854680                      \n",
            "MonthsInMilk:CalvingSeason   33 868661 14047.2 < 2.2e-16 ***\n",
            "MonthsInMilk:Parity          22 855163   527.0 < 2.2e-16 ***\n",
            "MonthsInMilk:MilkingType     11 854829   171.2 < 2.2e-16 ***\n",
            "---\n",
            "Signif. codes:  0 ‘***’ 0.001 ‘**’ 0.01 ‘*’ 0.05 ‘.’ 0.1 ‘ ’ 1\n"
          ],
          "name": "stdout"
        }
      ]
    },
    {
      "cell_type": "code",
      "metadata": {
        "id": "hYZqCVt7IxPn"
      },
      "source": [
        "%%R\n",
        "save(finalModel, file=\"/content/drive/Shareddrives/Bovi-Analytics/Projects/SenseOfSensors/CsvData/SensorAggRepartitioned08032021/finalmodellegactivity.rdata\")"
      ],
      "execution_count": null,
      "outputs": []
    },
    {
      "cell_type": "markdown",
      "metadata": {
        "id": "0k-LA_b1I2Pf"
      },
      "source": [
        "# Final model analysis of variance"
      ]
    },
    {
      "cell_type": "code",
      "metadata": {
        "colab": {
          "base_uri": "https://localhost:8080/"
        },
        "id": "AeOcQ60YI54p",
        "outputId": "489ae860-f6d2-4704-d67e-eea2b1d54b15"
      },
      "source": [
        "%%R\n",
        "Anova(finalModel)"
      ],
      "execution_count": null,
      "outputs": [
        {
          "output_type": "stream",
          "text": [
            "Analysis of Deviance Table (Type II Wald chisquare tests)\n",
            "\n",
            "Response: SensorValue\n",
            "                                Chisq Df Pr(>Chisq)    \n",
            "MonthsInMilk                1642.7086 11     <2e-16 ***\n",
            "CalvingSeason                  1.5292  3     0.6756    \n",
            "Parity                      1844.3295  2     <2e-16 ***\n",
            "MilkingType                  943.7497  1     <2e-16 ***\n",
            "MonthsInMilk:CalvingSeason 16272.0621 33     <2e-16 ***\n",
            "MonthsInMilk:Parity          529.9491 22     <2e-16 ***\n",
            "MonthsInMilk:MilkingType     171.5349 11     <2e-16 ***\n",
            "---\n",
            "Signif. codes:  0 ‘***’ 0.001 ‘**’ 0.01 ‘*’ 0.05 ‘.’ 0.1 ‘ ’ 1\n"
          ],
          "name": "stdout"
        }
      ]
    },
    {
      "cell_type": "markdown",
      "metadata": {
        "id": "mfDT9HZpI8EG"
      },
      "source": [
        "# Final model figures and LSM (95% CI)"
      ]
    },
    {
      "cell_type": "markdown",
      "metadata": {
        "id": "_5Bjq8LFJATn"
      },
      "source": [
        "## Main effects"
      ]
    },
    {
      "cell_type": "code",
      "metadata": {
        "colab": {
          "base_uri": "https://localhost:8080/"
        },
        "id": "NV4bLGwMJCNl",
        "outputId": "eccfa325-f01d-4c35-f440-fa1685e6e227"
      },
      "source": [
        "%%R\n",
        "multcomp::cld(lsmeans::lsmeans(finalModel, ~ MonthsInMilk), alpha=0.05, Letters=letters, adjust=\"tukey\")"
      ],
      "execution_count": null,
      "outputs": [
        {
          "output_type": "stream",
          "text": [
            "R[write to console]: Note: D.f. calculations have been disabled because the number of observations exceeds 3000.\n",
            "To enable adjustments, add the argument 'pbkrtest.limit = 50188' (or larger)\n",
            "[or, globally, 'set emm_options(pbkrtest.limit = 50188)' or larger];\n",
            "but be warned that this may result in large computation time and memory use.\n",
            "\n",
            "R[write to console]: Note: D.f. calculations have been disabled because the number of observations exceeds 3000.\n",
            "To enable adjustments, add the argument 'lmerTest.limit = 50188' (or larger)\n",
            "[or, globally, 'set emm_options(lmerTest.limit = 50188)' or larger];\n",
            "but be warned that this may result in large computation time and memory use.\n",
            "\n",
            "R[write to console]: NOTE: Results may be misleading due to involvement in interactions\n",
            "\n",
            "R[write to console]: Note: adjust = \"tukey\" was changed to \"sidak\"\n",
            "because \"tukey\" is only appropriate for one set of pairwise comparisons\n",
            "\n"
          ],
          "name": "stderr"
        },
        {
          "output_type": "stream",
          "text": [
            " MonthsInMilk lsmean   SE  df asymp.LCL asymp.UCL .group    \n",
            " -1             3206 29.0 Inf      3123      3289  a        \n",
            " 0              3547 26.5 Inf      3471      3623   b       \n",
            " 10             3557 27.0 Inf      3480      3634   b       \n",
            " 9              3614 26.9 Inf      3537      3691   bc      \n",
            " 7              3674 26.8 Inf      3597      3750    cd     \n",
            " 8              3717 26.7 Inf      3640      3793     d     \n",
            " 6              3745 26.8 Inf      3668      3822     de    \n",
            " 4              3824 26.9 Inf      3747      3901      ef   \n",
            " 5              3866 26.9 Inf      3789      3943       fg  \n",
            " 3              3922 27.1 Inf      3845      4000        g  \n",
            " 2              4131 27.3 Inf      4053      4209         h \n",
            " 1              4247 27.6 Inf      4168      4325          i\n",
            "\n",
            "Results are averaged over the levels of: CalvingSeason, Parity, MilkingType \n",
            "Degrees-of-freedom method: asymptotic \n",
            "Confidence level used: 0.95 \n",
            "Conf-level adjustment: sidak method for 12 estimates \n",
            "P value adjustment: tukey method for comparing a family of 12 estimates \n",
            "significance level used: alpha = 0.05 \n"
          ],
          "name": "stdout"
        }
      ]
    },
    {
      "cell_type": "code",
      "metadata": {
        "colab": {
          "base_uri": "https://localhost:8080/"
        },
        "id": "1JsnqOeEJFZD",
        "outputId": "b41e57cf-e249-43d2-f6de-b3e952316438"
      },
      "source": [
        "%%R\n",
        "multcomp::cld(lsmeans::lsmeans(finalModel, ~ Parity), alpha=0.05, Letters=letters, adjust=\"tukey\")"
      ],
      "execution_count": null,
      "outputs": [
        {
          "output_type": "stream",
          "text": [
            "R[write to console]: Note: D.f. calculations have been disabled because the number of observations exceeds 3000.\n",
            "To enable adjustments, add the argument 'pbkrtest.limit = 50188' (or larger)\n",
            "[or, globally, 'set emm_options(pbkrtest.limit = 50188)' or larger];\n",
            "but be warned that this may result in large computation time and memory use.\n",
            "\n",
            "R[write to console]: Note: D.f. calculations have been disabled because the number of observations exceeds 3000.\n",
            "To enable adjustments, add the argument 'lmerTest.limit = 50188' (or larger)\n",
            "[or, globally, 'set emm_options(lmerTest.limit = 50188)' or larger];\n",
            "but be warned that this may result in large computation time and memory use.\n",
            "\n",
            "R[write to console]: NOTE: Results may be misleading due to involvement in interactions\n",
            "\n",
            "R[write to console]: Note: adjust = \"tukey\" was changed to \"sidak\"\n",
            "because \"tukey\" is only appropriate for one set of pairwise comparisons\n",
            "\n"
          ],
          "name": "stderr"
        },
        {
          "output_type": "stream",
          "text": [
            " Parity lsmean   SE  df asymp.LCL asymp.UCL .group\n",
            " 3+       3427 19.7 Inf      3380      3474  a    \n",
            " 2        3705 20.7 Inf      3655      3754   b   \n",
            " 1        4130 21.1 Inf      4080      4181    c  \n",
            "\n",
            "Results are averaged over the levels of: MonthsInMilk, CalvingSeason, MilkingType \n",
            "Degrees-of-freedom method: asymptotic \n",
            "Confidence level used: 0.95 \n",
            "Conf-level adjustment: sidak method for 3 estimates \n",
            "P value adjustment: tukey method for comparing a family of 3 estimates \n",
            "significance level used: alpha = 0.05 \n"
          ],
          "name": "stdout"
        }
      ]
    },
    {
      "cell_type": "code",
      "metadata": {
        "colab": {
          "base_uri": "https://localhost:8080/"
        },
        "id": "cn6aW4AkJG99",
        "outputId": "8a2bd673-0ff2-4e3a-8c38-ddd843f0c8bf"
      },
      "source": [
        "%%R\n",
        "multcomp::cld(lsmeans::lsmeans(finalModel, ~ CalvingSeason), alpha=0.05, Letters=letters, adjust=\"tukey\")"
      ],
      "execution_count": null,
      "outputs": [
        {
          "output_type": "stream",
          "text": [
            "R[write to console]: Note: D.f. calculations have been disabled because the number of observations exceeds 3000.\n",
            "To enable adjustments, add the argument 'pbkrtest.limit = 50188' (or larger)\n",
            "[or, globally, 'set emm_options(pbkrtest.limit = 50188)' or larger];\n",
            "but be warned that this may result in large computation time and memory use.\n",
            "\n",
            "R[write to console]: Note: D.f. calculations have been disabled because the number of observations exceeds 3000.\n",
            "To enable adjustments, add the argument 'lmerTest.limit = 50188' (or larger)\n",
            "[or, globally, 'set emm_options(lmerTest.limit = 50188)' or larger];\n",
            "but be warned that this may result in large computation time and memory use.\n",
            "\n",
            "R[write to console]: NOTE: Results may be misleading due to involvement in interactions\n",
            "\n",
            "R[write to console]: Note: adjust = \"tukey\" was changed to \"sidak\"\n",
            "because \"tukey\" is only appropriate for one set of pairwise comparisons\n",
            "\n"
          ],
          "name": "stderr"
        },
        {
          "output_type": "stream",
          "text": [
            " CalvingSeason lsmean   SE  df asymp.LCL asymp.UCL .group\n",
            " Summer          3690 22.1 Inf      3635      3745  a    \n",
            " Autumn          3761 22.1 Inf      3706      3816   b   \n",
            " Spring          3778 23.3 Inf      3720      3836   b   \n",
            " Winter          3787 23.3 Inf      3729      3845   b   \n",
            "\n",
            "Results are averaged over the levels of: MonthsInMilk, Parity, MilkingType \n",
            "Degrees-of-freedom method: asymptotic \n",
            "Confidence level used: 0.95 \n",
            "Conf-level adjustment: sidak method for 4 estimates \n",
            "P value adjustment: tukey method for comparing a family of 4 estimates \n",
            "significance level used: alpha = 0.05 \n"
          ],
          "name": "stdout"
        }
      ]
    },
    {
      "cell_type": "code",
      "metadata": {
        "colab": {
          "base_uri": "https://localhost:8080/"
        },
        "id": "cltz4AjmJK7O",
        "outputId": "9f646ca8-53c0-4e27-b76b-7e67dbb5ac4c"
      },
      "source": [
        "%%R\n",
        "multcomp::cld(lsmeans::lsmeans(finalModel, ~ MilkingType), alpha=0.05, Letters=letters, adjust=\"tukey\")"
      ],
      "execution_count": null,
      "outputs": [
        {
          "output_type": "stream",
          "text": [
            "R[write to console]: Note: D.f. calculations have been disabled because the number of observations exceeds 3000.\n",
            "To enable adjustments, add the argument 'pbkrtest.limit = 50188' (or larger)\n",
            "[or, globally, 'set emm_options(pbkrtest.limit = 50188)' or larger];\n",
            "but be warned that this may result in large computation time and memory use.\n",
            "\n",
            "R[write to console]: Note: D.f. calculations have been disabled because the number of observations exceeds 3000.\n",
            "To enable adjustments, add the argument 'lmerTest.limit = 50188' (or larger)\n",
            "[or, globally, 'set emm_options(lmerTest.limit = 50188)' or larger];\n",
            "but be warned that this may result in large computation time and memory use.\n",
            "\n",
            "R[write to console]: NOTE: Results may be misleading due to involvement in interactions\n",
            "\n",
            "R[write to console]: Note: adjust = \"tukey\" was changed to \"sidak\"\n",
            "because \"tukey\" is only appropriate for one set of pairwise comparisons\n",
            "\n"
          ],
          "name": "stderr"
        },
        {
          "output_type": "stream",
          "text": [
            " MilkingType lsmean   SE  df asymp.LCL asymp.UCL .group\n",
            " AMS           3193 30.2 Inf      3125      3260  a    \n",
            " CMS           4315 20.5 Inf      4270      4361   b   \n",
            "\n",
            "Results are averaged over the levels of: MonthsInMilk, CalvingSeason, Parity \n",
            "Degrees-of-freedom method: asymptotic \n",
            "Confidence level used: 0.95 \n",
            "Conf-level adjustment: sidak method for 2 estimates \n",
            "significance level used: alpha = 0.05 \n"
          ],
          "name": "stdout"
        }
      ]
    },
    {
      "cell_type": "markdown",
      "metadata": {
        "id": "s016BqgYJNE1"
      },
      "source": [
        "## Interactions"
      ]
    },
    {
      "cell_type": "markdown",
      "metadata": {
        "id": "UeKPS23sJPid"
      },
      "source": [
        "### MonthsInMilk by parity"
      ]
    },
    {
      "cell_type": "code",
      "metadata": {
        "colab": {
          "base_uri": "https://localhost:8080/"
        },
        "id": "aAR0sg5NJb9t",
        "outputId": "cb618bb2-b054-4929-8289-0b019d892cd1"
      },
      "source": [
        "%%R\n",
        "LSMs<-lsmeans::lsmeans(finalModel, pairwise ~ MonthsInMilk|Parity, type = \"response\", glhargs=list())\n",
        "multcomp::cld(LSMs[[1]], alpha=0.05, Letters=letters, adjust=\"tukey\")"
      ],
      "execution_count": null,
      "outputs": [
        {
          "output_type": "stream",
          "text": [
            "R[write to console]: Note: D.f. calculations have been disabled because the number of observations exceeds 3000.\n",
            "To enable adjustments, add the argument 'pbkrtest.limit = 50188' (or larger)\n",
            "[or, globally, 'set emm_options(pbkrtest.limit = 50188)' or larger];\n",
            "but be warned that this may result in large computation time and memory use.\n",
            "\n",
            "R[write to console]: Note: D.f. calculations have been disabled because the number of observations exceeds 3000.\n",
            "To enable adjustments, add the argument 'lmerTest.limit = 50188' (or larger)\n",
            "[or, globally, 'set emm_options(lmerTest.limit = 50188)' or larger];\n",
            "but be warned that this may result in large computation time and memory use.\n",
            "\n",
            "R[write to console]: Note: adjust = \"tukey\" was changed to \"sidak\"\n",
            "because \"tukey\" is only appropriate for one set of pairwise comparisons\n",
            "\n"
          ],
          "name": "stderr"
        },
        {
          "output_type": "stream",
          "text": [
            "Parity = 1:\n",
            " MonthsInMilk lsmean   SE  df asymp.LCL asymp.UCL .group   \n",
            " -1             3212 52.0 Inf      3063      3361  a       \n",
            " 10             3818 39.8 Inf      3704      3932   b      \n",
            " 9              3922 40.1 Inf      3807      4037   bc     \n",
            " 7              3950 40.6 Inf      3834      4066   bc     \n",
            " 8              4051 40.2 Inf      3936      4166    cd    \n",
            " 6              4074 41.1 Inf      3957      4191    cde   \n",
            " 0              4126 42.5 Inf      4004      4247     de   \n",
            " 4              4158 41.5 Inf      4039      4276     de   \n",
            " 5              4221 41.0 Inf      4103      4338      ef  \n",
            " 3              4389 42.0 Inf      4269      4509       f  \n",
            " 2              4696 42.8 Inf      4574      4818        g \n",
            " 1              4947 44.2 Inf      4821      5073         h\n",
            "\n",
            "Parity = 2:\n",
            " MonthsInMilk lsmean   SE  df asymp.LCL asymp.UCL .group   \n",
            " 0              3470 38.6 Inf      3359      3580  a       \n",
            " -1             3476 41.9 Inf      3356      3596  ab      \n",
            " 10             3509 41.6 Inf      3390      3628  abc     \n",
            " 9              3550 41.3 Inf      3432      3668  abc     \n",
            " 7              3628 40.8 Inf      3511      3744  abcd    \n",
            " 8              3636 41.1 Inf      3519      3754   bcd    \n",
            " 6              3662 40.6 Inf      3546      3778    cde   \n",
            " 4              3743 40.3 Inf      3628      3858     de   \n",
            " 5              3792 40.6 Inf      3677      3908     de   \n",
            " 3              3817 40.4 Inf      3702      3933      e   \n",
            " 2              4020 40.4 Inf      3904      4135       f  \n",
            " 1              4155 40.9 Inf      4038      4271       f  \n",
            "\n",
            "Parity = 3+:\n",
            " MonthsInMilk lsmean   SE  df asymp.LCL asymp.UCL .group   \n",
            " -1             2930 31.5 Inf      2840      3020  a       \n",
            " 0              3046 29.6 Inf      2962      3131   b      \n",
            " 10             3344 33.8 Inf      3248      3441    c     \n",
            " 9              3371 33.4 Inf      3275      3466    c     \n",
            " 7              3443 32.9 Inf      3350      3537    cd    \n",
            " 8              3462 33.0 Inf      3368      3557    cde   \n",
            " 6              3499 32.7 Inf      3406      3592     de   \n",
            " 3              3561 32.0 Inf      3469      3652     def  \n",
            " 4              3572 32.2 Inf      3480      3664      ef  \n",
            " 5              3586 32.4 Inf      3493      3679      ef  \n",
            " 1              3638 31.8 Inf      3547      3729       f  \n",
            " 2              3676 31.9 Inf      3585      3767       f  \n",
            "\n",
            "Results are averaged over the levels of: CalvingSeason, MilkingType \n",
            "Degrees-of-freedom method: asymptotic \n",
            "Confidence level used: 0.95 \n",
            "Conf-level adjustment: sidak method for 12 estimates \n",
            "P value adjustment: tukey method for comparing a family of 12 estimates \n",
            "significance level used: alpha = 0.05 \n"
          ],
          "name": "stdout"
        }
      ]
    },
    {
      "cell_type": "code",
      "metadata": {
        "colab": {
          "base_uri": "https://localhost:8080/",
          "height": 497
        },
        "id": "GfuzfFn0Jfqj",
        "outputId": "109e0a69-53c2-4e45-af6a-61afe08b2ee5"
      },
      "source": [
        "%%R\n",
        "dfPValues <- summary(LSMs)[[2]]\n",
        "dfLMSs <- summary(LSMs)[[1]]\n",
        "dfLMSs %>% \n",
        "  mutate(label = if_else(MonthsInMilk == max(as.numeric(MonthsInMilk)), as.character(Parity), NA_character_)) %>%\n",
        "  ggplot(\n",
        "  aes(\n",
        "    x=MonthsInMilk,\n",
        "    y=lsmean,\n",
        "    group=Parity, \n",
        "    color=Parity)\n",
        "    ) +\n",
        "  geom_line() +  \n",
        "  geom_errorbar(\n",
        "    aes(ymin=asymp.LCL, \n",
        "        ymax=asymp.UCL), \n",
        "    width=.2,\n",
        "    position=position_dodge(0.05)) +\n",
        "  labs(\n",
        "    title = \"Leg activity (no. of steps/day)\", \n",
        "    y=\"No. of steps per day\" , \n",
        "    x = \"Months in milk\") +\n",
        "  theme_bw() +\n",
        "  theme(plot.title = element_text(hjust = 0.5),\n",
        "        panel.border = element_blank(), \n",
        "        panel.grid.major = element_blank(),\n",
        "        panel.grid.minor = element_blank(), \n",
        "        axis.line = element_line(colour = \"black\"))"
      ],
      "execution_count": null,
      "outputs": [
        {
          "output_type": "display_data",
          "data": {
            "image/png": "[encoded data removed]"
          },
          "metadata": {
            "tags": []
          }
        }
      ]
    },
    {
      "cell_type": "markdown",
      "metadata": {
        "id": "3xfp3E8TJVcG"
      },
      "source": [
        "###MonthsInMilk by milking type"
      ]
    },
    {
      "cell_type": "code",
      "metadata": {
        "colab": {
          "base_uri": "https://localhost:8080/"
        },
        "id": "thRuBRvZJqv0",
        "outputId": "ae1b0044-35ea-43be-ae35-46c7ce089265"
      },
      "source": [
        "%%R\n",
        "LSMs<-lsmeans::lsmeans(finalModel, pairwise ~ MonthsInMilk|MilkingType, type = \"response\", glhargs=list())\n",
        "multcomp::cld(LSMs[[1]], alpha=0.05, Letters=letters, adjust=\"tukey\")"
      ],
      "execution_count": null,
      "outputs": [
        {
          "output_type": "stream",
          "text": [
            "R[write to console]: Note: D.f. calculations have been disabled because the number of observations exceeds 3000.\n",
            "To enable adjustments, add the argument 'pbkrtest.limit = 50188' (or larger)\n",
            "[or, globally, 'set emm_options(pbkrtest.limit = 50188)' or larger];\n",
            "but be warned that this may result in large computation time and memory use.\n",
            "\n",
            "R[write to console]: Note: D.f. calculations have been disabled because the number of observations exceeds 3000.\n",
            "To enable adjustments, add the argument 'lmerTest.limit = 50188' (or larger)\n",
            "[or, globally, 'set emm_options(lmerTest.limit = 50188)' or larger];\n",
            "but be warned that this may result in large computation time and memory use.\n",
            "\n",
            "R[write to console]: Note: adjust = \"tukey\" was changed to \"sidak\"\n",
            "because \"tukey\" is only appropriate for one set of pairwise comparisons\n",
            "\n"
          ],
          "name": "stderr"
        },
        {
          "output_type": "stream",
          "text": [
            "MilkingType = AMS:\n",
            " MonthsInMilk lsmean   SE  df asymp.LCL asymp.UCL .group   \n",
            " -1             2776 45.9 Inf      2645      2907  a       \n",
            " 10             2898 43.6 Inf      2773      3022  ab      \n",
            " 9              2968 43.5 Inf      2844      3093   bc     \n",
            " 7              3056 43.6 Inf      2932      3181    cd    \n",
            " 8              3086 43.4 Inf      2962      3210    cd    \n",
            " 0              3128 43.2 Inf      3004      3251     d    \n",
            " 6              3168 43.6 Inf      3043      3293     de   \n",
            " 5              3308 43.6 Inf      3184      3433      ef  \n",
            " 4              3313 43.7 Inf      3188      3437      ef  \n",
            " 3              3380 43.9 Inf      3254      3505       f  \n",
            " 2              3553 44.5 Inf      3426      3680        g \n",
            " 1              3681 44.9 Inf      3552      3809        g \n",
            "\n",
            "MilkingType = CMS:\n",
            " MonthsInMilk lsmean   SE  df asymp.LCL asymp.UCL .group   \n",
            " -1             3636 31.7 Inf      3545      3727  a       \n",
            " 0              3967 28.5 Inf      3885      4048   b      \n",
            " 10             4216 30.6 Inf      4129      4304    c     \n",
            " 9              4260 30.5 Inf      4173      4347    cd    \n",
            " 7              4291 30.0 Inf      4205      4377    cd    \n",
            " 6              4322 30.1 Inf      4236      4408    cde   \n",
            " 4              4336 29.7 Inf      4251      4421     de   \n",
            " 8              4347 30.2 Inf      4261      4433     de   \n",
            " 5              4424 29.8 Inf      4339      4509      ef  \n",
            " 3              4465 29.7 Inf      4380      4550       f  \n",
            " 2              4708 29.6 Inf      4623      4792        g \n",
            " 1              4813 29.8 Inf      4728      4898         h\n",
            "\n",
            "Results are averaged over the levels of: CalvingSeason, Parity \n",
            "Degrees-of-freedom method: asymptotic \n",
            "Confidence level used: 0.95 \n",
            "Conf-level adjustment: sidak method for 12 estimates \n",
            "P value adjustment: tukey method for comparing a family of 12 estimates \n",
            "significance level used: alpha = 0.05 \n"
          ],
          "name": "stdout"
        }
      ]
    },
    {
      "cell_type": "code",
      "metadata": {
        "colab": {
          "base_uri": "https://localhost:8080/",
          "height": 497
        },
        "id": "cKhAZ3-cJtGK",
        "outputId": "31ed66a5-3783-4f23-ee01-9082f9a25b1a"
      },
      "source": [
        "%%R\n",
        "dfPValues <- summary(LSMs)[[2]]\n",
        "dfLMSs <- summary(LSMs)[[1]]\n",
        "dfLMSs %>% \n",
        "  mutate(label = if_else(MonthsInMilk == max(as.numeric(MonthsInMilk)), as.character(MilkingType), NA_character_)) %>%\n",
        "  ggplot(\n",
        "  aes(\n",
        "    x=MonthsInMilk,\n",
        "    y=lsmean,\n",
        "    group=MilkingType, \n",
        "    color=MilkingType)\n",
        "    ) +\n",
        "  geom_line() +  \n",
        "  geom_errorbar(\n",
        "    aes(ymin=asymp.LCL, \n",
        "        ymax=asymp.UCL), \n",
        "    width=.2,\n",
        "    position=position_dodge(0.05)) +\n",
        "  labs(\n",
        "    title = \"Leg activity (no. of steps/day)\", \n",
        "    y=\"No. of steps per day\" , \n",
        "    x = \"Months in milk\") +\n",
        "  theme_bw() +\n",
        "  theme(plot.title = element_text(hjust = 0.5),\n",
        "        panel.border = element_blank(), \n",
        "        panel.grid.major = element_blank(),\n",
        "        panel.grid.minor = element_blank(), \n",
        "        axis.line = element_line(colour = \"black\"))"
      ],
      "execution_count": null,
      "outputs": [
        {
          "output_type": "display_data",
          "data": {
            "image/png": "[encoded data removed]"
          },
          "metadata": {
            "tags": []
          }
        }
      ]
    },
    {
      "cell_type": "markdown",
      "metadata": {
        "id": "MEO-iIdjJZXE"
      },
      "source": [
        "### MonthsInMilk by calving season"
      ]
    },
    {
      "cell_type": "code",
      "metadata": {
        "colab": {
          "base_uri": "https://localhost:8080/"
        },
        "id": "KZAKe0gqJ04w",
        "outputId": "4600e1c6-6244-4b2f-fa5f-ab3ed8b17711"
      },
      "source": [
        "%%R\n",
        "LSMs<-lsmeans::lsmeans(finalModel, pairwise ~ MonthsInMilk|CalvingSeason, type = \"response\", glhargs=list())\n",
        "multcomp::cld(LSMs[[1]], alpha=0.05, Letters=letters, adjust=\"tukey\")"
      ],
      "execution_count": null,
      "outputs": [
        {
          "output_type": "stream",
          "text": [
            "R[write to console]: Note: D.f. calculations have been disabled because the number of observations exceeds 3000.\n",
            "To enable adjustments, add the argument 'pbkrtest.limit = 50188' (or larger)\n",
            "[or, globally, 'set emm_options(pbkrtest.limit = 50188)' or larger];\n",
            "but be warned that this may result in large computation time and memory use.\n",
            "\n",
            "R[write to console]: Note: D.f. calculations have been disabled because the number of observations exceeds 3000.\n",
            "To enable adjustments, add the argument 'lmerTest.limit = 50188' (or larger)\n",
            "[or, globally, 'set emm_options(lmerTest.limit = 50188)' or larger];\n",
            "but be warned that this may result in large computation time and memory use.\n",
            "\n",
            "R[write to console]: Note: adjust = \"tukey\" was changed to \"sidak\"\n",
            "because \"tukey\" is only appropriate for one set of pairwise comparisons\n",
            "\n"
          ],
          "name": "stderr"
        },
        {
          "output_type": "stream",
          "text": [
            "CalvingSeason = Autumn:\n",
            " MonthsInMilk lsmean   SE  df asymp.LCL asymp.UCL .group   \n",
            " 4              2997 42.9 Inf      2874      3120  a       \n",
            " 3              3091 42.9 Inf      2968      3214  a       \n",
            " 5              3159 39.6 Inf      3046      3272  a       \n",
            " 6              3393 40.2 Inf      3279      3508   b      \n",
            " 2              3402 38.1 Inf      3293      3511   b      \n",
            " 7              3741 40.0 Inf      3627      3855    c     \n",
            " 0              3869 36.0 Inf      3767      3972    cd    \n",
            " 1              3951 38.3 Inf      3842      4061     d    \n",
            " -1             3981 42.1 Inf      3861      4101     d    \n",
            " 8              4433 44.1 Inf      4307      4559      e   \n",
            " 10             4513 42.6 Inf      4391      4634      e   \n",
            " 9              4608 43.8 Inf      4482      4733      e   \n",
            "\n",
            "CalvingSeason = Spring:\n",
            " MonthsInMilk lsmean   SE  df asymp.LCL asymp.UCL .group   \n",
            " -1             2488 47.5 Inf      2352      2624  a       \n",
            " 10             2646 49.7 Inf      2504      2788  ab      \n",
            " 9              2716 48.6 Inf      2577      2855   b      \n",
            " 8              3014 42.6 Inf      2892      3136    c     \n",
            " 0              3121 42.2 Inf      3000      3241    c     \n",
            " 7              3409 41.9 Inf      3289      3528     d    \n",
            " 6              3876 40.5 Inf      3760      3992      e   \n",
            " 5              4440 45.1 Inf      4311      4569       f  \n",
            " 1              4664 45.2 Inf      4534      4793        g \n",
            " 4              4784 46.5 Inf      4651      4917        g \n",
            " 3              5054 47.4 Inf      4918      5189         h\n",
            " 2              5129 49.1 Inf      4989      5269         h\n",
            "\n",
            "CalvingSeason = Summer:\n",
            " MonthsInMilk lsmean   SE  df asymp.LCL asymp.UCL .group   \n",
            " 7              2837 43.3 Inf      2713      2960  a       \n",
            " 6              2874 43.2 Inf      2750      2997  a       \n",
            " 8              2966 39.9 Inf      2852      3080  a       \n",
            " 5              3125 38.2 Inf      3016      3235   b      \n",
            " 9              3270 40.0 Inf      3155      3384   b      \n",
            " 4              3478 37.2 Inf      3372      3584    c     \n",
            " 10             3722 40.8 Inf      3605      3838     d    \n",
            " 3              3892 36.9 Inf      3786      3997      e   \n",
            " -1             4007 44.3 Inf      3880      4134      e   \n",
            " 0              4545 40.0 Inf      4430      4659       f  \n",
            " 2              4557 40.2 Inf      4443      4672       f  \n",
            " 1              5004 41.6 Inf      4886      5123        g \n",
            "\n",
            "CalvingSeason = Winter:\n",
            " MonthsInMilk lsmean   SE  df asymp.LCL asymp.UCL .group   \n",
            " -1             2348 46.1 Inf      2216      2480  a       \n",
            " 0              2655 44.0 Inf      2529      2780   b      \n",
            " 10             3348 40.9 Inf      3231      3465    c     \n",
            " 1              3367 48.0 Inf      3230      3504    c     \n",
            " 2              3434 44.0 Inf      3308      3559    c     \n",
            " 3              3654 43.9 Inf      3528      3779     d    \n",
            " 9              3864 40.7 Inf      3747      3980      e   \n",
            " 4              4038 44.0 Inf      3912      4163       f  \n",
            " 8              4453 44.6 Inf      4326      4580        g \n",
            " 7              4708 45.9 Inf      4577      4840         h\n",
            " 5              4741 48.4 Inf      4603      4879         h\n",
            " 6              4837 47.6 Inf      4701      4973         h\n",
            "\n",
            "Results are averaged over the levels of: Parity, MilkingType \n",
            "Degrees-of-freedom method: asymptotic \n",
            "Confidence level used: 0.95 \n",
            "Conf-level adjustment: sidak method for 12 estimates \n",
            "P value adjustment: tukey method for comparing a family of 12 estimates \n",
            "significance level used: alpha = 0.05 \n"
          ],
          "name": "stdout"
        }
      ]
    },
    {
      "cell_type": "code",
      "metadata": {
        "colab": {
          "base_uri": "https://localhost:8080/",
          "height": 497
        },
        "id": "rMNuzWIzJ3SP",
        "outputId": "d24d3583-7565-4e90-a878-2552a3055154"
      },
      "source": [
        "%%R\n",
        "dfPValues <- summary(LSMs)[[2]]\n",
        "dfLMSs <- summary(LSMs)[[1]]\n",
        "dfLMSs %>% \n",
        "  mutate(label = if_else(MonthsInMilk == max(as.numeric(MonthsInMilk)), as.character(CalvingSeason), NA_character_)) %>%\n",
        "  ggplot(\n",
        "  aes(\n",
        "    x=MonthsInMilk,\n",
        "    y=lsmean,\n",
        "    group=CalvingSeason, \n",
        "    color=CalvingSeason)\n",
        "    ) +\n",
        "  geom_line() +  \n",
        "  geom_errorbar(\n",
        "    aes(ymin=asymp.LCL, \n",
        "        ymax=asymp.UCL), \n",
        "    width=.2,\n",
        "    position=position_dodge(0.05)) +\n",
        "  labs(\n",
        "    title = \"Leg activity (no. of steps/day)\", \n",
        "    y=\"No. of steps per day\" , \n",
        "    x = \"Months in milk\") +\n",
        "  theme_bw() +\n",
        "  theme(plot.title = element_text(hjust = 0.5),\n",
        "        panel.border = element_blank(), \n",
        "        panel.grid.major = element_blank(),\n",
        "        panel.grid.minor = element_blank(), \n",
        "        axis.line = element_line(colour = \"black\"))"
      ],
      "execution_count": null,
      "outputs": [
        {
          "output_type": "display_data",
          "data": {
            "image/png": "[encoded data removed]"
          },
          "metadata": {
            "tags": []
          }
        }
      ]
    },
    {
      "cell_type": "code",
      "metadata": {
        "id": "1U3wSd0hjuSM"
      },
      "source": [
        "%%R\n",
        "AnalysisDataAMS <- AnalysisData %>% dplyr::filter(MilkingType == \"AMS\")\n",
        "AnalysisDataCMS <- AnalysisData %>% dplyr::filter(MilkingType != \"AMS\")"
      ],
      "execution_count": null,
      "outputs": []
    },
    {
      "cell_type": "code",
      "metadata": {
        "id": "tZQubYyTjyAF"
      },
      "source": [
        "%%R\n",
        "ModelAMSOnly <- lme4::lmer(\n",
        "                  SensorValue ~ \n",
        "                  MonthsInMilk*CalvingSeason + \n",
        "                  MonthsInMilk*Parity + \n",
        "                   MonthsInMilk*CalvingSeason + \n",
        "                    (1| HerdIdentifier:AnimalIdentifier),\n",
        "                  REML = FALSE,\n",
        "                  data = AnalysisDataAMS\n",
        "                  )"
      ],
      "execution_count": null,
      "outputs": []
    },
    {
      "cell_type": "code",
      "metadata": {
        "colab": {
          "base_uri": "https://localhost:8080/"
        },
        "id": "5ehpab33j2Tb",
        "outputId": "343f6fa4-6377-4ca1-d85d-5df57628360b"
      },
      "source": [
        "%%R\n",
        "LSMs<-lsmeans::lsmeans(ModelAMSOnly, pairwise ~ MonthsInMilk|CalvingSeason, type = \"response\", glhargs=list())\n",
        "multcomp::cld(LSMs[[1]], alpha=0.05, Letters=letters, adjust=\"tukey\")"
      ],
      "execution_count": null,
      "outputs": [
        {
          "output_type": "stream",
          "text": [
            "R[write to console]: Note: D.f. calculations have been disabled because the number of observations exceeds 3000.\n",
            "To enable adjustments, add the argument 'pbkrtest.limit = 16040' (or larger)\n",
            "[or, globally, 'set emm_options(pbkrtest.limit = 16040)' or larger];\n",
            "but be warned that this may result in large computation time and memory use.\n",
            "\n",
            "R[write to console]: Note: D.f. calculations have been disabled because the number of observations exceeds 3000.\n",
            "To enable adjustments, add the argument 'lmerTest.limit = 16040' (or larger)\n",
            "[or, globally, 'set emm_options(lmerTest.limit = 16040)' or larger];\n",
            "but be warned that this may result in large computation time and memory use.\n",
            "\n",
            "R[write to console]: Note: adjust = \"tukey\" was changed to \"sidak\"\n",
            "because \"tukey\" is only appropriate for one set of pairwise comparisons\n",
            "\n"
          ],
          "name": "stderr"
        },
        {
          "output_type": "stream",
          "text": [
            "CalvingSeason = Autumn:\n",
            " MonthsInMilk lsmean   SE  df asymp.LCL asymp.UCL .group  \n",
            " 6              2799 50.0 Inf      2657      2942  a      \n",
            " 7              2829 49.8 Inf      2687      2972  a      \n",
            " 5              2863 50.1 Inf      2720      3006  ab     \n",
            " 4              2906 53.7 Inf      2753      3059  ab     \n",
            " 3              2993 54.2 Inf      2838      3148  abc    \n",
            " 8              3031 54.6 Inf      2875      3187   bcd   \n",
            " 2              3169 49.4 Inf      3028      3310    cde  \n",
            " 9              3233 54.3 Inf      3078      3388     def \n",
            " -1             3262 54.2 Inf      3107      3417      ef \n",
            " 10             3326 53.1 Inf      3174      3478      ef \n",
            " 0              3413 48.7 Inf      3274      3552       fg\n",
            " 1              3589 50.7 Inf      3444      3733        g\n",
            "\n",
            "CalvingSeason = Spring:\n",
            " MonthsInMilk lsmean   SE  df asymp.LCL asymp.UCL .group  \n",
            " -1             2326 66.0 Inf      2137      2514  a      \n",
            " 9              2701 61.8 Inf      2525      2878   b     \n",
            " 10             2715 63.1 Inf      2535      2896   b     \n",
            " 0              2756 60.7 Inf      2582      2929   b     \n",
            " 8              2786 56.5 Inf      2625      2948   b     \n",
            " 7              2886 56.7 Inf      2724      3048   b     \n",
            " 6              3130 54.9 Inf      2973      3287    c    \n",
            " 5              3403 61.6 Inf      3227      3579     d   \n",
            " 2              3547 70.3 Inf      3346      3748     de  \n",
            " 1              3611 64.6 Inf      3426      3795     de  \n",
            " 4              3634 63.4 Inf      3453      3815     de  \n",
            " 3              3698 65.4 Inf      3511      3884      e  \n",
            "\n",
            "CalvingSeason = Summer:\n",
            " MonthsInMilk lsmean   SE  df asymp.LCL asymp.UCL .group  \n",
            " 7              2774 52.0 Inf      2625      2922  a      \n",
            " 9              2798 48.9 Inf      2658      2937  a      \n",
            " 6              2806 52.2 Inf      2657      2955  a      \n",
            " 8              2808 48.4 Inf      2669      2946  a      \n",
            " 10             2877 49.5 Inf      2735      3018  a      \n",
            " 5              2908 47.4 Inf      2772      3043  a      \n",
            " 4              3112 46.7 Inf      2978      3245   b     \n",
            " 3              3250 46.9 Inf      3116      3384   bc    \n",
            " -1             3321 55.7 Inf      3161      3480    c    \n",
            " 2              3627 51.0 Inf      3481      3773     d   \n",
            " 0              3627 51.4 Inf      3480      3774     d   \n",
            " 1              3958 52.6 Inf      3808      4108      e  \n",
            "\n",
            "CalvingSeason = Winter:\n",
            " MonthsInMilk lsmean   SE  df asymp.LCL asymp.UCL .group  \n",
            " -1             2260 60.0 Inf      2089      2432  a      \n",
            " 0              2679 59.6 Inf      2509      2850   b     \n",
            " 10             2929 55.4 Inf      2770      3087    c    \n",
            " 4              3123 60.2 Inf      2951      3295    cd   \n",
            " 3              3127 59.6 Inf      2956      3297    cd   \n",
            " 9              3143 55.4 Inf      2984      3301    cd   \n",
            " 2              3201 60.1 Inf      3030      3373     de  \n",
            " 5              3218 65.8 Inf      3030      3406     def \n",
            " 8              3300 60.6 Inf      3126      3473     def \n",
            " 1              3418 65.8 Inf      3230      3606      ef \n",
            " 7              3444 62.6 Inf      3265      3623      ef \n",
            " 6              3468 65.1 Inf      3281      3654       f \n",
            "\n",
            "Results are averaged over the levels of: Parity \n",
            "Degrees-of-freedom method: asymptotic \n",
            "Confidence level used: 0.95 \n",
            "Conf-level adjustment: sidak method for 12 estimates \n",
            "P value adjustment: tukey method for comparing a family of 12 estimates \n",
            "significance level used: alpha = 0.05 \n"
          ],
          "name": "stdout"
        }
      ]
    },
    {
      "cell_type": "code",
      "metadata": {
        "colab": {
          "base_uri": "https://localhost:8080/",
          "height": 497
        },
        "id": "_p_IwSKdj5C2",
        "outputId": "58a8a11f-43b6-4035-8558-08add86b0fbb"
      },
      "source": [
        "%%R\n",
        "dfPValues <- summary(LSMs)[[2]]\n",
        "dfLMSs <- summary(LSMs)[[1]]\n",
        "dfLMSs %>% \n",
        "  mutate(label = if_else(MonthsInMilk == max(as.numeric(MonthsInMilk)), as.character(CalvingSeason), NA_character_)) %>%\n",
        "  ggplot(\n",
        "  aes(\n",
        "    x=MonthsInMilk,\n",
        "    y=lsmean,\n",
        "    group=CalvingSeason, \n",
        "    color=CalvingSeason)\n",
        "    ) +\n",
        "  geom_line() +  \n",
        "  geom_errorbar(\n",
        "    aes(ymin=asymp.LCL, \n",
        "        ymax=asymp.UCL), \n",
        "    width=.2,\n",
        "    position=position_dodge(0.05)) +\n",
        "  labs(\n",
        "    title = \"Leg activity AMS (no. of steps/day)\", \n",
        "    y=\"Number of steps per day\" , \n",
        "    x = \"Months in milk\") +\n",
        "  theme_bw() +\n",
        "  theme(plot.title = element_text(hjust = 0.5),\n",
        "        panel.border = element_blank(), \n",
        "        panel.grid.major = element_blank(),\n",
        "        panel.grid.minor = element_blank(), \n",
        "        axis.line = element_line(colour = \"black\"))"
      ],
      "execution_count": null,
      "outputs": [
        {
          "output_type": "display_data",
          "data": {
            "image/png": "[encoded data removed]"
          },
          "metadata": {
            "tags": []
          }
        }
      ]
    },
    {
      "cell_type": "code",
      "metadata": {
        "id": "dnQBTlM0kBpb"
      },
      "source": [
        "%%R\n",
        "ModelCMSOnly <- lme4::lmer(\n",
        "                  SensorValue ~ \n",
        "                  MonthsInMilk*CalvingSeason + \n",
        "                  MonthsInMilk*Parity + \n",
        "                   MonthsInMilk*CalvingSeason + \n",
        "                    (1| HerdIdentifier:AnimalIdentifier),\n",
        "                  REML = FALSE,\n",
        "                  data = AnalysisDataCMS\n",
        "                  )"
      ],
      "execution_count": null,
      "outputs": []
    },
    {
      "cell_type": "code",
      "metadata": {
        "colab": {
          "base_uri": "https://localhost:8080/"
        },
        "id": "xc92OxpukD1h",
        "outputId": "5ea88cef-c2d5-4c71-90ef-e69fba423f79"
      },
      "source": [
        "%%R\n",
        "LSMs<-lsmeans::lsmeans(ModelCMSOnly, pairwise ~ MonthsInMilk|CalvingSeason, type = \"response\", glhargs=list())\n",
        "multcomp::cld(LSMs[[1]], alpha=0.05, Letters=letters, adjust=\"tukey\")"
      ],
      "execution_count": null,
      "outputs": [
        {
          "output_type": "stream",
          "text": [
            "R[write to console]: Note: D.f. calculations have been disabled because the number of observations exceeds 3000.\n",
            "To enable adjustments, add the argument 'pbkrtest.limit = 34148' (or larger)\n",
            "[or, globally, 'set emm_options(pbkrtest.limit = 34148)' or larger];\n",
            "but be warned that this may result in large computation time and memory use.\n",
            "\n",
            "R[write to console]: Note: D.f. calculations have been disabled because the number of observations exceeds 3000.\n",
            "To enable adjustments, add the argument 'lmerTest.limit = 34148' (or larger)\n",
            "[or, globally, 'set emm_options(lmerTest.limit = 34148)' or larger];\n",
            "but be warned that this may result in large computation time and memory use.\n",
            "\n",
            "R[write to console]: Note: adjust = \"tukey\" was changed to \"sidak\"\n",
            "because \"tukey\" is only appropriate for one set of pairwise comparisons\n",
            "\n"
          ],
          "name": "stderr"
        },
        {
          "output_type": "stream",
          "text": [
            "CalvingSeason = Autumn:\n",
            " MonthsInMilk lsmean   SE  df asymp.LCL asymp.UCL .group  \n",
            " 4              3268 55.2 Inf      3111      3426  a      \n",
            " 3              3385 54.8 Inf      3228      3541  ab     \n",
            " 5              3564 50.4 Inf      3420      3708   b     \n",
            " 2              3798 47.4 Inf      3663      3933    c    \n",
            " 6              3960 51.9 Inf      3812      4109    c    \n",
            " 0              4294 43.7 Inf      4169      4419     d   \n",
            " 1              4407 47.3 Inf      4272      4542     de  \n",
            " 7              4511 51.6 Inf      4364      4659      e  \n",
            " -1             4553 52.7 Inf      4403      4704      e  \n",
            " 10             5449 54.9 Inf      5292      5606       f \n",
            " 8              5478 57.1 Inf      5314      5641       f \n",
            " 9              5641 56.6 Inf      5479      5803       f \n",
            "\n",
            "CalvingSeason = Spring:\n",
            " MonthsInMilk lsmean   SE  df asymp.LCL asymp.UCL .group  \n",
            " -1             2819 57.0 Inf      2656      2982  a      \n",
            " 10             2936 63.1 Inf      2756      3117  a      \n",
            " 9              3038 61.6 Inf      2862      3214  a      \n",
            " 8              3460 52.3 Inf      3310      3609   b     \n",
            " 0              3514 49.8 Inf      3371      3656   b     \n",
            " 7              3975 50.7 Inf      3830      4120    c    \n",
            " 6              4500 48.8 Inf      4360      4639     d   \n",
            " 5              5155 54.5 Inf      5000      5311      e  \n",
            " 1              5377 53.7 Inf      5224      5530      ef \n",
            " 4              5514 56.4 Inf      5353      5675       f \n",
            " 3              5872 57.3 Inf      5708      6035        g\n",
            " 2              6012 58.3 Inf      5846      6179        g\n",
            "\n",
            "CalvingSeason = Summer:\n",
            " MonthsInMilk lsmean   SE  df asymp.LCL asymp.UCL .group  \n",
            " 7              3091 57.4 Inf      2927      3255  a      \n",
            " 6              3126 57.0 Inf      2963      3289  a      \n",
            " 8              3287 52.6 Inf      3137      3437  ab     \n",
            " 5              3477 49.3 Inf      3336      3617   b     \n",
            " 9              3800 52.4 Inf      3650      3949    c    \n",
            " 4              3897 47.5 Inf      3761      4033    c    \n",
            " 3              4472 46.6 Inf      4338      4605     d   \n",
            " 10             4487 53.7 Inf      4333      4640     d   \n",
            " -1             4589 57.5 Inf      4425      4754     d   \n",
            " 0              5217 51.0 Inf      5071      5362      e  \n",
            " 2              5304 51.0 Inf      5158      5449      e  \n",
            " 1              5818 53.2 Inf      5666      5970       f \n",
            "\n",
            "CalvingSeason = Winter:\n",
            " MonthsInMilk lsmean   SE  df asymp.LCL asymp.UCL .group  \n",
            " -1             2615 57.4 Inf      2451      2779  a      \n",
            " 0              2886 53.8 Inf      2733      3040   b     \n",
            " 1              3685 58.2 Inf      3519      3851    c    \n",
            " 2              3864 53.2 Inf      3712      4016    c    \n",
            " 10             3901 49.3 Inf      3760      4042    c    \n",
            " 3              4170 53.4 Inf      4018      4323     d   \n",
            " 9              4522 48.8 Inf      4382      4661      e  \n",
            " 4              4689 53.1 Inf      4537      4840      e  \n",
            " 8              5259 53.9 Inf      5105      5413       f \n",
            " 7              5550 55.6 Inf      5391      5709        g\n",
            " 5              5651 59.0 Inf      5482      5820        g\n",
            " 6              5691 57.8 Inf      5526      5856        g\n",
            "\n",
            "Results are averaged over the levels of: Parity \n",
            "Degrees-of-freedom method: asymptotic \n",
            "Confidence level used: 0.95 \n",
            "Conf-level adjustment: sidak method for 12 estimates \n",
            "P value adjustment: tukey method for comparing a family of 12 estimates \n",
            "significance level used: alpha = 0.05 \n"
          ],
          "name": "stdout"
        }
      ]
    },
    {
      "cell_type": "code",
      "metadata": {
        "colab": {
          "base_uri": "https://localhost:8080/",
          "height": 497
        },
        "id": "MbxD1AwpkHgr",
        "outputId": "4de7eaaf-dd1e-4aa0-aa2a-3616298d10a2"
      },
      "source": [
        "%%R\n",
        "dfPValues <- summary(LSMs)[[2]]\n",
        "dfLMSs <- summary(LSMs)[[1]]\n",
        "dfLMSs %>% \n",
        "  mutate(label = if_else(MonthsInMilk == max(as.numeric(MonthsInMilk)), as.character(CalvingSeason), NA_character_)) %>%\n",
        "  ggplot(\n",
        "  aes(\n",
        "    x=MonthsInMilk,\n",
        "    y=lsmean,\n",
        "    group=CalvingSeason, \n",
        "    color=CalvingSeason)\n",
        "    ) +\n",
        "  geom_line() +  \n",
        "  geom_errorbar(\n",
        "    aes(ymin=asymp.LCL, \n",
        "        ymax=asymp.UCL), \n",
        "    width=.2,\n",
        "    position=position_dodge(0.05)) +\n",
        "  labs(\n",
        "    title = \"Leg activity CMS (no. of steps/day)\", \n",
        "    y=\"Number of steps per day\" , \n",
        "    x = \"Months in milk\") +\n",
        "  theme_bw() +\n",
        "  theme(plot.title = element_text(hjust = 0.5),\n",
        "        panel.border = element_blank(), \n",
        "        panel.grid.major = element_blank(),\n",
        "        panel.grid.minor = element_blank(), \n",
        "        axis.line = element_line(colour = \"black\"))"
      ],
      "execution_count": null,
      "outputs": [
        {
          "output_type": "display_data",
          "data": {
            "image/png": "[encoded data removed]"
          },
          "metadata": {
            "tags": []
          }
        }
      ]
    }
  ]
}