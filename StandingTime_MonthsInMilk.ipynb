{
  "nbformat": 4,
  "nbformat_minor": 0,
  "metadata": {
    "colab": {
      "name": "StandingTime MonthsInMilk",
      "provenance": [],
      "collapsed_sections": [],
      "toc_visible": true,
      "include_colab_link": true
    },
    "kernelspec": {
      "name": "python3",
      "display_name": "Python 3"
    }
  },
  "cells": [
    {
      "cell_type": "markdown",
      "metadata": {
        "id": "view-in-github",
        "colab_type": "text"
      },
      "source": [
        "<a href=\"https://colab.research.google.com/github/Bovi-analytics/hut-et-al-2021/blob/master/StandingTime_MonthsInMilk.ipynb\" target=\"_parent\"><img src=\"https://colab.research.google.com/assets/colab-badge.svg\" alt=\"Open In Colab\"/></a>"
      ]
    },
    {
      "cell_type": "markdown",
      "metadata": {
        "id": "z9NEvvUHNdV0"
      },
      "source": [
        "# Statistical notebook for standing time MonthsInMilk"
      ]
    },
    {
      "cell_type": "markdown",
      "metadata": {
        "id": "tBCXdxQ0NmXo"
      },
      "source": [
        "## Importing of google drive"
      ]
    },
    {
      "cell_type": "code",
      "metadata": {
        "colab": {
          "base_uri": "https://localhost:8080/"
        },
        "id": "WCUSUtqb21vg",
        "outputId": "6d24aa52-227a-465d-ebcf-1191485d3b00"
      },
      "source": [
        "from google.colab import drive\n",
        "drive.mount('/content/drive')"
      ],
      "execution_count": null,
      "outputs": [
        {
          "output_type": "stream",
          "text": [
            "Mounted at /content/drive\n"
          ],
          "name": "stdout"
        }
      ]
    },
    {
      "cell_type": "markdown",
      "metadata": {
        "id": "8wvg9kh4NxrD"
      },
      "source": [
        "## R loading"
      ]
    },
    {
      "cell_type": "code",
      "metadata": {
        "id": "TxkiqsiB23Kg"
      },
      "source": [
        "%reload_ext rpy2.ipython"
      ],
      "execution_count": null,
      "outputs": []
    },
    {
      "cell_type": "code",
      "metadata": {
        "id": "ShUTX27Z2ZzJ"
      },
      "source": [
        "%%R\n",
        "lib_loc <- \"/content/drive/Shareddrives/Bovi-Analytics/R-lib/\""
      ],
      "execution_count": null,
      "outputs": []
    },
    {
      "cell_type": "code",
      "metadata": {
        "id": "NOidYuwk2iWC",
        "colab": {
          "base_uri": "https://localhost:8080/"
        },
        "outputId": "2f4279a8-5889-41fb-9e74-ab12da20fda7"
      },
      "source": [
        "%%R\n",
        "package_list <- c(\"ggplot2\",\n",
        "                  \"readr\",\n",
        "                  \"plyr\",\n",
        "                  \"dplyr\",\n",
        "                  \"tidyr\",                \n",
        "                  \"lme4\",\n",
        "                  \"lmerTest\",\n",
        "                  \"multcompView\",\n",
        "                  \"mvtnorm\",\n",
        "                  \"TH.data\",\n",
        "                  \"multcomp\",\n",
        "                  \"emmeans\",\n",
        "                  \"lsmeans\",\n",
        "                  \"carData\",\n",
        "                  \"car\"\n",
        "                  )\n",
        "\n",
        "for (pkg in package_list) {\n",
        "  if (pkg %in% rownames(.packages()) == FALSE)\n",
        "  {library(pkg, lib.loc = lib_loc, character.only = TRUE)}\n",
        "\n",
        "}"
      ],
      "execution_count": null,
      "outputs": [
        {
          "output_type": "stream",
          "text": [
            "R[write to console]: \n",
            "Attaching package: ‘dplyr’\n",
            "\n",
            "\n",
            "R[write to console]: The following objects are masked from ‘package:plyr’:\n",
            "\n",
            "    arrange, count, desc, failwith, id, mutate, rename, summarise,\n",
            "    summarize\n",
            "\n",
            "\n",
            "R[write to console]: The following objects are masked from ‘package:stats’:\n",
            "\n",
            "    filter, lag\n",
            "\n",
            "\n",
            "R[write to console]: The following objects are masked from ‘package:base’:\n",
            "\n",
            "    intersect, setdiff, setequal, union\n",
            "\n",
            "\n",
            "R[write to console]: Loading required package: Matrix\n",
            "\n",
            "R[write to console]: \n",
            "Attaching package: ‘Matrix’\n",
            "\n",
            "\n",
            "R[write to console]: The following objects are masked from ‘package:tidyr’:\n",
            "\n",
            "    expand, pack, unpack\n",
            "\n",
            "\n",
            "R[write to console]: \n",
            "Attaching package: ‘lmerTest’\n",
            "\n",
            "\n",
            "R[write to console]: The following object is masked from ‘package:lme4’:\n",
            "\n",
            "    lmer\n",
            "\n",
            "\n",
            "R[write to console]: The following object is masked from ‘package:stats’:\n",
            "\n",
            "    step\n",
            "\n",
            "\n",
            "R[write to console]: Loading required package: survival\n",
            "\n",
            "R[write to console]: Loading required package: MASS\n",
            "\n",
            "R[write to console]: \n",
            "Attaching package: ‘MASS’\n",
            "\n",
            "\n",
            "R[write to console]: The following object is masked from ‘package:dplyr’:\n",
            "\n",
            "    select\n",
            "\n",
            "\n",
            "R[write to console]: \n",
            "Attaching package: ‘TH.data’\n",
            "\n",
            "\n",
            "R[write to console]: The following object is masked from ‘package:MASS’:\n",
            "\n",
            "    geyser\n",
            "\n",
            "\n",
            "R[write to console]: The 'lsmeans' package is now basically a front end for 'emmeans'.\n",
            "Users are encouraged to switch the rest of the way.\n",
            "See help('transition') for more information, including how to\n",
            "convert old 'lsmeans' objects and scripts to work with 'emmeans'.\n",
            "\n",
            "R[write to console]: Registered S3 methods overwritten by 'car':\n",
            "  method                          from\n",
            "  influence.merMod                lme4\n",
            "  cooks.distance.influence.merMod lme4\n",
            "  dfbeta.influence.merMod         lme4\n",
            "  dfbetas.influence.merMod        lme4\n",
            "\n",
            "R[write to console]: \n",
            "Attaching package: ‘car’\n",
            "\n",
            "\n",
            "R[write to console]: The following object is masked from ‘package:dplyr’:\n",
            "\n",
            "    recode\n",
            "\n",
            "\n"
          ],
          "name": "stderr"
        }
      ]
    },
    {
      "cell_type": "markdown",
      "metadata": {
        "id": "r21I7TJZOF7b"
      },
      "source": [
        "## Data loading into dataframe"
      ]
    },
    {
      "cell_type": "code",
      "metadata": {
        "id": "XKMnpccx3BDP"
      },
      "source": [
        "%%R\n",
        "url = ('/content/drive/Shareddrives/Bovi-Analytics/Projects/SenseOfSensors/CsvData/SensorAggRepartitioned02042021/ObservationType=StandingTimePerDay/part-00000-tid-1349821109549544597-c9251edd-6d65-49bf-bc6f-941ced55eb0c-3065-35.c000.csv')\n",
        "\n",
        "dataset = read.csv(url)\n",
        "\n"
      ],
      "execution_count": null,
      "outputs": []
    },
    {
      "cell_type": "code",
      "metadata": {
        "id": "EdsoTgv63LDl"
      },
      "source": [
        "%%R\n",
        "\n",
        "#path <- \"/content/drive/Shareddrives/Bovi-Analytics/Projects/SenseOfSensors/CsvData/SensorAggRepartitioned08032021/ObservationType=StandingTimeMinutesPer2Hours/part-00000-tid-5876581890551720600-0e9afc0a-339b-4a8d-9159-2f92fdf60451-17582-34.c000.csv\"\n",
        "AnalysisData <- \n",
        "  readr::read_csv(\"/content/drive/Shareddrives/Bovi-Analytics/Projects/SenseOfSensors/CsvData/SensorAggRepartitioned02042021/ObservationType=StandingTimePerDay/part-00000-tid-1349821109549544597-c9251edd-6d65-49bf-bc6f-941ced55eb0c-3065-35.c000.csv\", \n",
        "    col_types = readr::cols(HerdIdentifier = readr::col_character(), \n",
        "        TransitionLactationNumber = readr::col_integer(), \n",
        "        TransitionParity = readr::col_character(), \n",
        "        TransitionMonthsInMilk = readr::col_integer(), \n",
        "        TransitionCalvingDate = readr::col_character(), \n",
        "        Hour = readr::col_integer(), \n",
        "        Observations = readr::col_integer())) %>% \n",
        "  dplyr::filter(dplyr::between(TransitionMonthsInMilk, -1, 10)) %>%\n",
        "   dplyr::mutate(\n",
        "    AnimalIdentifier = factor(AnimalIdentifier),\n",
        "    HerdIdentifier = factor(HerdIdentifier),\n",
        "    Parity = factor(TransitionParity),\n",
        "    MonthsInMilk = factor(TransitionMonthsInMilk),\n",
        "    CalvingSeason = factor(TransitionSeason),\n",
        "    Hour = factor(Hour),\n",
        "    SensorValue = ObservationValue,\n",
        "    MilkingType = factor(case_when(\n",
        "    HerdIdentifier %in% c(\"544\", \"2514\", \"3314\")~\"AMS\",\n",
        "    TRUE~\"CMS\"\n",
        "  ))\n",
        "  ) %>%\n",
        "  dplyr::select(AnimalIdentifier, HerdIdentifier, Parity, MonthsInMilk, CalvingSeason, Hour, SensorValue, MilkingType) %>%\n",
        "  tidyr::drop_na()"
      ],
      "execution_count": null,
      "outputs": []
    },
    {
      "cell_type": "code",
      "metadata": {
        "colab": {
          "base_uri": "https://localhost:8080/"
        },
        "id": "6tB88jG161J_",
        "outputId": "ec2fb8c1-3199-4999-c50f-bda193aee6b1"
      },
      "source": [
        "%%R\n",
        "head(AnalysisData)"
      ],
      "execution_count": null,
      "outputs": [
        {
          "output_type": "stream",
          "text": [
            "# A tibble: 6 x 8\n",
            "  AnimalIdentifier HerdIdentifier Parity MonthsInMilk CalvingSeason Hour \n",
            "  <fct>            <fct>          <fct>  <fct>        <fct>         <fct>\n",
            "1 8972             2011           2      0            Winter        23   \n",
            "2 8971             2011           2      4            Autumn        23   \n",
            "3 8977             2011           2      3            Spring        22   \n",
            "4 121              2746           1      1            Summer        22   \n",
            "5 111              2746           3+     6            Summer        23   \n",
            "6 9017             2011           2      0            Autumn        22   \n",
            "# … with 2 more variables: SensorValue <dbl>, MilkingType <fct>\n"
          ],
          "name": "stdout"
        }
      ]
    },
    {
      "cell_type": "code",
      "metadata": {
        "colab": {
          "base_uri": "https://localhost:8080/"
        },
        "id": "F1V_3TaBTfdf",
        "outputId": "4a500474-66f9-42f3-92eb-1a8e34891730"
      },
      "source": [
        "%%R\n",
        "str(AnalysisData)"
      ],
      "execution_count": null,
      "outputs": [
        {
          "output_type": "stream",
          "text": [
            "tibble[,8] [54,056 × 8] (S3: tbl_df/tbl/data.frame)\n",
            " $ AnimalIdentifier: Factor w/ 1051 levels \"1\",\"2\",\"3\",\"4\",..: 908 907 913 121 111 929 115 925 135 936 ...\n",
            " $ HerdIdentifier  : Factor w/ 8 levels \"2011\",\"2297\",..: 1 1 1 4 4 1 4 1 4 1 ...\n",
            " $ Parity          : Factor w/ 3 levels \"1\",\"2\",\"3+\": 2 2 2 1 3 2 3 1 3 2 ...\n",
            " $ MonthsInMilk    : Factor w/ 12 levels \"-1\",\"0\",\"1\",\"2\",..: 2 6 5 3 8 2 6 6 4 3 ...\n",
            " $ CalvingSeason   : Factor w/ 4 levels \"Autumn\",\"Spring\",..: 4 1 2 3 3 1 2 1 4 1 ...\n",
            " $ Hour            : Factor w/ 2 levels \"22\",\"23\": 2 2 1 1 2 1 1 2 1 2 ...\n",
            " $ SensorValue     : num [1:54056] 704 469 643 608 705 ...\n",
            " $ MilkingType     : Factor w/ 2 levels \"AMS\",\"CMS\": 2 2 2 2 2 2 2 2 2 2 ...\n"
          ],
          "name": "stdout"
        }
      ]
    },
    {
      "cell_type": "markdown",
      "metadata": {
        "id": "I0qUudXLOcQB"
      },
      "source": [
        "## Descriptive statistics"
      ]
    },
    {
      "cell_type": "code",
      "metadata": {
        "colab": {
          "base_uri": "https://localhost:8080/"
        },
        "id": "27ifJ_zIOiJP",
        "outputId": "918d8675-7407-45f4-affc-5f859d64f353"
      },
      "source": [
        "%%R\n",
        "AnalysisData %>%\n",
        "  group_by(Parity) %>%\n",
        "  summarise(Unique_Elements = n_distinct(AnimalIdentifier))"
      ],
      "execution_count": null,
      "outputs": [
        {
          "output_type": "stream",
          "text": [
            "# A tibble: 3 x 2\n",
            "  Parity Unique_Elements\n",
            "  <fct>            <int>\n",
            "1 1                  736\n",
            "2 2                  712\n",
            "3 3+                 742\n"
          ],
          "name": "stdout"
        }
      ]
    },
    {
      "cell_type": "code",
      "metadata": {
        "colab": {
          "base_uri": "https://localhost:8080/"
        },
        "id": "H3ZzaFjWOlAQ",
        "outputId": "8804f642-676c-4a77-e679-173084984d5e"
      },
      "source": [
        "%%R\n",
        "AnalysisData %>%\n",
        "  summarise(Unique_Elements = n_distinct(AnimalIdentifier))"
      ],
      "execution_count": null,
      "outputs": [
        {
          "output_type": "stream",
          "text": [
            "# A tibble: 1 x 1\n",
            "  Unique_Elements\n",
            "            <int>\n",
            "1            1051\n"
          ],
          "name": "stdout"
        }
      ]
    },
    {
      "cell_type": "markdown",
      "metadata": {
        "id": "N2pvu1lCOnrm"
      },
      "source": [
        "# Model building"
      ]
    },
    {
      "cell_type": "markdown",
      "metadata": {
        "id": "POF4a08vOqnD"
      },
      "source": [
        "First we determine the null model"
      ]
    },
    {
      "cell_type": "markdown",
      "metadata": {
        "id": "R3In3XAH6UNw"
      },
      "source": [
        "## Null model"
      ]
    },
    {
      "cell_type": "code",
      "metadata": {
        "id": "oMj6hll16TdN"
      },
      "source": [
        "%%R\n",
        "Model.0 <- lme4::lmer(\n",
        "                  SensorValue ~ 1 + (1| HerdIdentifier:AnimalIdentifier), \n",
        "                  data = AnalysisData\n",
        "                  )\n",
        "\n"
      ],
      "execution_count": null,
      "outputs": []
    },
    {
      "cell_type": "markdown",
      "metadata": {
        "id": "Y67KPZBG6Vtp"
      },
      "source": [
        "## Univariable models"
      ]
    },
    {
      "cell_type": "code",
      "metadata": {
        "colab": {
          "base_uri": "https://localhost:8080/"
        },
        "id": "BtHdHQiAVH4_",
        "outputId": "6a4f638c-3724-4b9b-c588-ac8eabce368e"
      },
      "source": [
        "%%R\n",
        "Model1.0 <- lme4::lmer(\n",
        "                  SensorValue ~ \n",
        "                  MonthsInMilk + \n",
        "                  (1| HerdIdentifier:AnimalIdentifier),\n",
        "                  REML = FALSE,\n",
        "                  data = AnalysisData\n",
        ")\n",
        "anova(Model.0,Model1.0,test=\"Chisq\")"
      ],
      "execution_count": null,
      "outputs": [
        {
          "output_type": "stream",
          "text": [
            "R[write to console]: refitting model(s) with ML (instead of REML)\n",
            "\n"
          ],
          "name": "stderr"
        },
        {
          "output_type": "stream",
          "text": [
            "Data: AnalysisData\n",
            "Models:\n",
            "Model.0: SensorValue ~ 1 + (1 | HerdIdentifier:AnimalIdentifier)\n",
            "Model1.0: SensorValue ~ MonthsInMilk + (1 | HerdIdentifier:AnimalIdentifier)\n",
            "         npar    AIC    BIC  logLik deviance  Chisq Df Pr(>Chisq)    \n",
            "Model.0     3 681234 681261 -340614   681228                         \n",
            "Model1.0   14 676000 676125 -337986   675972 5255.4 11  < 2.2e-16 ***\n",
            "---\n",
            "Signif. codes:  0 ‘***’ 0.001 ‘**’ 0.01 ‘*’ 0.05 ‘.’ 0.1 ‘ ’ 1\n"
          ],
          "name": "stdout"
        }
      ]
    },
    {
      "cell_type": "code",
      "metadata": {
        "colab": {
          "base_uri": "https://localhost:8080/"
        },
        "id": "gMvqQic5VSOL",
        "outputId": "8f03ece4-5475-4f79-bd08-65cb34c96dcd"
      },
      "source": [
        "%%R\n",
        "Model1.1 <- lme4::lmer(\n",
        "                  SensorValue ~ \n",
        "                  Parity + \n",
        "                  (1| HerdIdentifier:AnimalIdentifier),\n",
        "                  REML = FALSE,\n",
        "                  data = AnalysisData\n",
        "                  )\n",
        "anova(Model.0,Model1.1,test=\"Chisq\")"
      ],
      "execution_count": null,
      "outputs": [
        {
          "output_type": "stream",
          "text": [
            "R[write to console]: refitting model(s) with ML (instead of REML)\n",
            "\n"
          ],
          "name": "stderr"
        },
        {
          "output_type": "stream",
          "text": [
            "Data: AnalysisData\n",
            "Models:\n",
            "Model.0: SensorValue ~ 1 + (1 | HerdIdentifier:AnimalIdentifier)\n",
            "Model1.1: SensorValue ~ Parity + (1 | HerdIdentifier:AnimalIdentifier)\n",
            "         npar    AIC    BIC  logLik deviance  Chisq Df Pr(>Chisq)    \n",
            "Model.0     3 681234 681261 -340614   681228                         \n",
            "Model1.1    5 681162 681207 -340576   681152 75.714  2  < 2.2e-16 ***\n",
            "---\n",
            "Signif. codes:  0 ‘***’ 0.001 ‘**’ 0.01 ‘*’ 0.05 ‘.’ 0.1 ‘ ’ 1\n"
          ],
          "name": "stdout"
        }
      ]
    },
    {
      "cell_type": "code",
      "metadata": {
        "colab": {
          "base_uri": "https://localhost:8080/"
        },
        "id": "oszGEcBuVUqI",
        "outputId": "6c4326e1-5521-42a0-fc42-fbef5e80f7f1"
      },
      "source": [
        "%%R\n",
        "Model1.2 <- lme4::lmer(\n",
        "                  SensorValue ~ \n",
        "                  CalvingSeason +\n",
        "                  (1| HerdIdentifier:AnimalIdentifier),\n",
        "                  REML = FALSE,\n",
        "                  data = AnalysisData\n",
        "                  )\n",
        "anova(Model.0,Model1.2,test=\"Chisq\")"
      ],
      "execution_count": null,
      "outputs": [
        {
          "output_type": "stream",
          "text": [
            "R[write to console]: refitting model(s) with ML (instead of REML)\n",
            "\n"
          ],
          "name": "stderr"
        },
        {
          "output_type": "stream",
          "text": [
            "Data: AnalysisData\n",
            "Models:\n",
            "Model.0: SensorValue ~ 1 + (1 | HerdIdentifier:AnimalIdentifier)\n",
            "Model1.2: SensorValue ~ CalvingSeason + (1 | HerdIdentifier:AnimalIdentifier)\n",
            "         npar    AIC    BIC  logLik deviance  Chisq Df Pr(>Chisq)    \n",
            "Model.0     3 681234 681261 -340614   681228                         \n",
            "Model1.2    6 681167 681220 -340578   681155 72.824  3   1.06e-15 ***\n",
            "---\n",
            "Signif. codes:  0 ‘***’ 0.001 ‘**’ 0.01 ‘*’ 0.05 ‘.’ 0.1 ‘ ’ 1\n"
          ],
          "name": "stdout"
        }
      ]
    },
    {
      "cell_type": "code",
      "metadata": {
        "colab": {
          "base_uri": "https://localhost:8080/"
        },
        "id": "D1LlsEdpVWQP",
        "outputId": "9fd46961-a937-4371-a2c2-fa8b2e69a87d"
      },
      "source": [
        "%%R\n",
        "Model1.3 <- lme4::lmer(\n",
        "                  SensorValue ~ \n",
        "                  MilkingType +\n",
        "                  (1| HerdIdentifier:AnimalIdentifier),\n",
        "                  REML = FALSE,\n",
        "                  data = AnalysisData\n",
        "                  )\n",
        "anova(Model.0,Model1.3,test=\"Chisq\")"
      ],
      "execution_count": null,
      "outputs": [
        {
          "output_type": "stream",
          "text": [
            "R[write to console]: refitting model(s) with ML (instead of REML)\n",
            "\n"
          ],
          "name": "stderr"
        },
        {
          "output_type": "stream",
          "text": [
            "Data: AnalysisData\n",
            "Models:\n",
            "Model.0: SensorValue ~ 1 + (1 | HerdIdentifier:AnimalIdentifier)\n",
            "Model1.3: SensorValue ~ MilkingType + (1 | HerdIdentifier:AnimalIdentifier)\n",
            "         npar    AIC    BIC  logLik deviance  Chisq Df Pr(>Chisq)    \n",
            "Model.0     3 681234 681261 -340614   681228                         \n",
            "Model1.3    4 681197 681232 -340594   681189 39.262  1  3.706e-10 ***\n",
            "---\n",
            "Signif. codes:  0 ‘***’ 0.001 ‘**’ 0.01 ‘*’ 0.05 ‘.’ 0.1 ‘ ’ 1\n"
          ],
          "name": "stdout"
        }
      ]
    },
    {
      "cell_type": "markdown",
      "metadata": {
        "id": "4fXa9WQx6Zzh"
      },
      "source": [
        "## Multivariable models"
      ]
    },
    {
      "cell_type": "code",
      "metadata": {
        "id": "N2pB1m1lXFCW"
      },
      "source": [
        "%%R\n",
        "Model2.0 <- lme4::lmer(\n",
        "                  SensorValue ~ \n",
        "                  Parity + MonthsInMilk + CalvingSeason + MilkingType +\n",
        "                  (1| HerdIdentifier:AnimalIdentifier),\n",
        "                  REML = FALSE,\n",
        "                  data = AnalysisData\n",
        "                  )"
      ],
      "execution_count": null,
      "outputs": []
    },
    {
      "cell_type": "code",
      "metadata": {
        "colab": {
          "base_uri": "https://localhost:8080/"
        },
        "id": "_jkt1d5IbXsd",
        "outputId": "e8e9183a-6f71-4b9a-cd20-c641d807e3cd"
      },
      "source": [
        "%%R\n",
        "drop1(Model2.0,test=\"Chisq\")"
      ],
      "execution_count": null,
      "outputs": [
        {
          "output_type": "stream",
          "text": [
            "Single term deletions\n",
            "\n",
            "Model:\n",
            "SensorValue ~ Parity + MonthsInMilk + CalvingSeason + MilkingType + \n",
            "    (1 | HerdIdentifier:AnimalIdentifier)\n",
            "              npar    AIC    LRT   Pr(Chi)    \n",
            "<none>             675749                     \n",
            "Parity           2 675899  153.6 < 2.2e-16 ***\n",
            "MonthsInMilk    11 681048 5320.6 < 2.2e-16 ***\n",
            "CalvingSeason    3 675832   88.9 < 2.2e-16 ***\n",
            "MilkingType      1 675783   35.9 2.117e-09 ***\n",
            "---\n",
            "Signif. codes:  0 ‘***’ 0.001 ‘**’ 0.01 ‘*’ 0.05 ‘.’ 0.1 ‘ ’ 1\n"
          ],
          "name": "stdout"
        }
      ]
    },
    {
      "cell_type": "markdown",
      "metadata": {
        "id": "IL3gUrjcPNZ_"
      },
      "source": [
        "## Introduction of interactions"
      ]
    },
    {
      "cell_type": "markdown",
      "metadata": {
        "id": "gZsChT6WPUOy"
      },
      "source": [
        "### Interactions with MonthsInMilk"
      ]
    },
    {
      "cell_type": "code",
      "metadata": {
        "colab": {
          "base_uri": "https://localhost:8080/"
        },
        "id": "GwUvYh3GcTk2",
        "outputId": "bae81764-970a-47bb-f33e-760c2d5ec184"
      },
      "source": [
        "%%R\n",
        "Model2.1 <- lme4::lmer(\n",
        "                  SensorValue ~ \n",
        "                  MonthsInMilk*Parity + CalvingSeason + MilkingType +\n",
        "                  (1| HerdIdentifier:AnimalIdentifier),\n",
        "                  REML = FALSE,\n",
        "                  data = AnalysisData\n",
        "                  )\n",
        "anova(Model2.0,Model2.1,test=\"Chisq\")"
      ],
      "execution_count": null,
      "outputs": [
        {
          "output_type": "stream",
          "text": [
            "Data: AnalysisData\n",
            "Models:\n",
            "Model2.0: SensorValue ~ Parity + MonthsInMilk + CalvingSeason + MilkingType + \n",
            "Model2.0:     (1 | HerdIdentifier:AnimalIdentifier)\n",
            "Model2.1: SensorValue ~ MonthsInMilk * Parity + CalvingSeason + MilkingType + \n",
            "Model2.1:     (1 | HerdIdentifier:AnimalIdentifier)\n",
            "         npar    AIC    BIC  logLik deviance  Chisq Df Pr(>Chisq)    \n",
            "Model2.0   20 675749 675927 -337855   675709                         \n",
            "Model2.1   42 675432 675806 -337674   675348 361.23 22  < 2.2e-16 ***\n",
            "---\n",
            "Signif. codes:  0 ‘***’ 0.001 ‘**’ 0.01 ‘*’ 0.05 ‘.’ 0.1 ‘ ’ 1\n"
          ],
          "name": "stdout"
        }
      ]
    },
    {
      "cell_type": "code",
      "metadata": {
        "colab": {
          "base_uri": "https://localhost:8080/"
        },
        "id": "nDPBFISf8kGh",
        "outputId": "82e5d630-19c8-42d7-d81b-3dd9d3095c9c"
      },
      "source": [
        "%%R\n",
        "Model2.2 <- lme4::lmer(\n",
        "                  SensorValue ~ \n",
        "                  MonthsInMilk*MilkingType + CalvingSeason + Parity +\n",
        "                  (1| HerdIdentifier:AnimalIdentifier),\n",
        "                  REML = FALSE,\n",
        "                  data = AnalysisData\n",
        "                  )\n",
        "anova(Model2.0,Model2.2,test=\"Chisq\")"
      ],
      "execution_count": null,
      "outputs": [
        {
          "output_type": "stream",
          "text": [
            "Data: AnalysisData\n",
            "Models:\n",
            "Model2.0: SensorValue ~ Parity + MonthsInMilk + CalvingSeason + MilkingType + \n",
            "Model2.0:     (1 | HerdIdentifier:AnimalIdentifier)\n",
            "Model2.2: SensorValue ~ MonthsInMilk * MilkingType + CalvingSeason + Parity + \n",
            "Model2.2:     (1 | HerdIdentifier:AnimalIdentifier)\n",
            "         npar    AIC    BIC  logLik deviance  Chisq Df Pr(>Chisq)    \n",
            "Model2.0   20 675749 675927 -337855   675709                         \n",
            "Model2.2   31 675668 675944 -337803   675606 103.01 11  < 2.2e-16 ***\n",
            "---\n",
            "Signif. codes:  0 ‘***’ 0.001 ‘**’ 0.01 ‘*’ 0.05 ‘.’ 0.1 ‘ ’ 1\n"
          ],
          "name": "stdout"
        }
      ]
    },
    {
      "cell_type": "code",
      "metadata": {
        "colab": {
          "base_uri": "https://localhost:8080/"
        },
        "id": "hTma7sXrPjPO",
        "outputId": "7cf08b90-95ad-4b88-aed9-d8f8e14b7882"
      },
      "source": [
        "%%R\n",
        "Model2.3 <- lme4::lmer(\n",
        "                  SensorValue ~ \n",
        "                  MonthsInMilk*CalvingSeason + Parity + MilkingType +\n",
        "                  (1| HerdIdentifier:AnimalIdentifier),\n",
        "                  REML = FALSE,\n",
        "                  data = AnalysisData\n",
        "                  )\n",
        "anova(Model2.0,Model2.3,test=\"Chisq\")"
      ],
      "execution_count": null,
      "outputs": [
        {
          "output_type": "stream",
          "text": [
            "Data: AnalysisData\n",
            "Models:\n",
            "Model2.0: SensorValue ~ Parity + MonthsInMilk + CalvingSeason + MilkingType + \n",
            "Model2.0:     (1 | HerdIdentifier:AnimalIdentifier)\n",
            "Model2.3: SensorValue ~ MonthsInMilk * CalvingSeason + Parity + MilkingType + \n",
            "Model2.3:     (1 | HerdIdentifier:AnimalIdentifier)\n",
            "         npar    AIC    BIC  logLik deviance  Chisq Df Pr(>Chisq)    \n",
            "Model2.0   20 675749 675927 -337855   675709                         \n",
            "Model2.3   53 675343 675815 -337619   675237 472.05 33  < 2.2e-16 ***\n",
            "---\n",
            "Signif. codes:  0 ‘***’ 0.001 ‘**’ 0.01 ‘*’ 0.05 ‘.’ 0.1 ‘ ’ 1\n"
          ],
          "name": "stdout"
        }
      ]
    },
    {
      "cell_type": "markdown",
      "metadata": {
        "id": "5XrFThAYPm2m"
      },
      "source": [
        "## Multiple interactions"
      ]
    },
    {
      "cell_type": "code",
      "metadata": {
        "colab": {
          "base_uri": "https://localhost:8080/"
        },
        "id": "4RuFfByBPqCb",
        "outputId": "59c760f2-e493-4c59-ea38-073e2e2851f9"
      },
      "source": [
        "%%R\n",
        "Model2.4 <- lme4::lmer(\n",
        "                  SensorValue ~ \n",
        "                  MonthsInMilk*CalvingSeason + \n",
        "                  MonthsInMilk*Parity + \n",
        "                  MonthsInMilk*MilkingType +\n",
        "                  (1| HerdIdentifier:AnimalIdentifier),\n",
        "                  REML = FALSE,\n",
        "                  data = AnalysisData\n",
        "                  )\n",
        "anova(Model2.0,Model2.4,test=\"Chisq\")"
      ],
      "execution_count": null,
      "outputs": [
        {
          "output_type": "stream",
          "text": [
            "Data: AnalysisData\n",
            "Models:\n",
            "Model2.0: SensorValue ~ Parity + MonthsInMilk + CalvingSeason + MilkingType + \n",
            "Model2.0:     (1 | HerdIdentifier:AnimalIdentifier)\n",
            "Model2.4: SensorValue ~ MonthsInMilk * CalvingSeason + MonthsInMilk * Parity + \n",
            "Model2.4:     MonthsInMilk * MilkingType + (1 | HerdIdentifier:AnimalIdentifier)\n",
            "         npar    AIC    BIC  logLik deviance  Chisq Df Pr(>Chisq)    \n",
            "Model2.0   20 675749 675927 -337855   675709                         \n",
            "Model2.4   86 674930 675695 -337379   674758 951.18 66  < 2.2e-16 ***\n",
            "---\n",
            "Signif. codes:  0 ‘***’ 0.001 ‘**’ 0.01 ‘*’ 0.05 ‘.’ 0.1 ‘ ’ 1\n"
          ],
          "name": "stdout"
        }
      ]
    },
    {
      "cell_type": "code",
      "metadata": {
        "colab": {
          "base_uri": "https://localhost:8080/"
        },
        "id": "44mbzQCIPvcN",
        "outputId": "8594fa9a-d8a5-433a-f628-7bf06863cbc9"
      },
      "source": [
        "%%R\n",
        "summary(Model2.4)"
      ],
      "execution_count": null,
      "outputs": [
        {
          "output_type": "stream",
          "text": [
            "Linear mixed model fit by maximum likelihood  ['lmerMod']\n",
            "Formula: SensorValue ~ MonthsInMilk * CalvingSeason + MonthsInMilk * Parity +  \n",
            "    MonthsInMilk * MilkingType + (1 | HerdIdentifier:AnimalIdentifier)\n",
            "   Data: AnalysisData\n",
            "\n",
            "      AIC       BIC    logLik  deviance  df.resid \n",
            " 674930.0  675695.2 -337379.0  674758.0     53970 \n",
            "\n",
            "Scaled residuals: \n",
            "    Min      1Q  Median      3Q     Max \n",
            "-11.683  -0.407   0.010   0.444  55.606 \n",
            "\n",
            "Random effects:\n",
            " Groups                          Name        Variance Std.Dev.\n",
            " HerdIdentifier:AnimalIdentifier (Intercept)  5839     76.41  \n",
            " Residual                                    14286    119.52  \n",
            "Number of obs: 54056, groups:  HerdIdentifier:AnimalIdentifier, 1689\n",
            "\n",
            "Fixed effects:\n",
            "                                    Estimate Std. Error t value\n",
            "(Intercept)                        632.97512    7.31111  86.577\n",
            "MonthsInMilk0                       24.80145    8.23090   3.013\n",
            "MonthsInMilk1                      115.45901    8.47767  13.619\n",
            "MonthsInMilk2                       57.14185    8.33827   6.853\n",
            "MonthsInMilk3                       38.42473    8.50765   4.516\n",
            "MonthsInMilk4                       28.44982    8.49718   3.348\n",
            "MonthsInMilk5                       20.86688    8.32793   2.506\n",
            "MonthsInMilk6                       21.75905    8.34356   2.608\n",
            "MonthsInMilk7                       22.97374    8.31706   2.762\n",
            "MonthsInMilk8                       32.06176    8.51480   3.765\n",
            "MonthsInMilk9                       42.87698    8.47378   5.060\n",
            "MonthsInMilk10                      47.00973    8.41147   5.589\n",
            "CalvingSeasonSpring                -30.21776    5.51065  -5.484\n",
            "CalvingSeasonSummer                -12.33746    5.20329  -2.371\n",
            "CalvingSeasonWinter                 -9.33923    5.66396  -1.649\n",
            "Parity2                             13.78268    5.91152   2.331\n",
            "Parity3+                            16.78282    5.32481   3.152\n",
            "MilkingTypeCMS                      -4.16188    5.73596  -0.726\n",
            "MonthsInMilk0:CalvingSeasonSpring    8.69113    6.89149   1.261\n",
            "MonthsInMilk1:CalvingSeasonSpring   43.32566    7.17489   6.039\n",
            "MonthsInMilk2:CalvingSeasonSpring   59.49056    7.35434   8.089\n",
            "MonthsInMilk3:CalvingSeasonSpring   71.56842    7.61201   9.402\n",
            "MonthsInMilk4:CalvingSeasonSpring   69.07514    7.64807   9.032\n",
            "MonthsInMilk5:CalvingSeasonSpring   54.24544    7.44868   7.283\n",
            "MonthsInMilk6:CalvingSeasonSpring   43.94029    7.20517   6.098\n",
            "MonthsInMilk7:CalvingSeasonSpring   44.73809    7.23325   6.185\n",
            "MonthsInMilk8:CalvingSeasonSpring   31.02640    7.46171   4.158\n",
            "MonthsInMilk9:CalvingSeasonSpring    8.51394    7.73802   1.100\n",
            "MonthsInMilk10:CalvingSeasonSpring   0.53474    7.75638   0.069\n",
            "MonthsInMilk0:CalvingSeasonSummer    4.17281    6.64529   0.628\n",
            "MonthsInMilk1:CalvingSeasonSummer   24.43189    6.90897   3.536\n",
            "MonthsInMilk2:CalvingSeasonSummer   27.47551    6.84105   4.016\n",
            "MonthsInMilk3:CalvingSeasonSummer   19.21687    6.89137   2.789\n",
            "MonthsInMilk4:CalvingSeasonSummer   11.86507    6.92427   1.714\n",
            "MonthsInMilk5:CalvingSeasonSummer    4.11134    6.79636   0.605\n",
            "MonthsInMilk6:CalvingSeasonSummer   -8.98026    7.04701  -1.274\n",
            "MonthsInMilk7:CalvingSeasonSummer   -8.71307    7.07389  -1.232\n",
            "MonthsInMilk8:CalvingSeasonSummer    0.08729    7.16389   0.012\n",
            "MonthsInMilk9:CalvingSeasonSummer   -6.84087    7.12595  -0.960\n",
            "MonthsInMilk10:CalvingSeasonSummer -11.79518    7.13095  -1.654\n",
            "MonthsInMilk0:CalvingSeasonWinter  -17.47766    7.25423  -2.409\n",
            "MonthsInMilk1:CalvingSeasonWinter   11.05394    7.52373   1.469\n",
            "MonthsInMilk2:CalvingSeasonWinter   32.71832    7.26393   4.504\n",
            "MonthsInMilk3:CalvingSeasonWinter   41.11351    7.50765   5.476\n",
            "MonthsInMilk4:CalvingSeasonWinter   31.94863    7.56654   4.222\n",
            "MonthsInMilk5:CalvingSeasonWinter   35.27267    7.68455   4.590\n",
            "MonthsInMilk6:CalvingSeasonWinter   42.51348    7.70471   5.518\n",
            "MonthsInMilk7:CalvingSeasonWinter   43.60124    7.63664   5.709\n",
            "MonthsInMilk8:CalvingSeasonWinter   30.38972    7.81385   3.889\n",
            "MonthsInMilk9:CalvingSeasonWinter   22.35887    7.57199   2.953\n",
            "MonthsInMilk10:CalvingSeasonWinter   6.78651    7.51262   0.903\n",
            "MonthsInMilk0:Parity2              -45.18043    7.59889  -5.946\n",
            "MonthsInMilk1:Parity2              -50.68027    7.82914  -6.473\n",
            "MonthsInMilk2:Parity2                8.82569    7.73842   1.141\n",
            "MonthsInMilk3:Parity2               14.35248    7.75891   1.850\n",
            "MonthsInMilk4:Parity2               11.65992    7.76057   1.502\n",
            "MonthsInMilk5:Parity2                7.08085    7.74853   0.914\n",
            "MonthsInMilk6:Parity2                5.42631    7.75734   0.700\n",
            "MonthsInMilk7:Parity2               -0.75960    7.75027  -0.098\n",
            "MonthsInMilk8:Parity2               -8.81259    7.78240  -1.132\n",
            "MonthsInMilk9:Parity2              -11.90724    7.75202  -1.536\n",
            "MonthsInMilk10:Parity2             -13.08865    7.73913  -1.691\n",
            "MonthsInMilk0:Parity3+             -46.08424    6.70489  -6.873\n",
            "MonthsInMilk1:Parity3+             -46.98725    6.91110  -6.799\n",
            "MonthsInMilk2:Parity3+              22.44403    6.84765   3.278\n",
            "MonthsInMilk3:Parity3+              29.89279    6.85208   4.363\n",
            "MonthsInMilk4:Parity3+              26.87830    6.85741   3.920\n",
            "MonthsInMilk5:Parity3+              18.87491    6.84633   2.757\n",
            "MonthsInMilk6:Parity3+              14.85069    6.86041   2.165\n",
            "MonthsInMilk7:Parity3+               9.84751    6.86396   1.435\n",
            "MonthsInMilk8:Parity3+               6.58765    6.86807   0.959\n",
            "MonthsInMilk9:Parity3+               4.42049    6.86091   0.644\n",
            "MonthsInMilk10:Parity3+             -2.19243    6.83953  -0.321\n",
            "MonthsInMilk0:MilkingTypeCMS        23.10362    5.39177   4.285\n",
            "MonthsInMilk1:MilkingTypeCMS        41.89077    5.63387   7.436\n",
            "MonthsInMilk2:MilkingTypeCMS        37.88081    5.58647   6.781\n",
            "MonthsInMilk3:MilkingTypeCMS        31.80856    5.60038   5.680\n",
            "MonthsInMilk4:MilkingTypeCMS        33.40765    5.61452   5.950\n",
            "MonthsInMilk5:MilkingTypeCMS        40.46908    5.61147   7.212\n",
            "MonthsInMilk6:MilkingTypeCMS        34.72902    5.64171   6.156\n",
            "MonthsInMilk7:MilkingTypeCMS        29.73355    5.65471   5.258\n",
            "MonthsInMilk8:MilkingTypeCMS        26.64776    5.66176   4.707\n",
            "MonthsInMilk9:MilkingTypeCMS        21.69163    5.65140   3.838\n",
            "MonthsInMilk10:MilkingTypeCMS       21.41362    5.64181   3.796\n"
          ],
          "name": "stdout"
        },
        {
          "output_type": "stream",
          "text": [
            "R[write to console]: \n",
            "Correlation matrix not shown by default, as p = 84 > 12.\n",
            "Use print(object, correlation=TRUE)  or\n",
            "    vcov(object)        if you need it\n",
            "\n",
            "\n"
          ],
          "name": "stderr"
        }
      ]
    },
    {
      "cell_type": "code",
      "metadata": {
        "colab": {
          "base_uri": "https://localhost:8080/"
        },
        "id": "RH18Ph9-PxxG",
        "outputId": "9b507be4-3fe0-49c2-f541-4ee2b278fbf0"
      },
      "source": [
        "%%R\n",
        "finalModel <- Model2.4\n",
        "Modeldrop <- drop1(finalModel, test=\"Chisq\")\n",
        "if(\"Pr(>F)\" %in% colnames(Modeldrop))\n",
        "{\n",
        "  Pvalues <- Modeldrop$`Pr(>F)`\n",
        "} else \n",
        "{\n",
        "  Pvalues <- Modeldrop$`Pr(Chi)`\n",
        "}\n",
        "Modeldrop"
      ],
      "execution_count": null,
      "outputs": [
        {
          "output_type": "stream",
          "text": [
            "Single term deletions\n",
            "\n",
            "Model:\n",
            "SensorValue ~ MonthsInMilk * CalvingSeason + MonthsInMilk * Parity + \n",
            "    MonthsInMilk * MilkingType + (1 | HerdIdentifier:AnimalIdentifier)\n",
            "                           npar    AIC    LRT   Pr(Chi)    \n",
            "<none>                          674930                     \n",
            "MonthsInMilk:CalvingSeason   33 675354 489.55 < 2.2e-16 ***\n",
            "MonthsInMilk:Parity          22 675270 384.00 < 2.2e-16 ***\n",
            "MonthsInMilk:MilkingType     11 674998  89.83 1.798e-14 ***\n",
            "---\n",
            "Signif. codes:  0 ‘***’ 0.001 ‘**’ 0.01 ‘*’ 0.05 ‘.’ 0.1 ‘ ’ 1\n"
          ],
          "name": "stdout"
        }
      ]
    },
    {
      "cell_type": "code",
      "metadata": {
        "id": "IIxaUUqDP4-a"
      },
      "source": [
        "%%R\n",
        "save(finalModel, file=\"/content/drive/Shareddrives/Bovi-Analytics/Projects/SenseOfSensors/CsvData/SensorAggRepartitioned08032021/finalmodelStandingtime.rdata\")"
      ],
      "execution_count": null,
      "outputs": []
    },
    {
      "cell_type": "markdown",
      "metadata": {
        "id": "5ieJW8e5P9w-"
      },
      "source": [
        "# Final model analysis of variance"
      ]
    },
    {
      "cell_type": "code",
      "metadata": {
        "colab": {
          "base_uri": "https://localhost:8080/"
        },
        "id": "gPduQG4QQDVN",
        "outputId": "53ee49b3-f18f-4724-8fab-a9a8a75bebb7"
      },
      "source": [
        "%%R\n",
        "Anova(finalModel)"
      ],
      "execution_count": null,
      "outputs": [
        {
          "output_type": "stream",
          "text": [
            "Analysis of Deviance Table (Type II Wald chisquare tests)\n",
            "\n",
            "Response: SensorValue\n",
            "                              Chisq Df Pr(>Chisq)    \n",
            "MonthsInMilk               5703.368 11  < 2.2e-16 ***\n",
            "CalvingSeason                88.888  3  < 2.2e-16 ***\n",
            "Parity                      147.845  2  < 2.2e-16 ***\n",
            "MilkingType                  32.758  1  1.044e-08 ***\n",
            "MonthsInMilk:CalvingSeason  491.834 33  < 2.2e-16 ***\n",
            "MonthsInMilk:Parity         385.390 22  < 2.2e-16 ***\n",
            "MonthsInMilk:MilkingType     89.911 11  1.735e-14 ***\n",
            "---\n",
            "Signif. codes:  0 ‘***’ 0.001 ‘**’ 0.01 ‘*’ 0.05 ‘.’ 0.1 ‘ ’ 1\n"
          ],
          "name": "stdout"
        }
      ]
    },
    {
      "cell_type": "markdown",
      "metadata": {
        "id": "HnWrd6qZQIRj"
      },
      "source": [
        "# Final model figures and LSM (95% CI)"
      ]
    },
    {
      "cell_type": "markdown",
      "metadata": {
        "id": "ijKufxH7QKTg"
      },
      "source": [
        "## Main effects"
      ]
    },
    {
      "cell_type": "code",
      "metadata": {
        "colab": {
          "base_uri": "https://localhost:8080/"
        },
        "id": "CAC3h52nQMkm",
        "outputId": "73c42a11-13f1-4766-d019-fdd2864c7535"
      },
      "source": [
        "%%R\n",
        "multcomp::cld(lsmeans::lsmeans(finalModel, ~ MonthsInMilk), alpha=0.05, Letters=letters, adjust=\"tukey\")"
      ],
      "execution_count": null,
      "outputs": [
        {
          "output_type": "stream",
          "text": [
            "R[write to console]: Note: D.f. calculations have been disabled because the number of observations exceeds 3000.\n",
            "To enable adjustments, add the argument 'pbkrtest.limit = 54056' (or larger)\n",
            "[or, globally, 'set emm_options(pbkrtest.limit = 54056)' or larger];\n",
            "but be warned that this may result in large computation time and memory use.\n",
            "\n",
            "R[write to console]: Note: D.f. calculations have been disabled because the number of observations exceeds 3000.\n",
            "To enable adjustments, add the argument 'lmerTest.limit = 54056' (or larger)\n",
            "[or, globally, 'set emm_options(lmerTest.limit = 54056)' or larger];\n",
            "but be warned that this may result in large computation time and memory use.\n",
            "\n",
            "R[write to console]: NOTE: Results may be misleading due to involvement in interactions\n",
            "\n",
            "R[write to console]: Note: adjust = \"tukey\" was changed to \"sidak\"\n",
            "because \"tukey\" is only appropriate for one set of pairwise comparisons\n",
            "\n"
          ],
          "name": "stderr"
        },
        {
          "output_type": "stream",
          "text": [
            " MonthsInMilk lsmean   SE  df asymp.LCL asymp.UCL .group  \n",
            " -1              628 3.06 Inf       619       637  a      \n",
            " 0               633 2.83 Inf       625       641  a      \n",
            " 10              680 2.90 Inf       671       688   b     \n",
            " 9               685 2.91 Inf       677       694   bc    \n",
            " 8               688 2.92 Inf       680       696   bc    \n",
            " 7               689 2.92 Inf       681       697   bc    \n",
            " 6               693 2.92 Inf       685       702    cd   \n",
            " 5               701 2.93 Inf       693       710     d   \n",
            " 4               714 2.92 Inf       706       723      e  \n",
            " 3               730 2.92 Inf       722       739       f \n",
            " 2               745 2.91 Inf       736       753        g\n",
            " 1               752 2.94 Inf       743       760        g\n",
            "\n",
            "Results are averaged over the levels of: CalvingSeason, Parity, MilkingType \n",
            "Degrees-of-freedom method: asymptotic \n",
            "Confidence level used: 0.95 \n",
            "Conf-level adjustment: sidak method for 12 estimates \n",
            "P value adjustment: tukey method for comparing a family of 12 estimates \n",
            "significance level used: alpha = 0.05 \n"
          ],
          "name": "stdout"
        }
      ]
    },
    {
      "cell_type": "code",
      "metadata": {
        "colab": {
          "base_uri": "https://localhost:8080/"
        },
        "id": "bbafFhXYQSOA",
        "outputId": "a8adc175-1a35-427a-d8c0-e93cb8512ed9"
      },
      "source": [
        "%%R\n",
        "multcomp::cld(lsmeans::lsmeans(finalModel, ~ Parity), alpha=0.05, Letters=letters, adjust=\"tukey\")"
      ],
      "execution_count": null,
      "outputs": [
        {
          "output_type": "stream",
          "text": [
            "R[write to console]: Note: D.f. calculations have been disabled because the number of observations exceeds 3000.\n",
            "To enable adjustments, add the argument 'pbkrtest.limit = 54056' (or larger)\n",
            "[or, globally, 'set emm_options(pbkrtest.limit = 54056)' or larger];\n",
            "but be warned that this may result in large computation time and memory use.\n",
            "\n",
            "R[write to console]: Note: D.f. calculations have been disabled because the number of observations exceeds 3000.\n",
            "To enable adjustments, add the argument 'lmerTest.limit = 54056' (or larger)\n",
            "[or, globally, 'set emm_options(lmerTest.limit = 54056)' or larger];\n",
            "but be warned that this may result in large computation time and memory use.\n",
            "\n",
            "R[write to console]: NOTE: Results may be misleading due to involvement in interactions\n",
            "\n",
            "R[write to console]: Note: adjust = \"tukey\" was changed to \"sidak\"\n",
            "because \"tukey\" is only appropriate for one set of pairwise comparisons\n",
            "\n"
          ],
          "name": "stderr"
        },
        {
          "output_type": "stream",
          "text": [
            " Parity lsmean   SE  df asymp.LCL asymp.UCL .group\n",
            " 1         686 2.37 Inf       680       692  a    \n",
            " 2         693 2.34 Inf       687       698   b   \n",
            " 3+        706 2.26 Inf       701       711    c  \n",
            "\n",
            "Results are averaged over the levels of: MonthsInMilk, CalvingSeason, MilkingType \n",
            "Degrees-of-freedom method: asymptotic \n",
            "Confidence level used: 0.95 \n",
            "Conf-level adjustment: sidak method for 3 estimates \n",
            "P value adjustment: tukey method for comparing a family of 3 estimates \n",
            "significance level used: alpha = 0.05 \n"
          ],
          "name": "stdout"
        }
      ]
    },
    {
      "cell_type": "code",
      "metadata": {
        "colab": {
          "base_uri": "https://localhost:8080/"
        },
        "id": "u0rOrqTfQT6-",
        "outputId": "269670bd-fa5c-4289-ddbc-df951f1400d5"
      },
      "source": [
        "%%R\n",
        "multcomp::cld(lsmeans::lsmeans(finalModel, ~ CalvingSeason), alpha=0.05, Letters=letters, adjust=\"tukey\")"
      ],
      "execution_count": null,
      "outputs": [
        {
          "output_type": "stream",
          "text": [
            "R[write to console]: Note: D.f. calculations have been disabled because the number of observations exceeds 3000.\n",
            "To enable adjustments, add the argument 'pbkrtest.limit = 54056' (or larger)\n",
            "[or, globally, 'set emm_options(pbkrtest.limit = 54056)' or larger];\n",
            "but be warned that this may result in large computation time and memory use.\n",
            "\n",
            "R[write to console]: Note: D.f. calculations have been disabled because the number of observations exceeds 3000.\n",
            "To enable adjustments, add the argument 'lmerTest.limit = 54056' (or larger)\n",
            "[or, globally, 'set emm_options(lmerTest.limit = 54056)' or larger];\n",
            "but be warned that this may result in large computation time and memory use.\n",
            "\n",
            "R[write to console]: NOTE: Results may be misleading due to involvement in interactions\n",
            "\n",
            "R[write to console]: Note: adjust = \"tukey\" was changed to \"sidak\"\n",
            "because \"tukey\" is only appropriate for one set of pairwise comparisons\n",
            "\n"
          ],
          "name": "stderr"
        },
        {
          "output_type": "stream",
          "text": [
            " CalvingSeason lsmean   SE  df asymp.LCL asymp.UCL .group\n",
            " Summer           684 2.46 Inf       678       690  a    \n",
            " Autumn           692 2.46 Inf       686       698   b   \n",
            " Spring           698 2.55 Inf       691       704    c  \n",
            " Winter           706 2.58 Inf       699       712     d \n",
            "\n",
            "Results are averaged over the levels of: MonthsInMilk, Parity, MilkingType \n",
            "Degrees-of-freedom method: asymptotic \n",
            "Confidence level used: 0.95 \n",
            "Conf-level adjustment: sidak method for 4 estimates \n",
            "P value adjustment: tukey method for comparing a family of 4 estimates \n",
            "significance level used: alpha = 0.05 \n"
          ],
          "name": "stdout"
        }
      ]
    },
    {
      "cell_type": "code",
      "metadata": {
        "colab": {
          "base_uri": "https://localhost:8080/"
        },
        "id": "51xJjuntQZS2",
        "outputId": "1accefc6-732f-4843-9073-47f2838a604b"
      },
      "source": [
        "%%R\n",
        "multcomp::cld(lsmeans::lsmeans(finalModel, ~ MilkingType), alpha=0.05, Letters=letters, adjust=\"tukey\")"
      ],
      "execution_count": null,
      "outputs": [
        {
          "output_type": "stream",
          "text": [
            "R[write to console]: Note: D.f. calculations have been disabled because the number of observations exceeds 3000.\n",
            "To enable adjustments, add the argument 'pbkrtest.limit = 54056' (or larger)\n",
            "[or, globally, 'set emm_options(pbkrtest.limit = 54056)' or larger];\n",
            "but be warned that this may result in large computation time and memory use.\n",
            "\n",
            "R[write to console]: Note: D.f. calculations have been disabled because the number of observations exceeds 3000.\n",
            "To enable adjustments, add the argument 'lmerTest.limit = 54056' (or larger)\n",
            "[or, globally, 'set emm_options(lmerTest.limit = 54056)' or larger];\n",
            "but be warned that this may result in large computation time and memory use.\n",
            "\n",
            "R[write to console]: NOTE: Results may be misleading due to involvement in interactions\n",
            "\n",
            "R[write to console]: Note: adjust = \"tukey\" was changed to \"sidak\"\n",
            "because \"tukey\" is only appropriate for one set of pairwise comparisons\n",
            "\n"
          ],
          "name": "stderr"
        },
        {
          "output_type": "stream",
          "text": [
            " MilkingType lsmean   SE  df asymp.LCL asymp.UCL .group\n",
            " AMS            683 3.54 Inf       675       691  a    \n",
            " CMS            707 2.37 Inf       702       712   b   \n",
            "\n",
            "Results are averaged over the levels of: MonthsInMilk, CalvingSeason, Parity \n",
            "Degrees-of-freedom method: asymptotic \n",
            "Confidence level used: 0.95 \n",
            "Conf-level adjustment: sidak method for 2 estimates \n",
            "significance level used: alpha = 0.05 \n"
          ],
          "name": "stdout"
        }
      ]
    },
    {
      "cell_type": "markdown",
      "metadata": {
        "id": "sWfRQBRIQb6m"
      },
      "source": [
        "## Interactions"
      ]
    },
    {
      "cell_type": "markdown",
      "metadata": {
        "id": "XYPl1SAwQgHJ"
      },
      "source": [
        "### MonthsInMilk by parity"
      ]
    },
    {
      "cell_type": "code",
      "metadata": {
        "colab": {
          "base_uri": "https://localhost:8080/"
        },
        "id": "LLLvlQhNQwef",
        "outputId": "42d366e6-493b-48d4-da54-3ab68519245a"
      },
      "source": [
        "%%R\n",
        "LSMs<-lsmeans::lsmeans(finalModel, pairwise ~ MonthsInMilk|Parity, type = \"response\", glhargs=list())\n",
        "multcomp::cld(LSMs[[1]], alpha=0.05, Letters=letters, adjust=\"tukey\")"
      ],
      "execution_count": null,
      "outputs": [
        {
          "output_type": "stream",
          "text": [
            "R[write to console]: Note: D.f. calculations have been disabled because the number of observations exceeds 3000.\n",
            "To enable adjustments, add the argument 'pbkrtest.limit = 54056' (or larger)\n",
            "[or, globally, 'set emm_options(pbkrtest.limit = 54056)' or larger];\n",
            "but be warned that this may result in large computation time and memory use.\n",
            "\n",
            "R[write to console]: Note: D.f. calculations have been disabled because the number of observations exceeds 3000.\n",
            "To enable adjustments, add the argument 'lmerTest.limit = 54056' (or larger)\n",
            "[or, globally, 'set emm_options(lmerTest.limit = 54056)' or larger];\n",
            "but be warned that this may result in large computation time and memory use.\n",
            "\n",
            "R[write to console]: Note: adjust = \"tukey\" was changed to \"sidak\"\n",
            "because \"tukey\" is only appropriate for one set of pairwise comparisons\n",
            "\n"
          ],
          "name": "stderr"
        },
        {
          "output_type": "stream",
          "text": [
            "Parity = 1:\n",
            " MonthsInMilk lsmean   SE  df asymp.LCL asymp.UCL .group  \n",
            " -1              618 5.16 Inf       603       633  a      \n",
            " 0               653 4.26 Inf       641       665   b     \n",
            " 10              675 4.08 Inf       663       686    c    \n",
            " 7               676 4.21 Inf       664       688    cd   \n",
            " 6               676 4.23 Inf       664       689    cd   \n",
            " 9               678 4.15 Inf       666       690    cd   \n",
            " 8               679 4.19 Inf       667       691    cd   \n",
            " 5               682 4.25 Inf       670       695    cd   \n",
            " 4               691 4.29 Inf       679       704     de  \n",
            " 3               705 4.32 Inf       693       718      e  \n",
            " 2               724 4.35 Inf       712       736       f \n",
            " 1               774 4.47 Inf       761       787        g\n",
            "\n",
            "Parity = 2:\n",
            " MonthsInMilk lsmean   SE  df asymp.LCL asymp.UCL .group  \n",
            " 0               622 3.96 Inf       610       633  a      \n",
            " -1              632 4.26 Inf       620       644  a      \n",
            " 10              675 4.28 Inf       663       687   b     \n",
            " 9               680 4.25 Inf       667       692   bc    \n",
            " 8               684 4.27 Inf       671       696   bc    \n",
            " 7               689 4.22 Inf       677       701   bcd   \n",
            " 6               696 4.21 Inf       684       708    cd   \n",
            " 5               703 4.22 Inf       691       715     de  \n",
            " 4               717 4.19 Inf       705       729      ef \n",
            " 3               733 4.17 Inf       721       745       fg\n",
            " 1               737 4.18 Inf       725       749        g\n",
            " 2               747 4.13 Inf       735       758        g\n",
            "\n",
            "Parity = 3+:\n",
            " MonthsInMilk lsmean   SE  df asymp.LCL asymp.UCL .group  \n",
            " 0               624 3.14 Inf       615       633  a      \n",
            " -1              635 3.32 Inf       625       644  a      \n",
            " 10              689 3.54 Inf       679       699   b     \n",
            " 9               699 3.51 Inf       689       709   bc    \n",
            " 8               702 3.49 Inf       692       712    c    \n",
            " 7               702 3.48 Inf       692       712    c    \n",
            " 6               708 3.46 Inf       698       718    cd   \n",
            " 5               718 3.44 Inf       708       728     d   \n",
            " 4               735 3.41 Inf       725       745      e  \n",
            " 1               744 3.34 Inf       734       753      ef \n",
            " 3               752 3.38 Inf       742       762       fg\n",
            " 2               763 3.34 Inf       754       773        g\n",
            "\n",
            "Results are averaged over the levels of: CalvingSeason, MilkingType \n",
            "Degrees-of-freedom method: asymptotic \n",
            "Confidence level used: 0.95 \n",
            "Conf-level adjustment: sidak method for 12 estimates \n",
            "P value adjustment: tukey method for comparing a family of 12 estimates \n",
            "significance level used: alpha = 0.05 \n"
          ],
          "name": "stdout"
        }
      ]
    },
    {
      "cell_type": "code",
      "metadata": {
        "colab": {
          "base_uri": "https://localhost:8080/",
          "height": 497
        },
        "id": "E-W2875qQ0dY",
        "outputId": "50540acf-0aa7-4db0-bf67-516727df70e9"
      },
      "source": [
        "%%R\n",
        "dfPValues <- summary(LSMs)[[2]]\n",
        "dfLMSs <- summary(LSMs)[[1]]\n",
        "dfLMSs %>% \n",
        "  mutate(label = if_else(MonthsInMilk == max(as.numeric(MonthsInMilk)), as.character(Parity), NA_character_)) %>%\n",
        "  ggplot(\n",
        "  aes(\n",
        "    x=MonthsInMilk,\n",
        "    y=lsmean,\n",
        "    group=Parity, \n",
        "    color=Parity)\n",
        "    ) +\n",
        "  geom_line() +  \n",
        "  geom_errorbar(\n",
        "    aes(ymin=asymp.LCL, \n",
        "        ymax=asymp.UCL), \n",
        "    width=.2,\n",
        "    position=position_dodge(0.05)) +\n",
        "  labs(\n",
        "    title = \"Standing time (min/day)\", \n",
        "    y=\"Minutes per day\" , \n",
        "    x = \"Months in milk\") +\n",
        "  theme_bw() +\n",
        "  theme(plot.title = element_text(hjust = 0.5),\n",
        "        panel.border = element_blank(), \n",
        "        panel.grid.major = element_blank(),\n",
        "        panel.grid.minor = element_blank(), \n",
        "        axis.line = element_line(colour = \"black\"))"
      ],
      "execution_count": null,
      "outputs": [
        {
          "output_type": "display_data",
          "data": {
            "image/png": "[encoded data removed]"
          },
          "metadata": {
            "tags": []
          }
        }
      ]
    },
    {
      "cell_type": "markdown",
      "metadata": {
        "id": "4RjVk1YjQjew"
      },
      "source": [
        "### MonthsInMilk by milking type"
      ]
    },
    {
      "cell_type": "code",
      "metadata": {
        "colab": {
          "base_uri": "https://localhost:8080/"
        },
        "id": "ZGtmb8y_Q4vo",
        "outputId": "2d2cbefe-1962-4764-b9b6-736ed0ab9e19"
      },
      "source": [
        "%%R\n",
        "LSMs<-lsmeans::lsmeans(finalModel, pairwise ~ MonthsInMilk|MilkingType, type = \"response\", glhargs=list())\n",
        "multcomp::cld(LSMs[[1]], alpha=0.05, Letters=letters, adjust=\"tukey\")"
      ],
      "execution_count": null,
      "outputs": [
        {
          "output_type": "stream",
          "text": [
            "R[write to console]: Note: D.f. calculations have been disabled because the number of observations exceeds 3000.\n",
            "To enable adjustments, add the argument 'pbkrtest.limit = 54056' (or larger)\n",
            "[or, globally, 'set emm_options(pbkrtest.limit = 54056)' or larger];\n",
            "but be warned that this may result in large computation time and memory use.\n",
            "\n",
            "R[write to console]: Note: D.f. calculations have been disabled because the number of observations exceeds 3000.\n",
            "To enable adjustments, add the argument 'lmerTest.limit = 54056' (or larger)\n",
            "[or, globally, 'set emm_options(lmerTest.limit = 54056)' or larger];\n",
            "but be warned that this may result in large computation time and memory use.\n",
            "\n",
            "R[write to console]: Note: adjust = \"tukey\" was changed to \"sidak\"\n",
            "because \"tukey\" is only appropriate for one set of pairwise comparisons\n",
            "\n"
          ],
          "name": "stderr"
        },
        {
          "output_type": "stream",
          "text": [
            "MilkingType = AMS:\n",
            " MonthsInMilk lsmean   SE  df asymp.LCL asymp.UCL .group   \n",
            " 0               623 4.65 Inf       610       637  a       \n",
            " -1              630 4.89 Inf       616       644  a       \n",
            " 10              671 4.76 Inf       657       685   b      \n",
            " 7               676 4.80 Inf       662       690   b      \n",
            " 9               677 4.78 Inf       663       690   b      \n",
            " 8               677 4.79 Inf       663       691   b      \n",
            " 6               678 4.79 Inf       664       692   b      \n",
            " 5               683 4.79 Inf       669       697   b      \n",
            " 4               700 4.80 Inf       686       713    c     \n",
            " 3               716 4.80 Inf       703       730     d    \n",
            " 2               728 4.80 Inf       714       741     de   \n",
            " 1               733 4.84 Inf       719       747      e   \n",
            "\n",
            "MilkingType = CMS:\n",
            " MonthsInMilk lsmean   SE  df asymp.LCL asymp.UCL .group   \n",
            " -1              626 3.35 Inf       616       636  a       \n",
            " 0               642 3.06 Inf       634       651   b      \n",
            " 10              688 3.24 Inf       679       697    c     \n",
            " 9               694 3.22 Inf       685       703    cd    \n",
            " 8               699 3.22 Inf       690       709     de   \n",
            " 7               702 3.20 Inf       693       711     de   \n",
            " 6               709 3.21 Inf       699       718      e   \n",
            " 5               719 3.20 Inf       710       729       f  \n",
            " 4               729 3.19 Inf       720       738       f  \n",
            " 3               744 3.17 Inf       735       753        g \n",
            " 2               761 3.14 Inf       752       770         h\n",
            " 1               771 3.16 Inf       761       780         h\n",
            "\n",
            "Results are averaged over the levels of: CalvingSeason, Parity \n",
            "Degrees-of-freedom method: asymptotic \n",
            "Confidence level used: 0.95 \n",
            "Conf-level adjustment: sidak method for 12 estimates \n",
            "P value adjustment: tukey method for comparing a family of 12 estimates \n",
            "significance level used: alpha = 0.05 \n"
          ],
          "name": "stdout"
        }
      ]
    },
    {
      "cell_type": "code",
      "metadata": {
        "colab": {
          "base_uri": "https://localhost:8080/",
          "height": 497
        },
        "id": "CLHFiRnIQ-H4",
        "outputId": "f74107ea-2396-40b8-acf5-e602ad2cb686"
      },
      "source": [
        "%%R\n",
        "dfPValues <- summary(LSMs)[[2]]\n",
        "dfLMSs <- summary(LSMs)[[1]]\n",
        "dfLMSs %>% \n",
        "  mutate(label = if_else(MonthsInMilk == max(as.numeric(MonthsInMilk)), as.character(MilkingType), NA_character_)) %>%\n",
        "  ggplot(\n",
        "  aes(\n",
        "    x=MonthsInMilk,\n",
        "    y=lsmean,\n",
        "    group=MilkingType, \n",
        "    color=MilkingType)\n",
        "    ) +\n",
        "  geom_line() +  \n",
        "  geom_errorbar(\n",
        "    aes(ymin=asymp.LCL, \n",
        "        ymax=asymp.UCL), \n",
        "    width=.2,\n",
        "    position=position_dodge(0.05)) +\n",
        "  labs(\n",
        "    title = \"Standing time (min/day)\", \n",
        "    y=\"Minutes per day\" , \n",
        "    x = \"Months in milk\") +\n",
        "  theme_bw() +\n",
        "  theme(plot.title = element_text(hjust = 0.5),\n",
        "        panel.border = element_blank(), \n",
        "        panel.grid.major = element_blank(),\n",
        "        panel.grid.minor = element_blank(), \n",
        "        axis.line = element_line(colour = \"black\"))"
      ],
      "execution_count": null,
      "outputs": [
        {
          "output_type": "display_data",
          "data": {
            "image/png": "[encoded data removed]"
          },
          "metadata": {
            "tags": []
          }
        }
      ]
    },
    {
      "cell_type": "markdown",
      "metadata": {
        "id": "Tvg8jMNtQnLM"
      },
      "source": [
        "### MonthsInMilk by calving season"
      ]
    },
    {
      "cell_type": "code",
      "metadata": {
        "colab": {
          "base_uri": "https://localhost:8080/"
        },
        "id": "PD4PTZTlRDLb",
        "outputId": "2df60436-5299-4e38-cf1c-409b720fcaa7"
      },
      "source": [
        "%%R\n",
        "LSMs<-lsmeans::lsmeans(finalModel, pairwise ~ MonthsInMilk|CalvingSeason, type = \"response\", glhargs=list())\n",
        "multcomp::cld(LSMs[[1]], alpha=0.05, Letters=letters, adjust=\"tukey\")"
      ],
      "execution_count": null,
      "outputs": [
        {
          "output_type": "stream",
          "text": [
            "R[write to console]: Note: D.f. calculations have been disabled because the number of observations exceeds 3000.\n",
            "To enable adjustments, add the argument 'pbkrtest.limit = 54056' (or larger)\n",
            "[or, globally, 'set emm_options(pbkrtest.limit = 54056)' or larger];\n",
            "but be warned that this may result in large computation time and memory use.\n",
            "\n",
            "R[write to console]: Note: D.f. calculations have been disabled because the number of observations exceeds 3000.\n",
            "To enable adjustments, add the argument 'lmerTest.limit = 54056' (or larger)\n",
            "[or, globally, 'set emm_options(lmerTest.limit = 54056)' or larger];\n",
            "but be warned that this may result in large computation time and memory use.\n",
            "\n",
            "R[write to console]: Note: adjust = \"tukey\" was changed to \"sidak\"\n",
            "because \"tukey\" is only appropriate for one set of pairwise comparisons\n",
            "\n"
          ],
          "name": "stderr"
        },
        {
          "output_type": "stream",
          "text": [
            "CalvingSeason = Autumn:\n",
            " MonthsInMilk lsmean   SE  df asymp.LCL asymp.UCL .group  \n",
            " -1              641 4.46 Inf       628       654  a      \n",
            " 0               647 3.83 Inf       636       658  a      \n",
            " 7               682 4.12 Inf       670       694   b     \n",
            " 8               686 4.51 Inf       673       699   bc    \n",
            " 6               687 4.15 Inf       675       699   bc    \n",
            " 5               691 4.10 Inf       679       703   bc    \n",
            " 9               692 4.49 Inf       679       705   bc    \n",
            " 10              694 4.43 Inf       681       706   bcd   \n",
            " 4               699 4.37 Inf       687       712    cd   \n",
            " 3               710 4.32 Inf       698       723     d   \n",
            " 2               728 3.94 Inf       716       739      e  \n",
            " 1               745 4.03 Inf       733       756       f \n",
            "\n",
            "CalvingSeason = Spring:\n",
            " MonthsInMilk lsmean   SE  df asymp.LCL asymp.UCL .group  \n",
            " -1              611 4.60 Inf       598       624  a      \n",
            " 0               625 4.15 Inf       614       637  a      \n",
            " 10              664 4.89 Inf       650       678   b     \n",
            " 9               671 4.81 Inf       657       684   bc    \n",
            " 8               687 4.35 Inf       674       699    cd   \n",
            " 7               696 4.37 Inf       684       709     d   \n",
            " 6               701 4.30 Inf       688       713     de  \n",
            " 5               715 4.75 Inf       701       728      e  \n",
            " 4               738 4.84 Inf       724       752       f \n",
            " 3               752 4.83 Inf       738       765       fg\n",
            " 2               757 4.78 Inf       743       771       fg\n",
            " 1               758 4.44 Inf       745       771        g\n",
            "\n",
            "CalvingSeason = Summer:\n",
            " MonthsInMilk lsmean   SE  df asymp.LCL asymp.UCL .group  \n",
            " -1              629 4.32 Inf       616       641  a      \n",
            " 0               639 4.04 Inf       627       650  a      \n",
            " 7               661 4.38 Inf       648       673   b     \n",
            " 6               666 4.32 Inf       653       678   b     \n",
            " 10              670 4.14 Inf       658       681   bc    \n",
            " 9               673 4.09 Inf       661       685   bc    \n",
            " 8               673 4.12 Inf       662       685   bc    \n",
            " 5               683 3.95 Inf       671       694    c    \n",
            " 4               699 3.91 Inf       687       710     d   \n",
            " 3               717 3.92 Inf       706       728      e  \n",
            " 2               743 4.25 Inf       731       755       f \n",
            " 1               757 4.30 Inf       745       769       f \n",
            "\n",
            "CalvingSeason = Winter:\n",
            " MonthsInMilk lsmean   SE  df asymp.LCL asymp.UCL .group  \n",
            " 0               620 4.50 Inf       607       633  a      \n",
            " -1              632 4.85 Inf       618       646  a      \n",
            " 10              691 4.30 Inf       679       703   b     \n",
            " 9               705 4.34 Inf       693       718   bc    \n",
            " 8               707 4.75 Inf       693       720   bc    \n",
            " 7               716 4.82 Inf       702       730    c    \n",
            " 5               717 4.93 Inf       703       731    c    \n",
            " 6               720 4.91 Inf       706       734    c    \n",
            " 4               722 4.51 Inf       709       735    c    \n",
            " 3               742 4.47 Inf       729       755     d   \n",
            " 1               747 4.80 Inf       733       760     d   \n",
            " 2               751 4.43 Inf       738       764     d   \n",
            "\n",
            "Results are averaged over the levels of: Parity, MilkingType \n",
            "Degrees-of-freedom method: asymptotic \n",
            "Confidence level used: 0.95 \n",
            "Conf-level adjustment: sidak method for 12 estimates \n",
            "P value adjustment: tukey method for comparing a family of 12 estimates \n",
            "significance level used: alpha = 0.05 \n"
          ],
          "name": "stdout"
        }
      ]
    },
    {
      "cell_type": "code",
      "metadata": {
        "colab": {
          "base_uri": "https://localhost:8080/",
          "height": 497
        },
        "id": "JcI4xRn5RGE0",
        "outputId": "ac3540aa-e8f7-4d2a-cbd4-3d0295529052"
      },
      "source": [
        "%%R\n",
        "dfPValues <- summary(LSMs)[[2]]\n",
        "dfLMSs <- summary(LSMs)[[1]]\n",
        "dfLMSs %>% \n",
        "  mutate(label = if_else(MonthsInMilk == max(as.numeric(MonthsInMilk)), as.character(CalvingSeason), NA_character_)) %>%\n",
        "  ggplot(\n",
        "  aes(\n",
        "    x=MonthsInMilk,\n",
        "    y=lsmean,\n",
        "    group=CalvingSeason, \n",
        "    color=CalvingSeason)\n",
        "    ) +\n",
        "  geom_line() +  \n",
        "  geom_errorbar(\n",
        "    aes(ymin=asymp.LCL, \n",
        "        ymax=asymp.UCL), \n",
        "    width=.2,\n",
        "    position=position_dodge(0.05)) +\n",
        "  labs(\n",
        "    title = \"Standing time (min/day)\", \n",
        "    y=\"Minutes per day\" , \n",
        "    x = \"Months in milk\") +\n",
        "  theme_bw() +\n",
        "  theme(plot.title = element_text(hjust = 0.5),\n",
        "        panel.border = element_blank(), \n",
        "        panel.grid.major = element_blank(),\n",
        "        panel.grid.minor = element_blank(), \n",
        "        axis.line = element_line(colour = \"black\"))"
      ],
      "execution_count": null,
      "outputs": [
        {
          "output_type": "display_data",
          "data": {
            "image/png": "[encoded data removed]"
          },
          "metadata": {
            "tags": []
          }
        }
      ]
    }
  ]
}