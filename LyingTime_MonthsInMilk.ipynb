{
  "nbformat": 4,
  "nbformat_minor": 0,
  "metadata": {
    "colab": {
      "name": "LyingTime MonthsInMilk",
      "provenance": [],
      "collapsed_sections": [],
      "toc_visible": true,
      "include_colab_link": true
    },
    "kernelspec": {
      "name": "python3",
      "display_name": "Python 3"
    }
  },
  "cells": [
    {
      "cell_type": "markdown",
      "metadata": {
        "id": "view-in-github",
        "colab_type": "text"
      },
      "source": [
        "<a href=\"https://colab.research.google.com/github/Bovi-analytics/hut-et-al-2021/blob/master/LyingTime_MonthsInMilk.ipynb\" target=\"_parent\"><img src=\"https://colab.research.google.com/assets/colab-badge.svg\" alt=\"Open In Colab\"/></a>"
      ]
    },
    {
      "cell_type": "markdown",
      "metadata": {
        "id": "pSzM2hzkY3TZ"
      },
      "source": [
        "# Statistical notebook for lying time MonthsInMilk"
      ]
    },
    {
      "cell_type": "markdown",
      "metadata": {
        "id": "-loUUIJvY-oP"
      },
      "source": [
        "## Importing of google drive"
      ]
    },
    {
      "cell_type": "code",
      "metadata": {
        "colab": {
          "base_uri": "https://localhost:8080/"
        },
        "id": "WCUSUtqb21vg",
        "outputId": "3ed8e54b-2ab9-45cc-96f9-96610269d72d"
      },
      "source": [
        "from google.colab import drive\n",
        "drive.mount('/content/drive')"
      ],
      "execution_count": null,
      "outputs": [
        {
          "output_type": "stream",
          "text": [
            "Mounted at /content/drive\n"
          ],
          "name": "stdout"
        }
      ]
    },
    {
      "cell_type": "markdown",
      "metadata": {
        "id": "7tRvZ42CZDxk"
      },
      "source": [
        "## R loading"
      ]
    },
    {
      "cell_type": "code",
      "metadata": {
        "id": "TxkiqsiB23Kg"
      },
      "source": [
        "%reload_ext rpy2.ipython"
      ],
      "execution_count": null,
      "outputs": []
    },
    {
      "cell_type": "code",
      "metadata": {
        "id": "eyN1qW2wCdmf"
      },
      "source": [
        "%%R\n",
        "lib_loc <- \"/content/drive/Shareddrives/Bovi-Analytics/R-lib/\""
      ],
      "execution_count": null,
      "outputs": []
    },
    {
      "cell_type": "code",
      "metadata": {
        "colab": {
          "base_uri": "https://localhost:8080/"
        },
        "id": "lP-kMcJHCjvs",
        "outputId": "0aeb03da-42a7-4c8e-db5f-5ce50aff1333"
      },
      "source": [
        "%%R\n",
        "package_list <- c(\"ggplot2\",\n",
        "                  \"readr\",\n",
        "                  \"plyr\",\n",
        "                  \"dplyr\",\n",
        "                  \"tidyr\",                \n",
        "                  \"lme4\",\n",
        "                  \"lmerTest\",\n",
        "                  \"multcompView\",\n",
        "                  \"mvtnorm\",\n",
        "                  \"TH.data\",\n",
        "                  \"multcomp\",\n",
        "                  \"emmeans\",\n",
        "                  \"lsmeans\",\n",
        "                  \"carData\",\n",
        "                  \"car\"\n",
        "                  )\n",
        "\n",
        "for (pkg in package_list) {\n",
        "  if (pkg %in% rownames(.packages()) == FALSE)\n",
        "  {library(pkg, lib.loc = lib_loc, character.only = TRUE)}\n",
        "\n",
        "}"
      ],
      "execution_count": null,
      "outputs": [
        {
          "output_type": "stream",
          "text": [
            "R[write to console]: \n",
            "Attaching package: ‘dplyr’\n",
            "\n",
            "\n",
            "R[write to console]: The following objects are masked from ‘package:plyr’:\n",
            "\n",
            "    arrange, count, desc, failwith, id, mutate, rename, summarise,\n",
            "    summarize\n",
            "\n",
            "\n",
            "R[write to console]: The following objects are masked from ‘package:stats’:\n",
            "\n",
            "    filter, lag\n",
            "\n",
            "\n",
            "R[write to console]: The following objects are masked from ‘package:base’:\n",
            "\n",
            "    intersect, setdiff, setequal, union\n",
            "\n",
            "\n",
            "R[write to console]: Loading required package: Matrix\n",
            "\n",
            "R[write to console]: \n",
            "Attaching package: ‘Matrix’\n",
            "\n",
            "\n",
            "R[write to console]: The following objects are masked from ‘package:tidyr’:\n",
            "\n",
            "    expand, pack, unpack\n",
            "\n",
            "\n",
            "R[write to console]: \n",
            "Attaching package: ‘lmerTest’\n",
            "\n",
            "\n",
            "R[write to console]: The following object is masked from ‘package:lme4’:\n",
            "\n",
            "    lmer\n",
            "\n",
            "\n",
            "R[write to console]: The following object is masked from ‘package:stats’:\n",
            "\n",
            "    step\n",
            "\n",
            "\n",
            "R[write to console]: Loading required package: survival\n",
            "\n",
            "R[write to console]: Loading required package: MASS\n",
            "\n",
            "R[write to console]: \n",
            "Attaching package: ‘MASS’\n",
            "\n",
            "\n",
            "R[write to console]: The following object is masked from ‘package:dplyr’:\n",
            "\n",
            "    select\n",
            "\n",
            "\n",
            "R[write to console]: \n",
            "Attaching package: ‘TH.data’\n",
            "\n",
            "\n",
            "R[write to console]: The following object is masked from ‘package:MASS’:\n",
            "\n",
            "    geyser\n",
            "\n",
            "\n",
            "R[write to console]: The 'lsmeans' package is now basically a front end for 'emmeans'.\n",
            "Users are encouraged to switch the rest of the way.\n",
            "See help('transition') for more information, including how to\n",
            "convert old 'lsmeans' objects and scripts to work with 'emmeans'.\n",
            "\n",
            "R[write to console]: Registered S3 methods overwritten by 'car':\n",
            "  method                          from\n",
            "  influence.merMod                lme4\n",
            "  cooks.distance.influence.merMod lme4\n",
            "  dfbeta.influence.merMod         lme4\n",
            "  dfbetas.influence.merMod        lme4\n",
            "\n",
            "R[write to console]: \n",
            "Attaching package: ‘car’\n",
            "\n",
            "\n",
            "R[write to console]: The following object is masked from ‘package:dplyr’:\n",
            "\n",
            "    recode\n",
            "\n",
            "\n"
          ],
          "name": "stderr"
        }
      ]
    },
    {
      "cell_type": "markdown",
      "metadata": {
        "id": "v3uHxMw0ZX8U"
      },
      "source": [
        "## Data loading into dataframe"
      ]
    },
    {
      "cell_type": "code",
      "metadata": {
        "id": "XKMnpccx3BDP"
      },
      "source": [
        "%%R\n",
        "url = ('/content/drive/Shareddrives/Bovi-Analytics/Projects/SenseOfSensors/CsvData/SensorAggRepartitioned02042021/ObservationType=LyingTimeMinutesPerDay/part-00000-tid-1349821109549544597-c9251edd-6d65-49bf-bc6f-941ced55eb0c-3065-26.c000.csv')\n",
        "\n",
        "dataset = read.csv(url)\n",
        "\n"
      ],
      "execution_count": null,
      "outputs": []
    },
    {
      "cell_type": "code",
      "metadata": {
        "id": "EdsoTgv63LDl"
      },
      "source": [
        "%%R\n",
        "\n",
        "#path <- \"/content/drive/Shareddrives/Bovi-Analytics/Projects/SenseOfSensors/CsvData/SensorAggRepartitioned08032021/ObservationType=LyingTimeMinutesPer2Hours/part-00000-tid-183333261268000902-29b42dfd-564e-4e7d-8ea7-05b4fb30d5d6-1694-25.c000.csv\"\n",
        "AnalysisData <- \n",
        "  readr::read_csv(\"/content/drive/Shareddrives/Bovi-Analytics/Projects/SenseOfSensors/CsvData/SensorAggRepartitioned02042021/ObservationType=LyingTimeMinutesPerDay/part-00000-tid-1349821109549544597-c9251edd-6d65-49bf-bc6f-941ced55eb0c-3065-26.c000.csv\", \n",
        "    col_types = readr::cols(HerdIdentifier = readr::col_character(), \n",
        "        TransitionLactationNumber = readr::col_integer(), \n",
        "        TransitionParity = readr::col_character(), \n",
        "        TransitionMonthsInMilk = readr::col_integer(), \n",
        "        TransitionCalvingDate = readr::col_character(), \n",
        "        Hour = readr::col_integer(), \n",
        "        Observations = readr::col_integer())) %>% \n",
        "  dplyr::filter(dplyr::between(TransitionMonthsInMilk, -1, 10)) %>%\n",
        "  dplyr::mutate(\n",
        "    AnimalIdentifier = factor(AnimalIdentifier),\n",
        "    HerdIdentifier = factor(HerdIdentifier),\n",
        "    Parity = factor(TransitionParity),\n",
        "    MonthsInMilk = factor(TransitionMonthsInMilk),\n",
        "    CalvingSeason = factor(TransitionSeason),\n",
        "    Hour = factor(Hour),\n",
        "    SensorValue = ObservationValue,\n",
        "    MilkingType = factor(case_when(\n",
        "    HerdIdentifier %in% c(\"544\", \"2514\", \"3314\")~\"AMS\",\n",
        "    TRUE~\"CMS\"\n",
        "  ))\n",
        "  ) %>%\n",
        "  dplyr::select(AnimalIdentifier, HerdIdentifier, Parity, MonthsInMilk, CalvingSeason, Hour, SensorValue, MilkingType) %>%\n",
        "  tidyr::drop_na()"
      ],
      "execution_count": null,
      "outputs": []
    },
    {
      "cell_type": "code",
      "metadata": {
        "colab": {
          "base_uri": "https://localhost:8080/"
        },
        "id": "6tB88jG161J_",
        "outputId": "14a41b29-44fe-47d0-d184-2e1e4c95666b"
      },
      "source": [
        "%%R\n",
        "head(AnalysisData)"
      ],
      "execution_count": null,
      "outputs": [
        {
          "output_type": "stream",
          "text": [
            "# A tibble: 6 x 8\n",
            "  AnimalIdentifier HerdIdentifier Parity MonthsInMilk CalvingSeason Hour \n",
            "  <fct>            <fct>          <fct>  <fct>        <fct>         <fct>\n",
            "1 917              2514           3+     2            Spring        22   \n",
            "2 1010             2514           2      2            Summer        22   \n",
            "3 1027             2514           1      8            Summer        23   \n",
            "4 900              2514           2      8            Summer        23   \n",
            "5 10               3              3+     9            Winter        22   \n",
            "6 920              2514           3+     -1           Summer        22   \n",
            "# … with 2 more variables: SensorValue <dbl>, MilkingType <fct>\n"
          ],
          "name": "stdout"
        }
      ]
    },
    {
      "cell_type": "code",
      "metadata": {
        "colab": {
          "base_uri": "https://localhost:8080/"
        },
        "id": "YrABNkkZZnJl",
        "outputId": "95addbae-c35b-4fb7-d9c4-d0bb973aeafa"
      },
      "source": [
        "%%R\n",
        "str(AnalysisData)"
      ],
      "execution_count": null,
      "outputs": [
        {
          "output_type": "stream",
          "text": [
            "tibble[,8] [49,867 × 8] (S3: tbl_df/tbl/data.frame)\n",
            " $ AnimalIdentifier: Factor w/ 1046 levels \"1\",\"2\",\"3\",\"4\",..: 368 396 411 353 10 371 401 214 166 230 ...\n",
            " $ HerdIdentifier  : Factor w/ 8 levels \"2011\",\"2297\",..: 3 3 3 3 5 3 3 3 5 3 ...\n",
            " $ Parity          : Factor w/ 3 levels \"1\",\"2\",\"3+\": 3 2 1 2 3 3 2 3 3 3 ...\n",
            " $ MonthsInMilk    : Factor w/ 12 levels \"-1\",\"0\",\"1\",\"2\",..: 4 4 10 10 11 1 9 4 4 9 ...\n",
            " $ CalvingSeason   : Factor w/ 4 levels \"Autumn\",\"Spring\",..: 2 3 3 3 4 3 2 1 1 3 ...\n",
            " $ Hour            : Factor w/ 2 levels \"22\",\"23\": 1 1 2 2 1 1 1 2 2 2 ...\n",
            " $ SensorValue     : num [1:49867] 597 800 711 698 680 ...\n",
            " $ MilkingType     : Factor w/ 2 levels \"AMS\",\"CMS\": 1 1 1 1 2 1 1 1 2 1 ...\n"
          ],
          "name": "stdout"
        }
      ]
    },
    {
      "cell_type": "markdown",
      "metadata": {
        "id": "EaD1nn1VZojW"
      },
      "source": [
        "## Descriptive statistics"
      ]
    },
    {
      "cell_type": "code",
      "metadata": {
        "colab": {
          "base_uri": "https://localhost:8080/"
        },
        "id": "9srfDDflZv7G",
        "outputId": "fe2590db-901f-443c-e557-21f3f4811ad8"
      },
      "source": [
        "%%R\n",
        "AnalysisData %>%\n",
        "  group_by(Parity) %>%\n",
        "  summarise(Unique_Elements = n_distinct(AnimalIdentifier))"
      ],
      "execution_count": null,
      "outputs": [
        {
          "output_type": "stream",
          "text": [
            "# A tibble: 3 x 2\n",
            "  Parity Unique_Elements\n",
            "  <fct>            <int>\n",
            "1 1                  696\n",
            "2 2                  690\n",
            "3 3+                 739\n"
          ],
          "name": "stdout"
        }
      ]
    },
    {
      "cell_type": "code",
      "metadata": {
        "colab": {
          "base_uri": "https://localhost:8080/"
        },
        "id": "wxlS0c0cZx_E",
        "outputId": "467633c8-6435-4ed3-b9c4-b0fb3292e394"
      },
      "source": [
        "%%R\n",
        "AnalysisData %>%\n",
        "  summarise(Unique_Elements = n_distinct(AnimalIdentifier))"
      ],
      "execution_count": null,
      "outputs": [
        {
          "output_type": "stream",
          "text": [
            "# A tibble: 1 x 1\n",
            "  Unique_Elements\n",
            "            <int>\n",
            "1            1046\n"
          ],
          "name": "stdout"
        }
      ]
    },
    {
      "cell_type": "markdown",
      "metadata": {
        "id": "1DD1irHVZ0vs"
      },
      "source": [
        "# Model building"
      ]
    },
    {
      "cell_type": "markdown",
      "metadata": {
        "id": "ItR_LIRoZ33F"
      },
      "source": [
        "First we determine the null model"
      ]
    },
    {
      "cell_type": "markdown",
      "metadata": {
        "id": "R3In3XAH6UNw"
      },
      "source": [
        "## Null model"
      ]
    },
    {
      "cell_type": "code",
      "metadata": {
        "id": "oMj6hll16TdN"
      },
      "source": [
        "%%R\n",
        "Model.0 <- lme4::lmer(\n",
        "                  SensorValue ~ 1 + (1| HerdIdentifier:AnimalIdentifier), \n",
        "                  data = AnalysisData\n",
        "                  )\n",
        "\n"
      ],
      "execution_count": null,
      "outputs": []
    },
    {
      "cell_type": "markdown",
      "metadata": {
        "id": "Y67KPZBG6Vtp"
      },
      "source": [
        "## Univariable models"
      ]
    },
    {
      "cell_type": "code",
      "metadata": {
        "colab": {
          "base_uri": "https://localhost:8080/"
        },
        "id": "BtHdHQiAVH4_",
        "outputId": "595b628c-cd22-49c0-f676-79daa37b8cbb"
      },
      "source": [
        "%%R\n",
        "Model1.0 <- lme4::lmer(\n",
        "                  SensorValue ~ \n",
        "                  MonthsInMilk + \n",
        "                  (1| HerdIdentifier:AnimalIdentifier),\n",
        "                  REML = FALSE,\n",
        "                  data = AnalysisData\n",
        ")\n",
        "anova(Model.0,Model1.0,test=\"Chisq\")"
      ],
      "execution_count": null,
      "outputs": [
        {
          "output_type": "stream",
          "text": [
            "R[write to console]: refitting model(s) with ML (instead of REML)\n",
            "\n"
          ],
          "name": "stderr"
        },
        {
          "output_type": "stream",
          "text": [
            "Data: AnalysisData\n",
            "Models:\n",
            "Model.0: SensorValue ~ 1 + (1 | HerdIdentifier:AnimalIdentifier)\n",
            "Model1.0: SensorValue ~ MonthsInMilk + (1 | HerdIdentifier:AnimalIdentifier)\n",
            "         npar    AIC    BIC  logLik deviance  Chisq Df Pr(>Chisq)    \n",
            "Model.0     3 647751 647777 -323872   647745                         \n",
            "Model1.0   14 644469 644592 -322220   644441 3303.8 11  < 2.2e-16 ***\n",
            "---\n",
            "Signif. codes:  0 ‘***’ 0.001 ‘**’ 0.01 ‘*’ 0.05 ‘.’ 0.1 ‘ ’ 1\n"
          ],
          "name": "stdout"
        }
      ]
    },
    {
      "cell_type": "code",
      "metadata": {
        "colab": {
          "base_uri": "https://localhost:8080/"
        },
        "id": "gMvqQic5VSOL",
        "outputId": "568c3cb0-7307-4b23-b597-588dc3f35275"
      },
      "source": [
        "%%R\n",
        "Model1.1 <- lme4::lmer(\n",
        "                  SensorValue ~ \n",
        "                  Parity + \n",
        "                  (1| HerdIdentifier:AnimalIdentifier),\n",
        "                  REML = FALSE,\n",
        "                  data = AnalysisData\n",
        "                  )\n",
        "anova(Model.0,Model1.1,test=\"Chisq\")"
      ],
      "execution_count": null,
      "outputs": [
        {
          "output_type": "stream",
          "text": [
            "R[write to console]: refitting model(s) with ML (instead of REML)\n",
            "\n"
          ],
          "name": "stderr"
        },
        {
          "output_type": "stream",
          "text": [
            "Data: AnalysisData\n",
            "Models:\n",
            "Model.0: SensorValue ~ 1 + (1 | HerdIdentifier:AnimalIdentifier)\n",
            "Model1.1: SensorValue ~ Parity + (1 | HerdIdentifier:AnimalIdentifier)\n",
            "         npar    AIC    BIC  logLik deviance  Chisq Df Pr(>Chisq)    \n",
            "Model.0     3 647751 647777 -323872   647745                         \n",
            "Model1.1    5 647739 647783 -323864   647729 15.819  2  0.0003673 ***\n",
            "---\n",
            "Signif. codes:  0 ‘***’ 0.001 ‘**’ 0.01 ‘*’ 0.05 ‘.’ 0.1 ‘ ’ 1\n"
          ],
          "name": "stdout"
        }
      ]
    },
    {
      "cell_type": "code",
      "metadata": {
        "colab": {
          "base_uri": "https://localhost:8080/"
        },
        "id": "oszGEcBuVUqI",
        "outputId": "1d8b4aa2-6843-4371-f0d3-976c57282bdf"
      },
      "source": [
        "%%R\n",
        "Model1.2 <- lme4::lmer(\n",
        "                  SensorValue ~ \n",
        "                  CalvingSeason +\n",
        "                  (1| HerdIdentifier:AnimalIdentifier),\n",
        "                  REML = FALSE,\n",
        "                  data = AnalysisData\n",
        "                  )\n",
        "anova(Model.0,Model1.2,test=\"Chisq\")"
      ],
      "execution_count": null,
      "outputs": [
        {
          "output_type": "stream",
          "text": [
            "R[write to console]: refitting model(s) with ML (instead of REML)\n",
            "\n"
          ],
          "name": "stderr"
        },
        {
          "output_type": "stream",
          "text": [
            "Data: AnalysisData\n",
            "Models:\n",
            "Model.0: SensorValue ~ 1 + (1 | HerdIdentifier:AnimalIdentifier)\n",
            "Model1.2: SensorValue ~ CalvingSeason + (1 | HerdIdentifier:AnimalIdentifier)\n",
            "         npar    AIC    BIC  logLik deviance  Chisq Df Pr(>Chisq)\n",
            "Model.0     3 647751 647777 -323872   647745                     \n",
            "Model1.2    6 647751 647804 -323869   647739 5.8771  3     0.1177\n"
          ],
          "name": "stdout"
        }
      ]
    },
    {
      "cell_type": "code",
      "metadata": {
        "colab": {
          "base_uri": "https://localhost:8080/"
        },
        "id": "D1LlsEdpVWQP",
        "outputId": "aa360ff9-7edc-4057-e1cd-d8629e915cea"
      },
      "source": [
        "%%R\n",
        "Model1.3 <- lme4::lmer(\n",
        "                  SensorValue ~ \n",
        "                  MilkingType +\n",
        "                  (1| HerdIdentifier:AnimalIdentifier),\n",
        "                  REML = FALSE,\n",
        "                  data = AnalysisData\n",
        "                  )\n",
        "anova(Model.0,Model1.3,test=\"Chisq\")"
      ],
      "execution_count": null,
      "outputs": [
        {
          "output_type": "stream",
          "text": [
            "R[write to console]: refitting model(s) with ML (instead of REML)\n",
            "\n"
          ],
          "name": "stderr"
        },
        {
          "output_type": "stream",
          "text": [
            "Data: AnalysisData\n",
            "Models:\n",
            "Model.0: SensorValue ~ 1 + (1 | HerdIdentifier:AnimalIdentifier)\n",
            "Model1.3: SensorValue ~ MilkingType + (1 | HerdIdentifier:AnimalIdentifier)\n",
            "         npar    AIC    BIC  logLik deviance  Chisq Df Pr(>Chisq)    \n",
            "Model.0     3 647751 647777 -323872   647745                         \n",
            "Model1.3    4 647694 647729 -323843   647686 58.375  1  2.166e-14 ***\n",
            "---\n",
            "Signif. codes:  0 ‘***’ 0.001 ‘**’ 0.01 ‘*’ 0.05 ‘.’ 0.1 ‘ ’ 1\n"
          ],
          "name": "stdout"
        }
      ]
    },
    {
      "cell_type": "markdown",
      "metadata": {
        "id": "4fXa9WQx6Zzh"
      },
      "source": [
        "## Multivariable models"
      ]
    },
    {
      "cell_type": "code",
      "metadata": {
        "id": "N2pB1m1lXFCW"
      },
      "source": [
        "%%R\n",
        "Model2.0 <- lme4::lmer(\n",
        "                  SensorValue ~ \n",
        "                  Parity + MonthsInMilk + CalvingSeason + MilkingType +\n",
        "                  (1| HerdIdentifier:AnimalIdentifier),\n",
        "                  REML = FALSE,\n",
        "                  data = AnalysisData\n",
        "                  )"
      ],
      "execution_count": null,
      "outputs": []
    },
    {
      "cell_type": "code",
      "metadata": {
        "colab": {
          "base_uri": "https://localhost:8080/"
        },
        "id": "_jkt1d5IbXsd",
        "outputId": "995611e3-b42c-48a2-cd1d-b56acffdf561"
      },
      "source": [
        "%%R\n",
        "drop1(Model2.0,test=\"Chisq\")"
      ],
      "execution_count": null,
      "outputs": [
        {
          "output_type": "stream",
          "text": [
            "Single term deletions\n",
            "\n",
            "Model:\n",
            "SensorValue ~ Parity + MonthsInMilk + CalvingSeason + MilkingType + \n",
            "    (1 | HerdIdentifier:AnimalIdentifier)\n",
            "              npar    AIC    LRT   Pr(Chi)    \n",
            "<none>             644375                     \n",
            "Parity           2 644411   39.7 2.429e-09 ***\n",
            "MonthsInMilk    11 647681 3328.3 < 2.2e-16 ***\n",
            "CalvingSeason    3 644384   14.6  0.002207 ** \n",
            "MilkingType      1 644428   54.6 1.502e-13 ***\n",
            "---\n",
            "Signif. codes:  0 ‘***’ 0.001 ‘**’ 0.01 ‘*’ 0.05 ‘.’ 0.1 ‘ ’ 1\n"
          ],
          "name": "stdout"
        }
      ]
    },
    {
      "cell_type": "markdown",
      "metadata": {
        "id": "9XZ9DvYyaWu4"
      },
      "source": [
        "## Introduction of interactions"
      ]
    },
    {
      "cell_type": "markdown",
      "metadata": {
        "id": "Qhp46ofuaanX"
      },
      "source": [
        "### Interactions with MonthsInMilk"
      ]
    },
    {
      "cell_type": "code",
      "metadata": {
        "colab": {
          "base_uri": "https://localhost:8080/"
        },
        "id": "GwUvYh3GcTk2",
        "outputId": "06297810-ea71-4e28-8ad0-bb8b3883132f"
      },
      "source": [
        "%%R\n",
        "Model2.1 <- lme4::lmer(\n",
        "                  SensorValue ~ \n",
        "                  MonthsInMilk*Parity + CalvingSeason + MilkingType +\n",
        "                  (1| HerdIdentifier:AnimalIdentifier),\n",
        "                  REML = FALSE,\n",
        "                  data = AnalysisData\n",
        "                  )\n",
        "anova(Model2.0,Model2.1,test=\"Chisq\")"
      ],
      "execution_count": null,
      "outputs": [
        {
          "output_type": "stream",
          "text": [
            "Data: AnalysisData\n",
            "Models:\n",
            "Model2.0: SensorValue ~ Parity + MonthsInMilk + CalvingSeason + MilkingType + \n",
            "Model2.0:     (1 | HerdIdentifier:AnimalIdentifier)\n",
            "Model2.1: SensorValue ~ MonthsInMilk * Parity + CalvingSeason + MilkingType + \n",
            "Model2.1:     (1 | HerdIdentifier:AnimalIdentifier)\n",
            "         npar    AIC    BIC  logLik deviance  Chisq Df Pr(>Chisq)    \n",
            "Model2.0   20 644375 644551 -322168   644335                         \n",
            "Model2.1   42 643960 644330 -321938   643876 459.05 22  < 2.2e-16 ***\n",
            "---\n",
            "Signif. codes:  0 ‘***’ 0.001 ‘**’ 0.01 ‘*’ 0.05 ‘.’ 0.1 ‘ ’ 1\n"
          ],
          "name": "stdout"
        }
      ]
    },
    {
      "cell_type": "code",
      "metadata": {
        "colab": {
          "base_uri": "https://localhost:8080/"
        },
        "id": "0NJnAdV6anvu",
        "outputId": "c0463c23-0e37-4f4e-c974-7bda92d91d99"
      },
      "source": [
        "%%R\n",
        "Model2.2 <- lme4::lmer(\n",
        "                  SensorValue ~ \n",
        "                  MonthsInMilk*MilkingType + CalvingSeason + Parity +\n",
        "                  (1| HerdIdentifier:AnimalIdentifier),\n",
        "                  REML = FALSE,\n",
        "                  data = AnalysisData\n",
        "                  )\n",
        "anova(Model2.0,Model2.2,test=\"Chisq\")"
      ],
      "execution_count": null,
      "outputs": [
        {
          "output_type": "stream",
          "text": [
            "Data: AnalysisData\n",
            "Models:\n",
            "Model2.0: SensorValue ~ Parity + MonthsInMilk + CalvingSeason + MilkingType + \n",
            "Model2.0:     (1 | HerdIdentifier:AnimalIdentifier)\n",
            "Model2.2: SensorValue ~ MonthsInMilk * MilkingType + CalvingSeason + Parity + \n",
            "Model2.2:     (1 | HerdIdentifier:AnimalIdentifier)\n",
            "         npar    AIC    BIC  logLik deviance  Chisq Df Pr(>Chisq)    \n",
            "Model2.0   20 644375 644551 -322168   644335                         \n",
            "Model2.2   31 644359 644632 -322148   644297 38.557 11  6.298e-05 ***\n",
            "---\n",
            "Signif. codes:  0 ‘***’ 0.001 ‘**’ 0.01 ‘*’ 0.05 ‘.’ 0.1 ‘ ’ 1\n"
          ],
          "name": "stdout"
        }
      ]
    },
    {
      "cell_type": "code",
      "metadata": {
        "colab": {
          "base_uri": "https://localhost:8080/"
        },
        "id": "HAEnlbtnap8-",
        "outputId": "c325e4f5-caed-4d56-8517-e84d103c1df0"
      },
      "source": [
        "%%R\n",
        "Model2.3 <- lme4::lmer(\n",
        "                  SensorValue ~ \n",
        "                  MonthsInMilk*CalvingSeason + Parity + MilkingType +\n",
        "                  (1| HerdIdentifier:AnimalIdentifier),\n",
        "                  REML = FALSE,\n",
        "                  data = AnalysisData\n",
        "                  )\n",
        "anova(Model2.0,Model2.3,test=\"Chisq\")"
      ],
      "execution_count": null,
      "outputs": [
        {
          "output_type": "stream",
          "text": [
            "Data: AnalysisData\n",
            "Models:\n",
            "Model2.0: SensorValue ~ Parity + MonthsInMilk + CalvingSeason + MilkingType + \n",
            "Model2.0:     (1 | HerdIdentifier:AnimalIdentifier)\n",
            "Model2.3: SensorValue ~ MonthsInMilk * CalvingSeason + Parity + MilkingType + \n",
            "Model2.3:     (1 | HerdIdentifier:AnimalIdentifier)\n",
            "         npar    AIC    BIC  logLik deviance  Chisq Df Pr(>Chisq)    \n",
            "Model2.0   20 644375 644551 -322168   644335                         \n",
            "Model2.3   53 643314 643782 -321604   643208 1126.8 33  < 2.2e-16 ***\n",
            "---\n",
            "Signif. codes:  0 ‘***’ 0.001 ‘**’ 0.01 ‘*’ 0.05 ‘.’ 0.1 ‘ ’ 1\n"
          ],
          "name": "stdout"
        }
      ]
    },
    {
      "cell_type": "markdown",
      "metadata": {
        "id": "TZTRb2NUatVq"
      },
      "source": [
        "## Multiple interactions"
      ]
    },
    {
      "cell_type": "code",
      "metadata": {
        "colab": {
          "base_uri": "https://localhost:8080/"
        },
        "id": "6CL6nfkpaxp7",
        "outputId": "55164741-20e9-4a11-a2a6-bfe073c4b467"
      },
      "source": [
        "%%R\n",
        "Model2.4 <- lme4::lmer(\n",
        "                  SensorValue ~ \n",
        "                  MonthsInMilk*CalvingSeason + \n",
        "                  MonthsInMilk*Parity + \n",
        "                  MonthsInMilk*MilkingType +\n",
        "                  (1| HerdIdentifier:AnimalIdentifier),\n",
        "                  REML = FALSE,\n",
        "                  data = AnalysisData\n",
        "                  )\n",
        "anova(Model2.0,Model2.4,test=\"Chisq\")"
      ],
      "execution_count": null,
      "outputs": [
        {
          "output_type": "stream",
          "text": [
            "Data: AnalysisData\n",
            "Models:\n",
            "Model2.0: SensorValue ~ Parity + MonthsInMilk + CalvingSeason + MilkingType + \n",
            "Model2.0:     (1 | HerdIdentifier:AnimalIdentifier)\n",
            "Model2.4: SensorValue ~ MonthsInMilk * CalvingSeason + MonthsInMilk * Parity + \n",
            "Model2.4:     MonthsInMilk * MilkingType + (1 | HerdIdentifier:AnimalIdentifier)\n",
            "         npar    AIC    BIC  logLik deviance  Chisq Df Pr(>Chisq)    \n",
            "Model2.0   20 644375 644551 -322168   644335                         \n",
            "Model2.4   86 642848 643606 -321338   642676 1659.5 66  < 2.2e-16 ***\n",
            "---\n",
            "Signif. codes:  0 ‘***’ 0.001 ‘**’ 0.01 ‘*’ 0.05 ‘.’ 0.1 ‘ ’ 1\n"
          ],
          "name": "stdout"
        }
      ]
    },
    {
      "cell_type": "code",
      "metadata": {
        "colab": {
          "base_uri": "https://localhost:8080/"
        },
        "id": "aYTDgU-ca1d0",
        "outputId": "31049ce4-61db-48f1-be89-b2c11911cc5c"
      },
      "source": [
        "%%R\n",
        "summary(Model2.4)"
      ],
      "execution_count": null,
      "outputs": [
        {
          "output_type": "stream",
          "text": [
            "Linear mixed model fit by maximum likelihood  ['lmerMod']\n",
            "Formula: SensorValue ~ MonthsInMilk * CalvingSeason + MonthsInMilk * Parity +  \n",
            "    MonthsInMilk * MilkingType + (1 | HerdIdentifier:AnimalIdentifier)\n",
            "   Data: AnalysisData\n",
            "\n",
            "      AIC       BIC    logLik  deviance  df.resid \n",
            " 642847.7  643606.0 -321337.8  642675.7     49781 \n",
            "\n",
            "Scaled residuals: \n",
            "    Min      1Q  Median      3Q     Max \n",
            "-10.580  -0.347   0.018   0.361  48.749 \n",
            "\n",
            "Random effects:\n",
            " Groups                          Name        Variance Std.Dev.\n",
            " HerdIdentifier:AnimalIdentifier (Intercept) 11012    104.9   \n",
            " Residual                                    21197    145.6   \n",
            "Number of obs: 49867, groups:  HerdIdentifier:AnimalIdentifier, 1682\n",
            "\n",
            "Fixed effects:\n",
            "                                   Estimate Std. Error t value\n",
            "(Intercept)                         776.937      9.663  80.404\n",
            "MonthsInMilk0                       -88.209     10.669  -8.268\n",
            "MonthsInMilk1                      -141.843     10.958 -12.944\n",
            "MonthsInMilk2                       -75.541     10.762  -7.019\n",
            "MonthsInMilk3                       -52.533     10.969  -4.789\n",
            "MonthsInMilk4                       -46.024     10.916  -4.216\n",
            "MonthsInMilk5                       -37.950     10.692  -3.549\n",
            "MonthsInMilk6                       -34.977     10.745  -3.255\n",
            "MonthsInMilk7                       -40.070     10.708  -3.742\n",
            "MonthsInMilk8                       -59.942     10.946  -5.476\n",
            "MonthsInMilk9                       -74.981     10.930  -6.860\n",
            "MonthsInMilk10                      -72.440     10.863  -6.668\n",
            "CalvingSeasonSpring                  50.292      7.114   7.070\n",
            "CalvingSeasonSummer                   3.145      6.696   0.470\n",
            "CalvingSeasonWinter                  96.909      7.012  13.821\n",
            "Parity2                             -51.683      7.820  -6.609\n",
            "Parity3+                            -35.225      7.074  -4.980\n",
            "MilkingTypeCMS                      -24.998      7.681  -3.255\n",
            "MonthsInMilk0:CalvingSeasonSpring   -15.595      8.870  -1.758\n",
            "MonthsInMilk1:CalvingSeasonSpring   -69.651      9.263  -7.519\n",
            "MonthsInMilk2:CalvingSeasonSpring   -97.238      9.567 -10.164\n",
            "MonthsInMilk3:CalvingSeasonSpring  -113.939      9.802 -11.624\n",
            "MonthsInMilk4:CalvingSeasonSpring  -109.189      9.751 -11.198\n",
            "MonthsInMilk5:CalvingSeasonSpring   -88.946      9.418  -9.444\n",
            "MonthsInMilk6:CalvingSeasonSpring   -71.665      9.136  -7.844\n",
            "MonthsInMilk7:CalvingSeasonSpring   -61.411      9.235  -6.650\n",
            "MonthsInMilk8:CalvingSeasonSpring   -33.344      9.574  -3.483\n",
            "MonthsInMilk9:CalvingSeasonSpring   -10.034     10.015  -1.002\n",
            "MonthsInMilk10:CalvingSeasonSpring    6.429     10.032   0.641\n",
            "MonthsInMilk0:CalvingSeasonSummer   -20.591      8.495  -2.424\n",
            "MonthsInMilk1:CalvingSeasonSummer   -29.628      8.763  -3.381\n",
            "MonthsInMilk2:CalvingSeasonSummer   -31.335      8.665  -3.616\n",
            "MonthsInMilk3:CalvingSeasonSummer   -18.014      8.809  -2.045\n",
            "MonthsInMilk4:CalvingSeasonSummer     5.173      8.842   0.585\n",
            "MonthsInMilk5:CalvingSeasonSummer    13.443      8.676   1.549\n",
            "MonthsInMilk6:CalvingSeasonSummer    18.094      9.081   1.993\n",
            "MonthsInMilk7:CalvingSeasonSummer    20.748      9.085   2.284\n",
            "MonthsInMilk8:CalvingSeasonSummer    26.944      9.137   2.949\n",
            "MonthsInMilk9:CalvingSeasonSummer    37.731      9.120   4.137\n",
            "MonthsInMilk10:CalvingSeasonSummer   29.466      9.122   3.230\n",
            "MonthsInMilk0:CalvingSeasonWinter   -35.585      9.001  -3.954\n",
            "MonthsInMilk1:CalvingSeasonWinter   -99.309      9.440 -10.519\n",
            "MonthsInMilk2:CalvingSeasonWinter  -115.287      9.135 -12.621\n",
            "MonthsInMilk3:CalvingSeasonWinter  -124.187      9.466 -13.120\n",
            "MonthsInMilk4:CalvingSeasonWinter  -123.605      9.489 -13.026\n",
            "MonthsInMilk5:CalvingSeasonWinter  -133.761      9.594 -13.943\n",
            "MonthsInMilk6:CalvingSeasonWinter  -143.621      9.600 -14.960\n",
            "MonthsInMilk7:CalvingSeasonWinter  -141.949      9.485 -14.965\n",
            "MonthsInMilk8:CalvingSeasonWinter  -115.781      9.675 -11.968\n",
            "MonthsInMilk9:CalvingSeasonWinter   -90.266      9.383  -9.620\n",
            "MonthsInMilk10:CalvingSeasonWinter  -73.120      9.314  -7.851\n",
            "MonthsInMilk0:Parity2               127.215      9.964  12.767\n",
            "MonthsInMilk1:Parity2                96.022     10.237   9.379\n",
            "MonthsInMilk2:Parity2                34.877     10.107   3.451\n",
            "MonthsInMilk3:Parity2                28.620     10.092   2.836\n",
            "MonthsInMilk4:Parity2                29.238     10.061   2.906\n",
            "MonthsInMilk5:Parity2                36.367     10.044   3.621\n",
            "MonthsInMilk6:Parity2                37.788     10.079   3.749\n",
            "MonthsInMilk7:Parity2                45.748     10.072   4.542\n",
            "MonthsInMilk8:Parity2                52.243     10.097   5.174\n",
            "MonthsInMilk9:Parity2                55.164     10.098   5.463\n",
            "MonthsInMilk10:Parity2               57.313     10.092   5.679\n",
            "MonthsInMilk0:Parity3+              114.743      8.819  13.011\n",
            "MonthsInMilk1:Parity3+               77.097      9.067   8.503\n",
            "MonthsInMilk2:Parity3+                4.718      8.963   0.526\n",
            "MonthsInMilk3:Parity3+               -4.140      8.931  -0.464\n",
            "MonthsInMilk4:Parity3+               -2.255      8.923  -0.253\n",
            "MonthsInMilk5:Parity3+                4.189      8.904   0.470\n",
            "MonthsInMilk6:Parity3+                7.178      8.944   0.802\n",
            "MonthsInMilk7:Parity3+                9.855      8.949   1.101\n",
            "MonthsInMilk8:Parity3+               16.701      8.942   1.868\n",
            "MonthsInMilk9:Parity3+               21.903      8.956   2.446\n",
            "MonthsInMilk10:Parity3+              29.590      8.946   3.308\n",
            "MonthsInMilk0:MilkingTypeCMS        -11.356      6.966  -1.630\n",
            "MonthsInMilk1:MilkingTypeCMS        -24.603      7.250  -3.394\n",
            "MonthsInMilk2:MilkingTypeCMS        -22.851      7.167  -3.188\n",
            "MonthsInMilk3:MilkingTypeCMS        -18.561      7.139  -2.600\n",
            "MonthsInMilk4:MilkingTypeCMS        -10.794      7.136  -1.513\n",
            "MonthsInMilk5:MilkingTypeCMS        -22.120      7.138  -3.099\n",
            "MonthsInMilk6:MilkingTypeCMS        -17.134      7.195  -2.381\n",
            "MonthsInMilk7:MilkingTypeCMS        -13.399      7.205  -1.860\n",
            "MonthsInMilk8:MilkingTypeCMS         -9.253      7.202  -1.285\n",
            "MonthsInMilk9:MilkingTypeCMS         -8.448      7.211  -1.172\n",
            "MonthsInMilk10:MilkingTypeCMS       -14.374      7.226  -1.989\n"
          ],
          "name": "stdout"
        },
        {
          "output_type": "stream",
          "text": [
            "R[write to console]: \n",
            "Correlation matrix not shown by default, as p = 84 > 12.\n",
            "Use print(object, correlation=TRUE)  or\n",
            "    vcov(object)        if you need it\n",
            "\n",
            "\n"
          ],
          "name": "stderr"
        }
      ]
    },
    {
      "cell_type": "code",
      "metadata": {
        "colab": {
          "base_uri": "https://localhost:8080/"
        },
        "id": "7fK8J7xra5LU",
        "outputId": "857700a3-fa7f-437b-cb9c-20839888a16e"
      },
      "source": [
        "%%R\n",
        "finalModel <- Model2.4\n",
        "Modeldrop <- drop1(finalModel, test=\"Chisq\")\n",
        "if(\"Pr(>F)\" %in% colnames(Modeldrop))\n",
        "{\n",
        "  Pvalues <- Modeldrop$`Pr(>F)`\n",
        "} else \n",
        "{\n",
        "  Pvalues <- Modeldrop$`Pr(Chi)`\n",
        "}\n",
        "Modeldrop"
      ],
      "execution_count": null,
      "outputs": [
        {
          "output_type": "stream",
          "text": [
            "Single term deletions\n",
            "\n",
            "Model:\n",
            "SensorValue ~ MonthsInMilk * CalvingSeason + MonthsInMilk * Parity + \n",
            "    MonthsInMilk * MilkingType + (1 | HerdIdentifier:AnimalIdentifier)\n",
            "                           npar    AIC     LRT Pr(Chi)    \n",
            "<none>                          642848                    \n",
            "MonthsInMilk:CalvingSeason   33 643949 1167.82 < 2e-16 ***\n",
            "MonthsInMilk:Parity          22 643303  498.92 < 2e-16 ***\n",
            "MonthsInMilk:MilkingType     11 642847   21.67 0.02702 *  \n",
            "---\n",
            "Signif. codes:  0 ‘***’ 0.001 ‘**’ 0.01 ‘*’ 0.05 ‘.’ 0.1 ‘ ’ 1\n"
          ],
          "name": "stdout"
        }
      ]
    },
    {
      "cell_type": "code",
      "metadata": {
        "id": "KS6AOklKa7uw"
      },
      "source": [
        "%%R\n",
        "save(finalModel, file=\"/content/drive/Shareddrives/Bovi-Analytics/Projects/SenseOfSensors/CsvData/SensorAggRepartitioned08032021/finalmodellyingtime.rdata\")"
      ],
      "execution_count": null,
      "outputs": []
    },
    {
      "cell_type": "markdown",
      "metadata": {
        "id": "fQ72SzOsbA2j"
      },
      "source": [
        "# Final model analysis of variance"
      ]
    },
    {
      "cell_type": "code",
      "metadata": {
        "colab": {
          "base_uri": "https://localhost:8080/"
        },
        "id": "Xg8svXkGbF5C",
        "outputId": "eee5f775-353e-435a-ba99-6bfc8643ba56"
      },
      "source": [
        "%%R\n",
        "Anova(finalModel)"
      ],
      "execution_count": null,
      "outputs": [
        {
          "output_type": "stream",
          "text": [
            "Analysis of Deviance Table (Type II Wald chisquare tests)\n",
            "\n",
            "Response: SensorValue\n",
            "                              Chisq Df Pr(>Chisq)    \n",
            "MonthsInMilk               3570.568 11  < 2.2e-16 ***\n",
            "CalvingSeason                15.807  3   0.001242 ** \n",
            "Parity                       30.701  2  2.154e-07 ***\n",
            "MilkingType                  45.871  1  1.263e-11 ***\n",
            "MonthsInMilk:CalvingSeason 1182.106 33  < 2.2e-16 ***\n",
            "MonthsInMilk:Parity         501.609 22  < 2.2e-16 ***\n",
            "MonthsInMilk:MilkingType     21.682 11   0.026959 *  \n",
            "---\n",
            "Signif. codes:  0 ‘***’ 0.001 ‘**’ 0.01 ‘*’ 0.05 ‘.’ 0.1 ‘ ’ 1\n"
          ],
          "name": "stdout"
        }
      ]
    },
    {
      "cell_type": "markdown",
      "metadata": {
        "id": "KPkbZVgZbJnc"
      },
      "source": [
        "# Final model figures and LSM (95% CI)"
      ]
    },
    {
      "cell_type": "markdown",
      "metadata": {
        "id": "xteNwT2pbO6N"
      },
      "source": [
        "## Main effects"
      ]
    },
    {
      "cell_type": "code",
      "metadata": {
        "colab": {
          "base_uri": "https://localhost:8080/"
        },
        "id": "SNFZWBKjbRlc",
        "outputId": "fb62f2fb-fa58-49c8-c221-541428f19d29"
      },
      "source": [
        "%%R\n",
        "multcomp::cld(lsmeans::lsmeans(finalModel, ~ MonthsInMilk), alpha=0.05, Letters=letters, adjust=\"tukey\")"
      ],
      "execution_count": null,
      "outputs": [
        {
          "output_type": "stream",
          "text": [
            "R[write to console]: Note: D.f. calculations have been disabled because the number of observations exceeds 3000.\n",
            "To enable adjustments, add the argument 'pbkrtest.limit = 49867' (or larger)\n",
            "[or, globally, 'set emm_options(pbkrtest.limit = 49867)' or larger];\n",
            "but be warned that this may result in large computation time and memory use.\n",
            "\n",
            "R[write to console]: Note: D.f. calculations have been disabled because the number of observations exceeds 3000.\n",
            "To enable adjustments, add the argument 'lmerTest.limit = 49867' (or larger)\n",
            "[or, globally, 'set emm_options(lmerTest.limit = 49867)' or larger];\n",
            "but be warned that this may result in large computation time and memory use.\n",
            "\n",
            "R[write to console]: NOTE: Results may be misleading due to involvement in interactions\n",
            "\n",
            "R[write to console]: Note: adjust = \"tukey\" was changed to \"sidak\"\n",
            "because \"tukey\" is only appropriate for one set of pairwise comparisons\n",
            "\n"
          ],
          "name": "stderr"
        },
        {
          "output_type": "stream",
          "text": [
            " MonthsInMilk lsmean   SE  df asymp.LCL asymp.UCL .group   \n",
            " 1               627 3.92 Inf       616       638  a       \n",
            " 2               638 3.88 Inf       627       649  a       \n",
            " 3               655 3.85 Inf       644       666   b      \n",
            " 4               674 3.84 Inf       663       685    c     \n",
            " 5               685 3.84 Inf       674       696    cd    \n",
            " 6               695 3.83 Inf       684       706     de   \n",
            " 7               699 3.83 Inf       688       710      e   \n",
            " 8               701 3.82 Inf       690       712      e   \n",
            " 9               704 3.84 Inf       693       715      ef  \n",
            " 10              713 3.84 Inf       702       724       f  \n",
            " 0               742 3.81 Inf       731       753        g \n",
            " -1              773 4.11 Inf       761       785         h\n",
            "\n",
            "Results are averaged over the levels of: CalvingSeason, Parity, MilkingType \n",
            "Degrees-of-freedom method: asymptotic \n",
            "Confidence level used: 0.95 \n",
            "Conf-level adjustment: sidak method for 12 estimates \n",
            "P value adjustment: tukey method for comparing a family of 12 estimates \n",
            "significance level used: alpha = 0.05 \n"
          ],
          "name": "stdout"
        }
      ]
    },
    {
      "cell_type": "code",
      "metadata": {
        "colab": {
          "base_uri": "https://localhost:8080/"
        },
        "id": "xqSz6GpKbUn7",
        "outputId": "993159c4-931f-4586-f4bf-72a2a3d59289"
      },
      "source": [
        "%%R\n",
        "multcomp::cld(lsmeans::lsmeans(finalModel, ~ Parity), alpha=0.05, Letters=letters, adjust=\"tukey\")"
      ],
      "execution_count": null,
      "outputs": [
        {
          "output_type": "stream",
          "text": [
            "R[write to console]: Note: D.f. calculations have been disabled because the number of observations exceeds 3000.\n",
            "To enable adjustments, add the argument 'pbkrtest.limit = 49867' (or larger)\n",
            "[or, globally, 'set emm_options(pbkrtest.limit = 49867)' or larger];\n",
            "but be warned that this may result in large computation time and memory use.\n",
            "\n",
            "R[write to console]: Note: D.f. calculations have been disabled because the number of observations exceeds 3000.\n",
            "To enable adjustments, add the argument 'lmerTest.limit = 49867' (or larger)\n",
            "[or, globally, 'set emm_options(lmerTest.limit = 49867)' or larger];\n",
            "but be warned that this may result in large computation time and memory use.\n",
            "\n",
            "R[write to console]: NOTE: Results may be misleading due to involvement in interactions\n",
            "\n",
            "R[write to console]: Note: adjust = \"tukey\" was changed to \"sidak\"\n",
            "because \"tukey\" is only appropriate for one set of pairwise comparisons\n",
            "\n"
          ],
          "name": "stderr"
        },
        {
          "output_type": "stream",
          "text": [
            " Parity lsmean   SE  df asymp.LCL asymp.UCL .group\n",
            " 3+        685 3.07 Inf       678       692  a    \n",
            " 2         695 3.16 Inf       688       703   b   \n",
            " 1         697 3.22 Inf       689       704   b   \n",
            "\n",
            "Results are averaged over the levels of: MonthsInMilk, CalvingSeason, MilkingType \n",
            "Degrees-of-freedom method: asymptotic \n",
            "Confidence level used: 0.95 \n",
            "Conf-level adjustment: sidak method for 3 estimates \n",
            "P value adjustment: tukey method for comparing a family of 3 estimates \n",
            "significance level used: alpha = 0.05 \n"
          ],
          "name": "stdout"
        }
      ]
    },
    {
      "cell_type": "code",
      "metadata": {
        "colab": {
          "base_uri": "https://localhost:8080/"
        },
        "id": "lWVKjGdfbZD3",
        "outputId": "c6a34936-21c1-42dc-916e-09bd56dac84a"
      },
      "source": [
        "%%R\n",
        "multcomp::cld(lsmeans::lsmeans(finalModel, ~ CalvingSeason), alpha=0.05, Letters=letters, adjust=\"tukey\")"
      ],
      "execution_count": null,
      "outputs": [
        {
          "output_type": "stream",
          "text": [
            "R[write to console]: Note: D.f. calculations have been disabled because the number of observations exceeds 3000.\n",
            "To enable adjustments, add the argument 'pbkrtest.limit = 49867' (or larger)\n",
            "[or, globally, 'set emm_options(pbkrtest.limit = 49867)' or larger];\n",
            "but be warned that this may result in large computation time and memory use.\n",
            "\n",
            "R[write to console]: Note: D.f. calculations have been disabled because the number of observations exceeds 3000.\n",
            "To enable adjustments, add the argument 'lmerTest.limit = 49867' (or larger)\n",
            "[or, globally, 'set emm_options(lmerTest.limit = 49867)' or larger];\n",
            "but be warned that this may result in large computation time and memory use.\n",
            "\n",
            "R[write to console]: NOTE: Results may be misleading due to involvement in interactions\n",
            "\n",
            "R[write to console]: Note: adjust = \"tukey\" was changed to \"sidak\"\n",
            "because \"tukey\" is only appropriate for one set of pairwise comparisons\n",
            "\n"
          ],
          "name": "stderr"
        },
        {
          "output_type": "stream",
          "text": [
            " CalvingSeason lsmean   SE  df asymp.LCL asymp.UCL .group\n",
            " Spring           687 3.46 Inf       679       696  a    \n",
            " Winter           690 3.47 Inf       681       698  a    \n",
            " Autumn           692 3.33 Inf       684       701  a    \n",
            " Summer           700 3.33 Inf       692       708   b   \n",
            "\n",
            "Results are averaged over the levels of: MonthsInMilk, Parity, MilkingType \n",
            "Degrees-of-freedom method: asymptotic \n",
            "Confidence level used: 0.95 \n",
            "Conf-level adjustment: sidak method for 4 estimates \n",
            "P value adjustment: tukey method for comparing a family of 4 estimates \n",
            "significance level used: alpha = 0.05 \n"
          ],
          "name": "stdout"
        }
      ]
    },
    {
      "cell_type": "code",
      "metadata": {
        "colab": {
          "base_uri": "https://localhost:8080/"
        },
        "id": "Or-Wd5BybbeA",
        "outputId": "2b3d0a70-d084-4532-9036-9a90240e9dfd"
      },
      "source": [
        "%%R\n",
        "multcomp::cld(lsmeans::lsmeans(finalModel, ~ MilkingType), alpha=0.05, Letters=letters, adjust=\"tukey\")"
      ],
      "execution_count": null,
      "outputs": [
        {
          "output_type": "stream",
          "text": [
            "R[write to console]: Note: D.f. calculations have been disabled because the number of observations exceeds 3000.\n",
            "To enable adjustments, add the argument 'pbkrtest.limit = 49867' (or larger)\n",
            "[or, globally, 'set emm_options(pbkrtest.limit = 49867)' or larger];\n",
            "but be warned that this may result in large computation time and memory use.\n",
            "\n",
            "R[write to console]: Note: D.f. calculations have been disabled because the number of observations exceeds 3000.\n",
            "To enable adjustments, add the argument 'lmerTest.limit = 49867' (or larger)\n",
            "[or, globally, 'set emm_options(lmerTest.limit = 49867)' or larger];\n",
            "but be warned that this may result in large computation time and memory use.\n",
            "\n",
            "R[write to console]: NOTE: Results may be misleading due to involvement in interactions\n",
            "\n",
            "R[write to console]: Note: adjust = \"tukey\" was changed to \"sidak\"\n",
            "because \"tukey\" is only appropriate for one set of pairwise comparisons\n",
            "\n"
          ],
          "name": "stderr"
        },
        {
          "output_type": "stream",
          "text": [
            " MilkingType lsmean   SE  df asymp.LCL asymp.UCL .group\n",
            " CMS            673 3.25 Inf       665       680  a    \n",
            " AMS            712 4.85 Inf       701       723   b   \n",
            "\n",
            "Results are averaged over the levels of: MonthsInMilk, CalvingSeason, Parity \n",
            "Degrees-of-freedom method: asymptotic \n",
            "Confidence level used: 0.95 \n",
            "Conf-level adjustment: sidak method for 2 estimates \n",
            "significance level used: alpha = 0.05 \n"
          ],
          "name": "stdout"
        }
      ]
    },
    {
      "cell_type": "markdown",
      "metadata": {
        "id": "O3VXNZwqbdxL"
      },
      "source": [
        "## Interactions"
      ]
    },
    {
      "cell_type": "markdown",
      "metadata": {
        "id": "TrPZ-nb1bgZZ"
      },
      "source": [
        "### MonthsInMilk by parity"
      ]
    },
    {
      "cell_type": "code",
      "metadata": {
        "colab": {
          "base_uri": "https://localhost:8080/"
        },
        "id": "FJfSTN3fbqV_",
        "outputId": "6dcd6986-3499-4c85-bb4c-4341d0b4c7df"
      },
      "source": [
        "%%R\n",
        "LSMs<-lsmeans::lsmeans(finalModel, pairwise ~ MonthsInMilk|Parity, type = \"response\", glhargs=list())\n",
        "multcomp::cld(LSMs[[1]], alpha=0.05, Letters=letters, adjust=\"tukey\")"
      ],
      "execution_count": null,
      "outputs": [
        {
          "output_type": "stream",
          "text": [
            "R[write to console]: Note: D.f. calculations have been disabled because the number of observations exceeds 3000.\n",
            "To enable adjustments, add the argument 'pbkrtest.limit = 49867' (or larger)\n",
            "[or, globally, 'set emm_options(pbkrtest.limit = 49867)' or larger];\n",
            "but be warned that this may result in large computation time and memory use.\n",
            "\n",
            "R[write to console]: Note: D.f. calculations have been disabled because the number of observations exceeds 3000.\n",
            "To enable adjustments, add the argument 'lmerTest.limit = 49867' (or larger)\n",
            "[or, globally, 'set emm_options(lmerTest.limit = 49867)' or larger];\n",
            "but be warned that this may result in large computation time and memory use.\n",
            "\n",
            "R[write to console]: Note: adjust = \"tukey\" was changed to \"sidak\"\n",
            "because \"tukey\" is only appropriate for one set of pairwise comparisons\n",
            "\n"
          ],
          "name": "stderr"
        },
        {
          "output_type": "stream",
          "text": [
            "Parity = 1:\n",
            " MonthsInMilk lsmean   SE  df asymp.LCL asymp.UCL .group  \n",
            " 1               598 5.90 Inf       581       615  a      \n",
            " 2               654 5.70 Inf       638       670   b     \n",
            " 3               676 5.60 Inf       660       692   bc    \n",
            " 0               690 5.70 Inf       674       706    cd   \n",
            " 4               694 5.54 Inf       678       710    cde  \n",
            " 5               701 5.47 Inf       685       716     de  \n",
            " 8               707 5.39 Inf       691       722     de  \n",
            " 9               707 5.38 Inf       692       723     de  \n",
            " 6               709 5.49 Inf       694       725     de  \n",
            " 7               710 5.44 Inf       694       725     de  \n",
            " 10              713 5.33 Inf       698       728      e  \n",
            " -1              802 6.98 Inf       782       822       f \n",
            "\n",
            "Parity = 2:\n",
            " MonthsInMilk lsmean   SE  df asymp.LCL asymp.UCL .group  \n",
            " 2               637 5.39 Inf       622       653  a      \n",
            " 1               643 5.45 Inf       627       658  a      \n",
            " 3               653 5.39 Inf       638       669  ab     \n",
            " 4               671 5.37 Inf       656       687   bc    \n",
            " 5               685 5.40 Inf       670       701    cd   \n",
            " 6               695 5.42 Inf       680       711     de  \n",
            " 7               704 5.44 Inf       688       719     def \n",
            " 8               707 5.48 Inf       692       723      ef \n",
            " 9               711 5.50 Inf       695       726      ef \n",
            " 10              719 5.54 Inf       703       735       f \n",
            " -1              750 5.58 Inf       734       766        g\n",
            " 0               766 5.19 Inf       751       781        g\n",
            "\n",
            "Parity = 3+:\n",
            " MonthsInMilk lsmean   SE  df asymp.LCL asymp.UCL .group  \n",
            " 2               624 4.39 Inf       611       636  a      \n",
            " 3               637 4.41 Inf       624       649  ab     \n",
            " 1               640 4.39 Inf       628       653   b     \n",
            " 4               656 4.43 Inf       644       669    c    \n",
            " 5               670 4.46 Inf       657       682    cd   \n",
            " 6               681 4.49 Inf       668       694     de  \n",
            " 7               684 4.52 Inf       671       697     de  \n",
            " 8               688 4.53 Inf       675       701      e  \n",
            " 9               694 4.57 Inf       681       707      ef \n",
            " 10              707 4.63 Inf       694       721       f \n",
            " -1              767 4.37 Inf       754       779        g\n",
            " 0               770 4.14 Inf       758       782        g\n",
            "\n",
            "Results are averaged over the levels of: CalvingSeason, MilkingType \n",
            "Degrees-of-freedom method: asymptotic \n",
            "Confidence level used: 0.95 \n",
            "Conf-level adjustment: sidak method for 12 estimates \n",
            "P value adjustment: tukey method for comparing a family of 12 estimates \n",
            "significance level used: alpha = 0.05 \n"
          ],
          "name": "stdout"
        }
      ]
    },
    {
      "cell_type": "code",
      "metadata": {
        "colab": {
          "base_uri": "https://localhost:8080/",
          "height": 497
        },
        "id": "X-ObtTjzbuL4",
        "outputId": "8349207b-be76-4ba8-a5f4-c81dcad6bf41"
      },
      "source": [
        "%%R\n",
        "dfPValues <- summary(LSMs)[[2]]\n",
        "dfLMSs <- summary(LSMs)[[1]]\n",
        "dfLMSs %>% \n",
        "  mutate(label = if_else(MonthsInMilk == max(as.numeric(MonthsInMilk)), as.character(Parity), NA_character_)) %>%\n",
        "  ggplot(\n",
        "  aes(\n",
        "    x=MonthsInMilk,\n",
        "    y=lsmean,\n",
        "    group=Parity, \n",
        "    color=Parity)\n",
        "    ) +\n",
        "  geom_line() +  \n",
        "  geom_errorbar(\n",
        "    aes(ymin=asymp.LCL, \n",
        "        ymax=asymp.UCL), \n",
        "    width=.2,\n",
        "    position=position_dodge(0.05)) +\n",
        "  labs(\n",
        "    title = \"Lying time (min/day)\", \n",
        "    y=\"Minutes per day\" , \n",
        "    x = \"Months in milk\") +\n",
        "  theme_bw() +\n",
        "  theme(plot.title = element_text(hjust = 0.5),\n",
        "        panel.border = element_blank(), \n",
        "        panel.grid.major = element_blank(),\n",
        "        panel.grid.minor = element_blank(), \n",
        "        axis.line = element_line(colour = \"black\"))"
      ],
      "execution_count": null,
      "outputs": [
        {
          "output_type": "display_data",
          "data": {
            "image/png": "[encoded data removed]"
          },
          "metadata": {
            "tags": []
          }
        }
      ]
    },
    {
      "cell_type": "markdown",
      "metadata": {
        "id": "u-8V4-Nibkyp"
      },
      "source": [
        "### MonthsInMilk by milking type"
      ]
    },
    {
      "cell_type": "code",
      "metadata": {
        "colab": {
          "base_uri": "https://localhost:8080/"
        },
        "id": "fEBjN4SEbzH-",
        "outputId": "a68fb146-e2f5-4396-eb9d-9949a3a74af9"
      },
      "source": [
        "%%R\n",
        "LSMs<-lsmeans::lsmeans(finalModel, pairwise ~ MonthsInMilk|MilkingType, type = \"response\", glhargs=list())\n",
        "multcomp::cld(LSMs[[1]], alpha=0.05, Letters=letters, adjust=\"tukey\")"
      ],
      "execution_count": null,
      "outputs": [
        {
          "output_type": "stream",
          "text": [
            "R[write to console]: Note: D.f. calculations have been disabled because the number of observations exceeds 3000.\n",
            "To enable adjustments, add the argument 'pbkrtest.limit = 49867' (or larger)\n",
            "[or, globally, 'set emm_options(pbkrtest.limit = 49867)' or larger];\n",
            "but be warned that this may result in large computation time and memory use.\n",
            "\n",
            "R[write to console]: Note: D.f. calculations have been disabled because the number of observations exceeds 3000.\n",
            "To enable adjustments, add the argument 'lmerTest.limit = 49867' (or larger)\n",
            "[or, globally, 'set emm_options(lmerTest.limit = 49867)' or larger];\n",
            "but be warned that this may result in large computation time and memory use.\n",
            "\n",
            "R[write to console]: Note: adjust = \"tukey\" was changed to \"sidak\"\n",
            "because \"tukey\" is only appropriate for one set of pairwise comparisons\n",
            "\n"
          ],
          "name": "stderr"
        },
        {
          "output_type": "stream",
          "text": [
            "MilkingType = AMS:\n",
            " MonthsInMilk lsmean   SE  df asymp.LCL asymp.UCL .group   \n",
            " 1               652 6.44 Inf       633       670  a       \n",
            " 2               662 6.36 Inf       644       680  ab      \n",
            " 3               677 6.30 Inf       659       695   bc     \n",
            " 4               692 6.27 Inf       674       710    cd    \n",
            " 5               709 6.27 Inf       691       727     de   \n",
            " 6               716 6.28 Inf       698       734      ef  \n",
            " 8               718 6.26 Inf       700       736      ef  \n",
            " 7               718 6.28 Inf       700       736      ef  \n",
            " 9               721 6.27 Inf       703       739      ef  \n",
            " 10              733 6.27 Inf       715       751       f  \n",
            " 0               760 6.24 Inf       742       778        g \n",
            " -1              786 6.59 Inf       767       804         h\n",
            "\n",
            "MilkingType = CMS:\n",
            " MonthsInMilk lsmean   SE  df asymp.LCL asymp.UCL .group   \n",
            " 1               602 4.23 Inf       590       614  a       \n",
            " 2               614 4.21 Inf       602       626  a       \n",
            " 3               634 4.22 Inf       622       646   b      \n",
            " 4               656 4.23 Inf       644       668    c     \n",
            " 5               662 4.24 Inf       650       674    cd    \n",
            " 6               674 4.26 Inf       662       686     de   \n",
            " 7               680 4.26 Inf       668       692      e   \n",
            " 8               684 4.27 Inf       672       696      ef  \n",
            " 9               687 4.31 Inf       675       699      ef  \n",
            " 10              693 4.32 Inf       681       706       f  \n",
            " 0               724 4.10 Inf       712       735        g \n",
            " -1              761 4.46 Inf       748       773         h\n",
            "\n",
            "Results are averaged over the levels of: CalvingSeason, Parity \n",
            "Degrees-of-freedom method: asymptotic \n",
            "Confidence level used: 0.95 \n",
            "Conf-level adjustment: sidak method for 12 estimates \n",
            "P value adjustment: tukey method for comparing a family of 12 estimates \n",
            "significance level used: alpha = 0.05 \n"
          ],
          "name": "stdout"
        }
      ]
    },
    {
      "cell_type": "code",
      "metadata": {
        "colab": {
          "base_uri": "https://localhost:8080/",
          "height": 497
        },
        "id": "40jjx8m6b1qv",
        "outputId": "68fa68bc-dbca-4d83-9d95-ddf68e124a4d"
      },
      "source": [
        "%%R\n",
        "dfPValues <- summary(LSMs)[[2]]\n",
        "dfLMSs <- summary(LSMs)[[1]]\n",
        "dfLMSs %>% \n",
        "  mutate(label = if_else(MonthsInMilk == max(as.numeric(MonthsInMilk)), as.character(MilkingType), NA_character_)) %>%\n",
        "  ggplot(\n",
        "  aes(\n",
        "    x=MonthsInMilk,\n",
        "    y=lsmean,\n",
        "    group=MilkingType, \n",
        "    color=MilkingType)\n",
        "    ) +\n",
        "  geom_line() +  \n",
        "  geom_errorbar(\n",
        "    aes(ymin=asymp.LCL, \n",
        "        ymax=asymp.UCL), \n",
        "    width=.2,\n",
        "    position=position_dodge(0.05)) +\n",
        "  labs(\n",
        "    title = \"Lying time (min/day)\", \n",
        "    y=\"Minutes per day\" , \n",
        "    x = \"Months in milk\") +\n",
        "  theme_bw() +\n",
        "  theme(plot.title = element_text(hjust = 0.5),\n",
        "        panel.border = element_blank(), \n",
        "        panel.grid.major = element_blank(),\n",
        "        panel.grid.minor = element_blank(), \n",
        "        axis.line = element_line(colour = \"black\"))"
      ],
      "execution_count": null,
      "outputs": [
        {
          "output_type": "display_data",
          "data": {
            "image/png": "[encoded data removed]"
          },
          "metadata": {
            "tags": []
          }
        }
      ]
    },
    {
      "cell_type": "markdown",
      "metadata": {
        "id": "XLwF5wmPbnAp"
      },
      "source": [
        "### MonthsInMilk by calving season"
      ]
    },
    {
      "cell_type": "code",
      "metadata": {
        "colab": {
          "base_uri": "https://localhost:8080/"
        },
        "id": "PyYqqYKwb6RG",
        "outputId": "ff79633c-8990-48d9-ec33-f34a0a6a364e"
      },
      "source": [
        "%%R\n",
        "LSMs<-lsmeans::lsmeans(finalModel, pairwise ~ MonthsInMilk|CalvingSeason, type = \"response\", glhargs=list())\n",
        "multcomp::cld(LSMs[[1]], alpha=0.05, Letters=letters, adjust=\"tukey\")"
      ],
      "execution_count": null,
      "outputs": [
        {
          "output_type": "stream",
          "text": [
            "R[write to console]: Note: D.f. calculations have been disabled because the number of observations exceeds 3000.\n",
            "To enable adjustments, add the argument 'pbkrtest.limit = 49867' (or larger)\n",
            "[or, globally, 'set emm_options(pbkrtest.limit = 49867)' or larger];\n",
            "but be warned that this may result in large computation time and memory use.\n",
            "\n",
            "R[write to console]: Note: D.f. calculations have been disabled because the number of observations exceeds 3000.\n",
            "To enable adjustments, add the argument 'lmerTest.limit = 49867' (or larger)\n",
            "[or, globally, 'set emm_options(lmerTest.limit = 49867)' or larger];\n",
            "but be warned that this may result in large computation time and memory use.\n",
            "\n",
            "R[write to console]: Note: adjust = \"tukey\" was changed to \"sidak\"\n",
            "because \"tukey\" is only appropriate for one set of pairwise comparisons\n",
            "\n"
          ],
          "name": "stderr"
        },
        {
          "output_type": "stream",
          "text": [
            "CalvingSeason = Autumn:\n",
            " MonthsInMilk lsmean   SE  df asymp.LCL asymp.UCL .group   \n",
            " 1               639 5.15 Inf       624       654  a       \n",
            " 2               662 5.12 Inf       647       676   b      \n",
            " 3               682 5.69 Inf       666       698   bc     \n",
            " 9               682 5.80 Inf       665       699   bc     \n",
            " 10              685 5.70 Inf       669       701    c     \n",
            " 4               693 5.69 Inf       677       709    cd    \n",
            " 8               694 5.83 Inf       677       711    cd    \n",
            " 5               700 5.29 Inf       685       715    cd    \n",
            " 6               707 5.36 Inf       692       722     de   \n",
            " 7               707 5.34 Inf       692       722     de   \n",
            " 0               722 4.89 Inf       708       736      ef  \n",
            " -1              735 5.66 Inf       719       752       f  \n",
            "\n",
            "CalvingSeason = Spring:\n",
            " MonthsInMilk lsmean   SE  df asymp.LCL asymp.UCL .group   \n",
            " 2               615 6.44 Inf       596       633  a       \n",
            " 3               618 6.25 Inf       600       636  a       \n",
            " 1               620 5.99 Inf       603       637  a       \n",
            " 4               634 6.14 Inf       617       652  a       \n",
            " 5               661 5.97 Inf       644       678   b      \n",
            " 6               686 5.43 Inf       670       701    c     \n",
            " 7               696 5.60 Inf       680       712    cd    \n",
            " 8               711 5.67 Inf       695       727     de   \n",
            " 9               722 6.38 Inf       704       740      ef  \n",
            " 10              742 6.50 Inf       723       760       fg \n",
            " 0               757 5.62 Inf       741       773        g \n",
            " -1              786 6.27 Inf       768       804         h\n",
            "\n",
            "CalvingSeason = Summer:\n",
            " MonthsInMilk lsmean   SE  df asymp.LCL asymp.UCL .group   \n",
            " 1               613 5.56 Inf       597       628  a       \n",
            " 2               634 5.38 Inf       618       649   b      \n",
            " 3               667 4.98 Inf       653       681    c     \n",
            " 4               701 5.01 Inf       687       716     d    \n",
            " 0               705 5.38 Inf       689       720     de   \n",
            " 5               717 5.13 Inf       702       731     def  \n",
            " 10              717 5.43 Inf       702       733     defg \n",
            " 9               723 5.34 Inf       708       738      efg \n",
            " 8               724 5.33 Inf       709       739      efg \n",
            " 6               728 5.72 Inf       712       745       fg \n",
            " 7               731 5.73 Inf       715       747       fg \n",
            " -1              739 5.86 Inf       722       755        g \n",
            "\n",
            "CalvingSeason = Winter:\n",
            " MonthsInMilk lsmean   SE  df asymp.LCL asymp.UCL .group   \n",
            " 1               637 6.33 Inf       619       655  a       \n",
            " 2               643 5.84 Inf       627       660  ab      \n",
            " 3               655 5.82 Inf       638       671  abc     \n",
            " 6               660 6.30 Inf       642       678  abc     \n",
            " 7               662 6.12 Inf       645       680   bc     \n",
            " 5               663 6.36 Inf       645       681   bc     \n",
            " 4               666 5.84 Inf       650       683    c     \n",
            " 8               675 5.96 Inf       658       692    cd    \n",
            " 9               689 5.48 Inf       673       704     de   \n",
            " 10              709 5.48 Inf       693       724      e   \n",
            " 0               784 5.86 Inf       767       800       f  \n",
            " -1              832 6.22 Inf       815       850        g \n",
            "\n",
            "Results are averaged over the levels of: Parity, MilkingType \n",
            "Degrees-of-freedom method: asymptotic \n",
            "Confidence level used: 0.95 \n",
            "Conf-level adjustment: sidak method for 12 estimates \n",
            "P value adjustment: tukey method for comparing a family of 12 estimates \n",
            "significance level used: alpha = 0.05 \n"
          ],
          "name": "stdout"
        }
      ]
    },
    {
      "cell_type": "code",
      "metadata": {
        "colab": {
          "base_uri": "https://localhost:8080/",
          "height": 497
        },
        "id": "aVOrcyJBb9Ce",
        "outputId": "a277bca2-9afe-41c2-e9e7-3f3d82bec9b6"
      },
      "source": [
        "%%R\n",
        "dfPValues <- summary(LSMs)[[2]]\n",
        "dfLMSs <- summary(LSMs)[[1]]\n",
        "dfLMSs %>% \n",
        "  mutate(label = if_else(MonthsInMilk == max(as.numeric(MonthsInMilk)), as.character(CalvingSeason), NA_character_)) %>%\n",
        "  ggplot(\n",
        "  aes(\n",
        "    x=MonthsInMilk,\n",
        "    y=lsmean,\n",
        "    group=CalvingSeason, \n",
        "    color=CalvingSeason)\n",
        "    ) +\n",
        "  geom_line() +  \n",
        "  geom_errorbar(\n",
        "    aes(ymin=asymp.LCL, \n",
        "        ymax=asymp.UCL), \n",
        "    width=.2,\n",
        "    position=position_dodge(0.05)) +\n",
        "  labs(\n",
        "    title = \"Lying time (min/day)\", \n",
        "    y=\"Minutes per day\" , \n",
        "    x = \"Months in milk\") +\n",
        "  theme_bw() +\n",
        "  theme(plot.title = element_text(hjust = 0.5),\n",
        "        panel.border = element_blank(), \n",
        "        panel.grid.major = element_blank(),\n",
        "        panel.grid.minor = element_blank(), \n",
        "        axis.line = element_line(colour = \"black\"))"
      ],
      "execution_count": null,
      "outputs": [
        {
          "output_type": "display_data",
          "data": {
            "image/png": "[encoded data removed]"
          },
          "metadata": {
            "tags": []
          }
        }
      ]
    }
  ]
}