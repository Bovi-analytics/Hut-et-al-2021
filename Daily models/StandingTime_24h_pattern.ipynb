{
  "nbformat": 4,
  "nbformat_minor": 0,
  "metadata": {
    "colab": {
      "name": "StandingTime 24h pattern",
      "provenance": [],
      "collapsed_sections": [],
      "toc_visible": true,
      "include_colab_link": true
    },
    "kernelspec": {
      "name": "python3",
      "display_name": "Python 3"
    }
  },
  "cells": [
    {
      "cell_type": "markdown",
      "metadata": {
        "id": "view-in-github",
        "colab_type": "text"
      },
      "source": [
        "<a href=\"https://colab.research.google.com/github/Bovi-analytics/hut-et-al-2021/blob/master/StandingTime_24h_pattern.ipynb\" target=\"_parent\"><img src=\"https://colab.research.google.com/assets/colab-badge.svg\" alt=\"Open In Colab\"/></a>"
      ]
    },
    {
      "cell_type": "markdown",
      "metadata": {
        "id": "_VUuFD2GGY10"
      },
      "source": [
        "# Statistical notebook for standing time"
      ]
    },
    {
      "cell_type": "markdown",
      "metadata": {
        "id": "qvH58yD5Gdgq"
      },
      "source": [
        "## Importing of google drive"
      ]
    },
    {
      "cell_type": "code",
      "metadata": {
        "colab": {
          "base_uri": "https://localhost:8080/"
        },
        "id": "WCUSUtqb21vg",
        "outputId": "ebea7b1e-82ce-4a1a-e00c-2712b12a90db"
      },
      "source": [
        "from google.colab import drive\n",
        "drive.mount('/content/drive')"
      ],
      "execution_count": null,
      "outputs": [
        {
          "output_type": "stream",
          "text": [
            "Mounted at /content/drive\n"
          ],
          "name": "stdout"
        }
      ]
    },
    {
      "cell_type": "markdown",
      "metadata": {
        "id": "aM4g6dGQGi73"
      },
      "source": [
        "## R loading"
      ]
    },
    {
      "cell_type": "code",
      "metadata": {
        "id": "TxkiqsiB23Kg"
      },
      "source": [
        "%reload_ext rpy2.ipython"
      ],
      "execution_count": null,
      "outputs": []
    },
    {
      "cell_type": "code",
      "metadata": {
        "id": "6kXKrAAmjKvo"
      },
      "source": [
        "%%R\n",
        "lib_loc <- \"/content/drive/Shareddrives/Bovi-Analytics/R-lib/\""
      ],
      "execution_count": null,
      "outputs": []
    },
    {
      "cell_type": "code",
      "metadata": {
        "colab": {
          "base_uri": "https://localhost:8080/"
        },
        "id": "LuqwW1OajLhH",
        "outputId": "6be6f81a-4982-481a-a90a-96457c8ba652"
      },
      "source": [
        "%%R\n",
        "package_list <- c(\"ggplot2\",\n",
        "                  \"readr\",\n",
        "                  \"plyr\",\n",
        "                  \"dplyr\",\n",
        "                  \"tidyr\",                \n",
        "                  \"lme4\",\n",
        "                  \"lmerTest\",\n",
        "                  \"multcompView\",\n",
        "                  \"mvtnorm\",\n",
        "                  \"TH.data\",\n",
        "                  \"multcomp\",\n",
        "                  \"emmeans\",\n",
        "                  \"lsmeans\",\n",
        "                  \"carData\",\n",
        "                  \"car\"\n",
        "                  )\n",
        "\n",
        "for (pkg in package_list) {\n",
        "  if (pkg %in% rownames(.packages()) == FALSE)\n",
        "  {library(pkg, lib.loc = lib_loc, character.only = TRUE)}\n",
        "\n",
        "}"
      ],
      "execution_count": null,
      "outputs": [
        {
          "output_type": "stream",
          "text": [
            "R[write to console]: \n",
            "Attaching package: ‘dplyr’\n",
            "\n",
            "\n",
            "R[write to console]: The following objects are masked from ‘package:plyr’:\n",
            "\n",
            "    arrange, count, desc, failwith, id, mutate, rename, summarise,\n",
            "    summarize\n",
            "\n",
            "\n",
            "R[write to console]: The following objects are masked from ‘package:stats’:\n",
            "\n",
            "    filter, lag\n",
            "\n",
            "\n",
            "R[write to console]: The following objects are masked from ‘package:base’:\n",
            "\n",
            "    intersect, setdiff, setequal, union\n",
            "\n",
            "\n",
            "R[write to console]: Loading required package: Matrix\n",
            "\n",
            "R[write to console]: \n",
            "Attaching package: ‘Matrix’\n",
            "\n",
            "\n",
            "R[write to console]: The following objects are masked from ‘package:tidyr’:\n",
            "\n",
            "    expand, pack, unpack\n",
            "\n",
            "\n",
            "R[write to console]: \n",
            "Attaching package: ‘lmerTest’\n",
            "\n",
            "\n",
            "R[write to console]: The following object is masked from ‘package:lme4’:\n",
            "\n",
            "    lmer\n",
            "\n",
            "\n",
            "R[write to console]: The following object is masked from ‘package:stats’:\n",
            "\n",
            "    step\n",
            "\n",
            "\n",
            "R[write to console]: Loading required package: survival\n",
            "\n",
            "R[write to console]: Loading required package: MASS\n",
            "\n",
            "R[write to console]: \n",
            "Attaching package: ‘MASS’\n",
            "\n",
            "\n",
            "R[write to console]: The following object is masked from ‘package:dplyr’:\n",
            "\n",
            "    select\n",
            "\n",
            "\n",
            "R[write to console]: \n",
            "Attaching package: ‘TH.data’\n",
            "\n",
            "\n",
            "R[write to console]: The following object is masked from ‘package:MASS’:\n",
            "\n",
            "    geyser\n",
            "\n",
            "\n",
            "R[write to console]: The 'lsmeans' package is now basically a front end for 'emmeans'.\n",
            "Users are encouraged to switch the rest of the way.\n",
            "See help('transition') for more information, including how to\n",
            "convert old 'lsmeans' objects and scripts to work with 'emmeans'.\n",
            "\n",
            "R[write to console]: Registered S3 methods overwritten by 'car':\n",
            "  method                          from\n",
            "  influence.merMod                lme4\n",
            "  cooks.distance.influence.merMod lme4\n",
            "  dfbeta.influence.merMod         lme4\n",
            "  dfbetas.influence.merMod        lme4\n",
            "\n",
            "R[write to console]: \n",
            "Attaching package: ‘car’\n",
            "\n",
            "\n",
            "R[write to console]: The following object is masked from ‘package:dplyr’:\n",
            "\n",
            "    recode\n",
            "\n",
            "\n"
          ],
          "name": "stderr"
        }
      ]
    },
    {
      "cell_type": "code",
      "metadata": {
        "id": "HhiVCIZvHDF-"
      },
      "source": [
        "%%R\n",
        "options(warn=-1)"
      ],
      "execution_count": null,
      "outputs": []
    },
    {
      "cell_type": "markdown",
      "metadata": {
        "id": "ulkGlX3uHFmW"
      },
      "source": [
        "## Data loading into dataframe"
      ]
    },
    {
      "cell_type": "code",
      "metadata": {
        "id": "EdsoTgv63LDl"
      },
      "source": [
        "%%R\n",
        "\n",
        "#path <- \"/content/drive/Shareddrives/Bovi-Analytics/Projects/SenseOfSensors/CsvData/SensorAggRepartitioned08032021/ObservationType=StandingTimeMinutesPer2Hours/part-00000-tid-5876581890551720600-0e9afc0a-339b-4a8d-9159-2f92fdf60451-17582-34.c000.csv\"\n",
        "AnalysisData <- \n",
        "  readr::read_csv(\"/content/drive/Shareddrives/Bovi-Analytics/Projects/SenseOfSensors/CsvData/SensorAggRepartitioned08032021/ObservationType=StandingTimeMinutesPer2Hours/part-00000-tid-5876581890551720600-0e9afc0a-339b-4a8d-9159-2f92fdf60451-17582-34.c000.csv\", \n",
        "    col_types = readr::cols(HerdIdentifier = readr::col_character(), \n",
        "        TransitionLactationNumber = readr::col_integer(), \n",
        "        TransitionParity = readr::col_character(), \n",
        "        TransitionMonthsInMilk = readr::col_integer(), \n",
        "        TransitionCalvingDate = readr::col_character(), \n",
        "        Hour = readr::col_integer(), \n",
        "        Observations = readr::col_integer())) %>% \n",
        "  dplyr::filter(dplyr::between(TransitionMonthsInMilk, 1, 10)) %>%\n",
        "   dplyr::mutate(\n",
        "    AnimalIdentifier = factor(AnimalIdentifier),\n",
        "    HerdIdentifier = factor(HerdIdentifier),\n",
        "    Parity = factor(TransitionParity),\n",
        "    MonthsInMilk = factor(TransitionMonthsInMilk),\n",
        "    CalvingSeason = factor(TransitionSeason),\n",
        "    Hour = factor(Hour),\n",
        "    SensorValue = ObservationValue,\n",
        "    MilkingType = factor(case_when(\n",
        "    HerdIdentifier %in% c(\"544\", \"2514\", \"3314\")~\"AMS\",\n",
        "    TRUE~\"CMS\"\n",
        "  ))\n",
        "  ) %>%\n",
        "  dplyr::select(AnimalIdentifier, HerdIdentifier, Parity, MonthsInMilk, CalvingSeason, Hour, SensorValue, MilkingType) %>%\n",
        "  tidyr::drop_na()"
      ],
      "execution_count": null,
      "outputs": []
    },
    {
      "cell_type": "code",
      "metadata": {
        "colab": {
          "base_uri": "https://localhost:8080/"
        },
        "id": "6tB88jG161J_",
        "outputId": "7c0303df-f2fe-4f9b-a766-841f99150daf"
      },
      "source": [
        "%%R\n",
        "head(AnalysisData)"
      ],
      "execution_count": null,
      "outputs": [
        {
          "output_type": "stream",
          "text": [
            "# A tibble: 6 x 8\n",
            "  AnimalIdentifier HerdIdentifier Parity MonthsInMilk CalvingSeason Hour \n",
            "  <fct>            <fct>          <fct>  <fct>        <fct>         <fct>\n",
            "1 32               544            2      9            Autumn        6    \n",
            "2 38               2746           3+     8            Autumn        8    \n",
            "3 159              544            2      5            Summer        14   \n",
            "4 41               544            3+     2            Summer        22   \n",
            "5 83               2746           1      5            Winter        2    \n",
            "6 86               2746           3+     10           Winter        14   \n",
            "# … with 2 more variables: SensorValue <dbl>, MilkingType <fct>\n"
          ],
          "name": "stdout"
        }
      ]
    },
    {
      "cell_type": "code",
      "metadata": {
        "colab": {
          "base_uri": "https://localhost:8080/"
        },
        "id": "F1V_3TaBTfdf",
        "outputId": "1f0cae28-c3ee-4926-fffb-12305e3cc607"
      },
      "source": [
        "%%R\n",
        "str(AnalysisData)"
      ],
      "execution_count": null,
      "outputs": [
        {
          "output_type": "stream",
          "text": [
            "tibble[,8] [463,405 × 8] (S3: tbl_df/tbl/data.frame)\n",
            " $ AnimalIdentifier: Factor w/ 1049 levels \"1\",\"2\",\"3\",\"4\",..: 32 38 159 41 83 86 77 98 70 39 ...\n",
            " $ HerdIdentifier  : Factor w/ 8 levels \"2011\",\"2297\",..: 7 4 7 7 4 4 7 4 7 7 ...\n",
            " $ Parity          : Factor w/ 3 levels \"1\",\"2\",\"3+\": 2 3 2 3 1 3 3 2 3 3 ...\n",
            " $ MonthsInMilk    : Factor w/ 10 levels \"1\",\"2\",\"3\",\"4\",..: 9 8 5 2 5 10 2 3 2 8 ...\n",
            " $ CalvingSeason   : Factor w/ 4 levels \"Autumn\",\"Spring\",..: 1 1 3 3 4 4 1 1 1 1 ...\n",
            " $ Hour            : Factor w/ 12 levels \"0\",\"2\",\"4\",\"6\",..: 4 5 8 12 2 8 1 3 7 12 ...\n",
            " $ SensorValue     : num [1:463405] 47.9 54.6 23 91.6 67.9 ...\n",
            " $ MilkingType     : Factor w/ 2 levels \"AMS\",\"CMS\": 1 2 1 1 2 2 1 2 1 1 ...\n"
          ],
          "name": "stdout"
        }
      ]
    },
    {
      "cell_type": "markdown",
      "metadata": {
        "id": "w_ScrOOIHnAm"
      },
      "source": [
        "## Descriptive statistics"
      ]
    },
    {
      "cell_type": "code",
      "metadata": {
        "colab": {
          "base_uri": "https://localhost:8080/"
        },
        "id": "mwkrF_h0HsQE",
        "outputId": "63c76bcb-3b44-425f-f31e-ff51b321320d"
      },
      "source": [
        "%%R\n",
        "AnalysisData %>% group_by(\"Parity\") %>% n_distinct()"
      ],
      "execution_count": null,
      "outputs": [
        {
          "output_type": "stream",
          "text": [
            "[1] 463344\n"
          ],
          "name": "stdout"
        }
      ]
    },
    {
      "cell_type": "code",
      "metadata": {
        "colab": {
          "base_uri": "https://localhost:8080/"
        },
        "id": "eoqk40ImHuwL",
        "outputId": "1c496762-5212-4b6f-eccf-5fec7f66a4db"
      },
      "source": [
        "%%R\n",
        "AnalysisData %>%\n",
        "  group_by(Parity) %>%\n",
        "  summarise(Unique_Elements = n_distinct(AnimalIdentifier))"
      ],
      "execution_count": null,
      "outputs": [
        {
          "output_type": "stream",
          "text": [
            "# A tibble: 3 x 2\n",
            "  Parity Unique_Elements\n",
            "  <fct>            <int>\n",
            "1 1                  731\n",
            "2 2                  710\n",
            "3 3+                 733\n"
          ],
          "name": "stdout"
        }
      ]
    },
    {
      "cell_type": "code",
      "metadata": {
        "colab": {
          "base_uri": "https://localhost:8080/"
        },
        "id": "GKUy-GP1HzUN",
        "outputId": "3423e564-500f-4bb3-f053-83eec8943f30"
      },
      "source": [
        "%%R\n",
        "AnalysisData %>%\n",
        "  summarise(Unique_Elements = n_distinct(AnimalIdentifier))"
      ],
      "execution_count": null,
      "outputs": [
        {
          "output_type": "stream",
          "text": [
            "# A tibble: 1 x 1\n",
            "  Unique_Elements\n",
            "            <int>\n",
            "1            1049\n"
          ],
          "name": "stdout"
        }
      ]
    },
    {
      "cell_type": "markdown",
      "metadata": {
        "id": "xs-ntyy7H1Bl"
      },
      "source": [
        "# Model building"
      ]
    },
    {
      "cell_type": "markdown",
      "metadata": {
        "id": "w7BGTeCMH3v8"
      },
      "source": [
        "First we determine the null model"
      ]
    },
    {
      "cell_type": "markdown",
      "metadata": {
        "id": "yL5HiZMEH6WU"
      },
      "source": [
        "## Null model"
      ]
    },
    {
      "cell_type": "code",
      "metadata": {
        "id": "I9Gntq1rH-Ze"
      },
      "source": [
        "%%R\n",
        "Model.0 <- lme4::lmer(\n",
        "                  SensorValue ~ 1 + (1| HerdIdentifier:AnimalIdentifier), \n",
        "                  data = AnalysisData\n",
        "                  )"
      ],
      "execution_count": null,
      "outputs": []
    },
    {
      "cell_type": "markdown",
      "metadata": {
        "id": "UXca-lpWID9I"
      },
      "source": [
        "## Univariable models"
      ]
    },
    {
      "cell_type": "code",
      "metadata": {
        "colab": {
          "base_uri": "https://localhost:8080/"
        },
        "id": "I9LD2rH5IGkl",
        "outputId": "fd0f0db1-0eca-4bf8-b5d4-9f9dee7bb2bb"
      },
      "source": [
        "%%R\n",
        "Model1.0 <- lme4::lmer(\n",
        "                  SensorValue ~ \n",
        "                  MonthsInMilk + \n",
        "                  (1| HerdIdentifier:AnimalIdentifier),\n",
        "                  REML = FALSE,\n",
        "                  data = AnalysisData\n",
        ")\n",
        "anova(Model.0,Model1.0,test=\"Chisq\")"
      ],
      "execution_count": null,
      "outputs": [
        {
          "output_type": "stream",
          "text": [
            "R[write to console]: refitting model(s) with ML (instead of REML)\n",
            "\n"
          ],
          "name": "stderr"
        },
        {
          "output_type": "stream",
          "text": [
            "Data: AnalysisData\n",
            "Models:\n",
            "Model.0: SensorValue ~ 1 + (1 | HerdIdentifier:AnimalIdentifier)\n",
            "Model1.0: SensorValue ~ MonthsInMilk + (1 | HerdIdentifier:AnimalIdentifier)\n",
            "         npar     AIC     BIC   logLik deviance  Chisq Df Pr(>Chisq)    \n",
            "Model.0     3 4094936 4094969 -2047465  4094930                         \n",
            "Model1.0   12 4089048 4089180 -2044512  4089024 5906.3  9  < 2.2e-16 ***\n",
            "---\n",
            "Signif. codes:  0 ‘***’ 0.001 ‘**’ 0.01 ‘*’ 0.05 ‘.’ 0.1 ‘ ’ 1\n"
          ],
          "name": "stdout"
        }
      ]
    },
    {
      "cell_type": "code",
      "metadata": {
        "colab": {
          "base_uri": "https://localhost:8080/"
        },
        "id": "j_-8gT5aILn6",
        "outputId": "e5c5472f-fa0a-4359-9861-4420cd35723a"
      },
      "source": [
        "%%R\n",
        "Model1.1 <- lme4::lmer(\n",
        "                  SensorValue ~ \n",
        "                  Parity + \n",
        "                  (1| HerdIdentifier:AnimalIdentifier),\n",
        "                  REML = FALSE,\n",
        "                  data = AnalysisData\n",
        "                  )\n",
        "anova(Model.0,Model1.1,test=\"Chisq\")"
      ],
      "execution_count": null,
      "outputs": [
        {
          "output_type": "stream",
          "text": [
            "R[write to console]: refitting model(s) with ML (instead of REML)\n",
            "\n"
          ],
          "name": "stderr"
        },
        {
          "output_type": "stream",
          "text": [
            "Data: AnalysisData\n",
            "Models:\n",
            "Model.0: SensorValue ~ 1 + (1 | HerdIdentifier:AnimalIdentifier)\n",
            "Model1.1: SensorValue ~ Parity + (1 | HerdIdentifier:AnimalIdentifier)\n",
            "         npar     AIC     BIC   logLik deviance Chisq Df Pr(>Chisq)    \n",
            "Model.0     3 4094936 4094969 -2047465  4094930                        \n",
            "Model1.1    5 4094206 4094261 -2047098  4094196 733.7  2  < 2.2e-16 ***\n",
            "---\n",
            "Signif. codes:  0 ‘***’ 0.001 ‘**’ 0.01 ‘*’ 0.05 ‘.’ 0.1 ‘ ’ 1\n"
          ],
          "name": "stdout"
        }
      ]
    },
    {
      "cell_type": "code",
      "metadata": {
        "colab": {
          "base_uri": "https://localhost:8080/"
        },
        "id": "KYiS5O0YIQnI",
        "outputId": "8b3e0373-e8ca-4056-a7af-a5a0d5aa0c7d"
      },
      "source": [
        "%%R\n",
        "Model1.2 <- lme4::lmer(\n",
        "                  SensorValue ~ \n",
        "                  HerdIdentifier + \n",
        "                  (1| HerdIdentifier:AnimalIdentifier),\n",
        "                  REML = FALSE,\n",
        "                  data = AnalysisData\n",
        "                  )\n",
        "anova(Model.0,Model1.2,test=\"Chisq\")"
      ],
      "execution_count": null,
      "outputs": [
        {
          "output_type": "stream",
          "text": [
            "R[write to console]: refitting model(s) with ML (instead of REML)\n",
            "\n"
          ],
          "name": "stderr"
        },
        {
          "output_type": "stream",
          "text": [
            "Data: AnalysisData\n",
            "Models:\n",
            "Model.0: SensorValue ~ 1 + (1 | HerdIdentifier:AnimalIdentifier)\n",
            "Model1.2: SensorValue ~ HerdIdentifier + (1 | HerdIdentifier:AnimalIdentifier)\n",
            "         npar     AIC     BIC   logLik deviance  Chisq Df Pr(>Chisq)    \n",
            "Model.0     3 4094936 4094969 -2047465  4094930                         \n",
            "Model1.2   10 4094761 4094872 -2047371  4094741 188.47  7  < 2.2e-16 ***\n",
            "---\n",
            "Signif. codes:  0 ‘***’ 0.001 ‘**’ 0.01 ‘*’ 0.05 ‘.’ 0.1 ‘ ’ 1\n"
          ],
          "name": "stdout"
        }
      ]
    },
    {
      "cell_type": "code",
      "metadata": {
        "colab": {
          "base_uri": "https://localhost:8080/"
        },
        "id": "BNfOWu3bIUbi",
        "outputId": "ffaf3a80-f7eb-49ca-e738-d8b47c9a0e39"
      },
      "source": [
        "%%R\n",
        "Model1.3 <- lme4::lmer(\n",
        "                  SensorValue ~ \n",
        "                  CalvingSeason +\n",
        "                  (1| HerdIdentifier:AnimalIdentifier),\n",
        "                  REML = FALSE,\n",
        "                  data = AnalysisData\n",
        "                  )\n",
        "anova(Model.0,Model1.3,test=\"Chisq\")"
      ],
      "execution_count": null,
      "outputs": [
        {
          "output_type": "stream",
          "text": [
            "R[write to console]: refitting model(s) with ML (instead of REML)\n",
            "\n"
          ],
          "name": "stderr"
        },
        {
          "output_type": "stream",
          "text": [
            "Data: AnalysisData\n",
            "Models:\n",
            "Model.0: SensorValue ~ 1 + (1 | HerdIdentifier:AnimalIdentifier)\n",
            "Model1.3: SensorValue ~ CalvingSeason + (1 | HerdIdentifier:AnimalIdentifier)\n",
            "         npar     AIC     BIC   logLik deviance  Chisq Df Pr(>Chisq)    \n",
            "Model.0     3 4094936 4094969 -2047465  4094930                         \n",
            "Model1.3    6 4094751 4094817 -2047370  4094739 190.81  3  < 2.2e-16 ***\n",
            "---\n",
            "Signif. codes:  0 ‘***’ 0.001 ‘**’ 0.01 ‘*’ 0.05 ‘.’ 0.1 ‘ ’ 1\n"
          ],
          "name": "stdout"
        }
      ]
    },
    {
      "cell_type": "code",
      "metadata": {
        "colab": {
          "base_uri": "https://localhost:8080/"
        },
        "id": "6FkIeCgAIY2u",
        "outputId": "b457dfd6-8209-451d-8b9d-578162b24102"
      },
      "source": [
        "%%R\n",
        "Model1.4 <- lme4::lmer(\n",
        "                  SensorValue ~ \n",
        "                  Hour +\n",
        "                  (1| HerdIdentifier:AnimalIdentifier),\n",
        "                  REML = FALSE,\n",
        "                  data = AnalysisData\n",
        "                  )\n",
        "anova(Model.0,Model1.4,test=\"Chisq\")"
      ],
      "execution_count": null,
      "outputs": [
        {
          "output_type": "stream",
          "text": [
            "R[write to console]: refitting model(s) with ML (instead of REML)\n",
            "\n"
          ],
          "name": "stderr"
        },
        {
          "output_type": "stream",
          "text": [
            "Data: AnalysisData\n",
            "Models:\n",
            "Model.0: SensorValue ~ 1 + (1 | HerdIdentifier:AnimalIdentifier)\n",
            "Model1.4: SensorValue ~ Hour + (1 | HerdIdentifier:AnimalIdentifier)\n",
            "         npar     AIC     BIC   logLik deviance  Chisq Df Pr(>Chisq)    \n",
            "Model.0     3 4094936 4094969 -2047465  4094930                         \n",
            "Model1.4   14 3956212 3956366 -1978092  3956184 138746 11  < 2.2e-16 ***\n",
            "---\n",
            "Signif. codes:  0 ‘***’ 0.001 ‘**’ 0.01 ‘*’ 0.05 ‘.’ 0.1 ‘ ’ 1\n"
          ],
          "name": "stdout"
        }
      ]
    },
    {
      "cell_type": "code",
      "metadata": {
        "colab": {
          "base_uri": "https://localhost:8080/"
        },
        "id": "zIg98s70IcGR",
        "outputId": "f85783e5-6eef-4987-dec4-b447cbd2434a"
      },
      "source": [
        "%%R\n",
        "Model1.5 <- lme4::lmer(\n",
        "                  SensorValue ~ \n",
        "                  MilkingType +\n",
        "                  (1| HerdIdentifier:AnimalIdentifier),\n",
        "                  REML = FALSE,\n",
        "                  data = AnalysisData\n",
        "                  )\n",
        "anova(Model.0,Model1.5,test=\"Chisq\")"
      ],
      "execution_count": null,
      "outputs": [
        {
          "output_type": "stream",
          "text": [
            "R[write to console]: refitting model(s) with ML (instead of REML)\n",
            "\n"
          ],
          "name": "stderr"
        },
        {
          "output_type": "stream",
          "text": [
            "Data: AnalysisData\n",
            "Models:\n",
            "Model.0: SensorValue ~ 1 + (1 | HerdIdentifier:AnimalIdentifier)\n",
            "Model1.5: SensorValue ~ MilkingType + (1 | HerdIdentifier:AnimalIdentifier)\n",
            "         npar     AIC     BIC   logLik deviance  Chisq Df Pr(>Chisq)    \n",
            "Model.0     3 4094936 4094969 -2047465  4094930                         \n",
            "Model1.5    4 4094886 4094930 -2047439  4094878 51.997  1  5.559e-13 ***\n",
            "---\n",
            "Signif. codes:  0 ‘***’ 0.001 ‘**’ 0.01 ‘*’ 0.05 ‘.’ 0.1 ‘ ’ 1\n"
          ],
          "name": "stdout"
        }
      ]
    },
    {
      "cell_type": "markdown",
      "metadata": {
        "id": "6OqFsIT-Ie79"
      },
      "source": [
        "## Multivariable models"
      ]
    },
    {
      "cell_type": "code",
      "metadata": {
        "id": "0ZU2hHh-ImDF"
      },
      "source": [
        "%%R\n",
        "Model2.0 <- lme4::lmer(\n",
        "                  SensorValue ~ \n",
        "                  Parity + MonthsInMilk + CalvingSeason + Hour + MilkingType +\n",
        "                  (1| HerdIdentifier:AnimalIdentifier),\n",
        "                  REML = FALSE,\n",
        "                  data = AnalysisData\n",
        "                  )"
      ],
      "execution_count": null,
      "outputs": []
    },
    {
      "cell_type": "code",
      "metadata": {
        "colab": {
          "base_uri": "https://localhost:8080/"
        },
        "id": "iJY3N6-oIq-E",
        "outputId": "9450fab7-40cc-473e-eb6b-e7b5d480481f"
      },
      "source": [
        "%%R\n",
        "drop1(Model2.0,test=\"Chisq\")"
      ],
      "execution_count": null,
      "outputs": [
        {
          "output_type": "stream",
          "text": [
            "Single term deletions\n",
            "\n",
            "Model:\n",
            "SensorValue ~ Parity + MonthsInMilk + CalvingSeason + Hour + \n",
            "    MilkingType + (1 | HerdIdentifier:AnimalIdentifier)\n",
            "              npar     AIC    LRT   Pr(Chi)    \n",
            "<none>             3947171                     \n",
            "Parity           2 3947841    674 < 2.2e-16 ***\n",
            "MonthsInMilk     9 3954866   7714 < 2.2e-16 ***\n",
            "CalvingSeason    3 3947563    398 < 2.2e-16 ***\n",
            "Hour            11 4088251 141102 < 2.2e-16 ***\n",
            "MilkingType      1 3947216     47 6.507e-12 ***\n",
            "---\n",
            "Signif. codes:  0 ‘***’ 0.001 ‘**’ 0.01 ‘*’ 0.05 ‘.’ 0.1 ‘ ’ 1\n"
          ],
          "name": "stdout"
        }
      ]
    },
    {
      "cell_type": "markdown",
      "metadata": {
        "id": "oX3x13VdIslv"
      },
      "source": [
        "## Introduction of interactions"
      ]
    },
    {
      "cell_type": "markdown",
      "metadata": {
        "id": "XvhoN7VzIxWG"
      },
      "source": [
        "### Interactions with MonthsInMilk"
      ]
    },
    {
      "cell_type": "code",
      "metadata": {
        "colab": {
          "base_uri": "https://localhost:8080/"
        },
        "id": "SOHMR8OVJdSb",
        "outputId": "dbc8449d-4a2f-4955-8c6a-fb47b5bb5088"
      },
      "source": [
        "%%R\n",
        "Model2.1 <- lme4::lmer(\n",
        "                  SensorValue ~ \n",
        "                  MonthsInMilk*Parity + Hour + HerdIdentifier + CalvingSeason +\n",
        "                  (1| HerdIdentifier:AnimalIdentifier),\n",
        "                  REML = FALSE,\n",
        "                  data = AnalysisData\n",
        ")\n",
        "anova(Model2.0,Model2.1,test=\"Chisq\")"
      ],
      "execution_count": null,
      "outputs": [
        {
          "output_type": "stream",
          "text": [
            "Data: AnalysisData\n",
            "Models:\n",
            "Model2.0: SensorValue ~ Parity + MonthsInMilk + CalvingSeason + Hour + \n",
            "Model2.0:     MilkingType + (1 | HerdIdentifier:AnimalIdentifier)\n",
            "Model2.1: SensorValue ~ MonthsInMilk * Parity + Hour + HerdIdentifier + \n",
            "Model2.1:     CalvingSeason + (1 | HerdIdentifier:AnimalIdentifier)\n",
            "         npar     AIC     BIC   logLik deviance  Chisq Df Pr(>Chisq)    \n",
            "Model2.0   29 3947171 3947491 -1973556  3947113                         \n",
            "Model2.1   53 3946199 3946785 -1973047  3946093 1019.1 24  < 2.2e-16 ***\n",
            "---\n",
            "Signif. codes:  0 ‘***’ 0.001 ‘**’ 0.01 ‘*’ 0.05 ‘.’ 0.1 ‘ ’ 1\n"
          ],
          "name": "stdout"
        }
      ]
    },
    {
      "cell_type": "code",
      "metadata": {
        "colab": {
          "base_uri": "https://localhost:8080/"
        },
        "id": "PGBFOSGUJhau",
        "outputId": "570d0f80-ae52-402b-e0bd-ae4b4af4da4d"
      },
      "source": [
        "%%R\n",
        "Model2.2 <- lme4::lmer(\n",
        "                  SensorValue ~ \n",
        "                  MonthsInMilk*MilkingType + Parity + Hour + CalvingSeason +\n",
        "                  (1| HerdIdentifier:AnimalIdentifier),\n",
        "                  REML = FALSE,\n",
        "                  data = AnalysisData\n",
        ")\n",
        "anova(Model2.0,Model2.2,test=\"Chisq\")"
      ],
      "execution_count": null,
      "outputs": [
        {
          "output_type": "stream",
          "text": [
            "Data: AnalysisData\n",
            "Models:\n",
            "Model2.0: SensorValue ~ Parity + MonthsInMilk + CalvingSeason + Hour + \n",
            "Model2.0:     MilkingType + (1 | HerdIdentifier:AnimalIdentifier)\n",
            "Model2.2: SensorValue ~ MonthsInMilk * MilkingType + Parity + Hour + CalvingSeason + \n",
            "Model2.2:     (1 | HerdIdentifier:AnimalIdentifier)\n",
            "         npar     AIC     BIC   logLik deviance  Chisq Df Pr(>Chisq)    \n",
            "Model2.0   29 3947171 3947491 -1973556  3947113                         \n",
            "Model2.2   38 3947017 3947437 -1973471  3946941 171.21  9  < 2.2e-16 ***\n",
            "---\n",
            "Signif. codes:  0 ‘***’ 0.001 ‘**’ 0.01 ‘*’ 0.05 ‘.’ 0.1 ‘ ’ 1\n"
          ],
          "name": "stdout"
        }
      ]
    },
    {
      "cell_type": "code",
      "metadata": {
        "colab": {
          "base_uri": "https://localhost:8080/"
        },
        "id": "oyaWQNA2Jklw",
        "outputId": "12f30016-cd0e-433c-dfa4-c87f5360457a"
      },
      "source": [
        "%%R\n",
        "Model2.3 <- lme4::lmer(\n",
        "                  SensorValue ~ \n",
        "                  MonthsInMilk*CalvingSeason + Parity + Hour + MilkingType +\n",
        "                  (1| HerdIdentifier:AnimalIdentifier),\n",
        "                  REML = FALSE,\n",
        "                  data = AnalysisData\n",
        ")\n",
        "anova(Model2.0,Model2.3,test=\"Chisq\")"
      ],
      "execution_count": null,
      "outputs": [
        {
          "output_type": "stream",
          "text": [
            "Data: AnalysisData\n",
            "Models:\n",
            "Model2.0: SensorValue ~ Parity + MonthsInMilk + CalvingSeason + Hour + \n",
            "Model2.0:     MilkingType + (1 | HerdIdentifier:AnimalIdentifier)\n",
            "Model2.3: SensorValue ~ MonthsInMilk * CalvingSeason + Parity + Hour + \n",
            "Model2.3:     MilkingType + (1 | HerdIdentifier:AnimalIdentifier)\n",
            "         npar     AIC     BIC   logLik deviance  Chisq Df Pr(>Chisq)    \n",
            "Model2.0   29 3947171 3947491 -1973556  3947113                         \n",
            "Model2.3   56 3946354 3946973 -1973121  3946242 870.28 27  < 2.2e-16 ***\n",
            "---\n",
            "Signif. codes:  0 ‘***’ 0.001 ‘**’ 0.01 ‘*’ 0.05 ‘.’ 0.1 ‘ ’ 1\n"
          ],
          "name": "stdout"
        }
      ]
    },
    {
      "cell_type": "markdown",
      "metadata": {
        "id": "gE7KLOIBJmxj"
      },
      "source": [
        "### Interactions with hour"
      ]
    },
    {
      "cell_type": "code",
      "metadata": {
        "colab": {
          "base_uri": "https://localhost:8080/"
        },
        "id": "oHYYwerzJsBf",
        "outputId": "8332e50c-b12a-4f2a-9014-0804cb89578d"
      },
      "source": [
        "%%R\n",
        "Model2.4 <- lme4::lmer(\n",
        "                  SensorValue ~ \n",
        "                  Hour*Parity + MonthsInMilk + CalvingSeason + MilkingType + \n",
        "                  (1| HerdIdentifier:AnimalIdentifier),\n",
        "                  REML = FALSE,\n",
        "                  data = AnalysisData\n",
        ")\n",
        "anova(Model2.0,Model2.4,test=\"Chisq\")"
      ],
      "execution_count": null,
      "outputs": [
        {
          "output_type": "stream",
          "text": [
            "Data: AnalysisData\n",
            "Models:\n",
            "Model2.0: SensorValue ~ Parity + MonthsInMilk + CalvingSeason + Hour + \n",
            "Model2.0:     MilkingType + (1 | HerdIdentifier:AnimalIdentifier)\n",
            "Model2.4: SensorValue ~ Hour * Parity + MonthsInMilk + CalvingSeason + \n",
            "Model2.4:     MilkingType + (1 | HerdIdentifier:AnimalIdentifier)\n",
            "         npar     AIC     BIC   logLik deviance  Chisq Df Pr(>Chisq)    \n",
            "Model2.0   29 3947171 3947491 -1973556  3947113                         \n",
            "Model2.4   51 3945186 3945749 -1972542  3945084 2028.7 22  < 2.2e-16 ***\n",
            "---\n",
            "Signif. codes:  0 ‘***’ 0.001 ‘**’ 0.01 ‘*’ 0.05 ‘.’ 0.1 ‘ ’ 1\n"
          ],
          "name": "stdout"
        }
      ]
    },
    {
      "cell_type": "code",
      "metadata": {
        "colab": {
          "base_uri": "https://localhost:8080/"
        },
        "id": "ODgE2S1KJvVf",
        "outputId": "361d4e55-b6ce-4f3c-cdfb-fd758d0bde5f"
      },
      "source": [
        "%%R\n",
        "Model2.5 <- lme4::lmer(\n",
        "                  SensorValue ~ \n",
        "                  Hour*MilkingType + MonthsInMilk + CalvingSeason + Parity + \n",
        "                  (1| HerdIdentifier:AnimalIdentifier),\n",
        "                  REML = FALSE,\n",
        "                  data = AnalysisData\n",
        ")\n",
        "anova(Model2.0,Model2.5,test=\"Chisq\")"
      ],
      "execution_count": null,
      "outputs": [
        {
          "output_type": "stream",
          "text": [
            "Data: AnalysisData\n",
            "Models:\n",
            "Model2.0: SensorValue ~ Parity + MonthsInMilk + CalvingSeason + Hour + \n",
            "Model2.0:     MilkingType + (1 | HerdIdentifier:AnimalIdentifier)\n",
            "Model2.5: SensorValue ~ Hour * MilkingType + MonthsInMilk + CalvingSeason + \n",
            "Model2.5:     Parity + (1 | HerdIdentifier:AnimalIdentifier)\n",
            "         npar     AIC     BIC   logLik deviance Chisq Df Pr(>Chisq)    \n",
            "Model2.0   29 3947171 3947491 -1973556  3947113                        \n",
            "Model2.5   40 3922327 3922769 -1961124  3922247 24865 11  < 2.2e-16 ***\n",
            "---\n",
            "Signif. codes:  0 ‘***’ 0.001 ‘**’ 0.01 ‘*’ 0.05 ‘.’ 0.1 ‘ ’ 1\n"
          ],
          "name": "stdout"
        }
      ]
    },
    {
      "cell_type": "code",
      "metadata": {
        "colab": {
          "base_uri": "https://localhost:8080/"
        },
        "id": "Z-wI-jpwJ1gW",
        "outputId": "ee39c364-ff44-4e8f-d234-0109f75c65e9"
      },
      "source": [
        "%%R\n",
        "Model2.6 <- lme4::lmer(\n",
        "                  SensorValue ~ \n",
        "                  Hour*CalvingSeason + MonthsInMilk +  + Parity + MilkingType +\n",
        "                  (1| HerdIdentifier:AnimalIdentifier),\n",
        "                  REML = FALSE,\n",
        "                  data = AnalysisData\n",
        ")\n",
        "anova(Model2.0,Model2.6,test=\"Chisq\")"
      ],
      "execution_count": null,
      "outputs": [
        {
          "output_type": "stream",
          "text": [
            "Data: AnalysisData\n",
            "Models:\n",
            "Model2.0: SensorValue ~ Parity + MonthsInMilk + CalvingSeason + Hour + \n",
            "Model2.0:     MilkingType + (1 | HerdIdentifier:AnimalIdentifier)\n",
            "Model2.6: SensorValue ~ Hour * CalvingSeason + MonthsInMilk + +Parity + \n",
            "Model2.6:     MilkingType + (1 | HerdIdentifier:AnimalIdentifier)\n",
            "         npar     AIC     BIC   logLik deviance  Chisq Df Pr(>Chisq)    \n",
            "Model2.0   29 3947171 3947491 -1973556  3947113                         \n",
            "Model2.6   62 3946346 3947031 -1973111  3946222 890.65 33  < 2.2e-16 ***\n",
            "---\n",
            "Signif. codes:  0 ‘***’ 0.001 ‘**’ 0.01 ‘*’ 0.05 ‘.’ 0.1 ‘ ’ 1\n"
          ],
          "name": "stdout"
        }
      ]
    },
    {
      "cell_type": "markdown",
      "metadata": {
        "id": "Wl2kSIAbJ3Tf"
      },
      "source": [
        "## Multiple interactions"
      ]
    },
    {
      "cell_type": "code",
      "metadata": {
        "colab": {
          "base_uri": "https://localhost:8080/"
        },
        "id": "EHe5xfzMJ6X7",
        "outputId": "557ebb2f-7b9e-4f22-ee24-70fc6da668d4"
      },
      "source": [
        "%%R\n",
        "Model2.7 <- lme4::lmer(\n",
        "                  SensorValue ~ \n",
        "                  MonthsInMilk*Parity + \n",
        "                  MonthsInMilk*MilkingType + \n",
        "                  MonthsInMilk*CalvingSeason + \n",
        "                  Hour*Parity + \n",
        "                  Hour*MilkingType + \n",
        "                  Hour*CalvingSeason + \n",
        "                  (1| HerdIdentifier:AnimalIdentifier),\n",
        "                  REML = FALSE,\n",
        "                  data = AnalysisData\n",
        ")\n",
        "anova(Model2.0,Model2.7,test=\"Chisq\")"
      ],
      "execution_count": null,
      "outputs": [
        {
          "output_type": "stream",
          "text": [
            "Data: AnalysisData\n",
            "Models:\n",
            "Model2.0: SensorValue ~ Parity + MonthsInMilk + CalvingSeason + Hour + \n",
            "Model2.0:     MilkingType + (1 | HerdIdentifier:AnimalIdentifier)\n",
            "Model2.7: SensorValue ~ MonthsInMilk * Parity + MonthsInMilk * MilkingType + \n",
            "Model2.7:     MonthsInMilk * CalvingSeason + Hour * Parity + Hour * MilkingType + \n",
            "Model2.7:     Hour * CalvingSeason + (1 | HerdIdentifier:AnimalIdentifier)\n",
            "         npar     AIC     BIC   logLik deviance Chisq  Df Pr(>Chisq)    \n",
            "Model2.0   29 3947171 3947491 -1973556  3947113                         \n",
            "Model2.7  149 3917936 3919582 -1958819  3917638 29475 120  < 2.2e-16 ***\n",
            "---\n",
            "Signif. codes:  0 ‘***’ 0.001 ‘**’ 0.01 ‘*’ 0.05 ‘.’ 0.1 ‘ ’ 1\n"
          ],
          "name": "stdout"
        }
      ]
    },
    {
      "cell_type": "markdown",
      "metadata": {
        "id": "z5NF6G5dJ-8w"
      },
      "source": [
        "# Final model analysis of variance"
      ]
    },
    {
      "cell_type": "code",
      "metadata": {
        "id": "lOSH7LmAKEGu"
      },
      "source": [
        "%%R\n",
        "finalModel <- Model2.7"
      ],
      "execution_count": null,
      "outputs": []
    },
    {
      "cell_type": "code",
      "metadata": {
        "colab": {
          "base_uri": "https://localhost:8080/"
        },
        "id": "Hs90dPgAKIRT",
        "outputId": "6ffdff94-7c19-4e82-b5d6-33a70e3cf882"
      },
      "source": [
        "%%R\n",
        "Anova(finalModel)"
      ],
      "execution_count": null,
      "outputs": [
        {
          "output_type": "stream",
          "text": [
            "Analysis of Deviance Table (Type II Wald chisquare tests)\n",
            "\n",
            "Response: SensorValue\n",
            "                                Chisq Df Pr(>Chisq)    \n",
            "MonthsInMilk                 8293.163  9  < 2.2e-16 ***\n",
            "Parity                        706.021  2  < 2.2e-16 ***\n",
            "MilkingType                    46.079  1  1.136e-11 ***\n",
            "CalvingSeason                 422.334  3  < 2.2e-16 ***\n",
            "Hour                       175922.728 11  < 2.2e-16 ***\n",
            "MonthsInMilk:Parity           924.407 18  < 2.2e-16 ***\n",
            "MonthsInMilk:MilkingType      135.041  9  < 2.2e-16 ***\n",
            "MonthsInMilk:CalvingSeason    949.463 27  < 2.2e-16 ***\n",
            "Parity:Hour                  2081.153 22  < 2.2e-16 ***\n",
            "MilkingType:Hour            25310.879 11  < 2.2e-16 ***\n",
            "CalvingSeason:Hour            534.060 33  < 2.2e-16 ***\n",
            "---\n",
            "Signif. codes:  0 ‘***’ 0.001 ‘**’ 0.01 ‘*’ 0.05 ‘.’ 0.1 ‘ ’ 1\n"
          ],
          "name": "stdout"
        }
      ]
    },
    {
      "cell_type": "code",
      "metadata": {
        "id": "59jFce4hKN5m"
      },
      "source": [
        "%%R\n",
        "save(finalModel, file=\"/content/drive/Shareddrives/Bovi-Analytics/Projects/SenseOfSensors/CsvData/SensorAggRepartitioned08032021/finalmodel2hoursStandingtime.rdata\")"
      ],
      "execution_count": null,
      "outputs": []
    },
    {
      "cell_type": "markdown",
      "metadata": {
        "id": "GcPJwW4gKQX6"
      },
      "source": [
        "# Final model figures and LSM (95% CI)"
      ]
    },
    {
      "cell_type": "markdown",
      "metadata": {
        "id": "yUQAKEkAKWjI"
      },
      "source": [
        "## Main effects"
      ]
    },
    {
      "cell_type": "code",
      "metadata": {
        "colab": {
          "base_uri": "https://localhost:8080/"
        },
        "id": "XbYQ3fQJLyQJ",
        "outputId": "68a9f98c-ad19-4a18-be40-90077ce6c9e2"
      },
      "source": [
        "%%R\n",
        "multcomp::cld(lsmeans::lsmeans(finalModel, ~ MonthsInMilk), alpha=0.05, Letters=letters, adjust=\"tukey\")"
      ],
      "execution_count": null,
      "outputs": [
        {
          "output_type": "stream",
          "text": [
            "R[write to console]: Note: D.f. calculations have been disabled because the number of observations exceeds 3000.\n",
            "To enable adjustments, add the argument 'pbkrtest.limit = 463405' (or larger)\n",
            "[or, globally, 'set emm_options(pbkrtest.limit = 463405)' or larger];\n",
            "but be warned that this may result in large computation time and memory use.\n",
            "\n",
            "R[write to console]: Note: D.f. calculations have been disabled because the number of observations exceeds 3000.\n",
            "To enable adjustments, add the argument 'lmerTest.limit = 463405' (or larger)\n",
            "[or, globally, 'set emm_options(lmerTest.limit = 463405)' or larger];\n",
            "but be warned that this may result in large computation time and memory use.\n",
            "\n",
            "R[write to console]: NOTE: Results may be misleading due to involvement in interactions\n",
            "\n",
            "R[write to console]: Note: adjust = \"tukey\" was changed to \"sidak\"\n",
            "because \"tukey\" is only appropriate for one set of pairwise comparisons\n",
            "\n"
          ],
          "name": "stderr"
        },
        {
          "output_type": "stream",
          "text": [
            " MonthsInMilk lsmean    SE  df asymp.LCL asymp.UCL .group   \n",
            " 10             57.1 0.198 Inf      56.6      57.7  a       \n",
            " 9              57.5 0.198 Inf      56.9      58.0  ab      \n",
            " 8              57.5 0.198 Inf      56.9      58.1  ab      \n",
            " 7              57.7 0.198 Inf      57.2      58.3   bc     \n",
            " 6              58.1 0.198 Inf      57.5      58.7    c     \n",
            " 5              58.7 0.198 Inf      58.2      59.3     d    \n",
            " 4              60.1 0.198 Inf      59.5      60.6      e   \n",
            " 3              61.4 0.198 Inf      60.9      62.0       f  \n",
            " 2              62.5 0.198 Inf      62.0      63.1        g \n",
            " 1              63.4 0.198 Inf      62.9      64.0         h\n",
            "\n",
            "Results are averaged over the levels of: Parity, MilkingType, CalvingSeason, Hour \n",
            "Degrees-of-freedom method: asymptotic \n",
            "Confidence level used: 0.95 \n",
            "Conf-level adjustment: sidak method for 10 estimates \n",
            "P value adjustment: tukey method for comparing a family of 10 estimates \n",
            "significance level used: alpha = 0.05 \n"
          ],
          "name": "stdout"
        }
      ]
    },
    {
      "cell_type": "code",
      "metadata": {
        "colab": {
          "base_uri": "https://localhost:8080/"
        },
        "id": "WTcBtJMaL2Ri",
        "outputId": "0c1a9f20-0374-46b5-cf32-8123e3520a96"
      },
      "source": [
        "%%R\n",
        "multcomp::cld(lsmeans::lsmeans(finalModel, ~ Parity), alpha=0.05, Letters=letters, adjust=\"tukey\")"
      ],
      "execution_count": null,
      "outputs": [
        {
          "output_type": "stream",
          "text": [
            "R[write to console]: Note: D.f. calculations have been disabled because the number of observations exceeds 3000.\n",
            "To enable adjustments, add the argument 'pbkrtest.limit = 463405' (or larger)\n",
            "[or, globally, 'set emm_options(pbkrtest.limit = 463405)' or larger];\n",
            "but be warned that this may result in large computation time and memory use.\n",
            "\n",
            "R[write to console]: Note: D.f. calculations have been disabled because the number of observations exceeds 3000.\n",
            "To enable adjustments, add the argument 'lmerTest.limit = 463405' (or larger)\n",
            "[or, globally, 'set emm_options(lmerTest.limit = 463405)' or larger];\n",
            "but be warned that this may result in large computation time and memory use.\n",
            "\n",
            "R[write to console]: NOTE: Results may be misleading due to involvement in interactions\n",
            "\n",
            "R[write to console]: Note: adjust = \"tukey\" was changed to \"sidak\"\n",
            "because \"tukey\" is only appropriate for one set of pairwise comparisons\n",
            "\n"
          ],
          "name": "stderr"
        },
        {
          "output_type": "stream",
          "text": [
            " Parity lsmean    SE  df asymp.LCL asymp.UCL .group\n",
            " 1        58.5 0.186 Inf      58.0      58.9  a    \n",
            " 2        59.2 0.185 Inf      58.8      59.7   b   \n",
            " 3+       60.5 0.183 Inf      60.1      61.0    c  \n",
            "\n",
            "Results are averaged over the levels of: MonthsInMilk, MilkingType, CalvingSeason, Hour \n",
            "Degrees-of-freedom method: asymptotic \n",
            "Confidence level used: 0.95 \n",
            "Conf-level adjustment: sidak method for 3 estimates \n",
            "P value adjustment: tukey method for comparing a family of 3 estimates \n",
            "significance level used: alpha = 0.05 \n"
          ],
          "name": "stdout"
        }
      ]
    },
    {
      "cell_type": "code",
      "metadata": {
        "colab": {
          "base_uri": "https://localhost:8080/"
        },
        "id": "eYDNstQZL4qg",
        "outputId": "cd03d039-896e-42d1-fa7a-ec210dd7dee0"
      },
      "source": [
        "%%R\n",
        "multcomp::cld(lsmeans::lsmeans(finalModel, ~ Hour), alpha=0.05, Letters=letters, adjust=\"tukey\")"
      ],
      "execution_count": null,
      "outputs": [
        {
          "output_type": "stream",
          "text": [
            "R[write to console]: Note: D.f. calculations have been disabled because the number of observations exceeds 3000.\n",
            "To enable adjustments, add the argument 'pbkrtest.limit = 463405' (or larger)\n",
            "[or, globally, 'set emm_options(pbkrtest.limit = 463405)' or larger];\n",
            "but be warned that this may result in large computation time and memory use.\n",
            "\n",
            "R[write to console]: Note: D.f. calculations have been disabled because the number of observations exceeds 3000.\n",
            "To enable adjustments, add the argument 'lmerTest.limit = 463405' (or larger)\n",
            "[or, globally, 'set emm_options(lmerTest.limit = 463405)' or larger];\n",
            "but be warned that this may result in large computation time and memory use.\n",
            "\n",
            "R[write to console]: NOTE: Results may be misleading due to involvement in interactions\n",
            "\n",
            "R[write to console]: Note: adjust = \"tukey\" was changed to \"sidak\"\n",
            "because \"tukey\" is only appropriate for one set of pairwise comparisons\n",
            "\n"
          ],
          "name": "stderr"
        },
        {
          "output_type": "stream",
          "text": [
            " Hour lsmean     SE  df asymp.LCL asymp.UCL .group       \n",
            " 2     41.67 0.2019 Inf     41.09     42.25  a           \n",
            " 0     47.19 0.2019 Inf     46.61     47.77   b          \n",
            " 22    50.75 0.2019 Inf     50.17     51.33    c         \n",
            " 4     55.69 0.2019 Inf     55.12     56.27     d        \n",
            " 20    56.60 0.2019 Inf     56.02     57.18      e       \n",
            " 10    58.30 0.2019 Inf     57.72     58.87       f      \n",
            " 8     60.28 0.2019 Inf     59.71     60.86        g     \n",
            " 12    61.54 0.2019 Inf     60.97     62.12         h    \n",
            " 6     62.55 0.2019 Inf     61.97     63.12          i   \n",
            " 14    69.07 0.2019 Inf     68.49     69.65           j  \n",
            " 18    69.70 0.2019 Inf     69.12     70.28            k \n",
            " 16    79.63 0.2019 Inf     79.06     80.21             l\n",
            "\n",
            "Results are averaged over the levels of: MonthsInMilk, Parity, MilkingType, CalvingSeason \n",
            "Degrees-of-freedom method: asymptotic \n",
            "Confidence level used: 0.95 \n",
            "Conf-level adjustment: sidak method for 12 estimates \n",
            "P value adjustment: tukey method for comparing a family of 12 estimates \n",
            "significance level used: alpha = 0.05 \n"
          ],
          "name": "stdout"
        }
      ]
    },
    {
      "cell_type": "code",
      "metadata": {
        "colab": {
          "base_uri": "https://localhost:8080/"
        },
        "id": "Uhp7fv_7L7RL",
        "outputId": "71bad057-e5d5-4aa8-fb18-06b977877114"
      },
      "source": [
        "%%R\n",
        "multcomp::cld(lsmeans::lsmeans(finalModel, ~ CalvingSeason), alpha=0.05, Letters=letters, adjust=\"tukey\")"
      ],
      "execution_count": null,
      "outputs": [
        {
          "output_type": "stream",
          "text": [
            "R[write to console]: Note: D.f. calculations have been disabled because the number of observations exceeds 3000.\n",
            "To enable adjustments, add the argument 'pbkrtest.limit = 463405' (or larger)\n",
            "[or, globally, 'set emm_options(pbkrtest.limit = 463405)' or larger];\n",
            "but be warned that this may result in large computation time and memory use.\n",
            "\n",
            "R[write to console]: Note: D.f. calculations have been disabled because the number of observations exceeds 3000.\n",
            "To enable adjustments, add the argument 'lmerTest.limit = 463405' (or larger)\n",
            "[or, globally, 'set emm_options(lmerTest.limit = 463405)' or larger];\n",
            "but be warned that this may result in large computation time and memory use.\n",
            "\n",
            "R[write to console]: NOTE: Results may be misleading due to involvement in interactions\n",
            "\n",
            "R[write to console]: Note: adjust = \"tukey\" was changed to \"sidak\"\n",
            "because \"tukey\" is only appropriate for one set of pairwise comparisons\n",
            "\n"
          ],
          "name": "stderr"
        },
        {
          "output_type": "stream",
          "text": [
            " CalvingSeason lsmean    SE  df asymp.LCL asymp.UCL .group\n",
            " Summer          58.4 0.190 Inf      57.9      58.9  a    \n",
            " Autumn          58.9 0.190 Inf      58.4      59.4   b   \n",
            " Spring          59.8 0.193 Inf      59.3      60.3    c  \n",
            " Winter          60.6 0.193 Inf      60.1      61.1     d \n",
            "\n",
            "Results are averaged over the levels of: MonthsInMilk, Parity, MilkingType, Hour \n",
            "Degrees-of-freedom method: asymptotic \n",
            "Confidence level used: 0.95 \n",
            "Conf-level adjustment: sidak method for 4 estimates \n",
            "P value adjustment: tukey method for comparing a family of 4 estimates \n",
            "significance level used: alpha = 0.05 \n"
          ],
          "name": "stdout"
        }
      ]
    },
    {
      "cell_type": "markdown",
      "metadata": {
        "id": "kb4mCH2XKZ9b"
      },
      "source": [
        "## Interactions"
      ]
    },
    {
      "cell_type": "markdown",
      "metadata": {
        "id": "TMNAukTiKcXB"
      },
      "source": [
        "### Hour by parity"
      ]
    },
    {
      "cell_type": "code",
      "metadata": {
        "colab": {
          "base_uri": "https://localhost:8080/"
        },
        "id": "8EL93qnIMqyy",
        "outputId": "36b5d9f3-825f-4cfb-c5c9-e938d280fc62"
      },
      "source": [
        "%%R\n",
        "LSMs<-lsmeans::lsmeans(finalModel, pairwise ~ Hour|Parity, type = \"response\", glhargs=list())\n",
        "multcomp::cld(LSMs[[1]], alpha=0.05, Letters=letters, adjust=\"tukey\")"
      ],
      "execution_count": null,
      "outputs": [
        {
          "output_type": "stream",
          "text": [
            "R[write to console]: Note: D.f. calculations have been disabled because the number of observations exceeds 3000.\n",
            "To enable adjustments, add the argument 'pbkrtest.limit = 463405' (or larger)\n",
            "[or, globally, 'set emm_options(pbkrtest.limit = 463405)' or larger];\n",
            "but be warned that this may result in large computation time and memory use.\n",
            "\n",
            "R[write to console]: Note: D.f. calculations have been disabled because the number of observations exceeds 3000.\n",
            "To enable adjustments, add the argument 'lmerTest.limit = 463405' (or larger)\n",
            "[or, globally, 'set emm_options(lmerTest.limit = 463405)' or larger];\n",
            "but be warned that this may result in large computation time and memory use.\n",
            "\n",
            "R[write to console]: Note: adjust = \"tukey\" was changed to \"sidak\"\n",
            "because \"tukey\" is only appropriate for one set of pairwise comparisons\n",
            "\n"
          ],
          "name": "stderr"
        },
        {
          "output_type": "stream",
          "text": [
            "Parity = 1:\n",
            " Hour lsmean    SE  df asymp.LCL asymp.UCL .group      \n",
            " 2      38.6 0.248 Inf      37.9      39.3  a          \n",
            " 0      44.4 0.248 Inf      43.7      45.2   b         \n",
            " 22     48.8 0.248 Inf      48.1      49.5    c        \n",
            " 4      55.2 0.248 Inf      54.5      55.9     d       \n",
            " 20     56.0 0.248 Inf      55.3      56.8      e      \n",
            " 10     58.0 0.248 Inf      57.2      58.7       f     \n",
            " 8      60.7 0.248 Inf      60.0      61.4        g    \n",
            " 12     61.0 0.248 Inf      60.3      61.7        g    \n",
            " 6      62.7 0.248 Inf      61.9      63.4         h   \n",
            " 14     68.5 0.248 Inf      67.8      69.2          i  \n",
            " 18     69.1 0.248 Inf      68.4      69.8          i  \n",
            " 16     78.6 0.248 Inf      77.9      79.4           j \n",
            "\n",
            "Parity = 2:\n",
            " Hour lsmean    SE  df asymp.LCL asymp.UCL .group      \n",
            " 2      40.7 0.247 Inf      40.0      41.4  a          \n",
            " 0      46.7 0.247 Inf      46.0      47.4   b         \n",
            " 22     50.1 0.247 Inf      49.4      50.8    c        \n",
            " 4      54.3 0.247 Inf      53.6      55.1     d       \n",
            " 20     56.3 0.247 Inf      55.6      57.0      e      \n",
            " 10     58.8 0.247 Inf      58.0      59.5       f     \n",
            " 8      60.7 0.247 Inf      60.0      61.4        g    \n",
            " 12     61.9 0.247 Inf      61.2      62.6         h   \n",
            " 6      62.3 0.247 Inf      61.6      63.0         h   \n",
            " 14     69.5 0.247 Inf      68.8      70.2          i  \n",
            " 18     69.9 0.247 Inf      69.2      70.6          i  \n",
            " 16     79.5 0.247 Inf      78.8      80.2           j \n",
            "\n",
            "Parity = 3+:\n",
            " Hour lsmean    SE  df asymp.LCL asymp.UCL .group      \n",
            " 2      45.6 0.219 Inf      45.0      46.3  a          \n",
            " 0      50.4 0.219 Inf      49.8      51.1   b         \n",
            " 22     53.3 0.219 Inf      52.7      54.0    c        \n",
            " 20     57.5 0.219 Inf      56.9      58.1     d       \n",
            " 4      57.6 0.219 Inf      56.9      58.2     d       \n",
            " 10     58.2 0.219 Inf      57.6      58.8      e      \n",
            " 8      59.4 0.219 Inf      58.8      60.0       f     \n",
            " 12     61.7 0.219 Inf      61.1      62.4        g    \n",
            " 6      62.7 0.219 Inf      62.1      63.4         h   \n",
            " 14     69.2 0.219 Inf      68.6      69.8          i  \n",
            " 18     70.1 0.219 Inf      69.5      70.7           j \n",
            " 16     80.8 0.219 Inf      80.1      81.4            k\n",
            "\n",
            "Results are averaged over the levels of: MonthsInMilk, MilkingType, CalvingSeason \n",
            "Degrees-of-freedom method: asymptotic \n",
            "Confidence level used: 0.95 \n",
            "Conf-level adjustment: sidak method for 12 estimates \n",
            "P value adjustment: tukey method for comparing a family of 12 estimates \n",
            "significance level used: alpha = 0.05 \n"
          ],
          "name": "stdout"
        }
      ]
    },
    {
      "cell_type": "code",
      "metadata": {
        "colab": {
          "base_uri": "https://localhost:8080/",
          "height": 497
        },
        "id": "7ztl-zA4MuFM",
        "outputId": "60e47b94-7637-45cc-cfb9-6613d0c56255"
      },
      "source": [
        "%%R\n",
        "dfPValues <- summary(LSMs)[[2]]\n",
        "dfLMSs <- summary(LSMs)[[1]]\n",
        "dfLMSs %>% \n",
        "  mutate(label = if_else(Hour == max(as.numeric(Hour)), as.character(Parity), NA_character_)) %>%\n",
        "  ggplot(\n",
        "  aes(\n",
        "    x=Hour,\n",
        "    y=lsmean,\n",
        "    group=Parity, \n",
        "    color=Parity)\n",
        "    ) +\n",
        "  geom_line() +  \n",
        "  geom_errorbar(\n",
        "    aes(ymin=asymp.LCL, \n",
        "        ymax=asymp.UCL), \n",
        "    width=.2,\n",
        "    position=position_dodge(0.05)) +\n",
        "  labs(\n",
        "    title = \"Standing time (min/2hours)\", \n",
        "    y=\"Minutes per two hours\" , \n",
        "    x = \"Hour\") +\n",
        "  theme_bw() +\n",
        "  theme(plot.title = element_text(hjust = 0.5),\n",
        "        panel.border = element_blank(), \n",
        "        panel.grid.major = element_blank(),\n",
        "        panel.grid.minor = element_blank(), \n",
        "        axis.line = element_line(colour = \"black\"))"
      ],
      "execution_count": null,
      "outputs": [
        {
          "output_type": "display_data",
          "data": {
            "image/png": "[encoded data removed]"
          },
          "metadata": {
            "tags": []
          }
        }
      ]
    },
    {
      "cell_type": "markdown",
      "metadata": {
        "id": "I7UBdInDKe_B"
      },
      "source": [
        "### Hour by milking type"
      ]
    },
    {
      "cell_type": "code",
      "metadata": {
        "colab": {
          "base_uri": "https://localhost:8080/"
        },
        "id": "UHdeLuXOMz8y",
        "outputId": "e9bdc34f-4c9d-430e-b5d1-746de6a17606"
      },
      "source": [
        "%%R\n",
        "LSMs<-lsmeans::lsmeans(finalModel, pairwise ~ Hour|MilkingType, type = \"response\", glhargs=list())\n",
        "multcomp::cld(LSMs[[1]], alpha=0.05, Letters=letters, adjust=\"tukey\")"
      ],
      "execution_count": null,
      "outputs": [
        {
          "output_type": "stream",
          "text": [
            "R[write to console]: Note: D.f. calculations have been disabled because the number of observations exceeds 3000.\n",
            "To enable adjustments, add the argument 'pbkrtest.limit = 463405' (or larger)\n",
            "[or, globally, 'set emm_options(pbkrtest.limit = 463405)' or larger];\n",
            "but be warned that this may result in large computation time and memory use.\n",
            "\n",
            "R[write to console]: Note: D.f. calculations have been disabled because the number of observations exceeds 3000.\n",
            "To enable adjustments, add the argument 'lmerTest.limit = 463405' (or larger)\n",
            "[or, globally, 'set emm_options(lmerTest.limit = 463405)' or larger];\n",
            "but be warned that this may result in large computation time and memory use.\n",
            "\n",
            "R[write to console]: Note: adjust = \"tukey\" was changed to \"sidak\"\n",
            "because \"tukey\" is only appropriate for one set of pairwise comparisons\n",
            "\n"
          ],
          "name": "stderr"
        },
        {
          "output_type": "stream",
          "text": [
            "MilkingType = AMS:\n",
            " Hour lsmean    SE  df asymp.LCL asymp.UCL .group      \n",
            " 2      40.4 0.334 Inf      39.4      41.3  a          \n",
            " 4      44.5 0.334 Inf      43.5      45.4   b         \n",
            " 0      47.7 0.334 Inf      46.7      48.6    c        \n",
            " 22     51.4 0.334 Inf      50.4      52.3     d       \n",
            " 10     58.3 0.334 Inf      57.3      59.2      e      \n",
            " 6      58.8 0.334 Inf      57.9      59.8      e      \n",
            " 20     59.7 0.334 Inf      58.8      60.7       f     \n",
            " 12     61.0 0.334 Inf      60.0      61.9        g    \n",
            " 8      64.3 0.334 Inf      63.3      65.2         h   \n",
            " 14     65.8 0.334 Inf      64.8      66.7          i  \n",
            " 18     73.3 0.334 Inf      72.4      74.3           j \n",
            " 16     73.4 0.334 Inf      72.4      74.4           j \n",
            "\n",
            "MilkingType = CMS:\n",
            " Hour lsmean    SE  df asymp.LCL asymp.UCL .group      \n",
            " 2      43.0 0.223 Inf      42.4      43.6  a          \n",
            " 0      46.7 0.223 Inf      46.1      47.4   b         \n",
            " 22     50.1 0.223 Inf      49.5      50.8    c        \n",
            " 20     53.5 0.223 Inf      52.9      54.1     d       \n",
            " 8      56.3 0.223 Inf      55.7      56.9      e      \n",
            " 10     58.3 0.223 Inf      57.7      58.9       f     \n",
            " 12     62.1 0.223 Inf      61.5      62.8        g    \n",
            " 18     66.1 0.223 Inf      65.4      66.7         h   \n",
            " 6      66.3 0.223 Inf      65.6      66.9         h   \n",
            " 4      66.9 0.223 Inf      66.3      67.5          i  \n",
            " 14     72.4 0.223 Inf      71.7      73.0           j \n",
            " 16     85.9 0.223 Inf      85.2      86.5            k\n",
            "\n",
            "Results are averaged over the levels of: MonthsInMilk, Parity, CalvingSeason \n",
            "Degrees-of-freedom method: asymptotic \n",
            "Confidence level used: 0.95 \n",
            "Conf-level adjustment: sidak method for 12 estimates \n",
            "P value adjustment: tukey method for comparing a family of 12 estimates \n",
            "significance level used: alpha = 0.05 \n"
          ],
          "name": "stdout"
        }
      ]
    },
    {
      "cell_type": "code",
      "metadata": {
        "colab": {
          "base_uri": "https://localhost:8080/",
          "height": 497
        },
        "id": "5l8c9HyqM8v3",
        "outputId": "95da3865-7ce9-4976-e2ce-4c5e2b11e2b9"
      },
      "source": [
        "%%R\n",
        "dfPValues <- summary(LSMs)[[2]]\n",
        "dfLMSs <- summary(LSMs)[[1]]\n",
        "dfLMSs %>% \n",
        "  mutate(label = if_else(Hour == max(as.numeric(Hour)), as.character(MilkingType), NA_character_)) %>%\n",
        "  ggplot(\n",
        "  aes(\n",
        "    x=Hour,\n",
        "    y=lsmean,\n",
        "    group=MilkingType, \n",
        "    color=MilkingType)\n",
        "    ) +\n",
        "  geom_line() +  \n",
        "  geom_errorbar(\n",
        "    aes(ymin=asymp.LCL, \n",
        "        ymax=asymp.UCL), \n",
        "    width=.2,\n",
        "    position=position_dodge(0.05)) +\n",
        "  labs(\n",
        "    title = \"Standing time (min/2hours)\", \n",
        "    y=\"Minutes per two hours\" , \n",
        "    x = \"Hour\") +\n",
        "  theme_bw() +\n",
        "  theme(plot.title = element_text(hjust = 0.5),\n",
        "        panel.border = element_blank(), \n",
        "        panel.grid.major = element_blank(),\n",
        "        panel.grid.minor = element_blank(), \n",
        "        axis.line = element_line(colour = \"black\"))"
      ],
      "execution_count": null,
      "outputs": [
        {
          "output_type": "display_data",
          "data": {
            "image/png": "[encoded data removed]"
          },
          "metadata": {
            "tags": []
          }
        }
      ]
    },
    {
      "cell_type": "markdown",
      "metadata": {
        "id": "X9TLzcgUKh-Z"
      },
      "source": [
        "### Hour by calving season"
      ]
    },
    {
      "cell_type": "code",
      "metadata": {
        "colab": {
          "base_uri": "https://localhost:8080/"
        },
        "id": "mIX-J3XBNIAQ",
        "outputId": "a4ac3589-6d8c-4113-a389-cff76a8d006d"
      },
      "source": [
        "%%R\n",
        "LSMs<-lsmeans::lsmeans(finalModel, pairwise ~ Hour|CalvingSeason, type = \"response\", glhargs=list())\n",
        "multcomp::cld(LSMs[[1]], alpha=0.05, Letters=letters, adjust=\"tukey\")"
      ],
      "execution_count": null,
      "outputs": [
        {
          "output_type": "stream",
          "text": [
            "R[write to console]: Note: D.f. calculations have been disabled because the number of observations exceeds 3000.\n",
            "To enable adjustments, add the argument 'pbkrtest.limit = 463405' (or larger)\n",
            "[or, globally, 'set emm_options(pbkrtest.limit = 463405)' or larger];\n",
            "but be warned that this may result in large computation time and memory use.\n",
            "\n",
            "R[write to console]: Note: D.f. calculations have been disabled because the number of observations exceeds 3000.\n",
            "To enable adjustments, add the argument 'lmerTest.limit = 463405' (or larger)\n",
            "[or, globally, 'set emm_options(lmerTest.limit = 463405)' or larger];\n",
            "but be warned that this may result in large computation time and memory use.\n",
            "\n",
            "R[write to console]: Note: adjust = \"tukey\" was changed to \"sidak\"\n",
            "because \"tukey\" is only appropriate for one set of pairwise comparisons\n",
            "\n"
          ],
          "name": "stderr"
        },
        {
          "output_type": "stream",
          "text": [
            "CalvingSeason = Autumn:\n",
            " Hour lsmean    SE  df asymp.LCL asymp.UCL .group       \n",
            " 2      41.0 0.248 Inf      40.3      41.8  a           \n",
            " 0      46.6 0.248 Inf      45.9      47.3   b          \n",
            " 22     50.1 0.248 Inf      49.4      50.8    c         \n",
            " 4      54.5 0.248 Inf      53.8      55.2     d        \n",
            " 20     56.1 0.248 Inf      55.4      56.8      e       \n",
            " 10     58.8 0.248 Inf      58.1      59.5       f      \n",
            " 8      60.3 0.248 Inf      59.6      61.0        g     \n",
            " 12     61.1 0.248 Inf      60.4      61.8         h    \n",
            " 6      62.2 0.248 Inf      61.5      62.9          i   \n",
            " 14     67.5 0.248 Inf      66.8      68.2           j  \n",
            " 18     69.2 0.248 Inf      68.5      69.9            k \n",
            " 16     79.2 0.248 Inf      78.5      79.9             l\n",
            "\n",
            "CalvingSeason = Spring:\n",
            " Hour lsmean    SE  df asymp.LCL asymp.UCL .group       \n",
            " 2      42.4 0.261 Inf      41.6      43.1  a           \n",
            " 0      47.9 0.261 Inf      47.2      48.7   b          \n",
            " 22     51.3 0.261 Inf      50.6      52.1    c         \n",
            " 4      56.1 0.261 Inf      55.4      56.9     d        \n",
            " 20     57.2 0.261 Inf      56.4      57.9      e       \n",
            " 10     58.0 0.261 Inf      57.3      58.8       f      \n",
            " 8      60.4 0.261 Inf      59.7      61.2        g     \n",
            " 12     61.8 0.261 Inf      61.1      62.6         h    \n",
            " 6      62.5 0.261 Inf      61.7      63.2         h    \n",
            " 14     70.2 0.261 Inf      69.4      70.9          i   \n",
            " 18     70.2 0.261 Inf      69.5      71.0          i   \n",
            " 16     79.2 0.261 Inf      78.4      79.9           j  \n",
            "\n",
            "CalvingSeason = Summer:\n",
            " Hour lsmean    SE  df asymp.LCL asymp.UCL .group       \n",
            " 2      40.6 0.246 Inf      39.9      41.3  a           \n",
            " 0      46.6 0.245 Inf      45.9      47.3   b          \n",
            " 22     49.9 0.245 Inf      49.2      50.6    c         \n",
            " 4      53.3 0.246 Inf      52.6      54.0     d        \n",
            " 20     55.6 0.245 Inf      54.9      56.3      e       \n",
            " 10     58.1 0.246 Inf      57.4      58.8       f      \n",
            " 8      59.2 0.246 Inf      58.5      59.9        g     \n",
            " 12     60.3 0.246 Inf      59.6      61.0         h    \n",
            " 6      61.9 0.246 Inf      61.2      62.6          i   \n",
            " 14     68.0 0.246 Inf      67.3      68.7           j  \n",
            " 18     68.1 0.245 Inf      67.4      68.8           j  \n",
            " 16     79.3 0.245 Inf      78.6      80.0            k \n",
            "\n",
            "CalvingSeason = Winter:\n",
            " Hour lsmean    SE  df asymp.LCL asymp.UCL .group       \n",
            " 2      42.6 0.262 Inf      41.9      43.4  a           \n",
            " 0      47.6 0.262 Inf      46.9      48.4   b          \n",
            " 22     51.7 0.262 Inf      50.9      52.4    c         \n",
            " 20     57.5 0.262 Inf      56.8      58.3     d        \n",
            " 10     58.2 0.262 Inf      57.5      59.0     de       \n",
            " 4      58.8 0.262 Inf      58.1      59.6      e       \n",
            " 8      61.1 0.262 Inf      60.4      61.9       f      \n",
            " 12     62.9 0.262 Inf      62.1      63.6        g     \n",
            " 6      63.6 0.262 Inf      62.8      64.3        g     \n",
            " 14     70.6 0.262 Inf      69.8      71.3         h    \n",
            " 18     71.3 0.262 Inf      70.6      72.1         h    \n",
            " 16     80.8 0.262 Inf      80.1      81.6          i   \n",
            "\n",
            "Results are averaged over the levels of: MonthsInMilk, Parity, MilkingType \n",
            "Degrees-of-freedom method: asymptotic \n",
            "Confidence level used: 0.95 \n",
            "Conf-level adjustment: sidak method for 12 estimates \n",
            "P value adjustment: tukey method for comparing a family of 12 estimates \n",
            "significance level used: alpha = 0.05 \n"
          ],
          "name": "stdout"
        }
      ]
    },
    {
      "cell_type": "code",
      "metadata": {
        "colab": {
          "base_uri": "https://localhost:8080/",
          "height": 497
        },
        "id": "a0k3hVjsNLOo",
        "outputId": "6e965749-d7ab-4048-918a-c80f14126380"
      },
      "source": [
        "%%R\n",
        "dfPValues <- summary(LSMs)[[2]]\n",
        "dfLMSs <- summary(LSMs)[[1]]\n",
        "dfLMSs %>% \n",
        "  mutate(label = if_else(Hour == max(as.numeric(Hour)), as.character(CalvingSeason), NA_character_)) %>%\n",
        "  ggplot(\n",
        "  aes(\n",
        "    x=Hour,\n",
        "    y=lsmean,\n",
        "    group=CalvingSeason, \n",
        "    color=CalvingSeason)\n",
        "    ) +\n",
        "  geom_line() +  \n",
        "  geom_errorbar(\n",
        "    aes(ymin=asymp.LCL, \n",
        "        ymax=asymp.UCL), \n",
        "    width=.2,\n",
        "    position=position_dodge(0.05)) +\n",
        "  labs(\n",
        "    title = \"Standing time (min/2hours)\", \n",
        "    y=\"Minutes per two hours\" , \n",
        "    x = \"Hour\") +\n",
        "  theme_bw() +\n",
        "  theme(plot.title = element_text(hjust = 0.5),\n",
        "        panel.border = element_blank(), \n",
        "        panel.grid.major = element_blank(),\n",
        "        panel.grid.minor = element_blank(), \n",
        "        axis.line = element_line(colour = \"black\"))"
      ],
      "execution_count": null,
      "outputs": [
        {
          "output_type": "display_data",
          "data": {
            "image/png": "[encoded data removed]"
          },
          "metadata": {
            "tags": []
          }
        }
      ]
    }
  ]
}