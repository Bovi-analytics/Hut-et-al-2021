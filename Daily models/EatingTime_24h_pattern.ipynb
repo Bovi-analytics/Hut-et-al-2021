{
  "nbformat": 4,
  "nbformat_minor": 0,
  "metadata": {
    "colab": {
      "name": "EatingTime 24h pattern",
      "provenance": [],
      "collapsed_sections": [],
      "toc_visible": true,
      "include_colab_link": true
    },
    "kernelspec": {
      "name": "python3",
      "display_name": "Python 3"
    }
  },
  "cells": [
    {
      "cell_type": "markdown",
      "metadata": {
        "id": "view-in-github",
        "colab_type": "text"
      },
      "source": [
        "<a href=\"https://colab.research.google.com/github/Bovi-analytics/hut-et-al-2021/blob/master/EatingTime_24h_pattern.ipynb\" target=\"_parent\"><img src=\"https://colab.research.google.com/assets/colab-badge.svg\" alt=\"Open In Colab\"/></a>"
      ]
    },
    {
      "cell_type": "markdown",
      "metadata": {
        "id": "fz9eKUMX-Cza"
      },
      "source": [
        "# Statistical notebook for eating time"
      ]
    },
    {
      "cell_type": "markdown",
      "metadata": {
        "id": "ZhDZtvSA-Tq1"
      },
      "source": [
        "## Importing of google drive"
      ]
    },
    {
      "cell_type": "code",
      "metadata": {
        "colab": {
          "base_uri": "https://localhost:8080/"
        },
        "id": "WCUSUtqb21vg",
        "outputId": "f59c6202-f0e0-4136-f18b-b0cf040d1881"
      },
      "source": [
        "from google.colab import drive\n",
        "drive.mount('/content/drive')"
      ],
      "execution_count": null,
      "outputs": [
        {
          "output_type": "stream",
          "text": [
            "Mounted at /content/drive\n"
          ],
          "name": "stdout"
        }
      ]
    },
    {
      "cell_type": "markdown",
      "metadata": {
        "id": "WOqP9mu_-XRx"
      },
      "source": [
        "## R loading"
      ]
    },
    {
      "cell_type": "code",
      "metadata": {
        "id": "TxkiqsiB23Kg"
      },
      "source": [
        "%reload_ext rpy2.ipython"
      ],
      "execution_count": null,
      "outputs": []
    },
    {
      "cell_type": "code",
      "metadata": {
        "id": "g26qdf2-Y2Wv"
      },
      "source": [
        "%%R\n",
        "lib_loc <- \"/content/drive/Shareddrives/Bovi-Analytics/R-lib/\""
      ],
      "execution_count": null,
      "outputs": []
    },
    {
      "cell_type": "code",
      "metadata": {
        "id": "PTy2S7SgY3dE",
        "colab": {
          "base_uri": "https://localhost:8080/"
        },
        "outputId": "4a1c6491-f6f4-4af2-af63-f4162bc10449"
      },
      "source": [
        "%%R\n",
        "package_list <- c(\"ggplot2\",\n",
        "                  \"readr\",\n",
        "                  \"plyr\",\n",
        "                  \"dplyr\",\n",
        "                  \"tidyr\",                \n",
        "                  \"lme4\",\n",
        "                  \"lmerTest\",\n",
        "                  \"multcompView\",\n",
        "                  \"mvtnorm\",\n",
        "                  \"TH.data\",\n",
        "                  \"multcomp\",\n",
        "                  \"emmeans\",\n",
        "                  \"lsmeans\",\n",
        "                  \"carData\",\n",
        "                  \"car\"\n",
        "                  )\n",
        "\n",
        "for (pkg in package_list) {\n",
        "  if (pkg %in% rownames(.packages()) == FALSE)\n",
        "  {library(pkg, lib.loc = lib_loc, character.only = TRUE)}\n",
        "\n",
        "}"
      ],
      "execution_count": null,
      "outputs": [
        {
          "output_type": "stream",
          "text": [
            "R[write to console]: \n",
            "Attaching package: ‘dplyr’\n",
            "\n",
            "\n",
            "R[write to console]: The following objects are masked from ‘package:plyr’:\n",
            "\n",
            "    arrange, count, desc, failwith, id, mutate, rename, summarise,\n",
            "    summarize\n",
            "\n",
            "\n",
            "R[write to console]: The following objects are masked from ‘package:stats’:\n",
            "\n",
            "    filter, lag\n",
            "\n",
            "\n",
            "R[write to console]: The following objects are masked from ‘package:base’:\n",
            "\n",
            "    intersect, setdiff, setequal, union\n",
            "\n",
            "\n",
            "R[write to console]: Loading required package: Matrix\n",
            "\n",
            "R[write to console]: \n",
            "Attaching package: ‘Matrix’\n",
            "\n",
            "\n",
            "R[write to console]: The following objects are masked from ‘package:tidyr’:\n",
            "\n",
            "    expand, pack, unpack\n",
            "\n",
            "\n",
            "R[write to console]: \n",
            "Attaching package: ‘lmerTest’\n",
            "\n",
            "\n",
            "R[write to console]: The following object is masked from ‘package:lme4’:\n",
            "\n",
            "    lmer\n",
            "\n",
            "\n",
            "R[write to console]: The following object is masked from ‘package:stats’:\n",
            "\n",
            "    step\n",
            "\n",
            "\n",
            "R[write to console]: Loading required package: survival\n",
            "\n",
            "R[write to console]: Loading required package: MASS\n",
            "\n",
            "R[write to console]: \n",
            "Attaching package: ‘MASS’\n",
            "\n",
            "\n",
            "R[write to console]: The following object is masked from ‘package:dplyr’:\n",
            "\n",
            "    select\n",
            "\n",
            "\n",
            "R[write to console]: \n",
            "Attaching package: ‘TH.data’\n",
            "\n",
            "\n",
            "R[write to console]: The following object is masked from ‘package:MASS’:\n",
            "\n",
            "    geyser\n",
            "\n",
            "\n",
            "R[write to console]: The 'lsmeans' package is now basically a front end for 'emmeans'.\n",
            "Users are encouraged to switch the rest of the way.\n",
            "See help('transition') for more information, including how to\n",
            "convert old 'lsmeans' objects and scripts to work with 'emmeans'.\n",
            "\n",
            "R[write to console]: Registered S3 methods overwritten by 'car':\n",
            "  method                          from\n",
            "  influence.merMod                lme4\n",
            "  cooks.distance.influence.merMod lme4\n",
            "  dfbeta.influence.merMod         lme4\n",
            "  dfbetas.influence.merMod        lme4\n",
            "\n",
            "R[write to console]: \n",
            "Attaching package: ‘car’\n",
            "\n",
            "\n",
            "R[write to console]: The following object is masked from ‘package:dplyr’:\n",
            "\n",
            "    recode\n",
            "\n",
            "\n"
          ],
          "name": "stderr"
        }
      ]
    },
    {
      "cell_type": "code",
      "metadata": {
        "id": "snG9yOv6-3YD"
      },
      "source": [
        "%%R\n",
        "options(warn=-1)"
      ],
      "execution_count": null,
      "outputs": []
    },
    {
      "cell_type": "markdown",
      "metadata": {
        "id": "ar_zGFZr-2J1"
      },
      "source": [
        "## Data loading into dataframe"
      ]
    },
    {
      "cell_type": "code",
      "metadata": {
        "id": "EdsoTgv63LDl",
        "colab": {
          "base_uri": "https://localhost:8080/"
        },
        "outputId": "64aec7a2-3516-4637-fa6c-030c96783d9e"
      },
      "source": [
        "%%R\n",
        "AnalysisData <- \n",
        "  readr::read_csv(\"/content/drive/Shareddrives/Bovi-Analytics/Projects/SenseOfSensors/CsvData/SensorAggRepartitioned08032021/ObservationType=EatingTimeMinutesPer2Hours/part-00000-tid-183333261268000902-29b42dfd-564e-4e7d-8ea7-05b4fb30d5d6-1694-5.c000.csv\", \n",
        "    col_types = readr::cols(HerdIdentifier = readr::col_character(), \n",
        "        TransitionLactationNumber = readr::col_integer(), \n",
        "        TransitionParity = readr::col_character(), \n",
        "        TransitionMonthsInMilk = readr::col_integer(), \n",
        "        TransitionCalvingDate = readr::col_character(), \n",
        "        Hour = readr::col_integer(), \n",
        "        Observations = readr::col_integer())) %>% \n",
        "  dplyr::filter(dplyr::between(TransitionMonthsInMilk, 1, 10)) %>%\n",
        "   dplyr::mutate(\n",
        "    AnimalIdentifier = factor(AnimalIdentifier),\n",
        "    HerdIdentifier = factor(HerdIdentifier),\n",
        "    Parity = factor(TransitionParity),\n",
        "    MonthsInMilk = factor(TransitionMonthsInMilk),\n",
        "    CalvingSeason = factor(TransitionSeason),\n",
        "    Hour = factor(Hour),\n",
        "    SensorValue = ObservationValue,\n",
        "    MilkingType = factor(case_when(\n",
        "    HerdIdentifier %in% c(\"544\", \"2514\", \"3314\")~\"AMS\",\n",
        "    TRUE~\"CMS\"\n",
        "  ))\n",
        "  ) %>%\n",
        "  dplyr::select(AnimalIdentifier, HerdIdentifier, Parity, MonthsInMilk, CalvingSeason, Hour, SensorValue, MilkingType) %>%\n",
        "  tidyr::drop_na()"
      ],
      "execution_count": null,
      "outputs": [
        {
          "output_type": "stream",
          "text": [
            "|===================================================================| 100% 64 MB\n"
          ],
          "name": "stdout"
        }
      ]
    },
    {
      "cell_type": "code",
      "metadata": {
        "colab": {
          "base_uri": "https://localhost:8080/"
        },
        "id": "6tB88jG161J_",
        "outputId": "a88628cf-d514-4dc4-88ee-8ff7c2b57a87"
      },
      "source": [
        "%%R\n",
        "head(AnalysisData)"
      ],
      "execution_count": null,
      "outputs": [
        {
          "output_type": "stream",
          "text": [
            "# A tibble: 6 x 8\n",
            "  AnimalIdentifier HerdIdentifier Parity MonthsInMilk CalvingSeason Hour \n",
            "  <fct>            <fct>          <fct>  <fct>        <fct>         <fct>\n",
            "1 55               2297           1      4            Winter        2    \n",
            "2 140              2746           3+     5            Winter        20   \n",
            "3 140              2746           3+     6            Winter        6    \n",
            "4 64               3314           2      1            Winter        18   \n",
            "5 64               3314           2      5            Winter        0    \n",
            "6 64               3314           2      5            Winter        14   \n",
            "# … with 2 more variables: SensorValue <dbl>, MilkingType <fct>\n"
          ],
          "name": "stdout"
        }
      ]
    },
    {
      "cell_type": "code",
      "metadata": {
        "colab": {
          "base_uri": "https://localhost:8080/"
        },
        "id": "F1V_3TaBTfdf",
        "outputId": "4a9ebdd6-3941-47c3-d4a4-c0d8b280e797"
      },
      "source": [
        "%%R\n",
        "str(AnalysisData)"
      ],
      "execution_count": null,
      "outputs": [
        {
          "output_type": "stream",
          "text": [
            "tibble[,8] [417,593 × 8] (S3: tbl_df/tbl/data.frame)\n",
            " $ AnimalIdentifier: Factor w/ 1095 levels \"1\",\"2\",\"3\",\"4\",..: 55 140 140 64 64 64 64 666 96 267 ...\n",
            " $ HerdIdentifier  : Factor w/ 8 levels \"2011\",\"2297\",..: 2 4 4 6 6 6 6 2 7 3 ...\n",
            " $ Parity          : Factor w/ 3 levels \"1\",\"2\",\"3+\": 1 3 3 2 2 2 2 1 2 3 ...\n",
            " $ MonthsInMilk    : Factor w/ 10 levels \"1\",\"2\",\"3\",\"4\",..: 4 5 6 1 5 5 8 10 5 5 ...\n",
            " $ CalvingSeason   : Factor w/ 4 levels \"Autumn\",\"Spring\",..: 4 4 4 4 4 4 4 3 1 3 ...\n",
            " $ Hour            : Factor w/ 12 levels \"0\",\"2\",\"4\",\"6\",..: 2 11 4 10 1 8 3 4 4 4 ...\n",
            " $ SensorValue     : num [1:417593] 19.7 18.7 33 41.9 16.5 ...\n",
            " $ MilkingType     : Factor w/ 2 levels \"AMS\",\"CMS\": 2 2 2 1 1 1 1 2 1 1 ...\n"
          ],
          "name": "stdout"
        }
      ]
    },
    {
      "cell_type": "markdown",
      "metadata": {
        "id": "jf7rKcS-BGcE"
      },
      "source": [
        "## Descriptive statistics"
      ]
    },
    {
      "cell_type": "code",
      "metadata": {
        "colab": {
          "base_uri": "https://localhost:8080/"
        },
        "id": "qt-R80Yzf8N-",
        "outputId": "6b9ffac3-7ae8-4272-ff10-9a1240332249"
      },
      "source": [
        "%%R\n",
        "AnalysisData %>% group_by(\"Parity\") %>% n_distinct()"
      ],
      "execution_count": null,
      "outputs": [
        {
          "output_type": "stream",
          "text": [
            "[1] 417496\n"
          ],
          "name": "stdout"
        }
      ]
    },
    {
      "cell_type": "code",
      "metadata": {
        "colab": {
          "base_uri": "https://localhost:8080/"
        },
        "id": "Q37uT_gYphV6",
        "outputId": "94f72e29-da27-4e16-c48c-3ee9e7601468"
      },
      "source": [
        "%%R\n",
        "AnalysisData %>%\n",
        "  group_by(Parity) %>%\n",
        "  summarise(Unique_Elements = n_distinct(AnimalIdentifier))"
      ],
      "execution_count": null,
      "outputs": [
        {
          "output_type": "stream",
          "text": [
            "# A tibble: 3 x 2\n",
            "  Parity Unique_Elements\n",
            "  <fct>            <int>\n",
            "1 1                  696\n",
            "2 2                  686\n",
            "3 3+                 724\n"
          ],
          "name": "stdout"
        }
      ]
    },
    {
      "cell_type": "code",
      "metadata": {
        "colab": {
          "base_uri": "https://localhost:8080/"
        },
        "id": "WllLXBGBtwoC",
        "outputId": "d4860b95-acbf-4714-9f28-e6554f51bbd6"
      },
      "source": [
        "%%R\n",
        "AnalysisData %>%\n",
        "  summarise(Unique_Elements = n_distinct(AnimalIdentifier))"
      ],
      "execution_count": null,
      "outputs": [
        {
          "output_type": "stream",
          "text": [
            "# A tibble: 1 x 1\n",
            "  Unique_Elements\n",
            "            <int>\n",
            "1            1067\n"
          ],
          "name": "stdout"
        }
      ]
    },
    {
      "cell_type": "markdown",
      "metadata": {
        "id": "9Mm4kb-9BL4m"
      },
      "source": [
        "# Model building\n",
        "\n",
        "First we determine the null model"
      ]
    },
    {
      "cell_type": "markdown",
      "metadata": {
        "id": "R3In3XAH6UNw"
      },
      "source": [
        "## Null model"
      ]
    },
    {
      "cell_type": "code",
      "metadata": {
        "id": "oMj6hll16TdN"
      },
      "source": [
        "%%R\n",
        "Model.0 <- lme4::lmer(\n",
        "                  SensorValue ~ 1 + (1| HerdIdentifier:AnimalIdentifier), \n",
        "                  data = AnalysisData\n",
        "                  )\n"
      ],
      "execution_count": null,
      "outputs": []
    },
    {
      "cell_type": "markdown",
      "metadata": {
        "id": "Y67KPZBG6Vtp"
      },
      "source": [
        "## Univariable models"
      ]
    },
    {
      "cell_type": "code",
      "metadata": {
        "colab": {
          "base_uri": "https://localhost:8080/"
        },
        "id": "BtHdHQiAVH4_",
        "outputId": "69f7f2bf-5d1d-40ef-f788-a8b9fcdbe3a2"
      },
      "source": [
        "%%R\n",
        "Model1.0 <- lme4::lmer(\n",
        "                  SensorValue ~ \n",
        "                  MonthsInMilk + \n",
        "                  (1| HerdIdentifier:AnimalIdentifier),\n",
        "                  REML = FALSE,\n",
        "                  data = AnalysisData\n",
        ")\n",
        "anova(Model.0,Model1.0,test=\"Chisq\")"
      ],
      "execution_count": null,
      "outputs": [
        {
          "output_type": "stream",
          "text": [
            "R[write to console]: refitting model(s) with ML (instead of REML)\n",
            "\n"
          ],
          "name": "stderr"
        },
        {
          "output_type": "stream",
          "text": [
            "Data: AnalysisData\n",
            "Models:\n",
            "Model.0: SensorValue ~ 1 + (1 | HerdIdentifier:AnimalIdentifier)\n",
            "Model1.0: SensorValue ~ MonthsInMilk + (1 | HerdIdentifier:AnimalIdentifier)\n",
            "         npar     AIC     BIC   logLik deviance  Chisq Df Pr(>Chisq)    \n",
            "Model.0     3 3466198 3466231 -1733096  3466192                         \n",
            "Model1.0   12 3464816 3464948 -1732396  3464792 1399.6  9  < 2.2e-16 ***\n",
            "---\n",
            "Signif. codes:  0 ‘***’ 0.001 ‘**’ 0.01 ‘*’ 0.05 ‘.’ 0.1 ‘ ’ 1\n"
          ],
          "name": "stdout"
        }
      ]
    },
    {
      "cell_type": "code",
      "metadata": {
        "colab": {
          "base_uri": "https://localhost:8080/"
        },
        "id": "gMvqQic5VSOL",
        "outputId": "ce62db53-5f91-4f3e-f576-e80431aeaf7d"
      },
      "source": [
        "%%R\n",
        "Model1.1 <- lme4::lmer(\n",
        "                  SensorValue ~ \n",
        "                  Parity + \n",
        "                  (1| HerdIdentifier:AnimalIdentifier),\n",
        "                  REML = FALSE,\n",
        "                  data = AnalysisData\n",
        "                  )\n",
        "anova(Model.0,Model1.1,test=\"Chisq\")"
      ],
      "execution_count": null,
      "outputs": [
        {
          "output_type": "stream",
          "text": [
            "R[write to console]: refitting model(s) with ML (instead of REML)\n",
            "\n"
          ],
          "name": "stderr"
        },
        {
          "output_type": "stream",
          "text": [
            "Data: AnalysisData\n",
            "Models:\n",
            "Model.0: SensorValue ~ 1 + (1 | HerdIdentifier:AnimalIdentifier)\n",
            "Model1.1: SensorValue ~ Parity + (1 | HerdIdentifier:AnimalIdentifier)\n",
            "         npar     AIC     BIC   logLik deviance  Chisq Df Pr(>Chisq)    \n",
            "Model.0     3 3466198 3466231 -1733096  3466192                         \n",
            "Model1.1    5 3462233 3462288 -1731112  3462223 3968.9  2  < 2.2e-16 ***\n",
            "---\n",
            "Signif. codes:  0 ‘***’ 0.001 ‘**’ 0.01 ‘*’ 0.05 ‘.’ 0.1 ‘ ’ 1\n"
          ],
          "name": "stdout"
        }
      ]
    },
    {
      "cell_type": "code",
      "metadata": {
        "colab": {
          "base_uri": "https://localhost:8080/"
        },
        "id": "oszGEcBuVUqI",
        "outputId": "906a039f-c572-403f-a842-fba18d02ea58"
      },
      "source": [
        "%%R\n",
        "Model1.2 <- lme4::lmer(\n",
        "                  SensorValue ~ \n",
        "                  HerdIdentifier + \n",
        "                  (1| HerdIdentifier:AnimalIdentifier),\n",
        "                  REML = FALSE,\n",
        "                  data = AnalysisData\n",
        "                  )\n",
        "anova(Model.0,Model1.2,test=\"Chisq\")"
      ],
      "execution_count": null,
      "outputs": [
        {
          "output_type": "stream",
          "text": [
            "R[write to console]: refitting model(s) with ML (instead of REML)\n",
            "\n"
          ],
          "name": "stderr"
        },
        {
          "output_type": "stream",
          "text": [
            "Data: AnalysisData\n",
            "Models:\n",
            "Model.0: SensorValue ~ 1 + (1 | HerdIdentifier:AnimalIdentifier)\n",
            "Model1.2: SensorValue ~ HerdIdentifier + (1 | HerdIdentifier:AnimalIdentifier)\n",
            "         npar     AIC     BIC   logLik deviance Chisq Df Pr(>Chisq)    \n",
            "Model.0     3 3466198 3466231 -1733096  3466192                        \n",
            "Model1.2   10 3465888 3465998 -1732934  3465868 323.7  7  < 2.2e-16 ***\n",
            "---\n",
            "Signif. codes:  0 ‘***’ 0.001 ‘**’ 0.01 ‘*’ 0.05 ‘.’ 0.1 ‘ ’ 1\n"
          ],
          "name": "stdout"
        }
      ]
    },
    {
      "cell_type": "code",
      "metadata": {
        "colab": {
          "base_uri": "https://localhost:8080/"
        },
        "id": "D1LlsEdpVWQP",
        "outputId": "7c4d0965-7782-47ec-a8de-1517165ed99d"
      },
      "source": [
        "%%R\n",
        "Model1.3 <- lme4::lmer(\n",
        "                  SensorValue ~ \n",
        "                  CalvingSeason +\n",
        "                  (1| HerdIdentifier:AnimalIdentifier),\n",
        "                  REML = FALSE,\n",
        "                  data = AnalysisData\n",
        "                  )\n",
        "anova(Model.0,Model1.3,test=\"Chisq\")"
      ],
      "execution_count": null,
      "outputs": [
        {
          "output_type": "stream",
          "text": [
            "R[write to console]: refitting model(s) with ML (instead of REML)\n",
            "\n"
          ],
          "name": "stderr"
        },
        {
          "output_type": "stream",
          "text": [
            "Data: AnalysisData\n",
            "Models:\n",
            "Model.0: SensorValue ~ 1 + (1 | HerdIdentifier:AnimalIdentifier)\n",
            "Model1.3: SensorValue ~ CalvingSeason + (1 | HerdIdentifier:AnimalIdentifier)\n",
            "         npar     AIC     BIC   logLik deviance  Chisq Df Pr(>Chisq)    \n",
            "Model.0     3 3466198 3466231 -1733096  3466192                         \n",
            "Model1.3    6 3466073 3466139 -1733030  3466061 131.04  3  < 2.2e-16 ***\n",
            "---\n",
            "Signif. codes:  0 ‘***’ 0.001 ‘**’ 0.01 ‘*’ 0.05 ‘.’ 0.1 ‘ ’ 1\n"
          ],
          "name": "stdout"
        }
      ]
    },
    {
      "cell_type": "code",
      "metadata": {
        "colab": {
          "base_uri": "https://localhost:8080/"
        },
        "id": "-zScQ3p8VWD-",
        "outputId": "da3db5fd-862e-4267-b534-b4f87d879591"
      },
      "source": [
        "%%R\n",
        "Model1.4 <- lme4::lmer(\n",
        "                  SensorValue ~ \n",
        "                  Hour +\n",
        "                  (1| HerdIdentifier:AnimalIdentifier),\n",
        "                  REML = FALSE,\n",
        "                  data = AnalysisData\n",
        "                  )\n",
        "anova(Model.0,Model1.4,test=\"Chisq\")"
      ],
      "execution_count": null,
      "outputs": [
        {
          "output_type": "stream",
          "text": [
            "R[write to console]: refitting model(s) with ML (instead of REML)\n",
            "\n"
          ],
          "name": "stderr"
        },
        {
          "output_type": "stream",
          "text": [
            "Data: AnalysisData\n",
            "Models:\n",
            "Model.0: SensorValue ~ 1 + (1 | HerdIdentifier:AnimalIdentifier)\n",
            "Model1.4: SensorValue ~ Hour + (1 | HerdIdentifier:AnimalIdentifier)\n",
            "         npar     AIC     BIC   logLik deviance  Chisq Df Pr(>Chisq)    \n",
            "Model.0     3 3466198 3466231 -1733096  3466192                         \n",
            "Model1.4   14 3266519 3266672 -1633246  3266491 199701 11  < 2.2e-16 ***\n",
            "---\n",
            "Signif. codes:  0 ‘***’ 0.001 ‘**’ 0.01 ‘*’ 0.05 ‘.’ 0.1 ‘ ’ 1\n"
          ],
          "name": "stdout"
        }
      ]
    },
    {
      "cell_type": "code",
      "metadata": {
        "id": "bd8jrGGgWUbv",
        "colab": {
          "base_uri": "https://localhost:8080/"
        },
        "outputId": "528dded8-3974-49f3-dcad-5dd5888b7bbc"
      },
      "source": [
        "%%R\n",
        "Model1.5 <- lme4::lmer(\n",
        "                  SensorValue ~ \n",
        "                  MilkingType +\n",
        "                  (1| HerdIdentifier:AnimalIdentifier),\n",
        "                  REML = FALSE,\n",
        "                  data = AnalysisData\n",
        "                  )\n",
        "anova(Model.0,Model1.5,test=\"Chisq\")"
      ],
      "execution_count": null,
      "outputs": [
        {
          "output_type": "stream",
          "text": [
            "R[write to console]: refitting model(s) with ML (instead of REML)\n",
            "\n"
          ],
          "name": "stderr"
        },
        {
          "output_type": "stream",
          "text": [
            "Data: AnalysisData\n",
            "Models:\n",
            "Model.0: SensorValue ~ 1 + (1 | HerdIdentifier:AnimalIdentifier)\n",
            "Model1.5: SensorValue ~ MilkingType + (1 | HerdIdentifier:AnimalIdentifier)\n",
            "         npar     AIC     BIC   logLik deviance  Chisq Df Pr(>Chisq)    \n",
            "Model.0     3 3466198 3466231 -1733096  3466192                         \n",
            "Model1.5    4 3466123 3466166 -1733057  3466115 77.417  1  < 2.2e-16 ***\n",
            "---\n",
            "Signif. codes:  0 ‘***’ 0.001 ‘**’ 0.01 ‘*’ 0.05 ‘.’ 0.1 ‘ ’ 1\n"
          ],
          "name": "stdout"
        }
      ]
    },
    {
      "cell_type": "markdown",
      "metadata": {
        "id": "4fXa9WQx6Zzh"
      },
      "source": [
        "## Multivariable models"
      ]
    },
    {
      "cell_type": "code",
      "metadata": {
        "id": "N2pB1m1lXFCW"
      },
      "source": [
        "%%R\n",
        "Model2.0 <- lme4::lmer(\n",
        "                  SensorValue ~ \n",
        "                  Parity + MonthsInMilk + CalvingSeason + Hour + MilkingType +\n",
        "                  (1| HerdIdentifier:AnimalIdentifier),\n",
        "                  REML = FALSE,\n",
        "                  data = AnalysisData\n",
        "                  )"
      ],
      "execution_count": null,
      "outputs": []
    },
    {
      "cell_type": "code",
      "metadata": {
        "colab": {
          "base_uri": "https://localhost:8080/"
        },
        "id": "_jkt1d5IbXsd",
        "outputId": "58821bc0-f716-4e9a-f038-234c174c9c56"
      },
      "source": [
        "%%R\n",
        "drop1(Model2.0,test=\"Chisq\")"
      ],
      "execution_count": null,
      "outputs": [
        {
          "output_type": "stream",
          "text": [
            "Single term deletions\n",
            "\n",
            "Model:\n",
            "SensorValue ~ Parity + MonthsInMilk + CalvingSeason + Hour + \n",
            "    MilkingType + (1 | HerdIdentifier:AnimalIdentifier)\n",
            "              npar     AIC    LRT   Pr(Chi)    \n",
            "<none>             3258297                     \n",
            "Parity           2 3264040   5747 < 2.2e-16 ***\n",
            "MonthsInMilk     9 3260010   1730 < 2.2e-16 ***\n",
            "CalvingSeason    3 3258411    120 < 2.2e-16 ***\n",
            "Hour            11 3461025 202750 < 2.2e-16 ***\n",
            "MilkingType      1 3258368     73 < 2.2e-16 ***\n",
            "---\n",
            "Signif. codes:  0 ‘***’ 0.001 ‘**’ 0.01 ‘*’ 0.05 ‘.’ 0.1 ‘ ’ 1\n"
          ],
          "name": "stdout"
        }
      ]
    },
    {
      "cell_type": "markdown",
      "metadata": {
        "id": "QkB3XmccFegX"
      },
      "source": [
        "## Introduction of interactions"
      ]
    },
    {
      "cell_type": "markdown",
      "metadata": {
        "id": "5Z3hZQM6KLDs"
      },
      "source": [
        "### Interactions with MonthsInMilk"
      ]
    },
    {
      "cell_type": "code",
      "metadata": {
        "colab": {
          "base_uri": "https://localhost:8080/"
        },
        "id": "GwUvYh3GcTk2",
        "outputId": "47504848-569a-4180-b106-2b36ebf8f8c1"
      },
      "source": [
        "%%R\n",
        "Model2.1 <- lme4::lmer(\n",
        "                  SensorValue ~ \n",
        "                  MonthsInMilk*Parity + Hour + HerdIdentifier + CalvingSeason +\n",
        "                  (1| HerdIdentifier:AnimalIdentifier),\n",
        "                  REML = FALSE,\n",
        "                  data = AnalysisData\n",
        ")\n",
        "anova(Model2.0,Model2.1,test=\"Chisq\")"
      ],
      "execution_count": null,
      "outputs": [
        {
          "output_type": "stream",
          "text": [
            "Data: AnalysisData\n",
            "Models:\n",
            "Model2.0: SensorValue ~ Parity + MonthsInMilk + CalvingSeason + Hour + \n",
            "Model2.0:     MilkingType + (1 | HerdIdentifier:AnimalIdentifier)\n",
            "Model2.1: SensorValue ~ MonthsInMilk * Parity + Hour + HerdIdentifier + \n",
            "Model2.1:     CalvingSeason + (1 | HerdIdentifier:AnimalIdentifier)\n",
            "         npar     AIC     BIC   logLik deviance  Chisq Df Pr(>Chisq)    \n",
            "Model2.0   29 3258297 3258615 -1629120  3258239                         \n",
            "Model2.1   53 3257290 3257870 -1628592  3257184 1055.2 24  < 2.2e-16 ***\n",
            "---\n",
            "Signif. codes:  0 ‘***’ 0.001 ‘**’ 0.01 ‘*’ 0.05 ‘.’ 0.1 ‘ ’ 1\n"
          ],
          "name": "stdout"
        }
      ]
    },
    {
      "cell_type": "code",
      "metadata": {
        "colab": {
          "base_uri": "https://localhost:8080/"
        },
        "id": "Gl0Ard5mdWZH",
        "outputId": "86b2b299-2b67-47b0-868f-4a0982230cc3"
      },
      "source": [
        "%%R\n",
        "Model2.2 <- lme4::lmer(\n",
        "                  SensorValue ~ \n",
        "                  MonthsInMilk*MilkingType + Parity + Hour + CalvingSeason +\n",
        "                  (1| HerdIdentifier:AnimalIdentifier),\n",
        "                  REML = FALSE,\n",
        "                  data = AnalysisData\n",
        ")\n",
        "anova(Model2.0,Model2.2,test=\"Chisq\")"
      ],
      "execution_count": null,
      "outputs": [
        {
          "output_type": "stream",
          "text": [
            "Data: AnalysisData\n",
            "Models:\n",
            "Model2.0: SensorValue ~ Parity + MonthsInMilk + CalvingSeason + Hour + \n",
            "Model2.0:     MilkingType + (1 | HerdIdentifier:AnimalIdentifier)\n",
            "Model2.2: SensorValue ~ MonthsInMilk * MilkingType + Parity + Hour + CalvingSeason + \n",
            "Model2.2:     (1 | HerdIdentifier:AnimalIdentifier)\n",
            "         npar     AIC     BIC   logLik deviance Chisq Df Pr(>Chisq)    \n",
            "Model2.0   29 3258297 3258615 -1629120  3258239                        \n",
            "Model2.2   38 3258206 3258622 -1629065  3258130 109.7  9  < 2.2e-16 ***\n",
            "---\n",
            "Signif. codes:  0 ‘***’ 0.001 ‘**’ 0.01 ‘*’ 0.05 ‘.’ 0.1 ‘ ’ 1\n"
          ],
          "name": "stdout"
        }
      ]
    },
    {
      "cell_type": "code",
      "metadata": {
        "colab": {
          "base_uri": "https://localhost:8080/"
        },
        "id": "TrbUiGbAeIaW",
        "outputId": "34856af5-e715-4dd1-9301-befd248b64be"
      },
      "source": [
        "%%R\n",
        "Model2.3 <- lme4::lmer(\n",
        "                  SensorValue ~ \n",
        "                  MonthsInMilk*CalvingSeason + Parity + Hour + MilkingType +\n",
        "                  (1| HerdIdentifier:AnimalIdentifier),\n",
        "                  REML = FALSE,\n",
        "                  data = AnalysisData\n",
        ")\n",
        "anova(Model2.0,Model2.3,test=\"Chisq\")"
      ],
      "execution_count": null,
      "outputs": [
        {
          "output_type": "stream",
          "text": [
            "Data: AnalysisData\n",
            "Models:\n",
            "Model2.0: SensorValue ~ Parity + MonthsInMilk + CalvingSeason + Hour + \n",
            "Model2.0:     MilkingType + (1 | HerdIdentifier:AnimalIdentifier)\n",
            "Model2.3: SensorValue ~ MonthsInMilk * CalvingSeason + Parity + Hour + \n",
            "Model2.3:     MilkingType + (1 | HerdIdentifier:AnimalIdentifier)\n",
            "         npar     AIC     BIC   logLik deviance  Chisq Df Pr(>Chisq)    \n",
            "Model2.0   29 3258297 3258615 -1629120  3258239                         \n",
            "Model2.3   56 3257547 3258160 -1628718  3257435 804.44 27  < 2.2e-16 ***\n",
            "---\n",
            "Signif. codes:  0 ‘***’ 0.001 ‘**’ 0.01 ‘*’ 0.05 ‘.’ 0.1 ‘ ’ 1\n"
          ],
          "name": "stdout"
        }
      ]
    },
    {
      "cell_type": "markdown",
      "metadata": {
        "id": "kRh44AzgLUHD"
      },
      "source": [
        "### Interactions with Hour"
      ]
    },
    {
      "cell_type": "code",
      "metadata": {
        "colab": {
          "base_uri": "https://localhost:8080/"
        },
        "id": "1aMg770bepWv",
        "outputId": "cee9783d-fd49-4038-ca65-5b5cfb74d843"
      },
      "source": [
        "%%R\n",
        "Model2.4 <- lme4::lmer(\n",
        "                  SensorValue ~ \n",
        "                  Hour*Parity + MonthsInMilk + CalvingSeason + MilkingType + \n",
        "                  (1| HerdIdentifier:AnimalIdentifier),\n",
        "                  REML = FALSE,\n",
        "                  data = AnalysisData\n",
        ")\n",
        "anova(Model2.0,Model2.4,test=\"Chisq\")"
      ],
      "execution_count": null,
      "outputs": [
        {
          "output_type": "stream",
          "text": [
            "Data: AnalysisData\n",
            "Models:\n",
            "Model2.0: SensorValue ~ Parity + MonthsInMilk + CalvingSeason + Hour + \n",
            "Model2.0:     MilkingType + (1 | HerdIdentifier:AnimalIdentifier)\n",
            "Model2.4: SensorValue ~ Hour * Parity + MonthsInMilk + CalvingSeason + \n",
            "Model2.4:     MilkingType + (1 | HerdIdentifier:AnimalIdentifier)\n",
            "         npar     AIC     BIC   logLik deviance  Chisq Df Pr(>Chisq)    \n",
            "Model2.0   29 3258297 3258615 -1629120  3258239                         \n",
            "Model2.4   51 3256105 3256663 -1628001  3256003 2236.7 22  < 2.2e-16 ***\n",
            "---\n",
            "Signif. codes:  0 ‘***’ 0.001 ‘**’ 0.01 ‘*’ 0.05 ‘.’ 0.1 ‘ ’ 1\n"
          ],
          "name": "stdout"
        }
      ]
    },
    {
      "cell_type": "code",
      "metadata": {
        "colab": {
          "base_uri": "https://localhost:8080/"
        },
        "id": "LI5r6VITgIwf",
        "outputId": "2f315515-5dca-4fdb-adc8-fd5f0d1839bf"
      },
      "source": [
        "%%R\n",
        "Model2.5 <- lme4::lmer(\n",
        "                  SensorValue ~ \n",
        "                  Hour*MilkingType + MonthsInMilk + CalvingSeason + Parity + \n",
        "                  (1| HerdIdentifier:AnimalIdentifier),\n",
        "                  REML = FALSE,\n",
        "                  data = AnalysisData\n",
        ")\n",
        "anova(Model2.0,Model2.5,test=\"Chisq\")"
      ],
      "execution_count": null,
      "outputs": [
        {
          "output_type": "stream",
          "text": [
            "Data: AnalysisData\n",
            "Models:\n",
            "Model2.0: SensorValue ~ Parity + MonthsInMilk + CalvingSeason + Hour + \n",
            "Model2.0:     MilkingType + (1 | HerdIdentifier:AnimalIdentifier)\n",
            "Model2.5: SensorValue ~ Hour * MilkingType + MonthsInMilk + CalvingSeason + \n",
            "Model2.5:     Parity + (1 | HerdIdentifier:AnimalIdentifier)\n",
            "         npar     AIC     BIC   logLik deviance  Chisq Df Pr(>Chisq)    \n",
            "Model2.0   29 3258297 3258615 -1629120  3258239                         \n",
            "Model2.5   40 3249524 3249962 -1624722  3249444 8795.5 11  < 2.2e-16 ***\n",
            "---\n",
            "Signif. codes:  0 ‘***’ 0.001 ‘**’ 0.01 ‘*’ 0.05 ‘.’ 0.1 ‘ ’ 1\n"
          ],
          "name": "stdout"
        }
      ]
    },
    {
      "cell_type": "code",
      "metadata": {
        "colab": {
          "base_uri": "https://localhost:8080/"
        },
        "id": "VF3W5LONgWDP",
        "outputId": "570cc61a-c07f-4f65-c0ed-09de5ce4392a"
      },
      "source": [
        "%%R\n",
        "Model2.6 <- lme4::lmer(\n",
        "                  SensorValue ~ \n",
        "                  Hour*CalvingSeason + MonthsInMilk +  + Parity + MilkingType +\n",
        "                  (1| HerdIdentifier:AnimalIdentifier),\n",
        "                  REML = FALSE,\n",
        "                  data = AnalysisData\n",
        ")\n",
        "anova(Model2.0,Model2.6,test=\"Chisq\")"
      ],
      "execution_count": null,
      "outputs": [
        {
          "output_type": "stream",
          "text": [
            "Data: AnalysisData\n",
            "Models:\n",
            "Model2.0: SensorValue ~ Parity + MonthsInMilk + CalvingSeason + Hour + \n",
            "Model2.0:     MilkingType + (1 | HerdIdentifier:AnimalIdentifier)\n",
            "Model2.6: SensorValue ~ Hour * CalvingSeason + MonthsInMilk + +Parity + \n",
            "Model2.6:     MilkingType + (1 | HerdIdentifier:AnimalIdentifier)\n",
            "         npar     AIC     BIC   logLik deviance  Chisq Df Pr(>Chisq)    \n",
            "Model2.0   29 3258297 3258615 -1629120  3258239                         \n",
            "Model2.6   62 3257456 3258135 -1628666  3257332 907.34 33  < 2.2e-16 ***\n",
            "---\n",
            "Signif. codes:  0 ‘***’ 0.001 ‘**’ 0.01 ‘*’ 0.05 ‘.’ 0.1 ‘ ’ 1\n"
          ],
          "name": "stdout"
        }
      ]
    },
    {
      "cell_type": "markdown",
      "metadata": {
        "id": "czzTZxCgL4JU"
      },
      "source": [
        "## Multiple interactions"
      ]
    },
    {
      "cell_type": "code",
      "metadata": {
        "colab": {
          "base_uri": "https://localhost:8080/"
        },
        "id": "ebxvLrJDJeAy",
        "outputId": "217bfaaf-0404-44cc-83e3-6feeef38ff2c"
      },
      "source": [
        "%%R\n",
        "Model2.7 <- lme4::lmer(\n",
        "                  SensorValue ~ \n",
        "                  MonthsInMilk*Parity + \n",
        "                  MonthsInMilk*MilkingType + \n",
        "                  MonthsInMilk*CalvingSeason + \n",
        "                  Hour*Parity + \n",
        "                  Hour*MilkingType + \n",
        "                  Hour*CalvingSeason + \n",
        "                  (1| HerdIdentifier:AnimalIdentifier),\n",
        "                  REML = FALSE,\n",
        "                  data = AnalysisData\n",
        ")\n",
        "anova(Model2.0,Model2.7,test=\"Chisq\")"
      ],
      "execution_count": null,
      "outputs": [
        {
          "output_type": "stream",
          "text": [
            "Data: AnalysisData\n",
            "Models:\n",
            "Model2.0: SensorValue ~ Parity + MonthsInMilk + CalvingSeason + Hour + \n",
            "Model2.0:     MilkingType + (1 | HerdIdentifier:AnimalIdentifier)\n",
            "Model2.7: SensorValue ~ MonthsInMilk * Parity + MonthsInMilk * MilkingType + \n",
            "Model2.7:     MonthsInMilk * CalvingSeason + Hour * Parity + Hour * MilkingType + \n",
            "Model2.7:     Hour * CalvingSeason + (1 | HerdIdentifier:AnimalIdentifier)\n",
            "         npar     AIC     BIC   logLik deviance Chisq  Df Pr(>Chisq)    \n",
            "Model2.0   29 3258297 3258615 -1629120  3258239                         \n",
            "Model2.7  149 3244897 3246528 -1622300  3244599 13640 120  < 2.2e-16 ***\n",
            "---\n",
            "Signif. codes:  0 ‘***’ 0.001 ‘**’ 0.01 ‘*’ 0.05 ‘.’ 0.1 ‘ ’ 1\n"
          ],
          "name": "stdout"
        }
      ]
    },
    {
      "cell_type": "markdown",
      "metadata": {
        "id": "EW7WcJKVHgF9"
      },
      "source": [
        "# Final model analysis of variance"
      ]
    },
    {
      "cell_type": "code",
      "metadata": {
        "id": "kMo_DzPFKkpL"
      },
      "source": [
        "%%R\n",
        "finalModel <- Model2.7"
      ],
      "execution_count": null,
      "outputs": []
    },
    {
      "cell_type": "code",
      "metadata": {
        "colab": {
          "base_uri": "https://localhost:8080/"
        },
        "id": "FeHeKGtYNNyz",
        "outputId": "4246f0e7-ccde-4c58-e89c-e869d79ec55f"
      },
      "source": [
        "%%R\n",
        "Anova(finalModel)"
      ],
      "execution_count": null,
      "outputs": [
        {
          "output_type": "stream",
          "text": [
            "Analysis of Deviance Table (Type II Wald chisquare tests)\n",
            "\n",
            "Response: SensorValue\n",
            "                                Chisq Df Pr(>Chisq)    \n",
            "MonthsInMilk                 1791.612  9  < 2.2e-16 ***\n",
            "Parity                       6003.029  2  < 2.2e-16 ***\n",
            "MilkingType                    75.513  1  < 2.2e-16 ***\n",
            "CalvingSeason                 119.544  3  < 2.2e-16 ***\n",
            "Hour                       269999.023 11  < 2.2e-16 ***\n",
            "MonthsInMilk:Parity           813.530 18  < 2.2e-16 ***\n",
            "MonthsInMilk:MilkingType      131.116  9  < 2.2e-16 ***\n",
            "MonthsInMilk:CalvingSeason    893.498 27  < 2.2e-16 ***\n",
            "Parity:Hour                  2231.254 22  < 2.2e-16 ***\n",
            "MilkingType:Hour             8897.833 11  < 2.2e-16 ***\n",
            "CalvingSeason:Hour            828.671 33  < 2.2e-16 ***\n",
            "---\n",
            "Signif. codes:  0 ‘***’ 0.001 ‘**’ 0.01 ‘*’ 0.05 ‘.’ 0.1 ‘ ’ 1\n"
          ],
          "name": "stdout"
        }
      ]
    },
    {
      "cell_type": "code",
      "metadata": {
        "id": "n6IyN7-AZ8Pm"
      },
      "source": [
        "%%R\n",
        "save(finalModel, file=\"/content/drive/Shareddrives/Bovi-Analytics/Projects/SenseOfSensors/CsvData/SensorAggRepartitioned08032021/finalmodel2hourseatingtime.rdata\")"
      ],
      "execution_count": null,
      "outputs": []
    },
    {
      "cell_type": "markdown",
      "metadata": {
        "id": "fKG0BdmdCVRe"
      },
      "source": [
        "# Final model figures and LSM (95% CI)"
      ]
    },
    {
      "cell_type": "markdown",
      "metadata": {
        "id": "5m0CPMOJFamP"
      },
      "source": [
        "## Main effects"
      ]
    },
    {
      "cell_type": "code",
      "metadata": {
        "colab": {
          "base_uri": "https://localhost:8080/"
        },
        "id": "SHDrr8k8GLRZ",
        "outputId": "1e68ede3-ec06-44bc-b363-1e242df121a9"
      },
      "source": [
        "%%R\n",
        "multcomp::cld(lsmeans::lsmeans(finalModel, ~ MonthsInMilk), alpha=0.05, Letters=letters, adjust=\"tukey\")"
      ],
      "execution_count": null,
      "outputs": [
        {
          "output_type": "stream",
          "text": [
            "R[write to console]: Note: D.f. calculations have been disabled because the number of observations exceeds 3000.\n",
            "To enable adjustments, add the argument 'pbkrtest.limit = 417593' (or larger)\n",
            "[or, globally, 'set emm_options(pbkrtest.limit = 417593)' or larger];\n",
            "but be warned that this may result in large computation time and memory use.\n",
            "\n",
            "R[write to console]: Note: D.f. calculations have been disabled because the number of observations exceeds 3000.\n",
            "To enable adjustments, add the argument 'lmerTest.limit = 417593' (or larger)\n",
            "[or, globally, 'set emm_options(lmerTest.limit = 417593)' or larger];\n",
            "but be warned that this may result in large computation time and memory use.\n",
            "\n",
            "R[write to console]: NOTE: Results may be misleading due to involvement in interactions\n",
            "\n",
            "R[write to console]: Note: adjust = \"tukey\" was changed to \"sidak\"\n",
            "because \"tukey\" is only appropriate for one set of pairwise comparisons\n",
            "\n"
          ],
          "name": "stderr"
        },
        {
          "output_type": "stream",
          "text": [
            " MonthsInMilk lsmean    SE  df asymp.LCL asymp.UCL .group \n",
            " 1              26.3 0.136 Inf      25.9      26.7  a     \n",
            " 2              27.3 0.136 Inf      26.9      27.7   b    \n",
            " 3              27.9 0.136 Inf      27.6      28.3    c   \n",
            " 4              28.3 0.136 Inf      27.9      28.6     d  \n",
            " 10             28.3 0.137 Inf      28.0      28.7     d  \n",
            " 9              28.7 0.137 Inf      28.3      29.1      e \n",
            " 5              28.8 0.136 Inf      28.4      29.2      ef\n",
            " 8              28.8 0.136 Inf      28.4      29.2      ef\n",
            " 7              29.1 0.136 Inf      28.7      29.4       f\n",
            " 6              29.1 0.136 Inf      28.7      29.5       f\n",
            "\n",
            "Results are averaged over the levels of: Parity, MilkingType, CalvingSeason, Hour \n",
            "Degrees-of-freedom method: asymptotic \n",
            "Confidence level used: 0.95 \n",
            "Conf-level adjustment: sidak method for 10 estimates \n",
            "P value adjustment: tukey method for comparing a family of 10 estimates \n",
            "significance level used: alpha = 0.05 \n"
          ],
          "name": "stdout"
        }
      ]
    },
    {
      "cell_type": "code",
      "metadata": {
        "colab": {
          "base_uri": "https://localhost:8080/"
        },
        "id": "CLoeVu6LGM0U",
        "outputId": "aaa3eb66-30c4-402e-99fa-bdd1c16fb768"
      },
      "source": [
        "%%R\n",
        "multcomp::cld(lsmeans::lsmeans(finalModel, ~ Parity), alpha=0.05, Letters=letters, adjust=\"tukey\")"
      ],
      "execution_count": null,
      "outputs": [
        {
          "output_type": "stream",
          "text": [
            "R[write to console]: Note: D.f. calculations have been disabled because the number of observations exceeds 3000.\n",
            "To enable adjustments, add the argument 'pbkrtest.limit = 417593' (or larger)\n",
            "[or, globally, 'set emm_options(pbkrtest.limit = 417593)' or larger];\n",
            "but be warned that this may result in large computation time and memory use.\n",
            "\n",
            "R[write to console]: Note: D.f. calculations have been disabled because the number of observations exceeds 3000.\n",
            "To enable adjustments, add the argument 'lmerTest.limit = 417593' (or larger)\n",
            "[or, globally, 'set emm_options(lmerTest.limit = 417593)' or larger];\n",
            "but be warned that this may result in large computation time and memory use.\n",
            "\n",
            "R[write to console]: NOTE: Results may be misleading due to involvement in interactions\n",
            "\n",
            "R[write to console]: Note: adjust = \"tukey\" was changed to \"sidak\"\n",
            "because \"tukey\" is only appropriate for one set of pairwise comparisons\n",
            "\n"
          ],
          "name": "stderr"
        },
        {
          "output_type": "stream",
          "text": [
            " Parity lsmean    SE  df asymp.LCL asymp.UCL .group\n",
            " 3+       25.6 0.125 Inf      25.3      25.9  a    \n",
            " 2        29.1 0.126 Inf      28.8      29.4   b   \n",
            " 1        30.1 0.127 Inf      29.7      30.4    c  \n",
            "\n",
            "Results are averaged over the levels of: MonthsInMilk, MilkingType, CalvingSeason, Hour \n",
            "Degrees-of-freedom method: asymptotic \n",
            "Confidence level used: 0.95 \n",
            "Conf-level adjustment: sidak method for 3 estimates \n",
            "P value adjustment: tukey method for comparing a family of 3 estimates \n",
            "significance level used: alpha = 0.05 \n"
          ],
          "name": "stdout"
        }
      ]
    },
    {
      "cell_type": "code",
      "metadata": {
        "colab": {
          "base_uri": "https://localhost:8080/"
        },
        "id": "Jj72Ky6b7-xk",
        "outputId": "17f65179-a686-4f81-d53d-013e5ee8cd24"
      },
      "source": [
        "%%R\n",
        "multcomp::cld(lsmeans::lsmeans(finalModel, ~ Hour), alpha=0.05, Letters=letters, adjust=\"tukey\")"
      ],
      "execution_count": null,
      "outputs": [
        {
          "output_type": "stream",
          "text": [
            "R[write to console]: Note: D.f. calculations have been disabled because the number of observations exceeds 3000.\n",
            "To enable adjustments, add the argument 'pbkrtest.limit = 417593' (or larger)\n",
            "[or, globally, 'set emm_options(pbkrtest.limit = 417593)' or larger];\n",
            "but be warned that this may result in large computation time and memory use.\n",
            "\n",
            "R[write to console]: Note: D.f. calculations have been disabled because the number of observations exceeds 3000.\n",
            "To enable adjustments, add the argument 'lmerTest.limit = 417593' (or larger)\n",
            "[or, globally, 'set emm_options(lmerTest.limit = 417593)' or larger];\n",
            "but be warned that this may result in large computation time and memory use.\n",
            "\n",
            "R[write to console]: NOTE: Results may be misleading due to involvement in interactions\n",
            "\n",
            "R[write to console]: Note: adjust = \"tukey\" was changed to \"sidak\"\n",
            "because \"tukey\" is only appropriate for one set of pairwise comparisons\n",
            "\n"
          ],
          "name": "stderr"
        },
        {
          "output_type": "stream",
          "text": [
            " Hour lsmean    SE  df asymp.LCL asymp.UCL .group      \n",
            " 4      9.93 0.139 Inf      9.54      10.3  a          \n",
            " 2     16.96 0.139 Inf     16.56      17.4   b         \n",
            " 6     17.35 0.139 Inf     16.95      17.7    c        \n",
            " 0     21.14 0.139 Inf     20.74      21.5     d       \n",
            " 22    24.44 0.139 Inf     24.04      24.8      e      \n",
            " 8     32.33 0.139 Inf     31.93      32.7       f     \n",
            " 12    33.80 0.139 Inf     33.40      34.2        g    \n",
            " 16    34.71 0.139 Inf     34.31      35.1         h   \n",
            " 14    34.81 0.139 Inf     34.41      35.2         h   \n",
            " 20    36.53 0.139 Inf     36.14      36.9          i  \n",
            " 18    38.04 0.139 Inf     37.64      38.4           j \n",
            " 10    39.02 0.139 Inf     38.63      39.4            k\n",
            "\n",
            "Results are averaged over the levels of: MonthsInMilk, Parity, MilkingType, CalvingSeason \n",
            "Degrees-of-freedom method: asymptotic \n",
            "Confidence level used: 0.95 \n",
            "Conf-level adjustment: sidak method for 12 estimates \n",
            "P value adjustment: tukey method for comparing a family of 12 estimates \n",
            "significance level used: alpha = 0.05 \n"
          ],
          "name": "stdout"
        }
      ]
    },
    {
      "cell_type": "code",
      "metadata": {
        "colab": {
          "base_uri": "https://localhost:8080/"
        },
        "id": "sJXOWP3wGT0R",
        "outputId": "aa7d80bd-d06d-49d7-c3c1-c1be2c619b5d"
      },
      "source": [
        "%%R\n",
        "multcomp::cld(lsmeans::lsmeans(finalModel, ~ CalvingSeason), alpha=0.05, Letters=letters, adjust=\"tukey\")"
      ],
      "execution_count": null,
      "outputs": [
        {
          "output_type": "stream",
          "text": [
            "R[write to console]: Note: D.f. calculations have been disabled because the number of observations exceeds 3000.\n",
            "To enable adjustments, add the argument 'pbkrtest.limit = 417593' (or larger)\n",
            "[or, globally, 'set emm_options(pbkrtest.limit = 417593)' or larger];\n",
            "but be warned that this may result in large computation time and memory use.\n",
            "\n",
            "R[write to console]: Note: D.f. calculations have been disabled because the number of observations exceeds 3000.\n",
            "To enable adjustments, add the argument 'lmerTest.limit = 417593' (or larger)\n",
            "[or, globally, 'set emm_options(lmerTest.limit = 417593)' or larger];\n",
            "but be warned that this may result in large computation time and memory use.\n",
            "\n",
            "R[write to console]: NOTE: Results may be misleading due to involvement in interactions\n",
            "\n",
            "R[write to console]: Note: adjust = \"tukey\" was changed to \"sidak\"\n",
            "because \"tukey\" is only appropriate for one set of pairwise comparisons\n",
            "\n"
          ],
          "name": "stderr"
        },
        {
          "output_type": "stream",
          "text": [
            " CalvingSeason lsmean    SE  df asymp.LCL asymp.UCL .group\n",
            " Summer          27.8 0.130 Inf      27.5      28.1  a    \n",
            " Autumn          28.1 0.131 Inf      27.8      28.4   b   \n",
            " Spring          28.3 0.133 Inf      28.0      28.6   b   \n",
            " Winter          28.8 0.134 Inf      28.5      29.1    c  \n",
            "\n",
            "Results are averaged over the levels of: MonthsInMilk, Parity, MilkingType, Hour \n",
            "Degrees-of-freedom method: asymptotic \n",
            "Confidence level used: 0.95 \n",
            "Conf-level adjustment: sidak method for 4 estimates \n",
            "P value adjustment: tukey method for comparing a family of 4 estimates \n",
            "significance level used: alpha = 0.05 \n"
          ],
          "name": "stdout"
        }
      ]
    },
    {
      "cell_type": "markdown",
      "metadata": {
        "id": "0pRUFUK_FcS_"
      },
      "source": [
        "## Interactions\n"
      ]
    },
    {
      "cell_type": "markdown",
      "metadata": {
        "id": "rZmz6R39VDv6"
      },
      "source": [
        "### Hour by parity"
      ]
    },
    {
      "cell_type": "code",
      "metadata": {
        "colab": {
          "base_uri": "https://localhost:8080/"
        },
        "id": "POGuZkkBY6At",
        "outputId": "159d1bde-7742-44fd-b145-1732fd74bc9b"
      },
      "source": [
        "%%R\n",
        "LSMs<-lsmeans::lsmeans(finalModel, pairwise ~ Hour|Parity, type = \"response\", glhargs=list())\n",
        "multcomp::cld(LSMs[[1]], alpha=0.05, Letters=letters, adjust=\"tukey\")"
      ],
      "execution_count": null,
      "outputs": [
        {
          "output_type": "stream",
          "text": [
            "R[write to console]: Note: D.f. calculations have been disabled because the number of observations exceeds 3000.\n",
            "To enable adjustments, add the argument 'pbkrtest.limit = 417593' (or larger)\n",
            "[or, globally, 'set emm_options(pbkrtest.limit = 417593)' or larger];\n",
            "but be warned that this may result in large computation time and memory use.\n",
            "\n",
            "R[write to console]: Note: D.f. calculations have been disabled because the number of observations exceeds 3000.\n",
            "To enable adjustments, add the argument 'lmerTest.limit = 417593' (or larger)\n",
            "[or, globally, 'set emm_options(lmerTest.limit = 417593)' or larger];\n",
            "but be warned that this may result in large computation time and memory use.\n",
            "\n",
            "R[write to console]: Note: adjust = \"tukey\" was changed to \"sidak\"\n",
            "because \"tukey\" is only appropriate for one set of pairwise comparisons\n",
            "\n"
          ],
          "name": "stderr"
        },
        {
          "output_type": "stream",
          "text": [
            "Parity = 1:\n",
            " Hour lsmean    SE  df asymp.LCL asymp.UCL .group     \n",
            " 4     10.23 0.176 Inf      9.73     10.73  a         \n",
            " 2     17.40 0.176 Inf     16.90     17.91   b        \n",
            " 6     19.70 0.176 Inf     19.20     20.20    c       \n",
            " 0     22.39 0.176 Inf     21.89     22.89     d      \n",
            " 22    27.47 0.176 Inf     26.97     27.98      e     \n",
            " 8     34.31 0.176 Inf     33.80     34.81       f    \n",
            " 12    35.42 0.176 Inf     34.92     35.92        g   \n",
            " 16    36.51 0.176 Inf     36.00     37.01         h  \n",
            " 14    36.80 0.176 Inf     36.30     37.30         h  \n",
            " 20    39.65 0.176 Inf     39.15     40.15          i \n",
            " 18    39.90 0.176 Inf     39.39     40.40          i \n",
            " 10    40.83 0.176 Inf     40.33     41.33           j\n",
            "\n",
            "Parity = 2:\n",
            " Hour lsmean    SE  df asymp.LCL asymp.UCL .group     \n",
            " 4     10.22 0.176 Inf      9.72     10.73  a         \n",
            " 6     17.60 0.176 Inf     17.09     18.10   b        \n",
            " 2     17.67 0.176 Inf     17.17     18.18   b        \n",
            " 0     21.49 0.176 Inf     20.99     21.99    c       \n",
            " 22    24.46 0.176 Inf     23.96     24.96     d      \n",
            " 8     34.12 0.176 Inf     33.62     34.63      e     \n",
            " 12    34.50 0.176 Inf     34.00     35.00      e     \n",
            " 14    35.82 0.176 Inf     35.31     36.32       f    \n",
            " 16    36.03 0.176 Inf     35.53     36.53       f    \n",
            " 20    37.79 0.176 Inf     37.29     38.30        g   \n",
            " 18    39.68 0.176 Inf     39.17     40.18         h  \n",
            " 10    40.26 0.176 Inf     39.75     40.76         h  \n",
            "\n",
            "Parity = 3+:\n",
            " Hour lsmean    SE  df asymp.LCL asymp.UCL .group     \n",
            " 4      9.34 0.153 Inf      8.90      9.78  a         \n",
            " 6     14.75 0.153 Inf     14.31     15.19   b        \n",
            " 2     15.80 0.153 Inf     15.36     16.24    c       \n",
            " 0     19.54 0.153 Inf     19.10     19.98     d      \n",
            " 22    21.39 0.153 Inf     20.95     21.82      e     \n",
            " 8     28.55 0.153 Inf     28.11     28.99       f    \n",
            " 12    31.48 0.153 Inf     31.04     31.92        g   \n",
            " 16    31.58 0.153 Inf     31.14     32.02        g   \n",
            " 14    31.81 0.153 Inf     31.37     32.25        gh  \n",
            " 20    32.16 0.153 Inf     31.72     32.60         h  \n",
            " 18    34.54 0.153 Inf     34.10     34.97          i \n",
            " 10    35.99 0.153 Inf     35.55     36.43           j\n",
            "\n",
            "Results are averaged over the levels of: MonthsInMilk, MilkingType, CalvingSeason \n",
            "Degrees-of-freedom method: asymptotic \n",
            "Confidence level used: 0.95 \n",
            "Conf-level adjustment: sidak method for 12 estimates \n",
            "P value adjustment: tukey method for comparing a family of 12 estimates \n",
            "significance level used: alpha = 0.05 \n"
          ],
          "name": "stdout"
        }
      ]
    },
    {
      "cell_type": "code",
      "metadata": {
        "colab": {
          "base_uri": "https://localhost:8080/",
          "height": 497
        },
        "id": "iPXT7xlJMDJ1",
        "outputId": "f17dd286-2798-4109-cd47-c6c9a9cfcaf4"
      },
      "source": [
        "%%R\n",
        "dfPValues <- summary(LSMs)[[2]]\n",
        "dfLMSs <- summary(LSMs)[[1]]\n",
        "dfLMSs %>% \n",
        "  mutate(label = if_else(Hour == max(as.numeric(Hour)), as.character(Parity), NA_character_)) %>%\n",
        "  ggplot(\n",
        "  aes(\n",
        "    x=Hour,\n",
        "    y=lsmean,\n",
        "    group=Parity, \n",
        "    color=Parity)\n",
        "    ) +\n",
        "  geom_line() +  \n",
        "  geom_errorbar(\n",
        "    aes(ymin=asymp.LCL, \n",
        "        ymax=asymp.UCL), \n",
        "    width=.2,\n",
        "    position=position_dodge(0.05)) +\n",
        "  labs(\n",
        "    title = \"Eating time (min/2hours)\", \n",
        "    y=\"Minutes per two hours\" , \n",
        "    x = \"Hour\") +\n",
        "  theme_bw() +\n",
        "  theme(plot.title = element_text(hjust = 0.5),\n",
        "        panel.border = element_blank(), \n",
        "        panel.grid.major = element_blank(),\n",
        "        panel.grid.minor = element_blank(), \n",
        "        axis.line = element_line(colour = \"black\"))"
      ],
      "execution_count": null,
      "outputs": [
        {
          "output_type": "display_data",
          "data": {
            "image/png": "[encoded data removed]"
          },
          "metadata": {
            "tags": []
          }
        }
      ]
    },
    {
      "cell_type": "markdown",
      "metadata": {
        "id": "V8eftZ1iW0lP"
      },
      "source": [
        "### Hour by milking type"
      ]
    },
    {
      "cell_type": "code",
      "metadata": {
        "colab": {
          "base_uri": "https://localhost:8080/"
        },
        "id": "AwNG-2FMY2C6",
        "outputId": "93a3d3c6-cf91-42aa-d8e5-fcafa7066c8f"
      },
      "source": [
        "%%R\n",
        "LSMs<-lsmeans::lsmeans(finalModel, pairwise ~ Hour|MilkingType, type = \"response\", glhargs=list())\n",
        "multcomp::cld(LSMs[[1]], alpha=0.05, Letters=letters, adjust=\"tukey\")"
      ],
      "execution_count": null,
      "outputs": [
        {
          "output_type": "stream",
          "text": [
            "R[write to console]: Note: D.f. calculations have been disabled because the number of observations exceeds 3000.\n",
            "To enable adjustments, add the argument 'pbkrtest.limit = 417593' (or larger)\n",
            "[or, globally, 'set emm_options(pbkrtest.limit = 417593)' or larger];\n",
            "but be warned that this may result in large computation time and memory use.\n",
            "\n",
            "R[write to console]: Note: D.f. calculations have been disabled because the number of observations exceeds 3000.\n",
            "To enable adjustments, add the argument 'lmerTest.limit = 417593' (or larger)\n",
            "[or, globally, 'set emm_options(lmerTest.limit = 417593)' or larger];\n",
            "but be warned that this may result in large computation time and memory use.\n",
            "\n",
            "R[write to console]: Note: adjust = \"tukey\" was changed to \"sidak\"\n",
            "because \"tukey\" is only appropriate for one set of pairwise comparisons\n",
            "\n"
          ],
          "name": "stderr"
        },
        {
          "output_type": "stream",
          "text": [
            "MilkingType = AMS:\n",
            " Hour lsmean    SE  df asymp.LCL asymp.UCL .group    \n",
            " 4     10.15 0.225 Inf      9.51      10.8  a        \n",
            " 6     17.14 0.225 Inf     16.50      17.8   b       \n",
            " 2     17.56 0.225 Inf     16.92      18.2   b       \n",
            " 0     20.07 0.225 Inf     19.42      20.7    c      \n",
            " 22    23.41 0.225 Inf     22.76      24.1     d     \n",
            " 12    28.78 0.225 Inf     28.14      29.4      e    \n",
            " 8     30.01 0.225 Inf     29.36      30.7       f   \n",
            " 14    30.77 0.225 Inf     30.13      31.4        g  \n",
            " 16    34.43 0.225 Inf     33.79      35.1         h \n",
            " 18    37.77 0.225 Inf     37.12      38.4          i\n",
            " 10    38.15 0.225 Inf     37.50      38.8          i\n",
            " 20    38.22 0.225 Inf     37.58      38.9          i\n",
            "\n",
            "MilkingType = CMS:\n",
            " Hour lsmean    SE  df asymp.LCL asymp.UCL .group    \n",
            " 4      9.71 0.160 Inf      9.25      10.2  a        \n",
            " 2     16.36 0.160 Inf     15.90      16.8   b       \n",
            " 6     17.56 0.160 Inf     17.10      18.0    c      \n",
            " 0     22.21 0.160 Inf     21.75      22.7     d     \n",
            " 22    25.47 0.160 Inf     25.02      25.9      e    \n",
            " 8     34.65 0.160 Inf     34.19      35.1       f   \n",
            " 20    34.84 0.160 Inf     34.39      35.3       f   \n",
            " 16    34.98 0.160 Inf     34.52      35.4       f   \n",
            " 18    38.30 0.160 Inf     37.85      38.8        g  \n",
            " 12    38.82 0.160 Inf     38.36      39.3         h \n",
            " 14    38.85 0.160 Inf     38.39      39.3         h \n",
            " 10    39.90 0.160 Inf     39.45      40.4          i\n",
            "\n",
            "Results are averaged over the levels of: MonthsInMilk, Parity, CalvingSeason \n",
            "Degrees-of-freedom method: asymptotic \n",
            "Confidence level used: 0.95 \n",
            "Conf-level adjustment: sidak method for 12 estimates \n",
            "P value adjustment: tukey method for comparing a family of 12 estimates \n",
            "significance level used: alpha = 0.05 \n"
          ],
          "name": "stdout"
        }
      ]
    },
    {
      "cell_type": "code",
      "metadata": {
        "colab": {
          "base_uri": "https://localhost:8080/",
          "height": 497
        },
        "id": "EBoo9qpHW0lR",
        "outputId": "ffc25363-c396-4a4b-81a6-81471b3220ea"
      },
      "source": [
        "%%R\n",
        "dfPValues <- summary(LSMs)[[2]]\n",
        "dfLMSs <- summary(LSMs)[[1]]\n",
        "dfLMSs %>% \n",
        "  mutate(label = if_else(Hour == max(as.numeric(Hour)), as.character(MilkingType), NA_character_)) %>%\n",
        "  ggplot(\n",
        "  aes(\n",
        "    x=Hour,\n",
        "    y=lsmean,\n",
        "    group=MilkingType, \n",
        "    color=MilkingType)\n",
        "    ) +\n",
        "  geom_line() +  \n",
        "  geom_errorbar(\n",
        "    aes(ymin=asymp.LCL, \n",
        "        ymax=asymp.UCL), \n",
        "    width=.2,\n",
        "    position=position_dodge(0.05)) +\n",
        "  labs(\n",
        "    title = \"Eating time (min/2hours)\", \n",
        "    y=\"Minutes per two hours\" , \n",
        "    x = \"Hour\") +\n",
        "  theme_bw() +\n",
        "  theme(plot.title = element_text(hjust = 0.5),\n",
        "        panel.border = element_blank(), \n",
        "        panel.grid.major = element_blank(),\n",
        "        panel.grid.minor = element_blank(), \n",
        "        axis.line = element_line(colour = \"black\"))"
      ],
      "execution_count": null,
      "outputs": [
        {
          "output_type": "display_data",
          "data": {
            "image/png": "[encoded data removed]"
          },
          "metadata": {
            "tags": []
          }
        }
      ]
    },
    {
      "cell_type": "markdown",
      "metadata": {
        "id": "51MShZ_SW1k8"
      },
      "source": [
        "### Hour by calving season"
      ]
    },
    {
      "cell_type": "code",
      "metadata": {
        "colab": {
          "base_uri": "https://localhost:8080/"
        },
        "id": "NI2BtH8oZB2_",
        "outputId": "8c175974-686a-4200-beab-bebc8b3402a8"
      },
      "source": [
        "%%R\n",
        "LSMs<-lsmeans::lsmeans(finalModel, pairwise ~ Hour|CalvingSeason, type = \"response\", glhargs=list())\n",
        "multcomp::cld(LSMs[[1]], alpha=0.05, Letters=letters, adjust=\"tukey\")"
      ],
      "execution_count": null,
      "outputs": [
        {
          "output_type": "stream",
          "text": [
            "R[write to console]: Note: D.f. calculations have been disabled because the number of observations exceeds 3000.\n",
            "To enable adjustments, add the argument 'pbkrtest.limit = 417593' (or larger)\n",
            "[or, globally, 'set emm_options(pbkrtest.limit = 417593)' or larger];\n",
            "but be warned that this may result in large computation time and memory use.\n",
            "\n",
            "R[write to console]: Note: D.f. calculations have been disabled because the number of observations exceeds 3000.\n",
            "To enable adjustments, add the argument 'lmerTest.limit = 417593' (or larger)\n",
            "[or, globally, 'set emm_options(lmerTest.limit = 417593)' or larger];\n",
            "but be warned that this may result in large computation time and memory use.\n",
            "\n",
            "R[write to console]: Note: adjust = \"tukey\" was changed to \"sidak\"\n",
            "because \"tukey\" is only appropriate for one set of pairwise comparisons\n",
            "\n"
          ],
          "name": "stderr"
        },
        {
          "output_type": "stream",
          "text": [
            "CalvingSeason = Autumn:\n",
            " Hour lsmean    SE  df asymp.LCL asymp.UCL .group      \n",
            " 4     10.24 0.178 Inf      9.73     10.75  a          \n",
            " 6     16.30 0.178 Inf     15.79     16.81   b         \n",
            " 2     17.08 0.178 Inf     16.57     17.59    c        \n",
            " 0     21.16 0.178 Inf     20.65     21.66     d       \n",
            " 22    24.96 0.178 Inf     24.45     25.47      e      \n",
            " 8     31.64 0.178 Inf     31.13     32.14       f     \n",
            " 12    34.03 0.178 Inf     33.52     34.54        g    \n",
            " 16    34.12 0.178 Inf     33.62     34.63        gh   \n",
            " 14    34.62 0.178 Inf     34.12     35.13         h   \n",
            " 20    36.62 0.178 Inf     36.12     37.13          i  \n",
            " 18    37.22 0.178 Inf     36.71     37.73           j \n",
            " 10    39.38 0.178 Inf     38.88     39.89            k\n",
            "\n",
            "CalvingSeason = Spring:\n",
            " Hour lsmean    SE  df asymp.LCL asymp.UCL .group      \n",
            " 4      9.62 0.186 Inf      9.09     10.15  a          \n",
            " 2     16.86 0.186 Inf     16.33     17.39   b         \n",
            " 6     18.17 0.186 Inf     17.64     18.71    c        \n",
            " 0     21.18 0.186 Inf     20.64     21.71     d       \n",
            " 22    24.06 0.186 Inf     23.52     24.59      e      \n",
            " 8     33.33 0.186 Inf     32.80     33.87       f     \n",
            " 12    33.47 0.186 Inf     32.94     34.00       f     \n",
            " 14    35.04 0.186 Inf     34.51     35.57        g    \n",
            " 16    35.23 0.186 Inf     34.70     35.76        g    \n",
            " 20    36.35 0.186 Inf     35.82     36.88         h   \n",
            " 18    37.88 0.186 Inf     37.35     38.41          i  \n",
            " 10    38.55 0.186 Inf     38.02     39.08           j \n",
            "\n",
            "CalvingSeason = Summer:\n",
            " Hour lsmean    SE  df asymp.LCL asymp.UCL .group      \n",
            " 4      9.46 0.174 Inf      8.96      9.95  a          \n",
            " 2     16.61 0.174 Inf     16.12     17.11   b         \n",
            " 6     17.44 0.174 Inf     16.94     17.93    c        \n",
            " 0     20.72 0.174 Inf     20.23     21.22     d       \n",
            " 22    23.73 0.174 Inf     23.23     24.23      e      \n",
            " 8     31.44 0.174 Inf     30.95     31.94       f     \n",
            " 12    33.22 0.174 Inf     32.72     33.71        g    \n",
            " 14    34.00 0.174 Inf     33.50     34.50         h   \n",
            " 16    34.65 0.174 Inf     34.15     35.15          i  \n",
            " 20    34.79 0.174 Inf     34.29     35.29          i  \n",
            " 10    38.53 0.174 Inf     38.04     39.03           j \n",
            " 18    39.05 0.174 Inf     38.55     39.54           j \n",
            "\n",
            "CalvingSeason = Winter:\n",
            " Hour lsmean    SE  df asymp.LCL asymp.UCL .group      \n",
            " 4     10.41 0.188 Inf      9.87     10.95  a          \n",
            " 2     17.29 0.188 Inf     16.75     17.83   b         \n",
            " 6     17.48 0.188 Inf     16.94     18.02   b         \n",
            " 0     21.50 0.188 Inf     20.96     22.03    c        \n",
            " 22    25.01 0.188 Inf     24.47     25.55     d       \n",
            " 8     32.89 0.188 Inf     32.36     33.43      e      \n",
            " 12    34.49 0.188 Inf     33.95     35.03       f     \n",
            " 16    34.82 0.188 Inf     34.28     35.36       f     \n",
            " 14    35.57 0.188 Inf     35.04     36.11        g    \n",
            " 18    38.00 0.188 Inf     37.46     38.53         h   \n",
            " 20    38.37 0.188 Inf     37.83     38.91         h   \n",
            " 10    39.63 0.188 Inf     39.09     40.17          i  \n",
            "\n",
            "Results are averaged over the levels of: MonthsInMilk, Parity, MilkingType \n",
            "Degrees-of-freedom method: asymptotic \n",
            "Confidence level used: 0.95 \n",
            "Conf-level adjustment: sidak method for 12 estimates \n",
            "P value adjustment: tukey method for comparing a family of 12 estimates \n",
            "significance level used: alpha = 0.05 \n"
          ],
          "name": "stdout"
        }
      ]
    },
    {
      "cell_type": "code",
      "metadata": {
        "colab": {
          "base_uri": "https://localhost:8080/",
          "height": 497
        },
        "id": "-800Y-3MW1k9",
        "outputId": "f018a6aa-6c0f-449b-ab07-62d5249d521c"
      },
      "source": [
        "%%R\n",
        "dfPValues <- summary(LSMs)[[2]]\n",
        "dfLMSs <- summary(LSMs)[[1]]\n",
        "dfLMSs %>% \n",
        "  mutate(label = if_else(Hour == max(as.numeric(Hour)), as.character(CalvingSeason), NA_character_)) %>%\n",
        "  ggplot(\n",
        "  aes(\n",
        "    x=Hour,\n",
        "    y=lsmean,\n",
        "    group=CalvingSeason, \n",
        "    color=CalvingSeason)\n",
        "    ) +\n",
        "  geom_line() +  \n",
        "  geom_errorbar(\n",
        "    aes(ymin=asymp.LCL, \n",
        "        ymax=asymp.UCL), \n",
        "    width=.2,\n",
        "    position=position_dodge(0.05)) +\n",
        "  labs(\n",
        "    title = \"Eating time (min/2hours)\", \n",
        "    y=\"Minutes per two hours\" , \n",
        "    x = \"Hour\") +\n",
        "  theme_bw() +\n",
        "  theme(plot.title = element_text(hjust = 0.5),\n",
        "        panel.border = element_blank(), \n",
        "        panel.grid.major = element_blank(),\n",
        "        panel.grid.minor = element_blank(), \n",
        "        axis.line = element_line(colour = \"black\"))"
      ],
      "execution_count": null,
      "outputs": [
        {
          "output_type": "display_data",
          "data": {
            "image/png": "[encoded data removed]"
          },
          "metadata": {
            "tags": []
          }
        }
      ]
    }
  ]
}