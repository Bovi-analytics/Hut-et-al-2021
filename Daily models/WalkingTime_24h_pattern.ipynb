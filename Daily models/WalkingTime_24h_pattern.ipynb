{
  "nbformat": 4,
  "nbformat_minor": 0,
  "metadata": {
    "colab": {
      "name": "WalkingTime 24h pattern",
      "provenance": [],
      "collapsed_sections": [],
      "toc_visible": true,
      "include_colab_link": true
    },
    "kernelspec": {
      "name": "python3",
      "display_name": "Python 3"
    }
  },
  "cells": [
    {
      "cell_type": "markdown",
      "metadata": {
        "id": "view-in-github",
        "colab_type": "text"
      },
      "source": [
        "<a href=\"https://colab.research.google.com/github/Bovi-analytics/hut-et-al-2021/blob/master/WalkingTime_24h_pattern.ipynb\" target=\"_parent\"><img src=\"https://colab.research.google.com/assets/colab-badge.svg\" alt=\"Open In Colab\"/></a>"
      ]
    },
    {
      "cell_type": "markdown",
      "metadata": {
        "id": "ubqsncfu5RSo"
      },
      "source": [
        "# Statistical notebook for walking time"
      ]
    },
    {
      "cell_type": "markdown",
      "metadata": {
        "id": "5QjCXFXR5U_2"
      },
      "source": [
        "## Importing of google drive"
      ]
    },
    {
      "cell_type": "code",
      "metadata": {
        "colab": {
          "base_uri": "https://localhost:8080/"
        },
        "id": "WCUSUtqb21vg",
        "outputId": "9054c0c1-13c7-4c31-d64b-d4e92f1953fe"
      },
      "source": [
        "from google.colab import drive\n",
        "drive.mount('/content/drive')"
      ],
      "execution_count": null,
      "outputs": [
        {
          "output_type": "stream",
          "text": [
            "Mounted at /content/drive\n"
          ],
          "name": "stdout"
        }
      ]
    },
    {
      "cell_type": "markdown",
      "metadata": {
        "id": "LLJOZUFA5aBb"
      },
      "source": [
        "## R loading"
      ]
    },
    {
      "cell_type": "code",
      "metadata": {
        "id": "TxkiqsiB23Kg"
      },
      "source": [
        "%reload_ext rpy2.ipython"
      ],
      "execution_count": null,
      "outputs": []
    },
    {
      "cell_type": "code",
      "metadata": {
        "id": "rfisyXOziz6v"
      },
      "source": [
        "%%R\n",
        "lib_loc <- \"/content/drive/Shareddrives/Bovi-Analytics/R-lib/\""
      ],
      "execution_count": null,
      "outputs": []
    },
    {
      "cell_type": "code",
      "metadata": {
        "colab": {
          "base_uri": "https://localhost:8080/"
        },
        "id": "-plCxzvYil9e",
        "outputId": "2965a98b-f8e0-4e6d-ee4c-5dea5f057744"
      },
      "source": [
        "%%R\n",
        "package_list <- c(\"ggplot2\",\n",
        "                  \"readr\",\n",
        "                  \"plyr\",\n",
        "                  \"dplyr\",\n",
        "                  \"tidyr\",                \n",
        "                  \"lme4\",\n",
        "                  \"lmerTest\",\n",
        "                  \"multcompView\",\n",
        "                  \"mvtnorm\",\n",
        "                  \"TH.data\",\n",
        "                  \"multcomp\",\n",
        "                  \"emmeans\",\n",
        "                  \"lsmeans\",\n",
        "                  \"carData\",\n",
        "                  \"car\"\n",
        "                  )\n",
        "\n",
        "for (pkg in package_list) {\n",
        "  if (pkg %in% rownames(.packages()) == FALSE)\n",
        "  {library(pkg, lib.loc = lib_loc, character.only = TRUE)}\n",
        "\n",
        "}"
      ],
      "execution_count": null,
      "outputs": [
        {
          "output_type": "stream",
          "text": [
            "R[write to console]: \n",
            "Attaching package: ‘dplyr’\n",
            "\n",
            "\n",
            "R[write to console]: The following objects are masked from ‘package:plyr’:\n",
            "\n",
            "    arrange, count, desc, failwith, id, mutate, rename, summarise,\n",
            "    summarize\n",
            "\n",
            "\n",
            "R[write to console]: The following objects are masked from ‘package:stats’:\n",
            "\n",
            "    filter, lag\n",
            "\n",
            "\n",
            "R[write to console]: The following objects are masked from ‘package:base’:\n",
            "\n",
            "    intersect, setdiff, setequal, union\n",
            "\n",
            "\n",
            "R[write to console]: Loading required package: Matrix\n",
            "\n",
            "R[write to console]: \n",
            "Attaching package: ‘Matrix’\n",
            "\n",
            "\n",
            "R[write to console]: The following objects are masked from ‘package:tidyr’:\n",
            "\n",
            "    expand, pack, unpack\n",
            "\n",
            "\n",
            "R[write to console]: \n",
            "Attaching package: ‘lmerTest’\n",
            "\n",
            "\n",
            "R[write to console]: The following object is masked from ‘package:lme4’:\n",
            "\n",
            "    lmer\n",
            "\n",
            "\n",
            "R[write to console]: The following object is masked from ‘package:stats’:\n",
            "\n",
            "    step\n",
            "\n",
            "\n",
            "R[write to console]: Loading required package: survival\n",
            "\n",
            "R[write to console]: Loading required package: MASS\n",
            "\n",
            "R[write to console]: \n",
            "Attaching package: ‘MASS’\n",
            "\n",
            "\n",
            "R[write to console]: The following object is masked from ‘package:dplyr’:\n",
            "\n",
            "    select\n",
            "\n",
            "\n",
            "R[write to console]: \n",
            "Attaching package: ‘TH.data’\n",
            "\n",
            "\n",
            "R[write to console]: The following object is masked from ‘package:MASS’:\n",
            "\n",
            "    geyser\n",
            "\n",
            "\n",
            "R[write to console]: The 'lsmeans' package is now basically a front end for 'emmeans'.\n",
            "Users are encouraged to switch the rest of the way.\n",
            "See help('transition') for more information, including how to\n",
            "convert old 'lsmeans' objects and scripts to work with 'emmeans'.\n",
            "\n",
            "R[write to console]: Registered S3 methods overwritten by 'car':\n",
            "  method                          from\n",
            "  influence.merMod                lme4\n",
            "  cooks.distance.influence.merMod lme4\n",
            "  dfbeta.influence.merMod         lme4\n",
            "  dfbetas.influence.merMod        lme4\n",
            "\n",
            "R[write to console]: \n",
            "Attaching package: ‘car’\n",
            "\n",
            "\n",
            "R[write to console]: The following object is masked from ‘package:dplyr’:\n",
            "\n",
            "    recode\n",
            "\n",
            "\n"
          ],
          "name": "stderr"
        }
      ]
    },
    {
      "cell_type": "code",
      "metadata": {
        "id": "PRsoYRLh5xYM"
      },
      "source": [
        "%%R\n",
        "options(warn=-1)"
      ],
      "execution_count": null,
      "outputs": []
    },
    {
      "cell_type": "markdown",
      "metadata": {
        "id": "xcY0cNEG5ynD"
      },
      "source": [
        "## Data loading into dataframe"
      ]
    },
    {
      "cell_type": "code",
      "metadata": {
        "id": "EdsoTgv63LDl",
        "colab": {
          "base_uri": "https://localhost:8080/"
        },
        "outputId": "8dfce062-3863-4bf4-d1da-c22356fdfa86"
      },
      "source": [
        "%%R\n",
        "AnalysisData <- \n",
        "  readr::read_csv(\"/content/drive/Shareddrives/Bovi-Analytics/Projects/SenseOfSensors/CsvData/SensorAggRepartitioned08032021/ObservationType=WalkingTimeMinutesPer2Hours/part-00000-tid-5876581890551720600-0e9afc0a-339b-4a8d-9159-2f92fdf60451-17582-38.c000.csv\", \n",
        "    col_types = readr::cols(HerdIdentifier = readr::col_character(), \n",
        "        TransitionLactationNumber = readr::col_integer(), \n",
        "        TransitionParity = readr::col_character(), \n",
        "        TransitionMonthsInMilk = readr::col_integer(), \n",
        "        TransitionCalvingDate = readr::col_character(), \n",
        "        Hour = readr::col_integer(), \n",
        "        Observations = readr::col_integer())) %>% \n",
        "  dplyr::filter(dplyr::between(TransitionMonthsInMilk, 1, 10)) %>%\n",
        "   dplyr::mutate(\n",
        "    AnimalIdentifier = factor(AnimalIdentifier),\n",
        "    HerdIdentifier = factor(HerdIdentifier),\n",
        "    Parity = factor(TransitionParity),\n",
        "    MonthsInMilk = factor(TransitionMonthsInMilk),\n",
        "    CalvingSeason = factor(TransitionSeason),\n",
        "    Hour = factor(Hour),\n",
        "    SensorValue = ObservationValue,\n",
        "    MilkingType = factor(case_when(\n",
        "    HerdIdentifier %in% c(\"544\", \"2514\", \"3314\")~\"AMS\",\n",
        "    TRUE~\"CMS\"\n",
        "  ))\n",
        "  ) %>%\n",
        "  dplyr::select(AnimalIdentifier, HerdIdentifier, Parity, MonthsInMilk, CalvingSeason, Hour, SensorValue, MilkingType) %>%\n",
        "  tidyr::drop_na()"
      ],
      "execution_count": null,
      "outputs": [
        {
          "output_type": "stream",
          "text": [
            "|===================================================================| 100% 59 MB\n"
          ],
          "name": "stdout"
        }
      ]
    },
    {
      "cell_type": "code",
      "metadata": {
        "colab": {
          "base_uri": "https://localhost:8080/"
        },
        "id": "qs6GZYE26Cuq",
        "outputId": "2b16c5c1-3bf8-4e03-9cc7-6261ec1e2285"
      },
      "source": [
        "%%R\n",
        "head(AnalysisData)"
      ],
      "execution_count": null,
      "outputs": [
        {
          "output_type": "stream",
          "text": [
            "# A tibble: 6 x 8\n",
            "  AnimalIdentifier HerdIdentifier Parity MonthsInMilk CalvingSeason Hour \n",
            "  <fct>            <fct>          <fct>  <fct>        <fct>         <fct>\n",
            "1 123              2746           1      6            Autumn        8    \n",
            "2 8306             2011           3+     4            Autumn        2    \n",
            "3 145              2746           2      1            Winter        14   \n",
            "4 7971             2011           3+     7            Autumn        22   \n",
            "5 142              2746           1      2            Winter        6    \n",
            "6 7972             2011           3+     6            Spring        12   \n",
            "# … with 2 more variables: SensorValue <dbl>, MilkingType <fct>\n"
          ],
          "name": "stdout"
        }
      ]
    },
    {
      "cell_type": "code",
      "metadata": {
        "colab": {
          "base_uri": "https://localhost:8080/"
        },
        "id": "TUThDwvw6GPs",
        "outputId": "aec2408e-ee9b-4bd9-f5f7-d8385a8d4517"
      },
      "source": [
        "%%R\n",
        "str(AnalysisData)"
      ],
      "execution_count": null,
      "outputs": [
        {
          "output_type": "stream",
          "text": [
            "tibble[,8] [463,405 × 8] (S3: tbl_df/tbl/data.frame)\n",
            " $ AnimalIdentifier: Factor w/ 1049 levels \"1\",\"2\",\"3\",\"4\",..: 123 735 145 684 142 685 143 722 45 743 ...\n",
            " $ HerdIdentifier  : Factor w/ 8 levels \"2011\",\"2297\",..: 4 1 4 1 4 1 4 1 4 1 ...\n",
            " $ Parity          : Factor w/ 3 levels \"1\",\"2\",\"3+\": 1 3 2 3 1 3 1 3 1 3 ...\n",
            " $ MonthsInMilk    : Factor w/ 10 levels \"1\",\"2\",\"3\",\"4\",..: 6 4 1 7 2 6 10 4 8 9 ...\n",
            " $ CalvingSeason   : Factor w/ 4 levels \"Autumn\",\"Spring\",..: 1 1 4 1 4 2 4 2 4 4 ...\n",
            " $ Hour            : Factor w/ 12 levels \"0\",\"2\",\"4\",\"6\",..: 5 2 8 12 4 7 4 8 2 2 ...\n",
            " $ SensorValue     : num [1:463405] 1 0.567 4.464 3.1 2.4 ...\n",
            " $ MilkingType     : Factor w/ 2 levels \"AMS\",\"CMS\": 2 2 2 2 2 2 2 2 2 2 ...\n"
          ],
          "name": "stdout"
        }
      ]
    },
    {
      "cell_type": "markdown",
      "metadata": {
        "id": "o7Ui8l-V6H41"
      },
      "source": [
        "## Descriptive statistics"
      ]
    },
    {
      "cell_type": "code",
      "metadata": {
        "colab": {
          "base_uri": "https://localhost:8080/"
        },
        "id": "BAw6EZHp6Ld8",
        "outputId": "185974ff-a21e-41a3-f3c8-81f054416a98"
      },
      "source": [
        "%%R\n",
        "AnalysisData %>% group_by(\"Parity\") %>% n_distinct()"
      ],
      "execution_count": null,
      "outputs": [
        {
          "output_type": "stream",
          "text": [
            "[1] 462371\n"
          ],
          "name": "stdout"
        }
      ]
    },
    {
      "cell_type": "code",
      "metadata": {
        "colab": {
          "base_uri": "https://localhost:8080/"
        },
        "id": "XykS1w8n6Oye",
        "outputId": "3a17095f-c90b-43f2-ecaf-35a50e9d8a42"
      },
      "source": [
        "%%R\n",
        "AnalysisData %>%\n",
        "  group_by(Parity) %>%\n",
        "  summarise(Unique_Elements = n_distinct(AnimalIdentifier))"
      ],
      "execution_count": null,
      "outputs": [
        {
          "output_type": "stream",
          "text": [
            "# A tibble: 3 x 2\n",
            "  Parity Unique_Elements\n",
            "  <fct>            <int>\n",
            "1 1                  731\n",
            "2 2                  710\n",
            "3 3+                 733\n"
          ],
          "name": "stdout"
        }
      ]
    },
    {
      "cell_type": "code",
      "metadata": {
        "colab": {
          "base_uri": "https://localhost:8080/"
        },
        "id": "mCuGSdIq6RUn",
        "outputId": "62537106-d8a9-44e3-c931-5e23089e5dcb"
      },
      "source": [
        "%%R\n",
        "AnalysisData %>%\n",
        "  summarise(Unique_Elements = n_distinct(AnimalIdentifier))"
      ],
      "execution_count": null,
      "outputs": [
        {
          "output_type": "stream",
          "text": [
            "# A tibble: 1 x 1\n",
            "  Unique_Elements\n",
            "            <int>\n",
            "1            1049\n"
          ],
          "name": "stdout"
        }
      ]
    },
    {
      "cell_type": "markdown",
      "metadata": {
        "id": "wr4RBzZj6TTk"
      },
      "source": [
        "# Model building"
      ]
    },
    {
      "cell_type": "markdown",
      "metadata": {
        "id": "yaRghNX36VsB"
      },
      "source": [
        "first we determine the null model"
      ]
    },
    {
      "cell_type": "markdown",
      "metadata": {
        "id": "NHVDIGHo6YGS"
      },
      "source": [
        "## Null model"
      ]
    },
    {
      "cell_type": "code",
      "metadata": {
        "id": "Gfmi9MBi6aWL"
      },
      "source": [
        "%%R\n",
        "Model.0 <- lme4::lmer(\n",
        "                  SensorValue ~ 1 + (1| HerdIdentifier:AnimalIdentifier), \n",
        "                  data = AnalysisData\n",
        "                  )\n"
      ],
      "execution_count": null,
      "outputs": []
    },
    {
      "cell_type": "markdown",
      "metadata": {
        "id": "7LzLeJMb6dj7"
      },
      "source": [
        "## Univariable models"
      ]
    },
    {
      "cell_type": "code",
      "metadata": {
        "colab": {
          "base_uri": "https://localhost:8080/"
        },
        "id": "P4XUmmDb6gNx",
        "outputId": "6cbfcd25-adc8-4d94-84a6-b7e73f601f2c"
      },
      "source": [
        "%%R\n",
        "Model1.0 <- lme4::lmer(\n",
        "                  SensorValue ~ \n",
        "                  MonthsInMilk + \n",
        "                  (1| HerdIdentifier:AnimalIdentifier),\n",
        "                  REML = FALSE,\n",
        "                  data = AnalysisData\n",
        ")\n",
        "anova(Model.0,Model1.0,test=\"Chisq\")"
      ],
      "execution_count": null,
      "outputs": [
        {
          "output_type": "stream",
          "text": [
            "R[write to console]: refitting model(s) with ML (instead of REML)\n",
            "\n"
          ],
          "name": "stderr"
        },
        {
          "output_type": "stream",
          "text": [
            "Data: AnalysisData\n",
            "Models:\n",
            "Model.0: SensorValue ~ 1 + (1 | HerdIdentifier:AnimalIdentifier)\n",
            "Model1.0: SensorValue ~ MonthsInMilk + (1 | HerdIdentifier:AnimalIdentifier)\n",
            "         npar     AIC     BIC   logLik deviance  Chisq Df Pr(>Chisq)    \n",
            "Model.0     3 2262609 2262642 -1131301  2262603                         \n",
            "Model1.0   12 2260066 2260199 -1130021  2260042 2560.4  9  < 2.2e-16 ***\n",
            "---\n",
            "Signif. codes:  0 ‘***’ 0.001 ‘**’ 0.01 ‘*’ 0.05 ‘.’ 0.1 ‘ ’ 1\n"
          ],
          "name": "stdout"
        }
      ]
    },
    {
      "cell_type": "code",
      "metadata": {
        "colab": {
          "base_uri": "https://localhost:8080/"
        },
        "id": "HkgpZjNj6kMm",
        "outputId": "ef4d4c80-1b8e-4b8c-af10-5d4793cff362"
      },
      "source": [
        "%%R\n",
        "Model1.1 <- lme4::lmer(\n",
        "                  SensorValue ~ \n",
        "                  Parity + \n",
        "                  (1| HerdIdentifier:AnimalIdentifier),\n",
        "                  REML = FALSE,\n",
        "                  data = AnalysisData\n",
        "                  )\n",
        "anova(Model.0,Model1.1,test=\"Chisq\")"
      ],
      "execution_count": null,
      "outputs": [
        {
          "output_type": "stream",
          "text": [
            "R[write to console]: refitting model(s) with ML (instead of REML)\n",
            "\n"
          ],
          "name": "stderr"
        },
        {
          "output_type": "stream",
          "text": [
            "Data: AnalysisData\n",
            "Models:\n",
            "Model.0: SensorValue ~ 1 + (1 | HerdIdentifier:AnimalIdentifier)\n",
            "Model1.1: SensorValue ~ Parity + (1 | HerdIdentifier:AnimalIdentifier)\n",
            "         npar     AIC     BIC   logLik deviance  Chisq Df Pr(>Chisq)    \n",
            "Model.0     3 2262609 2262642 -1131301  2262603                         \n",
            "Model1.1    5 2258382 2258437 -1129186  2258372 4231.1  2  < 2.2e-16 ***\n",
            "---\n",
            "Signif. codes:  0 ‘***’ 0.001 ‘**’ 0.01 ‘*’ 0.05 ‘.’ 0.1 ‘ ’ 1\n"
          ],
          "name": "stdout"
        }
      ]
    },
    {
      "cell_type": "code",
      "metadata": {
        "colab": {
          "base_uri": "https://localhost:8080/"
        },
        "id": "aSLP7OTW6m3x",
        "outputId": "2d998a04-b63a-4d12-8093-812796db8e4d"
      },
      "source": [
        "%%R\n",
        "Model1.2 <- lme4::lmer(\n",
        "                  SensorValue ~ \n",
        "                  HerdIdentifier + \n",
        "                  (1| HerdIdentifier:AnimalIdentifier),\n",
        "                  REML = FALSE,\n",
        "                  data = AnalysisData\n",
        "                  )\n",
        "anova(Model.0,Model1.2,test=\"Chisq\")"
      ],
      "execution_count": null,
      "outputs": [
        {
          "output_type": "stream",
          "text": [
            "R[write to console]: refitting model(s) with ML (instead of REML)\n",
            "\n"
          ],
          "name": "stderr"
        },
        {
          "output_type": "stream",
          "text": [
            "Data: AnalysisData\n",
            "Models:\n",
            "Model.0: SensorValue ~ 1 + (1 | HerdIdentifier:AnimalIdentifier)\n",
            "Model1.2: SensorValue ~ HerdIdentifier + (1 | HerdIdentifier:AnimalIdentifier)\n",
            "         npar     AIC     BIC   logLik deviance  Chisq Df Pr(>Chisq)    \n",
            "Model.0     3 2262609 2262642 -1131301  2262603                         \n",
            "Model1.2   10 2261659 2261770 -1130820  2261639 963.27  7  < 2.2e-16 ***\n",
            "---\n",
            "Signif. codes:  0 ‘***’ 0.001 ‘**’ 0.01 ‘*’ 0.05 ‘.’ 0.1 ‘ ’ 1\n"
          ],
          "name": "stdout"
        }
      ]
    },
    {
      "cell_type": "code",
      "metadata": {
        "colab": {
          "base_uri": "https://localhost:8080/"
        },
        "id": "EqbRD3nX6qcJ",
        "outputId": "527367fe-21e1-4150-a5a4-737beda921d9"
      },
      "source": [
        "%%R\n",
        "Model1.3 <- lme4::lmer(\n",
        "                  SensorValue ~ \n",
        "                  CalvingSeason +\n",
        "                  (1| HerdIdentifier:AnimalIdentifier),\n",
        "                  REML = FALSE,\n",
        "                  data = AnalysisData\n",
        "                  )\n",
        "anova(Model.0,Model1.3,test=\"Chisq\")"
      ],
      "execution_count": null,
      "outputs": [
        {
          "output_type": "stream",
          "text": [
            "R[write to console]: refitting model(s) with ML (instead of REML)\n",
            "\n"
          ],
          "name": "stderr"
        },
        {
          "output_type": "stream",
          "text": [
            "Data: AnalysisData\n",
            "Models:\n",
            "Model.0: SensorValue ~ 1 + (1 | HerdIdentifier:AnimalIdentifier)\n",
            "Model1.3: SensorValue ~ CalvingSeason + (1 | HerdIdentifier:AnimalIdentifier)\n",
            "         npar     AIC     BIC   logLik deviance  Chisq Df Pr(>Chisq)    \n",
            "Model.0     3 2262609 2262642 -1131301  2262603                         \n",
            "Model1.3    6 2261807 2261873 -1130898  2261795 807.66  3  < 2.2e-16 ***\n",
            "---\n",
            "Signif. codes:  0 ‘***’ 0.001 ‘**’ 0.01 ‘*’ 0.05 ‘.’ 0.1 ‘ ’ 1\n"
          ],
          "name": "stdout"
        }
      ]
    },
    {
      "cell_type": "code",
      "metadata": {
        "colab": {
          "base_uri": "https://localhost:8080/"
        },
        "id": "Zq1XWL-i6tWq",
        "outputId": "ed3a8b2f-6ebc-4dad-c1b6-d08e40352d6a"
      },
      "source": [
        "%%R\n",
        "Model1.4 <- lme4::lmer(\n",
        "                  SensorValue ~ \n",
        "                  Hour +\n",
        "                  (1| HerdIdentifier:AnimalIdentifier),\n",
        "                  REML = FALSE,\n",
        "                  data = AnalysisData\n",
        "                  )\n",
        "anova(Model.0,Model1.4,test=\"Chisq\")"
      ],
      "execution_count": null,
      "outputs": [
        {
          "output_type": "stream",
          "text": [
            "R[write to console]: refitting model(s) with ML (instead of REML)\n",
            "\n"
          ],
          "name": "stderr"
        },
        {
          "output_type": "stream",
          "text": [
            "Data: AnalysisData\n",
            "Models:\n",
            "Model.0: SensorValue ~ 1 + (1 | HerdIdentifier:AnimalIdentifier)\n",
            "Model1.4: SensorValue ~ Hour + (1 | HerdIdentifier:AnimalIdentifier)\n",
            "         npar     AIC     BIC   logLik deviance Chisq Df Pr(>Chisq)    \n",
            "Model.0     3 2262609 2262642 -1131301  2262603                        \n",
            "Model1.4   14 2167830 2167985 -1083901  2167802 94801 11  < 2.2e-16 ***\n",
            "---\n",
            "Signif. codes:  0 ‘***’ 0.001 ‘**’ 0.01 ‘*’ 0.05 ‘.’ 0.1 ‘ ’ 1\n"
          ],
          "name": "stdout"
        }
      ]
    },
    {
      "cell_type": "code",
      "metadata": {
        "colab": {
          "base_uri": "https://localhost:8080/"
        },
        "id": "nYBLyWtv6wWp",
        "outputId": "e8e20474-6b83-47b7-d2d0-d26b36306766"
      },
      "source": [
        "%%R\n",
        "Model1.5 <- lme4::lmer(\n",
        "                  SensorValue ~ \n",
        "                  MilkingType +\n",
        "                  (1| HerdIdentifier:AnimalIdentifier),\n",
        "                  REML = FALSE,\n",
        "                  data = AnalysisData\n",
        "                  )\n",
        "anova(Model.0,Model1.5,test=\"Chisq\")"
      ],
      "execution_count": null,
      "outputs": [
        {
          "output_type": "stream",
          "text": [
            "R[write to console]: refitting model(s) with ML (instead of REML)\n",
            "\n"
          ],
          "name": "stderr"
        },
        {
          "output_type": "stream",
          "text": [
            "Data: AnalysisData\n",
            "Models:\n",
            "Model.0: SensorValue ~ 1 + (1 | HerdIdentifier:AnimalIdentifier)\n",
            "Model1.5: SensorValue ~ MilkingType + (1 | HerdIdentifier:AnimalIdentifier)\n",
            "         npar     AIC     BIC   logLik deviance  Chisq Df Pr(>Chisq)    \n",
            "Model.0     3 2262609 2262642 -1131301  2262603                         \n",
            "Model1.5    4 2261878 2261922 -1130935  2261870 732.95  1  < 2.2e-16 ***\n",
            "---\n",
            "Signif. codes:  0 ‘***’ 0.001 ‘**’ 0.01 ‘*’ 0.05 ‘.’ 0.1 ‘ ’ 1\n"
          ],
          "name": "stdout"
        }
      ]
    },
    {
      "cell_type": "markdown",
      "metadata": {
        "id": "MsE345Vh6ydk"
      },
      "source": [
        "## Multivariable models"
      ]
    },
    {
      "cell_type": "code",
      "metadata": {
        "id": "n1vTNToY62oO"
      },
      "source": [
        "%%R\n",
        "Model2.0 <- lme4::lmer(\n",
        "                  SensorValue ~ \n",
        "                  Parity + MonthsInMilk + CalvingSeason + Hour + MilkingType +\n",
        "                  (1| HerdIdentifier:AnimalIdentifier),\n",
        "                  REML = FALSE,\n",
        "                  data = AnalysisData\n",
        "                  )"
      ],
      "execution_count": null,
      "outputs": []
    },
    {
      "cell_type": "code",
      "metadata": {
        "colab": {
          "base_uri": "https://localhost:8080/"
        },
        "id": "y2A2J4HJ663T",
        "outputId": "d8c6af9e-1ff0-43a9-e820-ffc48e174800"
      },
      "source": [
        "%%R\n",
        "drop1(Model2.0,test=\"Chisq\")"
      ],
      "execution_count": null,
      "outputs": [
        {
          "output_type": "stream",
          "text": [
            "Single term deletions\n",
            "\n",
            "Model:\n",
            "SensorValue ~ Parity + MonthsInMilk + CalvingSeason + Hour + \n",
            "    MilkingType + (1 | HerdIdentifier:AnimalIdentifier)\n",
            "              npar     AIC   LRT   Pr(Chi)    \n",
            "<none>             2157389                    \n",
            "Parity           2 2162941  5556 < 2.2e-16 ***\n",
            "MonthsInMilk     9 2161186  3816 < 2.2e-16 ***\n",
            "CalvingSeason    3 2158214   831 < 2.2e-16 ***\n",
            "Hour            11 2253924 96558 < 2.2e-16 ***\n",
            "MilkingType      1 2158118   731 < 2.2e-16 ***\n",
            "---\n",
            "Signif. codes:  0 ‘***’ 0.001 ‘**’ 0.01 ‘*’ 0.05 ‘.’ 0.1 ‘ ’ 1\n"
          ],
          "name": "stdout"
        }
      ]
    },
    {
      "cell_type": "markdown",
      "metadata": {
        "id": "q8EfxRVh7TIq"
      },
      "source": [
        "## Introduction of interactions"
      ]
    },
    {
      "cell_type": "markdown",
      "metadata": {
        "id": "Qun12yw17WeX"
      },
      "source": [
        "### Interactions with MonthsInMilk"
      ]
    },
    {
      "cell_type": "code",
      "metadata": {
        "colab": {
          "base_uri": "https://localhost:8080/"
        },
        "id": "52shnPCj7aXV",
        "outputId": "cd841fed-d63f-4ab6-a098-9a37d9d3e032"
      },
      "source": [
        "%%R\n",
        "Model2.1 <- lme4::lmer(\n",
        "                  SensorValue ~ \n",
        "                  MonthsInMilk*Parity + Hour + HerdIdentifier + CalvingSeason +\n",
        "                  (1| HerdIdentifier:AnimalIdentifier),\n",
        "                  REML = FALSE,\n",
        "                  data = AnalysisData\n",
        ")\n",
        "anova(Model2.0,Model2.1,test=\"Chisq\")"
      ],
      "execution_count": null,
      "outputs": [
        {
          "output_type": "stream",
          "text": [
            "Data: AnalysisData\n",
            "Models:\n",
            "Model2.0: SensorValue ~ Parity + MonthsInMilk + CalvingSeason + Hour + \n",
            "Model2.0:     MilkingType + (1 | HerdIdentifier:AnimalIdentifier)\n",
            "Model2.1: SensorValue ~ MonthsInMilk * Parity + Hour + HerdIdentifier + \n",
            "Model2.1:     CalvingSeason + (1 | HerdIdentifier:AnimalIdentifier)\n",
            "         npar     AIC     BIC   logLik deviance Chisq Df Pr(>Chisq)    \n",
            "Model2.0   29 2157389 2157709 -1078665  2157331                        \n",
            "Model2.1   53 2156212 2156797 -1078053  2156106  1225 24  < 2.2e-16 ***\n",
            "---\n",
            "Signif. codes:  0 ‘***’ 0.001 ‘**’ 0.01 ‘*’ 0.05 ‘.’ 0.1 ‘ ’ 1\n"
          ],
          "name": "stdout"
        }
      ]
    },
    {
      "cell_type": "code",
      "metadata": {
        "colab": {
          "base_uri": "https://localhost:8080/"
        },
        "id": "q9Ydkkuc7cv0",
        "outputId": "4f822e0e-6624-4436-dcb2-3503f1f38a22"
      },
      "source": [
        "%%R\n",
        "Model2.2 <- lme4::lmer(\n",
        "                  SensorValue ~ \n",
        "                  MonthsInMilk*MilkingType + Parity + Hour + CalvingSeason +\n",
        "                  (1| HerdIdentifier:AnimalIdentifier),\n",
        "                  REML = FALSE,\n",
        "                  data = AnalysisData\n",
        ")\n",
        "anova(Model2.0,Model2.2,test=\"Chisq\")"
      ],
      "execution_count": null,
      "outputs": [
        {
          "output_type": "stream",
          "text": [
            "Data: AnalysisData\n",
            "Models:\n",
            "Model2.0: SensorValue ~ Parity + MonthsInMilk + CalvingSeason + Hour + \n",
            "Model2.0:     MilkingType + (1 | HerdIdentifier:AnimalIdentifier)\n",
            "Model2.2: SensorValue ~ MonthsInMilk * MilkingType + Parity + Hour + CalvingSeason + \n",
            "Model2.2:     (1 | HerdIdentifier:AnimalIdentifier)\n",
            "         npar     AIC     BIC   logLik deviance  Chisq Df Pr(>Chisq)    \n",
            "Model2.0   29 2157389 2157709 -1078665  2157331                         \n",
            "Model2.2   38 2157317 2157737 -1078621  2157241 89.232  9  2.321e-15 ***\n",
            "---\n",
            "Signif. codes:  0 ‘***’ 0.001 ‘**’ 0.01 ‘*’ 0.05 ‘.’ 0.1 ‘ ’ 1\n"
          ],
          "name": "stdout"
        }
      ]
    },
    {
      "cell_type": "code",
      "metadata": {
        "colab": {
          "base_uri": "https://localhost:8080/"
        },
        "id": "di7KAEp27fFz",
        "outputId": "c742b010-b233-48b8-c90e-a7c326d019a3"
      },
      "source": [
        "%%R\n",
        "Model2.3 <- lme4::lmer(\n",
        "                  SensorValue ~ \n",
        "                  MonthsInMilk*CalvingSeason + Parity + Hour + MilkingType +\n",
        "                  (1| HerdIdentifier:AnimalIdentifier),\n",
        "                  REML = FALSE,\n",
        "                  data = AnalysisData\n",
        ")\n",
        "anova(Model2.0,Model2.3,test=\"Chisq\")"
      ],
      "execution_count": null,
      "outputs": [
        {
          "output_type": "stream",
          "text": [
            "Data: AnalysisData\n",
            "Models:\n",
            "Model2.0: SensorValue ~ Parity + MonthsInMilk + CalvingSeason + Hour + \n",
            "Model2.0:     MilkingType + (1 | HerdIdentifier:AnimalIdentifier)\n",
            "Model2.3: SensorValue ~ MonthsInMilk * CalvingSeason + Parity + Hour + \n",
            "Model2.3:     MilkingType + (1 | HerdIdentifier:AnimalIdentifier)\n",
            "         npar     AIC     BIC   logLik deviance Chisq Df Pr(>Chisq)    \n",
            "Model2.0   29 2157389 2157709 -1078665  2157331                        \n",
            "Model2.3   56 2119503 2120122 -1059696  2119391 37939 27  < 2.2e-16 ***\n",
            "---\n",
            "Signif. codes:  0 ‘***’ 0.001 ‘**’ 0.01 ‘*’ 0.05 ‘.’ 0.1 ‘ ’ 1\n"
          ],
          "name": "stdout"
        }
      ]
    },
    {
      "cell_type": "markdown",
      "metadata": {
        "id": "pt59UYSv7iDk"
      },
      "source": [
        "### Interactions with hour"
      ]
    },
    {
      "cell_type": "code",
      "metadata": {
        "colab": {
          "base_uri": "https://localhost:8080/"
        },
        "id": "jgX_OrYw7k8x",
        "outputId": "a0cd73f3-ae90-4bb7-fba0-53a078451dce"
      },
      "source": [
        "%%R\n",
        "Model2.4 <- lme4::lmer(\n",
        "                  SensorValue ~ \n",
        "                  Hour*Parity + MonthsInMilk + CalvingSeason + MilkingType + \n",
        "                  (1| HerdIdentifier:AnimalIdentifier),\n",
        "                  REML = FALSE,\n",
        "                  data = AnalysisData\n",
        ")\n",
        "anova(Model2.0,Model2.4,test=\"Chisq\")"
      ],
      "execution_count": null,
      "outputs": [
        {
          "output_type": "stream",
          "text": [
            "Data: AnalysisData\n",
            "Models:\n",
            "Model2.0: SensorValue ~ Parity + MonthsInMilk + CalvingSeason + Hour + \n",
            "Model2.0:     MilkingType + (1 | HerdIdentifier:AnimalIdentifier)\n",
            "Model2.4: SensorValue ~ Hour * Parity + MonthsInMilk + CalvingSeason + \n",
            "Model2.4:     MilkingType + (1 | HerdIdentifier:AnimalIdentifier)\n",
            "         npar     AIC     BIC   logLik deviance  Chisq Df Pr(>Chisq)    \n",
            "Model2.0   29 2157389 2157709 -1078665  2157331                         \n",
            "Model2.4   51 2155073 2155636 -1077485  2154971 2359.8 22  < 2.2e-16 ***\n",
            "---\n",
            "Signif. codes:  0 ‘***’ 0.001 ‘**’ 0.01 ‘*’ 0.05 ‘.’ 0.1 ‘ ’ 1\n"
          ],
          "name": "stdout"
        }
      ]
    },
    {
      "cell_type": "code",
      "metadata": {
        "colab": {
          "base_uri": "https://localhost:8080/"
        },
        "id": "lNdTtnXb7oRZ",
        "outputId": "c2bb9e1f-df52-4fd4-be36-a611491430f5"
      },
      "source": [
        "%%R\n",
        "Model2.5 <- lme4::lmer(\n",
        "                  SensorValue ~ \n",
        "                  Hour*MilkingType + MonthsInMilk + CalvingSeason + Parity + \n",
        "                  (1| HerdIdentifier:AnimalIdentifier),\n",
        "                  REML = FALSE,\n",
        "                  data = AnalysisData\n",
        ")\n",
        "anova(Model2.0,Model2.5,test=\"Chisq\")"
      ],
      "execution_count": null,
      "outputs": [
        {
          "output_type": "stream",
          "text": [
            "Data: AnalysisData\n",
            "Models:\n",
            "Model2.0: SensorValue ~ Parity + MonthsInMilk + CalvingSeason + Hour + \n",
            "Model2.0:     MilkingType + (1 | HerdIdentifier:AnimalIdentifier)\n",
            "Model2.5: SensorValue ~ Hour * MilkingType + MonthsInMilk + CalvingSeason + \n",
            "Model2.5:     Parity + (1 | HerdIdentifier:AnimalIdentifier)\n",
            "         npar     AIC     BIC   logLik deviance Chisq Df Pr(>Chisq)    \n",
            "Model2.0   29 2157389 2157709 -1078665  2157331                        \n",
            "Model2.5   40 2135107 2135549 -1067514  2135027 22303 11  < 2.2e-16 ***\n",
            "---\n",
            "Signif. codes:  0 ‘***’ 0.001 ‘**’ 0.01 ‘*’ 0.05 ‘.’ 0.1 ‘ ’ 1\n"
          ],
          "name": "stdout"
        }
      ]
    },
    {
      "cell_type": "code",
      "metadata": {
        "colab": {
          "base_uri": "https://localhost:8080/"
        },
        "id": "zOV0Pz1D7qMP",
        "outputId": "b3ecef5f-a3c9-4aa1-f8ba-81e3114d5676"
      },
      "source": [
        "%%R\n",
        "Model2.6 <- lme4::lmer(\n",
        "                  SensorValue ~ \n",
        "                  Hour*CalvingSeason + MonthsInMilk +  + Parity + MilkingType +\n",
        "                  (1| HerdIdentifier:AnimalIdentifier),\n",
        "                  REML = FALSE,\n",
        "                  data = AnalysisData\n",
        ")\n",
        "anova(Model2.0,Model2.6,test=\"Chisq\")"
      ],
      "execution_count": null,
      "outputs": [
        {
          "output_type": "stream",
          "text": [
            "Data: AnalysisData\n",
            "Models:\n",
            "Model2.0: SensorValue ~ Parity + MonthsInMilk + CalvingSeason + Hour + \n",
            "Model2.0:     MilkingType + (1 | HerdIdentifier:AnimalIdentifier)\n",
            "Model2.6: SensorValue ~ Hour * CalvingSeason + MonthsInMilk + +Parity + \n",
            "Model2.6:     MilkingType + (1 | HerdIdentifier:AnimalIdentifier)\n",
            "         npar     AIC     BIC   logLik deviance  Chisq Df Pr(>Chisq)    \n",
            "Model2.0   29 2157389 2157709 -1078665  2157331                         \n",
            "Model2.6   62 2154385 2155070 -1077130  2154261 3069.7 33  < 2.2e-16 ***\n",
            "---\n",
            "Signif. codes:  0 ‘***’ 0.001 ‘**’ 0.01 ‘*’ 0.05 ‘.’ 0.1 ‘ ’ 1\n"
          ],
          "name": "stdout"
        }
      ]
    },
    {
      "cell_type": "markdown",
      "metadata": {
        "id": "rqoKbqW27r5f"
      },
      "source": [
        "## Multiple interactions"
      ]
    },
    {
      "cell_type": "code",
      "metadata": {
        "colab": {
          "base_uri": "https://localhost:8080/"
        },
        "id": "qlKDq9lK7und",
        "outputId": "6a720b83-a138-4bc9-89e8-f3b5888ba459"
      },
      "source": [
        "%%R\n",
        "Model2.7 <- lme4::lmer(\n",
        "                  SensorValue ~ \n",
        "                  MonthsInMilk*Parity + \n",
        "                  MonthsInMilk*MilkingType + \n",
        "                  MonthsInMilk*CalvingSeason + \n",
        "                  Hour*Parity + \n",
        "                  Hour*MilkingType + \n",
        "                  Hour*CalvingSeason + \n",
        "                  (1| HerdIdentifier:AnimalIdentifier),\n",
        "                  REML = FALSE,\n",
        "                  data = AnalysisData\n",
        ")\n",
        "anova(Model2.0,Model2.7,test=\"Chisq\")"
      ],
      "execution_count": null,
      "outputs": [
        {
          "output_type": "stream",
          "text": [
            "Data: AnalysisData\n",
            "Models:\n",
            "Model2.0: SensorValue ~ Parity + MonthsInMilk + CalvingSeason + Hour + \n",
            "Model2.0:     MilkingType + (1 | HerdIdentifier:AnimalIdentifier)\n",
            "Model2.7: SensorValue ~ MonthsInMilk * Parity + MonthsInMilk * MilkingType + \n",
            "Model2.7:     MonthsInMilk * CalvingSeason + Hour * Parity + Hour * MilkingType + \n",
            "Model2.7:     Hour * CalvingSeason + (1 | HerdIdentifier:AnimalIdentifier)\n",
            "         npar     AIC     BIC   logLik deviance Chisq  Df Pr(>Chisq)    \n",
            "Model2.0   29 2157389 2157709 -1078665  2157331                         \n",
            "Model2.7  149 2090097 2091743 -1044899  2089799 67532 120  < 2.2e-16 ***\n",
            "---\n",
            "Signif. codes:  0 ‘***’ 0.001 ‘**’ 0.01 ‘*’ 0.05 ‘.’ 0.1 ‘ ’ 1\n"
          ],
          "name": "stdout"
        }
      ]
    },
    {
      "cell_type": "markdown",
      "metadata": {
        "id": "XJI14Kfo7xso"
      },
      "source": [
        "# Final model analysis of variance"
      ]
    },
    {
      "cell_type": "code",
      "metadata": {
        "id": "JmPE12n771TX"
      },
      "source": [
        "%%R\n",
        "finalModel <- Model2.7"
      ],
      "execution_count": null,
      "outputs": []
    },
    {
      "cell_type": "code",
      "metadata": {
        "colab": {
          "base_uri": "https://localhost:8080/"
        },
        "id": "qZK9OvSF729n",
        "outputId": "2764ef04-5c3d-47d6-b1ed-dd83b1011148"
      },
      "source": [
        "%%R\n",
        "Anova(finalModel)"
      ],
      "execution_count": null,
      "outputs": [
        {
          "output_type": "stream",
          "text": [
            "Analysis of Deviance Table (Type II Wald chisquare tests)\n",
            "\n",
            "Response: SensorValue\n",
            "                               Chisq Df Pr(>Chisq)    \n",
            "MonthsInMilk                 4439.26  9  < 2.2e-16 ***\n",
            "Parity                       6918.49  2  < 2.2e-16 ***\n",
            "MilkingType                   875.99  1  < 2.2e-16 ***\n",
            "CalvingSeason                 942.59  3  < 2.2e-16 ***\n",
            "Hour                       124313.19 11  < 2.2e-16 ***\n",
            "MonthsInMilk:Parity          1245.34 18  < 2.2e-16 ***\n",
            "MonthsInMilk:MilkingType      218.97  9  < 2.2e-16 ***\n",
            "MonthsInMilk:CalvingSeason  42353.35 27  < 2.2e-16 ***\n",
            "Parity:Hour                  1717.76 22  < 2.2e-16 ***\n",
            "MilkingType:Hour            23099.00 11  < 2.2e-16 ***\n",
            "CalvingSeason:Hour           2080.94 33  < 2.2e-16 ***\n",
            "---\n",
            "Signif. codes:  0 ‘***’ 0.001 ‘**’ 0.01 ‘*’ 0.05 ‘.’ 0.1 ‘ ’ 1\n"
          ],
          "name": "stdout"
        }
      ]
    },
    {
      "cell_type": "code",
      "metadata": {
        "id": "Lxfd2ar878c4"
      },
      "source": [
        "%%R\n",
        "save(finalModel, file=\"/content/drive/Shareddrives/Bovi-Analytics/Projects/SenseOfSensors/CsvData/SensorAggRepartitioned08032021/finalmodel2hourswalkingtime.rdata\")"
      ],
      "execution_count": null,
      "outputs": []
    },
    {
      "cell_type": "markdown",
      "metadata": {
        "id": "PDmRguAI8Bxw"
      },
      "source": [
        "# Final model figures and LSM (95% CI)"
      ]
    },
    {
      "cell_type": "markdown",
      "metadata": {
        "id": "t45R9sTr8MzV"
      },
      "source": [
        "## Main effects"
      ]
    },
    {
      "cell_type": "code",
      "metadata": {
        "colab": {
          "base_uri": "https://localhost:8080/"
        },
        "id": "camyuuZm-mdE",
        "outputId": "34bc8579-801b-423f-f06a-da2bf99a8366"
      },
      "source": [
        "%%R\n",
        "multcomp::cld(lsmeans::lsmeans(finalModel, ~ MonthsInMilk), alpha=0.05, Letters=letters, adjust=\"tukey\")"
      ],
      "execution_count": null,
      "outputs": [
        {
          "output_type": "stream",
          "text": [
            "R[write to console]: Note: D.f. calculations have been disabled because the number of observations exceeds 3000.\n",
            "To enable adjustments, add the argument 'pbkrtest.limit = 463405' (or larger)\n",
            "[or, globally, 'set emm_options(pbkrtest.limit = 463405)' or larger];\n",
            "but be warned that this may result in large computation time and memory use.\n",
            "\n",
            "R[write to console]: Note: D.f. calculations have been disabled because the number of observations exceeds 3000.\n",
            "To enable adjustments, add the argument 'lmerTest.limit = 463405' (or larger)\n",
            "[or, globally, 'set emm_options(lmerTest.limit = 463405)' or larger];\n",
            "but be warned that this may result in large computation time and memory use.\n",
            "\n",
            "R[write to console]: NOTE: Results may be misleading due to involvement in interactions\n",
            "\n",
            "R[write to console]: Note: adjust = \"tukey\" was changed to \"sidak\"\n",
            "because \"tukey\" is only appropriate for one set of pairwise comparisons\n",
            "\n"
          ],
          "name": "stderr"
        },
        {
          "output_type": "stream",
          "text": [
            " MonthsInMilk lsmean     SE  df asymp.LCL asymp.UCL .group   \n",
            " 10             3.26 0.0246 Inf      3.19      3.33  a       \n",
            " 9              3.35 0.0246 Inf      3.28      3.42   b      \n",
            " 8              3.39 0.0246 Inf      3.33      3.46   bc     \n",
            " 7              3.45 0.0247 Inf      3.38      3.52    c     \n",
            " 6              3.54 0.0247 Inf      3.47      3.61     d    \n",
            " 5              3.58 0.0247 Inf      3.51      3.65     d    \n",
            " 4              3.64 0.0247 Inf      3.57      3.71      e   \n",
            " 3              3.76 0.0247 Inf      3.69      3.82       f  \n",
            " 2              3.86 0.0247 Inf      3.79      3.93        g \n",
            " 1              4.21 0.0247 Inf      4.14      4.27         h\n",
            "\n",
            "Results are averaged over the levels of: Parity, MilkingType, CalvingSeason, Hour \n",
            "Degrees-of-freedom method: asymptotic \n",
            "Confidence level used: 0.95 \n",
            "Conf-level adjustment: sidak method for 10 estimates \n",
            "P value adjustment: tukey method for comparing a family of 10 estimates \n",
            "significance level used: alpha = 0.05 \n"
          ],
          "name": "stdout"
        }
      ]
    },
    {
      "cell_type": "code",
      "metadata": {
        "colab": {
          "base_uri": "https://localhost:8080/"
        },
        "id": "YZ3H7_XW-p1T",
        "outputId": "aefc3bba-43b6-419c-ea27-281cf0850db9"
      },
      "source": [
        "%%R\n",
        "multcomp::cld(lsmeans::lsmeans(finalModel, ~ Parity), alpha=0.05, Letters=letters, adjust=\"tukey\")"
      ],
      "execution_count": null,
      "outputs": [
        {
          "output_type": "stream",
          "text": [
            "R[write to console]: Note: D.f. calculations have been disabled because the number of observations exceeds 3000.\n",
            "To enable adjustments, add the argument 'pbkrtest.limit = 463405' (or larger)\n",
            "[or, globally, 'set emm_options(pbkrtest.limit = 463405)' or larger];\n",
            "but be warned that this may result in large computation time and memory use.\n",
            "\n",
            "R[write to console]: Note: D.f. calculations have been disabled because the number of observations exceeds 3000.\n",
            "To enable adjustments, add the argument 'lmerTest.limit = 463405' (or larger)\n",
            "[or, globally, 'set emm_options(lmerTest.limit = 463405)' or larger];\n",
            "but be warned that this may result in large computation time and memory use.\n",
            "\n",
            "R[write to console]: NOTE: Results may be misleading due to involvement in interactions\n",
            "\n",
            "R[write to console]: Note: adjust = \"tukey\" was changed to \"sidak\"\n",
            "because \"tukey\" is only appropriate for one set of pairwise comparisons\n",
            "\n"
          ],
          "name": "stderr"
        },
        {
          "output_type": "stream",
          "text": [
            " Parity lsmean     SE  df asymp.LCL asymp.UCL .group\n",
            " 3+       3.19 0.0223 Inf      3.14      3.24  a    \n",
            " 2        3.52 0.0226 Inf      3.46      3.57   b   \n",
            " 1        4.10 0.0227 Inf      4.05      4.16    c  \n",
            "\n",
            "Results are averaged over the levels of: MonthsInMilk, MilkingType, CalvingSeason, Hour \n",
            "Degrees-of-freedom method: asymptotic \n",
            "Confidence level used: 0.95 \n",
            "Conf-level adjustment: sidak method for 3 estimates \n",
            "P value adjustment: tukey method for comparing a family of 3 estimates \n",
            "significance level used: alpha = 0.05 \n"
          ],
          "name": "stdout"
        }
      ]
    },
    {
      "cell_type": "code",
      "metadata": {
        "colab": {
          "base_uri": "https://localhost:8080/"
        },
        "id": "GTI2qFrS-sUS",
        "outputId": "fdd9a4e8-224b-42ea-85ac-0f71b2d9c3a1"
      },
      "source": [
        "%%R\n",
        "multcomp::cld(lsmeans::lsmeans(finalModel, ~ Hour), alpha=0.05, Letters=letters, adjust=\"tukey\")"
      ],
      "execution_count": null,
      "outputs": [
        {
          "output_type": "stream",
          "text": [
            "R[write to console]: Note: D.f. calculations have been disabled because the number of observations exceeds 3000.\n",
            "To enable adjustments, add the argument 'pbkrtest.limit = 463405' (or larger)\n",
            "[or, globally, 'set emm_options(pbkrtest.limit = 463405)' or larger];\n",
            "but be warned that this may result in large computation time and memory use.\n",
            "\n",
            "R[write to console]: Note: D.f. calculations have been disabled because the number of observations exceeds 3000.\n",
            "To enable adjustments, add the argument 'lmerTest.limit = 463405' (or larger)\n",
            "[or, globally, 'set emm_options(lmerTest.limit = 463405)' or larger];\n",
            "but be warned that this may result in large computation time and memory use.\n",
            "\n",
            "R[write to console]: NOTE: Results may be misleading due to involvement in interactions\n",
            "\n",
            "R[write to console]: Note: adjust = \"tukey\" was changed to \"sidak\"\n",
            "because \"tukey\" is only appropriate for one set of pairwise comparisons\n",
            "\n"
          ],
          "name": "stderr"
        },
        {
          "output_type": "stream",
          "text": [
            " Hour lsmean     SE  df asymp.LCL asymp.UCL .group     \n",
            " 2      1.76 0.0252 Inf      1.69      1.84  a         \n",
            " 0      2.19 0.0252 Inf      2.12      2.26   b        \n",
            " 22     2.46 0.0252 Inf      2.38      2.53    c       \n",
            " 4      2.78 0.0252 Inf      2.71      2.85     d      \n",
            " 20     2.94 0.0252 Inf      2.87      3.01      e     \n",
            " 18     3.96 0.0252 Inf      3.88      4.03       f    \n",
            " 12     4.36 0.0252 Inf      4.29      4.43        g   \n",
            " 16     4.45 0.0252 Inf      4.38      4.52         h  \n",
            " 10     4.49 0.0252 Inf      4.42      4.56         hi \n",
            " 14     4.50 0.0252 Inf      4.43      4.58         hi \n",
            " 6      4.54 0.0252 Inf      4.46      4.61          i \n",
            " 8      4.81 0.0252 Inf      4.74      4.88           j\n",
            "\n",
            "Results are averaged over the levels of: MonthsInMilk, Parity, MilkingType, CalvingSeason \n",
            "Degrees-of-freedom method: asymptotic \n",
            "Confidence level used: 0.95 \n",
            "Conf-level adjustment: sidak method for 12 estimates \n",
            "P value adjustment: tukey method for comparing a family of 12 estimates \n",
            "significance level used: alpha = 0.05 \n"
          ],
          "name": "stdout"
        }
      ]
    },
    {
      "cell_type": "code",
      "metadata": {
        "colab": {
          "base_uri": "https://localhost:8080/"
        },
        "id": "_-vfcAPL-vJV",
        "outputId": "e6b1bf69-fb29-4255-8a57-ecbac35e9387"
      },
      "source": [
        "%%R\n",
        "multcomp::cld(lsmeans::lsmeans(finalModel, ~ CalvingSeason), alpha=0.05, Letters=letters, adjust=\"tukey\")"
      ],
      "execution_count": null,
      "outputs": [
        {
          "output_type": "stream",
          "text": [
            "R[write to console]: Note: D.f. calculations have been disabled because the number of observations exceeds 3000.\n",
            "To enable adjustments, add the argument 'pbkrtest.limit = 463405' (or larger)\n",
            "[or, globally, 'set emm_options(pbkrtest.limit = 463405)' or larger];\n",
            "but be warned that this may result in large computation time and memory use.\n",
            "\n",
            "R[write to console]: Note: D.f. calculations have been disabled because the number of observations exceeds 3000.\n",
            "To enable adjustments, add the argument 'lmerTest.limit = 463405' (or larger)\n",
            "[or, globally, 'set emm_options(lmerTest.limit = 463405)' or larger];\n",
            "but be warned that this may result in large computation time and memory use.\n",
            "\n",
            "R[write to console]: NOTE: Results may be misleading due to involvement in interactions\n",
            "\n",
            "R[write to console]: Note: adjust = \"tukey\" was changed to \"sidak\"\n",
            "because \"tukey\" is only appropriate for one set of pairwise comparisons\n",
            "\n"
          ],
          "name": "stderr"
        },
        {
          "output_type": "stream",
          "text": [
            " CalvingSeason lsmean     SE  df asymp.LCL asymp.UCL .group\n",
            " Summer          3.37 0.0233 Inf      3.31      3.42  a    \n",
            " Autumn          3.50 0.0233 Inf      3.44      3.56   b   \n",
            " Spring          3.71 0.0237 Inf      3.65      3.77    c  \n",
            " Winter          3.84 0.0239 Inf      3.78      3.90     d \n",
            "\n",
            "Results are averaged over the levels of: MonthsInMilk, Parity, MilkingType, Hour \n",
            "Degrees-of-freedom method: asymptotic \n",
            "Confidence level used: 0.95 \n",
            "Conf-level adjustment: sidak method for 4 estimates \n",
            "P value adjustment: tukey method for comparing a family of 4 estimates \n",
            "significance level used: alpha = 0.05 \n"
          ],
          "name": "stdout"
        }
      ]
    },
    {
      "cell_type": "markdown",
      "metadata": {
        "id": "x3e1QMGx-y_j"
      },
      "source": [
        "## Interactions"
      ]
    },
    {
      "cell_type": "markdown",
      "metadata": {
        "id": "aJwAI9qX_V5T"
      },
      "source": [
        "### Hour by parity"
      ]
    },
    {
      "cell_type": "code",
      "metadata": {
        "colab": {
          "base_uri": "https://localhost:8080/"
        },
        "id": "TfAGIGOD_aUq",
        "outputId": "2171569e-8d3f-4959-e515-ee262a26e47f"
      },
      "source": [
        "%%R\n",
        "LSMs<-lsmeans::lsmeans(finalModel, pairwise ~ Hour|Parity, type = \"response\", glhargs=list())\n",
        "multcomp::cld(LSMs[[1]], alpha=0.05, Letters=letters, adjust=\"tukey\")"
      ],
      "execution_count": null,
      "outputs": [
        {
          "output_type": "stream",
          "text": [
            "R[write to console]: Note: D.f. calculations have been disabled because the number of observations exceeds 3000.\n",
            "To enable adjustments, add the argument 'pbkrtest.limit = 463405' (or larger)\n",
            "[or, globally, 'set emm_options(pbkrtest.limit = 463405)' or larger];\n",
            "but be warned that this may result in large computation time and memory use.\n",
            "\n",
            "R[write to console]: Note: D.f. calculations have been disabled because the number of observations exceeds 3000.\n",
            "To enable adjustments, add the argument 'lmerTest.limit = 463405' (or larger)\n",
            "[or, globally, 'set emm_options(lmerTest.limit = 463405)' or larger];\n",
            "but be warned that this may result in large computation time and memory use.\n",
            "\n",
            "R[write to console]: Note: adjust = \"tukey\" was changed to \"sidak\"\n",
            "because \"tukey\" is only appropriate for one set of pairwise comparisons\n",
            "\n"
          ],
          "name": "stderr"
        },
        {
          "output_type": "stream",
          "text": [
            "Parity = 1:\n",
            " Hour lsmean     SE  df asymp.LCL asymp.UCL .group     \n",
            " 2      1.95 0.0323 Inf      1.86      2.04  a         \n",
            " 0      2.41 0.0323 Inf      2.32      2.50   b        \n",
            " 22     2.74 0.0323 Inf      2.65      2.83    c       \n",
            " 4      3.25 0.0323 Inf      3.16      3.35     d      \n",
            " 20     3.38 0.0323 Inf      3.29      3.47      e     \n",
            " 18     4.50 0.0323 Inf      4.41      4.59       f    \n",
            " 6      5.04 0.0323 Inf      4.94      5.13        g   \n",
            " 12     5.06 0.0323 Inf      4.97      5.15        gh  \n",
            " 16     5.10 0.0323 Inf      5.01      5.19        ghi \n",
            " 10     5.17 0.0323 Inf      5.07      5.26         hi \n",
            " 14     5.19 0.0323 Inf      5.09      5.28          i \n",
            " 8      5.47 0.0323 Inf      5.38      5.56           j\n",
            "\n",
            "Parity = 2:\n",
            " Hour lsmean     SE  df asymp.LCL asymp.UCL .group     \n",
            " 2      1.70 0.0320 Inf      1.61      1.79  a         \n",
            " 0      2.15 0.0320 Inf      2.06      2.24   b        \n",
            " 22     2.39 0.0320 Inf      2.30      2.48    c       \n",
            " 4      2.64 0.0320 Inf      2.55      2.74     d      \n",
            " 20     2.88 0.0320 Inf      2.79      2.97      e     \n",
            " 18     3.90 0.0320 Inf      3.81      4.00       f    \n",
            " 12     4.26 0.0320 Inf      4.17      4.35        g   \n",
            " 16     4.32 0.0320 Inf      4.23      4.42        gh  \n",
            " 10     4.38 0.0320 Inf      4.29      4.47         hi \n",
            " 14     4.42 0.0320 Inf      4.32      4.51         hi \n",
            " 6      4.47 0.0320 Inf      4.38      4.56          i \n",
            " 8      4.70 0.0320 Inf      4.61      4.79           j\n",
            "\n",
            "Parity = 3+:\n",
            " Hour lsmean     SE  df asymp.LCL asymp.UCL .group     \n",
            " 2      1.64 0.0279 Inf      1.56      1.72  a         \n",
            " 0      2.01 0.0278 Inf      1.93      2.09   b        \n",
            " 22     2.24 0.0279 Inf      2.16      2.32    c       \n",
            " 4      2.44 0.0279 Inf      2.36      2.52     d      \n",
            " 20     2.57 0.0279 Inf      2.49      2.65      e     \n",
            " 18     3.47 0.0279 Inf      3.39      3.55       f    \n",
            " 12     3.76 0.0279 Inf      3.68      3.84        g   \n",
            " 14     3.91 0.0279 Inf      3.83      3.99         h  \n",
            " 16     3.93 0.0279 Inf      3.85      4.01         h  \n",
            " 10     3.93 0.0279 Inf      3.85      4.01         h  \n",
            " 6      4.10 0.0279 Inf      4.02      4.18          i \n",
            " 8      4.27 0.0279 Inf      4.19      4.35           j\n",
            "\n",
            "Results are averaged over the levels of: MonthsInMilk, MilkingType, CalvingSeason \n",
            "Degrees-of-freedom method: asymptotic \n",
            "Confidence level used: 0.95 \n",
            "Conf-level adjustment: sidak method for 12 estimates \n",
            "P value adjustment: tukey method for comparing a family of 12 estimates \n",
            "significance level used: alpha = 0.05 \n"
          ],
          "name": "stdout"
        }
      ]
    },
    {
      "cell_type": "code",
      "metadata": {
        "colab": {
          "base_uri": "https://localhost:8080/",
          "height": 497
        },
        "id": "vv9oFqA6_chf",
        "outputId": "b10523fb-0377-409c-c30f-0136021f2558"
      },
      "source": [
        "%%R\n",
        "dfPValues <- summary(LSMs)[[2]]\n",
        "dfLMSs <- summary(LSMs)[[1]]\n",
        "dfLMSs %>% \n",
        "  mutate(label = if_else(Hour == max(as.numeric(Hour)), as.character(Parity), NA_character_)) %>%\n",
        "  ggplot(\n",
        "  aes(\n",
        "    x=Hour,\n",
        "    y=lsmean,\n",
        "    group=Parity, \n",
        "    color=Parity)\n",
        "    ) +\n",
        "  geom_line() +  \n",
        "  geom_errorbar(\n",
        "    aes(ymin=asymp.LCL, \n",
        "        ymax=asymp.UCL), \n",
        "    width=.2,\n",
        "    position=position_dodge(0.05)) +\n",
        "  labs(\n",
        "    title = \"Walking time (min/2hours)\", \n",
        "    y=\"Minutes per two hours\" , \n",
        "    x = \"Hour\") +\n",
        "  theme_bw() +\n",
        "  theme(plot.title = element_text(hjust = 0.5),\n",
        "        panel.border = element_blank(), \n",
        "        panel.grid.major = element_blank(),\n",
        "        panel.grid.minor = element_blank(), \n",
        "        axis.line = element_line(colour = \"black\"))"
      ],
      "execution_count": null,
      "outputs": [
        {
          "output_type": "display_data",
          "data": {
            "image/png": "[encoded data removed]"
          },
          "metadata": {
            "tags": []
          }
        }
      ]
    },
    {
      "cell_type": "markdown",
      "metadata": {
        "id": "CjtINSmE_jIy"
      },
      "source": [
        "### Hour by milking type"
      ]
    },
    {
      "cell_type": "code",
      "metadata": {
        "colab": {
          "base_uri": "https://localhost:8080/"
        },
        "id": "wgGEao-b_hnL",
        "outputId": "55fb3b66-e6c3-4e49-8ade-5e3089ae0300"
      },
      "source": [
        "%%R\n",
        "LSMs<-lsmeans::lsmeans(finalModel, pairwise ~ Hour|MilkingType, type = \"response\", glhargs=list())\n",
        "multcomp::cld(LSMs[[1]], alpha=0.05, Letters=letters, adjust=\"tukey\")"
      ],
      "execution_count": null,
      "outputs": [
        {
          "output_type": "stream",
          "text": [
            "R[write to console]: Note: D.f. calculations have been disabled because the number of observations exceeds 3000.\n",
            "To enable adjustments, add the argument 'pbkrtest.limit = 463405' (or larger)\n",
            "[or, globally, 'set emm_options(pbkrtest.limit = 463405)' or larger];\n",
            "but be warned that this may result in large computation time and memory use.\n",
            "\n",
            "R[write to console]: Note: D.f. calculations have been disabled because the number of observations exceeds 3000.\n",
            "To enable adjustments, add the argument 'lmerTest.limit = 463405' (or larger)\n",
            "[or, globally, 'set emm_options(lmerTest.limit = 463405)' or larger];\n",
            "but be warned that this may result in large computation time and memory use.\n",
            "\n",
            "R[write to console]: Note: adjust = \"tukey\" was changed to \"sidak\"\n",
            "because \"tukey\" is only appropriate for one set of pairwise comparisons\n",
            "\n"
          ],
          "name": "stderr"
        },
        {
          "output_type": "stream",
          "text": [
            "MilkingType = AMS:\n",
            " Hour lsmean     SE  df asymp.LCL asymp.UCL .group       \n",
            " 2      1.73 0.0417 Inf      1.61      1.85  a           \n",
            " 4      1.99 0.0417 Inf      1.87      2.11   b          \n",
            " 0      2.26 0.0417 Inf      2.14      2.38    c         \n",
            " 22     2.48 0.0417 Inf      2.37      2.60     d        \n",
            " 20     2.96 0.0417 Inf      2.84      3.08      e       \n",
            " 10     3.20 0.0417 Inf      3.08      3.32       f      \n",
            " 6      3.22 0.0417 Inf      3.10      3.34       f      \n",
            " 12     3.24 0.0417 Inf      3.12      3.36       f      \n",
            " 14     3.40 0.0417 Inf      3.28      3.52        g     \n",
            " 8      3.52 0.0417 Inf      3.40      3.64         h    \n",
            " 16     3.72 0.0417 Inf      3.60      3.84          i   \n",
            " 18     3.80 0.0417 Inf      3.68      3.92          i   \n",
            "\n",
            "MilkingType = CMS:\n",
            " Hour lsmean     SE  df asymp.LCL asymp.UCL .group       \n",
            " 2      1.80 0.0278 Inf      1.72      1.88  a           \n",
            " 0      2.13 0.0278 Inf      2.05      2.21   b          \n",
            " 22     2.43 0.0278 Inf      2.35      2.51    c         \n",
            " 20     2.92 0.0278 Inf      2.84      3.00     d        \n",
            " 4      3.57 0.0278 Inf      3.49      3.65      e       \n",
            " 18     4.11 0.0278 Inf      4.03      4.19       f      \n",
            " 16     5.18 0.0278 Inf      5.10      5.26        g     \n",
            " 12     5.48 0.0278 Inf      5.40      5.56         h    \n",
            " 14     5.61 0.0278 Inf      5.53      5.69          i   \n",
            " 10     5.78 0.0278 Inf      5.70      5.86           j  \n",
            " 6      5.85 0.0278 Inf      5.77      5.93            k \n",
            " 8      6.11 0.0278 Inf      6.03      6.19             l\n",
            "\n",
            "Results are averaged over the levels of: MonthsInMilk, Parity, CalvingSeason \n",
            "Degrees-of-freedom method: asymptotic \n",
            "Confidence level used: 0.95 \n",
            "Conf-level adjustment: sidak method for 12 estimates \n",
            "P value adjustment: tukey method for comparing a family of 12 estimates \n",
            "significance level used: alpha = 0.05 \n"
          ],
          "name": "stdout"
        }
      ]
    },
    {
      "cell_type": "code",
      "metadata": {
        "colab": {
          "base_uri": "https://localhost:8080/",
          "height": 497
        },
        "id": "HriW7gnC_sGk",
        "outputId": "0662d324-21dd-4462-c7a6-77f2b13ab216"
      },
      "source": [
        "%%R\n",
        "dfPValues <- summary(LSMs)[[2]]\n",
        "dfLMSs <- summary(LSMs)[[1]]\n",
        "dfLMSs %>% \n",
        "  mutate(label = if_else(Hour == max(as.numeric(Hour)), as.character(MilkingType), NA_character_)) %>%\n",
        "  ggplot(\n",
        "  aes(\n",
        "    x=Hour,\n",
        "    y=lsmean,\n",
        "    group=MilkingType, \n",
        "    color=MilkingType)\n",
        "    ) +\n",
        "  geom_line() +  \n",
        "  geom_errorbar(\n",
        "    aes(ymin=asymp.LCL, \n",
        "        ymax=asymp.UCL), \n",
        "    width=.2,\n",
        "    position=position_dodge(0.05)) +\n",
        "  labs(\n",
        "    title = \"Walking time (min/2hours)\", \n",
        "    y=\"Minutes per two hours\" , \n",
        "    x = \"Hour\") +\n",
        "  theme_bw() +\n",
        "  theme(plot.title = element_text(hjust = 0.5),\n",
        "        panel.border = element_blank(), \n",
        "        panel.grid.major = element_blank(),\n",
        "        panel.grid.minor = element_blank(), \n",
        "        axis.line = element_line(colour = \"black\"))"
      ],
      "execution_count": null,
      "outputs": [
        {
          "output_type": "display_data",
          "data": {
            "image/png": "[encoded data removed]"
          },
          "metadata": {
            "tags": []
          }
        }
      ]
    },
    {
      "cell_type": "markdown",
      "metadata": {
        "id": "-kIuoTlV_vkj"
      },
      "source": [
        "### Hour by calving season"
      ]
    },
    {
      "cell_type": "code",
      "metadata": {
        "colab": {
          "base_uri": "https://localhost:8080/"
        },
        "id": "wUfGMmv5_yrA",
        "outputId": "5d862c92-973d-4277-fdd4-8ff4678f317d"
      },
      "source": [
        "%%R\n",
        "LSMs<-lsmeans::lsmeans(finalModel, pairwise ~ Hour|CalvingSeason, type = \"response\", glhargs=list())\n",
        "multcomp::cld(LSMs[[1]], alpha=0.05, Letters=letters, adjust=\"tukey\")"
      ],
      "execution_count": null,
      "outputs": [
        {
          "output_type": "stream",
          "text": [
            "R[write to console]: Note: D.f. calculations have been disabled because the number of observations exceeds 3000.\n",
            "To enable adjustments, add the argument 'pbkrtest.limit = 463405' (or larger)\n",
            "[or, globally, 'set emm_options(pbkrtest.limit = 463405)' or larger];\n",
            "but be warned that this may result in large computation time and memory use.\n",
            "\n",
            "R[write to console]: Note: D.f. calculations have been disabled because the number of observations exceeds 3000.\n",
            "To enable adjustments, add the argument 'lmerTest.limit = 463405' (or larger)\n",
            "[or, globally, 'set emm_options(lmerTest.limit = 463405)' or larger];\n",
            "but be warned that this may result in large computation time and memory use.\n",
            "\n",
            "R[write to console]: Note: adjust = \"tukey\" was changed to \"sidak\"\n",
            "because \"tukey\" is only appropriate for one set of pairwise comparisons\n",
            "\n"
          ],
          "name": "stderr"
        },
        {
          "output_type": "stream",
          "text": [
            "CalvingSeason = Autumn:\n",
            " Hour lsmean     SE  df asymp.LCL asymp.UCL .group     \n",
            " 2      1.77 0.0322 Inf      1.68      1.87  a         \n",
            " 0      2.22 0.0322 Inf      2.12      2.31   b        \n",
            " 22     2.47 0.0322 Inf      2.38      2.57    c       \n",
            " 4      2.68 0.0322 Inf      2.59      2.77     d      \n",
            " 20     3.00 0.0322 Inf      2.90      3.09      e     \n",
            " 18     3.97 0.0322 Inf      3.88      4.07       f    \n",
            " 12     4.18 0.0322 Inf      4.09      4.27        g   \n",
            " 14     4.19 0.0322 Inf      4.10      4.28        g   \n",
            " 6      4.28 0.0322 Inf      4.19      4.37        gh  \n",
            " 16     4.37 0.0322 Inf      4.27      4.46         h  \n",
            " 10     4.37 0.0322 Inf      4.27      4.46         h  \n",
            " 8      4.52 0.0322 Inf      4.43      4.62          i \n",
            "\n",
            "CalvingSeason = Spring:\n",
            " Hour lsmean     SE  df asymp.LCL asymp.UCL .group     \n",
            " 2      1.78 0.0342 Inf      1.68      1.88  a         \n",
            " 0      2.19 0.0342 Inf      2.09      2.29   b        \n",
            " 22     2.45 0.0342 Inf      2.36      2.55    c       \n",
            " 4      2.85 0.0342 Inf      2.75      2.95     d      \n",
            " 20     2.93 0.0342 Inf      2.83      3.03     d      \n",
            " 18     3.97 0.0342 Inf      3.87      4.07      e     \n",
            " 16     4.46 0.0342 Inf      4.36      4.56       f    \n",
            " 12     4.50 0.0342 Inf      4.40      4.60       f    \n",
            " 10     4.63 0.0342 Inf      4.54      4.73        g   \n",
            " 14     4.75 0.0342 Inf      4.65      4.84        gh  \n",
            " 6      4.86 0.0342 Inf      4.76      4.96         h  \n",
            " 8      5.13 0.0342 Inf      5.03      5.23          i \n",
            "\n",
            "CalvingSeason = Summer:\n",
            " Hour lsmean     SE  df asymp.LCL asymp.UCL .group     \n",
            " 2      1.69 0.0318 Inf      1.60      1.78  a         \n",
            " 0      2.16 0.0318 Inf      2.07      2.25   b        \n",
            " 22     2.39 0.0318 Inf      2.30      2.48    c       \n",
            " 4      2.64 0.0318 Inf      2.55      2.73     d      \n",
            " 20     2.84 0.0318 Inf      2.75      2.94      e     \n",
            " 18     3.77 0.0318 Inf      3.67      3.86       f    \n",
            " 12     3.92 0.0318 Inf      3.83      4.01        g   \n",
            " 10     4.08 0.0318 Inf      3.99      4.17         h  \n",
            " 6      4.12 0.0318 Inf      4.03      4.21         h  \n",
            " 14     4.15 0.0318 Inf      4.06      4.24         hi \n",
            " 8      4.24 0.0318 Inf      4.15      4.33          i \n",
            " 16     4.38 0.0318 Inf      4.29      4.47           j\n",
            "\n",
            "CalvingSeason = Winter:\n",
            " Hour lsmean     SE  df asymp.LCL asymp.UCL .group     \n",
            " 2      1.81 0.0344 Inf      1.71      1.90  a         \n",
            " 0      2.20 0.0343 Inf      2.10      2.30   b        \n",
            " 22     2.50 0.0343 Inf      2.40      2.60    c       \n",
            " 4      2.95 0.0343 Inf      2.86      3.05     d      \n",
            " 20     3.00 0.0343 Inf      2.90      3.10     d      \n",
            " 18     4.12 0.0343 Inf      4.02      4.22      e     \n",
            " 16     4.59 0.0343 Inf      4.49      4.69       f    \n",
            " 12     4.84 0.0343 Inf      4.74      4.93        g   \n",
            " 10     4.89 0.0344 Inf      4.79      4.99        g   \n",
            " 6      4.89 0.0344 Inf      4.79      4.99        g   \n",
            " 14     4.93 0.0343 Inf      4.83      5.03        g   \n",
            " 8      5.35 0.0344 Inf      5.26      5.45         h  \n",
            "\n",
            "Results are averaged over the levels of: MonthsInMilk, Parity, MilkingType \n",
            "Degrees-of-freedom method: asymptotic \n",
            "Confidence level used: 0.95 \n",
            "Conf-level adjustment: sidak method for 12 estimates \n",
            "P value adjustment: tukey method for comparing a family of 12 estimates \n",
            "significance level used: alpha = 0.05 \n"
          ],
          "name": "stdout"
        }
      ]
    },
    {
      "cell_type": "code",
      "metadata": {
        "colab": {
          "base_uri": "https://localhost:8080/",
          "height": 497
        },
        "id": "v84_8sAP_3qL",
        "outputId": "6f7d21c7-d4c1-42a1-a2ea-9925248d3105"
      },
      "source": [
        "%%R\n",
        "dfPValues <- summary(LSMs)[[2]]\n",
        "dfLMSs <- summary(LSMs)[[1]]\n",
        "dfLMSs %>% \n",
        "  mutate(label = if_else(Hour == max(as.numeric(Hour)), as.character(CalvingSeason), NA_character_)) %>%\n",
        "  ggplot(\n",
        "  aes(\n",
        "    x=Hour,\n",
        "    y=lsmean,\n",
        "    group=CalvingSeason, \n",
        "    color=CalvingSeason)\n",
        "    ) +\n",
        "  geom_line() +  \n",
        "  geom_errorbar(\n",
        "    aes(ymin=asymp.LCL, \n",
        "        ymax=asymp.UCL), \n",
        "    width=.2,\n",
        "    position=position_dodge(0.05)) +\n",
        "  labs(\n",
        "    title = \"Walking time (min/2hours)\", \n",
        "    y=\"Minutes per two hours\" , \n",
        "    x = \"Hour\") +\n",
        "  theme_bw() +\n",
        "  theme(plot.title = element_text(hjust = 0.5),\n",
        "        panel.border = element_blank(), \n",
        "        panel.grid.major = element_blank(),\n",
        "        panel.grid.minor = element_blank(), \n",
        "        axis.line = element_line(colour = \"black\"))"
      ],
      "execution_count": null,
      "outputs": [
        {
          "output_type": "display_data",
          "data": {
            "image/png": "[encoded data removed]"
          },
          "metadata": {
            "tags": []
          }
        }
      ]
    }
  ]
}