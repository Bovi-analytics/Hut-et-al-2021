{
  "nbformat": 4,
  "nbformat_minor": 0,
  "metadata": {
    "colab": {
      "name": "LyingTime 24h pattern",
      "provenance": [],
      "collapsed_sections": [],
      "toc_visible": true,
      "include_colab_link": true
    },
    "kernelspec": {
      "name": "python3",
      "display_name": "Python 3"
    }
  },
  "cells": [
    {
      "cell_type": "markdown",
      "metadata": {
        "id": "view-in-github",
        "colab_type": "text"
      },
      "source": [
        "<a href=\"https://colab.research.google.com/github/Bovi-analytics/hut-et-al-2021/blob/master/LyingTime_24h_pattern.ipynb\" target=\"_parent\"><img src=\"https://colab.research.google.com/assets/colab-badge.svg\" alt=\"Open In Colab\"/></a>"
      ]
    },
    {
      "cell_type": "markdown",
      "metadata": {
        "id": "0ZXqGuWeRVNG"
      },
      "source": [
        "# Statistical notebook for lying time"
      ]
    },
    {
      "cell_type": "markdown",
      "metadata": {
        "id": "HM7fayKpRa2o"
      },
      "source": [
        "## Importing of google drive"
      ]
    },
    {
      "cell_type": "code",
      "metadata": {
        "colab": {
          "base_uri": "https://localhost:8080/"
        },
        "id": "WCUSUtqb21vg",
        "outputId": "d14a287a-80c5-4891-c0e2-248dbf9817ab"
      },
      "source": [
        "from google.colab import drive\n",
        "drive.mount('/content/drive')"
      ],
      "execution_count": null,
      "outputs": [
        {
          "output_type": "stream",
          "text": [
            "Mounted at /content/drive\n"
          ],
          "name": "stdout"
        }
      ]
    },
    {
      "cell_type": "markdown",
      "metadata": {
        "id": "V6ojXK7xRg6h"
      },
      "source": [
        "## R loading"
      ]
    },
    {
      "cell_type": "code",
      "metadata": {
        "id": "TxkiqsiB23Kg"
      },
      "source": [
        "%reload_ext rpy2.ipython"
      ],
      "execution_count": null,
      "outputs": []
    },
    {
      "cell_type": "code",
      "metadata": {
        "id": "cB4PV1fGpD0w"
      },
      "source": [
        "%%R\n",
        "lib_loc <- \"/content/drive/Shareddrives/Bovi-Analytics/R-lib/\""
      ],
      "execution_count": null,
      "outputs": []
    },
    {
      "cell_type": "code",
      "metadata": {
        "colab": {
          "base_uri": "https://localhost:8080/"
        },
        "id": "-t6ZHc7ppEjR",
        "outputId": "3a6aafe4-b303-40d0-cf25-18b9f22a4a2d"
      },
      "source": [
        "%%R\n",
        "package_list <- c(\"ggplot2\",\n",
        "                  \"readr\",\n",
        "                  \"plyr\",\n",
        "                  \"dplyr\",\n",
        "                  \"tidyr\",                \n",
        "                  \"lme4\",\n",
        "                  \"lmerTest\",\n",
        "                  \"multcompView\",\n",
        "                  \"mvtnorm\",\n",
        "                  \"TH.data\",\n",
        "                  \"multcomp\",\n",
        "                  \"emmeans\",\n",
        "                  \"lsmeans\",\n",
        "                  \"carData\",\n",
        "                  \"car\"\n",
        "                  )\n",
        "\n",
        "for (pkg in package_list) {\n",
        "  if (pkg %in% rownames(.packages()) == FALSE)\n",
        "  {library(pkg, lib.loc = lib_loc, character.only = TRUE)}\n",
        "\n",
        "}"
      ],
      "execution_count": null,
      "outputs": [
        {
          "output_type": "stream",
          "text": [
            "R[write to console]: \n",
            "Attaching package: ‘dplyr’\n",
            "\n",
            "\n",
            "R[write to console]: The following objects are masked from ‘package:plyr’:\n",
            "\n",
            "    arrange, count, desc, failwith, id, mutate, rename, summarise,\n",
            "    summarize\n",
            "\n",
            "\n",
            "R[write to console]: The following objects are masked from ‘package:stats’:\n",
            "\n",
            "    filter, lag\n",
            "\n",
            "\n",
            "R[write to console]: The following objects are masked from ‘package:base’:\n",
            "\n",
            "    intersect, setdiff, setequal, union\n",
            "\n",
            "\n",
            "R[write to console]: Loading required package: Matrix\n",
            "\n",
            "R[write to console]: \n",
            "Attaching package: ‘Matrix’\n",
            "\n",
            "\n",
            "R[write to console]: The following objects are masked from ‘package:tidyr’:\n",
            "\n",
            "    expand, pack, unpack\n",
            "\n",
            "\n",
            "R[write to console]: \n",
            "Attaching package: ‘lmerTest’\n",
            "\n",
            "\n",
            "R[write to console]: The following object is masked from ‘package:lme4’:\n",
            "\n",
            "    lmer\n",
            "\n",
            "\n",
            "R[write to console]: The following object is masked from ‘package:stats’:\n",
            "\n",
            "    step\n",
            "\n",
            "\n",
            "R[write to console]: Loading required package: survival\n",
            "\n",
            "R[write to console]: Loading required package: MASS\n",
            "\n",
            "R[write to console]: \n",
            "Attaching package: ‘MASS’\n",
            "\n",
            "\n",
            "R[write to console]: The following object is masked from ‘package:dplyr’:\n",
            "\n",
            "    select\n",
            "\n",
            "\n",
            "R[write to console]: \n",
            "Attaching package: ‘TH.data’\n",
            "\n",
            "\n",
            "R[write to console]: The following object is masked from ‘package:MASS’:\n",
            "\n",
            "    geyser\n",
            "\n",
            "\n",
            "R[write to console]: The 'lsmeans' package is now basically a front end for 'emmeans'.\n",
            "Users are encouraged to switch the rest of the way.\n",
            "See help('transition') for more information, including how to\n",
            "convert old 'lsmeans' objects and scripts to work with 'emmeans'.\n",
            "\n",
            "R[write to console]: Registered S3 methods overwritten by 'car':\n",
            "  method                          from\n",
            "  influence.merMod                lme4\n",
            "  cooks.distance.influence.merMod lme4\n",
            "  dfbeta.influence.merMod         lme4\n",
            "  dfbetas.influence.merMod        lme4\n",
            "\n",
            "R[write to console]: \n",
            "Attaching package: ‘car’\n",
            "\n",
            "\n",
            "R[write to console]: The following object is masked from ‘package:dplyr’:\n",
            "\n",
            "    recode\n",
            "\n",
            "\n"
          ],
          "name": "stderr"
        }
      ]
    },
    {
      "cell_type": "code",
      "metadata": {
        "id": "3NZjlfD3R7PS"
      },
      "source": [
        "%%R\n",
        "options(warn=-1)"
      ],
      "execution_count": null,
      "outputs": []
    },
    {
      "cell_type": "markdown",
      "metadata": {
        "id": "12b5wnMFR8c1"
      },
      "source": [
        "## Data loading into dataframe"
      ]
    },
    {
      "cell_type": "code",
      "metadata": {
        "id": "EdsoTgv63LDl"
      },
      "source": [
        "%%R\n",
        "\n",
        "#path <- \"/content/drive/Shareddrives/Bovi-Analytics/Projects/SenseOfSensors/CsvData/SensorAggRepartitioned08032021/ObservationType=LyingTimeMinutesPer2Hours/part-00000-tid-183333261268000902-29b42dfd-564e-4e7d-8ea7-05b4fb30d5d6-1694-25.c000.csv\"\n",
        "AnalysisData <- \n",
        "  readr::read_csv(\"/content/drive/Shareddrives/Bovi-Analytics/Projects/SenseOfSensors/CsvData/SensorAggRepartitioned08032021/ObservationType=LyingTimeMinutesPer2Hours/part-00000-tid-183333261268000902-29b42dfd-564e-4e7d-8ea7-05b4fb30d5d6-1694-25.c000.csv\", \n",
        "    col_types = readr::cols(HerdIdentifier = readr::col_character(), \n",
        "        TransitionLactationNumber = readr::col_integer(), \n",
        "        TransitionParity = readr::col_character(), \n",
        "        TransitionMonthsInMilk = readr::col_integer(), \n",
        "        TransitionCalvingDate = readr::col_character(), \n",
        "        Hour = readr::col_integer(), \n",
        "        Observations = readr::col_integer())) %>% \n",
        "  dplyr::filter(dplyr::between(TransitionMonthsInMilk, 1, 10)) %>%\n",
        "  dplyr::mutate(\n",
        "    AnimalIdentifier = factor(AnimalIdentifier),\n",
        "    HerdIdentifier = factor(HerdIdentifier),\n",
        "    Parity = factor(TransitionParity),\n",
        "    MonthsInMilk = factor(TransitionMonthsInMilk),\n",
        "    CalvingSeason = factor(TransitionSeason),\n",
        "    Hour = factor(Hour),\n",
        "    SensorValue = ObservationValue,\n",
        "    MilkingType = factor(case_when(\n",
        "    HerdIdentifier %in% c(\"544\", \"2514\", \"3314\")~\"AMS\",\n",
        "    TRUE~\"CMS\"\n",
        "  ))\n",
        "  ) %>%\n",
        "  dplyr::select(AnimalIdentifier, HerdIdentifier, Parity, MonthsInMilk, CalvingSeason, Hour, SensorValue, MilkingType) %>%\n",
        "  tidyr::drop_na()"
      ],
      "execution_count": null,
      "outputs": []
    },
    {
      "cell_type": "code",
      "metadata": {
        "colab": {
          "base_uri": "https://localhost:8080/"
        },
        "id": "15QG_XdXSO0G",
        "outputId": "6a21df68-b9b9-4cbb-b00a-ace1094cec29"
      },
      "source": [
        "%%R\n",
        "head(AnalysisData)"
      ],
      "execution_count": null,
      "outputs": [
        {
          "output_type": "stream",
          "text": [
            "# A tibble: 6 x 8\n",
            "  AnimalIdentifier HerdIdentifier Parity MonthsInMilk CalvingSeason Hour \n",
            "  <fct>            <fct>          <fct>  <fct>        <fct>         <fct>\n",
            "1 8312             2011           3+     3            Autumn        16   \n",
            "2 1304             5888           3+     1            Summer        10   \n",
            "3 8312             2011           3+     5            Summer        16   \n",
            "4 1304             5888           3+     6            Summer        10   \n",
            "5 1304             5888           1      5            Summer        12   \n",
            "6 1304             5888           3+     3            Summer        18   \n",
            "# … with 2 more variables: SensorValue <dbl>, MilkingType <fct>\n"
          ],
          "name": "stdout"
        }
      ]
    },
    {
      "cell_type": "code",
      "metadata": {
        "colab": {
          "base_uri": "https://localhost:8080/"
        },
        "id": "GfEcJ2sASR68",
        "outputId": "3994d96a-b1c4-4841-d90c-d803d3b5db3e"
      },
      "source": [
        "%%R\n",
        "str(AnalysisData)"
      ],
      "execution_count": null,
      "outputs": [
        {
          "output_type": "stream",
          "text": [
            "tibble[,8] [426,442 × 8] (S3: tbl_df/tbl/data.frame)\n",
            " $ AnimalIdentifier: Factor w/ 1041 levels \"1\",\"2\",\"3\",\"4\",..: 732 500 732 500 500 500 473 1016 118 118 ...\n",
            " $ HerdIdentifier  : Factor w/ 8 levels \"2011\",\"2297\",..: 1 8 1 8 8 8 8 1 7 7 ...\n",
            " $ Parity          : Factor w/ 3 levels \"1\",\"2\",\"3+\": 3 3 3 3 1 3 2 1 3 3 ...\n",
            " $ MonthsInMilk    : Factor w/ 10 levels \"1\",\"2\",\"3\",\"4\",..: 3 1 5 6 5 3 6 2 2 7 ...\n",
            " $ CalvingSeason   : Factor w/ 4 levels \"Autumn\",\"Spring\",..: 1 3 3 3 3 3 3 2 4 2 ...\n",
            " $ Hour            : Factor w/ 12 levels \"0\",\"2\",\"4\",\"6\",..: 9 6 9 6 7 10 6 7 1 2 ...\n",
            " $ SensorValue     : num [1:426442] 55.07 36.13 41.95 6.53 54.27 ...\n",
            " $ MilkingType     : Factor w/ 2 levels \"AMS\",\"CMS\": 2 2 2 2 2 2 2 2 1 1 ...\n"
          ],
          "name": "stdout"
        }
      ]
    },
    {
      "cell_type": "markdown",
      "metadata": {
        "id": "Kengj9LKSTzP"
      },
      "source": [
        "## Descriptive statistics"
      ]
    },
    {
      "cell_type": "code",
      "metadata": {
        "colab": {
          "base_uri": "https://localhost:8080/"
        },
        "id": "MPZuqboxSXRI",
        "outputId": "5f27d537-56ab-4d28-ea70-b5a74bd10024"
      },
      "source": [
        "%%R\n",
        "AnalysisData %>% group_by(\"Parity\") %>% n_distinct()"
      ],
      "execution_count": null,
      "outputs": [
        {
          "output_type": "stream",
          "text": [
            "[1] 426398\n"
          ],
          "name": "stdout"
        }
      ]
    },
    {
      "cell_type": "code",
      "metadata": {
        "colab": {
          "base_uri": "https://localhost:8080/"
        },
        "id": "6jEf-JwISa0A",
        "outputId": "f9d0ad88-b767-4c51-8ad3-1d20bb9b4cc6"
      },
      "source": [
        "%%R\n",
        "AnalysisData %>%\n",
        "  group_by(Parity) %>%\n",
        "  summarise(Unique_Elements = n_distinct(AnimalIdentifier))"
      ],
      "execution_count": null,
      "outputs": [
        {
          "output_type": "stream",
          "text": [
            "# A tibble: 3 x 2\n",
            "  Parity Unique_Elements\n",
            "  <fct>            <int>\n",
            "1 1                  689\n",
            "2 2                  682\n",
            "3 3+                 723\n"
          ],
          "name": "stdout"
        }
      ]
    },
    {
      "cell_type": "code",
      "metadata": {
        "colab": {
          "base_uri": "https://localhost:8080/"
        },
        "id": "Z1x3r9hoScOJ",
        "outputId": "401cb99f-d018-4531-c021-0e4858e75443"
      },
      "source": [
        "%%R\n",
        "AnalysisData %>%\n",
        "  summarise(Unique_Elements = n_distinct(AnimalIdentifier))"
      ],
      "execution_count": null,
      "outputs": [
        {
          "output_type": "stream",
          "text": [
            "# A tibble: 1 x 1\n",
            "  Unique_Elements\n",
            "            <int>\n",
            "1            1041\n"
          ],
          "name": "stdout"
        }
      ]
    },
    {
      "cell_type": "markdown",
      "metadata": {
        "id": "iGK3NuazSedj"
      },
      "source": [
        "# Model building"
      ]
    },
    {
      "cell_type": "markdown",
      "metadata": {
        "id": "OpWUgmBwSif4"
      },
      "source": [
        "First we determine the null model"
      ]
    },
    {
      "cell_type": "markdown",
      "metadata": {
        "id": "INEkibLcSl1S"
      },
      "source": [
        "## Null model"
      ]
    },
    {
      "cell_type": "code",
      "metadata": {
        "id": "vJ9hTKsLSo3m"
      },
      "source": [
        "%%R\n",
        "Model.0 <- lme4::lmer(\n",
        "                  SensorValue ~ 1 + (1| HerdIdentifier:AnimalIdentifier), \n",
        "                  data = AnalysisData\n",
        "                  )"
      ],
      "execution_count": null,
      "outputs": []
    },
    {
      "cell_type": "markdown",
      "metadata": {
        "id": "RwFjvmVgSufs"
      },
      "source": [
        "## Univariable models"
      ]
    },
    {
      "cell_type": "code",
      "metadata": {
        "colab": {
          "base_uri": "https://localhost:8080/"
        },
        "id": "-N6yOCrrSyJ3",
        "outputId": "5840bf11-cbb1-4439-bd88-2b8e7d645b9a"
      },
      "source": [
        "%%R\n",
        "Model1.0 <- lme4::lmer(\n",
        "                  SensorValue ~ \n",
        "                  MonthsInMilk + \n",
        "                  (1| HerdIdentifier:AnimalIdentifier),\n",
        "                  REML = FALSE,\n",
        "                  data = AnalysisData\n",
        ")\n",
        "anova(Model.0,Model1.0,test=\"Chisq\")"
      ],
      "execution_count": null,
      "outputs": [
        {
          "output_type": "stream",
          "text": [
            "R[write to console]: refitting model(s) with ML (instead of REML)\n",
            "\n"
          ],
          "name": "stderr"
        },
        {
          "output_type": "stream",
          "text": [
            "Data: AnalysisData\n",
            "Models:\n",
            "Model.0: SensorValue ~ 1 + (1 | HerdIdentifier:AnimalIdentifier)\n",
            "Model1.0: SensorValue ~ MonthsInMilk + (1 | HerdIdentifier:AnimalIdentifier)\n",
            "         npar     AIC     BIC   logLik deviance  Chisq Df Pr(>Chisq)    \n",
            "Model.0     3 3819303 3819335 -1909648  3819297                         \n",
            "Model1.0   12 3814016 3814147 -1906996  3813992 5304.6  9  < 2.2e-16 ***\n",
            "---\n",
            "Signif. codes:  0 ‘***’ 0.001 ‘**’ 0.01 ‘*’ 0.05 ‘.’ 0.1 ‘ ’ 1\n"
          ],
          "name": "stdout"
        }
      ]
    },
    {
      "cell_type": "code",
      "metadata": {
        "colab": {
          "base_uri": "https://localhost:8080/"
        },
        "id": "SeLmaO5MS1ku",
        "outputId": "26e8eadc-2b39-4876-81be-de5464d9d571"
      },
      "source": [
        "%%R\n",
        "Model1.1 <- lme4::lmer(\n",
        "                  SensorValue ~ \n",
        "                  Parity + \n",
        "                  (1| HerdIdentifier:AnimalIdentifier),\n",
        "                  REML = FALSE,\n",
        "                  data = AnalysisData\n",
        "                  )\n",
        "anova(Model.0,Model1.1,test=\"Chisq\")"
      ],
      "execution_count": null,
      "outputs": [
        {
          "output_type": "stream",
          "text": [
            "R[write to console]: refitting model(s) with ML (instead of REML)\n",
            "\n"
          ],
          "name": "stderr"
        },
        {
          "output_type": "stream",
          "text": [
            "Data: AnalysisData\n",
            "Models:\n",
            "Model.0: SensorValue ~ 1 + (1 | HerdIdentifier:AnimalIdentifier)\n",
            "Model1.1: SensorValue ~ Parity + (1 | HerdIdentifier:AnimalIdentifier)\n",
            "         npar     AIC     BIC   logLik deviance  Chisq Df Pr(>Chisq)    \n",
            "Model.0     3 3819303 3819335 -1909648  3819297                         \n",
            "Model1.1    5 3818888 3818943 -1909439  3818878 418.05  2  < 2.2e-16 ***\n",
            "---\n",
            "Signif. codes:  0 ‘***’ 0.001 ‘**’ 0.01 ‘*’ 0.05 ‘.’ 0.1 ‘ ’ 1\n"
          ],
          "name": "stdout"
        }
      ]
    },
    {
      "cell_type": "code",
      "metadata": {
        "colab": {
          "base_uri": "https://localhost:8080/"
        },
        "id": "mQcukEY_S3Gw",
        "outputId": "5db4ee0b-7658-4a9e-9c7f-711dae3b40fc"
      },
      "source": [
        "%%R\n",
        "Model1.2 <- lme4::lmer(\n",
        "                  SensorValue ~ \n",
        "                  HerdIdentifier + \n",
        "                  (1| HerdIdentifier:AnimalIdentifier),\n",
        "                  REML = FALSE,\n",
        "                  data = AnalysisData\n",
        "                  )\n",
        "anova(Model.0,Model1.2,test=\"Chisq\")"
      ],
      "execution_count": null,
      "outputs": [
        {
          "output_type": "stream",
          "text": [
            "R[write to console]: refitting model(s) with ML (instead of REML)\n",
            "\n"
          ],
          "name": "stderr"
        },
        {
          "output_type": "stream",
          "text": [
            "Data: AnalysisData\n",
            "Models:\n",
            "Model.0: SensorValue ~ 1 + (1 | HerdIdentifier:AnimalIdentifier)\n",
            "Model1.2: SensorValue ~ HerdIdentifier + (1 | HerdIdentifier:AnimalIdentifier)\n",
            "         npar     AIC     BIC   logLik deviance  Chisq Df Pr(>Chisq)    \n",
            "Model.0     3 3819303 3819335 -1909648  3819297                         \n",
            "Model1.2   10 3819073 3819183 -1909527  3819053 243.35  7  < 2.2e-16 ***\n",
            "---\n",
            "Signif. codes:  0 ‘***’ 0.001 ‘**’ 0.01 ‘*’ 0.05 ‘.’ 0.1 ‘ ’ 1\n"
          ],
          "name": "stdout"
        }
      ]
    },
    {
      "cell_type": "code",
      "metadata": {
        "colab": {
          "base_uri": "https://localhost:8080/"
        },
        "id": "NEryHhNrS5Tb",
        "outputId": "caebacea-2bd5-4c8c-fc44-14df4365b184"
      },
      "source": [
        "%%R\n",
        "Model1.3 <- lme4::lmer(\n",
        "                  SensorValue ~ \n",
        "                  CalvingSeason +\n",
        "                  (1| HerdIdentifier:AnimalIdentifier),\n",
        "                  REML = FALSE,\n",
        "                  data = AnalysisData\n",
        "                  )\n",
        "anova(Model.0,Model1.3,test=\"Chisq\")"
      ],
      "execution_count": null,
      "outputs": [
        {
          "output_type": "stream",
          "text": [
            "R[write to console]: refitting model(s) with ML (instead of REML)\n",
            "\n"
          ],
          "name": "stderr"
        },
        {
          "output_type": "stream",
          "text": [
            "Data: AnalysisData\n",
            "Models:\n",
            "Model.0: SensorValue ~ 1 + (1 | HerdIdentifier:AnimalIdentifier)\n",
            "Model1.3: SensorValue ~ CalvingSeason + (1 | HerdIdentifier:AnimalIdentifier)\n",
            "         npar     AIC     BIC   logLik deviance  Chisq Df Pr(>Chisq)    \n",
            "Model.0     3 3819303 3819335 -1909648  3819297                         \n",
            "Model1.3    6 3819137 3819202 -1909562  3819125 171.92  3  < 2.2e-16 ***\n",
            "---\n",
            "Signif. codes:  0 ‘***’ 0.001 ‘**’ 0.01 ‘*’ 0.05 ‘.’ 0.1 ‘ ’ 1\n"
          ],
          "name": "stdout"
        }
      ]
    },
    {
      "cell_type": "code",
      "metadata": {
        "colab": {
          "base_uri": "https://localhost:8080/"
        },
        "id": "C72MZARdS-Zx",
        "outputId": "7344e9f7-60fe-4a9f-83fd-9cb220f87bab"
      },
      "source": [
        "%%R\n",
        "Model1.4 <- lme4::lmer(\n",
        "                  SensorValue ~ \n",
        "                  Hour +\n",
        "                  (1| HerdIdentifier:AnimalIdentifier),\n",
        "                  REML = FALSE,\n",
        "                  data = AnalysisData\n",
        "                  )\n",
        "anova(Model.0,Model1.4,test=\"Chisq\")"
      ],
      "execution_count": null,
      "outputs": [
        {
          "output_type": "stream",
          "text": [
            "R[write to console]: refitting model(s) with ML (instead of REML)\n",
            "\n"
          ],
          "name": "stderr"
        },
        {
          "output_type": "stream",
          "text": [
            "Data: AnalysisData\n",
            "Models:\n",
            "Model.0: SensorValue ~ 1 + (1 | HerdIdentifier:AnimalIdentifier)\n",
            "Model1.4: SensorValue ~ Hour + (1 | HerdIdentifier:AnimalIdentifier)\n",
            "         npar     AIC     BIC   logLik deviance  Chisq Df Pr(>Chisq)    \n",
            "Model.0     3 3819303 3819335 -1909648  3819297                         \n",
            "Model1.4   14 3683776 3683929 -1841874  3683748 135549 11  < 2.2e-16 ***\n",
            "---\n",
            "Signif. codes:  0 ‘***’ 0.001 ‘**’ 0.01 ‘*’ 0.05 ‘.’ 0.1 ‘ ’ 1\n"
          ],
          "name": "stdout"
        }
      ]
    },
    {
      "cell_type": "code",
      "metadata": {
        "colab": {
          "base_uri": "https://localhost:8080/"
        },
        "id": "yqvNiAz7TB5Q",
        "outputId": "552e9a53-0712-4d41-d84d-c807f835548d"
      },
      "source": [
        "%%R\n",
        "Model1.5 <- lme4::lmer(\n",
        "                  SensorValue ~ \n",
        "                  MilkingType +\n",
        "                  (1| HerdIdentifier:AnimalIdentifier),\n",
        "                  REML = FALSE,\n",
        "                  data = AnalysisData\n",
        "                  )\n",
        "anova(Model.0,Model1.5,test=\"Chisq\")"
      ],
      "execution_count": null,
      "outputs": [
        {
          "output_type": "stream",
          "text": [
            "R[write to console]: refitting model(s) with ML (instead of REML)\n",
            "\n"
          ],
          "name": "stderr"
        },
        {
          "output_type": "stream",
          "text": [
            "Data: AnalysisData\n",
            "Models:\n",
            "Model.0: SensorValue ~ 1 + (1 | HerdIdentifier:AnimalIdentifier)\n",
            "Model1.5: SensorValue ~ MilkingType + (1 | HerdIdentifier:AnimalIdentifier)\n",
            "         npar     AIC     BIC   logLik deviance Chisq Df Pr(>Chisq)    \n",
            "Model.0     3 3819303 3819335 -1909648  3819297                        \n",
            "Model1.5    4 3819181 3819225 -1909586  3819173 123.7  1  < 2.2e-16 ***\n",
            "---\n",
            "Signif. codes:  0 ‘***’ 0.001 ‘**’ 0.01 ‘*’ 0.05 ‘.’ 0.1 ‘ ’ 1\n"
          ],
          "name": "stdout"
        }
      ]
    },
    {
      "cell_type": "markdown",
      "metadata": {
        "id": "jrPntt6JTETj"
      },
      "source": [
        "## Multivariable models"
      ]
    },
    {
      "cell_type": "code",
      "metadata": {
        "id": "sWlfL6UqTIPm"
      },
      "source": [
        "%%R\n",
        "Model2.0 <- lme4::lmer(\n",
        "                  SensorValue ~ \n",
        "                  Parity + MonthsInMilk + CalvingSeason + Hour + MilkingType +\n",
        "                  (1| HerdIdentifier:AnimalIdentifier),\n",
        "                  REML = FALSE,\n",
        "                  data = AnalysisData\n",
        "                  )"
      ],
      "execution_count": null,
      "outputs": []
    },
    {
      "cell_type": "code",
      "metadata": {
        "colab": {
          "base_uri": "https://localhost:8080/"
        },
        "id": "el9m_2-QTN1w",
        "outputId": "4836bb4d-234c-441a-e66a-8de374e95d3c"
      },
      "source": [
        "%%R\n",
        "drop1(Model2.0,test=\"Chisq\")"
      ],
      "execution_count": null,
      "outputs": [
        {
          "output_type": "stream",
          "text": [
            "Single term deletions\n",
            "\n",
            "Model:\n",
            "SensorValue ~ Parity + MonthsInMilk + CalvingSeason + Hour + \n",
            "    MilkingType + (1 | HerdIdentifier:AnimalIdentifier)\n",
            "              npar     AIC    LRT   Pr(Chi)    \n",
            "<none>             3675661                     \n",
            "Parity           2 3675974    316 < 2.2e-16 ***\n",
            "MonthsInMilk     9 3682815   7172 < 2.2e-16 ***\n",
            "CalvingSeason    3 3676087    432 < 2.2e-16 ***\n",
            "Hour            11 3813389 137749 < 2.2e-16 ***\n",
            "MilkingType      1 3675768    109 < 2.2e-16 ***\n",
            "---\n",
            "Signif. codes:  0 ‘***’ 0.001 ‘**’ 0.01 ‘*’ 0.05 ‘.’ 0.1 ‘ ’ 1\n"
          ],
          "name": "stdout"
        }
      ]
    },
    {
      "cell_type": "markdown",
      "metadata": {
        "id": "qmcl5n8UTR_x"
      },
      "source": [
        "## Introduction of interactions"
      ]
    },
    {
      "cell_type": "markdown",
      "metadata": {
        "id": "q1nH-wzrTWLb"
      },
      "source": [
        "### Interactions with MonthsInMilk"
      ]
    },
    {
      "cell_type": "code",
      "metadata": {
        "colab": {
          "base_uri": "https://localhost:8080/"
        },
        "id": "iHsbzknPTaOx",
        "outputId": "b44583ef-6e7e-45f4-c52a-8ba22ce2f8c3"
      },
      "source": [
        "%%R\n",
        "Model2.1 <- lme4::lmer(\n",
        "                  SensorValue ~ \n",
        "                  MonthsInMilk*Parity + Hour + HerdIdentifier + CalvingSeason +\n",
        "                  (1| HerdIdentifier:AnimalIdentifier),\n",
        "                  REML = FALSE,\n",
        "                  data = AnalysisData\n",
        ")\n",
        "anova(Model2.0,Model2.1,test=\"Chisq\")"
      ],
      "execution_count": null,
      "outputs": [
        {
          "output_type": "stream",
          "text": [
            "Data: AnalysisData\n",
            "Models:\n",
            "Model2.0: SensorValue ~ Parity + MonthsInMilk + CalvingSeason + Hour + \n",
            "Model2.0:     MilkingType + (1 | HerdIdentifier:AnimalIdentifier)\n",
            "Model2.1: SensorValue ~ MonthsInMilk * Parity + Hour + HerdIdentifier + \n",
            "Model2.1:     CalvingSeason + (1 | HerdIdentifier:AnimalIdentifier)\n",
            "         npar     AIC     BIC   logLik deviance  Chisq Df Pr(>Chisq)    \n",
            "Model2.0   29 3675661 3675979 -1837802  3675603                         \n",
            "Model2.1   53 3674774 3675356 -1837334  3674668 934.86 24  < 2.2e-16 ***\n",
            "---\n",
            "Signif. codes:  0 ‘***’ 0.001 ‘**’ 0.01 ‘*’ 0.05 ‘.’ 0.1 ‘ ’ 1\n"
          ],
          "name": "stdout"
        }
      ]
    },
    {
      "cell_type": "code",
      "metadata": {
        "colab": {
          "base_uri": "https://localhost:8080/"
        },
        "id": "SFpaV4scTegL",
        "outputId": "7557b1fc-fc91-4e0b-a54c-67d1dd152694"
      },
      "source": [
        "%%R\n",
        "Model2.2 <- lme4::lmer(\n",
        "                  SensorValue ~ \n",
        "                  MonthsInMilk*MilkingType + Parity + Hour + CalvingSeason +\n",
        "                  (1| HerdIdentifier:AnimalIdentifier),\n",
        "                  REML = FALSE,\n",
        "                  data = AnalysisData\n",
        ")\n",
        "anova(Model2.0,Model2.2,test=\"Chisq\")"
      ],
      "execution_count": null,
      "outputs": [
        {
          "output_type": "stream",
          "text": [
            "Data: AnalysisData\n",
            "Models:\n",
            "Model2.0: SensorValue ~ Parity + MonthsInMilk + CalvingSeason + Hour + \n",
            "Model2.0:     MilkingType + (1 | HerdIdentifier:AnimalIdentifier)\n",
            "Model2.2: SensorValue ~ MonthsInMilk * MilkingType + Parity + Hour + CalvingSeason + \n",
            "Model2.2:     (1 | HerdIdentifier:AnimalIdentifier)\n",
            "         npar     AIC     BIC   logLik deviance  Chisq Df Pr(>Chisq)    \n",
            "Model2.0   29 3675661 3675979 -1837802  3675603                         \n",
            "Model2.2   38 3675565 3675981 -1837744  3675489 114.84  9  < 2.2e-16 ***\n",
            "---\n",
            "Signif. codes:  0 ‘***’ 0.001 ‘**’ 0.01 ‘*’ 0.05 ‘.’ 0.1 ‘ ’ 1\n"
          ],
          "name": "stdout"
        }
      ]
    },
    {
      "cell_type": "code",
      "metadata": {
        "colab": {
          "base_uri": "https://localhost:8080/"
        },
        "id": "BIHDnM9STghq",
        "outputId": "548b4cf2-15ca-4e9d-945f-cfd3580917e8"
      },
      "source": [
        "%%R\n",
        "Model2.3 <- lme4::lmer(\n",
        "                  SensorValue ~ \n",
        "                  MonthsInMilk*CalvingSeason + Parity + Hour + MilkingType +\n",
        "                  (1| HerdIdentifier:AnimalIdentifier),\n",
        "                  REML = FALSE,\n",
        "                  data = AnalysisData\n",
        ")\n",
        "anova(Model2.0,Model2.3,test=\"Chisq\")"
      ],
      "execution_count": null,
      "outputs": [
        {
          "output_type": "stream",
          "text": [
            "Data: AnalysisData\n",
            "Models:\n",
            "Model2.0: SensorValue ~ Parity + MonthsInMilk + CalvingSeason + Hour + \n",
            "Model2.0:     MilkingType + (1 | HerdIdentifier:AnimalIdentifier)\n",
            "Model2.3: SensorValue ~ MonthsInMilk * CalvingSeason + Parity + Hour + \n",
            "Model2.3:     MilkingType + (1 | HerdIdentifier:AnimalIdentifier)\n",
            "         npar     AIC     BIC   logLik deviance  Chisq Df Pr(>Chisq)    \n",
            "Model2.0   29 3675661 3675979 -1837802  3675603                         \n",
            "Model2.3   56 3673328 3673942 -1836608  3673216 2387.7 27  < 2.2e-16 ***\n",
            "---\n",
            "Signif. codes:  0 ‘***’ 0.001 ‘**’ 0.01 ‘*’ 0.05 ‘.’ 0.1 ‘ ’ 1\n"
          ],
          "name": "stdout"
        }
      ]
    },
    {
      "cell_type": "markdown",
      "metadata": {
        "id": "JzJRCz_HTjNJ"
      },
      "source": [
        "### Interactions with hour"
      ]
    },
    {
      "cell_type": "code",
      "metadata": {
        "colab": {
          "base_uri": "https://localhost:8080/"
        },
        "id": "XGva82bSTmhL",
        "outputId": "3416293a-e248-4a8f-88c7-2409555607db"
      },
      "source": [
        "%%R\n",
        "Model2.4 <- lme4::lmer(\n",
        "                  SensorValue ~ \n",
        "                  Hour*Parity + MonthsInMilk + CalvingSeason + MilkingType + \n",
        "                  (1| HerdIdentifier:AnimalIdentifier),\n",
        "                  REML = FALSE,\n",
        "                  data = AnalysisData\n",
        ")\n",
        "anova(Model2.0,Model2.4,test=\"Chisq\")"
      ],
      "execution_count": null,
      "outputs": [
        {
          "output_type": "stream",
          "text": [
            "Data: AnalysisData\n",
            "Models:\n",
            "Model2.0: SensorValue ~ Parity + MonthsInMilk + CalvingSeason + Hour + \n",
            "Model2.0:     MilkingType + (1 | HerdIdentifier:AnimalIdentifier)\n",
            "Model2.4: SensorValue ~ Hour * Parity + MonthsInMilk + CalvingSeason + \n",
            "Model2.4:     MilkingType + (1 | HerdIdentifier:AnimalIdentifier)\n",
            "         npar     AIC     BIC   logLik deviance  Chisq Df Pr(>Chisq)    \n",
            "Model2.0   29 3675661 3675979 -1837802  3675603                         \n",
            "Model2.4   51 3673411 3673970 -1836654  3673309 2294.7 22  < 2.2e-16 ***\n",
            "---\n",
            "Signif. codes:  0 ‘***’ 0.001 ‘**’ 0.01 ‘*’ 0.05 ‘.’ 0.1 ‘ ’ 1\n"
          ],
          "name": "stdout"
        }
      ]
    },
    {
      "cell_type": "code",
      "metadata": {
        "colab": {
          "base_uri": "https://localhost:8080/"
        },
        "id": "UPp5YBwaTt53",
        "outputId": "37bb5991-4f70-4415-c14d-a3e832ab2b2c"
      },
      "source": [
        "%%R\n",
        "Model2.5 <- lme4::lmer(\n",
        "                  SensorValue ~ \n",
        "                  Hour*MilkingType + MonthsInMilk + CalvingSeason + Parity + \n",
        "                  (1| HerdIdentifier:AnimalIdentifier),\n",
        "                  REML = FALSE,\n",
        "                  data = AnalysisData\n",
        ")\n",
        "anova(Model2.0,Model2.5,test=\"Chisq\")"
      ],
      "execution_count": null,
      "outputs": [
        {
          "output_type": "stream",
          "text": [
            "Data: AnalysisData\n",
            "Models:\n",
            "Model2.0: SensorValue ~ Parity + MonthsInMilk + CalvingSeason + Hour + \n",
            "Model2.0:     MilkingType + (1 | HerdIdentifier:AnimalIdentifier)\n",
            "Model2.5: SensorValue ~ Hour * MilkingType + MonthsInMilk + CalvingSeason + \n",
            "Model2.5:     Parity + (1 | HerdIdentifier:AnimalIdentifier)\n",
            "         npar     AIC     BIC   logLik deviance Chisq Df Pr(>Chisq)    \n",
            "Model2.0   29 3675661 3675979 -1837802  3675603                        \n",
            "Model2.5   40 3652139 3652578 -1826030  3652059 23544 11  < 2.2e-16 ***\n",
            "---\n",
            "Signif. codes:  0 ‘***’ 0.001 ‘**’ 0.01 ‘*’ 0.05 ‘.’ 0.1 ‘ ’ 1\n"
          ],
          "name": "stdout"
        }
      ]
    },
    {
      "cell_type": "code",
      "metadata": {
        "colab": {
          "base_uri": "https://localhost:8080/"
        },
        "id": "fojdUQHSTxB1",
        "outputId": "c12dc6f3-d326-445a-e927-82e63eef0b56"
      },
      "source": [
        "%%R\n",
        "Model2.6 <- lme4::lmer(\n",
        "                  SensorValue ~ \n",
        "                  Hour*CalvingSeason + MonthsInMilk +  + Parity + MilkingType +\n",
        "                  (1| HerdIdentifier:AnimalIdentifier),\n",
        "                  REML = FALSE,\n",
        "                  data = AnalysisData\n",
        ")\n",
        "anova(Model2.0,Model2.6,test=\"Chisq\")"
      ],
      "execution_count": null,
      "outputs": [
        {
          "output_type": "stream",
          "text": [
            "Data: AnalysisData\n",
            "Models:\n",
            "Model2.0: SensorValue ~ Parity + MonthsInMilk + CalvingSeason + Hour + \n",
            "Model2.0:     MilkingType + (1 | HerdIdentifier:AnimalIdentifier)\n",
            "Model2.6: SensorValue ~ Hour * CalvingSeason + MonthsInMilk + +Parity + \n",
            "Model2.6:     MilkingType + (1 | HerdIdentifier:AnimalIdentifier)\n",
            "         npar     AIC     BIC   logLik deviance  Chisq Df Pr(>Chisq)    \n",
            "Model2.0   29 3675661 3675979 -1837802  3675603                         \n",
            "Model2.6   62 3674742 3675422 -1837309  3674618 985.51 33  < 2.2e-16 ***\n",
            "---\n",
            "Signif. codes:  0 ‘***’ 0.001 ‘**’ 0.01 ‘*’ 0.05 ‘.’ 0.1 ‘ ’ 1\n"
          ],
          "name": "stdout"
        }
      ]
    },
    {
      "cell_type": "markdown",
      "metadata": {
        "id": "7UXgGTYNTzUI"
      },
      "source": [
        "## Multiple interactions"
      ]
    },
    {
      "cell_type": "code",
      "metadata": {
        "colab": {
          "base_uri": "https://localhost:8080/"
        },
        "id": "3LHI4S1qT2Om",
        "outputId": "6b58c544-8140-43b7-d57f-137816de03fa"
      },
      "source": [
        "%%R\n",
        "Model2.7 <- lme4::lmer(\n",
        "                  SensorValue ~ \n",
        "                  MonthsInMilk*Parity + \n",
        "                  MonthsInMilk*MilkingType + \n",
        "                  MonthsInMilk*CalvingSeason + \n",
        "                  Hour*Parity + \n",
        "                  Hour*MilkingType + \n",
        "                  Hour*CalvingSeason + \n",
        "                  (1| HerdIdentifier:AnimalIdentifier),\n",
        "                  REML = FALSE,\n",
        "                  data = AnalysisData\n",
        ")\n",
        "anova(Model2.0,Model2.7,test=\"Chisq\")"
      ],
      "execution_count": null,
      "outputs": [
        {
          "output_type": "stream",
          "text": [
            "Data: AnalysisData\n",
            "Models:\n",
            "Model2.0: SensorValue ~ Parity + MonthsInMilk + CalvingSeason + Hour + \n",
            "Model2.0:     MilkingType + (1 | HerdIdentifier:AnimalIdentifier)\n",
            "Model2.7: SensorValue ~ MonthsInMilk * Parity + MonthsInMilk * MilkingType + \n",
            "Model2.7:     MonthsInMilk * CalvingSeason + Hour * Parity + Hour * MilkingType + \n",
            "Model2.7:     Hour * CalvingSeason + (1 | HerdIdentifier:AnimalIdentifier)\n",
            "         npar     AIC     BIC   logLik deviance Chisq  Df Pr(>Chisq)    \n",
            "Model2.0   29 3675661 3675979 -1837802  3675603                         \n",
            "Model2.7  149 3645972 3647605 -1822837  3645674 29930 120  < 2.2e-16 ***\n",
            "---\n",
            "Signif. codes:  0 ‘***’ 0.001 ‘**’ 0.01 ‘*’ 0.05 ‘.’ 0.1 ‘ ’ 1\n"
          ],
          "name": "stdout"
        }
      ]
    },
    {
      "cell_type": "markdown",
      "metadata": {
        "id": "jiUvWRi4UMv7"
      },
      "source": [
        "# Final model analysis of variance"
      ]
    },
    {
      "cell_type": "code",
      "metadata": {
        "id": "ugWMo_8ZUR5i"
      },
      "source": [
        "%%R\n",
        "finalModel <- Model2.7"
      ],
      "execution_count": null,
      "outputs": []
    },
    {
      "cell_type": "code",
      "metadata": {
        "colab": {
          "base_uri": "https://localhost:8080/"
        },
        "id": "RN2BxA_pUU6s",
        "outputId": "505090cc-6267-4edd-d257-cbc10c904e8a"
      },
      "source": [
        "%%R\n",
        "Anova(finalModel)"
      ],
      "execution_count": null,
      "outputs": [
        {
          "output_type": "stream",
          "text": [
            "Analysis of Deviance Table (Type II Wald chisquare tests)\n",
            "\n",
            "Response: SensorValue\n",
            "                                Chisq Df Pr(>Chisq)    \n",
            "MonthsInMilk                 7759.187  9  < 2.2e-16 ***\n",
            "Parity                        280.500  2  < 2.2e-16 ***\n",
            "MilkingType                   101.578  1  < 2.2e-16 ***\n",
            "CalvingSeason                 459.167  3  < 2.2e-16 ***\n",
            "Hour                       174595.639 11  < 2.2e-16 ***\n",
            "MonthsInMilk:Parity           888.488 18  < 2.2e-16 ***\n",
            "MonthsInMilk:MilkingType       75.574  9  1.217e-12 ***\n",
            "MonthsInMilk:CalvingSeason   2601.568 27  < 2.2e-16 ***\n",
            "Parity:Hour                  2252.364 22  < 2.2e-16 ***\n",
            "MilkingType:Hour            23976.217 11  < 2.2e-16 ***\n",
            "CalvingSeason:Hour            601.026 33  < 2.2e-16 ***\n",
            "---\n",
            "Signif. codes:  0 ‘***’ 0.001 ‘**’ 0.01 ‘*’ 0.05 ‘.’ 0.1 ‘ ’ 1\n"
          ],
          "name": "stdout"
        }
      ]
    },
    {
      "cell_type": "code",
      "metadata": {
        "id": "WDaMSGZ-Uxkf"
      },
      "source": [
        "%%R\n",
        "save(finalModel, file=\"/content/drive/Shareddrives/Bovi-Analytics/Projects/SenseOfSensors/CsvData/SensorAggRepartitioned08032021/finalmodel2hourslyingtime.rdata\")"
      ],
      "execution_count": null,
      "outputs": []
    },
    {
      "cell_type": "markdown",
      "metadata": {
        "id": "a7WhWTqXU2x2"
      },
      "source": [
        "# Final model figures and LSM (95% CI)"
      ]
    },
    {
      "cell_type": "markdown",
      "metadata": {
        "id": "KAdV4zZdU9Sv"
      },
      "source": [
        "## Main effects"
      ]
    },
    {
      "cell_type": "code",
      "metadata": {
        "colab": {
          "base_uri": "https://localhost:8080/"
        },
        "id": "EhMGhyFHVcBv",
        "outputId": "9e391789-d975-41f6-ec16-096bd12c7749"
      },
      "source": [
        "%%R\n",
        "multcomp::cld(lsmeans::lsmeans(finalModel, ~ MonthsInMilk), alpha=0.05, Letters=letters, adjust=\"tukey\")"
      ],
      "execution_count": null,
      "outputs": [
        {
          "output_type": "stream",
          "text": [
            "R[write to console]: Note: D.f. calculations have been disabled because the number of observations exceeds 3000.\n",
            "To enable adjustments, add the argument 'pbkrtest.limit = 426442' (or larger)\n",
            "[or, globally, 'set emm_options(pbkrtest.limit = 426442)' or larger];\n",
            "but be warned that this may result in large computation time and memory use.\n",
            "\n",
            "R[write to console]: Note: D.f. calculations have been disabled because the number of observations exceeds 3000.\n",
            "To enable adjustments, add the argument 'lmerTest.limit = 426442' (or larger)\n",
            "[or, globally, 'set emm_options(lmerTest.limit = 426442)' or larger];\n",
            "but be warned that this may result in large computation time and memory use.\n",
            "\n",
            "R[write to console]: NOTE: Results may be misleading due to involvement in interactions\n",
            "\n",
            "R[write to console]: Note: adjust = \"tukey\" was changed to \"sidak\"\n",
            "because \"tukey\" is only appropriate for one set of pairwise comparisons\n",
            "\n"
          ],
          "name": "stderr"
        },
        {
          "output_type": "stream",
          "text": [
            " MonthsInMilk lsmean    SE  df asymp.LCL asymp.UCL .group   \n",
            " 1              52.4 0.211 Inf      51.8      53.0  a       \n",
            " 2              53.4 0.211 Inf      52.9      54.0   b      \n",
            " 3              54.8 0.210 Inf      54.2      55.3    c     \n",
            " 4              56.2 0.210 Inf      55.6      56.8     d    \n",
            " 5              57.6 0.210 Inf      57.0      58.2      e   \n",
            " 6              58.2 0.210 Inf      57.6      58.8       f  \n",
            " 7              58.7 0.210 Inf      58.1      59.2        g \n",
            " 8              58.9 0.209 Inf      58.3      59.5        g \n",
            " 9              59.0 0.210 Inf      58.5      59.6        gh\n",
            " 10             59.4 0.210 Inf      58.8      60.0         h\n",
            "\n",
            "Results are averaged over the levels of: Parity, MilkingType, CalvingSeason, Hour \n",
            "Degrees-of-freedom method: asymptotic \n",
            "Confidence level used: 0.95 \n",
            "Conf-level adjustment: sidak method for 10 estimates \n",
            "P value adjustment: tukey method for comparing a family of 10 estimates \n",
            "significance level used: alpha = 0.05 \n"
          ],
          "name": "stdout"
        }
      ]
    },
    {
      "cell_type": "code",
      "metadata": {
        "colab": {
          "base_uri": "https://localhost:8080/"
        },
        "id": "5KpZst-BVeAQ",
        "outputId": "3fb5ce23-c8c4-47f8-8182-bb3a89e27389"
      },
      "source": [
        "%%R\n",
        "multcomp::cld(lsmeans::lsmeans(finalModel, ~ Parity), alpha=0.05, Letters=letters, adjust=\"tukey\")"
      ],
      "execution_count": null,
      "outputs": [
        {
          "output_type": "stream",
          "text": [
            "R[write to console]: Note: D.f. calculations have been disabled because the number of observations exceeds 3000.\n",
            "To enable adjustments, add the argument 'pbkrtest.limit = 426442' (or larger)\n",
            "[or, globally, 'set emm_options(pbkrtest.limit = 426442)' or larger];\n",
            "but be warned that this may result in large computation time and memory use.\n",
            "\n",
            "R[write to console]: Note: D.f. calculations have been disabled because the number of observations exceeds 3000.\n",
            "To enable adjustments, add the argument 'lmerTest.limit = 426442' (or larger)\n",
            "[or, globally, 'set emm_options(lmerTest.limit = 426442)' or larger];\n",
            "but be warned that this may result in large computation time and memory use.\n",
            "\n",
            "R[write to console]: NOTE: Results may be misleading due to involvement in interactions\n",
            "\n",
            "R[write to console]: Note: adjust = \"tukey\" was changed to \"sidak\"\n",
            "because \"tukey\" is only appropriate for one set of pairwise comparisons\n",
            "\n"
          ],
          "name": "stderr"
        },
        {
          "output_type": "stream",
          "text": [
            " Parity lsmean    SE  df asymp.LCL asymp.UCL .group\n",
            " 3+       56.0 0.194 Inf      55.6      56.5  a    \n",
            " 2        57.2 0.196 Inf      56.7      57.7   b   \n",
            " 1        57.4 0.197 Inf      56.9      57.8   b   \n",
            "\n",
            "Results are averaged over the levels of: MonthsInMilk, MilkingType, CalvingSeason, Hour \n",
            "Degrees-of-freedom method: asymptotic \n",
            "Confidence level used: 0.95 \n",
            "Conf-level adjustment: sidak method for 3 estimates \n",
            "P value adjustment: tukey method for comparing a family of 3 estimates \n",
            "significance level used: alpha = 0.05 \n"
          ],
          "name": "stdout"
        }
      ]
    },
    {
      "cell_type": "code",
      "metadata": {
        "colab": {
          "base_uri": "https://localhost:8080/"
        },
        "id": "xZ1t452fVftw",
        "outputId": "9a226813-262d-4736-a5b2-4efaecb4d09d"
      },
      "source": [
        "%%R\n",
        "multcomp::cld(lsmeans::lsmeans(finalModel, ~ Hour), alpha=0.05, Letters=letters, adjust=\"tukey\")"
      ],
      "execution_count": null,
      "outputs": [
        {
          "output_type": "stream",
          "text": [
            "R[write to console]: Note: D.f. calculations have been disabled because the number of observations exceeds 3000.\n",
            "To enable adjustments, add the argument 'pbkrtest.limit = 426442' (or larger)\n",
            "[or, globally, 'set emm_options(pbkrtest.limit = 426442)' or larger];\n",
            "but be warned that this may result in large computation time and memory use.\n",
            "\n",
            "R[write to console]: Note: D.f. calculations have been disabled because the number of observations exceeds 3000.\n",
            "To enable adjustments, add the argument 'lmerTest.limit = 426442' (or larger)\n",
            "[or, globally, 'set emm_options(lmerTest.limit = 426442)' or larger];\n",
            "but be warned that this may result in large computation time and memory use.\n",
            "\n",
            "R[write to console]: NOTE: Results may be misleading due to involvement in interactions\n",
            "\n",
            "R[write to console]: Note: adjust = \"tukey\" was changed to \"sidak\"\n",
            "because \"tukey\" is only appropriate for one set of pairwise comparisons\n",
            "\n"
          ],
          "name": "stderr"
        },
        {
          "output_type": "stream",
          "text": [
            " Hour lsmean    SE  df asymp.LCL asymp.UCL .group      \n",
            " 16     35.8 0.214 Inf      35.2      36.4  a          \n",
            " 18     46.2 0.214 Inf      45.6      46.8   b         \n",
            " 14     46.4 0.214 Inf      45.8      47.0   b         \n",
            " 6      52.6 0.214 Inf      52.0      53.2    c        \n",
            " 12     53.9 0.214 Inf      53.3      54.5     d       \n",
            " 8      54.5 0.214 Inf      53.9      55.1      e      \n",
            " 10     56.9 0.214 Inf      56.3      57.6       f     \n",
            " 20     60.5 0.214 Inf      59.8      61.1        g    \n",
            " 4      61.5 0.214 Inf      60.9      62.1         h   \n",
            " 22     66.7 0.214 Inf      66.0      67.3          i  \n",
            " 0      70.6 0.214 Inf      70.0      71.3           j \n",
            " 2      76.8 0.214 Inf      76.1      77.4            k\n",
            "\n",
            "Results are averaged over the levels of: MonthsInMilk, Parity, MilkingType, CalvingSeason \n",
            "Degrees-of-freedom method: asymptotic \n",
            "Confidence level used: 0.95 \n",
            "Conf-level adjustment: sidak method for 12 estimates \n",
            "P value adjustment: tukey method for comparing a family of 12 estimates \n",
            "significance level used: alpha = 0.05 \n"
          ],
          "name": "stdout"
        }
      ]
    },
    {
      "cell_type": "code",
      "metadata": {
        "colab": {
          "base_uri": "https://localhost:8080/"
        },
        "id": "C1bcgQ6YVhj9",
        "outputId": "20469e01-3358-4d8f-b032-42d4d4487fe1"
      },
      "source": [
        "%%R\n",
        "multcomp::cld(lsmeans::lsmeans(finalModel, ~ CalvingSeason), alpha=0.05, Letters=letters, adjust=\"tukey\")"
      ],
      "execution_count": null,
      "outputs": [
        {
          "output_type": "stream",
          "text": [
            "R[write to console]: Note: D.f. calculations have been disabled because the number of observations exceeds 3000.\n",
            "To enable adjustments, add the argument 'pbkrtest.limit = 426442' (or larger)\n",
            "[or, globally, 'set emm_options(pbkrtest.limit = 426442)' or larger];\n",
            "but be warned that this may result in large computation time and memory use.\n",
            "\n",
            "R[write to console]: Note: D.f. calculations have been disabled because the number of observations exceeds 3000.\n",
            "To enable adjustments, add the argument 'lmerTest.limit = 426442' (or larger)\n",
            "[or, globally, 'set emm_options(lmerTest.limit = 426442)' or larger];\n",
            "but be warned that this may result in large computation time and memory use.\n",
            "\n",
            "R[write to console]: NOTE: Results may be misleading due to involvement in interactions\n",
            "\n",
            "R[write to console]: Note: adjust = \"tukey\" was changed to \"sidak\"\n",
            "because \"tukey\" is only appropriate for one set of pairwise comparisons\n",
            "\n"
          ],
          "name": "stderr"
        },
        {
          "output_type": "stream",
          "text": [
            " CalvingSeason lsmean    SE  df asymp.LCL asymp.UCL .group\n",
            " Winter          55.6 0.205 Inf      55.1      56.1  a    \n",
            " Spring          56.3 0.205 Inf      55.8      56.8   b   \n",
            " Autumn          57.4 0.201 Inf      56.9      57.9    c  \n",
            " Summer          58.2 0.201 Inf      57.7      58.7     d \n",
            "\n",
            "Results are averaged over the levels of: MonthsInMilk, Parity, MilkingType, Hour \n",
            "Degrees-of-freedom method: asymptotic \n",
            "Confidence level used: 0.95 \n",
            "Conf-level adjustment: sidak method for 4 estimates \n",
            "P value adjustment: tukey method for comparing a family of 4 estimates \n",
            "significance level used: alpha = 0.05 \n"
          ],
          "name": "stdout"
        }
      ]
    },
    {
      "cell_type": "markdown",
      "metadata": {
        "id": "aHQjJ0urVBWM"
      },
      "source": [
        "## Interactions"
      ]
    },
    {
      "cell_type": "markdown",
      "metadata": {
        "id": "0YTf_qZRVE6c"
      },
      "source": [
        "### Hour by parity"
      ]
    },
    {
      "cell_type": "code",
      "metadata": {
        "colab": {
          "base_uri": "https://localhost:8080/"
        },
        "id": "ncXCurPjVneT",
        "outputId": "4558b291-6381-41ec-c34a-71f2d529e216"
      },
      "source": [
        "%%R\n",
        "LSMs<-lsmeans::lsmeans(finalModel, pairwise ~ Hour|Parity, type = \"response\", glhargs=list())\n",
        "multcomp::cld(LSMs[[1]], alpha=0.05, Letters=letters, adjust=\"tukey\")"
      ],
      "execution_count": null,
      "outputs": [
        {
          "output_type": "stream",
          "text": [
            "R[write to console]: Note: D.f. calculations have been disabled because the number of observations exceeds 3000.\n",
            "To enable adjustments, add the argument 'pbkrtest.limit = 426442' (or larger)\n",
            "[or, globally, 'set emm_options(pbkrtest.limit = 426442)' or larger];\n",
            "but be warned that this may result in large computation time and memory use.\n",
            "\n",
            "R[write to console]: Note: D.f. calculations have been disabled because the number of observations exceeds 3000.\n",
            "To enable adjustments, add the argument 'lmerTest.limit = 426442' (or larger)\n",
            "[or, globally, 'set emm_options(lmerTest.limit = 426442)' or larger];\n",
            "but be warned that this may result in large computation time and memory use.\n",
            "\n",
            "R[write to console]: Note: adjust = \"tukey\" was changed to \"sidak\"\n",
            "because \"tukey\" is only appropriate for one set of pairwise comparisons\n",
            "\n"
          ],
          "name": "stderr"
        },
        {
          "output_type": "stream",
          "text": [
            "Parity = 1:\n",
            " Hour lsmean    SE  df asymp.LCL asymp.UCL .group     \n",
            " 16     36.1 0.267 Inf      35.3      36.9  a         \n",
            " 18     46.3 0.267 Inf      45.5      47.1   b        \n",
            " 14     46.5 0.267 Inf      45.7      47.2   b        \n",
            " 6      51.9 0.267 Inf      51.2      52.7    c       \n",
            " 8      53.4 0.267 Inf      52.6      54.1     d      \n",
            " 12     53.9 0.267 Inf      53.1      54.7     d      \n",
            " 10     56.6 0.267 Inf      55.9      57.4      e     \n",
            " 20     60.5 0.267 Inf      59.8      61.3       f    \n",
            " 4      61.7 0.267 Inf      60.9      62.4        g   \n",
            " 22     68.4 0.267 Inf      67.6      69.2         h  \n",
            " 0      73.3 0.267 Inf      72.5      74.0          i \n",
            " 2      79.8 0.267 Inf      79.0      80.6           j\n",
            "\n",
            "Parity = 2:\n",
            " Hour lsmean    SE  df asymp.LCL asymp.UCL .group     \n",
            " 16     36.2 0.264 Inf      35.4      36.9  a         \n",
            " 14     46.0 0.264 Inf      45.3      46.8   b        \n",
            " 18     46.0 0.264 Inf      45.3      46.8   b        \n",
            " 6      53.1 0.264 Inf      52.4      53.9    c       \n",
            " 12     53.7 0.264 Inf      53.0      54.5    cd      \n",
            " 8      54.1 0.264 Inf      53.4      54.9     d      \n",
            " 10     56.7 0.264 Inf      55.9      57.4      e     \n",
            " 20     61.1 0.264 Inf      60.3      61.8       f    \n",
            " 4      63.1 0.264 Inf      62.3      63.8        g   \n",
            " 22     67.4 0.264 Inf      66.6      68.1         h  \n",
            " 0      71.2 0.264 Inf      70.4      71.9          i \n",
            " 2      77.8 0.264 Inf      77.0      78.5           j\n",
            "\n",
            "Parity = 3+:\n",
            " Hour lsmean    SE  df asymp.LCL asymp.UCL .group     \n",
            " 16     35.1 0.233 Inf      34.5      35.8  a         \n",
            " 18     46.2 0.233 Inf      45.5      46.9   b        \n",
            " 14     46.7 0.233 Inf      46.1      47.4   b        \n",
            " 6      52.7 0.233 Inf      52.1      53.4    c       \n",
            " 12     54.2 0.233 Inf      53.5      54.8     d      \n",
            " 8      56.0 0.233 Inf      55.3      56.6      e     \n",
            " 10     57.5 0.233 Inf      56.8      58.2       f    \n",
            " 4      59.7 0.233 Inf      59.0      60.4        g   \n",
            " 20     59.8 0.233 Inf      59.1      60.5        g   \n",
            " 22     64.2 0.233 Inf      63.5      64.9         h  \n",
            " 0      67.5 0.233 Inf      66.9      68.2          i \n",
            " 2      72.7 0.233 Inf      72.1      73.4           j\n",
            "\n",
            "Results are averaged over the levels of: MonthsInMilk, MilkingType, CalvingSeason \n",
            "Degrees-of-freedom method: asymptotic \n",
            "Confidence level used: 0.95 \n",
            "Conf-level adjustment: sidak method for 12 estimates \n",
            "P value adjustment: tukey method for comparing a family of 12 estimates \n",
            "significance level used: alpha = 0.05 \n"
          ],
          "name": "stdout"
        }
      ]
    },
    {
      "cell_type": "code",
      "metadata": {
        "colab": {
          "base_uri": "https://localhost:8080/",
          "height": 497
        },
        "id": "qTgjsCDoVpow",
        "outputId": "90aba0e5-ab85-4754-e1cc-785e9b0d3487"
      },
      "source": [
        "%%R\n",
        "dfPValues <- summary(LSMs)[[2]]\n",
        "dfLMSs <- summary(LSMs)[[1]]\n",
        "dfLMSs %>% \n",
        "  mutate(label = if_else(Hour == max(as.numeric(Hour)), as.character(Parity), NA_character_)) %>%\n",
        "  ggplot(\n",
        "  aes(\n",
        "    x=Hour,\n",
        "    y=lsmean,\n",
        "    group=Parity, \n",
        "    color=Parity)\n",
        "    ) +\n",
        "  geom_line() +  \n",
        "  geom_errorbar(\n",
        "    aes(ymin=asymp.LCL, \n",
        "        ymax=asymp.UCL), \n",
        "    width=.2,\n",
        "    position=position_dodge(0.05)) +\n",
        "  labs(\n",
        "    title = \"Lying time (min/2hours)\", \n",
        "    y=\"Minutes per two hours\" , \n",
        "    x = \"Hour\") +\n",
        "  theme_bw() +\n",
        "  theme(plot.title = element_text(hjust = 0.5),\n",
        "        panel.border = element_blank(), \n",
        "        panel.grid.major = element_blank(),\n",
        "        panel.grid.minor = element_blank(), \n",
        "        axis.line = element_line(colour = \"black\"))"
      ],
      "execution_count": null,
      "outputs": [
        {
          "output_type": "display_data",
          "data": {
            "image/png": "[encoded data removed]"
          },
          "metadata": {
            "tags": []
          }
        }
      ]
    },
    {
      "cell_type": "markdown",
      "metadata": {
        "id": "3OuZqBlyVLwA"
      },
      "source": [
        "### Hour by milking type"
      ]
    },
    {
      "cell_type": "code",
      "metadata": {
        "colab": {
          "base_uri": "https://localhost:8080/"
        },
        "id": "ZeVG1B2NVwT3",
        "outputId": "cf8a8b0e-e3b8-4c16-ab37-37b3a27d3713"
      },
      "source": [
        "%%R\n",
        "LSMs<-lsmeans::lsmeans(finalModel, pairwise ~ Hour|MilkingType, type = \"response\", glhargs=list())\n",
        "multcomp::cld(LSMs[[1]], alpha=0.05, Letters=letters, adjust=\"tukey\")"
      ],
      "execution_count": null,
      "outputs": [
        {
          "output_type": "stream",
          "text": [
            "R[write to console]: Note: D.f. calculations have been disabled because the number of observations exceeds 3000.\n",
            "To enable adjustments, add the argument 'pbkrtest.limit = 426442' (or larger)\n",
            "[or, globally, 'set emm_options(pbkrtest.limit = 426442)' or larger];\n",
            "but be warned that this may result in large computation time and memory use.\n",
            "\n",
            "R[write to console]: Note: D.f. calculations have been disabled because the number of observations exceeds 3000.\n",
            "To enable adjustments, add the argument 'lmerTest.limit = 426442' (or larger)\n",
            "[or, globally, 'set emm_options(lmerTest.limit = 426442)' or larger];\n",
            "but be warned that this may result in large computation time and memory use.\n",
            "\n",
            "R[write to console]: Note: adjust = \"tukey\" was changed to \"sidak\"\n",
            "because \"tukey\" is only appropriate for one set of pairwise comparisons\n",
            "\n"
          ],
          "name": "stderr"
        },
        {
          "output_type": "stream",
          "text": [
            "MilkingType = AMS:\n",
            " Hour lsmean    SE  df asymp.LCL asymp.UCL .group      \n",
            " 18     42.8 0.354 Inf      41.8      43.8  a          \n",
            " 16     42.8 0.354 Inf      41.8      43.8  a          \n",
            " 14     50.7 0.354 Inf      49.7      51.7   b         \n",
            " 8      51.8 0.354 Inf      50.8      52.9    c        \n",
            " 12     55.6 0.354 Inf      54.5      56.6     d       \n",
            " 20     57.4 0.354 Inf      56.4      58.4      e      \n",
            " 6      57.9 0.354 Inf      56.9      59.0      ef     \n",
            " 10     58.4 0.354 Inf      57.3      59.4       f     \n",
            " 22     66.1 0.354 Inf      65.1      67.1        g    \n",
            " 0      70.0 0.354 Inf      69.0      71.0         h   \n",
            " 4      73.7 0.354 Inf      72.6      74.7          i  \n",
            " 2      78.0 0.354 Inf      77.0      79.0           j \n",
            "\n",
            "MilkingType = CMS:\n",
            " Hour lsmean    SE  df asymp.LCL asymp.UCL .group      \n",
            " 16     28.8 0.237 Inf      28.1      29.5  a          \n",
            " 14     42.1 0.237 Inf      41.4      42.7   b         \n",
            " 6      47.2 0.237 Inf      46.6      47.9    c        \n",
            " 4      49.3 0.237 Inf      48.6      50.0     d       \n",
            " 18     49.6 0.237 Inf      48.9      50.3     d       \n",
            " 12     52.3 0.237 Inf      51.6      53.0      e      \n",
            " 10     55.5 0.237 Inf      54.8      56.2       f     \n",
            " 8      57.1 0.237 Inf      56.4      57.8        g    \n",
            " 20     63.5 0.237 Inf      62.8      64.2         h   \n",
            " 22     67.2 0.237 Inf      66.5      67.9          i  \n",
            " 0      71.3 0.237 Inf      70.6      71.9           j \n",
            " 2      75.5 0.237 Inf      74.8      76.2            k\n",
            "\n",
            "Results are averaged over the levels of: MonthsInMilk, Parity, CalvingSeason \n",
            "Degrees-of-freedom method: asymptotic \n",
            "Confidence level used: 0.95 \n",
            "Conf-level adjustment: sidak method for 12 estimates \n",
            "P value adjustment: tukey method for comparing a family of 12 estimates \n",
            "significance level used: alpha = 0.05 \n"
          ],
          "name": "stdout"
        }
      ]
    },
    {
      "cell_type": "code",
      "metadata": {
        "colab": {
          "base_uri": "https://localhost:8080/",
          "height": 497
        },
        "id": "HLdUAP4WVySP",
        "outputId": "07751d66-e18d-4647-9519-faeb0334ed92"
      },
      "source": [
        "%%R\n",
        "dfPValues <- summary(LSMs)[[2]]\n",
        "dfLMSs <- summary(LSMs)[[1]]\n",
        "dfLMSs %>% \n",
        "  mutate(label = if_else(Hour == max(as.numeric(Hour)), as.character(MilkingType), NA_character_)) %>%\n",
        "  ggplot(\n",
        "  aes(\n",
        "    x=Hour,\n",
        "    y=lsmean,\n",
        "    group=MilkingType, \n",
        "    color=MilkingType)\n",
        "    ) +\n",
        "  geom_line() +  \n",
        "  geom_errorbar(\n",
        "    aes(ymin=asymp.LCL, \n",
        "        ymax=asymp.UCL), \n",
        "    width=.2,\n",
        "    position=position_dodge(0.05)) +\n",
        "  labs(\n",
        "    title = \"Lying time (min/2hours)\", \n",
        "    y=\"Minutes per two hours\" , \n",
        "    x = \"Hour\") +\n",
        "  theme_bw() +\n",
        "  theme(plot.title = element_text(hjust = 0.5),\n",
        "        panel.border = element_blank(), \n",
        "        panel.grid.major = element_blank(),\n",
        "        panel.grid.minor = element_blank(), \n",
        "        axis.line = element_line(colour = \"black\"))"
      ],
      "execution_count": null,
      "outputs": [
        {
          "output_type": "display_data",
          "data": {
            "image/png": "[encoded data removed]"
          },
          "metadata": {
            "tags": []
          }
        }
      ]
    },
    {
      "cell_type": "markdown",
      "metadata": {
        "id": "pNPviFhPVPRY"
      },
      "source": [
        "### Hour by calving season"
      ]
    },
    {
      "cell_type": "code",
      "metadata": {
        "colab": {
          "base_uri": "https://localhost:8080/"
        },
        "id": "cyZ47ty-V5ev",
        "outputId": "d02774e8-dae8-44c7-dbf9-7cea5fda9ebc"
      },
      "source": [
        "%%R\n",
        "LSMs<-lsmeans::lsmeans(finalModel, pairwise ~ Hour|CalvingSeason, type = \"response\", glhargs=list())\n",
        "multcomp::cld(LSMs[[1]], alpha=0.05, Letters=letters, adjust=\"tukey\")"
      ],
      "execution_count": null,
      "outputs": [
        {
          "output_type": "stream",
          "text": [
            "R[write to console]: Note: D.f. calculations have been disabled because the number of observations exceeds 3000.\n",
            "To enable adjustments, add the argument 'pbkrtest.limit = 426442' (or larger)\n",
            "[or, globally, 'set emm_options(pbkrtest.limit = 426442)' or larger];\n",
            "but be warned that this may result in large computation time and memory use.\n",
            "\n",
            "R[write to console]: Note: D.f. calculations have been disabled because the number of observations exceeds 3000.\n",
            "To enable adjustments, add the argument 'lmerTest.limit = 426442' (or larger)\n",
            "[or, globally, 'set emm_options(lmerTest.limit = 426442)' or larger];\n",
            "but be warned that this may result in large computation time and memory use.\n",
            "\n",
            "R[write to console]: Note: adjust = \"tukey\" was changed to \"sidak\"\n",
            "because \"tukey\" is only appropriate for one set of pairwise comparisons\n",
            "\n"
          ],
          "name": "stderr"
        },
        {
          "output_type": "stream",
          "text": [
            "CalvingSeason = Autumn:\n",
            " Hour lsmean    SE  df asymp.LCL asymp.UCL .group      \n",
            " 16     36.3 0.266 Inf      35.5      37.0  a          \n",
            " 18     46.4 0.266 Inf      45.6      47.2   b         \n",
            " 14     48.6 0.266 Inf      47.9      49.4    c        \n",
            " 6      52.9 0.266 Inf      52.1      53.6     d       \n",
            " 12     54.7 0.266 Inf      53.9      55.4      e      \n",
            " 8      54.7 0.266 Inf      53.9      55.5      e      \n",
            " 10     56.5 0.266 Inf      55.7      57.2       f     \n",
            " 20     60.9 0.266 Inf      60.2      61.7        g    \n",
            " 4      62.9 0.266 Inf      62.1      63.6         h   \n",
            " 22     67.1 0.266 Inf      66.3      67.9          i  \n",
            " 0      71.0 0.266 Inf      70.3      71.8           j \n",
            " 2      77.3 0.266 Inf      76.5      78.0            k\n",
            "\n",
            "CalvingSeason = Spring:\n",
            " Hour lsmean    SE  df asymp.LCL asymp.UCL .group      \n",
            " 16     36.3 0.282 Inf      35.5      37.1  a          \n",
            " 14     44.6 0.282 Inf      43.8      45.4   b         \n",
            " 18     45.7 0.282 Inf      44.9      46.5    c        \n",
            " 6      52.5 0.282 Inf      51.7      53.3     d       \n",
            " 12     53.2 0.282 Inf      52.4      54.0     de      \n",
            " 8      53.9 0.282 Inf      53.1      54.8      e      \n",
            " 10     57.1 0.282 Inf      56.3      57.9       f     \n",
            " 20     59.7 0.282 Inf      58.9      60.5        g    \n",
            " 4      60.7 0.282 Inf      59.9      61.5         h   \n",
            " 22     66.0 0.282 Inf      65.2      66.8          i  \n",
            " 0      69.8 0.282 Inf      69.0      70.6           j \n",
            " 2      75.8 0.282 Inf      75.0      76.6            k\n",
            "\n",
            "CalvingSeason = Summer:\n",
            " Hour lsmean    SE  df asymp.LCL asymp.UCL .group      \n",
            " 16     36.3 0.263 Inf      35.6      37.1  a          \n",
            " 14     47.7 0.263 Inf      46.9      48.4   b         \n",
            " 18     48.2 0.263 Inf      47.5      49.0   b         \n",
            " 6      53.8 0.263 Inf      53.0      54.5    c        \n",
            " 12     55.6 0.263 Inf      54.9      56.4     d       \n",
            " 8      56.4 0.263 Inf      55.6      57.1     d       \n",
            " 10     57.7 0.263 Inf      56.9      58.4      e      \n",
            " 20     61.6 0.263 Inf      60.9      62.4       f     \n",
            " 4      64.0 0.263 Inf      63.3      64.8        g    \n",
            " 22     67.6 0.263 Inf      66.8      68.3         h   \n",
            " 0      71.3 0.263 Inf      70.5      72.0          i  \n",
            " 2      77.6 0.263 Inf      76.9      78.4           j \n",
            "\n",
            "CalvingSeason = Winter:\n",
            " Hour lsmean    SE  df asymp.LCL asymp.UCL .group      \n",
            " 16     34.3 0.281 Inf      33.5      35.1  a          \n",
            " 18     44.4 0.281 Inf      43.6      45.2   b         \n",
            " 14     44.7 0.281 Inf      43.9      45.5   b         \n",
            " 6      51.2 0.281 Inf      50.4      52.0    c        \n",
            " 12     52.1 0.281 Inf      51.3      53.0     d       \n",
            " 8      52.9 0.281 Inf      52.1      53.7     d       \n",
            " 10     56.6 0.281 Inf      55.7      57.4      e      \n",
            " 4      58.3 0.281 Inf      57.5      59.1       f     \n",
            " 20     59.5 0.281 Inf      58.7      60.3        g    \n",
            " 22     65.9 0.281 Inf      65.1      66.7         h   \n",
            " 0      70.5 0.281 Inf      69.7      71.3          i  \n",
            " 2      76.3 0.281 Inf      75.5      77.1           j \n",
            "\n",
            "Results are averaged over the levels of: MonthsInMilk, Parity, MilkingType \n",
            "Degrees-of-freedom method: asymptotic \n",
            "Confidence level used: 0.95 \n",
            "Conf-level adjustment: sidak method for 12 estimates \n",
            "P value adjustment: tukey method for comparing a family of 12 estimates \n",
            "significance level used: alpha = 0.05 \n"
          ],
          "name": "stdout"
        }
      ]
    },
    {
      "cell_type": "code",
      "metadata": {
        "colab": {
          "base_uri": "https://localhost:8080/",
          "height": 497
        },
        "id": "LcMESwBdV7LE",
        "outputId": "693e11bf-9fa9-4145-b799-e99ab95e20ed"
      },
      "source": [
        "%%R\n",
        "dfPValues <- summary(LSMs)[[2]]\n",
        "dfLMSs <- summary(LSMs)[[1]]\n",
        "dfLMSs %>% \n",
        "  mutate(label = if_else(Hour == max(as.numeric(Hour)), as.character(CalvingSeason), NA_character_)) %>%\n",
        "  ggplot(\n",
        "  aes(\n",
        "    x=Hour,\n",
        "    y=lsmean,\n",
        "    group=CalvingSeason, \n",
        "    color=CalvingSeason)\n",
        "    ) +\n",
        "  geom_line() +  \n",
        "  geom_errorbar(\n",
        "    aes(ymin=asymp.LCL, \n",
        "        ymax=asymp.UCL), \n",
        "    width=.2,\n",
        "    position=position_dodge(0.05)) +\n",
        "  labs(\n",
        "    title = \"Lying time (min/2hours)\", \n",
        "    y=\"Minutes per two hours\" , \n",
        "    x = \"Hour\") +\n",
        "  theme_bw() +\n",
        "  theme(plot.title = element_text(hjust = 0.5),\n",
        "        panel.border = element_blank(), \n",
        "        panel.grid.major = element_blank(),\n",
        "        panel.grid.minor = element_blank(), \n",
        "        axis.line = element_line(colour = \"black\"))"
      ],
      "execution_count": null,
      "outputs": [
        {
          "output_type": "display_data",
          "data": {
            "image/png": "[encoded data removed]"
          },
          "metadata": {
            "tags": []
          }
        }
      ]
    }
  ]
}