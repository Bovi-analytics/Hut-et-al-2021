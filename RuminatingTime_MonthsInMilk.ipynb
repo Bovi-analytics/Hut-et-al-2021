{
  "nbformat": 4,
  "nbformat_minor": 0,
  "metadata": {
    "colab": {
      "name": "RuminatingTime MonthsInMilk",
      "provenance": [],
      "collapsed_sections": [],
      "toc_visible": true,
      "include_colab_link": true
    },
    "kernelspec": {
      "display_name": "Python 3",
      "name": "python3"
    }
  },
  "cells": [
    {
      "cell_type": "markdown",
      "metadata": {
        "id": "view-in-github",
        "colab_type": "text"
      },
      "source": [
        "<a href=\"https://colab.research.google.com/github/Bovi-analytics/hut-et-al-2021/blob/master/RuminatingTime_MonthsInMilk.ipynb\" target=\"_parent\"><img src=\"https://colab.research.google.com/assets/colab-badge.svg\" alt=\"Open In Colab\"/></a>"
      ]
    },
    {
      "cell_type": "markdown",
      "metadata": {
        "id": "64fdfVwsBBLG"
      },
      "source": [
        "# Statistical notebook for rumination time MonthsInMilk"
      ]
    },
    {
      "cell_type": "markdown",
      "metadata": {
        "id": "LiSiRyzyBQT9"
      },
      "source": [
        "## Importing of google drive"
      ]
    },
    {
      "cell_type": "code",
      "metadata": {
        "colab": {
          "base_uri": "https://localhost:8080/"
        },
        "id": "WCUSUtqb21vg",
        "outputId": "2ed58c2c-a73f-470c-d80f-fafead9fe894"
      },
      "source": [
        "from google.colab import drive\n",
        "drive.mount('/content/drive')"
      ],
      "execution_count": null,
      "outputs": [
        {
          "output_type": "stream",
          "text": [
            "Mounted at /content/drive\n"
          ],
          "name": "stdout"
        }
      ]
    },
    {
      "cell_type": "markdown",
      "metadata": {
        "id": "JfWDzzUBBWFS"
      },
      "source": [
        "## R loading"
      ]
    },
    {
      "cell_type": "code",
      "metadata": {
        "id": "TxkiqsiB23Kg"
      },
      "source": [
        "%reload_ext rpy2.ipython"
      ],
      "execution_count": null,
      "outputs": []
    },
    {
      "cell_type": "code",
      "metadata": {
        "id": "-Eo3GPzU9XAf"
      },
      "source": [
        "%%R\n",
        "lib_loc <- \"/content/drive/Shareddrives/Bovi-Analytics/R-lib/\""
      ],
      "execution_count": null,
      "outputs": []
    },
    {
      "cell_type": "code",
      "metadata": {
        "id": "Rlr2umuA0oSE",
        "colab": {
          "base_uri": "https://localhost:8080/"
        },
        "outputId": "02bdb09e-2bdd-4d3c-ce3b-6612068df6a3"
      },
      "source": [
        "%%R\n",
        "package_list <- c(\"ggplot2\",\n",
        "                  \"readr\",\n",
        "                  \"plyr\",\n",
        "                  \"dplyr\",\n",
        "                  \"tidyr\",                \n",
        "                  \"lme4\",\n",
        "                  \"lmerTest\",\n",
        "                  \"multcompView\",\n",
        "                  \"mvtnorm\",\n",
        "                  \"TH.data\",\n",
        "                  \"multcomp\",\n",
        "                  \"emmeans\",\n",
        "                  \"lsmeans\",\n",
        "                  \"carData\",\n",
        "                  \"car\"\n",
        "                  )\n",
        "\n",
        "for (pkg in package_list) {\n",
        "  if (pkg %in% rownames(.packages()) == FALSE)\n",
        "  {library(pkg, lib.loc = lib_loc, character.only = TRUE)}\n",
        "\n",
        "}"
      ],
      "execution_count": null,
      "outputs": [
        {
          "output_type": "stream",
          "text": [
            "R[write to console]: \n",
            "Attaching package: ‘dplyr’\n",
            "\n",
            "\n",
            "R[write to console]: The following objects are masked from ‘package:plyr’:\n",
            "\n",
            "    arrange, count, desc, failwith, id, mutate, rename, summarise,\n",
            "    summarize\n",
            "\n",
            "\n",
            "R[write to console]: The following objects are masked from ‘package:stats’:\n",
            "\n",
            "    filter, lag\n",
            "\n",
            "\n",
            "R[write to console]: The following objects are masked from ‘package:base’:\n",
            "\n",
            "    intersect, setdiff, setequal, union\n",
            "\n",
            "\n",
            "R[write to console]: Loading required package: Matrix\n",
            "\n",
            "R[write to console]: \n",
            "Attaching package: ‘Matrix’\n",
            "\n",
            "\n",
            "R[write to console]: The following objects are masked from ‘package:tidyr’:\n",
            "\n",
            "    expand, pack, unpack\n",
            "\n",
            "\n",
            "R[write to console]: \n",
            "Attaching package: ‘lmerTest’\n",
            "\n",
            "\n",
            "R[write to console]: The following object is masked from ‘package:lme4’:\n",
            "\n",
            "    lmer\n",
            "\n",
            "\n",
            "R[write to console]: The following object is masked from ‘package:stats’:\n",
            "\n",
            "    step\n",
            "\n",
            "\n",
            "R[write to console]: Loading required package: survival\n",
            "\n",
            "R[write to console]: Loading required package: MASS\n",
            "\n",
            "R[write to console]: \n",
            "Attaching package: ‘MASS’\n",
            "\n",
            "\n",
            "R[write to console]: The following object is masked from ‘package:dplyr’:\n",
            "\n",
            "    select\n",
            "\n",
            "\n",
            "R[write to console]: \n",
            "Attaching package: ‘TH.data’\n",
            "\n",
            "\n",
            "R[write to console]: The following object is masked from ‘package:MASS’:\n",
            "\n",
            "    geyser\n",
            "\n",
            "\n",
            "R[write to console]: The 'lsmeans' package is now basically a front end for 'emmeans'.\n",
            "Users are encouraged to switch the rest of the way.\n",
            "See help('transition') for more information, including how to\n",
            "convert old 'lsmeans' objects and scripts to work with 'emmeans'.\n",
            "\n",
            "R[write to console]: Registered S3 methods overwritten by 'car':\n",
            "  method                          from\n",
            "  influence.merMod                lme4\n",
            "  cooks.distance.influence.merMod lme4\n",
            "  dfbeta.influence.merMod         lme4\n",
            "  dfbetas.influence.merMod        lme4\n",
            "\n",
            "R[write to console]: \n",
            "Attaching package: ‘car’\n",
            "\n",
            "\n",
            "R[write to console]: The following object is masked from ‘package:dplyr’:\n",
            "\n",
            "    recode\n",
            "\n",
            "\n"
          ],
          "name": "stderr"
        }
      ]
    },
    {
      "cell_type": "markdown",
      "metadata": {
        "id": "zoVuFL66BxuT"
      },
      "source": [
        "## Data loading into dataframe"
      ]
    },
    {
      "cell_type": "code",
      "metadata": {
        "id": "XKMnpccx3BDP"
      },
      "source": [
        "%%R\n",
        "url = ('/content/drive/Shareddrives/Bovi-Analytics/Projects/SenseOfSensors/CsvData/SensorAggRepartitioned08032021/ObservationType=RuminationTimeMinutesPerDay/part-00000-tid-183333261268000902-29b42dfd-564e-4e7d-8ea7-05b4fb30d5d6-1694-32.c000.csv')\n",
        "\n",
        "dataset = read.csv(url)\n",
        "\n"
      ],
      "execution_count": null,
      "outputs": []
    },
    {
      "cell_type": "code",
      "metadata": {
        "id": "EdsoTgv63LDl",
        "colab": {
          "base_uri": "https://localhost:8080/"
        },
        "outputId": "b00aa5aa-67d4-41cc-c343-104bc7a8f99c"
      },
      "source": [
        "%%R\n",
        "AnalysisData <- \n",
        "  readr::read_csv(\"/content/drive/Shareddrives/Bovi-Analytics/Projects/SenseOfSensors/CsvData/SensorAggRepartitioned08032021/ObservationType=RuminationTimeMinutesPerDay/part-00000-tid-183333261268000902-29b42dfd-564e-4e7d-8ea7-05b4fb30d5d6-1694-32.c000.csv\", \n",
        "    col_types = readr::cols(HerdIdentifier = readr::col_character(), \n",
        "        TransitionLactationNumber = readr::col_integer(), \n",
        "        TransitionParity = readr::col_character(), \n",
        "        TransitionMonthsInMilk = readr::col_integer(), \n",
        "        TransitionCalvingDate = readr::col_character(), \n",
        "        Hour = readr::col_integer(), \n",
        "        Observations = readr::col_integer())) %>% \n",
        "  dplyr::filter(dplyr::between(TransitionMonthsInMilk, -1, 10)) %>%\n",
        "  dplyr::mutate(\n",
        "    AnimalIdentifier = factor(AnimalIdentifier),\n",
        "    HerdIdentifier = factor(HerdIdentifier),\n",
        "    Parity = factor(TransitionParity),\n",
        "    MonthsInMilk = factor(TransitionMonthsInMilk),\n",
        "    CalvingSeason = factor(TransitionSeason),\n",
        "    Hour = factor(Hour),\n",
        "    SensorValue = ObservationValue,\n",
        "    MilkingType = factor(case_when(\n",
        "    HerdIdentifier %in% c(\"544\", \"2514\", \"3314\")~\"AMS\",\n",
        "    TRUE~\"CMS\"\n",
        "  ))\n",
        "  ) %>%\n",
        "  dplyr::select(AnimalIdentifier, HerdIdentifier, Parity, MonthsInMilk, CalvingSeason, SensorValue, MilkingType) %>%\n",
        "  tidyr::drop_na()"
      ],
      "execution_count": null,
      "outputs": [
        {
          "output_type": "stream",
          "text": [
            "|====================================================================| 100% 5 MB\n"
          ],
          "name": "stdout"
        }
      ]
    },
    {
      "cell_type": "code",
      "metadata": {
        "colab": {
          "base_uri": "https://localhost:8080/"
        },
        "id": "w6Yrs1OhCaZZ",
        "outputId": "6af39aa4-ef97-4689-c8b3-44a6018c8917"
      },
      "source": [
        "%%R\n",
        "head(AnalysisData)"
      ],
      "execution_count": null,
      "outputs": [
        {
          "output_type": "stream",
          "text": [
            "# A tibble: 6 x 7\n",
            "  AnimalIdentifier HerdIdentifier Parity MonthsInMilk CalvingSeason SensorValue\n",
            "  <fct>            <fct>          <fct>  <fct>        <fct>               <dbl>\n",
            "1 72               2297           3+     6            Winter               563.\n",
            "2 106              544            3+     8            Autumn               559.\n",
            "3 106              544            3+     0            Autumn               546.\n",
            "4 9257             2011           2      -1           Spring               507 \n",
            "5 1264             5888           3+     10           Summer               397.\n",
            "6 500              2514           3+     1            Autumn               534.\n",
            "# … with 1 more variable: MilkingType <fct>\n"
          ],
          "name": "stdout"
        }
      ]
    },
    {
      "cell_type": "code",
      "metadata": {
        "colab": {
          "base_uri": "https://localhost:8080/"
        },
        "id": "juntaiFzCerG",
        "outputId": "198f7b1f-8419-477f-c75c-a272b0463f12"
      },
      "source": [
        "%%R\n",
        "str(AnalysisData)"
      ],
      "execution_count": null,
      "outputs": [
        {
          "output_type": "stream",
          "text": [
            "tibble[,7] [42,548 × 7] (S3: tbl_df/tbl/data.frame)\n",
            " $ AnimalIdentifier: Factor w/ 1100 levels \"1\",\"2\",\"3\",\"4\",..: 72 106 106 1007 523 242 242 35 101 130 ...\n",
            " $ HerdIdentifier  : Factor w/ 8 levels \"2011\",\"2297\",..: 2 7 7 1 8 3 3 4 2 7 ...\n",
            " $ Parity          : Factor w/ 3 levels \"1\",\"2\",\"3+\": 3 3 3 2 3 3 3 2 1 3 ...\n",
            " $ MonthsInMilk    : Factor w/ 12 levels \"-1\",\"0\",\"1\",\"2\",..: 8 10 2 1 12 3 2 3 1 4 ...\n",
            " $ CalvingSeason   : Factor w/ 4 levels \"Autumn\",\"Spring\",..: 4 1 1 2 3 1 2 2 4 1 ...\n",
            " $ SensorValue     : num [1:42548] 563 559 546 507 397 ...\n",
            " $ MilkingType     : Factor w/ 2 levels \"AMS\",\"CMS\": 2 1 1 2 2 1 1 2 2 1 ...\n"
          ],
          "name": "stdout"
        }
      ]
    },
    {
      "cell_type": "markdown",
      "metadata": {
        "id": "l42FmtZPChUv"
      },
      "source": [
        "## Descriptive statistics"
      ]
    },
    {
      "cell_type": "code",
      "metadata": {
        "colab": {
          "base_uri": "https://localhost:8080/"
        },
        "id": "1EQ9pN5CCoAc",
        "outputId": "feea262d-580a-4035-dabb-fa298beede53"
      },
      "source": [
        "%%R\n",
        "AnalysisData %>%\n",
        "  group_by(Parity) %>%\n",
        "  summarise(Unique_Elements = n_distinct(AnimalIdentifier))"
      ],
      "execution_count": null,
      "outputs": [
        {
          "output_type": "stream",
          "text": [
            "# A tibble: 3 x 2\n",
            "  Parity Unique_Elements\n",
            "  <fct>            <int>\n",
            "1 1                  704\n",
            "2 2                  693\n",
            "3 3+                 733\n"
          ],
          "name": "stdout"
        }
      ]
    },
    {
      "cell_type": "code",
      "metadata": {
        "colab": {
          "base_uri": "https://localhost:8080/"
        },
        "id": "QiHr-5JXCs0f",
        "outputId": "ab021270-1e96-495a-9478-8636757bea13"
      },
      "source": [
        "%%R\n",
        "AnalysisData %>%\n",
        "  summarise(Unique_Elements = n_distinct(AnimalIdentifier))"
      ],
      "execution_count": null,
      "outputs": [
        {
          "output_type": "stream",
          "text": [
            "# A tibble: 1 x 1\n",
            "  Unique_Elements\n",
            "            <int>\n",
            "1            1074\n"
          ],
          "name": "stdout"
        }
      ]
    },
    {
      "cell_type": "markdown",
      "metadata": {
        "id": "R3In3XAH6UNw"
      },
      "source": [
        "# Model building"
      ]
    },
    {
      "cell_type": "markdown",
      "metadata": {
        "id": "_-Ai2T1nC3Ni"
      },
      "source": [
        "First we determine the null model"
      ]
    },
    {
      "cell_type": "markdown",
      "metadata": {
        "id": "DUexKMcwC6F5"
      },
      "source": [
        "## Null model"
      ]
    },
    {
      "cell_type": "code",
      "metadata": {
        "id": "oMj6hll16TdN"
      },
      "source": [
        "%%R\n",
        "Model.0 <- lme4::lmer(\n",
        "                  SensorValue ~ 1 + (1| HerdIdentifier:AnimalIdentifier), \n",
        "                  data = AnalysisData\n",
        "                  )\n"
      ],
      "execution_count": null,
      "outputs": []
    },
    {
      "cell_type": "markdown",
      "metadata": {
        "id": "Y67KPZBG6Vtp"
      },
      "source": [
        "## Univariable models"
      ]
    },
    {
      "cell_type": "code",
      "metadata": {
        "colab": {
          "base_uri": "https://localhost:8080/"
        },
        "id": "BtHdHQiAVH4_",
        "outputId": "7356723e-f71c-42cd-80c0-a47283363617"
      },
      "source": [
        "%%R\n",
        "Model1.0 <- lme4::lmer(\n",
        "                  SensorValue ~ \n",
        "                  MonthsInMilk + \n",
        "                  (1| HerdIdentifier:AnimalIdentifier),\n",
        "                  REML = FALSE,\n",
        "                  data = AnalysisData\n",
        ")\n",
        "anova(Model.0,Model1.0,test=\"Chisq\")"
      ],
      "execution_count": null,
      "outputs": [
        {
          "output_type": "stream",
          "text": [
            "R[write to console]: refitting model(s) with ML (instead of REML)\n",
            "\n"
          ],
          "name": "stderr"
        },
        {
          "output_type": "stream",
          "text": [
            "Data: AnalysisData\n",
            "Models:\n",
            "Model.0: SensorValue ~ 1 + (1 | HerdIdentifier:AnimalIdentifier)\n",
            "Model1.0: SensorValue ~ MonthsInMilk + (1 | HerdIdentifier:AnimalIdentifier)\n",
            "         npar    AIC    BIC  logLik deviance  Chisq Df Pr(>Chisq)    \n",
            "Model.0     3 485034 485059 -242514   485028                         \n",
            "Model1.0   14 480780 480901 -240376   480752 4275.8 11  < 2.2e-16 ***\n",
            "---\n",
            "Signif. codes:  0 ‘***’ 0.001 ‘**’ 0.01 ‘*’ 0.05 ‘.’ 0.1 ‘ ’ 1\n"
          ],
          "name": "stdout"
        }
      ]
    },
    {
      "cell_type": "code",
      "metadata": {
        "colab": {
          "base_uri": "https://localhost:8080/"
        },
        "id": "gMvqQic5VSOL",
        "outputId": "67bddb0b-080d-47c6-cc63-3d8033b03a68"
      },
      "source": [
        "%%R\n",
        "Model1.1 <- lme4::lmer(\n",
        "                  SensorValue ~ \n",
        "                  Parity + \n",
        "                  (1| HerdIdentifier:AnimalIdentifier),\n",
        "                  REML = FALSE,\n",
        "                  data = AnalysisData\n",
        "                  )\n",
        "anova(Model.0,Model1.1,test=\"Chisq\")"
      ],
      "execution_count": null,
      "outputs": [
        {
          "output_type": "stream",
          "text": [
            "R[write to console]: refitting model(s) with ML (instead of REML)\n",
            "\n"
          ],
          "name": "stderr"
        },
        {
          "output_type": "stream",
          "text": [
            "Data: AnalysisData\n",
            "Models:\n",
            "Model.0: SensorValue ~ 1 + (1 | HerdIdentifier:AnimalIdentifier)\n",
            "Model1.1: SensorValue ~ Parity + (1 | HerdIdentifier:AnimalIdentifier)\n",
            "         npar    AIC    BIC  logLik deviance  Chisq Df Pr(>Chisq)    \n",
            "Model.0     3 485034 485059 -242514   485028                         \n",
            "Model1.1    5 484686 484730 -242338   484676 351.17  2  < 2.2e-16 ***\n",
            "---\n",
            "Signif. codes:  0 ‘***’ 0.001 ‘**’ 0.01 ‘*’ 0.05 ‘.’ 0.1 ‘ ’ 1\n"
          ],
          "name": "stdout"
        }
      ]
    },
    {
      "cell_type": "code",
      "metadata": {
        "colab": {
          "base_uri": "https://localhost:8080/"
        },
        "id": "oszGEcBuVUqI",
        "outputId": "bc7fc9e1-7c69-46ec-d847-bf8fcf0046b9"
      },
      "source": [
        "%%R\n",
        "Model1.2 <- lme4::lmer(\n",
        "                  SensorValue ~ \n",
        "                  CalvingSeason +\n",
        "                  (1| HerdIdentifier:AnimalIdentifier),\n",
        "                  REML = FALSE,\n",
        "                  data = AnalysisData\n",
        "                  )\n",
        "anova(Model.0,Model1.2,test=\"Chisq\")"
      ],
      "execution_count": null,
      "outputs": [
        {
          "output_type": "stream",
          "text": [
            "R[write to console]: refitting model(s) with ML (instead of REML)\n",
            "\n"
          ],
          "name": "stderr"
        },
        {
          "output_type": "stream",
          "text": [
            "Data: AnalysisData\n",
            "Models:\n",
            "Model.0: SensorValue ~ 1 + (1 | HerdIdentifier:AnimalIdentifier)\n",
            "Model1.2: SensorValue ~ CalvingSeason + (1 | HerdIdentifier:AnimalIdentifier)\n",
            "         npar    AIC    BIC  logLik deviance  Chisq Df Pr(>Chisq)    \n",
            "Model.0     3 485034 485059 -242514   485028                         \n",
            "Model1.2    6 484969 485021 -242479   484957 70.411  3  3.486e-15 ***\n",
            "---\n",
            "Signif. codes:  0 ‘***’ 0.001 ‘**’ 0.01 ‘*’ 0.05 ‘.’ 0.1 ‘ ’ 1\n"
          ],
          "name": "stdout"
        }
      ]
    },
    {
      "cell_type": "code",
      "metadata": {
        "colab": {
          "base_uri": "https://localhost:8080/"
        },
        "id": "D1LlsEdpVWQP",
        "outputId": "b36b0c13-ff68-4648-ef1d-40711099d017"
      },
      "source": [
        "%%R\n",
        "Model1.3 <- lme4::lmer(\n",
        "                  SensorValue ~ \n",
        "                  MilkingType +\n",
        "                  (1| HerdIdentifier:AnimalIdentifier),\n",
        "                  REML = FALSE,\n",
        "                  data = AnalysisData\n",
        "                  )\n",
        "anova(Model.0,Model1.3,test=\"Chisq\")"
      ],
      "execution_count": null,
      "outputs": [
        {
          "output_type": "stream",
          "text": [
            "R[write to console]: refitting model(s) with ML (instead of REML)\n",
            "\n"
          ],
          "name": "stderr"
        },
        {
          "output_type": "stream",
          "text": [
            "Data: AnalysisData\n",
            "Models:\n",
            "Model.0: SensorValue ~ 1 + (1 | HerdIdentifier:AnimalIdentifier)\n",
            "Model1.3: SensorValue ~ MilkingType + (1 | HerdIdentifier:AnimalIdentifier)\n",
            "         npar    AIC    BIC  logLik deviance  Chisq Df Pr(>Chisq)    \n",
            "Model.0     3 485034 485059 -242514   485028                         \n",
            "Model1.3    4 485012 485047 -242502   485004 23.273  1  1.405e-06 ***\n",
            "---\n",
            "Signif. codes:  0 ‘***’ 0.001 ‘**’ 0.01 ‘*’ 0.05 ‘.’ 0.1 ‘ ’ 1\n"
          ],
          "name": "stdout"
        }
      ]
    },
    {
      "cell_type": "markdown",
      "metadata": {
        "id": "4fXa9WQx6Zzh"
      },
      "source": [
        "## Multivariable models"
      ]
    },
    {
      "cell_type": "code",
      "metadata": {
        "id": "N2pB1m1lXFCW"
      },
      "source": [
        "%%R\n",
        "Model2.0 <- lme4::lmer(\n",
        "                  SensorValue ~ \n",
        "                  Parity + MonthsInMilk + CalvingSeason + MilkingType +\n",
        "                  (1| HerdIdentifier:AnimalIdentifier),\n",
        "                  REML = FALSE,\n",
        "                  data = AnalysisData\n",
        "                  )"
      ],
      "execution_count": null,
      "outputs": []
    },
    {
      "cell_type": "code",
      "metadata": {
        "colab": {
          "base_uri": "https://localhost:8080/"
        },
        "id": "_jkt1d5IbXsd",
        "outputId": "64654174-c58f-4ad6-80e5-44285ac6bb13"
      },
      "source": [
        "%%R\n",
        "drop1(Model2.0,test=\"Chisq\")"
      ],
      "execution_count": null,
      "outputs": [
        {
          "output_type": "stream",
          "text": [
            "Single term deletions\n",
            "\n",
            "Model:\n",
            "SensorValue ~ Parity + MonthsInMilk + CalvingSeason + MilkingType + \n",
            "    (1 | HerdIdentifier:AnimalIdentifier)\n",
            "              npar    AIC    LRT   Pr(Chi)    \n",
            "<none>             480337                     \n",
            "Parity           2 480712  378.7 < 2.2e-16 ***\n",
            "MonthsInMilk    11 484601 4285.3 < 2.2e-16 ***\n",
            "CalvingSeason    3 480389   57.3 2.243e-12 ***\n",
            "MilkingType      1 480357   21.6 3.355e-06 ***\n",
            "---\n",
            "Signif. codes:  0 ‘***’ 0.001 ‘**’ 0.01 ‘*’ 0.05 ‘.’ 0.1 ‘ ’ 1\n"
          ],
          "name": "stdout"
        }
      ]
    },
    {
      "cell_type": "markdown",
      "metadata": {
        "id": "77ODuNPrDgMz"
      },
      "source": [
        "## Introduction of interactions"
      ]
    },
    {
      "cell_type": "markdown",
      "metadata": {
        "id": "5-AZ0I91D9wP"
      },
      "source": [
        "### Interactions with months in milk"
      ]
    },
    {
      "cell_type": "code",
      "metadata": {
        "colab": {
          "base_uri": "https://localhost:8080/"
        },
        "id": "GwUvYh3GcTk2",
        "outputId": "ba94ec4a-98e6-4ebb-c3dc-717bbe180fd3"
      },
      "source": [
        "%%R\n",
        "Model2.1 <- lme4::lmer(\n",
        "                  SensorValue ~ \n",
        "                  MonthsInMilk*Parity + CalvingSeason + MilkingType +\n",
        "                  (1| HerdIdentifier:AnimalIdentifier),\n",
        "                  REML = FALSE,\n",
        "                  data = AnalysisData\n",
        "                  )\n",
        "anova(Model2.0,Model2.1,test=\"Chisq\")"
      ],
      "execution_count": null,
      "outputs": [
        {
          "output_type": "stream",
          "text": [
            "Data: AnalysisData\n",
            "Models:\n",
            "Model2.0: SensorValue ~ Parity + MonthsInMilk + CalvingSeason + MilkingType + \n",
            "Model2.0:     (1 | HerdIdentifier:AnimalIdentifier)\n",
            "Model2.1: SensorValue ~ MonthsInMilk * Parity + CalvingSeason + MilkingType + \n",
            "Model2.1:     (1 | HerdIdentifier:AnimalIdentifier)\n",
            "         npar    AIC    BIC  logLik deviance  Chisq Df Pr(>Chisq)    \n",
            "Model2.0   20 480337 480511 -240149   480297                         \n",
            "Model2.1   42 479174 479537 -239545   479090 1207.7 22  < 2.2e-16 ***\n",
            "---\n",
            "Signif. codes:  0 ‘***’ 0.001 ‘**’ 0.01 ‘*’ 0.05 ‘.’ 0.1 ‘ ’ 1\n"
          ],
          "name": "stdout"
        }
      ]
    },
    {
      "cell_type": "code",
      "metadata": {
        "id": "bHfWFaXuCzrL",
        "colab": {
          "base_uri": "https://localhost:8080/"
        },
        "outputId": "4f7617a2-f5ac-4395-9a72-ec061dac8c24"
      },
      "source": [
        "%%R\n",
        "Model2.2 <- lme4::lmer(\n",
        "                  SensorValue ~ \n",
        "                  MonthsInMilk*MilkingType + CalvingSeason + Parity +\n",
        "                  (1| HerdIdentifier:AnimalIdentifier),\n",
        "                  REML = FALSE,\n",
        "                  data = AnalysisData\n",
        "                  )\n",
        "anova(Model2.0,Model2.2,test=\"Chisq\")"
      ],
      "execution_count": null,
      "outputs": [
        {
          "output_type": "stream",
          "text": [
            "Data: AnalysisData\n",
            "Models:\n",
            "Model2.0: SensorValue ~ Parity + MonthsInMilk + CalvingSeason + MilkingType + \n",
            "Model2.0:     (1 | HerdIdentifier:AnimalIdentifier)\n",
            "Model2.2: SensorValue ~ MonthsInMilk * MilkingType + CalvingSeason + Parity + \n",
            "Model2.2:     (1 | HerdIdentifier:AnimalIdentifier)\n",
            "         npar    AIC    BIC  logLik deviance  Chisq Df Pr(>Chisq)    \n",
            "Model2.0   20 480337 480511 -240149   480297                         \n",
            "Model2.2   31 480303 480571 -240121   480241 56.348 11  4.385e-08 ***\n",
            "---\n",
            "Signif. codes:  0 ‘***’ 0.001 ‘**’ 0.01 ‘*’ 0.05 ‘.’ 0.1 ‘ ’ 1\n"
          ],
          "name": "stdout"
        }
      ]
    },
    {
      "cell_type": "code",
      "metadata": {
        "colab": {
          "base_uri": "https://localhost:8080/"
        },
        "id": "UhQ_QE6QiYgr",
        "outputId": "5e07ddc3-5366-47b3-c16f-1d786a53d706"
      },
      "source": [
        "%%R\n",
        "Model2.3 <- lme4::lmer(\n",
        "                  SensorValue ~ \n",
        "                  MonthsInMilk*CalvingSeason + Parity + MilkingType +\n",
        "                  (1| HerdIdentifier:AnimalIdentifier),\n",
        "                  REML = FALSE,\n",
        "                  data = AnalysisData\n",
        "                  )\n",
        "anova(Model2.0,Model2.3,test=\"Chisq\")"
      ],
      "execution_count": null,
      "outputs": [
        {
          "output_type": "stream",
          "text": [
            "Data: AnalysisData\n",
            "Models:\n",
            "Model2.0: SensorValue ~ Parity + MonthsInMilk + CalvingSeason + MilkingType + \n",
            "Model2.0:     (1 | HerdIdentifier:AnimalIdentifier)\n",
            "Model2.3: SensorValue ~ MonthsInMilk * CalvingSeason + Parity + MilkingType + \n",
            "Model2.3:     (1 | HerdIdentifier:AnimalIdentifier)\n",
            "         npar    AIC    BIC  logLik deviance  Chisq Df Pr(>Chisq)    \n",
            "Model2.0   20 480337 480511 -240149   480297                         \n",
            "Model2.3   53 480163 480622 -240028   480057 240.45 33  < 2.2e-16 ***\n",
            "---\n",
            "Signif. codes:  0 ‘***’ 0.001 ‘**’ 0.01 ‘*’ 0.05 ‘.’ 0.1 ‘ ’ 1\n"
          ],
          "name": "stdout"
        }
      ]
    },
    {
      "cell_type": "markdown",
      "metadata": {
        "id": "rOrMtLRxDyis"
      },
      "source": [
        "## Multiple interactions"
      ]
    },
    {
      "cell_type": "code",
      "metadata": {
        "colab": {
          "base_uri": "https://localhost:8080/"
        },
        "id": "kgTbPyEVEIJr",
        "outputId": "faeaef0b-b059-42dc-982d-6555b9f32386"
      },
      "source": [
        "%%R\n",
        "Model2.4 <- lme4::lmer(\n",
        "                  SensorValue ~ \n",
        "                  MonthsInMilk*CalvingSeason + \n",
        "                  MonthsInMilk*Parity + \n",
        "                  MonthsInMilk*MilkingType +\n",
        "                  (1| HerdIdentifier:AnimalIdentifier),\n",
        "                  REML = FALSE,\n",
        "                  data = AnalysisData\n",
        "                  )\n",
        "anova(Model2.0,Model2.4,test=\"Chisq\")"
      ],
      "execution_count": null,
      "outputs": [
        {
          "output_type": "stream",
          "text": [
            "Data: AnalysisData\n",
            "Models:\n",
            "Model2.0: SensorValue ~ Parity + MonthsInMilk + CalvingSeason + MilkingType + \n",
            "Model2.0:     (1 | HerdIdentifier:AnimalIdentifier)\n",
            "Model2.4: SensorValue ~ MonthsInMilk * CalvingSeason + MonthsInMilk * Parity + \n",
            "Model2.4:     MonthsInMilk * MilkingType + (1 | HerdIdentifier:AnimalIdentifier)\n",
            "         npar    AIC    BIC  logLik deviance  Chisq Df Pr(>Chisq)    \n",
            "Model2.0   20 480337 480511 -240149   480297                         \n",
            "Model2.4   86 478945 479690 -239386   478773 1524.5 66  < 2.2e-16 ***\n",
            "---\n",
            "Signif. codes:  0 ‘***’ 0.001 ‘**’ 0.01 ‘*’ 0.05 ‘.’ 0.1 ‘ ’ 1\n"
          ],
          "name": "stdout"
        }
      ]
    },
    {
      "cell_type": "code",
      "metadata": {
        "colab": {
          "base_uri": "https://localhost:8080/"
        },
        "id": "wNwMmnGMEM-5",
        "outputId": "73711d2d-1213-4e2c-9e72-ecf5f252bb8f"
      },
      "source": [
        "%%R\n",
        "summary(Model2.4)"
      ],
      "execution_count": null,
      "outputs": [
        {
          "output_type": "stream",
          "text": [
            "Linear mixed model fit by maximum likelihood  ['lmerMod']\n",
            "Formula: SensorValue ~ MonthsInMilk * CalvingSeason + MonthsInMilk * Parity +  \n",
            "    MonthsInMilk * MilkingType + (1 | HerdIdentifier:AnimalIdentifier)\n",
            "   Data: AnalysisData\n",
            "\n",
            "      AIC       BIC    logLik  deviance  df.resid \n",
            " 478944.9  479689.5 -239386.5  478772.9     42462 \n",
            "\n",
            "Scaled residuals: \n",
            "    Min      1Q  Median      3Q     Max \n",
            "-9.5989 -0.3459  0.0737  0.4777  6.9513 \n",
            "\n",
            "Random effects:\n",
            " Groups                          Name        Variance Std.Dev.\n",
            " HerdIdentifier:AnimalIdentifier (Intercept) 2852     53.41   \n",
            " Residual                                    4038     63.55   \n",
            "Number of obs: 42548, groups:  HerdIdentifier:AnimalIdentifier, 1720\n",
            "\n",
            "Fixed effects:\n",
            "                                     Estimate Std. Error t value\n",
            "(Intercept)                         425.43059    4.25612  99.957\n",
            "MonthsInMilk0                        -9.22964    4.67770  -1.973\n",
            "MonthsInMilk1                        71.36563    4.78940  14.901\n",
            "MonthsInMilk2                        91.95833    4.78866  19.203\n",
            "MonthsInMilk3                       106.23779    4.82304  22.027\n",
            "MonthsInMilk4                       113.61211    4.82919  23.526\n",
            "MonthsInMilk5                       113.77086    4.84974  23.459\n",
            "MonthsInMilk6                       109.12801    4.87913  22.366\n",
            "MonthsInMilk7                       102.69109    4.87802  21.052\n",
            "MonthsInMilk8                        99.23579    4.86962  20.379\n",
            "MonthsInMilk9                       108.19049    4.86752  22.227\n",
            "MonthsInMilk10                      113.50881    4.85662  23.372\n",
            "CalvingSeasonSpring                  17.95239    3.24006   5.541\n",
            "CalvingSeasonSummer                   6.85350    2.98291   2.298\n",
            "CalvingSeasonWinter                  15.76245    3.21811   4.898\n",
            "Parity2                              88.33962    3.49207  25.297\n",
            "Parity3+                             56.84607    3.12673  18.181\n",
            "MilkingTypeCMS                       11.25709    3.56774   3.155\n",
            "MonthsInMilk0:CalvingSeasonSpring    -1.55416    4.19803  -0.370\n",
            "MonthsInMilk1:CalvingSeasonSpring   -23.09715    4.30779  -5.362\n",
            "MonthsInMilk2:CalvingSeasonSpring   -17.18499    4.33099  -3.968\n",
            "MonthsInMilk3:CalvingSeasonSpring   -13.59960    4.36397  -3.116\n",
            "MonthsInMilk4:CalvingSeasonSpring    -9.83291    4.36160  -2.254\n",
            "MonthsInMilk5:CalvingSeasonSpring   -12.05336    4.35494  -2.768\n",
            "MonthsInMilk6:CalvingSeasonSpring   -17.97057    4.34335  -4.137\n",
            "MonthsInMilk7:CalvingSeasonSpring    -8.98723    4.37822  -2.053\n",
            "MonthsInMilk8:CalvingSeasonSpring    -3.09186    4.40845  -0.701\n",
            "MonthsInMilk9:CalvingSeasonSpring    -4.46887    4.47938  -0.998\n",
            "MonthsInMilk10:CalvingSeasonSpring   -5.40742    4.50081  -1.201\n",
            "MonthsInMilk0:CalvingSeasonSummer    -7.36248    3.86900  -1.903\n",
            "MonthsInMilk1:CalvingSeasonSummer    -8.43324    3.96476  -2.127\n",
            "MonthsInMilk2:CalvingSeasonSummer     1.12008    3.97593   0.282\n",
            "MonthsInMilk3:CalvingSeasonSummer    -4.08249    4.00121  -1.020\n",
            "MonthsInMilk4:CalvingSeasonSummer    -5.17069    4.03238  -1.282\n",
            "MonthsInMilk5:CalvingSeasonSummer    -3.55069    4.07032  -0.872\n",
            "MonthsInMilk6:CalvingSeasonSummer    -0.16224    4.13642  -0.039\n",
            "MonthsInMilk7:CalvingSeasonSummer     7.12286    4.14552   1.718\n",
            "MonthsInMilk8:CalvingSeasonSummer     8.97022    4.15186   2.161\n",
            "MonthsInMilk9:CalvingSeasonSummer    -4.92487    4.15441  -1.185\n",
            "MonthsInMilk10:CalvingSeasonSummer  -14.66382    4.14184  -3.540\n",
            "MonthsInMilk0:CalvingSeasonWinter     2.17287    4.18463   0.519\n",
            "MonthsInMilk1:CalvingSeasonWinter     2.34890    4.34079   0.541\n",
            "MonthsInMilk2:CalvingSeasonWinter     3.16012    4.37061   0.723\n",
            "MonthsInMilk3:CalvingSeasonWinter    -6.43964    4.41074  -1.460\n",
            "MonthsInMilk4:CalvingSeasonWinter   -15.82120    4.42110  -3.579\n",
            "MonthsInMilk5:CalvingSeasonWinter   -18.54932    4.41071  -4.206\n",
            "MonthsInMilk6:CalvingSeasonWinter   -12.22302    4.41580  -2.768\n",
            "MonthsInMilk7:CalvingSeasonWinter    -2.91850    4.40339  -0.663\n",
            "MonthsInMilk8:CalvingSeasonWinter    -4.01637    4.38492  -0.916\n",
            "MonthsInMilk9:CalvingSeasonWinter   -12.83350    4.35780  -2.945\n",
            "MonthsInMilk10:CalvingSeasonWinter  -16.83118    4.35842  -3.862\n",
            "MonthsInMilk0:Parity2                -8.87707    4.54196  -1.954\n",
            "MonthsInMilk1:Parity2               -54.02765    4.61476 -11.708\n",
            "MonthsInMilk2:Parity2               -61.19482    4.60333 -13.294\n",
            "MonthsInMilk3:Parity2               -71.22323    4.58917 -15.520\n",
            "MonthsInMilk4:Parity2               -78.82767    4.59685 -17.148\n",
            "MonthsInMilk5:Parity2               -83.50144    4.60573 -18.130\n",
            "MonthsInMilk6:Parity2               -90.45133    4.61570 -19.596\n",
            "MonthsInMilk7:Parity2               -89.79446    4.62232 -19.426\n",
            "MonthsInMilk8:Parity2               -92.07493    4.62769 -19.897\n",
            "MonthsInMilk9:Parity2               -95.63274    4.64413 -20.592\n",
            "MonthsInMilk10:Parity2             -100.34453    4.64139 -21.619\n",
            "MonthsInMilk0:Parity3+              -16.91332    3.93621  -4.297\n",
            "MonthsInMilk1:Parity3+              -43.53262    4.01968 -10.830\n",
            "MonthsInMilk2:Parity3+              -39.60060    4.01374  -9.866\n",
            "MonthsInMilk3:Parity3+              -47.88327    4.00629 -11.952\n",
            "MonthsInMilk4:Parity3+              -55.78843    4.01124 -13.908\n",
            "MonthsInMilk5:Parity3+              -60.27884    4.02845 -14.963\n",
            "MonthsInMilk6:Parity3+              -62.37375    4.04735 -15.411\n",
            "MonthsInMilk7:Parity3+              -64.10104    4.06344 -15.775\n",
            "MonthsInMilk8:Parity3+              -66.91430    4.07115 -16.436\n",
            "MonthsInMilk9:Parity3+              -73.20318    4.08409 -17.924\n",
            "MonthsInMilk10:Parity3+             -79.94013    4.08166 -19.585\n",
            "MonthsInMilk0:MilkingTypeCMS         13.43703    3.10979   4.321\n",
            "MonthsInMilk1:MilkingTypeCMS         10.87490    3.20768   3.390\n",
            "MonthsInMilk2:MilkingTypeCMS         -2.49971    3.20840  -0.779\n",
            "MonthsInMilk3:MilkingTypeCMS         -3.86236    3.21027  -1.203\n",
            "MonthsInMilk4:MilkingTypeCMS         -1.11255    3.21388  -0.346\n",
            "MonthsInMilk5:MilkingTypeCMS         -0.45323    3.22893  -0.140\n",
            "MonthsInMilk6:MilkingTypeCMS          0.94543    3.24549   0.291\n",
            "MonthsInMilk7:MilkingTypeCMS         -1.46621    3.25729  -0.450\n",
            "MonthsInMilk8:MilkingTypeCMS          0.01534    3.26023   0.005\n",
            "MonthsInMilk9:MilkingTypeCMS         -0.56739    3.27359  -0.173\n",
            "MonthsInMilk10:MilkingTypeCMS        -1.47194    3.27407  -0.450\n"
          ],
          "name": "stdout"
        },
        {
          "output_type": "stream",
          "text": [
            "R[write to console]: \n",
            "Correlation matrix not shown by default, as p = 84 > 12.\n",
            "Use print(object, correlation=TRUE)  or\n",
            "    vcov(object)        if you need it\n",
            "\n",
            "\n"
          ],
          "name": "stderr"
        }
      ]
    },
    {
      "cell_type": "code",
      "metadata": {
        "colab": {
          "base_uri": "https://localhost:8080/"
        },
        "id": "9SpgaGUtERuw",
        "outputId": "4fc72ac5-48d1-4bc7-b365-a7178f070f45"
      },
      "source": [
        "%%R\n",
        "finalModel <- Model2.4\n",
        "Modeldrop <- drop1(finalModel, test=\"Chisq\")\n",
        "if(\"Pr(>F)\" %in% colnames(Modeldrop))\n",
        "{\n",
        "  Pvalues <- Modeldrop$`Pr(>F)`\n",
        "} else \n",
        "{\n",
        "  Pvalues <- Modeldrop$`Pr(Chi)`\n",
        "}\n",
        "Modeldrop"
      ],
      "execution_count": null,
      "outputs": [
        {
          "output_type": "stream",
          "text": [
            "Single term deletions\n",
            "\n",
            "Model:\n",
            "SensorValue ~ MonthsInMilk * CalvingSeason + MonthsInMilk * Parity + \n",
            "    MonthsInMilk * MilkingType + (1 | HerdIdentifier:AnimalIdentifier)\n",
            "                           npar    AIC     LRT   Pr(Chi)    \n",
            "<none>                          478945                      \n",
            "MonthsInMilk:CalvingSeason   33 479125  245.87 < 2.2e-16 ***\n",
            "MonthsInMilk:Parity          22 480135 1234.37 < 2.2e-16 ***\n",
            "MonthsInMilk:MilkingType     11 478986   62.89 2.676e-09 ***\n",
            "---\n",
            "Signif. codes:  0 ‘***’ 0.001 ‘**’ 0.01 ‘*’ 0.05 ‘.’ 0.1 ‘ ’ 1\n"
          ],
          "name": "stdout"
        }
      ]
    },
    {
      "cell_type": "code",
      "metadata": {
        "id": "sO8WNy-NEZkg"
      },
      "source": [
        "%%R\n",
        "save(finalModel, file=\"/content/drive/Shareddrives/Bovi-Analytics/Projects/SenseOfSensors/CsvData/SensorAggRepartitioned08032021/finalmodelruminationtime.rdata\")"
      ],
      "execution_count": null,
      "outputs": []
    },
    {
      "cell_type": "markdown",
      "metadata": {
        "id": "UF79IhRAEfmo"
      },
      "source": [
        "# Final model analysis of variance"
      ]
    },
    {
      "cell_type": "code",
      "metadata": {
        "colab": {
          "base_uri": "https://localhost:8080/"
        },
        "id": "yd0IDLaBEl9O",
        "outputId": "e886f833-fdfe-4487-860c-bab2d7010970"
      },
      "source": [
        "%%R\n",
        "Anova(finalModel)"
      ],
      "execution_count": null,
      "outputs": [
        {
          "output_type": "stream",
          "text": [
            "Analysis of Deviance Table (Type II Wald chisquare tests)\n",
            "\n",
            "Response: SensorValue\n",
            "                              Chisq Df Pr(>Chisq)    \n",
            "MonthsInMilk               4680.345 11  < 2.2e-16 ***\n",
            "CalvingSeason                57.327  3  2.188e-12 ***\n",
            "Parity                      395.289  2  < 2.2e-16 ***\n",
            "MilkingType                  20.175  1  7.065e-06 ***\n",
            "MonthsInMilk:CalvingSeason  246.593 33  < 2.2e-16 ***\n",
            "MonthsInMilk:Parity        1252.536 22  < 2.2e-16 ***\n",
            "MonthsInMilk:MilkingType     62.942 11  2.622e-09 ***\n",
            "---\n",
            "Signif. codes:  0 ‘***’ 0.001 ‘**’ 0.01 ‘*’ 0.05 ‘.’ 0.1 ‘ ’ 1\n"
          ],
          "name": "stdout"
        }
      ]
    },
    {
      "cell_type": "markdown",
      "metadata": {
        "id": "IQq7peY6Eoqi"
      },
      "source": [
        "# Final model figures and LSM (95%CI)"
      ]
    },
    {
      "cell_type": "markdown",
      "metadata": {
        "id": "lENmSxBoEvB3"
      },
      "source": [
        "## Main effects"
      ]
    },
    {
      "cell_type": "code",
      "metadata": {
        "colab": {
          "base_uri": "https://localhost:8080/"
        },
        "id": "ECqJq_RLEylo",
        "outputId": "76662284-6859-4217-a589-7fdcac3dc9eb"
      },
      "source": [
        "%%R\n",
        "multcomp::cld(lsmeans::lsmeans(finalModel, ~ MonthsInMilk), alpha=0.05, Letters=letters, adjust=\"tukey\")"
      ],
      "execution_count": null,
      "outputs": [
        {
          "output_type": "stream",
          "text": [
            "R[write to console]: Note: D.f. calculations have been disabled because the number of observations exceeds 3000.\n",
            "To enable adjustments, add the argument 'pbkrtest.limit = 42548' (or larger)\n",
            "[or, globally, 'set emm_options(pbkrtest.limit = 42548)' or larger];\n",
            "but be warned that this may result in large computation time and memory use.\n",
            "\n",
            "R[write to console]: Note: D.f. calculations have been disabled because the number of observations exceeds 3000.\n",
            "To enable adjustments, add the argument 'lmerTest.limit = 42548' (or larger)\n",
            "[or, globally, 'set emm_options(lmerTest.limit = 42548)' or larger];\n",
            "but be warned that this may result in large computation time and memory use.\n",
            "\n",
            "R[write to console]: NOTE: Results may be misleading due to involvement in interactions\n",
            "\n",
            "R[write to console]: Note: adjust = \"tukey\" was changed to \"sidak\"\n",
            "because \"tukey\" is only appropriate for one set of pairwise comparisons\n",
            "\n"
          ],
          "name": "stderr"
        },
        {
          "output_type": "stream",
          "text": [
            " MonthsInMilk lsmean   SE  df asymp.LCL asymp.UCL .group   \n",
            " 0               477 1.81 Inf       472       482  a       \n",
            " -1              490 1.89 Inf       484       495   b      \n",
            " 1               527 1.84 Inf       521       532    c     \n",
            " 10              533 1.85 Inf       528       538     d    \n",
            " 9               536 1.85 Inf       530       541     de   \n",
            " 8               536 1.84 Inf       531       542     de   \n",
            " 7               539 1.84 Inf       534       544      ef  \n",
            " 6               541 1.84 Inf       535       546      ef  \n",
            " 2               543 1.84 Inf       538       549       fg \n",
            " 5               547 1.84 Inf       541       552        gh\n",
            " 3               548 1.84 Inf       543       553        gh\n",
            " 4               550 1.84 Inf       545       555         h\n",
            "\n",
            "Results are averaged over the levels of: CalvingSeason, Parity, MilkingType \n",
            "Degrees-of-freedom method: asymptotic \n",
            "Confidence level used: 0.95 \n",
            "Conf-level adjustment: sidak method for 12 estimates \n",
            "P value adjustment: tukey method for comparing a family of 12 estimates \n",
            "significance level used: alpha = 0.05 \n"
          ],
          "name": "stdout"
        }
      ]
    },
    {
      "cell_type": "code",
      "metadata": {
        "colab": {
          "base_uri": "https://localhost:8080/"
        },
        "id": "H7DqWfQgE4FS",
        "outputId": "86ecd0bc-fb3e-4143-8f5d-23a82e1627e0"
      },
      "source": [
        "%%R\n",
        "multcomp::cld(lsmeans::lsmeans(finalModel, ~ Parity), alpha=0.05, Letters=letters, adjust=\"tukey\")"
      ],
      "execution_count": null,
      "outputs": [
        {
          "output_type": "stream",
          "text": [
            "R[write to console]: Note: D.f. calculations have been disabled because the number of observations exceeds 3000.\n",
            "To enable adjustments, add the argument 'pbkrtest.limit = 42548' (or larger)\n",
            "[or, globally, 'set emm_options(pbkrtest.limit = 42548)' or larger];\n",
            "but be warned that this may result in large computation time and memory use.\n",
            "\n",
            "R[write to console]: Note: D.f. calculations have been disabled because the number of observations exceeds 3000.\n",
            "To enable adjustments, add the argument 'lmerTest.limit = 42548' (or larger)\n",
            "[or, globally, 'set emm_options(lmerTest.limit = 42548)' or larger];\n",
            "but be warned that this may result in large computation time and memory use.\n",
            "\n",
            "R[write to console]: NOTE: Results may be misleading due to involvement in interactions\n",
            "\n",
            "R[write to console]: Note: adjust = \"tukey\" was changed to \"sidak\"\n",
            "because \"tukey\" is only appropriate for one set of pairwise comparisons\n",
            "\n"
          ],
          "name": "stderr"
        },
        {
          "output_type": "stream",
          "text": [
            " Parity lsmean   SE  df asymp.LCL asymp.UCL .group\n",
            " 1         522 1.56 Inf       518       526  a    \n",
            " 3+        528 1.50 Inf       524       532   b   \n",
            " 2         542 1.54 Inf       538       545    c  \n",
            "\n",
            "Results are averaged over the levels of: MonthsInMilk, CalvingSeason, MilkingType \n",
            "Degrees-of-freedom method: asymptotic \n",
            "Confidence level used: 0.95 \n",
            "Conf-level adjustment: sidak method for 3 estimates \n",
            "P value adjustment: tukey method for comparing a family of 3 estimates \n",
            "significance level used: alpha = 0.05 \n"
          ],
          "name": "stdout"
        }
      ]
    },
    {
      "cell_type": "code",
      "metadata": {
        "colab": {
          "base_uri": "https://localhost:8080/"
        },
        "id": "T1JjeuHlE76d",
        "outputId": "aa719613-9789-4dfa-8029-d5102630f41b"
      },
      "source": [
        "%%R\n",
        "multcomp::cld(lsmeans::lsmeans(finalModel, ~ CalvingSeason), alpha=0.05, Letters=letters, adjust=\"tukey\")"
      ],
      "execution_count": null,
      "outputs": [
        {
          "output_type": "stream",
          "text": [
            "R[write to console]: Note: D.f. calculations have been disabled because the number of observations exceeds 3000.\n",
            "To enable adjustments, add the argument 'pbkrtest.limit = 42548' (or larger)\n",
            "[or, globally, 'set emm_options(pbkrtest.limit = 42548)' or larger];\n",
            "but be warned that this may result in large computation time and memory use.\n",
            "\n",
            "R[write to console]: Note: D.f. calculations have been disabled because the number of observations exceeds 3000.\n",
            "To enable adjustments, add the argument 'lmerTest.limit = 42548' (or larger)\n",
            "[or, globally, 'set emm_options(lmerTest.limit = 42548)' or larger];\n",
            "but be warned that this may result in large computation time and memory use.\n",
            "\n",
            "R[write to console]: NOTE: Results may be misleading due to involvement in interactions\n",
            "\n",
            "R[write to console]: Note: adjust = \"tukey\" was changed to \"sidak\"\n",
            "because \"tukey\" is only appropriate for one set of pairwise comparisons\n",
            "\n"
          ],
          "name": "stderr"
        },
        {
          "output_type": "stream",
          "text": [
            " CalvingSeason lsmean   SE  df asymp.LCL asymp.UCL .group\n",
            " Autumn           525 1.63 Inf       521       529  a    \n",
            " Summer           529 1.62 Inf       525       533   b   \n",
            " Spring           533 1.67 Inf       529       538    c  \n",
            " Winter           534 1.69 Inf       530       538    c  \n",
            "\n",
            "Results are averaged over the levels of: MonthsInMilk, Parity, MilkingType \n",
            "Degrees-of-freedom method: asymptotic \n",
            "Confidence level used: 0.95 \n",
            "Conf-level adjustment: sidak method for 4 estimates \n",
            "P value adjustment: tukey method for comparing a family of 4 estimates \n",
            "significance level used: alpha = 0.05 \n"
          ],
          "name": "stdout"
        }
      ]
    },
    {
      "cell_type": "code",
      "metadata": {
        "colab": {
          "base_uri": "https://localhost:8080/"
        },
        "id": "JInkz2NGFADO",
        "outputId": "397236a2-2839-4b3f-a970-4acee4074218"
      },
      "source": [
        "%%R\n",
        "multcomp::cld(lsmeans::lsmeans(finalModel, ~ MilkingType), alpha=0.05, Letters=letters, adjust=\"tukey\")"
      ],
      "execution_count": null,
      "outputs": [
        {
          "output_type": "stream",
          "text": [
            "R[write to console]: Note: D.f. calculations have been disabled because the number of observations exceeds 3000.\n",
            "To enable adjustments, add the argument 'pbkrtest.limit = 42548' (or larger)\n",
            "[or, globally, 'set emm_options(pbkrtest.limit = 42548)' or larger];\n",
            "but be warned that this may result in large computation time and memory use.\n",
            "\n",
            "R[write to console]: Note: D.f. calculations have been disabled because the number of observations exceeds 3000.\n",
            "To enable adjustments, add the argument 'lmerTest.limit = 42548' (or larger)\n",
            "[or, globally, 'set emm_options(lmerTest.limit = 42548)' or larger];\n",
            "but be warned that this may result in large computation time and memory use.\n",
            "\n",
            "R[write to console]: NOTE: Results may be misleading due to involvement in interactions\n",
            "\n",
            "R[write to console]: Note: adjust = \"tukey\" was changed to \"sidak\"\n",
            "because \"tukey\" is only appropriate for one set of pairwise comparisons\n",
            "\n"
          ],
          "name": "stderr"
        },
        {
          "output_type": "stream",
          "text": [
            " MilkingType lsmean   SE  df asymp.LCL asymp.UCL .group\n",
            " AMS            524 2.32 Inf       519       529  a    \n",
            " CMS            537 1.66 Inf       533       540   b   \n",
            "\n",
            "Results are averaged over the levels of: MonthsInMilk, CalvingSeason, Parity \n",
            "Degrees-of-freedom method: asymptotic \n",
            "Confidence level used: 0.95 \n",
            "Conf-level adjustment: sidak method for 2 estimates \n",
            "significance level used: alpha = 0.05 \n"
          ],
          "name": "stdout"
        }
      ]
    },
    {
      "cell_type": "markdown",
      "metadata": {
        "id": "6H8NuM30FDfx"
      },
      "source": [
        "## Interactions"
      ]
    },
    {
      "cell_type": "markdown",
      "metadata": {
        "id": "9cxchpv_FHEv"
      },
      "source": [
        "### MonthsInMilk by parity"
      ]
    },
    {
      "cell_type": "code",
      "metadata": {
        "colab": {
          "base_uri": "https://localhost:8080/"
        },
        "id": "615Q0g5vFOsN",
        "outputId": "6afc7694-9a50-4ea3-a0de-50a797c9b394"
      },
      "source": [
        "%%R\n",
        "LSMs<-lsmeans::lsmeans(finalModel, pairwise ~ MonthsInMilk|Parity, type = \"response\", glhargs=list())\n",
        "multcomp::cld(LSMs[[1]], alpha=0.05, Letters=letters, adjust=\"tukey\")"
      ],
      "execution_count": null,
      "outputs": [
        {
          "output_type": "stream",
          "text": [
            "R[write to console]: Note: D.f. calculations have been disabled because the number of observations exceeds 3000.\n",
            "To enable adjustments, add the argument 'pbkrtest.limit = 42548' (or larger)\n",
            "[or, globally, 'set emm_options(pbkrtest.limit = 42548)' or larger];\n",
            "but be warned that this may result in large computation time and memory use.\n",
            "\n",
            "R[write to console]: Note: D.f. calculations have been disabled because the number of observations exceeds 3000.\n",
            "To enable adjustments, add the argument 'lmerTest.limit = 42548' (or larger)\n",
            "[or, globally, 'set emm_options(lmerTest.limit = 42548)' or larger];\n",
            "but be warned that this may result in large computation time and memory use.\n",
            "\n",
            "R[write to console]: Note: adjust = \"tukey\" was changed to \"sidak\"\n",
            "because \"tukey\" is only appropriate for one set of pairwise comparisons\n",
            "\n"
          ],
          "name": "stderr"
        },
        {
          "output_type": "stream",
          "text": [
            "Parity = 1:\n",
            " MonthsInMilk lsmean   SE  df asymp.LCL asymp.UCL .group   \n",
            " 0               437 2.59 Inf       430       444  a       \n",
            " -1              441 3.08 Inf       432       450  a       \n",
            " 1               511 2.65 Inf       503       518   b      \n",
            " 2               529 2.62 Inf       521       536    c     \n",
            " 3               539 2.59 Inf       532       547     d    \n",
            " 8               541 2.61 Inf       533       548     d    \n",
            " 7               542 2.61 Inf       534       549     d    \n",
            " 6               543 2.61 Inf       536       551     d    \n",
            " 9               544 2.62 Inf       536       551     d    \n",
            " 10              545 2.60 Inf       537       552     d    \n",
            " 5               546 2.59 Inf       539       554     d    \n",
            " 4               547 2.58 Inf       539       554     d    \n",
            "\n",
            "Parity = 2:\n",
            " MonthsInMilk lsmean   SE  df asymp.LCL asymp.UCL .group   \n",
            " 0               516 2.55 Inf       509       524  a       \n",
            " -1              530 2.61 Inf       522       537   b      \n",
            " 10              533 2.63 Inf       525       540   bc     \n",
            " 9               536 2.62 Inf       529       544   bcd    \n",
            " 8               537 2.60 Inf       530       545   bcd    \n",
            " 7               541 2.60 Inf       533       548    cd    \n",
            " 6               541 2.60 Inf       534       549    cde   \n",
            " 1               545 2.61 Inf       538       552     de   \n",
            " 5               551 2.60 Inf       544       558      ef  \n",
            " 2               556 2.60 Inf       548       563       f  \n",
            " 4               556 2.61 Inf       549       564       f  \n",
            " 3               557 2.60 Inf       549       564       f  \n",
            "\n",
            "Parity = 3+:\n",
            " MonthsInMilk lsmean   SE  df asymp.LCL asymp.UCL .group   \n",
            " 0               477 2.00 Inf       471       483  a       \n",
            " -1              498 2.02 Inf       492       504   b      \n",
            " 10              522 2.20 Inf       515       528    c     \n",
            " 1               524 2.09 Inf       518       530    cd    \n",
            " 9               527 2.19 Inf       521       533    cde   \n",
            " 8               531 2.18 Inf       525       537     def  \n",
            " 7               535 2.17 Inf       529       541      ef  \n",
            " 6               538 2.15 Inf       532       544       fg \n",
            " 5               543 2.14 Inf       537       549        gh\n",
            " 2               546 2.11 Inf       540       552         h\n",
            " 4               548 2.13 Inf       542       554         h\n",
            " 3               548 2.12 Inf       542       555         h\n",
            "\n",
            "Results are averaged over the levels of: CalvingSeason, MilkingType \n",
            "Degrees-of-freedom method: asymptotic \n",
            "Confidence level used: 0.95 \n",
            "Conf-level adjustment: sidak method for 12 estimates \n",
            "P value adjustment: tukey method for comparing a family of 12 estimates \n",
            "significance level used: alpha = 0.05 \n"
          ],
          "name": "stdout"
        }
      ]
    },
    {
      "cell_type": "code",
      "metadata": {
        "colab": {
          "base_uri": "https://localhost:8080/",
          "height": 497
        },
        "id": "csuFNhx4FU1f",
        "outputId": "c087dd83-777e-4217-bca2-a6890a930323"
      },
      "source": [
        "%%R\n",
        "dfPValues <- summary(LSMs)[[2]]\n",
        "dfLMSs <- summary(LSMs)[[1]]\n",
        "dfLMSs %>% \n",
        "  mutate(label = if_else(MonthsInMilk == max(as.numeric(MonthsInMilk)), as.character(Parity), NA_character_)) %>%\n",
        "  ggplot(\n",
        "  aes(\n",
        "    x=MonthsInMilk,\n",
        "    y=lsmean,\n",
        "    group=Parity, \n",
        "    color=Parity)\n",
        "    ) +\n",
        "  geom_line() +  \n",
        "  geom_errorbar(\n",
        "    aes(ymin=asymp.LCL, \n",
        "        ymax=asymp.UCL), \n",
        "    width=.2,\n",
        "    position=position_dodge(0.05)) +\n",
        "  labs(\n",
        "    title = \"Rumination time (min/day)\", \n",
        "    y=\"Minutes per day\" , \n",
        "    x = \"Months in milk\") +\n",
        "  theme_bw() +\n",
        "  theme(plot.title = element_text(hjust = 0.5),\n",
        "        panel.border = element_blank(), \n",
        "        panel.grid.major = element_blank(),\n",
        "        panel.grid.minor = element_blank(), \n",
        "        axis.line = element_line(colour = \"black\"))"
      ],
      "execution_count": null,
      "outputs": [
        {
          "output_type": "display_data",
          "data": {
            "image/png": "[encoded data removed]"
          },
          "metadata": {
            "tags": []
          }
        }
      ]
    },
    {
      "cell_type": "markdown",
      "metadata": {
        "id": "b1d17qd5FaJI"
      },
      "source": [
        "### MonthsInMilk by milking type"
      ]
    },
    {
      "cell_type": "code",
      "metadata": {
        "colab": {
          "base_uri": "https://localhost:8080/"
        },
        "id": "DqR6_63GFedx",
        "outputId": "0c497f43-f655-44f6-bc3a-1ca262409120"
      },
      "source": [
        "%%R\n",
        "LSMs<-lsmeans::lsmeans(finalModel, pairwise ~ MonthsInMilk|MilkingType, type = \"response\", glhargs=list())\n",
        "multcomp::cld(LSMs[[1]], alpha=0.05, Letters=letters, adjust=\"tukey\")"
      ],
      "execution_count": null,
      "outputs": [
        {
          "output_type": "stream",
          "text": [
            "R[write to console]: Note: D.f. calculations have been disabled because the number of observations exceeds 3000.\n",
            "To enable adjustments, add the argument 'pbkrtest.limit = 42548' (or larger)\n",
            "[or, globally, 'set emm_options(pbkrtest.limit = 42548)' or larger];\n",
            "but be warned that this may result in large computation time and memory use.\n",
            "\n",
            "R[write to console]: Note: D.f. calculations have been disabled because the number of observations exceeds 3000.\n",
            "To enable adjustments, add the argument 'lmerTest.limit = 42548' (or larger)\n",
            "[or, globally, 'set emm_options(lmerTest.limit = 42548)' or larger];\n",
            "but be warned that this may result in large computation time and memory use.\n",
            "\n",
            "R[write to console]: Note: adjust = \"tukey\" was changed to \"sidak\"\n",
            "because \"tukey\" is only appropriate for one set of pairwise comparisons\n",
            "\n"
          ],
          "name": "stderr"
        },
        {
          "output_type": "stream",
          "text": [
            "MilkingType = AMS:\n",
            " MonthsInMilk lsmean   SE  df asymp.LCL asymp.UCL .group  \n",
            " 0               464 2.90 Inf       456       473  a      \n",
            " -1              484 2.97 Inf       475       492   b     \n",
            " 1               516 2.97 Inf       507       524    c    \n",
            " 10              528 3.00 Inf       520       537     d   \n",
            " 9               530 3.00 Inf       522       539     de  \n",
            " 8               531 2.99 Inf       522       539     de  \n",
            " 7               534 2.99 Inf       526       543     def \n",
            " 6               535 2.98 Inf       526       543     def \n",
            " 2               539 2.97 Inf       531       548      efg\n",
            " 5               541 2.97 Inf       533       550       fg\n",
            " 3               544 2.97 Inf       536       553        g\n",
            " 4               545 2.96 Inf       537       553        g\n",
            "\n",
            "MilkingType = CMS:\n",
            " MonthsInMilk lsmean   SE  df asymp.LCL asymp.UCL .group  \n",
            " 0               489 2.05 Inf       483       495  a      \n",
            " -1              495 2.17 Inf       489       501  a      \n",
            " 1               538 2.09 Inf       532       544   b     \n",
            " 10              538 2.13 Inf       532       544   bc    \n",
            " 9               541 2.12 Inf       535       547   bcd   \n",
            " 8               542 2.11 Inf       536       548   bcde  \n",
            " 7               544 2.11 Inf       538       550    cde  \n",
            " 6               547 2.10 Inf       541       553     def \n",
            " 2               548 2.09 Inf       542       554      ef \n",
            " 3               552 2.09 Inf       546       558       fg\n",
            " 5               552 2.10 Inf       546       558       fg\n",
            " 4               555 2.10 Inf       549       561        g\n",
            "\n",
            "Results are averaged over the levels of: CalvingSeason, Parity \n",
            "Degrees-of-freedom method: asymptotic \n",
            "Confidence level used: 0.95 \n",
            "Conf-level adjustment: sidak method for 12 estimates \n",
            "P value adjustment: tukey method for comparing a family of 12 estimates \n",
            "significance level used: alpha = 0.05 \n"
          ],
          "name": "stdout"
        }
      ]
    },
    {
      "cell_type": "code",
      "metadata": {
        "colab": {
          "base_uri": "https://localhost:8080/",
          "height": 497
        },
        "id": "H2vMAQI-FiSj",
        "outputId": "35c6cd49-6aa3-4e82-922f-6258ee8d4c99"
      },
      "source": [
        "%%R\n",
        "dfPValues <- summary(LSMs)[[2]]\n",
        "dfLMSs <- summary(LSMs)[[1]]\n",
        "dfLMSs %>% \n",
        "  mutate(label = if_else(MonthsInMilk == max(as.numeric(MonthsInMilk)), as.character(MilkingType), NA_character_)) %>%\n",
        "  ggplot(\n",
        "  aes(\n",
        "    x=MonthsInMilk,\n",
        "    y=lsmean,\n",
        "    group=MilkingType, \n",
        "    color=MilkingType)\n",
        "    ) +\n",
        "  geom_line() +  \n",
        "  geom_errorbar(\n",
        "    aes(ymin=asymp.LCL, \n",
        "        ymax=asymp.UCL), \n",
        "    width=.2,\n",
        "    position=position_dodge(0.05)) +\n",
        "  labs(\n",
        "    title = \"Rumination time (min/day)\", \n",
        "    y=\"Minutes per day\" , \n",
        "    x = \"Months in milk\") +\n",
        "  theme_bw() +\n",
        "  theme(plot.title = element_text(hjust = 0.5),\n",
        "        panel.border = element_blank(), \n",
        "        panel.grid.major = element_blank(),\n",
        "        panel.grid.minor = element_blank(), \n",
        "        axis.line = element_line(colour = \"black\"))"
      ],
      "execution_count": null,
      "outputs": [
        {
          "output_type": "display_data",
          "data": {
            "image/png": "[encoded data removed]"
          },
          "metadata": {
            "tags": []
          }
        }
      ]
    },
    {
      "cell_type": "markdown",
      "metadata": {
        "id": "WYyNHf40FrH6"
      },
      "source": [
        "### MonthsInMilk by calving season"
      ]
    },
    {
      "cell_type": "code",
      "metadata": {
        "colab": {
          "base_uri": "https://localhost:8080/"
        },
        "id": "xb-Vz85xFvk4",
        "outputId": "7781a93d-97ff-4d09-a03b-64849f0e4c58"
      },
      "source": [
        "%%R\n",
        "LSMs<-lsmeans::lsmeans(finalModel, pairwise ~ MonthsInMilk|CalvingSeason, type = \"response\", glhargs=list())\n",
        "multcomp::cld(LSMs[[1]], alpha=0.05, Letters=letters, adjust=\"tukey\")"
      ],
      "execution_count": null,
      "outputs": [
        {
          "output_type": "stream",
          "text": [
            "R[write to console]: Note: D.f. calculations have been disabled because the number of observations exceeds 3000.\n",
            "To enable adjustments, add the argument 'pbkrtest.limit = 42548' (or larger)\n",
            "[or, globally, 'set emm_options(pbkrtest.limit = 42548)' or larger];\n",
            "but be warned that this may result in large computation time and memory use.\n",
            "\n",
            "R[write to console]: Note: D.f. calculations have been disabled because the number of observations exceeds 3000.\n",
            "To enable adjustments, add the argument 'lmerTest.limit = 42548' (or larger)\n",
            "[or, globally, 'set emm_options(lmerTest.limit = 42548)' or larger];\n",
            "but be warned that this may result in large computation time and memory use.\n",
            "\n",
            "R[write to console]: Note: adjust = \"tukey\" was changed to \"sidak\"\n",
            "because \"tukey\" is only appropriate for one set of pairwise comparisons\n",
            "\n"
          ],
          "name": "stderr"
        },
        {
          "output_type": "stream",
          "text": [
            "CalvingSeason = Autumn:\n",
            " MonthsInMilk lsmean   SE  df asymp.LCL asymp.UCL .group  \n",
            " 0               468 2.45 Inf       461       475  a      \n",
            " -1              479 2.64 Inf       472       487   b     \n",
            " 1               524 2.53 Inf       516       531    c    \n",
            " 8               526 2.67 Inf       518       533    c    \n",
            " 7               530 2.68 Inf       522       538    cd   \n",
            " 9               531 2.66 Inf       523       539    cd   \n",
            " 10              532 2.64 Inf       525       540    cd   \n",
            " 2               537 2.57 Inf       529       544     de  \n",
            " 6               538 2.69 Inf       530       546     def \n",
            " 3               544 2.64 Inf       537       552      ef \n",
            " 5               545 2.67 Inf       537       553      ef \n",
            " 4               548 2.66 Inf       540       555       f \n",
            "\n",
            "CalvingSeason = Spring:\n",
            " MonthsInMilk lsmean   SE  df asymp.LCL asymp.UCL .group  \n",
            " 0               485 2.72 Inf       477       493  a      \n",
            " -1              497 2.85 Inf       489       506   b     \n",
            " 1               519 2.82 Inf       511       527    c    \n",
            " 2               537 2.81 Inf       529       545     d   \n",
            " 6               538 2.70 Inf       530       546     de  \n",
            " 7               539 2.75 Inf       531       547     de  \n",
            " 8               541 2.80 Inf       533       549     def \n",
            " 9               545 2.91 Inf       536       553     def \n",
            " 10              545 2.96 Inf       536       553     defg\n",
            " 3               548 2.78 Inf       540       556      efg\n",
            " 5               551 2.75 Inf       543       559       fg\n",
            " 4               556 2.76 Inf       548       564        g\n",
            "\n",
            "CalvingSeason = Summer:\n",
            " MonthsInMilk lsmean   SE  df asymp.LCL asymp.UCL .group  \n",
            " 0               468 2.44 Inf       461       475  a      \n",
            " -1              486 2.57 Inf       479       494   b     \n",
            " 1               522 2.51 Inf       515       529    c    \n",
            " 10              524 2.64 Inf       517       532    cd   \n",
            " 9               533 2.66 Inf       525       541     de  \n",
            " 8               542 2.65 Inf       534       549      ef \n",
            " 7               544 2.64 Inf       537       552       f \n",
            " 2               545 2.49 Inf       537       552       f \n",
            " 6               545 2.61 Inf       537       552       f \n",
            " 3               547 2.44 Inf       540       554       f \n",
            " 5               548 2.53 Inf       541       556       f \n",
            " 4               549 2.47 Inf       542       556       f \n",
            "\n",
            "CalvingSeason = Winter:\n",
            " MonthsInMilk lsmean   SE  df asymp.LCL asymp.UCL .group  \n",
            " 0               486 2.73 Inf       478       494  a      \n",
            " -1              495 2.85 Inf       487       503  a      \n",
            " 10              531 2.77 Inf       523       539   b     \n",
            " 9               534 2.76 Inf       526       542   bc    \n",
            " 8               537 2.80 Inf       529       545   bcd   \n",
            " 6               542 2.84 Inf       534       550   bcd   \n",
            " 1               542 2.90 Inf       534       550   bcd   \n",
            " 5               542 2.86 Inf       534       550    cde  \n",
            " 7               543 2.83 Inf       535       551    cde  \n",
            " 4               548 2.88 Inf       539       556     def \n",
            " 3               553 2.90 Inf       545       562      ef \n",
            " 2               555 2.90 Inf       547       564       f \n",
            "\n",
            "Results are averaged over the levels of: Parity, MilkingType \n",
            "Degrees-of-freedom method: asymptotic \n",
            "Confidence level used: 0.95 \n",
            "Conf-level adjustment: sidak method for 12 estimates \n",
            "P value adjustment: tukey method for comparing a family of 12 estimates \n",
            "significance level used: alpha = 0.05 \n"
          ],
          "name": "stdout"
        }
      ]
    },
    {
      "cell_type": "code",
      "metadata": {
        "colab": {
          "base_uri": "https://localhost:8080/",
          "height": 497
        },
        "id": "D-ebK1RkFy23",
        "outputId": "4894546d-2b9c-4d42-ef67-ca1db95e36a0"
      },
      "source": [
        "%%R\n",
        "dfPValues <- summary(LSMs)[[2]]\n",
        "dfLMSs <- summary(LSMs)[[1]]\n",
        "dfLMSs %>% \n",
        "  mutate(label = if_else(MonthsInMilk == max(as.numeric(MonthsInMilk)), as.character(CalvingSeason), NA_character_)) %>%\n",
        "  ggplot(\n",
        "  aes(\n",
        "    x=MonthsInMilk,\n",
        "    y=lsmean,\n",
        "    group=CalvingSeason, \n",
        "    color=CalvingSeason)\n",
        "    ) +\n",
        "  geom_line() +  \n",
        "  geom_errorbar(\n",
        "    aes(ymin=asymp.LCL, \n",
        "        ymax=asymp.UCL), \n",
        "    width=.2,\n",
        "    position=position_dodge(0.05)) +\n",
        "  labs(\n",
        "    title = \"Rumination time (min/day)\", \n",
        "    y=\"Minutes per day\" , \n",
        "    x = \"Months in milk\") +\n",
        "  theme_bw() +\n",
        "  theme(plot.title = element_text(hjust = 0.5),\n",
        "        panel.border = element_blank(), \n",
        "        panel.grid.major = element_blank(),\n",
        "        panel.grid.minor = element_blank(), \n",
        "        axis.line = element_line(colour = \"black\"))"
      ],
      "execution_count": null,
      "outputs": [
        {
          "output_type": "display_data",
          "data": {
            "image/png": "[encoded data removed]"
          },
          "metadata": {
            "tags": []
          }
        }
      ]
    }
  ]
}