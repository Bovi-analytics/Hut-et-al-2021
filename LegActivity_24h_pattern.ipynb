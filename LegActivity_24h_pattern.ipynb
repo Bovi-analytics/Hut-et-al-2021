{
  "nbformat": 4,
  "nbformat_minor": 0,
  "metadata": {
    "colab": {
      "name": "LegActivity 24h pattern",
      "provenance": [],
      "collapsed_sections": [],
      "toc_visible": true,
      "include_colab_link": true
    },
    "kernelspec": {
      "name": "python3",
      "display_name": "Python 3"
    }
  },
  "cells": [
    {
      "cell_type": "markdown",
      "metadata": {
        "id": "view-in-github",
        "colab_type": "text"
      },
      "source": [
        "<a href=\"https://colab.research.google.com/github/Bovi-analytics/hut-et-al-2021/blob/master/LegActivity_24h_pattern.ipynb\" target=\"_parent\"><img src=\"https://colab.research.google.com/assets/colab-badge.svg\" alt=\"Open In Colab\"/></a>"
      ]
    },
    {
      "cell_type": "markdown",
      "metadata": {
        "id": "Vh5O0OYYKUDT"
      },
      "source": [
        "# Statistical notebook for leg activity/number of steps"
      ]
    },
    {
      "cell_type": "markdown",
      "metadata": {
        "id": "QwHrqjUqKcUI"
      },
      "source": [
        "## Importing of google drive"
      ]
    },
    {
      "cell_type": "code",
      "metadata": {
        "colab": {
          "base_uri": "https://localhost:8080/"
        },
        "id": "WCUSUtqb21vg",
        "outputId": "afbeadac-4760-43f7-c7c8-e5058b52e596"
      },
      "source": [
        "from google.colab import drive\n",
        "drive.mount('/content/drive')"
      ],
      "execution_count": null,
      "outputs": [
        {
          "output_type": "stream",
          "text": [
            "Mounted at /content/drive\n"
          ],
          "name": "stdout"
        }
      ]
    },
    {
      "cell_type": "markdown",
      "metadata": {
        "id": "9D9KiYC1KmI5"
      },
      "source": [
        "## R loading"
      ]
    },
    {
      "cell_type": "code",
      "metadata": {
        "id": "TxkiqsiB23Kg"
      },
      "source": [
        "%reload_ext rpy2.ipython"
      ],
      "execution_count": null,
      "outputs": []
    },
    {
      "cell_type": "code",
      "metadata": {
        "id": "j8C3IaITeWbp"
      },
      "source": [
        "%%R\n",
        "lib_loc <- \"/content/drive/Shareddrives/Bovi-Analytics/R-lib/\""
      ],
      "execution_count": null,
      "outputs": []
    },
    {
      "cell_type": "code",
      "metadata": {
        "colab": {
          "base_uri": "https://localhost:8080/"
        },
        "id": "Kbs4dMz5K0rO",
        "outputId": "a61608eb-be3f-4b78-b52b-ead2e57d14f2"
      },
      "source": [
        "%%R\n",
        "package_list <- c(\"ggplot2\",\n",
        "                  \"readr\",\n",
        "                  \"plyr\",\n",
        "                  \"dplyr\",\n",
        "                  \"tidyr\",                \n",
        "                  \"lme4\",\n",
        "                  \"lmerTest\",\n",
        "                  \"multcompView\",\n",
        "                  \"mvtnorm\",\n",
        "                  \"TH.data\",\n",
        "                  \"multcomp\",\n",
        "                  \"emmeans\",\n",
        "                  \"lsmeans\",\n",
        "                  \"carData\",\n",
        "                  \"car\"\n",
        "                  )\n",
        "\n",
        "for (pkg in package_list) {\n",
        "  if (pkg %in% rownames(.packages()) == FALSE)\n",
        "  {library(pkg, lib.loc = lib_loc, character.only = TRUE)}\n",
        "\n",
        "}"
      ],
      "execution_count": null,
      "outputs": [
        {
          "output_type": "stream",
          "text": [
            "R[write to console]: \n",
            "Attaching package: ‘dplyr’\n",
            "\n",
            "\n",
            "R[write to console]: The following objects are masked from ‘package:plyr’:\n",
            "\n",
            "    arrange, count, desc, failwith, id, mutate, rename, summarise,\n",
            "    summarize\n",
            "\n",
            "\n",
            "R[write to console]: The following objects are masked from ‘package:stats’:\n",
            "\n",
            "    filter, lag\n",
            "\n",
            "\n",
            "R[write to console]: The following objects are masked from ‘package:base’:\n",
            "\n",
            "    intersect, setdiff, setequal, union\n",
            "\n",
            "\n",
            "R[write to console]: Loading required package: Matrix\n",
            "\n",
            "R[write to console]: \n",
            "Attaching package: ‘Matrix’\n",
            "\n",
            "\n",
            "R[write to console]: The following objects are masked from ‘package:tidyr’:\n",
            "\n",
            "    expand, pack, unpack\n",
            "\n",
            "\n",
            "R[write to console]: \n",
            "Attaching package: ‘lmerTest’\n",
            "\n",
            "\n",
            "R[write to console]: The following object is masked from ‘package:lme4’:\n",
            "\n",
            "    lmer\n",
            "\n",
            "\n",
            "R[write to console]: The following object is masked from ‘package:stats’:\n",
            "\n",
            "    step\n",
            "\n",
            "\n",
            "R[write to console]: Loading required package: survival\n",
            "\n",
            "R[write to console]: Loading required package: MASS\n",
            "\n",
            "R[write to console]: \n",
            "Attaching package: ‘MASS’\n",
            "\n",
            "\n",
            "R[write to console]: The following object is masked from ‘package:dplyr’:\n",
            "\n",
            "    select\n",
            "\n",
            "\n",
            "R[write to console]: \n",
            "Attaching package: ‘TH.data’\n",
            "\n",
            "\n",
            "R[write to console]: The following object is masked from ‘package:MASS’:\n",
            "\n",
            "    geyser\n",
            "\n",
            "\n",
            "R[write to console]: The 'lsmeans' package is now basically a front end for 'emmeans'.\n",
            "Users are encouraged to switch the rest of the way.\n",
            "See help('transition') for more information, including how to\n",
            "convert old 'lsmeans' objects and scripts to work with 'emmeans'.\n",
            "\n",
            "R[write to console]: Registered S3 methods overwritten by 'car':\n",
            "  method                          from\n",
            "  influence.merMod                lme4\n",
            "  cooks.distance.influence.merMod lme4\n",
            "  dfbeta.influence.merMod         lme4\n",
            "  dfbetas.influence.merMod        lme4\n",
            "\n",
            "R[write to console]: \n",
            "Attaching package: ‘car’\n",
            "\n",
            "\n",
            "R[write to console]: The following object is masked from ‘package:dplyr’:\n",
            "\n",
            "    recode\n",
            "\n",
            "\n"
          ],
          "name": "stderr"
        }
      ]
    },
    {
      "cell_type": "code",
      "metadata": {
        "id": "gSKZrnLrK4l0"
      },
      "source": [
        "%%R\n",
        "options(warn=-1)"
      ],
      "execution_count": null,
      "outputs": []
    },
    {
      "cell_type": "markdown",
      "metadata": {
        "id": "saNJOQ4JK6EU"
      },
      "source": [
        "## Data loading into dataframe"
      ]
    },
    {
      "cell_type": "code",
      "metadata": {
        "id": "EdsoTgv63LDl",
        "colab": {
          "base_uri": "https://localhost:8080/"
        },
        "outputId": "38b5c00a-f8b9-4968-e614-eac0fd2fee08"
      },
      "source": [
        "%%R\n",
        "\n",
        "#path <- \"/content/drive/Shareddrives/Bovi-Analytics/Projects/SenseOfSensors/CsvData/SensorAggRepartitioned08032021/ObservationType=LegActivityStepsPer2Hours/part-00000-tid-183333261268000902-29b42dfd-564e-4e7d-8ea7-05b4fb30d5d6-1694-13.c000.csv\"\n",
        "AnalysisData <- \n",
        "  readr::read_csv(\"/content/drive/Shareddrives/Bovi-Analytics/Projects/SenseOfSensors/CsvData/SensorAggRepartitioned08032021/ObservationType=LegActivityStepsPer2Hours/part-00000-tid-183333261268000902-29b42dfd-564e-4e7d-8ea7-05b4fb30d5d6-1694-13.c000.csv\", \n",
        "    col_types = readr::cols(HerdIdentifier = readr::col_character(), \n",
        "        TransitionLactationNumber = readr::col_integer(), \n",
        "        TransitionParity = readr::col_character(), \n",
        "        TransitionMonthsInMilk = readr::col_integer(), \n",
        "        TransitionCalvingDate = readr::col_character(), \n",
        "        Hour = readr::col_integer(), \n",
        "        Observations = readr::col_integer())) %>% \n",
        "  dplyr::filter(dplyr::between(TransitionMonthsInMilk, 1, 10)) %>%\n",
        "  dplyr::mutate(\n",
        "    AnimalIdentifier = factor(AnimalIdentifier),\n",
        "    HerdIdentifier = factor(HerdIdentifier),\n",
        "    Parity = factor(TransitionParity),\n",
        "    MonthsInMilk = factor(TransitionMonthsInMilk),\n",
        "    CalvingSeason = factor(TransitionSeason),\n",
        "    Hour = factor(Hour),\n",
        "    SensorValue = ObservationValue,\n",
        "    MilkingType = factor(case_when(\n",
        "    HerdIdentifier %in% c(\"544\", \"2514\", \"3314\")~\"AMS\",\n",
        "    TRUE~\"CMS\"\n",
        "  ))\n",
        "  ) %>%\n",
        "  dplyr::select(AnimalIdentifier, HerdIdentifier, Parity, MonthsInMilk, CalvingSeason, Hour, SensorValue, MilkingType) %>%\n",
        "  tidyr::drop_na()"
      ],
      "execution_count": null,
      "outputs": [
        {
          "output_type": "stream",
          "text": [
            "|===================================================================| 100% 54 MB\n"
          ],
          "name": "stdout"
        }
      ]
    },
    {
      "cell_type": "code",
      "metadata": {
        "colab": {
          "base_uri": "https://localhost:8080/"
        },
        "id": "8z9y_tVkLb2B",
        "outputId": "0e37216e-2bfe-41f4-ca1a-c90708a49197"
      },
      "source": [
        "%%R\n",
        "head(AnalysisData)"
      ],
      "execution_count": null,
      "outputs": [
        {
          "output_type": "stream",
          "text": [
            "# A tibble: 6 x 8\n",
            "  AnimalIdentifier HerdIdentifier Parity MonthsInMilk CalvingSeason Hour \n",
            "  <fct>            <fct>          <fct>  <fct>        <fct>         <fct>\n",
            "1 104              2297           1      6            Autumn        18   \n",
            "2 104              2297           2      3            Autumn        18   \n",
            "3 600              2514           3+     10           Summer        14   \n",
            "4 600              2514           3+     6            Summer        4    \n",
            "5 9131             2011           2      1            Winter        2    \n",
            "6 9131             2011           2      7            Winter        12   \n",
            "# … with 2 more variables: SensorValue <dbl>, MilkingType <fct>\n"
          ],
          "name": "stdout"
        }
      ]
    },
    {
      "cell_type": "code",
      "metadata": {
        "colab": {
          "base_uri": "https://localhost:8080/"
        },
        "id": "JhFEbPyqLdbs",
        "outputId": "8c3c4748-0cc7-4bbd-b91b-42875318f58b"
      },
      "source": [
        "%%R\n",
        "str(AnalysisData)"
      ],
      "execution_count": null,
      "outputs": [
        {
          "output_type": "stream",
          "text": [
            "tibble[,8] [429,091 × 8] (S3: tbl_df/tbl/data.frame)\n",
            " $ AnimalIdentifier: Factor w/ 1053 levels \"1\",\"2\",\"3\",\"4\",..: 104 104 248 248 947 947 947 975 317 119 ...\n",
            " $ HerdIdentifier  : Factor w/ 8 levels \"2011\",\"2297\",..: 2 2 3 3 1 1 1 1 3 7 ...\n",
            " $ Parity          : Factor w/ 3 levels \"1\",\"2\",\"3+\": 1 2 3 3 2 2 2 3 3 1 ...\n",
            " $ MonthsInMilk    : Factor w/ 10 levels \"1\",\"2\",\"3\",\"4\",..: 6 3 10 6 1 7 6 1 6 1 ...\n",
            " $ CalvingSeason   : Factor w/ 4 levels \"Autumn\",\"Spring\",..: 1 1 3 3 4 4 4 4 1 3 ...\n",
            " $ Hour            : Factor w/ 12 levels \"0\",\"2\",\"4\",\"6\",..: 10 10 8 3 2 7 8 1 6 8 ...\n",
            " $ SensorValue     : num [1:429091] 458.3 275 143.3 87.8 271.7 ...\n",
            " $ MilkingType     : Factor w/ 2 levels \"AMS\",\"CMS\": 2 2 1 1 2 2 2 2 1 1 ...\n"
          ],
          "name": "stdout"
        }
      ]
    },
    {
      "cell_type": "markdown",
      "metadata": {
        "id": "0deFm_NvLgmt"
      },
      "source": [
        "## Descriptive statistics"
      ]
    },
    {
      "cell_type": "code",
      "metadata": {
        "colab": {
          "base_uri": "https://localhost:8080/"
        },
        "id": "1dUIaIYDLkzn",
        "outputId": "486f1db3-0443-4071-863e-51433e88e863"
      },
      "source": [
        "%%R\n",
        "AnalysisData %>% group_by(\"Parity\") %>% n_distinct()"
      ],
      "execution_count": null,
      "outputs": [
        {
          "output_type": "stream",
          "text": [
            "[1] 429073\n"
          ],
          "name": "stdout"
        }
      ]
    },
    {
      "cell_type": "code",
      "metadata": {
        "colab": {
          "base_uri": "https://localhost:8080/"
        },
        "id": "oLMzvlJvLlGy",
        "outputId": "d4a3fe86-c0de-4dd2-e0c3-2c870df1d771"
      },
      "source": [
        "%%R\n",
        "AnalysisData %>%\n",
        "  group_by(Parity) %>%\n",
        "  summarise(Unique_Elements = n_distinct(AnimalIdentifier))"
      ],
      "execution_count": null,
      "outputs": [
        {
          "output_type": "stream",
          "text": [
            "# A tibble: 3 x 2\n",
            "  Parity Unique_Elements\n",
            "  <fct>            <int>\n",
            "1 1                  698\n",
            "2 2                  690\n",
            "3 3+                 729\n"
          ],
          "name": "stdout"
        }
      ]
    },
    {
      "cell_type": "code",
      "metadata": {
        "colab": {
          "base_uri": "https://localhost:8080/"
        },
        "id": "TrAkAeziLq-m",
        "outputId": "cd51b3f6-3bdf-4f82-8146-dcf4b707aed4"
      },
      "source": [
        "%%R\n",
        "AnalysisData %>%\n",
        "  summarise(Unique_Elements = n_distinct(AnimalIdentifier))"
      ],
      "execution_count": null,
      "outputs": [
        {
          "output_type": "stream",
          "text": [
            "# A tibble: 1 x 1\n",
            "  Unique_Elements\n",
            "            <int>\n",
            "1            1053\n"
          ],
          "name": "stdout"
        }
      ]
    },
    {
      "cell_type": "markdown",
      "metadata": {
        "id": "OJ9Djez0Lskh"
      },
      "source": [
        "# Model building"
      ]
    },
    {
      "cell_type": "markdown",
      "metadata": {
        "id": "VQVSDhTrLwBi"
      },
      "source": [
        "First we determine the null model"
      ]
    },
    {
      "cell_type": "markdown",
      "metadata": {
        "id": "kKFUVbBKL0WD"
      },
      "source": [
        "## Null model"
      ]
    },
    {
      "cell_type": "code",
      "metadata": {
        "id": "9luoxWQsLyW9"
      },
      "source": [
        "%%R\n",
        "Model.0 <- lme4::lmer(\n",
        "                  SensorValue ~ 1 + (1| HerdIdentifier:AnimalIdentifier), \n",
        "                  data = AnalysisData\n",
        "                  )\n"
      ],
      "execution_count": null,
      "outputs": []
    },
    {
      "cell_type": "markdown",
      "metadata": {
        "id": "u4wXlpddL3iL"
      },
      "source": [
        "## Univariable models"
      ]
    },
    {
      "cell_type": "code",
      "metadata": {
        "colab": {
          "base_uri": "https://localhost:8080/"
        },
        "id": "znbIjZ7BL6ag",
        "outputId": "c801232a-10f2-418f-d812-77308a46b129"
      },
      "source": [
        "%%R\n",
        "Model1.0 <- lme4::lmer(\n",
        "                  SensorValue ~ \n",
        "                  MonthsInMilk + \n",
        "                  (1| HerdIdentifier:AnimalIdentifier),\n",
        "                  REML = FALSE,\n",
        "                  data = AnalysisData\n",
        ")\n",
        "anova(Model.0,Model1.0,test=\"Chisq\")"
      ],
      "execution_count": null,
      "outputs": [
        {
          "output_type": "stream",
          "text": [
            "R[write to console]: refitting model(s) with ML (instead of REML)\n",
            "\n"
          ],
          "name": "stderr"
        },
        {
          "output_type": "stream",
          "text": [
            "Data: AnalysisData\n",
            "Models:\n",
            "Model.0: SensorValue ~ 1 + (1 | HerdIdentifier:AnimalIdentifier)\n",
            "Model1.0: SensorValue ~ MonthsInMilk + (1 | HerdIdentifier:AnimalIdentifier)\n",
            "         npar     AIC     BIC   logLik deviance  Chisq Df Pr(>Chisq)    \n",
            "Model.0     3 5853172 5853205 -2926583  5853166                         \n",
            "Model1.0   12 5851625 5851756 -2925800  5851601 1565.4  9  < 2.2e-16 ***\n",
            "---\n",
            "Signif. codes:  0 ‘***’ 0.001 ‘**’ 0.01 ‘*’ 0.05 ‘.’ 0.1 ‘ ’ 1\n"
          ],
          "name": "stdout"
        }
      ]
    },
    {
      "cell_type": "code",
      "metadata": {
        "colab": {
          "base_uri": "https://localhost:8080/"
        },
        "id": "IkaM782mL9D2",
        "outputId": "3b74a8c0-9cd4-41cb-c687-cf3daef0f33e"
      },
      "source": [
        "%%R\n",
        "Model1.1 <- lme4::lmer(\n",
        "                  SensorValue ~ \n",
        "                  Parity + \n",
        "                  (1| HerdIdentifier:AnimalIdentifier),\n",
        "                  REML = FALSE,\n",
        "                  data = AnalysisData\n",
        "                  )\n",
        "anova(Model.0,Model1.1,test=\"Chisq\")"
      ],
      "execution_count": null,
      "outputs": [
        {
          "output_type": "stream",
          "text": [
            "R[write to console]: refitting model(s) with ML (instead of REML)\n",
            "\n"
          ],
          "name": "stderr"
        },
        {
          "output_type": "stream",
          "text": [
            "Data: AnalysisData\n",
            "Models:\n",
            "Model.0: SensorValue ~ 1 + (1 | HerdIdentifier:AnimalIdentifier)\n",
            "Model1.1: SensorValue ~ Parity + (1 | HerdIdentifier:AnimalIdentifier)\n",
            "         npar     AIC     BIC   logLik deviance  Chisq Df Pr(>Chisq)    \n",
            "Model.0     3 5853172 5853205 -2926583  5853166                         \n",
            "Model1.1    5 5851064 5851119 -2925527  5851054 2112.3  2  < 2.2e-16 ***\n",
            "---\n",
            "Signif. codes:  0 ‘***’ 0.001 ‘**’ 0.01 ‘*’ 0.05 ‘.’ 0.1 ‘ ’ 1\n"
          ],
          "name": "stdout"
        }
      ]
    },
    {
      "cell_type": "code",
      "metadata": {
        "colab": {
          "base_uri": "https://localhost:8080/"
        },
        "id": "AttzkfsqL-OC",
        "outputId": "59a460f0-0554-40af-b55e-d650b3e9ed89"
      },
      "source": [
        "%%R\n",
        "Model1.2 <- lme4::lmer(\n",
        "                  SensorValue ~ \n",
        "                  HerdIdentifier + \n",
        "                  (1| HerdIdentifier:AnimalIdentifier),\n",
        "                  REML = FALSE,\n",
        "                  data = AnalysisData\n",
        "                  )\n",
        "anova(Model.0,Model1.2,test=\"Chisq\")"
      ],
      "execution_count": null,
      "outputs": [
        {
          "output_type": "stream",
          "text": [
            "R[write to console]: refitting model(s) with ML (instead of REML)\n",
            "\n"
          ],
          "name": "stderr"
        },
        {
          "output_type": "stream",
          "text": [
            "Data: AnalysisData\n",
            "Models:\n",
            "Model.0: SensorValue ~ 1 + (1 | HerdIdentifier:AnimalIdentifier)\n",
            "Model1.2: SensorValue ~ HerdIdentifier + (1 | HerdIdentifier:AnimalIdentifier)\n",
            "         npar     AIC     BIC   logLik deviance  Chisq Df Pr(>Chisq)    \n",
            "Model.0     3 5853172 5853205 -2926583  5853166                         \n",
            "Model1.2   10 5852120 5852229 -2926050  5852100 1066.5  7  < 2.2e-16 ***\n",
            "---\n",
            "Signif. codes:  0 ‘***’ 0.001 ‘**’ 0.01 ‘*’ 0.05 ‘.’ 0.1 ‘ ’ 1\n"
          ],
          "name": "stdout"
        }
      ]
    },
    {
      "cell_type": "code",
      "metadata": {
        "colab": {
          "base_uri": "https://localhost:8080/"
        },
        "id": "_tahz5bBMCJV",
        "outputId": "9cfb4c00-043f-4949-f81f-decd5954569b"
      },
      "source": [
        "%%R\n",
        "Model1.3 <- lme4::lmer(\n",
        "                  SensorValue ~ \n",
        "                  CalvingSeason +\n",
        "                  (1| HerdIdentifier:AnimalIdentifier),\n",
        "                  REML = FALSE,\n",
        "                  data = AnalysisData\n",
        "                  )\n",
        "anova(Model.0,Model1.3,test=\"Chisq\")"
      ],
      "execution_count": null,
      "outputs": [
        {
          "output_type": "stream",
          "text": [
            "R[write to console]: refitting model(s) with ML (instead of REML)\n",
            "\n"
          ],
          "name": "stderr"
        },
        {
          "output_type": "stream",
          "text": [
            "Data: AnalysisData\n",
            "Models:\n",
            "Model.0: SensorValue ~ 1 + (1 | HerdIdentifier:AnimalIdentifier)\n",
            "Model1.3: SensorValue ~ CalvingSeason + (1 | HerdIdentifier:AnimalIdentifier)\n",
            "         npar     AIC     BIC   logLik deviance  Chisq Df Pr(>Chisq)    \n",
            "Model.0     3 5853172 5853205 -2926583  5853166                         \n",
            "Model1.3    6 5852631 5852697 -2926310  5852619 547.04  3  < 2.2e-16 ***\n",
            "---\n",
            "Signif. codes:  0 ‘***’ 0.001 ‘**’ 0.01 ‘*’ 0.05 ‘.’ 0.1 ‘ ’ 1\n"
          ],
          "name": "stdout"
        }
      ]
    },
    {
      "cell_type": "code",
      "metadata": {
        "colab": {
          "base_uri": "https://localhost:8080/"
        },
        "id": "-uGw28aIMFOn",
        "outputId": "a83562b6-02f3-44db-e678-7364c57feb85"
      },
      "source": [
        "%%R\n",
        "Model1.4 <- lme4::lmer(\n",
        "                  SensorValue ~ \n",
        "                  Hour +\n",
        "                  (1| HerdIdentifier:AnimalIdentifier),\n",
        "                  REML = FALSE,\n",
        "                  data = AnalysisData\n",
        "                  )\n",
        "anova(Model.0,Model1.4,test=\"Chisq\")"
      ],
      "execution_count": null,
      "outputs": [
        {
          "output_type": "stream",
          "text": [
            "R[write to console]: refitting model(s) with ML (instead of REML)\n",
            "\n"
          ],
          "name": "stderr"
        },
        {
          "output_type": "stream",
          "text": [
            "Data: AnalysisData\n",
            "Models:\n",
            "Model.0: SensorValue ~ 1 + (1 | HerdIdentifier:AnimalIdentifier)\n",
            "Model1.4: SensorValue ~ Hour + (1 | HerdIdentifier:AnimalIdentifier)\n",
            "         npar     AIC     BIC   logLik deviance Chisq Df Pr(>Chisq)    \n",
            "Model.0     3 5853172 5853205 -2926583  5853166                        \n",
            "Model1.4   14 5765090 5765243 -2882531  5765062 88105 11  < 2.2e-16 ***\n",
            "---\n",
            "Signif. codes:  0 ‘***’ 0.001 ‘**’ 0.01 ‘*’ 0.05 ‘.’ 0.1 ‘ ’ 1\n"
          ],
          "name": "stdout"
        }
      ]
    },
    {
      "cell_type": "code",
      "metadata": {
        "colab": {
          "base_uri": "https://localhost:8080/"
        },
        "id": "cqwOC58QMHL-",
        "outputId": "61b49ff4-2a62-4931-e322-561c2475ae06"
      },
      "source": [
        "%%R\n",
        "Model1.5 <- lme4::lmer(\n",
        "                  SensorValue ~ \n",
        "                  MilkingType +\n",
        "                  (1| HerdIdentifier:AnimalIdentifier),\n",
        "                  REML = FALSE,\n",
        "                  data = AnalysisData\n",
        "                  )\n",
        "anova(Model.0,Model1.5,test=\"Chisq\")"
      ],
      "execution_count": null,
      "outputs": [
        {
          "output_type": "stream",
          "text": [
            "R[write to console]: refitting model(s) with ML (instead of REML)\n",
            "\n"
          ],
          "name": "stderr"
        },
        {
          "output_type": "stream",
          "text": [
            "Data: AnalysisData\n",
            "Models:\n",
            "Model.0: SensorValue ~ 1 + (1 | HerdIdentifier:AnimalIdentifier)\n",
            "Model1.5: SensorValue ~ MilkingType + (1 | HerdIdentifier:AnimalIdentifier)\n",
            "         npar     AIC     BIC   logLik deviance  Chisq Df Pr(>Chisq)    \n",
            "Model.0     3 5853172 5853205 -2926583  5853166                         \n",
            "Model1.5    4 5852355 5852399 -2926174  5852347 818.83  1  < 2.2e-16 ***\n",
            "---\n",
            "Signif. codes:  0 ‘***’ 0.001 ‘**’ 0.01 ‘*’ 0.05 ‘.’ 0.1 ‘ ’ 1\n"
          ],
          "name": "stdout"
        }
      ]
    },
    {
      "cell_type": "markdown",
      "metadata": {
        "id": "Dc87S7MlMJS8"
      },
      "source": [
        "## Multivariable models"
      ]
    },
    {
      "cell_type": "code",
      "metadata": {
        "id": "L_3nf7xXMNYP"
      },
      "source": [
        "%%R\n",
        "Model2.0 <- lme4::lmer(\n",
        "                  SensorValue ~ \n",
        "                  Parity + MonthsInMilk + CalvingSeason + Hour + MilkingType +\n",
        "                  (1| HerdIdentifier:AnimalIdentifier),\n",
        "                  REML = FALSE,\n",
        "                  data = AnalysisData\n",
        "                  )"
      ],
      "execution_count": null,
      "outputs": []
    },
    {
      "cell_type": "code",
      "metadata": {
        "colab": {
          "base_uri": "https://localhost:8080/"
        },
        "id": "w7zFxk0YMQ0A",
        "outputId": "c27bbc83-93bb-4459-a9c4-e50db3a43d59"
      },
      "source": [
        "%%R\n",
        "drop1(Model2.0,test=\"Chisq\")"
      ],
      "execution_count": null,
      "outputs": [
        {
          "output_type": "stream",
          "text": [
            "Single term deletions\n",
            "\n",
            "Model:\n",
            "SensorValue ~ Parity + MonthsInMilk + CalvingSeason + Hour + \n",
            "    MilkingType + (1 | HerdIdentifier:AnimalIdentifier)\n",
            "              npar     AIC   LRT   Pr(Chi)    \n",
            "<none>             5758763                    \n",
            "Parity           2 5761613  2853 < 2.2e-16 ***\n",
            "MonthsInMilk     9 5761140  2395 < 2.2e-16 ***\n",
            "CalvingSeason    3 5759441   684 < 2.2e-16 ***\n",
            "Hour            11 5847815 89074 < 2.2e-16 ***\n",
            "MilkingType      1 5759596   835 < 2.2e-16 ***\n",
            "---\n",
            "Signif. codes:  0 ‘***’ 0.001 ‘**’ 0.01 ‘*’ 0.05 ‘.’ 0.1 ‘ ’ 1\n"
          ],
          "name": "stdout"
        }
      ]
    },
    {
      "cell_type": "markdown",
      "metadata": {
        "id": "twHa5RtoMVEk"
      },
      "source": [
        "## Introduction of interactions"
      ]
    },
    {
      "cell_type": "markdown",
      "metadata": {
        "id": "1RupuReNMalG"
      },
      "source": [
        "### Interactions with MonthsInMilk"
      ]
    },
    {
      "cell_type": "code",
      "metadata": {
        "colab": {
          "base_uri": "https://localhost:8080/"
        },
        "id": "rzq31MUKMev7",
        "outputId": "65a05f49-0ddf-4f36-e115-afe2da0f2cdb"
      },
      "source": [
        "%%R\n",
        "Model2.1 <- lme4::lmer(\n",
        "                  SensorValue ~ \n",
        "                  MonthsInMilk*Parity + Hour + HerdIdentifier + CalvingSeason +\n",
        "                  (1| HerdIdentifier:AnimalIdentifier),\n",
        "                  REML = FALSE,\n",
        "                  data = AnalysisData\n",
        ")\n",
        "anova(Model2.0,Model2.1,test=\"Chisq\")"
      ],
      "execution_count": null,
      "outputs": [
        {
          "output_type": "stream",
          "text": [
            "Data: AnalysisData\n",
            "Models:\n",
            "Model2.0: SensorValue ~ Parity + MonthsInMilk + CalvingSeason + Hour + \n",
            "Model2.0:     MilkingType + (1 | HerdIdentifier:AnimalIdentifier)\n",
            "Model2.1: SensorValue ~ MonthsInMilk * Parity + Hour + HerdIdentifier + \n",
            "Model2.1:     CalvingSeason + (1 | HerdIdentifier:AnimalIdentifier)\n",
            "         npar     AIC     BIC   logLik deviance  Chisq Df Pr(>Chisq)    \n",
            "Model2.0   29 5758763 5759082 -2879353  5758705                         \n",
            "Model2.1   53 5757804 5758386 -2878849  5757698 1006.9 24  < 2.2e-16 ***\n",
            "---\n",
            "Signif. codes:  0 ‘***’ 0.001 ‘**’ 0.01 ‘*’ 0.05 ‘.’ 0.1 ‘ ’ 1\n"
          ],
          "name": "stdout"
        }
      ]
    },
    {
      "cell_type": "code",
      "metadata": {
        "colab": {
          "base_uri": "https://localhost:8080/"
        },
        "id": "7hcR1FcIMhpU",
        "outputId": "8a014e2d-5a59-46b9-edf8-b94dc18984d1"
      },
      "source": [
        "%%R\n",
        "Model2.2 <- lme4::lmer(\n",
        "                  SensorValue ~ \n",
        "                  MonthsInMilk*MilkingType + Parity + Hour + CalvingSeason +\n",
        "                  (1| HerdIdentifier:AnimalIdentifier),\n",
        "                  REML = FALSE,\n",
        "                  data = AnalysisData\n",
        ")\n",
        "anova(Model2.0,Model2.2,test=\"Chisq\")"
      ],
      "execution_count": null,
      "outputs": [
        {
          "output_type": "stream",
          "text": [
            "Data: AnalysisData\n",
            "Models:\n",
            "Model2.0: SensorValue ~ Parity + MonthsInMilk + CalvingSeason + Hour + \n",
            "Model2.0:     MilkingType + (1 | HerdIdentifier:AnimalIdentifier)\n",
            "Model2.2: SensorValue ~ MonthsInMilk * MilkingType + Parity + Hour + CalvingSeason + \n",
            "Model2.2:     (1 | HerdIdentifier:AnimalIdentifier)\n",
            "         npar     AIC     BIC   logLik deviance  Chisq Df Pr(>Chisq)    \n",
            "Model2.0   29 5758763 5759082 -2879353  5758705                         \n",
            "Model2.2   38 5758695 5759112 -2879309  5758619 86.486  9  8.234e-15 ***\n",
            "---\n",
            "Signif. codes:  0 ‘***’ 0.001 ‘**’ 0.01 ‘*’ 0.05 ‘.’ 0.1 ‘ ’ 1\n"
          ],
          "name": "stdout"
        }
      ]
    },
    {
      "cell_type": "code",
      "metadata": {
        "colab": {
          "base_uri": "https://localhost:8080/"
        },
        "id": "OQxo1Ce8Mjwe",
        "outputId": "26df12cd-af33-4e62-9ea4-8b2d2d8e1280"
      },
      "source": [
        "%%R\n",
        "Model2.3 <- lme4::lmer(\n",
        "                  SensorValue ~ \n",
        "                  MonthsInMilk*CalvingSeason + Parity + Hour + MilkingType +\n",
        "                  (1| HerdIdentifier:AnimalIdentifier),\n",
        "                  REML = FALSE,\n",
        "                  data = AnalysisData\n",
        ")\n",
        "anova(Model2.0,Model2.3,test=\"Chisq\")"
      ],
      "execution_count": null,
      "outputs": [
        {
          "output_type": "stream",
          "text": [
            "Data: AnalysisData\n",
            "Models:\n",
            "Model2.0: SensorValue ~ Parity + MonthsInMilk + CalvingSeason + Hour + \n",
            "Model2.0:     MilkingType + (1 | HerdIdentifier:AnimalIdentifier)\n",
            "Model2.3: SensorValue ~ MonthsInMilk * CalvingSeason + Parity + Hour + \n",
            "Model2.3:     MilkingType + (1 | HerdIdentifier:AnimalIdentifier)\n",
            "         npar     AIC     BIC   logLik deviance Chisq Df Pr(>Chisq)    \n",
            "Model2.0   29 5758763 5759082 -2879353  5758705                        \n",
            "Model2.3   56 5722971 5723585 -2861429  5722859 35847 27  < 2.2e-16 ***\n",
            "---\n",
            "Signif. codes:  0 ‘***’ 0.001 ‘**’ 0.01 ‘*’ 0.05 ‘.’ 0.1 ‘ ’ 1\n"
          ],
          "name": "stdout"
        }
      ]
    },
    {
      "cell_type": "markdown",
      "metadata": {
        "id": "pg_vwm2IMlgb"
      },
      "source": [
        "### Interactions with hour"
      ]
    },
    {
      "cell_type": "code",
      "metadata": {
        "colab": {
          "base_uri": "https://localhost:8080/"
        },
        "id": "rFvdW0abMvrN",
        "outputId": "de989709-bab3-49d0-f3df-985cc04e4248"
      },
      "source": [
        "%%R\n",
        "Model2.4 <- lme4::lmer(\n",
        "                  SensorValue ~ \n",
        "                  Hour*Parity + MonthsInMilk + CalvingSeason + MilkingType + \n",
        "                  (1| HerdIdentifier:AnimalIdentifier),\n",
        "                  REML = FALSE,\n",
        "                  data = AnalysisData\n",
        ")\n",
        "anova(Model2.0,Model2.4,test=\"Chisq\")"
      ],
      "execution_count": null,
      "outputs": [
        {
          "output_type": "stream",
          "text": [
            "Data: AnalysisData\n",
            "Models:\n",
            "Model2.0: SensorValue ~ Parity + MonthsInMilk + CalvingSeason + Hour + \n",
            "Model2.0:     MilkingType + (1 | HerdIdentifier:AnimalIdentifier)\n",
            "Model2.4: SensorValue ~ Hour * Parity + MonthsInMilk + CalvingSeason + \n",
            "Model2.4:     MilkingType + (1 | HerdIdentifier:AnimalIdentifier)\n",
            "         npar     AIC     BIC   logLik deviance  Chisq Df Pr(>Chisq)    \n",
            "Model2.0   29 5758763 5759082 -2879353  5758705                         \n",
            "Model2.4   51 5756714 5757273 -2878306  5756612 2093.7 22  < 2.2e-16 ***\n",
            "---\n",
            "Signif. codes:  0 ‘***’ 0.001 ‘**’ 0.01 ‘*’ 0.05 ‘.’ 0.1 ‘ ’ 1\n"
          ],
          "name": "stdout"
        }
      ]
    },
    {
      "cell_type": "code",
      "metadata": {
        "colab": {
          "base_uri": "https://localhost:8080/"
        },
        "id": "NkBg8ly1Mvf6",
        "outputId": "d9ac4d26-d9b6-4285-c081-4c57409ef5f2"
      },
      "source": [
        "%%R\n",
        "Model2.5 <- lme4::lmer(\n",
        "                  SensorValue ~ \n",
        "                  Hour*MilkingType + MonthsInMilk + CalvingSeason + Parity + \n",
        "                  (1| HerdIdentifier:AnimalIdentifier),\n",
        "                  REML = FALSE,\n",
        "                  data = AnalysisData\n",
        ")\n",
        "anova(Model2.0,Model2.5,test=\"Chisq\")"
      ],
      "execution_count": null,
      "outputs": [
        {
          "output_type": "stream",
          "text": [
            "Data: AnalysisData\n",
            "Models:\n",
            "Model2.0: SensorValue ~ Parity + MonthsInMilk + CalvingSeason + Hour + \n",
            "Model2.0:     MilkingType + (1 | HerdIdentifier:AnimalIdentifier)\n",
            "Model2.5: SensorValue ~ Hour * MilkingType + MonthsInMilk + CalvingSeason + \n",
            "Model2.5:     Parity + (1 | HerdIdentifier:AnimalIdentifier)\n",
            "         npar     AIC     BIC   logLik deviance Chisq Df Pr(>Chisq)    \n",
            "Model2.0   29 5758763 5759082 -2879353  5758705                        \n",
            "Model2.5   40 5736090 5736529 -2868005  5736010 22696 11  < 2.2e-16 ***\n",
            "---\n",
            "Signif. codes:  0 ‘***’ 0.001 ‘**’ 0.01 ‘*’ 0.05 ‘.’ 0.1 ‘ ’ 1\n"
          ],
          "name": "stdout"
        }
      ]
    },
    {
      "cell_type": "code",
      "metadata": {
        "colab": {
          "base_uri": "https://localhost:8080/"
        },
        "id": "PAdAoaX6MvR-",
        "outputId": "3ad63f4f-ec50-4774-b6a6-cfb1cc18ba4d"
      },
      "source": [
        "%%R\n",
        "Model2.6 <- lme4::lmer(\n",
        "                  SensorValue ~ \n",
        "                  Hour*CalvingSeason + MonthsInMilk +  + Parity + MilkingType +\n",
        "                  (1| HerdIdentifier:AnimalIdentifier),\n",
        "                  REML = FALSE,\n",
        "                  data = AnalysisData\n",
        ")\n",
        "anova(Model2.0,Model2.6,test=\"Chisq\")"
      ],
      "execution_count": null,
      "outputs": [
        {
          "output_type": "stream",
          "text": [
            "Data: AnalysisData\n",
            "Models:\n",
            "Model2.0: SensorValue ~ Parity + MonthsInMilk + CalvingSeason + Hour + \n",
            "Model2.0:     MilkingType + (1 | HerdIdentifier:AnimalIdentifier)\n",
            "Model2.6: SensorValue ~ Hour * CalvingSeason + MonthsInMilk + +Parity + \n",
            "Model2.6:     MilkingType + (1 | HerdIdentifier:AnimalIdentifier)\n",
            "         npar     AIC     BIC   logLik deviance  Chisq Df Pr(>Chisq)    \n",
            "Model2.0   29 5758763 5759082 -2879353  5758705                         \n",
            "Model2.6   62 5755632 5756312 -2877754  5755508 3197.2 33  < 2.2e-16 ***\n",
            "---\n",
            "Signif. codes:  0 ‘***’ 0.001 ‘**’ 0.01 ‘*’ 0.05 ‘.’ 0.1 ‘ ’ 1\n"
          ],
          "name": "stdout"
        }
      ]
    },
    {
      "cell_type": "markdown",
      "metadata": {
        "id": "xCwVghMEM4jN"
      },
      "source": [
        "## Multiple interactions"
      ]
    },
    {
      "cell_type": "code",
      "metadata": {
        "colab": {
          "base_uri": "https://localhost:8080/"
        },
        "id": "cWs_x8wYNBb1",
        "outputId": "5199e540-d768-4a13-b893-211ce76f9e3b"
      },
      "source": [
        "%%R\n",
        "Model2.7 <- lme4::lmer(\n",
        "                  SensorValue ~ \n",
        "                  MonthsInMilk*Parity + \n",
        "                  MonthsInMilk*MilkingType + \n",
        "                  MonthsInMilk*CalvingSeason + \n",
        "                  Hour*Parity + \n",
        "                  Hour*MilkingType + \n",
        "                  Hour*CalvingSeason + \n",
        "                  (1| HerdIdentifier:AnimalIdentifier),\n",
        "                  REML = FALSE,\n",
        "                  data = AnalysisData\n",
        ")\n",
        "anova(Model2.0,Model2.7,test=\"Chisq\")"
      ],
      "execution_count": null,
      "outputs": [
        {
          "output_type": "stream",
          "text": [
            "Data: AnalysisData\n",
            "Models:\n",
            "Model2.0: SensorValue ~ Parity + MonthsInMilk + CalvingSeason + Hour + \n",
            "Model2.0:     MilkingType + (1 | HerdIdentifier:AnimalIdentifier)\n",
            "Model2.7: SensorValue ~ MonthsInMilk * Parity + MonthsInMilk * MilkingType + \n",
            "Model2.7:     MonthsInMilk * CalvingSeason + Hour * Parity + Hour * MilkingType + \n",
            "Model2.7:     Hour * CalvingSeason + (1 | HerdIdentifier:AnimalIdentifier)\n",
            "         npar     AIC     BIC   logLik deviance Chisq  Df Pr(>Chisq)    \n",
            "Model2.0   29 5758763 5759082 -2879353  5758705                         \n",
            "Model2.7  149 5693477 5695111 -2846589  5693179 65527 120  < 2.2e-16 ***\n",
            "---\n",
            "Signif. codes:  0 ‘***’ 0.001 ‘**’ 0.01 ‘*’ 0.05 ‘.’ 0.1 ‘ ’ 1\n"
          ],
          "name": "stdout"
        }
      ]
    },
    {
      "cell_type": "markdown",
      "metadata": {
        "id": "B6o4hVKsNDUZ"
      },
      "source": [
        "# Final model analysis of variance"
      ]
    },
    {
      "cell_type": "code",
      "metadata": {
        "id": "6j1VUF5BNG1W"
      },
      "source": [
        "%%R\n",
        "finalModel <- Model2.7"
      ],
      "execution_count": null,
      "outputs": []
    },
    {
      "cell_type": "code",
      "metadata": {
        "colab": {
          "base_uri": "https://localhost:8080/"
        },
        "id": "AfCEnINBNHdB",
        "outputId": "5cd16356-2a47-4260-8ace-8f45d42f1f30"
      },
      "source": [
        "%%R\n",
        "Anova(finalModel)"
      ],
      "execution_count": null,
      "outputs": [
        {
          "output_type": "stream",
          "text": [
            "Analysis of Deviance Table (Type II Wald chisquare tests)\n",
            "\n",
            "Response: SensorValue\n",
            "                               Chisq Df Pr(>Chisq)    \n",
            "MonthsInMilk                 2799.39  9  < 2.2e-16 ***\n",
            "Parity                       4201.22  2  < 2.2e-16 ***\n",
            "MilkingType                  1034.22  1  < 2.2e-16 ***\n",
            "CalvingSeason                 788.86  3  < 2.2e-16 ***\n",
            "Hour                       115440.93 11  < 2.2e-16 ***\n",
            "MonthsInMilk:Parity          1000.08 18  < 2.2e-16 ***\n",
            "MonthsInMilk:MilkingType      203.76  9  < 2.2e-16 ***\n",
            "MonthsInMilk:CalvingSeason  40295.15 27  < 2.2e-16 ***\n",
            "Parity:Hour                  1499.81 22  < 2.2e-16 ***\n",
            "MilkingType:Hour            23644.85 11  < 2.2e-16 ***\n",
            "CalvingSeason:Hour           2164.37 33  < 2.2e-16 ***\n",
            "---\n",
            "Signif. codes:  0 ‘***’ 0.001 ‘**’ 0.01 ‘*’ 0.05 ‘.’ 0.1 ‘ ’ 1\n"
          ],
          "name": "stdout"
        }
      ]
    },
    {
      "cell_type": "code",
      "metadata": {
        "id": "GwVz8SwbNK7C"
      },
      "source": [
        "%%R\n",
        "save(finalModel, file=\"/content/drive/Shareddrives/Bovi-Analytics/Projects/SenseOfSensors/CsvData/SensorAggRepartitioned08032021/finalmodel2hourslegactivity.rdata\")"
      ],
      "execution_count": null,
      "outputs": []
    },
    {
      "cell_type": "markdown",
      "metadata": {
        "id": "XGea_7g9NO4d"
      },
      "source": [
        "# Final model figures and LSM (95% CI)"
      ]
    },
    {
      "cell_type": "markdown",
      "metadata": {
        "id": "uRG6UftsNUIC"
      },
      "source": [
        "## Main effects"
      ]
    },
    {
      "cell_type": "code",
      "metadata": {
        "colab": {
          "base_uri": "https://localhost:8080/"
        },
        "id": "G3PHC05tNWai",
        "outputId": "a6d5792c-29da-4ddc-b212-84399d14b0eb"
      },
      "source": [
        "%%R\n",
        "multcomp::cld(lsmeans::lsmeans(finalModel, ~ MonthsInMilk), alpha=0.05, Letters=letters, adjust=\"tukey\")"
      ],
      "execution_count": null,
      "outputs": [
        {
          "output_type": "stream",
          "text": [
            "R[write to console]: Note: D.f. calculations have been disabled because the number of observations exceeds 3000.\n",
            "To enable adjustments, add the argument 'pbkrtest.limit = 429091' (or larger)\n",
            "[or, globally, 'set emm_options(pbkrtest.limit = 429091)' or larger];\n",
            "but be warned that this may result in large computation time and memory use.\n",
            "\n",
            "R[write to console]: Note: D.f. calculations have been disabled because the number of observations exceeds 3000.\n",
            "To enable adjustments, add the argument 'lmerTest.limit = 429091' (or larger)\n",
            "[or, globally, 'set emm_options(lmerTest.limit = 429091)' or larger];\n",
            "but be warned that this may result in large computation time and memory use.\n",
            "\n",
            "R[write to console]: NOTE: Results may be misleading due to involvement in interactions\n",
            "\n",
            "R[write to console]: Note: adjust = \"tukey\" was changed to \"sidak\"\n",
            "because \"tukey\" is only appropriate for one set of pairwise comparisons\n",
            "\n"
          ],
          "name": "stderr"
        },
        {
          "output_type": "stream",
          "text": [
            " MonthsInMilk lsmean   SE  df asymp.LCL asymp.UCL .group   \n",
            " 10              303 1.87 Inf       297       308  a       \n",
            " 9               305 1.87 Inf       300       311  ab      \n",
            " 8               308 1.87 Inf       302       313   bc     \n",
            " 7               311 1.87 Inf       306       316    c     \n",
            " 6               317 1.87 Inf       312       323     d    \n",
            " 5               320 1.87 Inf       314       325     d    \n",
            " 4               325 1.87 Inf       319       330      e   \n",
            " 3               333 1.88 Inf       328       338       f  \n",
            " 2               343 1.89 Inf       338       348        g \n",
            " 1               364 1.89 Inf       359       369         h\n",
            "\n",
            "Results are averaged over the levels of: Parity, MilkingType, CalvingSeason, Hour \n",
            "Degrees-of-freedom method: asymptotic \n",
            "Confidence level used: 0.95 \n",
            "Conf-level adjustment: sidak method for 10 estimates \n",
            "P value adjustment: tukey method for comparing a family of 10 estimates \n",
            "significance level used: alpha = 0.05 \n"
          ],
          "name": "stdout"
        }
      ]
    },
    {
      "cell_type": "code",
      "metadata": {
        "colab": {
          "base_uri": "https://localhost:8080/"
        },
        "id": "rfalCMHcNX8h",
        "outputId": "6ec8f838-dd88-4c0e-e222-6d210d5d8bbe"
      },
      "source": [
        "%%R\n",
        "multcomp::cld(lsmeans::lsmeans(finalModel, ~ Parity), alpha=0.05, Letters=letters, adjust=\"tukey\")"
      ],
      "execution_count": null,
      "outputs": [
        {
          "output_type": "stream",
          "text": [
            "R[write to console]: Note: D.f. calculations have been disabled because the number of observations exceeds 3000.\n",
            "To enable adjustments, add the argument 'pbkrtest.limit = 429091' (or larger)\n",
            "[or, globally, 'set emm_options(pbkrtest.limit = 429091)' or larger];\n",
            "but be warned that this may result in large computation time and memory use.\n",
            "\n",
            "R[write to console]: Note: D.f. calculations have been disabled because the number of observations exceeds 3000.\n",
            "To enable adjustments, add the argument 'lmerTest.limit = 429091' (or larger)\n",
            "[or, globally, 'set emm_options(lmerTest.limit = 429091)' or larger];\n",
            "but be warned that this may result in large computation time and memory use.\n",
            "\n",
            "R[write to console]: NOTE: Results may be misleading due to involvement in interactions\n",
            "\n",
            "R[write to console]: Note: adjust = \"tukey\" was changed to \"sidak\"\n",
            "because \"tukey\" is only appropriate for one set of pairwise comparisons\n",
            "\n"
          ],
          "name": "stderr"
        },
        {
          "output_type": "stream",
          "text": [
            " Parity lsmean   SE  df asymp.LCL asymp.UCL .group\n",
            " 3+        296 1.67 Inf       292       300  a    \n",
            " 2         316 1.70 Inf       312       320   b   \n",
            " 1         356 1.71 Inf       352       360    c  \n",
            "\n",
            "Results are averaged over the levels of: MonthsInMilk, MilkingType, CalvingSeason, Hour \n",
            "Degrees-of-freedom method: asymptotic \n",
            "Confidence level used: 0.95 \n",
            "Conf-level adjustment: sidak method for 3 estimates \n",
            "P value adjustment: tukey method for comparing a family of 3 estimates \n",
            "significance level used: alpha = 0.05 \n"
          ],
          "name": "stdout"
        }
      ]
    },
    {
      "cell_type": "code",
      "metadata": {
        "colab": {
          "base_uri": "https://localhost:8080/"
        },
        "id": "up717zudNZwZ",
        "outputId": "533fc651-6ff2-4561-afb0-bafeca986f4b"
      },
      "source": [
        "%%R\n",
        "multcomp::cld(lsmeans::lsmeans(finalModel, ~ Hour), alpha=0.05, Letters=letters, adjust=\"tukey\")"
      ],
      "execution_count": null,
      "outputs": [
        {
          "output_type": "stream",
          "text": [
            "R[write to console]: Note: D.f. calculations have been disabled because the number of observations exceeds 3000.\n",
            "To enable adjustments, add the argument 'pbkrtest.limit = 429091' (or larger)\n",
            "[or, globally, 'set emm_options(pbkrtest.limit = 429091)' or larger];\n",
            "but be warned that this may result in large computation time and memory use.\n",
            "\n",
            "R[write to console]: Note: D.f. calculations have been disabled because the number of observations exceeds 3000.\n",
            "To enable adjustments, add the argument 'lmerTest.limit = 429091' (or larger)\n",
            "[or, globally, 'set emm_options(lmerTest.limit = 429091)' or larger];\n",
            "but be warned that this may result in large computation time and memory use.\n",
            "\n",
            "R[write to console]: NOTE: Results may be misleading due to involvement in interactions\n",
            "\n",
            "R[write to console]: Note: adjust = \"tukey\" was changed to \"sidak\"\n",
            "because \"tukey\" is only appropriate for one set of pairwise comparisons\n",
            "\n"
          ],
          "name": "stderr"
        },
        {
          "output_type": "stream",
          "text": [
            " Hour lsmean   SE  df asymp.LCL asymp.UCL .group    \n",
            " 2       180 1.92 Inf       174       185  a        \n",
            " 0       210 1.92 Inf       205       216   b       \n",
            " 22      229 1.92 Inf       224       235    c      \n",
            " 4       254 1.92 Inf       249       260     d     \n",
            " 20      265 1.92 Inf       260       271      e    \n",
            " 18      341 1.92 Inf       336       347       f   \n",
            " 16      386 1.92 Inf       380       391        g  \n",
            " 12      389 1.92 Inf       384       395        g  \n",
            " 6       398 1.92 Inf       392       403         h \n",
            " 14      399 1.92 Inf       394       405         h \n",
            " 10      400 1.92 Inf       394       405         h \n",
            " 8       423 1.92 Inf       418       429          i\n",
            "\n",
            "Results are averaged over the levels of: MonthsInMilk, Parity, MilkingType, CalvingSeason \n",
            "Degrees-of-freedom method: asymptotic \n",
            "Confidence level used: 0.95 \n",
            "Conf-level adjustment: sidak method for 12 estimates \n",
            "P value adjustment: tukey method for comparing a family of 12 estimates \n",
            "significance level used: alpha = 0.05 \n"
          ],
          "name": "stdout"
        }
      ]
    },
    {
      "cell_type": "code",
      "metadata": {
        "colab": {
          "base_uri": "https://localhost:8080/"
        },
        "id": "A8TehSjjNcoe",
        "outputId": "4b6b6c9b-eb81-415e-8f2d-8d29f4ce569d"
      },
      "source": [
        "%%R\n",
        "multcomp::cld(lsmeans::lsmeans(finalModel, ~ CalvingSeason), alpha=0.05, Letters=letters, adjust=\"tukey\")"
      ],
      "execution_count": null,
      "outputs": [
        {
          "output_type": "stream",
          "text": [
            "R[write to console]: Note: D.f. calculations have been disabled because the number of observations exceeds 3000.\n",
            "To enable adjustments, add the argument 'pbkrtest.limit = 429091' (or larger)\n",
            "[or, globally, 'set emm_options(pbkrtest.limit = 429091)' or larger];\n",
            "but be warned that this may result in large computation time and memory use.\n",
            "\n",
            "R[write to console]: Note: D.f. calculations have been disabled because the number of observations exceeds 3000.\n",
            "To enable adjustments, add the argument 'lmerTest.limit = 429091' (or larger)\n",
            "[or, globally, 'set emm_options(lmerTest.limit = 429091)' or larger];\n",
            "but be warned that this may result in large computation time and memory use.\n",
            "\n",
            "R[write to console]: NOTE: Results may be misleading due to involvement in interactions\n",
            "\n",
            "R[write to console]: Note: adjust = \"tukey\" was changed to \"sidak\"\n",
            "because \"tukey\" is only appropriate for one set of pairwise comparisons\n",
            "\n"
          ],
          "name": "stderr"
        },
        {
          "output_type": "stream",
          "text": [
            " CalvingSeason lsmean   SE  df asymp.LCL asymp.UCL .group\n",
            " Summer           303 1.77 Inf       299       308  a    \n",
            " Autumn           314 1.77 Inf       310       319   b   \n",
            " Spring           333 1.81 Inf       329       338    c  \n",
            " Winter           341 1.81 Inf       336       345     d \n",
            "\n",
            "Results are averaged over the levels of: MonthsInMilk, Parity, MilkingType, Hour \n",
            "Degrees-of-freedom method: asymptotic \n",
            "Confidence level used: 0.95 \n",
            "Conf-level adjustment: sidak method for 4 estimates \n",
            "P value adjustment: tukey method for comparing a family of 4 estimates \n",
            "significance level used: alpha = 0.05 \n"
          ],
          "name": "stdout"
        }
      ]
    },
    {
      "cell_type": "markdown",
      "metadata": {
        "id": "SGMhBY4bNeLy"
      },
      "source": [
        "## Interactions"
      ]
    },
    {
      "cell_type": "markdown",
      "metadata": {
        "id": "dtBZOjflNg2B"
      },
      "source": [
        "### Hour by parity"
      ]
    },
    {
      "cell_type": "code",
      "metadata": {
        "colab": {
          "base_uri": "https://localhost:8080/"
        },
        "id": "pj_XvYK4NrhK",
        "outputId": "7d956cb7-c450-4556-eee2-a37a00494943"
      },
      "source": [
        "%%R\n",
        "LSMs<-lsmeans::lsmeans(finalModel, pairwise ~ Hour|Parity, type = \"response\", glhargs=list())\n",
        "multcomp::cld(LSMs[[1]], alpha=0.05, Letters=letters, adjust=\"tukey\")"
      ],
      "execution_count": null,
      "outputs": [
        {
          "output_type": "stream",
          "text": [
            "R[write to console]: Note: D.f. calculations have been disabled because the number of observations exceeds 3000.\n",
            "To enable adjustments, add the argument 'pbkrtest.limit = 429091' (or larger)\n",
            "[or, globally, 'set emm_options(pbkrtest.limit = 429091)' or larger];\n",
            "but be warned that this may result in large computation time and memory use.\n",
            "\n",
            "R[write to console]: Note: D.f. calculations have been disabled because the number of observations exceeds 3000.\n",
            "To enable adjustments, add the argument 'lmerTest.limit = 429091' (or larger)\n",
            "[or, globally, 'set emm_options(lmerTest.limit = 429091)' or larger];\n",
            "but be warned that this may result in large computation time and memory use.\n",
            "\n",
            "R[write to console]: Note: adjust = \"tukey\" was changed to \"sidak\"\n",
            "because \"tukey\" is only appropriate for one set of pairwise comparisons\n",
            "\n"
          ],
          "name": "stderr"
        },
        {
          "output_type": "stream",
          "text": [
            "Parity = 1:\n",
            " Hour lsmean   SE  df asymp.LCL asymp.UCL .group     \n",
            " 2       190 2.55 Inf       182       197  a         \n",
            " 0       223 2.55 Inf       215       230   b        \n",
            " 22      247 2.55 Inf       239       254    c       \n",
            " 4       284 2.55 Inf       277       292     d      \n",
            " 20      294 2.55 Inf       287       302      e     \n",
            " 18      377 2.55 Inf       370       384       f    \n",
            " 16      429 2.55 Inf       422       436        g   \n",
            " 6       433 2.55 Inf       425       440        g   \n",
            " 12      436 2.55 Inf       429       444        gh  \n",
            " 14      444 2.55 Inf       437       452         hi \n",
            " 10      447 2.55 Inf       439       454          i \n",
            " 8       472 2.55 Inf       465       479           j\n",
            "\n",
            "Parity = 2:\n",
            " Hour lsmean   SE  df asymp.LCL asymp.UCL .group     \n",
            " 2       174 2.53 Inf       166       181  a         \n",
            " 0       206 2.53 Inf       199       213   b        \n",
            " 22      223 2.53 Inf       216       230    c       \n",
            " 4       243 2.53 Inf       236       251     d      \n",
            " 20      259 2.53 Inf       252       266      e     \n",
            " 18      337 2.53 Inf       330       344       f    \n",
            " 16      377 2.53 Inf       370       384        g   \n",
            " 12      383 2.53 Inf       376       390        gh  \n",
            " 10      392 2.53 Inf       385       399         hi \n",
            " 6       394 2.53 Inf       387       401          i \n",
            " 14      394 2.53 Inf       387       402          i \n",
            " 8       415 2.53 Inf       408       422           j\n",
            "\n",
            "Parity = 3+:\n",
            " Hour lsmean   SE  df asymp.LCL asymp.UCL .group     \n",
            " 2       176 2.16 Inf       169       182  a         \n",
            " 0       202 2.16 Inf       195       208   b        \n",
            " 22      217 2.16 Inf       211       224    c       \n",
            " 4       235 2.16 Inf       229       241     d      \n",
            " 20      243 2.16 Inf       237       249      e     \n",
            " 18      309 2.16 Inf       303       315       f    \n",
            " 12      349 2.16 Inf       343       355        g   \n",
            " 16      352 2.16 Inf       345       358        g   \n",
            " 14      359 2.16 Inf       353       365         h  \n",
            " 10      360 2.16 Inf       354       366         hi \n",
            " 6       366 2.16 Inf       360       373          i \n",
            " 8       383 2.16 Inf       376       389           j\n",
            "\n",
            "Results are averaged over the levels of: MonthsInMilk, MilkingType, CalvingSeason \n",
            "Degrees-of-freedom method: asymptotic \n",
            "Confidence level used: 0.95 \n",
            "Conf-level adjustment: sidak method for 12 estimates \n",
            "P value adjustment: tukey method for comparing a family of 12 estimates \n",
            "significance level used: alpha = 0.05 \n"
          ],
          "name": "stdout"
        }
      ]
    },
    {
      "cell_type": "code",
      "metadata": {
        "colab": {
          "base_uri": "https://localhost:8080/",
          "height": 497
        },
        "id": "nkNTXTeaNrW2",
        "outputId": "c2e01ae2-6632-498f-a422-a94b5e6a30d5"
      },
      "source": [
        "%%R\n",
        "dfPValues <- summary(LSMs)[[2]]\n",
        "dfLMSs <- summary(LSMs)[[1]]\n",
        "dfLMSs %>% \n",
        "  mutate(label = if_else(Hour == max(as.numeric(Hour)), as.character(Parity), NA_character_)) %>%\n",
        "  ggplot(\n",
        "  aes(\n",
        "    x=Hour,\n",
        "    y=lsmean,\n",
        "    group=Parity, \n",
        "    color=Parity)\n",
        "    ) +\n",
        "  geom_line() +  \n",
        "  geom_errorbar(\n",
        "    aes(ymin=asymp.LCL, \n",
        "        ymax=asymp.UCL), \n",
        "    width=.2,\n",
        "    position=position_dodge(0.05)) +\n",
        "  labs(\n",
        "    title = \"Leg activity (no. of steps/2hours)\", \n",
        "    y=\"No. of steps per two hours\" , \n",
        "    x = \"Hour\") +\n",
        "  theme_bw() +\n",
        "  theme(plot.title = element_text(hjust = 0.5),\n",
        "        panel.border = element_blank(), \n",
        "        panel.grid.major = element_blank(),\n",
        "        panel.grid.minor = element_blank(), \n",
        "        axis.line = element_line(colour = \"black\"))"
      ],
      "execution_count": null,
      "outputs": [
        {
          "output_type": "display_data",
          "data": {
            "image/png": "[encoded data removed]"
          },
          "metadata": {
            "tags": []
          }
        }
      ]
    },
    {
      "cell_type": "markdown",
      "metadata": {
        "id": "VoesLwV7NlG5"
      },
      "source": [
        "### Hour by milking type"
      ]
    },
    {
      "cell_type": "code",
      "metadata": {
        "colab": {
          "base_uri": "https://localhost:8080/"
        },
        "id": "-DOO349fNsdR",
        "outputId": "b26304d1-660f-4e64-8133-35fb86ab51ec"
      },
      "source": [
        "%%R\n",
        "LSMs<-lsmeans::lsmeans(finalModel, pairwise ~ Hour|MilkingType, type = \"response\", glhargs=list())\n",
        "multcomp::cld(LSMs[[1]], alpha=0.05, Letters=letters, adjust=\"tukey\")"
      ],
      "execution_count": null,
      "outputs": [
        {
          "output_type": "stream",
          "text": [
            "R[write to console]: Note: D.f. calculations have been disabled because the number of observations exceeds 3000.\n",
            "To enable adjustments, add the argument 'pbkrtest.limit = 429091' (or larger)\n",
            "[or, globally, 'set emm_options(pbkrtest.limit = 429091)' or larger];\n",
            "but be warned that this may result in large computation time and memory use.\n",
            "\n",
            "R[write to console]: Note: D.f. calculations have been disabled because the number of observations exceeds 3000.\n",
            "To enable adjustments, add the argument 'lmerTest.limit = 429091' (or larger)\n",
            "[or, globally, 'set emm_options(lmerTest.limit = 429091)' or larger];\n",
            "but be warned that this may result in large computation time and memory use.\n",
            "\n",
            "R[write to console]: Note: adjust = \"tukey\" was changed to \"sidak\"\n",
            "because \"tukey\" is only appropriate for one set of pairwise comparisons\n",
            "\n"
          ],
          "name": "stderr"
        },
        {
          "output_type": "stream",
          "text": [
            "MilkingType = AMS:\n",
            " Hour lsmean   SE  df asymp.LCL asymp.UCL .group      \n",
            " 2       174 3.16 Inf       165       183  a          \n",
            " 4       193 3.16 Inf       184       202   b         \n",
            " 0       213 3.16 Inf       204       222    c        \n",
            " 22      230 3.16 Inf       221       240     d       \n",
            " 20      269 3.16 Inf       260       278      e      \n",
            " 6       290 3.16 Inf       281       299       f     \n",
            " 10      291 3.16 Inf       282       300       fg    \n",
            " 12      299 3.16 Inf       289       308        g    \n",
            " 14      310 3.16 Inf       301       319         h   \n",
            " 8       314 3.16 Inf       305       323         h   \n",
            " 16      334 3.16 Inf       325       343          i  \n",
            " 18      335 3.16 Inf       326       344          i  \n",
            "\n",
            "MilkingType = CMS:\n",
            " Hour lsmean   SE  df asymp.LCL asymp.UCL .group      \n",
            " 2       185 2.15 Inf       179       191  a          \n",
            " 0       207 2.15 Inf       201       213   b         \n",
            " 22      228 2.15 Inf       221       234    c        \n",
            " 20      262 2.15 Inf       256       268     d       \n",
            " 4       316 2.15 Inf       309       322      e      \n",
            " 18      348 2.15 Inf       342       354       f     \n",
            " 16      437 2.15 Inf       431       444        g    \n",
            " 12      480 2.15 Inf       474       487         h   \n",
            " 14      488 2.15 Inf       482       494          i  \n",
            " 6       506 2.15 Inf       500       512           j \n",
            " 10      508 2.15 Inf       502       514           j \n",
            " 8       532 2.15 Inf       526       538            k\n",
            "\n",
            "Results are averaged over the levels of: MonthsInMilk, Parity, CalvingSeason \n",
            "Degrees-of-freedom method: asymptotic \n",
            "Confidence level used: 0.95 \n",
            "Conf-level adjustment: sidak method for 12 estimates \n",
            "P value adjustment: tukey method for comparing a family of 12 estimates \n",
            "significance level used: alpha = 0.05 \n"
          ],
          "name": "stdout"
        }
      ]
    },
    {
      "cell_type": "code",
      "metadata": {
        "colab": {
          "base_uri": "https://localhost:8080/",
          "height": 497
        },
        "id": "BOaCARuwNsSR",
        "outputId": "483e3b6b-bac9-4f76-9f05-5c82354800d3"
      },
      "source": [
        "%%R\n",
        "dfPValues <- summary(LSMs)[[2]]\n",
        "dfLMSs <- summary(LSMs)[[1]]\n",
        "dfLMSs %>% \n",
        "  mutate(label = if_else(Hour == max(as.numeric(Hour)), as.character(MilkingType), NA_character_)) %>%\n",
        "  ggplot(\n",
        "  aes(\n",
        "    x=Hour,\n",
        "    y=lsmean,\n",
        "    group=MilkingType, \n",
        "    color=MilkingType)\n",
        "    ) +\n",
        "  geom_line() +  \n",
        "  geom_errorbar(\n",
        "    aes(ymin=asymp.LCL, \n",
        "        ymax=asymp.UCL), \n",
        "    width=.2,\n",
        "    position=position_dodge(0.05)) +\n",
        "  labs(\n",
        "    title = \"Leg activity (no. of steps/2hours)\", \n",
        "    y=\"No. of steps per two hours\" , \n",
        "    x = \"Hour\") +\n",
        "  theme_bw() +\n",
        "  theme(plot.title = element_text(hjust = 0.5),\n",
        "        panel.border = element_blank(), \n",
        "        panel.grid.major = element_blank(),\n",
        "        panel.grid.minor = element_blank(), \n",
        "        axis.line = element_line(colour = \"black\"))"
      ],
      "execution_count": null,
      "outputs": [
        {
          "output_type": "display_data",
          "data": {
            "image/png": "[encoded data removed]"
          },
          "metadata": {
            "tags": []
          }
        }
      ]
    },
    {
      "cell_type": "markdown",
      "metadata": {
        "id": "FYA1q_dsNngB"
      },
      "source": [
        "### Hour by calving season"
      ]
    },
    {
      "cell_type": "code",
      "metadata": {
        "colab": {
          "base_uri": "https://localhost:8080/"
        },
        "id": "fWuQzXorNtoh",
        "outputId": "771e17c1-0514-4f4f-f508-2ee969fdc33f"
      },
      "source": [
        "%%R\n",
        "LSMs<-lsmeans::lsmeans(finalModel, pairwise ~ Hour|CalvingSeason, type = \"response\", glhargs=list())\n",
        "multcomp::cld(LSMs[[1]], alpha=0.05, Letters=letters, adjust=\"tukey\")"
      ],
      "execution_count": null,
      "outputs": [
        {
          "output_type": "stream",
          "text": [
            "R[write to console]: Note: D.f. calculations have been disabled because the number of observations exceeds 3000.\n",
            "To enable adjustments, add the argument 'pbkrtest.limit = 429091' (or larger)\n",
            "[or, globally, 'set emm_options(pbkrtest.limit = 429091)' or larger];\n",
            "but be warned that this may result in large computation time and memory use.\n",
            "\n",
            "R[write to console]: Note: D.f. calculations have been disabled because the number of observations exceeds 3000.\n",
            "To enable adjustments, add the argument 'lmerTest.limit = 429091' (or larger)\n",
            "[or, globally, 'set emm_options(lmerTest.limit = 429091)' or larger];\n",
            "but be warned that this may result in large computation time and memory use.\n",
            "\n",
            "R[write to console]: Note: adjust = \"tukey\" was changed to \"sidak\"\n",
            "because \"tukey\" is only appropriate for one set of pairwise comparisons\n",
            "\n"
          ],
          "name": "stderr"
        },
        {
          "output_type": "stream",
          "text": [
            "CalvingSeason = Autumn:\n",
            " Hour lsmean   SE  df asymp.LCL asymp.UCL .group     \n",
            " 2       181 2.55 Inf       173       188  a         \n",
            " 0       212 2.55 Inf       205       219   b        \n",
            " 22      231 2.55 Inf       224       238    c       \n",
            " 4       247 2.55 Inf       239       254     d      \n",
            " 20      269 2.55 Inf       262       276      e     \n",
            " 18      343 2.55 Inf       336       351       f    \n",
            " 14      372 2.55 Inf       365       379        g   \n",
            " 12      372 2.55 Inf       365       380        g   \n",
            " 6       378 2.55 Inf       371       385        g   \n",
            " 16      379 2.55 Inf       372       387        gh  \n",
            " 10      388 2.55 Inf       380       395         h  \n",
            " 8       398 2.55 Inf       391       405          i \n",
            "\n",
            "CalvingSeason = Spring:\n",
            " Hour lsmean   SE  df asymp.LCL asymp.UCL .group     \n",
            " 2       182 2.73 Inf       174       190  a         \n",
            " 0       211 2.73 Inf       203       218   b        \n",
            " 22      229 2.73 Inf       222       237    c       \n",
            " 4       261 2.73 Inf       253       269     d      \n",
            " 20      266 2.73 Inf       258       274     d      \n",
            " 18      343 2.73 Inf       335       351      e     \n",
            " 16      387 2.73 Inf       379       395       f    \n",
            " 12      404 2.73 Inf       396       412        g   \n",
            " 10      413 2.73 Inf       405       421        gh  \n",
            " 14      423 2.73 Inf       415       430         hi \n",
            " 6       426 2.73 Inf       418       433          i \n",
            " 8       452 2.73 Inf       444       460           j\n",
            "\n",
            "CalvingSeason = Summer:\n",
            " Hour lsmean   SE  df asymp.LCL asymp.UCL .group     \n",
            " 2       175 2.51 Inf       168       182  a         \n",
            " 0       208 2.51 Inf       200       215   b        \n",
            " 22      224 2.51 Inf       217       231    c       \n",
            " 4       243 2.51 Inf       236       250     d      \n",
            " 20      257 2.51 Inf       250       265      e     \n",
            " 18      326 2.51 Inf       319       333       f    \n",
            " 12      355 2.51 Inf       347       362        g   \n",
            " 6       362 2.51 Inf       355       369        gh  \n",
            " 10      366 2.51 Inf       359       373         hi \n",
            " 14      372 2.51 Inf       365       379          ij\n",
            " 8       375 2.51 Inf       368       383           j\n",
            " 16      379 2.51 Inf       372       387           j\n",
            "\n",
            "CalvingSeason = Winter:\n",
            " Hour lsmean   SE  df asymp.LCL asymp.UCL .group     \n",
            " 2       181 2.71 Inf       173       189  a         \n",
            " 0       210 2.71 Inf       202       217   b        \n",
            " 22      231 2.71 Inf       224       239    c       \n",
            " 4       266 2.71 Inf       259       274     d      \n",
            " 20      269 2.71 Inf       261       276     d      \n",
            " 18      352 2.71 Inf       344       360      e     \n",
            " 16      397 2.71 Inf       389       405       f    \n",
            " 6       425 2.71 Inf       418       433        g   \n",
            " 12      427 2.71 Inf       419       435        g   \n",
            " 14      431 2.71 Inf       423       438        g   \n",
            " 10      432 2.71 Inf       424       440        g   \n",
            " 8       467 2.71 Inf       460       475         h  \n",
            "\n",
            "Results are averaged over the levels of: MonthsInMilk, Parity, MilkingType \n",
            "Degrees-of-freedom method: asymptotic \n",
            "Confidence level used: 0.95 \n",
            "Conf-level adjustment: sidak method for 12 estimates \n",
            "P value adjustment: tukey method for comparing a family of 12 estimates \n",
            "significance level used: alpha = 0.05 \n"
          ],
          "name": "stdout"
        }
      ]
    },
    {
      "cell_type": "code",
      "metadata": {
        "colab": {
          "base_uri": "https://localhost:8080/",
          "height": 497
        },
        "id": "6kUSYXGrNtdT",
        "outputId": "3047745e-5bf2-4e7b-a7a3-cf2af54fc5a7"
      },
      "source": [
        "%%R\n",
        "dfPValues <- summary(LSMs)[[2]]\n",
        "dfLMSs <- summary(LSMs)[[1]]\n",
        "dfLMSs %>% \n",
        "  mutate(label = if_else(Hour == max(as.numeric(Hour)), as.character(CalvingSeason), NA_character_)) %>%\n",
        "  ggplot(\n",
        "  aes(\n",
        "    x=Hour,\n",
        "    y=lsmean,\n",
        "    group=CalvingSeason, \n",
        "    color=CalvingSeason)\n",
        "    ) +\n",
        "  geom_line() +  \n",
        "  geom_errorbar(\n",
        "    aes(ymin=asymp.LCL, \n",
        "        ymax=asymp.UCL), \n",
        "    width=.2,\n",
        "    position=position_dodge(0.05)) +\n",
        "  labs(\n",
        "    title = \"Leg activity (no. of steps/2hours)\", \n",
        "    y=\"No. of steps per two hours\" , \n",
        "    x = \"Hour\") +\n",
        "  theme_bw() +\n",
        "  theme(plot.title = element_text(hjust = 0.5),\n",
        "        panel.border = element_blank(), \n",
        "        panel.grid.major = element_blank(),\n",
        "        panel.grid.minor = element_blank(), \n",
        "        axis.line = element_line(colour = \"black\"))"
      ],
      "execution_count": null,
      "outputs": [
        {
          "output_type": "display_data",
          "data": {
            "image/png": "[encoded data removed]"
          },
          "metadata": {
            "tags": []
          }
        }
      ]
    }
  ]
}