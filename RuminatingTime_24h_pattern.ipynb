{
  "nbformat": 4,
  "nbformat_minor": 0,
  "metadata": {
    "colab": {
      "name": "RuminatingTime 24h pattern",
      "provenance": [],
      "collapsed_sections": [],
      "include_colab_link": true
    },
    "kernelspec": {
      "display_name": "Python 3",
      "name": "python3"
    }
  },
  "cells": [
    {
      "cell_type": "markdown",
      "metadata": {
        "id": "view-in-github",
        "colab_type": "text"
      },
      "source": [
        "<a href=\"https://colab.research.google.com/github/Bovi-analytics/Hut-et-al-2021/blob/master/RuminatingTime_24h_pattern.ipynb\" target=\"_parent\"><img src=\"https://colab.research.google.com/assets/colab-badge.svg\" alt=\"Open In Colab\"/></a>"
      ]
    },
    {
      "cell_type": "markdown",
      "metadata": {
        "id": "Mw7dhahq0NDq"
      },
      "source": [
        "# Statistical notebook for rumination time"
      ]
    },
    {
      "cell_type": "markdown",
      "metadata": {
        "id": "CSlPeuOw0YjS"
      },
      "source": [
        "## Importing of google drive"
      ]
    },
    {
      "cell_type": "code",
      "metadata": {
        "colab": {
          "base_uri": "https://localhost:8080/"
        },
        "id": "WCUSUtqb21vg",
        "outputId": "21531552-aeb5-47d2-c327-35122fe31faf"
      },
      "source": [
        "from google.colab import drive\n",
        "drive.mount('/content/drive')"
      ],
      "execution_count": null,
      "outputs": [
        {
          "output_type": "stream",
          "name": "stdout",
          "text": [
            "Mounted at /content/drive\n"
          ]
        }
      ]
    },
    {
      "cell_type": "markdown",
      "metadata": {
        "id": "v7ollwXw0iGd"
      },
      "source": [
        "## R loading"
      ]
    },
    {
      "cell_type": "code",
      "metadata": {
        "id": "TxkiqsiB23Kg"
      },
      "source": [
        "%reload_ext rpy2.ipython"
      ],
      "execution_count": null,
      "outputs": []
    },
    {
      "cell_type": "code",
      "metadata": {
        "id": "QCE-tRVID6V1"
      },
      "source": [
        "%%R\n",
        "lib_loc <- \"/content/drive/Shareddrives/Bovi-Analytics/R-lib/\""
      ],
      "execution_count": null,
      "outputs": []
    },
    {
      "cell_type": "code",
      "metadata": {
        "colab": {
          "base_uri": "https://localhost:8080/"
        },
        "id": "S5s-I4ChD-J6",
        "outputId": "11894f7d-6289-415e-bb9e-7a68b227cc13"
      },
      "source": [
        "%%R\n",
        "package_list <- c(\"ggplot2\",\n",
        "                  \"readr\",\n",
        "                  \"plyr\",\n",
        "                  \"dplyr\",\n",
        "                  \"tidyr\",                \n",
        "                  \"lme4\",\n",
        "                  \"lmerTest\",\n",
        "                  \"multcompView\",\n",
        "                  \"mvtnorm\",\n",
        "                  \"TH.data\",\n",
        "                  \"multcomp\",\n",
        "                  \"emmeans\",\n",
        "                  \"lsmeans\",\n",
        "                  \"carData\",\n",
        "                  \"car\"\n",
        "                  )\n",
        "\n",
        "for (pkg in package_list) {\n",
        "  if (pkg %in% rownames(.packages()) == FALSE)\n",
        "  {library(pkg, lib.loc = lib_loc, character.only = TRUE)}\n",
        "\n",
        "}"
      ],
      "execution_count": null,
      "outputs": [
        {
          "output_type": "stream",
          "name": "stderr",
          "text": [
            "R[write to console]: \n",
            "Attaching package: ‘dplyr’\n",
            "\n",
            "\n",
            "R[write to console]: The following objects are masked from ‘package:plyr’:\n",
            "\n",
            "    arrange, count, desc, failwith, id, mutate, rename, summarise,\n",
            "    summarize\n",
            "\n",
            "\n",
            "R[write to console]: The following object is masked from ‘package:ggplot2’:\n",
            "\n",
            "    vars\n",
            "\n",
            "\n",
            "R[write to console]: The following objects are masked from ‘package:stats’:\n",
            "\n",
            "    filter, lag\n",
            "\n",
            "\n",
            "R[write to console]: The following objects are masked from ‘package:base’:\n",
            "\n",
            "    intersect, setdiff, setequal, union\n",
            "\n",
            "\n",
            "R[write to console]: Loading required package: Matrix\n",
            "\n",
            "R[write to console]: \n",
            "Attaching package: ‘Matrix’\n",
            "\n",
            "\n",
            "R[write to console]: The following objects are masked from ‘package:tidyr’:\n",
            "\n",
            "    expand, pack, unpack\n",
            "\n",
            "\n",
            "R[write to console]: \n",
            "Attaching package: ‘lmerTest’\n",
            "\n",
            "\n",
            "R[write to console]: The following object is masked from ‘package:lme4’:\n",
            "\n",
            "    lmer\n",
            "\n",
            "\n",
            "R[write to console]: The following object is masked from ‘package:stats’:\n",
            "\n",
            "    step\n",
            "\n",
            "\n",
            "R[write to console]: Loading required package: survival\n",
            "\n",
            "R[write to console]: Loading required package: MASS\n",
            "\n",
            "R[write to console]: \n",
            "Attaching package: ‘MASS’\n",
            "\n",
            "\n",
            "R[write to console]: The following object is masked from ‘package:dplyr’:\n",
            "\n",
            "    select\n",
            "\n",
            "\n",
            "R[write to console]: \n",
            "Attaching package: ‘TH.data’\n",
            "\n",
            "\n",
            "R[write to console]: The following object is masked from ‘package:MASS’:\n",
            "\n",
            "    geyser\n",
            "\n",
            "\n",
            "R[write to console]: The 'lsmeans' package is now basically a front end for 'emmeans'.\n",
            "Users are encouraged to switch the rest of the way.\n",
            "See help('transition') for more information, including how to\n",
            "convert old 'lsmeans' objects and scripts to work with 'emmeans'.\n",
            "\n",
            "R[write to console]: Registered S3 methods overwritten by 'car':\n",
            "  method                          from\n",
            "  influence.merMod                lme4\n",
            "  cooks.distance.influence.merMod lme4\n",
            "  dfbeta.influence.merMod         lme4\n",
            "  dfbetas.influence.merMod        lme4\n",
            "\n",
            "R[write to console]: \n",
            "Attaching package: ‘car’\n",
            "\n",
            "\n",
            "R[write to console]: The following object is masked from ‘package:dplyr’:\n",
            "\n",
            "    recode\n",
            "\n",
            "\n"
          ]
        }
      ]
    },
    {
      "cell_type": "markdown",
      "metadata": {
        "id": "wBV8uhCg1PNJ"
      },
      "source": [
        "## Data loading into dataframe"
      ]
    },
    {
      "cell_type": "code",
      "metadata": {
        "id": "EdsoTgv63LDl",
        "colab": {
          "base_uri": "https://localhost:8080/"
        },
        "outputId": "b173f3ae-c8e8-4df1-e0d7-dca3316b82fc"
      },
      "source": [
        "%%R\n",
        "AnalysisData <- \n",
        "  readr::read_csv(\"/content/drive/Shareddrives/Bovi-Analytics/Projects/SenseOfSensors/CsvData/SensorAggRepartitioned08032021/ObservationType=RuminationTimeMinutesPer2Hours/part-00000-tid-183333261268000902-29b42dfd-564e-4e7d-8ea7-05b4fb30d5d6-1694-31.c000.csv\", \n",
        "    col_types = readr::cols(HerdIdentifier = readr::col_character(), \n",
        "        TransitionLactationNumber = readr::col_integer(), \n",
        "        TransitionParity = readr::col_character(), \n",
        "        TransitionMonthsInMilk = readr::col_integer(), \n",
        "        TransitionCalvingDate = readr::col_character(), \n",
        "        Hour = readr::col_integer(), \n",
        "        Observations = readr::col_integer())) %>% \n",
        "  dplyr::filter(dplyr::between(TransitionMonthsInMilk, 1, 10)) %>%\n",
        "  dplyr::mutate(\n",
        "    AnimalIdentifier = factor(AnimalIdentifier),\n",
        "    HerdIdentifier = factor(HerdIdentifier),\n",
        "    Parity = factor(TransitionParity),\n",
        "    LactationNumber = factor(TransitionLactationNumber),\n",
        "    MonthsInMilk = factor(TransitionMonthsInMilk),\n",
        "    numMonthsInMilk = TransitionMonthsInMilk,\n",
        "    CalvingSeason = factor(TransitionSeason),\n",
        "    Hour = factor(Hour),\n",
        "    SensorValue = ObservationValue,\n",
        "    MilkingType = factor(case_when(\n",
        "    HerdIdentifier %in% c(\"544\", \"2514\", \"3314\")~\"AMS\",\n",
        "    TRUE~\"CMS\"\n",
        "  ))\n",
        "  ) %>%\n",
        "  dplyr::select(AnimalIdentifier, HerdIdentifier, Parity, MonthsInMilk, numMonthsInMilk, CalvingSeason, Hour, SensorValue, MilkingType, LactationNumber) %>%\n",
        "  tidyr::drop_na()"
      ],
      "execution_count": null,
      "outputs": [
        {
          "output_type": "stream",
          "name": "stdout",
          "text": [
            "|===================================================================| 100% 64 MB\n"
          ]
        }
      ]
    },
    {
      "cell_type": "code",
      "metadata": {
        "colab": {
          "base_uri": "https://localhost:8080/"
        },
        "id": "6tB88jG161J_",
        "outputId": "f8812261-24e2-4218-b4de-15198ad036d1"
      },
      "source": [
        "%%R\n",
        "head(AnalysisData)"
      ],
      "execution_count": null,
      "outputs": [
        {
          "output_type": "stream",
          "text": [
            "# A tibble: 6 x 9\n",
            "  AnimalIdentifier HerdIdentifier Parity MonthsInMilk numMonthsInMilk\n",
            "  <fct>            <fct>          <fct>  <fct>                  <int>\n",
            "1 55               2297           2      6                          6\n",
            "2 115              2746           1      10                        10\n",
            "3 115              2746           2      9                          9\n",
            "4 140              2746           3+     3                          3\n",
            "5 64               3314           3+     1                          1\n",
            "6 64               3314           3+     6                          6\n",
            "# … with 4 more variables: CalvingSeason <fct>, Hour <fct>, SensorValue <dbl>,\n",
            "#   MilkingType <fct>\n"
          ],
          "name": "stdout"
        }
      ]
    },
    {
      "cell_type": "code",
      "metadata": {
        "colab": {
          "base_uri": "https://localhost:8080/"
        },
        "id": "nrX3DIe41hDU",
        "outputId": "64f64ba4-fdf7-4d8f-c180-a02377f5c32d"
      },
      "source": [
        "%%R\n",
        "str(AnalysisData)"
      ],
      "execution_count": null,
      "outputs": [
        {
          "output_type": "stream",
          "text": [
            "tibble [417,593 × 9] (S3: tbl_df/tbl/data.frame)\n",
            " $ AnimalIdentifier: Factor w/ 1095 levels \"1\",\"2\",\"3\",\"4\",..: 55 115 115 140 64 64 101 101 101 101 ...\n",
            " $ HerdIdentifier  : Factor w/ 8 levels \"2011\",\"2297\",..: 2 4 4 4 6 6 2 2 2 2 ...\n",
            " $ Parity          : Factor w/ 3 levels \"1\",\"2\",\"3+\": 2 1 2 3 3 3 3 3 1 2 ...\n",
            " $ MonthsInMilk    : Factor w/ 10 levels \"1\",\"2\",\"3\",\"4\",..: 6 10 9 3 1 6 7 9 7 1 ...\n",
            " $ numMonthsInMilk : int [1:417593] 6 10 9 3 1 6 7 9 7 1 ...\n",
            " $ CalvingSeason   : Factor w/ 4 levels \"Autumn\",\"Spring\",..: 4 2 2 4 1 1 1 1 4 4 ...\n",
            " $ Hour            : Factor w/ 12 levels \"0\",\"2\",\"4\",\"6\",..: 3 9 2 12 11 11 9 5 5 1 ...\n",
            " $ SensorValue     : num [1:417593] 61.7 42.6 57 59.4 46.6 ...\n",
            " $ MilkingType     : Factor w/ 2 levels \"AMS\",\"CMS\": 2 2 2 2 1 1 2 2 2 2 ...\n"
          ],
          "name": "stdout"
        }
      ]
    },
    {
      "cell_type": "markdown",
      "metadata": {
        "id": "K2rUIeN01k49"
      },
      "source": [
        "## Descriptive statistics"
      ]
    },
    {
      "cell_type": "code",
      "metadata": {
        "colab": {
          "base_uri": "https://localhost:8080/"
        },
        "id": "b1ylb3tF1xA1",
        "outputId": "58e8bdf1-dca9-4635-f67b-51e1d39c6d89"
      },
      "source": [
        "%%R\n",
        "AnalysisData %>% group_by(\"Parity\") %>% n_distinct()"
      ],
      "execution_count": null,
      "outputs": [
        {
          "output_type": "stream",
          "text": [
            "[1] 417491\n"
          ],
          "name": "stdout"
        }
      ]
    },
    {
      "cell_type": "code",
      "metadata": {
        "colab": {
          "base_uri": "https://localhost:8080/"
        },
        "id": "wSqEFcPE10Hb",
        "outputId": "c6421f00-2f61-4077-ca3c-d0e5cb549029"
      },
      "source": [
        "%%R\n",
        "AnalysisData %>%\n",
        "  group_by(Parity) %>%\n",
        "  summarise(Unique_Elements = n_distinct(AnimalIdentifier))"
      ],
      "execution_count": null,
      "outputs": [
        {
          "output_type": "stream",
          "text": [
            "# A tibble: 3 x 2\n",
            "  Parity Unique_Elements\n",
            "  <fct>            <int>\n",
            "1 1                  696\n",
            "2 2                  686\n",
            "3 3+                 724\n"
          ],
          "name": "stdout"
        }
      ]
    },
    {
      "cell_type": "code",
      "metadata": {
        "colab": {
          "base_uri": "https://localhost:8080/"
        },
        "id": "v_Ashj6G14MV",
        "outputId": "33f75ef3-db43-4d39-a990-886e6e822903"
      },
      "source": [
        "%%R\n",
        "AnalysisData %>%\n",
        "  summarise(Unique_Elements = n_distinct(AnimalIdentifier))"
      ],
      "execution_count": null,
      "outputs": [
        {
          "output_type": "stream",
          "text": [
            "# A tibble: 1 x 1\n",
            "  Unique_Elements\n",
            "            <int>\n",
            "1            1067\n"
          ],
          "name": "stdout"
        }
      ]
    },
    {
      "cell_type": "code",
      "metadata": {
        "colab": {
          "base_uri": "https://localhost:8080/"
        },
        "id": "JPD9CqDM0HFL",
        "outputId": "a7a0717d-ccc3-4203-b3bf-9985d562006c"
      },
      "source": [
        "%%R\n",
        "AnalysisData %>%\n",
        "  group_by(LactationNumber) %>%\n",
        "  summarise(Unique_Elements = n_distinct(AnimalIdentifier))"
      ],
      "execution_count": null,
      "outputs": [
        {
          "output_type": "stream",
          "text": [
            "# A tibble: 13 x 2\n",
            "   LactationNumber Unique_Elements\n",
            "   <fct>                     <int>\n",
            " 1 1                           696\n",
            " 2 2                           686\n",
            " 3 3                           602\n",
            " 4 4                           468\n",
            " 5 5                           310\n",
            " 6 6                           178\n",
            " 7 7                            79\n",
            " 8 8                            38\n",
            " 9 9                            19\n",
            "10 10                           10\n",
            "11 11                            5\n",
            "12 12                            2\n",
            "13 13                            1\n"
          ],
          "name": "stdout"
        }
      ]
    },
    {
      "cell_type": "code",
      "metadata": {
        "colab": {
          "base_uri": "https://localhost:8080/"
        },
        "id": "jhKD0WONCwHG",
        "outputId": "76c8ebf6-d50d-468a-852f-aa06c1361cfd"
      },
      "source": [
        "%%R\n",
        "xtabs(~ MonthsInMilk + Parity, data = AnalysisData)"
      ],
      "execution_count": null,
      "outputs": [
        {
          "output_type": "stream",
          "text": [
            "            Parity\n",
            "MonthsInMilk     1     2    3+\n",
            "          1  10403 10580 22712\n",
            "          2  10720 10583 22102\n",
            "          3  11031 10672 21610\n",
            "          4  11101 10536 21266\n",
            "          5  10895 10562 20763\n",
            "          6  10763 10539 20139\n",
            "          7  10725 10528 19559\n",
            "          8  10644 10523 19251\n",
            "          9  10574 10370 18892\n",
            "          10 10765 10240 18545\n"
          ],
          "name": "stdout"
        }
      ]
    },
    {
      "cell_type": "code",
      "metadata": {
        "colab": {
          "base_uri": "https://localhost:8080/",
          "height": 497
        },
        "id": "lIkzTrTlCzpa",
        "outputId": "f68e1b44-ec54-48b4-b78b-038c379bd6d4"
      },
      "source": [
        "%%R\n",
        "hist(AnalysisData$SensorValue)"
      ],
      "execution_count": null,
      "outputs": [
        {
          "output_type": "display_data",
          "data": {
            "image/png": "[encoded data removed]"
          },
          "metadata": {
            "tags": []
          }
        }
      ]
    },
    {
      "cell_type": "markdown",
      "metadata": {
        "id": "DLLRrsi9168F"
      },
      "source": [
        "# Model building"
      ]
    },
    {
      "cell_type": "markdown",
      "metadata": {
        "id": "5PjJ3E5P2EzL"
      },
      "source": [
        "First we determine the null model"
      ]
    },
    {
      "cell_type": "markdown",
      "metadata": {
        "id": "9nU_Mpgm2JQz"
      },
      "source": [
        "### Null model"
      ]
    },
    {
      "cell_type": "code",
      "metadata": {
        "id": "oMj6hll16TdN"
      },
      "source": [
        "%%R\n",
        "Model.0 <- lme4::lmer(\n",
        "                  SensorValue ~ 1 + (1 + numMonthsInMilk|AnimalIdentifier), \n",
        "                  data = AnalysisData,\n",
        "                  REML = FALSE\n",
        "                  )\n"
      ],
      "execution_count": null,
      "outputs": []
    },
    {
      "cell_type": "markdown",
      "metadata": {
        "id": "Y67KPZBG6Vtp"
      },
      "source": [
        "### Univariable models"
      ]
    },
    {
      "cell_type": "code",
      "metadata": {
        "colab": {
          "base_uri": "https://localhost:8080/"
        },
        "id": "BtHdHQiAVH4_",
        "outputId": "9983a271-08a2-4e05-ac27-4169c5dc7e02"
      },
      "source": [
        "%%R\n",
        "Model1.0 <- lme4::lmer(\n",
        "                  SensorValue ~ \n",
        "                  MonthsInMilk + \n",
        "                  (1 + numMonthsInMilk|AnimalIdentifier),\n",
        "                  REML = FALSE,\n",
        "                  data = AnalysisData\n",
        ")\n",
        "anova(Model.0,Model1.0,test=\"Chisq\")"
      ],
      "execution_count": null,
      "outputs": [
        {
          "output_type": "stream",
          "name": "stdout",
          "text": [
            "Data: AnalysisData\n",
            "Models:\n",
            "Model.0: SensorValue ~ 1 + (1 + numMonthsInMilk | AnimalIdentifier)\n",
            "Model1.0: SensorValue ~ MonthsInMilk + (1 + numMonthsInMilk | AnimalIdentifier)\n",
            "         npar     AIC     BIC   logLik deviance  Chisq Df Pr(>Chisq)    \n",
            "Model.0     5 3263327 3263382 -1631659  3263317                         \n",
            "Model1.0   14 3262466 3262619 -1631219  3262438 879.41  9  < 2.2e-16 ***\n",
            "---\n",
            "Signif. codes:  0 ‘***’ 0.001 ‘**’ 0.01 ‘*’ 0.05 ‘.’ 0.1 ‘ ’ 1\n"
          ]
        }
      ]
    },
    {
      "cell_type": "code",
      "metadata": {
        "colab": {
          "base_uri": "https://localhost:8080/"
        },
        "id": "gMvqQic5VSOL",
        "outputId": "a56fdf17-3d1b-486e-83b7-cb7eaaaef51b"
      },
      "source": [
        "%%R\n",
        "Model1.1 <- lme4::lmer(\n",
        "                  SensorValue ~ \n",
        "                  Parity + \n",
        "                  (1 + numMonthsInMilk|AnimalIdentifier),\n",
        "                  REML = FALSE,\n",
        "                  data = AnalysisData\n",
        "                  )\n",
        "anova(Model.0,Model1.1,test=\"Chisq\")"
      ],
      "execution_count": null,
      "outputs": [
        {
          "output_type": "stream",
          "name": "stdout",
          "text": [
            "Data: AnalysisData\n",
            "Models:\n",
            "Model.0: SensorValue ~ 1 + (1 + numMonthsInMilk | AnimalIdentifier)\n",
            "Model1.1: SensorValue ~ Parity + (1 + numMonthsInMilk | AnimalIdentifier)\n",
            "         npar     AIC     BIC   logLik deviance  Chisq Df Pr(>Chisq)    \n",
            "Model.0     5 3263327 3263382 -1631659  3263317                         \n",
            "Model1.1    7 3263178 3263255 -1631582  3263164 153.38  2  < 2.2e-16 ***\n",
            "---\n",
            "Signif. codes:  0 ‘***’ 0.001 ‘**’ 0.01 ‘*’ 0.05 ‘.’ 0.1 ‘ ’ 1\n"
          ]
        }
      ]
    },
    {
      "cell_type": "code",
      "metadata": {
        "colab": {
          "base_uri": "https://localhost:8080/"
        },
        "id": "oszGEcBuVUqI",
        "outputId": "52c6d065-e692-44d7-9150-adb8c7046bf1"
      },
      "source": [
        "%%R\n",
        "Model1.2 <- lme4::lmer(\n",
        "                  SensorValue ~ \n",
        "                  HerdIdentifier + \n",
        "                  (1 + numMonthsInMilk|AnimalIdentifier),\n",
        "                  REML = FALSE,\n",
        "                  data = AnalysisData\n",
        "                  )\n",
        "anova(Model.0,Model1.2,test=\"Chisq\")"
      ],
      "execution_count": null,
      "outputs": [
        {
          "output_type": "stream",
          "name": "stdout",
          "text": [
            "Data: AnalysisData\n",
            "Models:\n",
            "Model.0: SensorValue ~ 1 + (1 + numMonthsInMilk | AnimalIdentifier)\n",
            "Model1.2: SensorValue ~ HerdIdentifier + (1 + numMonthsInMilk | AnimalIdentifier)\n",
            "         npar     AIC     BIC   logLik deviance  Chisq Df Pr(>Chisq)    \n",
            "Model.0     5 3263327 3263382 -1631659  3263317                         \n",
            "Model1.2   12 3255824 3255955 -1627900  3255800 7517.8  7  < 2.2e-16 ***\n",
            "---\n",
            "Signif. codes:  0 ‘***’ 0.001 ‘**’ 0.01 ‘*’ 0.05 ‘.’ 0.1 ‘ ’ 1\n"
          ]
        }
      ]
    },
    {
      "cell_type": "code",
      "metadata": {
        "colab": {
          "base_uri": "https://localhost:8080/"
        },
        "id": "D1LlsEdpVWQP",
        "outputId": "1e296c94-cc46-46c8-d681-8f90caf3e8dc"
      },
      "source": [
        "%%R\n",
        "Model1.3 <- lme4::lmer(\n",
        "                  SensorValue ~ \n",
        "                  CalvingSeason +\n",
        "                  (1 + numMonthsInMilk|AnimalIdentifier),\n",
        "                  REML = FALSE,\n",
        "                  data = AnalysisData\n",
        "                  )\n",
        "anova(Model.0,Model1.3,test=\"Chisq\")"
      ],
      "execution_count": null,
      "outputs": [
        {
          "output_type": "stream",
          "name": "stdout",
          "text": [
            "Data: AnalysisData\n",
            "Models:\n",
            "Model.0: SensorValue ~ 1 + (1 + numMonthsInMilk | AnimalIdentifier)\n",
            "Model1.3: SensorValue ~ CalvingSeason + (1 + numMonthsInMilk | AnimalIdentifier)\n",
            "         npar     AIC     BIC   logLik deviance  Chisq Df Pr(>Chisq)    \n",
            "Model.0     5 3263327 3263382 -1631659  3263317                         \n",
            "Model1.3    8 3263159 3263247 -1631572  3263143 174.18  3  < 2.2e-16 ***\n",
            "---\n",
            "Signif. codes:  0 ‘***’ 0.001 ‘**’ 0.01 ‘*’ 0.05 ‘.’ 0.1 ‘ ’ 1\n"
          ]
        }
      ]
    },
    {
      "cell_type": "code",
      "metadata": {
        "colab": {
          "base_uri": "https://localhost:8080/"
        },
        "id": "-zScQ3p8VWD-",
        "outputId": "1db5bb19-6142-4234-f89b-2ab11edeeb51"
      },
      "source": [
        "%%R\n",
        "Model1.4 <- lme4::lmer(\n",
        "                  SensorValue ~ \n",
        "                  Hour +\n",
        "                  1 + (1 + numMonthsInMilk|AnimalIdentifier),\n",
        "                  REML = FALSE,\n",
        "                  data = AnalysisData\n",
        "                  )\n",
        "anova(Model.0,Model1.4,test=\"Chisq\")"
      ],
      "execution_count": null,
      "outputs": [
        {
          "output_type": "stream",
          "name": "stdout",
          "text": [
            "Data: AnalysisData\n",
            "Models:\n",
            "Model.0: SensorValue ~ 1 + (1 + numMonthsInMilk | AnimalIdentifier)\n",
            "Model1.4: SensorValue ~ Hour + 1 + (1 + numMonthsInMilk | AnimalIdentifier)\n",
            "         npar     AIC     BIC   logLik deviance  Chisq Df Pr(>Chisq)    \n",
            "Model.0     5 3263327 3263382 -1631659  3263317                         \n",
            "Model1.4   16 3056465 3056640 -1528216  3056433 206885 11  < 2.2e-16 ***\n",
            "---\n",
            "Signif. codes:  0 ‘***’ 0.001 ‘**’ 0.01 ‘*’ 0.05 ‘.’ 0.1 ‘ ’ 1\n"
          ]
        }
      ]
    },
    {
      "cell_type": "code",
      "metadata": {
        "colab": {
          "base_uri": "https://localhost:8080/"
        },
        "id": "-_udpbL_DMz9",
        "outputId": "b23ddcb8-79e9-405b-9f7a-8582fab71f36"
      },
      "source": [
        "%%R\n",
        "Model1.5 <- lme4::lmer(\n",
        "                  SensorValue ~ \n",
        "                  MilkingType +\n",
        "                  1 + (1 + numMonthsInMilk|AnimalIdentifier),\n",
        "                  REML = FALSE,\n",
        "                  data = AnalysisData\n",
        "                  )\n",
        "anova(Model.0,Model1.5,test=\"Chisq\")"
      ],
      "execution_count": null,
      "outputs": [
        {
          "output_type": "stream",
          "name": "stdout",
          "text": [
            "Data: AnalysisData\n",
            "Models:\n",
            "Model.0: SensorValue ~ 1 + (1 + numMonthsInMilk | AnimalIdentifier)\n",
            "Model1.5: SensorValue ~ MilkingType + 1 + (1 + numMonthsInMilk | AnimalIdentifier)\n",
            "         npar     AIC     BIC   logLik deviance  Chisq Df Pr(>Chisq)    \n",
            "Model.0     5 3263327 3263382 -1631659  3263317                         \n",
            "Model1.5    6 3261481 3261547 -1630735  3261469 1848.4  1  < 2.2e-16 ***\n",
            "---\n",
            "Signif. codes:  0 ‘***’ 0.001 ‘**’ 0.01 ‘*’ 0.05 ‘.’ 0.1 ‘ ’ 1\n"
          ]
        }
      ]
    },
    {
      "cell_type": "markdown",
      "metadata": {
        "id": "4fXa9WQx6Zzh"
      },
      "source": [
        "### Multivariable models"
      ]
    },
    {
      "cell_type": "code",
      "metadata": {
        "id": "N2pB1m1lXFCW",
        "colab": {
          "base_uri": "https://localhost:8080/"
        },
        "outputId": "1acfee01-0a11-42f1-c7ce-04e235ce8b41"
      },
      "source": [
        "%%R\n",
        "Model2.0 <- lme4::lmer(\n",
        "                  SensorValue ~ \n",
        "                  Parity + MonthsInMilk + CalvingSeason +  Hour + MilkingType + HerdIdentifier + \n",
        "                  (1 + numMonthsInMilk|AnimalIdentifier),\n",
        "                  REML = FALSE,\n",
        "                  data = AnalysisData\n",
        "                  )"
      ],
      "execution_count": null,
      "outputs": [
        {
          "output_type": "stream",
          "name": "stderr",
          "text": [
            "R[write to console]: fixed-effect model matrix is rank deficient so dropping 1 column / coefficient\n",
            "\n"
          ]
        }
      ]
    },
    {
      "cell_type": "code",
      "metadata": {
        "colab": {
          "base_uri": "https://localhost:8080/"
        },
        "id": "_jkt1d5IbXsd",
        "outputId": "401d2e47-9956-4dc3-be22-a64c11d5012e"
      },
      "source": [
        "%%R\n",
        "drop1(Model2.0,test=\"Chisq\")"
      ],
      "execution_count": null,
      "outputs": [
        {
          "output_type": "stream",
          "text": [
            "Single term deletions\n",
            "\n",
            "Model:\n",
            "SensorValue ~ Parity + MonthsInMilk + CalvingSeason + Hour + \n",
            "    MilkingType + (1 + numMonthsInMilk | HerdIdentifier/AnimalIdentifier)\n",
            "              npar     AIC    LRT   Pr(Chi)    \n",
            "<none>             3007761                     \n",
            "Parity           2 3008208    451 < 2.2e-16 ***\n",
            "MonthsInMilk     9 3009242   1498 < 2.2e-16 ***\n",
            "CalvingSeason    3 3007877    121 < 2.2e-16 ***\n",
            "Hour            11 3235826 228087 < 2.2e-16 ***\n",
            "MilkingType      1 3007824     65 8.558e-16 ***\n",
            "---\n",
            "Signif. codes:  0 ‘***’ 0.001 ‘**’ 0.01 ‘*’ 0.05 ‘.’ 0.1 ‘ ’ 1\n"
          ],
          "name": "stdout"
        }
      ]
    },
    {
      "cell_type": "markdown",
      "metadata": {
        "id": "ZtceNKGK33nI"
      },
      "source": [
        "## Introduction of interactions"
      ]
    },
    {
      "cell_type": "markdown",
      "metadata": {
        "id": "S4J3OKRb39_Z"
      },
      "source": [
        "### Interactions with MonthsInMilk"
      ]
    },
    {
      "cell_type": "code",
      "metadata": {
        "id": "GwUvYh3GcTk2"
      },
      "source": [
        "%%R\n",
        "Model2.1 <- lme4::lmer(\n",
        "                  SensorValue ~ \n",
        "                  MonthsInMilk*Parity + Hour + CalvingSeason + MilkingType + \n",
        "                  (1 + numMonthsInMilk| HerdIdentifier/AnimalIdentifier),\n",
        "                  REML = FALSE,\n",
        "                  data = AnalysisData\n",
        ")"
      ],
      "execution_count": null,
      "outputs": []
    },
    {
      "cell_type": "code",
      "metadata": {
        "colab": {
          "base_uri": "https://localhost:8080/"
        },
        "id": "TiDWoR7NEYGq",
        "outputId": "ab3a2409-658b-46c0-eb8f-0caf2adfe37d"
      },
      "source": [
        "%%R\n",
        "anova(Model2.0,Model2.1,test=\"Chisq\")"
      ],
      "execution_count": null,
      "outputs": [
        {
          "output_type": "stream",
          "text": [
            "Data: AnalysisData\n",
            "Models:\n",
            "Model2.0: SensorValue ~ Parity + MonthsInMilk + CalvingSeason + Hour + \n",
            "Model2.0:     MilkingType + (1 + numMonthsInMilk | HerdIdentifier/AnimalIdentifier)\n",
            "Model2.1: SensorValue ~ MonthsInMilk * Parity + Hour + CalvingSeason + \n",
            "Model2.1:     MilkingType + (1 + numMonthsInMilk | HerdIdentifier/AnimalIdentifier)\n",
            "         npar     AIC     BIC   logLik deviance  Chisq Df Pr(>Chisq)    \n",
            "Model2.0   34 3007761 3008133 -1503847  3007693                         \n",
            "Model2.1   52 3006953 3007522 -1503424  3006849 844.23 18  < 2.2e-16 ***\n",
            "---\n",
            "Signif. codes:  0 ‘***’ 0.001 ‘**’ 0.01 ‘*’ 0.05 ‘.’ 0.1 ‘ ’ 1\n"
          ],
          "name": "stdout"
        }
      ]
    },
    {
      "cell_type": "code",
      "metadata": {
        "colab": {
          "base_uri": "https://localhost:8080/"
        },
        "id": "fWgGQkAbEao5",
        "outputId": "4a646b68-9c21-44c7-eaa0-775f2218505e"
      },
      "source": [
        "%%R\n",
        "lsmeans(Model2.1, ~ MonthsInMilk)"
      ],
      "execution_count": null,
      "outputs": [
        {
          "output_type": "stream",
          "text": [
            "R[write to console]: Note: D.f. calculations have been disabled because the number of observations exceeds 3000.\n",
            "To enable adjustments, add the argument 'pbkrtest.limit = 417593' (or larger)\n",
            "[or, globally, 'set emm_options(pbkrtest.limit = 417593)' or larger];\n",
            "but be warned that this may result in large computation time and memory use.\n",
            "\n",
            "R[write to console]: Note: D.f. calculations have been disabled because the number of observations exceeds 3000.\n",
            "To enable adjustments, add the argument 'lmerTest.limit = 417593' (or larger)\n",
            "[or, globally, 'set emm_options(lmerTest.limit = 417593)' or larger];\n",
            "but be warned that this may result in large computation time and memory use.\n",
            "\n",
            "R[write to console]: NOTE: Results may be misleading due to involvement in interactions\n",
            "\n"
          ],
          "name": "stderr"
        },
        {
          "output_type": "stream",
          "text": [
            " MonthsInMilk lsmean   SE  df asymp.LCL asymp.UCL\n",
            " 1              44.7 1.45 Inf      41.9      47.6\n",
            " 2              45.9 1.44 Inf      43.1      48.7\n",
            " 3              46.3 1.43 Inf      43.5      49.1\n",
            " 4              46.4 1.42 Inf      43.6      49.2\n",
            " 5              46.2 1.40 Inf      43.4      48.9\n",
            " 6              45.8 1.39 Inf      43.0      48.5\n",
            " 7              45.6 1.38 Inf      42.9      48.3\n",
            " 8              45.4 1.37 Inf      42.8      48.1\n",
            " 9              45.3 1.36 Inf      42.7      48.0\n",
            " 10             45.1 1.35 Inf      42.5      47.8\n",
            "\n",
            "Results are averaged over the levels of: Parity, Hour, CalvingSeason, MilkingType \n",
            "Degrees-of-freedom method: asymptotic \n",
            "Confidence level used: 0.95 \n"
          ],
          "name": "stdout"
        }
      ]
    },
    {
      "cell_type": "code",
      "metadata": {
        "id": "Gl0Ard5mdWZH"
      },
      "source": [
        "%%R\n",
        "Model2.2 <- lme4::lmer(\n",
        "                  SensorValue ~ \n",
        "                  MonthsInMilk*CalvingSeason + Parity + Hour + MilkingType + \n",
        "                  (1 + numMonthsInMilk| HerdIdentifier/AnimalIdentifier),\n",
        "                  REML = FALSE,\n",
        "                  data = AnalysisData\n",
        ")"
      ],
      "execution_count": null,
      "outputs": []
    },
    {
      "cell_type": "code",
      "metadata": {
        "colab": {
          "base_uri": "https://localhost:8080/"
        },
        "id": "S6W1jWZ1Eok8",
        "outputId": "86508552-516b-40d3-9a62-5a02e38c9d79"
      },
      "source": [
        "%%R\n",
        "anova(Model2.0,Model2.2,test=\"Chisq\")"
      ],
      "execution_count": null,
      "outputs": [
        {
          "output_type": "stream",
          "text": [
            "Data: AnalysisData\n",
            "Models:\n",
            "Model2.0: SensorValue ~ Parity + MonthsInMilk + CalvingSeason + Hour + \n",
            "Model2.0:     MilkingType + (1 + numMonthsInMilk | HerdIdentifier/AnimalIdentifier)\n",
            "Model2.2: SensorValue ~ MonthsInMilk * CalvingSeason + Parity + Hour + \n",
            "Model2.2:     MilkingType + (1 + numMonthsInMilk | HerdIdentifier/AnimalIdentifier)\n",
            "         npar     AIC     BIC   logLik deviance  Chisq Df Pr(>Chisq)    \n",
            "Model2.0   34 3007761 3008133 -1503847  3007693                         \n",
            "Model2.2   61 3007235 3007903 -1503557  3007113 580.03 27  < 2.2e-16 ***\n",
            "---\n",
            "Signif. codes:  0 ‘***’ 0.001 ‘**’ 0.01 ‘*’ 0.05 ‘.’ 0.1 ‘ ’ 1\n"
          ],
          "name": "stdout"
        }
      ]
    },
    {
      "cell_type": "code",
      "metadata": {
        "colab": {
          "base_uri": "https://localhost:8080/"
        },
        "id": "JkQ7GaCAEqeP",
        "outputId": "c861da94-fedf-4aa7-ebe7-b7be236b4e38"
      },
      "source": [
        "%%R\n",
        "lsmeans(Model2.2, ~ MonthsInMilk)"
      ],
      "execution_count": null,
      "outputs": [
        {
          "output_type": "stream",
          "text": [
            "R[write to console]: Note: D.f. calculations have been disabled because the number of observations exceeds 3000.\n",
            "To enable adjustments, add the argument 'pbkrtest.limit = 417593' (or larger)\n",
            "[or, globally, 'set emm_options(pbkrtest.limit = 417593)' or larger];\n",
            "but be warned that this may result in large computation time and memory use.\n",
            "\n",
            "R[write to console]: Note: D.f. calculations have been disabled because the number of observations exceeds 3000.\n",
            "To enable adjustments, add the argument 'lmerTest.limit = 417593' (or larger)\n",
            "[or, globally, 'set emm_options(lmerTest.limit = 417593)' or larger];\n",
            "but be warned that this may result in large computation time and memory use.\n",
            "\n",
            "R[write to console]: NOTE: Results may be misleading due to involvement in interactions\n",
            "\n"
          ],
          "name": "stderr"
        },
        {
          "output_type": "stream",
          "text": [
            " MonthsInMilk lsmean    SE  df asymp.LCL asymp.UCL\n",
            " 1              44.6 0.819 Inf      43.0      46.2\n",
            " 2              45.9 0.812 Inf      44.3      47.5\n",
            " 3              46.2 0.805 Inf      44.6      47.8\n",
            " 4              46.3 0.799 Inf      44.8      47.9\n",
            " 5              46.0 0.795 Inf      44.5      47.6\n",
            " 6              45.7 0.791 Inf      44.1      47.2\n",
            " 7              45.5 0.789 Inf      43.9      47.0\n",
            " 8              45.4 0.787 Inf      43.8      46.9\n",
            " 9              45.3 0.787 Inf      43.7      46.8\n",
            " 10             45.0 0.788 Inf      43.5      46.6\n",
            "\n",
            "Results are averaged over the levels of: CalvingSeason, Parity, Hour, MilkingType \n",
            "Degrees-of-freedom method: asymptotic \n",
            "Confidence level used: 0.95 \n"
          ],
          "name": "stdout"
        }
      ]
    },
    {
      "cell_type": "code",
      "metadata": {
        "id": "TrbUiGbAeIaW"
      },
      "source": [
        "%%R\n",
        "Model2.3 <- lme4::lmer(\n",
        "                  SensorValue ~ \n",
        "                  MonthsInMilk*MilkingType + Parity + Hour + CalvingSeason +\n",
        "                  (1 + numMonthsInMilk| HerdIdentifier/AnimalIdentifier),\n",
        "                  REML = FALSE,\n",
        "                  data = AnalysisData\n",
        ")"
      ],
      "execution_count": null,
      "outputs": []
    },
    {
      "cell_type": "code",
      "metadata": {
        "colab": {
          "base_uri": "https://localhost:8080/"
        },
        "id": "KshsPA-DEv9l",
        "outputId": "01534ab9-aa80-489b-b1d6-4133436cf6a3"
      },
      "source": [
        "%%R\n",
        "anova(Model2.0,Model2.3,test=\"Chisq\")"
      ],
      "execution_count": null,
      "outputs": [
        {
          "output_type": "stream",
          "text": [
            "Data: AnalysisData\n",
            "Models:\n",
            "Model2.0: SensorValue ~ Parity + MonthsInMilk + CalvingSeason + Hour + \n",
            "Model2.0:     MilkingType + (1 + numMonthsInMilk | HerdIdentifier/AnimalIdentifier)\n",
            "Model2.3: SensorValue ~ MonthsInMilk * MilkingType + Parity + Hour + CalvingSeason + \n",
            "Model2.3:     (1 + numMonthsInMilk | HerdIdentifier/AnimalIdentifier)\n",
            "         npar     AIC     BIC   logLik deviance  Chisq Df Pr(>Chisq)    \n",
            "Model2.0   34 3007761 3008133 -1503847  3007693                         \n",
            "Model2.3   43 3007737 3008208 -1503826  3007651 42.111  9  3.137e-06 ***\n",
            "---\n",
            "Signif. codes:  0 ‘***’ 0.001 ‘**’ 0.01 ‘*’ 0.05 ‘.’ 0.1 ‘ ’ 1\n"
          ],
          "name": "stdout"
        }
      ]
    },
    {
      "cell_type": "code",
      "metadata": {
        "colab": {
          "base_uri": "https://localhost:8080/"
        },
        "id": "N0ubxXZfExtR",
        "outputId": "5ea618ca-fbb5-4c3e-c431-c65724bb273f"
      },
      "source": [
        "%%R\n",
        "lsmeans(Model2.3, ~ MonthsInMilk)"
      ],
      "execution_count": null,
      "outputs": [
        {
          "output_type": "stream",
          "text": [
            "R[write to console]: Note: D.f. calculations have been disabled because the number of observations exceeds 3000.\n",
            "To enable adjustments, add the argument 'pbkrtest.limit = 417593' (or larger)\n",
            "[or, globally, 'set emm_options(pbkrtest.limit = 417593)' or larger];\n",
            "but be warned that this may result in large computation time and memory use.\n",
            "\n",
            "R[write to console]: Note: D.f. calculations have been disabled because the number of observations exceeds 3000.\n",
            "To enable adjustments, add the argument 'lmerTest.limit = 417593' (or larger)\n",
            "[or, globally, 'set emm_options(lmerTest.limit = 417593)' or larger];\n",
            "but be warned that this may result in large computation time and memory use.\n",
            "\n",
            "R[write to console]: NOTE: Results may be misleading due to involvement in interactions\n",
            "\n"
          ],
          "name": "stderr"
        },
        {
          "output_type": "stream",
          "text": [
            " MonthsInMilk lsmean    SE  df asymp.LCL asymp.UCL\n",
            " 1              44.4  3.39 Inf     37.74      51.0\n",
            " 2              45.9  6.73 Inf     32.71      59.1\n",
            " 3              46.2 10.11 Inf     26.40      66.0\n",
            " 4              46.3 13.50 Inf     19.83      72.8\n",
            " 5              46.1 16.90 Inf     12.93      79.2\n",
            " 6              45.7 20.29 Inf      5.89      85.4\n",
            " 7              45.5 23.69 Inf     -0.97      91.9\n",
            " 8              45.3 27.09 Inf     -7.75      98.4\n",
            " 9              45.2 30.49 Inf    -14.53     105.0\n",
            " 10             45.0 33.89 Inf    -21.44     111.4\n",
            "\n",
            "Results are averaged over the levels of: MilkingType, Parity, Hour, CalvingSeason \n",
            "Degrees-of-freedom method: asymptotic \n",
            "Confidence level used: 0.95 \n"
          ],
          "name": "stdout"
        }
      ]
    },
    {
      "cell_type": "markdown",
      "metadata": {
        "id": "4426dcNB4lTp"
      },
      "source": [
        "### Interactions with Hour"
      ]
    },
    {
      "cell_type": "code",
      "metadata": {
        "id": "1aMg770bepWv"
      },
      "source": [
        "%%R\n",
        "Model2.4 <- lme4::lmer(\n",
        "                  SensorValue ~ \n",
        "                  Hour*Parity + MonthsInMilk + CalvingSeason + MilkingType + \n",
        "                  (1 + numMonthsInMilk| HerdIdentifier/AnimalIdentifier),\n",
        "                  REML = FALSE,\n",
        "                  data = AnalysisData\n",
        ")"
      ],
      "execution_count": null,
      "outputs": []
    },
    {
      "cell_type": "code",
      "metadata": {
        "colab": {
          "base_uri": "https://localhost:8080/"
        },
        "id": "8f9G1ifwE_EL",
        "outputId": "b9a60352-b3cd-48ef-cb44-1294491cacf5"
      },
      "source": [
        "%%R\n",
        "anova(Model2.0,Model2.4,test=\"Chisq\")"
      ],
      "execution_count": null,
      "outputs": [
        {
          "output_type": "stream",
          "text": [
            "Data: AnalysisData\n",
            "Models:\n",
            "Model2.0: SensorValue ~ Parity + MonthsInMilk + CalvingSeason + Hour + \n",
            "Model2.0:     MilkingType + (1 + numMonthsInMilk | HerdIdentifier/AnimalIdentifier)\n",
            "Model2.4: SensorValue ~ Hour * Parity + MonthsInMilk + CalvingSeason + \n",
            "Model2.4:     MilkingType + (1 + numMonthsInMilk | HerdIdentifier/AnimalIdentifier)\n",
            "         npar     AIC     BIC   logLik deviance  Chisq Df Pr(>Chisq)    \n",
            "Model2.0   34 3007761 3008133 -1503847  3007693                         \n",
            "Model2.4   56 3005652 3006265 -1502770  3005540 2152.9 22  < 2.2e-16 ***\n",
            "---\n",
            "Signif. codes:  0 ‘***’ 0.001 ‘**’ 0.01 ‘*’ 0.05 ‘.’ 0.1 ‘ ’ 1\n"
          ],
          "name": "stdout"
        }
      ]
    },
    {
      "cell_type": "code",
      "metadata": {
        "colab": {
          "base_uri": "https://localhost:8080/"
        },
        "id": "5CWXjhKtFBSS",
        "outputId": "1b30bf6d-7654-4827-e946-8f488c267240"
      },
      "source": [
        "%%R\n",
        "lsmeans(Model2.4, ~ MonthsInMilk)"
      ],
      "execution_count": null,
      "outputs": [
        {
          "output_type": "stream",
          "text": [
            "R[write to console]: Note: D.f. calculations have been disabled because the number of observations exceeds 3000.\n",
            "To enable adjustments, add the argument 'pbkrtest.limit = 417593' (or larger)\n",
            "[or, globally, 'set emm_options(pbkrtest.limit = 417593)' or larger];\n",
            "but be warned that this may result in large computation time and memory use.\n",
            "\n",
            "R[write to console]: Note: D.f. calculations have been disabled because the number of observations exceeds 3000.\n",
            "To enable adjustments, add the argument 'lmerTest.limit = 417593' (or larger)\n",
            "[or, globally, 'set emm_options(lmerTest.limit = 417593)' or larger];\n",
            "but be warned that this may result in large computation time and memory use.\n",
            "\n"
          ],
          "name": "stderr"
        },
        {
          "output_type": "stream",
          "text": [
            " MonthsInMilk lsmean    SE  df asymp.LCL asymp.UCL\n",
            " 1              44.5  4.72 Inf     35.26      53.8\n",
            " 2              45.8  7.69 Inf     30.74      60.9\n",
            " 3              46.1 10.91 Inf     24.76      67.5\n",
            " 4              46.3 14.21 Inf     18.42      74.1\n",
            " 5              46.0 17.54 Inf     11.63      80.4\n",
            " 6              45.6 20.89 Inf      4.69      86.6\n",
            " 7              45.4 24.25 Inf     -2.10      93.0\n",
            " 8              45.3 27.62 Inf     -8.81      99.5\n",
            " 9              45.2 30.99 Inf    -15.55     105.9\n",
            " 10             44.9 34.37 Inf    -22.42     112.3\n",
            "\n",
            "Results are averaged over the levels of: Hour, Parity, CalvingSeason, MilkingType \n",
            "Degrees-of-freedom method: asymptotic \n",
            "Confidence level used: 0.95 \n"
          ],
          "name": "stdout"
        }
      ]
    },
    {
      "cell_type": "code",
      "metadata": {
        "id": "LI5r6VITgIwf"
      },
      "source": [
        "%%R\n",
        "Model2.5 <- lme4::lmer(\n",
        "                  SensorValue ~ \n",
        "                  Hour*MilkingType + MonthsInMilk + CalvingSeason + Parity + \n",
        "                  (1 + numMonthsInMilk| HerdIdentifier/AnimalIdentifier),\n",
        "                  REML = FALSE,\n",
        "                  data = AnalysisData\n",
        ")"
      ],
      "execution_count": null,
      "outputs": []
    },
    {
      "cell_type": "code",
      "metadata": {
        "colab": {
          "base_uri": "https://localhost:8080/"
        },
        "id": "8s8b8doLFF-B",
        "outputId": "89a62a8c-a4f6-4eb2-a1b8-829c7d0f351d"
      },
      "source": [
        "%%R\n",
        "anova(Model2.0,Model2.5,test=\"Chisq\")"
      ],
      "execution_count": null,
      "outputs": [
        {
          "output_type": "stream",
          "text": [
            "Data: AnalysisData\n",
            "Models:\n",
            "Model2.0: SensorValue ~ Parity + MonthsInMilk + CalvingSeason + Hour + \n",
            "Model2.0:     MilkingType + (1 + numMonthsInMilk | HerdIdentifier/AnimalIdentifier)\n",
            "Model2.5: SensorValue ~ Hour * MilkingType + MonthsInMilk + CalvingSeason + \n",
            "Model2.5:     Parity + (1 + numMonthsInMilk | HerdIdentifier/AnimalIdentifier)\n",
            "         npar     AIC     BIC   logLik deviance  Chisq Df Pr(>Chisq)    \n",
            "Model2.0   34 3007761 3008133 -1503847  3007693                         \n",
            "Model2.5   45 2999870 3000362 -1499890  2999780 7913.4 11  < 2.2e-16 ***\n",
            "---\n",
            "Signif. codes:  0 ‘***’ 0.001 ‘**’ 0.01 ‘*’ 0.05 ‘.’ 0.1 ‘ ’ 1\n"
          ],
          "name": "stdout"
        }
      ]
    },
    {
      "cell_type": "code",
      "metadata": {
        "colab": {
          "base_uri": "https://localhost:8080/"
        },
        "id": "C9wxRUHnFH7q",
        "outputId": "b63cc14b-20b5-409b-ace5-9f0a529ebd13"
      },
      "source": [
        "%%R\n",
        "lsmeans(Model2.5, ~ MonthsInMilk)"
      ],
      "execution_count": null,
      "outputs": [
        {
          "output_type": "stream",
          "text": [
            "R[write to console]: Note: D.f. calculations have been disabled because the number of observations exceeds 3000.\n",
            "To enable adjustments, add the argument 'pbkrtest.limit = 417593' (or larger)\n",
            "[or, globally, 'set emm_options(pbkrtest.limit = 417593)' or larger];\n",
            "but be warned that this may result in large computation time and memory use.\n",
            "\n",
            "R[write to console]: Note: D.f. calculations have been disabled because the number of observations exceeds 3000.\n",
            "To enable adjustments, add the argument 'lmerTest.limit = 417593' (or larger)\n",
            "[or, globally, 'set emm_options(lmerTest.limit = 417593)' or larger];\n",
            "but be warned that this may result in large computation time and memory use.\n",
            "\n"
          ],
          "name": "stderr"
        },
        {
          "output_type": "stream",
          "text": [
            " MonthsInMilk lsmean    SE  df asymp.LCL asymp.UCL\n",
            " 1              44.6 0.800 Inf      43.0      46.1\n",
            " 2              45.9 0.793 Inf      44.3      47.4\n",
            " 3              46.2 0.788 Inf      44.6      47.7\n",
            " 4              46.3 0.784 Inf      44.8      47.8\n",
            " 5              46.0 0.780 Inf      44.5      47.6\n",
            " 6              45.7 0.778 Inf      44.1      47.2\n",
            " 7              45.5 0.777 Inf      43.9      47.0\n",
            " 8              45.4 0.777 Inf      43.8      46.9\n",
            " 9              45.2 0.778 Inf      43.7      46.8\n",
            " 10             45.0 0.780 Inf      43.4      46.5\n",
            "\n",
            "Results are averaged over the levels of: Hour, MilkingType, CalvingSeason, Parity \n",
            "Degrees-of-freedom method: asymptotic \n",
            "Confidence level used: 0.95 \n"
          ],
          "name": "stdout"
        }
      ]
    },
    {
      "cell_type": "code",
      "metadata": {
        "id": "VF3W5LONgWDP"
      },
      "source": [
        "%%R\n",
        "Model2.6 <- lme4::lmer(\n",
        "                  SensorValue ~ \n",
        "                  Hour*CalvingSeason + MonthsInMilk +  + Parity + MilkingType +\n",
        "                  (1 + numMonthsInMilk| HerdIdentifier/AnimalIdentifier),\n",
        "                  REML = FALSE,\n",
        "                  data = AnalysisData\n",
        ")"
      ],
      "execution_count": null,
      "outputs": []
    },
    {
      "cell_type": "code",
      "metadata": {
        "colab": {
          "base_uri": "https://localhost:8080/"
        },
        "id": "iS-SIuc7FLoZ",
        "outputId": "aa6812eb-1746-4c34-ff7b-1d9ccd8e2fea"
      },
      "source": [
        "%%R\n",
        "anova(Model2.0,Model2.6,test=\"Chisq\")"
      ],
      "execution_count": null,
      "outputs": [
        {
          "output_type": "stream",
          "text": [
            "Data: AnalysisData\n",
            "Models:\n",
            "Model2.0: SensorValue ~ Parity + MonthsInMilk + CalvingSeason + Hour + \n",
            "Model2.0:     MilkingType + (1 + numMonthsInMilk | HerdIdentifier/AnimalIdentifier)\n",
            "Model2.6: SensorValue ~ Hour * CalvingSeason + MonthsInMilk + +Parity + \n",
            "Model2.6:     MilkingType + (1 + numMonthsInMilk | HerdIdentifier/AnimalIdentifier)\n",
            "         npar     AIC     BIC   logLik deviance  Chisq Df Pr(>Chisq)    \n",
            "Model2.0   34 3007761 3008133 -1503847  3007693                         \n",
            "Model2.6   67 3006926 3007660 -1503396  3006792 900.73 33  < 2.2e-16 ***\n",
            "---\n",
            "Signif. codes:  0 ‘***’ 0.001 ‘**’ 0.01 ‘*’ 0.05 ‘.’ 0.1 ‘ ’ 1\n"
          ],
          "name": "stdout"
        }
      ]
    },
    {
      "cell_type": "code",
      "metadata": {
        "colab": {
          "base_uri": "https://localhost:8080/"
        },
        "id": "0ldoF979FOc7",
        "outputId": "11519bb2-b3a6-49fd-e58b-f07359fc468d"
      },
      "source": [
        "%%R\n",
        "lsmeans(Model2.6, ~ MonthsInMilk)"
      ],
      "execution_count": null,
      "outputs": [
        {
          "output_type": "stream",
          "text": [
            "R[write to console]: Note: D.f. calculations have been disabled because the number of observations exceeds 3000.\n",
            "To enable adjustments, add the argument 'pbkrtest.limit = 417593' (or larger)\n",
            "[or, globally, 'set emm_options(pbkrtest.limit = 417593)' or larger];\n",
            "but be warned that this may result in large computation time and memory use.\n",
            "\n",
            "R[write to console]: Note: D.f. calculations have been disabled because the number of observations exceeds 3000.\n",
            "To enable adjustments, add the argument 'lmerTest.limit = 417593' (or larger)\n",
            "[or, globally, 'set emm_options(lmerTest.limit = 417593)' or larger];\n",
            "but be warned that this may result in large computation time and memory use.\n",
            "\n"
          ],
          "name": "stderr"
        },
        {
          "output_type": "stream",
          "text": [
            " MonthsInMilk lsmean    SE  df asymp.LCL asymp.UCL\n",
            " 1              44.6 0.818 Inf      43.0      46.2\n",
            " 2              45.9 0.811 Inf      44.3      47.5\n",
            " 3              46.2 0.806 Inf      44.6      47.8\n",
            " 4              46.3 0.801 Inf      44.7      47.9\n",
            " 5              46.0 0.797 Inf      44.5      47.6\n",
            " 6              45.7 0.795 Inf      44.1      47.2\n",
            " 7              45.5 0.794 Inf      43.9      47.0\n",
            " 8              45.4 0.793 Inf      43.8      46.9\n",
            " 9              45.2 0.794 Inf      43.7      46.8\n",
            " 10             45.0 0.796 Inf      43.4      46.5\n",
            "\n",
            "Results are averaged over the levels of: Hour, CalvingSeason, Parity, MilkingType \n",
            "Degrees-of-freedom method: asymptotic \n",
            "Confidence level used: 0.95 \n"
          ],
          "name": "stdout"
        }
      ]
    },
    {
      "cell_type": "markdown",
      "metadata": {
        "id": "UGN8CZ_X49nb"
      },
      "source": [
        "## Multiple interactions"
      ]
    },
    {
      "cell_type": "code",
      "metadata": {
        "id": "y5XBqNMUhFNg",
        "colab": {
          "base_uri": "https://localhost:8080/"
        },
        "outputId": "887dac32-bf93-4f69-8dd6-13397ef779e5"
      },
      "source": [
        "%%R\n",
        "Model2.7 <- lme4::lmer(\n",
        "                  SensorValue ~ \n",
        "                  MonthsInMilk*Parity + \n",
        "                  MonthsInMilk*CalvingSeason + \n",
        "                  MonthsInMilk*MilkingType + \n",
        "                  Hour*Parity + \n",
        "                  Hour*CalvingSeason + \n",
        "                  Hour*MilkingType +\n",
        "                  (1 + numMonthsInMilk| HerdIdentifier/AnimalIdentifier),\n",
        "                  REML = FALSE,\n",
        "                  data = AnalysisData\n",
        ")\n",
        "anova(Model2.0,Model2.7,test=\"Chisq\")"
      ],
      "execution_count": null,
      "outputs": [
        {
          "output_type": "stream",
          "text": [
            "Data: AnalysisData\n",
            "Models:\n",
            "Model2.0: SensorValue ~ Parity + MonthsInMilk + CalvingSeason + Hour + \n",
            "Model2.0:     MilkingType + (1 + numMonthsInMilk | HerdIdentifier/AnimalIdentifier)\n",
            "Model2.7: SensorValue ~ MonthsInMilk * Parity + MonthsInMilk * CalvingSeason + \n",
            "Model2.7:     MonthsInMilk * MilkingType + Hour * Parity + Hour * CalvingSeason + \n",
            "Model2.7:     Hour * MilkingType + (1 + numMonthsInMilk | HerdIdentifier/AnimalIdentifier)\n",
            "         npar     AIC     BIC   logLik deviance Chisq  Df Pr(>Chisq)    \n",
            "Model2.0   34 3007761 3008133 -1503847  3007693                         \n",
            "Model2.7  154 2995540 2997225 -1497616  2995232 12461 120  < 2.2e-16 ***\n",
            "---\n",
            "Signif. codes:  0 ‘***’ 0.001 ‘**’ 0.01 ‘*’ 0.05 ‘.’ 0.1 ‘ ’ 1\n"
          ],
          "name": "stdout"
        }
      ]
    },
    {
      "cell_type": "code",
      "source": [
        "%%R\n",
        "Model2.8 <- lme4::lmer(\n",
        "                  SensorValue ~ \n",
        "                  MonthsInMilk*Parity + \n",
        "                  MonthsInMilk*CalvingSeason + \n",
        "                  MonthsInMilk*HerdIdentifier +\n",
        "                  Hour*Parity + \n",
        "                  Hour*CalvingSeason + \n",
        "                  Hour*HerdIdentifier + \n",
        "                  (1 + numMonthsInMilk|AnimalIdentifier),\n",
        "                  REML = FALSE,\n",
        "                  data = AnalysisData\n",
        ")"
      ],
      "metadata": {
        "id": "r4ChHYTcJSTo"
      },
      "execution_count": null,
      "outputs": []
    },
    {
      "cell_type": "code",
      "metadata": {
        "colab": {
          "base_uri": "https://localhost:8080/"
        },
        "id": "U73SHVrEFVsK",
        "outputId": "b156d73a-73db-4d48-9741-d3dad297fe4e"
      },
      "source": [
        "%%R\n",
        "drop1(Model2.8,test=\"Chisq\")"
      ],
      "execution_count": null,
      "outputs": [
        {
          "output_type": "stream",
          "name": "stdout",
          "text": [
            "Single term deletions\n",
            "\n",
            "Model:\n",
            "SensorValue ~ MonthsInMilk * Parity + MonthsInMilk * CalvingSeason + \n",
            "    MonthsInMilk * HerdIdentifier + Hour * Parity + Hour * CalvingSeason + \n",
            "    Hour * HerdIdentifier + (1 + numMonthsInMilk | AnimalIdentifier)\n",
            "                            npar     AIC   LRT   Pr(Chi)    \n",
            "<none>                           2996794                    \n",
            "MonthsInMilk:Parity           18 2997784  1026 < 2.2e-16 ***\n",
            "MonthsInMilk:CalvingSeason    27 2997293   554 < 2.2e-16 ***\n",
            "MonthsInMilk:HerdIdentifier   63 2997761  1093 < 2.2e-16 ***\n",
            "Parity:Hour                   22 2998654  1904 < 2.2e-16 ***\n",
            "CalvingSeason:Hour            33 2997386   658 < 2.2e-16 ***\n",
            "HerdIdentifier:Hour           77 3037471 40831 < 2.2e-16 ***\n",
            "---\n",
            "Signif. codes:  0 ‘***’ 0.001 ‘**’ 0.01 ‘*’ 0.05 ‘.’ 0.1 ‘ ’ 1\n"
          ]
        }
      ]
    },
    {
      "cell_type": "markdown",
      "metadata": {
        "id": "vcgLJe6T5VQS"
      },
      "source": [
        "# Final model analysis of variance"
      ]
    },
    {
      "cell_type": "code",
      "metadata": {
        "id": "glFhYNgb5djV"
      },
      "source": [
        "%%R\n",
        "finalModel <- Model2.8"
      ],
      "execution_count": null,
      "outputs": []
    },
    {
      "cell_type": "code",
      "metadata": {
        "id": "duZJZQ6G6cw9",
        "colab": {
          "base_uri": "https://localhost:8080/"
        },
        "outputId": "5b4c4750-7f06-4294-d4ad-619b3a186a95"
      },
      "source": [
        "%%R\n",
        "Anova(finalModel)"
      ],
      "execution_count": null,
      "outputs": [
        {
          "output_type": "stream",
          "name": "stdout",
          "text": [
            "Analysis of Deviance Table (Type II Wald chisquare tests)\n",
            "\n",
            "Response: SensorValue\n",
            "                                Chisq Df Pr(>Chisq)    \n",
            "MonthsInMilk                  1589.36  9  < 2.2e-16 ***\n",
            "Parity                         222.49  2  < 2.2e-16 ***\n",
            "CalvingSeason                  197.73  3  < 2.2e-16 ***\n",
            "HerdIdentifier               13817.19  7  < 2.2e-16 ***\n",
            "Hour                        309736.82 11  < 2.2e-16 ***\n",
            "MonthsInMilk:Parity           1027.55 18  < 2.2e-16 ***\n",
            "MonthsInMilk:CalvingSeason     554.03 27  < 2.2e-16 ***\n",
            "MonthsInMilk:HerdIdentifier   1095.53 63  < 2.2e-16 ***\n",
            "Parity:Hour                   1908.49 22  < 2.2e-16 ***\n",
            "CalvingSeason:Hour             658.82 33  < 2.2e-16 ***\n",
            "HerdIdentifier:Hour          42906.55 77  < 2.2e-16 ***\n",
            "---\n",
            "Signif. codes:  0 ‘***’ 0.001 ‘**’ 0.01 ‘*’ 0.05 ‘.’ 0.1 ‘ ’ 1\n"
          ]
        }
      ]
    },
    {
      "cell_type": "code",
      "metadata": {
        "id": "nDPBFISf8kGh"
      },
      "source": [
        "%%R\n",
        "save(finalModel, file=\"/content/drive/Shareddrives/Bovi-Analytics/Projects/SenseOfSensors/CsvData/SensorAggRepartitioned08032021/finalmodel2hoursruminationtime.rdata\")"
      ],
      "execution_count": null,
      "outputs": []
    },
    {
      "cell_type": "code",
      "metadata": {
        "id": "0pR5h-RSFcAb"
      },
      "source": [
        "%%R\n",
        "load(file=\"/content/drive/Shareddrives/Bovi-Analytics/Projects/SenseOfSensors/CsvData/SensorAggRepartitioned08032021/finalmodel2hoursruminationtime.rdata\")"
      ],
      "execution_count": null,
      "outputs": []
    },
    {
      "cell_type": "code",
      "metadata": {
        "colab": {
          "base_uri": "https://localhost:8080/"
        },
        "id": "_vBr4rPtFjFW",
        "outputId": "15f3b8b3-93d9-4144-cff4-b188b2676f6e"
      },
      "source": [
        "%%R\n",
        "finalModel"
      ],
      "execution_count": null,
      "outputs": [
        {
          "output_type": "stream",
          "text": [
            "Linear mixed model fit by maximum likelihood  ['lmerMod']\n",
            "Formula: SensorValue ~ MonthsInMilk * Parity + MonthsInMilk * CalvingSeason +  \n",
            "    MonthsInMilk * MilkingType + Hour * Parity + Hour * CalvingSeason +  \n",
            "    Hour * MilkingType + (1 + numMonthsInMilk | HerdIdentifier/AnimalIdentifier)\n",
            "   Data: AnalysisData\n",
            "     AIC      BIC   logLik deviance df.resid \n",
            " 2995540  2997225 -1497616  2995232   417439 \n",
            "Random effects:\n",
            " Groups                          Name            Std.Dev. Corr \n",
            " AnimalIdentifier:HerdIdentifier (Intercept)     5.84926       \n",
            "                                 numMonthsInMilk 0.53585  -0.73\n",
            " HerdIdentifier                  (Intercept)     1.87993       \n",
            "                                 numMonthsInMilk 0.07149  -0.16\n",
            " Residual                                        8.63270       \n",
            "Number of obs: 417593, groups:  \n",
            "AnimalIdentifier:HerdIdentifier, 1706; HerdIdentifier, 8\n",
            "Fixed Effects:\n",
            "                       (Intercept)                       MonthsInMilk2  \n",
            "                         48.319039                            1.706413  \n",
            "                     MonthsInMilk3                       MonthsInMilk4  \n",
            "                          2.884883                            3.357185  \n",
            "                     MonthsInMilk5                       MonthsInMilk6  \n",
            "                          3.667620                            3.322525  \n",
            "                     MonthsInMilk7                       MonthsInMilk8  \n",
            "                          2.708521                            2.469617  \n",
            "                     MonthsInMilk9                      MonthsInMilk10  \n",
            "                          2.990350                            3.576757  \n",
            "                           Parity2                            Parity3+  \n",
            "                          2.329669                           -0.068257  \n",
            "               CalvingSeasonSpring                 CalvingSeasonSummer  \n",
            "                         -0.126895                           -0.439265  \n",
            "               CalvingSeasonWinter                      MilkingTypeCMS  \n",
            "                          1.780919                            4.949793  \n",
            "                             Hour2                               Hour4  \n",
            "                          2.437746                            6.265461  \n",
            "                             Hour6                               Hour8  \n",
            "                         -3.721522                          -13.898263  \n",
            "                            Hour10                              Hour12  \n",
            "                        -15.729740                           -8.065407  \n",
            "                            Hour14                              Hour16  \n",
            "                         -7.820097                           -9.213622  \n",
            "                            Hour18                              Hour20  \n",
            "                        -12.138026                          -13.493690  \n",
            "                            Hour22               MonthsInMilk2:Parity2  \n",
            "                         -2.574846                           -0.402410  \n",
            "             MonthsInMilk3:Parity2               MonthsInMilk4:Parity2  \n",
            "                         -1.252181                           -1.757469  \n",
            "             MonthsInMilk5:Parity2               MonthsInMilk6:Parity2  \n",
            "                         -2.291998                           -2.741845  \n",
            "             MonthsInMilk7:Parity2               MonthsInMilk8:Parity2  \n",
            "                         -2.631366                           -2.794148  \n",
            "             MonthsInMilk9:Parity2              MonthsInMilk10:Parity2  \n",
            "                         -3.126584                           -3.591361  \n",
            "            MonthsInMilk2:Parity3+              MonthsInMilk3:Parity3+  \n",
            "                          0.425881                           -0.292048  \n",
            "            MonthsInMilk4:Parity3+              MonthsInMilk5:Parity3+  \n",
            "                         -0.746289                           -1.143362  \n",
            "            MonthsInMilk6:Parity3+              MonthsInMilk7:Parity3+  \n",
            "                         -1.337203                           -1.497455  \n",
            "            MonthsInMilk8:Parity3+              MonthsInMilk9:Parity3+  \n",
            "                         -1.552660                           -2.116255  \n",
            "           MonthsInMilk10:Parity3+   MonthsInMilk2:CalvingSeasonSpring  \n",
            "                         -2.746156                            0.134437  \n",
            " MonthsInMilk3:CalvingSeasonSpring   MonthsInMilk4:CalvingSeasonSpring  \n",
            "                          0.241530                            0.445176  \n",
            " MonthsInMilk5:CalvingSeasonSpring   MonthsInMilk6:CalvingSeasonSpring  \n",
            "                          0.063002                           -0.318083  \n",
            " MonthsInMilk7:CalvingSeasonSpring   MonthsInMilk8:CalvingSeasonSpring  \n",
            "                          0.222102                            0.639577  \n",
            " MonthsInMilk9:CalvingSeasonSpring  MonthsInMilk10:CalvingSeasonSpring  \n",
            "                          0.812657                            0.647930  \n",
            " MonthsInMilk2:CalvingSeasonSummer   MonthsInMilk3:CalvingSeasonSummer  \n",
            "                          0.731291                            0.291489  \n",
            " MonthsInMilk4:CalvingSeasonSummer   MonthsInMilk5:CalvingSeasonSummer  \n",
            "                          0.117562                            0.068772  \n",
            " MonthsInMilk6:CalvingSeasonSummer   MonthsInMilk7:CalvingSeasonSummer  \n",
            "                          0.438993                            1.121949  \n",
            " MonthsInMilk8:CalvingSeasonSummer   MonthsInMilk9:CalvingSeasonSummer  \n",
            "                          1.315217                            0.668252  \n",
            "MonthsInMilk10:CalvingSeasonSummer   MonthsInMilk2:CalvingSeasonWinter  \n",
            "                         -0.207757                           -0.081390  \n",
            " MonthsInMilk3:CalvingSeasonWinter   MonthsInMilk4:CalvingSeasonWinter  \n",
            "                         -0.867986                           -1.681788  \n",
            " MonthsInMilk5:CalvingSeasonWinter   MonthsInMilk6:CalvingSeasonWinter  \n",
            "                         -2.179773                           -1.638191  \n",
            " MonthsInMilk7:CalvingSeasonWinter   MonthsInMilk8:CalvingSeasonWinter  \n",
            "                         -0.933285                           -1.083702  \n",
            " MonthsInMilk9:CalvingSeasonWinter  MonthsInMilk10:CalvingSeasonWinter  \n",
            "                         -1.458494                           -1.873045  \n",
            "      MonthsInMilk2:MilkingTypeCMS        MonthsInMilk3:MilkingTypeCMS  \n",
            "                         -1.107558                           -1.122890  \n",
            "      MonthsInMilk4:MilkingTypeCMS        MonthsInMilk5:MilkingTypeCMS  \n",
            "                         -0.877327                           -0.950889  \n",
            "      MonthsInMilk6:MilkingTypeCMS        MonthsInMilk7:MilkingTypeCMS  \n",
            "                         -0.890317                           -0.952154  \n",
            "      MonthsInMilk8:MilkingTypeCMS        MonthsInMilk9:MilkingTypeCMS  \n",
            "                         -0.855726                           -0.990234  \n",
            "     MonthsInMilk10:MilkingTypeCMS                       Parity2:Hour2  \n",
            "                         -1.116643                           -0.729068  \n",
            "                    Parity3+:Hour2                       Parity2:Hour4  \n",
            "                         -0.884744                           -1.132232  \n",
            "                    Parity3+:Hour4                       Parity2:Hour6  \n",
            "                         -1.933069                            0.551129  \n",
            "                    Parity3+:Hour6                       Parity2:Hour8  \n",
            "                          0.749250                           -0.857393  \n",
            "                    Parity3+:Hour8                      Parity2:Hour10  \n",
            "                          0.009801                           -0.631786  \n",
            "                   Parity3+:Hour10                      Parity2:Hour12  \n",
            "                         -0.434091                           -0.115852  \n",
            "                   Parity3+:Hour12                      Parity2:Hour14  \n",
            "                         -0.008211                            0.045732  \n",
            "                   Parity3+:Hour14                      Parity2:Hour16  \n",
            "                          0.793587                            0.143319  \n",
            "                   Parity3+:Hour16                      Parity2:Hour18  \n",
            "                          1.144520                            0.640289  \n",
            "                   Parity3+:Hour18                      Parity2:Hour20  \n",
            "                          2.060496                            1.532568  \n",
            "                   Parity3+:Hour20                      Parity2:Hour22  \n",
            "                          3.753180                            1.789657  \n",
            "                   Parity3+:Hour22           CalvingSeasonSpring:Hour2  \n",
            "                          2.352752                            0.404361  \n",
            "         CalvingSeasonSummer:Hour2           CalvingSeasonWinter:Hour2  \n",
            "                          0.150467                            0.426438  \n",
            "         CalvingSeasonSpring:Hour4           CalvingSeasonSummer:Hour4  \n",
            "                          0.982446                            0.576914  \n",
            "         CalvingSeasonWinter:Hour4           CalvingSeasonSpring:Hour6  \n",
            "                          0.643606                           -0.288684  \n",
            "         CalvingSeasonSummer:Hour6           CalvingSeasonWinter:Hour6  \n",
            "                          0.022291                            0.200020  \n",
            "         CalvingSeasonSpring:Hour8           CalvingSeasonSummer:Hour8  \n",
            "                          0.389423                            1.420795  \n",
            "         CalvingSeasonWinter:Hour8          CalvingSeasonSpring:Hour10  \n",
            "                         -0.404348                            0.559924  \n",
            "        CalvingSeasonSummer:Hour10          CalvingSeasonWinter:Hour10  \n",
            "                          0.629419                           -0.156613  \n",
            "        CalvingSeasonSpring:Hour12          CalvingSeasonSummer:Hour12  \n",
            "                          0.406192                            0.485003  \n",
            "        CalvingSeasonWinter:Hour12          CalvingSeasonSpring:Hour14  \n",
            "                         -0.599024                           -0.404205  \n",
            "        CalvingSeasonSummer:Hour14          CalvingSeasonWinter:Hour14  \n",
            "                          0.066040                           -1.123032  \n",
            "        CalvingSeasonSpring:Hour16          CalvingSeasonSummer:Hour16  \n",
            "                         -0.614937                           -0.587012  \n",
            "        CalvingSeasonWinter:Hour16          CalvingSeasonSpring:Hour18  \n",
            "                         -0.656715                            0.209691  \n",
            "        CalvingSeasonSummer:Hour18          CalvingSeasonWinter:Hour18  \n",
            "                         -1.026080                           -0.259221  \n",
            "        CalvingSeasonSpring:Hour20          CalvingSeasonSummer:Hour20  \n",
            "                          0.196688                            1.283088  \n",
            "        CalvingSeasonWinter:Hour20          CalvingSeasonSpring:Hour22  \n",
            "                         -0.829086                            0.589003  \n",
            "        CalvingSeasonSummer:Hour22          CalvingSeasonWinter:Hour22  \n",
            "                          0.414610                            0.454384  \n",
            "              MilkingTypeCMS:Hour2                MilkingTypeCMS:Hour4  \n",
            "                          1.578196                           -0.017040  \n",
            "              MilkingTypeCMS:Hour6                MilkingTypeCMS:Hour8  \n",
            "                         -3.750327                           -5.176009  \n",
            "             MilkingTypeCMS:Hour10               MilkingTypeCMS:Hour12  \n",
            "                         -2.562253                           -5.952141  \n",
            "             MilkingTypeCMS:Hour14               MilkingTypeCMS:Hour16  \n",
            "                         -4.583931                           -1.762246  \n",
            "             MilkingTypeCMS:Hour18               MilkingTypeCMS:Hour20  \n",
            "                         -5.318366                            1.394582  \n",
            "             MilkingTypeCMS:Hour22  \n",
            "                         -1.521509  \n",
            "optimizer (nloptwrap) convergence code: 0 (OK) ; 0 optimizer warnings; 2 lme4 warnings \n"
          ],
          "name": "stdout"
        }
      ]
    },
    {
      "cell_type": "markdown",
      "metadata": {
        "id": "GVxTK1nc6jAX"
      },
      "source": [
        "# Final model figures and LSM (95%CI)"
      ]
    },
    {
      "cell_type": "markdown",
      "metadata": {
        "id": "SHWpzLhi6p1U"
      },
      "source": [
        "## Main effects"
      ]
    },
    {
      "cell_type": "code",
      "metadata": {
        "id": "_w-re8zlFpJq"
      },
      "source": [
        "%%R\n",
        "lsmeans(finalModel, ~ MonthsInMilk)"
      ],
      "execution_count": null,
      "outputs": []
    },
    {
      "cell_type": "code",
      "metadata": {
        "colab": {
          "base_uri": "https://localhost:8080/"
        },
        "id": "9dKjtHTMFrPK",
        "outputId": "d147b497-2377-4f9a-db63-254b20890bd9"
      },
      "source": [
        "%%R\n",
        "multcomp::cld(lsmeans::lsmeans(finalModel, ~ MonthsInMilk), alpha=0.05, Letters=letters, adjust=\"Sidak\")"
      ],
      "execution_count": null,
      "outputs": [
        {
          "output_type": "stream",
          "name": "stderr",
          "text": [
            "R[write to console]: Note: D.f. calculations have been disabled because the number of observations exceeds 3000.\n",
            "To enable adjustments, add the argument 'pbkrtest.limit = 417593' (or larger)\n",
            "[or, globally, 'set emm_options(pbkrtest.limit = 417593)' or larger];\n",
            "but be warned that this may result in large computation time and memory use.\n",
            "\n",
            "R[write to console]: Note: D.f. calculations have been disabled because the number of observations exceeds 3000.\n",
            "To enable adjustments, add the argument 'lmerTest.limit = 417593' (or larger)\n",
            "[or, globally, 'set emm_options(lmerTest.limit = 417593)' or larger];\n",
            "but be warned that this may result in large computation time and memory use.\n",
            "\n",
            "R[write to console]: NOTE: Results may be misleading due to involvement in interactions\n",
            "\n"
          ]
        },
        {
          "output_type": "stream",
          "name": "stdout",
          "text": [
            " MonthsInMilk lsmean    SE  df asymp.LCL asymp.UCL .group  \n",
            " 1              45.4 0.192 Inf      44.8      45.9  a      \n",
            " 10             45.8 0.163 Inf      45.3      46.2  ab     \n",
            " 9              46.0 0.156 Inf      45.5      46.4   bc    \n",
            " 8              46.0 0.151 Inf      45.6      46.4   bc    \n",
            " 7              46.2 0.149 Inf      45.7      46.6    cd   \n",
            " 6              46.3 0.150 Inf      45.9      46.7     d   \n",
            " 2              46.5 0.180 Inf      46.0      47.0     de  \n",
            " 5              46.7 0.154 Inf      46.3      47.1      ef \n",
            " 3              46.9 0.169 Inf      46.4      47.3       fg\n",
            " 4              47.0 0.160 Inf      46.5      47.4        g\n",
            "\n",
            "Results are averaged over the levels of: Parity, CalvingSeason, HerdIdentifier, Hour \n",
            "Degrees-of-freedom method: asymptotic \n",
            "Confidence level used: 0.95 \n",
            "Conf-level adjustment: sidak method for 10 estimates \n",
            "P value adjustment: sidak method for 45 tests \n",
            "significance level used: alpha = 0.05 \n"
          ]
        }
      ]
    },
    {
      "cell_type": "code",
      "metadata": {
        "colab": {
          "base_uri": "https://localhost:8080/"
        },
        "id": "wNNEkxNAFuqW",
        "outputId": "1a65cef2-f69d-47c5-b5e3-286447907e5b"
      },
      "source": [
        "%%R\n",
        "multcomp::cld(lsmeans::lsmeans(finalModel, ~ Parity), alpha=0.05, Letters=letters, adjust=\"tukey\")"
      ],
      "execution_count": null,
      "outputs": [
        {
          "output_type": "stream",
          "name": "stderr",
          "text": [
            "R[write to console]: Note: D.f. calculations have been disabled because the number of observations exceeds 3000.\n",
            "To enable adjustments, add the argument 'pbkrtest.limit = 417593' (or larger)\n",
            "[or, globally, 'set emm_options(pbkrtest.limit = 417593)' or larger];\n",
            "but be warned that this may result in large computation time and memory use.\n",
            "\n",
            "R[write to console]: Note: D.f. calculations have been disabled because the number of observations exceeds 3000.\n",
            "To enable adjustments, add the argument 'lmerTest.limit = 417593' (or larger)\n",
            "[or, globally, 'set emm_options(lmerTest.limit = 417593)' or larger];\n",
            "but be warned that this may result in large computation time and memory use.\n",
            "\n",
            "R[write to console]: NOTE: Results may be misleading due to involvement in interactions\n",
            "\n",
            "R[write to console]: Note: adjust = \"tukey\" was changed to \"sidak\"\n",
            "because \"tukey\" is only appropriate for one set of pairwise comparisons\n",
            "\n"
          ]
        },
        {
          "output_type": "stream",
          "name": "stdout",
          "text": [
            " Parity lsmean    SE  df asymp.LCL asymp.UCL .group\n",
            " 3+       46.0 0.146 Inf      45.6      46.3  a    \n",
            " 1        46.3 0.148 Inf      45.9      46.6   b   \n",
            " 2        46.5 0.147 Inf      46.2      46.9    c  \n",
            "\n",
            "Results are averaged over the levels of: MonthsInMilk, CalvingSeason, HerdIdentifier, Hour \n",
            "Degrees-of-freedom method: asymptotic \n",
            "Confidence level used: 0.95 \n",
            "Conf-level adjustment: sidak method for 3 estimates \n",
            "P value adjustment: tukey method for comparing a family of 3 estimates \n",
            "significance level used: alpha = 0.05 \n"
          ]
        }
      ]
    },
    {
      "cell_type": "code",
      "metadata": {
        "colab": {
          "base_uri": "https://localhost:8080/"
        },
        "id": "ad9FS2euFv3V",
        "outputId": "3cc2f010-a300-4627-f03d-362238999663"
      },
      "source": [
        "%%R\n",
        "multcomp::cld(lsmeans::lsmeans(finalModel, ~ Hour), alpha=0.05, Letters=letters, adjust=\"tukey\")"
      ],
      "execution_count": null,
      "outputs": [
        {
          "output_type": "stream",
          "name": "stderr",
          "text": [
            "R[write to console]: Note: D.f. calculations have been disabled because the number of observations exceeds 3000.\n",
            "To enable adjustments, add the argument 'pbkrtest.limit = 417593' (or larger)\n",
            "[or, globally, 'set emm_options(pbkrtest.limit = 417593)' or larger];\n",
            "but be warned that this may result in large computation time and memory use.\n",
            "\n",
            "R[write to console]: Note: D.f. calculations have been disabled because the number of observations exceeds 3000.\n",
            "To enable adjustments, add the argument 'lmerTest.limit = 417593' (or larger)\n",
            "[or, globally, 'set emm_options(lmerTest.limit = 417593)' or larger];\n",
            "but be warned that this may result in large computation time and memory use.\n",
            "\n",
            "R[write to console]: NOTE: Results may be misleading due to involvement in interactions\n",
            "\n",
            "R[write to console]: Note: adjust = \"tukey\" was changed to \"sidak\"\n",
            "because \"tukey\" is only appropriate for one set of pairwise comparisons\n",
            "\n"
          ]
        },
        {
          "output_type": "stream",
          "name": "stdout",
          "text": [
            " Hour lsmean    SE  df asymp.LCL asymp.UCL .group      \n",
            " 10     36.4 0.153 Inf      35.9      36.8  a          \n",
            " 8      37.1 0.153 Inf      36.6      37.5   b         \n",
            " 18     38.8 0.153 Inf      38.4      39.2    c        \n",
            " 12     42.2 0.153 Inf      41.7      42.6     d       \n",
            " 14     43.1 0.153 Inf      42.7      43.6      e      \n",
            " 16     43.5 0.153 Inf      43.0      43.9       f     \n",
            " 20     43.6 0.153 Inf      43.2      44.0       f     \n",
            " 6      47.9 0.153 Inf      47.4      48.3        g    \n",
            " 22     52.4 0.153 Inf      51.9      52.8         h   \n",
            " 0      54.0 0.153 Inf      53.6      54.4          i  \n",
            " 2      56.8 0.153 Inf      56.4      57.3           j \n",
            " 4      59.5 0.153 Inf      59.0      59.9            k\n",
            "\n",
            "Results are averaged over the levels of: MonthsInMilk, Parity, CalvingSeason, HerdIdentifier \n",
            "Degrees-of-freedom method: asymptotic \n",
            "Confidence level used: 0.95 \n",
            "Conf-level adjustment: sidak method for 12 estimates \n",
            "P value adjustment: tukey method for comparing a family of 12 estimates \n",
            "significance level used: alpha = 0.05 \n"
          ]
        }
      ]
    },
    {
      "cell_type": "code",
      "metadata": {
        "colab": {
          "base_uri": "https://localhost:8080/"
        },
        "id": "jFqkqdK4FzW7",
        "outputId": "3fba572e-aed3-44bc-b912-792011b6d258"
      },
      "source": [
        "%%R\n",
        "multcomp::cld(lsmeans::lsmeans(finalModel, ~ CalvingSeason), alpha=0.05, Letters=letters, adjust=\"tukey\")"
      ],
      "execution_count": null,
      "outputs": [
        {
          "output_type": "stream",
          "name": "stderr",
          "text": [
            "R[write to console]: Note: D.f. calculations have been disabled because the number of observations exceeds 3000.\n",
            "To enable adjustments, add the argument 'pbkrtest.limit = 417593' (or larger)\n",
            "[or, globally, 'set emm_options(pbkrtest.limit = 417593)' or larger];\n",
            "but be warned that this may result in large computation time and memory use.\n",
            "\n",
            "R[write to console]: Note: D.f. calculations have been disabled because the number of observations exceeds 3000.\n",
            "To enable adjustments, add the argument 'lmerTest.limit = 417593' (or larger)\n",
            "[or, globally, 'set emm_options(lmerTest.limit = 417593)' or larger];\n",
            "but be warned that this may result in large computation time and memory use.\n",
            "\n",
            "R[write to console]: NOTE: Results may be misleading due to involvement in interactions\n",
            "\n",
            "R[write to console]: Note: adjust = \"tukey\" was changed to \"sidak\"\n",
            "because \"tukey\" is only appropriate for one set of pairwise comparisons\n",
            "\n"
          ]
        },
        {
          "output_type": "stream",
          "name": "stdout",
          "text": [
            " CalvingSeason lsmean    SE  df asymp.LCL asymp.UCL .group\n",
            " Autumn          45.9 0.148 Inf      45.6      46.3  a    \n",
            " Summer          46.2 0.148 Inf      45.8      46.5   b   \n",
            " Spring          46.3 0.149 Inf      45.9      46.7   b   \n",
            " Winter          46.6 0.149 Inf      46.3      47.0    c  \n",
            "\n",
            "Results are averaged over the levels of: MonthsInMilk, Parity, HerdIdentifier, Hour \n",
            "Degrees-of-freedom method: asymptotic \n",
            "Confidence level used: 0.95 \n",
            "Conf-level adjustment: sidak method for 4 estimates \n",
            "P value adjustment: tukey method for comparing a family of 4 estimates \n",
            "significance level used: alpha = 0.05 \n"
          ]
        }
      ]
    },
    {
      "cell_type": "markdown",
      "metadata": {
        "id": "FoEZth3z9taK"
      },
      "source": [
        "## Interactions"
      ]
    },
    {
      "cell_type": "markdown",
      "metadata": {
        "id": "917T8Ykn92AH"
      },
      "source": [
        "### Hour by parity"
      ]
    },
    {
      "cell_type": "code",
      "metadata": {
        "colab": {
          "base_uri": "https://localhost:8080/"
        },
        "id": "jGdRGWPa-HJt",
        "outputId": "3a41b616-1865-4909-9a4c-4a809bd8336c"
      },
      "source": [
        "%%R\n",
        "LSMs<-lsmeans::lsmeans(finalModel, pairwise ~ Hour|Parity, type = \"response\", glhargs=list())\n",
        "multcomp::cld(LSMs[[1]], alpha=0.05, Letters=letters, adjust=\"Sidak\")"
      ],
      "execution_count": null,
      "outputs": [
        {
          "output_type": "stream",
          "name": "stderr",
          "text": [
            "R[write to console]: Note: D.f. calculations have been disabled because the number of observations exceeds 3000.\n",
            "To enable adjustments, add the argument 'pbkrtest.limit = 417593' (or larger)\n",
            "[or, globally, 'set emm_options(pbkrtest.limit = 417593)' or larger];\n",
            "but be warned that this may result in large computation time and memory use.\n",
            "\n",
            "R[write to console]: Note: D.f. calculations have been disabled because the number of observations exceeds 3000.\n",
            "To enable adjustments, add the argument 'lmerTest.limit = 417593' (or larger)\n",
            "[or, globally, 'set emm_options(lmerTest.limit = 417593)' or larger];\n",
            "but be warned that this may result in large computation time and memory use.\n",
            "\n"
          ]
        },
        {
          "output_type": "stream",
          "name": "stdout",
          "text": [
            "Parity = 1:\n",
            " Hour lsmean    SE  df asymp.LCL asymp.UCL .group       \n",
            " 10     36.7 0.173 Inf      36.2      37.2  a           \n",
            " 8      37.6 0.173 Inf      37.1      38.1   b          \n",
            " 18     38.2 0.173 Inf      37.7      38.7    c         \n",
            " 20     42.2 0.173 Inf      41.7      42.7     d        \n",
            " 12     42.4 0.173 Inf      41.9      42.9     d        \n",
            " 14     43.1 0.173 Inf      42.6      43.6      e       \n",
            " 16     43.5 0.173 Inf      43.0      43.9      e       \n",
            " 6      47.9 0.173 Inf      47.4      48.4       f      \n",
            " 22     51.1 0.173 Inf      50.6      51.6        g     \n",
            " 0      54.2 0.173 Inf      53.7      54.7         h    \n",
            " 2      57.5 0.173 Inf      57.1      58.0          i   \n",
            " 4      60.7 0.173 Inf      60.2      61.2           j  \n",
            "\n",
            "Parity = 2:\n",
            " Hour lsmean    SE  df asymp.LCL asymp.UCL .group       \n",
            " 10     36.4 0.172 Inf      35.9      36.8  a           \n",
            " 8      36.9 0.172 Inf      36.4      37.4   b          \n",
            " 18     39.0 0.172 Inf      38.5      39.5    c         \n",
            " 12     42.5 0.172 Inf      42.0      42.9     d        \n",
            " 14     43.4 0.172 Inf      42.9      43.8      e       \n",
            " 16     43.7 0.172 Inf      43.2      44.2      ef      \n",
            " 20     43.8 0.172 Inf      43.3      44.3       f      \n",
            " 6      48.5 0.172 Inf      48.0      49.0        g     \n",
            " 22     53.1 0.172 Inf      52.6      53.6         h    \n",
            " 0      54.4 0.172 Inf      53.9      54.9          i   \n",
            " 2      57.1 0.172 Inf      56.6      57.6           j  \n",
            " 4      59.8 0.172 Inf      59.3      60.3            k \n",
            "\n",
            "Parity = 3+:\n",
            " Hour lsmean    SE  df asymp.LCL asymp.UCL .group       \n",
            " 10     36.1 0.160 Inf      35.6      36.6  a           \n",
            " 8      36.7 0.160 Inf      36.3      37.2   b          \n",
            " 18     39.2 0.160 Inf      38.7      39.6    c         \n",
            " 12     41.6 0.160 Inf      41.2      42.1     d        \n",
            " 14     42.9 0.160 Inf      42.4      43.3      e       \n",
            " 16     43.2 0.160 Inf      42.8      43.7       f      \n",
            " 20     44.7 0.160 Inf      44.3      45.2        g     \n",
            " 6      47.3 0.160 Inf      46.8      47.7         h    \n",
            " 22     52.9 0.160 Inf      52.5      53.4          i   \n",
            " 0      53.4 0.160 Inf      53.0      53.9           j  \n",
            " 2      55.8 0.160 Inf      55.4      56.3            k \n",
            " 4      57.9 0.160 Inf      57.4      58.3             l\n",
            "\n",
            "Results are averaged over the levels of: MonthsInMilk, CalvingSeason, HerdIdentifier \n",
            "Degrees-of-freedom method: asymptotic \n",
            "Confidence level used: 0.95 \n",
            "Conf-level adjustment: sidak method for 12 estimates \n",
            "P value adjustment: sidak method for 66 tests \n",
            "significance level used: alpha = 0.05 \n"
          ]
        }
      ]
    },
    {
      "cell_type": "code",
      "metadata": {
        "colab": {
          "base_uri": "https://localhost:8080/",
          "height": 497
        },
        "id": "pNqyUybz-NtV",
        "outputId": "fa1f54b9-9086-4f64-fc86-d06f467450a5"
      },
      "source": [
        "%%R\n",
        "dfPValues <- summary(LSMs)[[2]]\n",
        "dfLMSs <- summary(LSMs)[[1]]\n",
        "dfLMSs %>% \n",
        "  mutate(label = if_else(Hour == max(as.numeric(Hour)), as.character(Parity), NA_character_)) %>%\n",
        "  ggplot(\n",
        "  aes(\n",
        "    x=Hour,\n",
        "    y=lsmean,\n",
        "    group=Parity, \n",
        "    color=Parity)\n",
        "    ) +\n",
        "  geom_line(size=1) +  \n",
        "  geom_errorbar(\n",
        "    aes(ymin=asymp.LCL, \n",
        "        ymax=asymp.UCL), \n",
        "    width=1,\n",
        "    size=1,\n",
        "    position=position_dodge(0.25)) +\n",
        "  labs(\n",
        "    title = \"Rumination time (min/2hours)\", \n",
        "    y=\"Minutes per two hours\" , \n",
        "    x = \"Hour\") +\n",
        "  theme_bw() +\n",
        "  theme(text=element_text(size=25),\n",
        "        plot.title = element_text(hjust = 0.5),\n",
        "        panel.border = element_blank(), \n",
        "        panel.grid.major = element_blank(),\n",
        "        panel.grid.minor = element_blank(), \n",
        "        axis.line = element_line(colour = \"black\"))"
      ],
      "execution_count": null,
      "outputs": [
        {
          "output_type": "display_data",
          "data": {
            "image/png": "[encoded data removed]"
          },
          "metadata": {}
        }
      ]
    },
    {
      "cell_type": "code",
      "metadata": {
        "id": "WfE-_rrwJe1p"
      },
      "source": [
        "%%R\n",
        "ggsave(\"/content/drive/Shareddrives/Bovi-Analytics/Projects/SenseOfSensors/DiurnalPattern/Figures122021/RuminationTimeParityBy24h.png\", width = 10, height = 8)"
      ],
      "execution_count": null,
      "outputs": []
    },
    {
      "cell_type": "markdown",
      "metadata": {
        "id": "qbo6zen995cK"
      },
      "source": [
        "### Hour by milking type"
      ]
    },
    {
      "cell_type": "code",
      "metadata": {
        "id": "D8zhNT40-aKu"
      },
      "source": [
        "%%R\n",
        "LSMs<-lsmeans::lsmeans(finalModel, pairwise ~ Hour|MilkingType, type = \"response\", glhargs=list())\n",
        "multcomp::cld(LSMs[[1]], alpha=0.05, Letters=letters, adjust=\"tukey\")"
      ],
      "execution_count": null,
      "outputs": []
    },
    {
      "cell_type": "code",
      "metadata": {
        "colab": {
          "base_uri": "https://localhost:8080/",
          "height": 497
        },
        "id": "Oyl2KDgB-cbz",
        "outputId": "dbc4512c-c577-45f2-930b-b40762398b5d"
      },
      "source": [
        "%%R\n",
        "dfPValues <- summary(LSMs)[[2]]\n",
        "dfLMSs <- summary(LSMs)[[1]]\n",
        "dfLMSs %>% \n",
        "  mutate(label = if_else(Hour == max(as.numeric(Hour)), as.character(MilkingType), NA_character_)) %>%\n",
        "  ggplot(\n",
        "  aes(\n",
        "    x=Hour,\n",
        "    y=lsmean,\n",
        "    group=MilkingType, \n",
        "    color=MilkingType)\n",
        "    ) +\n",
        "  geom_line() +  \n",
        "  geom_errorbar(\n",
        "    aes(ymin=asymp.LCL, \n",
        "        ymax=asymp.UCL), \n",
        "    width=.5,\n",
        "    position=position_dodge(0.25)) +\n",
        "  labs(\n",
        "    title = \"Rumination time (min/2hours)\", \n",
        "    y=\"Minutes per two hours\" , \n",
        "    x = \"Hour\") +\n",
        "  theme_bw() +\n",
        "  theme(plot.title = element_text(hjust = 0.5),\n",
        "        panel.border = element_blank(), \n",
        "        panel.grid.major = element_blank(),\n",
        "        panel.grid.minor = element_blank(), \n",
        "        axis.line = element_line(colour = \"black\"))"
      ],
      "execution_count": null,
      "outputs": [
        {
          "output_type": "display_data",
          "data": {
            "image/png": "[encoded data removed]"
          },
          "metadata": {
            "tags": []
          }
        }
      ]
    },
    {
      "cell_type": "code",
      "metadata": {
        "id": "499rYUa6JZn1"
      },
      "source": [
        "%%R\n",
        "ggsave(\"/content/drive/Shareddrives/Bovi-Analytics/Projects/SenseOfSensors/DiurnalPattern/Figures/RuminationTimeMilkingTypeBy24h.png\", width = 5, height = 4)"
      ],
      "execution_count": null,
      "outputs": []
    },
    {
      "cell_type": "code",
      "source": [
        "%%R\n",
        "LSMs<-lsmeans::lsmeans(finalModel, pairwise ~ Hour|HerdIdentifier, type = \"response\", glhargs=list())\n",
        "multcomp::cld(LSMs[[1]], alpha=0.05, Letters=letters, adjust=\"tukey\")"
      ],
      "metadata": {
        "colab": {
          "base_uri": "https://localhost:8080/"
        },
        "id": "HKgSviMfjMdD",
        "outputId": "6f620ca9-f8f7-4c3c-c272-df53eb2fa971"
      },
      "execution_count": null,
      "outputs": [
        {
          "output_type": "stream",
          "name": "stderr",
          "text": [
            "R[write to console]: Note: D.f. calculations have been disabled because the number of observations exceeds 3000.\n",
            "To enable adjustments, add the argument 'pbkrtest.limit = 417593' (or larger)\n",
            "[or, globally, 'set emm_options(pbkrtest.limit = 417593)' or larger];\n",
            "but be warned that this may result in large computation time and memory use.\n",
            "\n",
            "R[write to console]: Note: D.f. calculations have been disabled because the number of observations exceeds 3000.\n",
            "To enable adjustments, add the argument 'lmerTest.limit = 417593' (or larger)\n",
            "[or, globally, 'set emm_options(lmerTest.limit = 417593)' or larger];\n",
            "but be warned that this may result in large computation time and memory use.\n",
            "\n",
            "R[write to console]: Note: adjust = \"tukey\" was changed to \"sidak\"\n",
            "because \"tukey\" is only appropriate for one set of pairwise comparisons\n",
            "\n"
          ]
        },
        {
          "output_type": "stream",
          "name": "stdout",
          "text": [
            "HerdIdentifier = 2011:\n",
            " Hour lsmean    SE  df asymp.LCL asymp.UCL .group      \n",
            " 10     31.8 0.206 Inf      31.2      32.4  a          \n",
            " 8      31.8 0.206 Inf      31.2      32.4  a          \n",
            " 12     37.3 0.206 Inf      36.7      37.9   b         \n",
            " 18     38.4 0.206 Inf      37.8      39.0    c        \n",
            " 20     38.7 0.206 Inf      38.1      39.3    c        \n",
            " 14     39.8 0.206 Inf      39.2      40.4     d       \n",
            " 16     41.6 0.206 Inf      41.0      42.2      e      \n",
            " 22     46.0 0.206 Inf      45.4      46.6       f     \n",
            " 6      47.4 0.206 Inf      46.8      48.0        g    \n",
            " 0      49.5 0.206 Inf      48.9      50.0         h   \n",
            " 2      56.1 0.206 Inf      55.5      56.7          i  \n",
            " 4      57.6 0.206 Inf      57.0      58.2           j \n",
            "\n",
            "HerdIdentifier = 2297:\n",
            " Hour lsmean    SE  df asymp.LCL asymp.UCL .group      \n",
            " 8      35.5 0.237 Inf      34.8      36.2  a          \n",
            " 18     41.8 0.237 Inf      41.1      42.5   b         \n",
            " 10     42.3 0.237 Inf      41.6      43.0   b         \n",
            " 20     44.2 0.237 Inf      43.6      44.9    c        \n",
            " 14     44.8 0.237 Inf      44.2      45.5    cd       \n",
            " 12     44.9 0.237 Inf      44.2      45.6     d       \n",
            " 16     46.6 0.237 Inf      46.0      47.3      e      \n",
            " 6      53.6 0.237 Inf      52.9      54.2       f     \n",
            " 22     55.1 0.237 Inf      54.4      55.8        g    \n",
            " 0      57.5 0.237 Inf      56.8      58.2         h   \n",
            " 2      58.8 0.237 Inf      58.1      59.5          i  \n",
            " 4      61.5 0.237 Inf      60.8      62.2           j \n",
            "\n",
            "HerdIdentifier = 2514:\n",
            " Hour lsmean    SE  df asymp.LCL asymp.UCL .group      \n",
            " 8      34.5 0.217 Inf      33.8      35.1  a          \n",
            " 20     35.1 0.217 Inf      34.5      35.7   b         \n",
            " 18     35.7 0.217 Inf      35.1      36.3   b         \n",
            " 16     38.8 0.217 Inf      38.2      39.4    c        \n",
            " 10     39.3 0.217 Inf      38.7      39.9    c        \n",
            " 14     40.4 0.217 Inf      39.8      41.0     d       \n",
            " 12     42.8 0.217 Inf      42.2      43.5      e      \n",
            " 6      45.9 0.217 Inf      45.2      46.5       f     \n",
            " 22     51.2 0.217 Inf      50.6      51.8        g    \n",
            " 0      51.4 0.217 Inf      50.8      52.1        g    \n",
            " 2      53.5 0.217 Inf      52.9      54.1         h   \n",
            " 4      58.2 0.217 Inf      57.6      58.8          i  \n",
            "\n",
            "HerdIdentifier = 2746:\n",
            " Hour lsmean    SE  df asymp.LCL asymp.UCL .group      \n",
            " 16     39.3 0.237 Inf      38.7      40.0  a          \n",
            " 18     40.0 0.237 Inf      39.3      40.7  a          \n",
            " 14     42.4 0.237 Inf      41.8      43.1   b         \n",
            " 6      42.6 0.237 Inf      41.9      43.3   b         \n",
            " 10     42.8 0.237 Inf      42.1      43.4   b         \n",
            " 8      43.6 0.237 Inf      42.9      44.3    c        \n",
            " 12     44.5 0.237 Inf      43.9      45.2     d       \n",
            " 20     49.1 0.237 Inf      48.5      49.8      e      \n",
            " 0      57.9 0.236 Inf      57.2      58.5       f     \n",
            " 2      58.8 0.237 Inf      58.1      59.4        g    \n",
            " 22     59.6 0.237 Inf      58.9      60.3         h   \n",
            " 4      60.7 0.237 Inf      60.0      61.3          i  \n",
            "\n",
            "HerdIdentifier = 3:\n",
            " Hour lsmean    SE  df asymp.LCL asymp.UCL .group      \n",
            " 8      36.1 0.240 Inf      35.5      36.8  a          \n",
            " 18     38.7 0.240 Inf      38.0      39.3   b         \n",
            " 10     40.4 0.240 Inf      39.7      41.1    c        \n",
            " 12     42.0 0.240 Inf      41.3      42.7     d       \n",
            " 6      45.6 0.240 Inf      44.9      46.3      e      \n",
            " 14     46.3 0.240 Inf      45.6      47.0       f     \n",
            " 16     46.5 0.240 Inf      45.8      47.1       fg    \n",
            " 20     47.1 0.240 Inf      46.4      47.7        g    \n",
            " 22     54.8 0.240 Inf      54.1      55.5         h   \n",
            " 0      59.0 0.240 Inf      58.3      59.6          i  \n",
            " 4      62.0 0.240 Inf      61.3      62.7           j \n",
            " 2      63.2 0.240 Inf      62.5      63.8            k\n",
            "\n",
            "HerdIdentifier = 3314:\n",
            " Hour lsmean    SE  df asymp.LCL asymp.UCL .group      \n",
            " 10     27.9 0.255 Inf      27.2      28.6  a          \n",
            " 20     38.7 0.255 Inf      38.0      39.5   b         \n",
            " 8      38.9 0.255 Inf      38.2      39.6   b         \n",
            " 18     39.2 0.255 Inf      38.5      39.9   b         \n",
            " 16     40.6 0.255 Inf      39.8      41.3    c        \n",
            " 12     41.2 0.255 Inf      40.5      41.9    cd       \n",
            " 14     41.7 0.255 Inf      40.9      42.4     d       \n",
            " 0      46.1 0.255 Inf      45.4      46.9      e      \n",
            " 22     46.5 0.255 Inf      45.8      47.2      e      \n",
            " 6      46.7 0.255 Inf      46.0      47.5      e      \n",
            " 2      48.9 0.255 Inf      48.2      49.6       f     \n",
            " 4      52.6 0.255 Inf      51.9      53.3        g    \n",
            "\n",
            "HerdIdentifier = 544:\n",
            " Hour lsmean    SE  df asymp.LCL asymp.UCL .group      \n",
            " 10     36.9 0.235 Inf      36.2      37.5  a          \n",
            " 8      40.7 0.235 Inf      40.0      41.3   b         \n",
            " 18     45.4 0.235 Inf      44.8      46.1    c        \n",
            " 12     45.9 0.235 Inf      45.2      46.5    cd       \n",
            " 20     46.4 0.235 Inf      45.7      47.1     d       \n",
            " 16     47.6 0.235 Inf      46.9      48.3      e      \n",
            " 14     48.6 0.235 Inf      48.0      49.3       f     \n",
            " 6      52.1 0.235 Inf      51.5      52.8        g    \n",
            " 22     53.1 0.235 Inf      52.4      53.7         h   \n",
            " 0      55.3 0.235 Inf      54.7      56.0          i  \n",
            " 2      57.3 0.235 Inf      56.6      57.9           j \n",
            " 4      59.8 0.235 Inf      59.1      60.4            k\n",
            "\n",
            "HerdIdentifier = 5888:\n",
            " Hour lsmean    SE  df asymp.LCL asymp.UCL .group      \n",
            " 10     29.7 0.216 Inf      29.1      30.3  a          \n",
            " 18     31.2 0.216 Inf      30.5      31.8   b         \n",
            " 8      35.6 0.216 Inf      35.0      36.2    c        \n",
            " 12     38.6 0.216 Inf      38.0      39.2     d       \n",
            " 14     40.9 0.216 Inf      40.3      41.6      e      \n",
            " 16     46.8 0.216 Inf      46.2      47.4       f     \n",
            " 6      49.2 0.216 Inf      48.6      49.9        g    \n",
            " 20     49.4 0.216 Inf      48.8      50.0        g    \n",
            " 22     52.7 0.216 Inf      52.1      53.4         h   \n",
            " 0      55.3 0.216 Inf      54.7      55.9          i  \n",
            " 2      58.2 0.216 Inf      57.6      58.8           j \n",
            " 4      63.3 0.216 Inf      62.7      63.9            k\n",
            "\n",
            "Results are averaged over the levels of: MonthsInMilk, Parity, CalvingSeason \n",
            "Degrees-of-freedom method: asymptotic \n",
            "Confidence level used: 0.95 \n",
            "Conf-level adjustment: sidak method for 12 estimates \n",
            "P value adjustment: tukey method for comparing a family of 12 estimates \n",
            "significance level used: alpha = 0.05 \n"
          ]
        }
      ]
    },
    {
      "cell_type": "code",
      "source": [
        "%%R\n",
        "dfHerdIdentifier <- data.frame(HerdIdentifier = c(\"2011\", \"2297\", \"2514\", \"2746\", \"3\", \"3314\", \"544\", \"5888\"),\n",
        "                 Farm = c(\"CMS-P\", \"CMS-P\", \"AMS-C\", \"CMS-P\", \"CMS-P\", \"AMS-C\", \"AMS-C\", \"CMS-P\")\n",
        "                 )"
      ],
      "metadata": {
        "id": "qKyYFtmLiV1W"
      },
      "execution_count": null,
      "outputs": []
    },
    {
      "cell_type": "code",
      "source": [
        "%%R\n",
        "dfLMSs <- summary(LSMs)[[1]]\n",
        "dfLMSs %>% \n",
        "  dplyr::left_join(dfHerdIdentifier, by =  c(\"HerdIdentifier\")) %>%\n",
        "  mutate(label = if_else(Hour == max(as.numeric(Hour)), as.character(HerdIdentifier), NA_character_)) %>%\n",
        "  ggplot(\n",
        "  aes(\n",
        "    x=Hour,\n",
        "    y=lsmean,\n",
        "    group=HerdIdentifier, \n",
        "    color=Farm)\n",
        "    ) +\n",
        "  geom_line(size=1) +  \n",
        "  geom_errorbar(\n",
        "    aes(ymin=asymp.LCL, \n",
        "        ymax=asymp.UCL), \n",
        "    width=1,\n",
        "    size=1,\n",
        "    position=position_dodge(0.25)) +\n",
        "  labs(\n",
        "    title = \"Rumination time (min/2hours)\", \n",
        "    y=\"Minutes per two hours\" , \n",
        "    x = \"Hour\") +\n",
        "  theme_bw() +\n",
        "  theme(text=element_text(size=25),\n",
        "        plot.title = element_text(hjust = 0.5),\n",
        "        panel.border = element_blank(), \n",
        "        panel.grid.major = element_blank(),\n",
        "        panel.grid.minor = element_blank(), \n",
        "        axis.line = element_line(colour = \"black\"))"
      ],
      "metadata": {
        "colab": {
          "base_uri": "https://localhost:8080/",
          "height": 497
        },
        "id": "93vtIHB1iae4",
        "outputId": "00b99acf-fd01-4136-a9b7-2cbe48a5675f"
      },
      "execution_count": null,
      "outputs": [
        {
          "output_type": "display_data",
          "data": {
            "image/png": "[encoded data removed]"
          },
          "metadata": {}
        }
      ]
    },
    {
      "cell_type": "code",
      "source": [
        "%%R\n",
        "ggsave(\"/content/drive/Shareddrives/Bovi-Analytics/Projects/SenseOfSensors/DiurnalPattern/Figures122021/RuminationTimeMilkingTypeBy24h.png\", width = 10, height = 8)"
      ],
      "metadata": {
        "id": "nARbs6UbinI5"
      },
      "execution_count": null,
      "outputs": []
    },
    {
      "cell_type": "markdown",
      "metadata": {
        "id": "tpbPYnAk99Uu"
      },
      "source": [
        "### Hour by calving season"
      ]
    },
    {
      "cell_type": "code",
      "metadata": {
        "colab": {
          "base_uri": "https://localhost:8080/"
        },
        "id": "7t6_HjPK-nyM",
        "outputId": "a322d9b4-e751-4cfa-8411-40b7fa030cdf"
      },
      "source": [
        "%%R\n",
        "LSMs<-lsmeans::lsmeans(finalModel, pairwise ~ Hour|CalvingSeason, type = \"response\", glhargs=list())\n",
        "multcomp::cld(LSMs[[1]], alpha=0.05, Letters=letters, adjust=\"tukey\")"
      ],
      "execution_count": null,
      "outputs": [
        {
          "output_type": "stream",
          "name": "stderr",
          "text": [
            "R[write to console]: Note: D.f. calculations have been disabled because the number of observations exceeds 3000.\n",
            "To enable adjustments, add the argument 'pbkrtest.limit = 417593' (or larger)\n",
            "[or, globally, 'set emm_options(pbkrtest.limit = 417593)' or larger];\n",
            "but be warned that this may result in large computation time and memory use.\n",
            "\n",
            "R[write to console]: Note: D.f. calculations have been disabled because the number of observations exceeds 3000.\n",
            "To enable adjustments, add the argument 'lmerTest.limit = 417593' (or larger)\n",
            "[or, globally, 'set emm_options(lmerTest.limit = 417593)' or larger];\n",
            "but be warned that this may result in large computation time and memory use.\n",
            "\n",
            "R[write to console]: Note: adjust = \"tukey\" was changed to \"sidak\"\n",
            "because \"tukey\" is only appropriate for one set of pairwise comparisons\n",
            "\n"
          ]
        },
        {
          "output_type": "stream",
          "name": "stdout",
          "text": [
            "CalvingSeason = Autumn:\n",
            " Hour lsmean    SE  df asymp.LCL asymp.UCL .group     \n",
            " 10     36.3 0.173 Inf      35.8      36.8  a         \n",
            " 8      36.6 0.173 Inf      36.1      37.1  a         \n",
            " 18     38.6 0.173 Inf      38.1      39.1   b        \n",
            " 12     42.0 0.173 Inf      41.5      42.4    c       \n",
            " 14     43.1 0.173 Inf      42.6      43.6     d      \n",
            " 20     43.1 0.173 Inf      42.6      43.6     d      \n",
            " 16     43.3 0.173 Inf      42.8      43.8     d      \n",
            " 6      47.4 0.173 Inf      46.9      47.8      e     \n",
            " 22     52.1 0.173 Inf      51.6      52.6       f    \n",
            " 0      53.9 0.173 Inf      53.4      54.4        g   \n",
            " 2      56.3 0.173 Inf      55.8      56.8         h  \n",
            " 4      58.7 0.173 Inf      58.2      59.2          i \n",
            "\n",
            "CalvingSeason = Spring:\n",
            " Hour lsmean    SE  df asymp.LCL asymp.UCL .group     \n",
            " 10     36.3 0.177 Inf      35.8      36.8  a         \n",
            " 8      37.0 0.177 Inf      36.5      37.5   b        \n",
            " 18     39.3 0.177 Inf      38.8      39.9    c       \n",
            " 12     42.3 0.177 Inf      41.8      42.8     d      \n",
            " 14     43.1 0.177 Inf      42.6      43.6      e     \n",
            " 16     43.4 0.177 Inf      42.9      43.9      e     \n",
            " 20     43.5 0.177 Inf      43.0      44.0      e     \n",
            " 6      47.6 0.177 Inf      47.1      48.1       f    \n",
            " 22     52.3 0.177 Inf      51.8      52.8        g   \n",
            " 0      53.8 0.177 Inf      53.3      54.3         h  \n",
            " 2      57.0 0.177 Inf      56.5      57.5          i \n",
            " 4      59.8 0.177 Inf      59.3      60.3           j\n",
            "\n",
            "CalvingSeason = Summer:\n",
            " Hour lsmean    SE  df asymp.LCL asymp.UCL .group     \n",
            " 10     36.2 0.170 Inf      35.7      36.7  a         \n",
            " 8      37.8 0.170 Inf      37.3      38.3   b        \n",
            " 18     38.1 0.170 Inf      37.6      38.6   b        \n",
            " 12     42.3 0.170 Inf      41.8      42.8    c       \n",
            " 16     43.3 0.170 Inf      42.8      43.8     d      \n",
            " 14     43.4 0.170 Inf      42.9      43.9     d      \n",
            " 20     44.3 0.170 Inf      43.8      44.8      e     \n",
            " 6      48.0 0.170 Inf      47.5      48.5       f    \n",
            " 22     51.8 0.170 Inf      51.3      52.3        g   \n",
            " 0      53.5 0.170 Inf      53.0      54.0         h  \n",
            " 2      56.4 0.170 Inf      55.9      56.9          i \n",
            " 4      59.1 0.170 Inf      58.6      59.6           j\n",
            "\n",
            "CalvingSeason = Winter:\n",
            " Hour lsmean    SE  df asymp.LCL asymp.UCL .group     \n",
            " 10     36.7 0.178 Inf      36.2      37.2  a         \n",
            " 8      37.0 0.178 Inf      36.4      37.5  a         \n",
            " 18     39.1 0.178 Inf      38.6      39.6   b        \n",
            " 12     42.1 0.178 Inf      41.6      42.6    c       \n",
            " 14     42.9 0.178 Inf      42.4      43.4     d      \n",
            " 20     43.4 0.178 Inf      42.9      43.9      e     \n",
            " 16     43.9 0.178 Inf      43.3      44.4      e     \n",
            " 6      48.5 0.178 Inf      48.0      49.1       f    \n",
            " 22     53.3 0.178 Inf      52.8      53.8        g   \n",
            " 0      54.8 0.178 Inf      54.3      55.3         h  \n",
            " 2      57.7 0.178 Inf      57.2      58.2          i \n",
            " 4      60.3 0.178 Inf      59.8      60.8           j\n",
            "\n",
            "Results are averaged over the levels of: MonthsInMilk, Parity, HerdIdentifier \n",
            "Degrees-of-freedom method: asymptotic \n",
            "Confidence level used: 0.95 \n",
            "Conf-level adjustment: sidak method for 12 estimates \n",
            "P value adjustment: tukey method for comparing a family of 12 estimates \n",
            "significance level used: alpha = 0.05 \n"
          ]
        }
      ]
    },
    {
      "cell_type": "code",
      "metadata": {
        "colab": {
          "base_uri": "https://localhost:8080/",
          "height": 497
        },
        "id": "KDJ21Te9-sAs",
        "outputId": "d7b270b9-4e40-458e-a58b-92109e738231"
      },
      "source": [
        "%%R\n",
        "dfPValues <- summary(LSMs)[[2]]\n",
        "dfLMSs <- summary(LSMs)[[1]]\n",
        "dfLMSs %>% \n",
        "  mutate(label = if_else(Hour == max(as.numeric(Hour)), as.character(CalvingSeason), NA_character_)) %>%\n",
        "  ggplot(\n",
        "  aes(\n",
        "    x=Hour,\n",
        "    y=lsmean,\n",
        "    group=CalvingSeason, \n",
        "    color=CalvingSeason)\n",
        "    ) +\n",
        "  geom_line(size=1) +  \n",
        "  geom_errorbar(\n",
        "    aes(ymin=asymp.LCL, \n",
        "        ymax=asymp.UCL), \n",
        "    width=1,\n",
        "    size=1,\n",
        "    position=position_dodge(0.25)) +\n",
        "  labs(\n",
        "    title = \"Rumination time (min/2hours)\", \n",
        "    y=\"Minutes per two hours\" , \n",
        "    x = \"Hour\") +\n",
        "  theme_bw() +\n",
        "  theme(text=element_text(size=25),\n",
        "        plot.title = element_text(hjust = 0.5),\n",
        "        panel.border = element_blank(), \n",
        "        panel.grid.major = element_blank(),\n",
        "        panel.grid.minor = element_blank(), \n",
        "        axis.line = element_line(colour = \"black\"))"
      ],
      "execution_count": null,
      "outputs": [
        {
          "output_type": "display_data",
          "data": {
            "image/png": "[encoded data removed]"
          },
          "metadata": {}
        }
      ]
    },
    {
      "cell_type": "code",
      "metadata": {
        "id": "lVrNS4LQJRxX"
      },
      "source": [
        "%%R\n",
        "ggsave(\"/content/drive/Shareddrives/Bovi-Analytics/Projects/SenseOfSensors/DiurnalPattern/Figures122021/RuminationTimeCalvingSeasonBy24h.png\", width = 10, height = 8)"
      ],
      "execution_count": null,
      "outputs": []
    }
  ]
}