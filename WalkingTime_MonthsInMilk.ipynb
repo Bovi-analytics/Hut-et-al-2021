{
  "nbformat": 4,
  "nbformat_minor": 0,
  "metadata": {
    "colab": {
      "name": "WalkingTime MonthsInMilk",
      "provenance": [],
      "collapsed_sections": [],
      "toc_visible": true,
      "include_colab_link": true
    },
    "kernelspec": {
      "name": "python3",
      "display_name": "Python 3"
    }
  },
  "cells": [
    {
      "cell_type": "markdown",
      "metadata": {
        "id": "view-in-github",
        "colab_type": "text"
      },
      "source": [
        "<a href=\"https://colab.research.google.com/github/Bovi-analytics/hut-et-al-2021/blob/master/WalkingTime_MonthsInMilk.ipynb\" target=\"_parent\"><img src=\"https://colab.research.google.com/assets/colab-badge.svg\" alt=\"Open In Colab\"/></a>"
      ]
    },
    {
      "cell_type": "markdown",
      "metadata": {
        "id": "YpoUtbLLC2Sl"
      },
      "source": [
        "# Statistical notebook for walking time MonthsInMilk"
      ]
    },
    {
      "cell_type": "markdown",
      "metadata": {
        "id": "AsEoCjSgC6A0"
      },
      "source": [
        "## Importing of google drive"
      ]
    },
    {
      "cell_type": "code",
      "metadata": {
        "colab": {
          "base_uri": "https://localhost:8080/"
        },
        "id": "WCUSUtqb21vg",
        "outputId": "8c8cdb32-a7af-463a-96f6-8a72ccfaff48"
      },
      "source": [
        "from google.colab import drive\n",
        "drive.mount('/content/drive')"
      ],
      "execution_count": null,
      "outputs": [
        {
          "output_type": "stream",
          "text": [
            "Mounted at /content/drive\n"
          ],
          "name": "stdout"
        }
      ]
    },
    {
      "cell_type": "markdown",
      "metadata": {
        "id": "hU1yIHIeC-Mz"
      },
      "source": [
        "## R loading"
      ]
    },
    {
      "cell_type": "code",
      "metadata": {
        "id": "TxkiqsiB23Kg"
      },
      "source": [
        "%reload_ext rpy2.ipython"
      ],
      "execution_count": null,
      "outputs": []
    },
    {
      "cell_type": "code",
      "metadata": {
        "id": "y_uD6Sgn5pAh"
      },
      "source": [
        "%%R\n",
        "lib_loc <- \"/content/drive/Shareddrives/Bovi-Analytics/R-lib/\""
      ],
      "execution_count": null,
      "outputs": []
    },
    {
      "cell_type": "code",
      "metadata": {
        "id": "DMSLfoXg5orx",
        "colab": {
          "base_uri": "https://localhost:8080/"
        },
        "outputId": "c6f2bd95-5f02-4aca-ae99-db5c84928546"
      },
      "source": [
        "%%R\n",
        "package_list <- c(\"ggplot2\",\n",
        "                  \"readr\",\n",
        "                  \"plyr\",\n",
        "                  \"dplyr\",\n",
        "                  \"tidyr\",                \n",
        "                  \"lme4\",\n",
        "                  \"lmerTest\",\n",
        "                  \"multcompView\",\n",
        "                  \"mvtnorm\",\n",
        "                  \"TH.data\",\n",
        "                  \"multcomp\",\n",
        "                  \"emmeans\",\n",
        "                  \"lsmeans\",\n",
        "                  \"carData\",\n",
        "                  \"car\"\n",
        "                  )\n",
        "\n",
        "for (pkg in package_list) {\n",
        "  if (pkg %in% rownames(.packages()) == FALSE)\n",
        "  {library(pkg, lib.loc = lib_loc, character.only = TRUE)}\n",
        "\n",
        "}"
      ],
      "execution_count": null,
      "outputs": [
        {
          "output_type": "stream",
          "text": [
            "R[write to console]: \n",
            "Attaching package: ‘dplyr’\n",
            "\n",
            "\n",
            "R[write to console]: The following objects are masked from ‘package:plyr’:\n",
            "\n",
            "    arrange, count, desc, failwith, id, mutate, rename, summarise,\n",
            "    summarize\n",
            "\n",
            "\n",
            "R[write to console]: The following objects are masked from ‘package:stats’:\n",
            "\n",
            "    filter, lag\n",
            "\n",
            "\n",
            "R[write to console]: The following objects are masked from ‘package:base’:\n",
            "\n",
            "    intersect, setdiff, setequal, union\n",
            "\n",
            "\n",
            "R[write to console]: Loading required package: Matrix\n",
            "\n",
            "R[write to console]: \n",
            "Attaching package: ‘Matrix’\n",
            "\n",
            "\n",
            "R[write to console]: The following objects are masked from ‘package:tidyr’:\n",
            "\n",
            "    expand, pack, unpack\n",
            "\n",
            "\n",
            "R[write to console]: \n",
            "Attaching package: ‘lmerTest’\n",
            "\n",
            "\n",
            "R[write to console]: The following object is masked from ‘package:lme4’:\n",
            "\n",
            "    lmer\n",
            "\n",
            "\n",
            "R[write to console]: The following object is masked from ‘package:stats’:\n",
            "\n",
            "    step\n",
            "\n",
            "\n",
            "R[write to console]: Loading required package: survival\n",
            "\n",
            "R[write to console]: Loading required package: MASS\n",
            "\n",
            "R[write to console]: \n",
            "Attaching package: ‘MASS’\n",
            "\n",
            "\n",
            "R[write to console]: The following object is masked from ‘package:dplyr’:\n",
            "\n",
            "    select\n",
            "\n",
            "\n",
            "R[write to console]: \n",
            "Attaching package: ‘TH.data’\n",
            "\n",
            "\n",
            "R[write to console]: The following object is masked from ‘package:MASS’:\n",
            "\n",
            "    geyser\n",
            "\n",
            "\n",
            "R[write to console]: The 'lsmeans' package is now basically a front end for 'emmeans'.\n",
            "Users are encouraged to switch the rest of the way.\n",
            "See help('transition') for more information, including how to\n",
            "convert old 'lsmeans' objects and scripts to work with 'emmeans'.\n",
            "\n",
            "R[write to console]: Registered S3 methods overwritten by 'car':\n",
            "  method                          from\n",
            "  influence.merMod                lme4\n",
            "  cooks.distance.influence.merMod lme4\n",
            "  dfbeta.influence.merMod         lme4\n",
            "  dfbetas.influence.merMod        lme4\n",
            "\n",
            "R[write to console]: \n",
            "Attaching package: ‘car’\n",
            "\n",
            "\n",
            "R[write to console]: The following object is masked from ‘package:dplyr’:\n",
            "\n",
            "    recode\n",
            "\n",
            "\n"
          ],
          "name": "stderr"
        }
      ]
    },
    {
      "cell_type": "markdown",
      "metadata": {
        "id": "6g8R3oiMDUic"
      },
      "source": [
        "## Data loading into dataframe"
      ]
    },
    {
      "cell_type": "code",
      "metadata": {
        "id": "XKMnpccx3BDP"
      },
      "source": [
        "%%R\n",
        "url = ('/content/drive/Shareddrives/Bovi-Analytics/Projects/SenseOfSensors/CsvData/SensorAggRepartitioned02042021/ObservationType=WalkingTimePerDay/part-00000-tid-1349821109549544597-c9251edd-6d65-49bf-bc6f-941ced55eb0c-3065-39.c000.csv')\n",
        "\n",
        "dataset = read.csv(url)\n",
        "\n"
      ],
      "execution_count": null,
      "outputs": []
    },
    {
      "cell_type": "code",
      "metadata": {
        "id": "EdsoTgv63LDl"
      },
      "source": [
        "%%R\n",
        "\n",
        "#path <- \"/content/drive/Shareddrives/Bovi-Analytics/Projects/SenseOfSensors/CsvData/SensorAggRepartitioned08032021/ObservationType=WalkingTimeMinutesPer2Hours/part-00000-tid-5876581890551720600-0e9afc0a-339b-4a8d-9159-2f92fdf60451-17582-38.c000.csv\"\n",
        "AnalysisData <- \n",
        "  readr::read_csv(\"/content/drive/Shareddrives/Bovi-Analytics/Projects/SenseOfSensors/CsvData/SensorAggRepartitioned02042021/ObservationType=WalkingTimePerDay/part-00000-tid-1349821109549544597-c9251edd-6d65-49bf-bc6f-941ced55eb0c-3065-39.c000.csv\", \n",
        "    col_types = readr::cols(HerdIdentifier = readr::col_character(), \n",
        "        TransitionLactationNumber = readr::col_integer(), \n",
        "        TransitionParity = readr::col_character(), \n",
        "        TransitionMonthsInMilk = readr::col_integer(), \n",
        "        TransitionCalvingDate = readr::col_character(), \n",
        "        Hour = readr::col_integer(), \n",
        "        Observations = readr::col_integer())) %>% \n",
        "  dplyr::filter(dplyr::between(TransitionMonthsInMilk, -1, 10)) %>%\n",
        "   dplyr::mutate(\n",
        "    AnimalIdentifier = factor(AnimalIdentifier),\n",
        "    HerdIdentifier = factor(HerdIdentifier),\n",
        "    Parity = factor(TransitionParity),\n",
        "    MonthsInMilk = factor(TransitionMonthsInMilk),\n",
        "    CalvingSeason = factor(TransitionSeason),\n",
        "    Hour = factor(Hour),\n",
        "    SensorValue = ObservationValue,\n",
        "    MilkingType = factor(case_when(\n",
        "    HerdIdentifier %in% c(\"544\", \"2514\", \"3314\")~\"AMS\",\n",
        "    TRUE~\"CMS\"\n",
        "  ))\n",
        "  ) %>%\n",
        "  dplyr::select(AnimalIdentifier, HerdIdentifier, Parity, MonthsInMilk, CalvingSeason, Hour, SensorValue, MilkingType) %>%\n",
        "  tidyr::drop_na()"
      ],
      "execution_count": null,
      "outputs": []
    },
    {
      "cell_type": "code",
      "metadata": {
        "id": "6tB88jG161J_",
        "colab": {
          "base_uri": "https://localhost:8080/"
        },
        "outputId": "03312ffc-b3f1-4279-f1c5-d6e901825846"
      },
      "source": [
        "%%R\n",
        "head(AnalysisData)"
      ],
      "execution_count": null,
      "outputs": [
        {
          "output_type": "stream",
          "text": [
            "# A tibble: 6 x 8\n",
            "  AnimalIdentifier HerdIdentifier Parity MonthsInMilk CalvingSeason Hour \n",
            "  <fct>            <fct>          <fct>  <fct>        <fct>         <fct>\n",
            "1 70               2297           1      3            Winter        22   \n",
            "2 7829             2011           3+     7            Summer        23   \n",
            "3 7831             2011           3+     5            Autumn        22   \n",
            "4 72               2297           2      3            Winter        23   \n",
            "5 71               2297           1      6            Spring        22   \n",
            "6 7955             2011           3+     5            Winter        22   \n",
            "# … with 2 more variables: SensorValue <dbl>, MilkingType <fct>\n"
          ],
          "name": "stdout"
        }
      ]
    },
    {
      "cell_type": "code",
      "metadata": {
        "id": "F1V_3TaBTfdf",
        "colab": {
          "base_uri": "https://localhost:8080/"
        },
        "outputId": "645ece4c-a3fe-47fa-a50a-42306158064f"
      },
      "source": [
        "%%R\n",
        "str(AnalysisData)"
      ],
      "execution_count": null,
      "outputs": [
        {
          "output_type": "stream",
          "text": [
            "tibble[,8] [54,073 × 8] (S3: tbl_df/tbl/data.frame)\n",
            " $ AnimalIdentifier: Factor w/ 1051 levels \"1\",\"2\",\"3\",\"4\",..: 70 671 672 72 71 678 708 679 736 76 ...\n",
            " $ HerdIdentifier  : Factor w/ 8 levels \"2011\",\"2297\",..: 2 1 1 2 2 1 1 1 1 2 ...\n",
            " $ Parity          : Factor w/ 3 levels \"1\",\"2\",\"3+\": 1 3 3 2 1 3 3 3 3 2 ...\n",
            " $ MonthsInMilk    : Factor w/ 12 levels \"-1\",\"0\",\"1\",\"2\",..: 5 9 7 5 8 7 8 6 5 4 ...\n",
            " $ CalvingSeason   : Factor w/ 4 levels \"Autumn\",\"Spring\",..: 4 3 1 4 2 4 2 1 3 4 ...\n",
            " $ Hour            : Factor w/ 2 levels \"22\",\"23\": 1 2 1 2 1 1 1 2 1 1 ...\n",
            " $ SensorValue     : num [1:54073] 55.3 29 48.4 53.7 61.3 ...\n",
            " $ MilkingType     : Factor w/ 2 levels \"AMS\",\"CMS\": 2 2 2 2 2 2 2 2 2 2 ...\n"
          ],
          "name": "stdout"
        }
      ]
    },
    {
      "cell_type": "markdown",
      "metadata": {
        "id": "w_wIGlvgDmxq"
      },
      "source": [
        "## Descriptive statistics"
      ]
    },
    {
      "cell_type": "code",
      "metadata": {
        "id": "45tZUG5dDp50",
        "colab": {
          "base_uri": "https://localhost:8080/"
        },
        "outputId": "810a0ce9-46f1-4329-f936-c9a436a886ef"
      },
      "source": [
        "%%R\n",
        "AnalysisData %>%\n",
        "  group_by(Parity) %>%\n",
        "  summarise(Unique_Elements = n_distinct(AnimalIdentifier))"
      ],
      "execution_count": null,
      "outputs": [
        {
          "output_type": "stream",
          "text": [
            "# A tibble: 3 x 2\n",
            "  Parity Unique_Elements\n",
            "  <fct>            <int>\n",
            "1 1                  736\n",
            "2 2                  712\n",
            "3 3+                 742\n"
          ],
          "name": "stdout"
        }
      ]
    },
    {
      "cell_type": "code",
      "metadata": {
        "id": "MJRr0y9mDsE6",
        "colab": {
          "base_uri": "https://localhost:8080/"
        },
        "outputId": "698e5360-dea7-490d-8cc6-b2cdf8c8f748"
      },
      "source": [
        "%%R\n",
        "AnalysisData %>%\n",
        "  summarise(Unique_Elements = n_distinct(AnimalIdentifier))"
      ],
      "execution_count": null,
      "outputs": [
        {
          "output_type": "stream",
          "text": [
            "# A tibble: 1 x 1\n",
            "  Unique_Elements\n",
            "            <int>\n",
            "1            1051\n"
          ],
          "name": "stdout"
        }
      ]
    },
    {
      "cell_type": "markdown",
      "metadata": {
        "id": "ZW8v7MjbD1Eh"
      },
      "source": [
        "# Model building"
      ]
    },
    {
      "cell_type": "markdown",
      "metadata": {
        "id": "s6XiVwQYD3Ph"
      },
      "source": [
        "First we determine the null model"
      ]
    },
    {
      "cell_type": "markdown",
      "metadata": {
        "id": "R3In3XAH6UNw"
      },
      "source": [
        "## Null model"
      ]
    },
    {
      "cell_type": "code",
      "metadata": {
        "id": "oMj6hll16TdN"
      },
      "source": [
        "%%R\n",
        "Model.0 <- lme4::lmer(\n",
        "                  SensorValue ~ 1 + (1| HerdIdentifier:AnimalIdentifier), \n",
        "                  data = AnalysisData\n",
        "                  )"
      ],
      "execution_count": null,
      "outputs": []
    },
    {
      "cell_type": "markdown",
      "metadata": {
        "id": "Y67KPZBG6Vtp"
      },
      "source": [
        "## Univariable models"
      ]
    },
    {
      "cell_type": "code",
      "metadata": {
        "id": "BtHdHQiAVH4_",
        "colab": {
          "base_uri": "https://localhost:8080/"
        },
        "outputId": "ecdf8d6b-5ffc-4bca-814e-b713625b6f86"
      },
      "source": [
        "%%R\n",
        "Model1.0 <- lme4::lmer(\n",
        "                  SensorValue ~ \n",
        "                  MonthsInMilk + \n",
        "                  (1| HerdIdentifier:AnimalIdentifier),\n",
        "                  REML = FALSE,\n",
        "                  data = AnalysisData\n",
        ")\n",
        "anova(Model.0,Model1.0,test=\"Chisq\")"
      ],
      "execution_count": null,
      "outputs": [
        {
          "output_type": "stream",
          "text": [
            "R[write to console]: refitting model(s) with ML (instead of REML)\n",
            "\n"
          ],
          "name": "stderr"
        },
        {
          "output_type": "stream",
          "text": [
            "Data: AnalysisData\n",
            "Models:\n",
            "Model.0: SensorValue ~ 1 + (1 | HerdIdentifier:AnimalIdentifier)\n",
            "Model1.0: SensorValue ~ MonthsInMilk + (1 | HerdIdentifier:AnimalIdentifier)\n",
            "         npar    AIC    BIC  logLik deviance  Chisq Df Pr(>Chisq)    \n",
            "Model.0     3 478271 478298 -239133   478265                         \n",
            "Model1.0   14 476821 476946 -238397   476793 1472.2 11  < 2.2e-16 ***\n",
            "---\n",
            "Signif. codes:  0 ‘***’ 0.001 ‘**’ 0.01 ‘*’ 0.05 ‘.’ 0.1 ‘ ’ 1\n"
          ],
          "name": "stdout"
        }
      ]
    },
    {
      "cell_type": "code",
      "metadata": {
        "id": "gMvqQic5VSOL",
        "colab": {
          "base_uri": "https://localhost:8080/"
        },
        "outputId": "9de707fa-d5ad-43a3-dd5b-a97b375b7f66"
      },
      "source": [
        "%%R\n",
        "Model1.1 <- lme4::lmer(\n",
        "                  SensorValue ~ \n",
        "                  Parity + \n",
        "                  (1| HerdIdentifier:AnimalIdentifier),\n",
        "                  REML = FALSE,\n",
        "                  data = AnalysisData\n",
        "                  )\n",
        "anova(Model.0,Model1.1,test=\"Chisq\")"
      ],
      "execution_count": null,
      "outputs": [
        {
          "output_type": "stream",
          "text": [
            "R[write to console]: refitting model(s) with ML (instead of REML)\n",
            "\n"
          ],
          "name": "stderr"
        },
        {
          "output_type": "stream",
          "text": [
            "Data: AnalysisData\n",
            "Models:\n",
            "Model.0: SensorValue ~ 1 + (1 | HerdIdentifier:AnimalIdentifier)\n",
            "Model1.1: SensorValue ~ Parity + (1 | HerdIdentifier:AnimalIdentifier)\n",
            "         npar    AIC    BIC  logLik deviance  Chisq Df Pr(>Chisq)    \n",
            "Model.0     3 478271 478298 -239133   478265                         \n",
            "Model1.1    5 476430 476475 -238210   476420 1845.2  2  < 2.2e-16 ***\n",
            "---\n",
            "Signif. codes:  0 ‘***’ 0.001 ‘**’ 0.01 ‘*’ 0.05 ‘.’ 0.1 ‘ ’ 1\n"
          ],
          "name": "stdout"
        }
      ]
    },
    {
      "cell_type": "code",
      "metadata": {
        "id": "oszGEcBuVUqI",
        "colab": {
          "base_uri": "https://localhost:8080/"
        },
        "outputId": "619727ad-1eb4-4733-ffcb-2a2214f2cf27"
      },
      "source": [
        "%%R\n",
        "Model1.2 <- lme4::lmer(\n",
        "                  SensorValue ~ \n",
        "                  CalvingSeason +\n",
        "                  (1| HerdIdentifier:AnimalIdentifier),\n",
        "                  REML = FALSE,\n",
        "                  data = AnalysisData\n",
        "                  )\n",
        "anova(Model.0,Model1.2,test=\"Chisq\")"
      ],
      "execution_count": null,
      "outputs": [
        {
          "output_type": "stream",
          "text": [
            "R[write to console]: refitting model(s) with ML (instead of REML)\n",
            "\n"
          ],
          "name": "stderr"
        },
        {
          "output_type": "stream",
          "text": [
            "Data: AnalysisData\n",
            "Models:\n",
            "Model.0: SensorValue ~ 1 + (1 | HerdIdentifier:AnimalIdentifier)\n",
            "Model1.2: SensorValue ~ CalvingSeason + (1 | HerdIdentifier:AnimalIdentifier)\n",
            "         npar    AIC    BIC  logLik deviance Chisq Df Pr(>Chisq)    \n",
            "Model.0     3 478271 478298 -239133   478265                        \n",
            "Model1.2    6 478235 478289 -239112   478223 41.91  3  4.193e-09 ***\n",
            "---\n",
            "Signif. codes:  0 ‘***’ 0.001 ‘**’ 0.01 ‘*’ 0.05 ‘.’ 0.1 ‘ ’ 1\n"
          ],
          "name": "stdout"
        }
      ]
    },
    {
      "cell_type": "code",
      "metadata": {
        "id": "D1LlsEdpVWQP",
        "colab": {
          "base_uri": "https://localhost:8080/"
        },
        "outputId": "fa0d3770-3a6f-4e2a-e347-689e0f84b73b"
      },
      "source": [
        "%%R\n",
        "Model1.3 <- lme4::lmer(\n",
        "                  SensorValue ~ \n",
        "                  MilkingType +\n",
        "                  (1| HerdIdentifier:AnimalIdentifier),\n",
        "                  REML = FALSE,\n",
        "                  data = AnalysisData\n",
        "                  )\n",
        "anova(Model.0,Model1.3,test=\"Chisq\")"
      ],
      "execution_count": null,
      "outputs": [
        {
          "output_type": "stream",
          "text": [
            "R[write to console]: refitting model(s) with ML (instead of REML)\n",
            "\n"
          ],
          "name": "stderr"
        },
        {
          "output_type": "stream",
          "text": [
            "Data: AnalysisData\n",
            "Models:\n",
            "Model.0: SensorValue ~ 1 + (1 | HerdIdentifier:AnimalIdentifier)\n",
            "Model1.3: SensorValue ~ MilkingType + (1 | HerdIdentifier:AnimalIdentifier)\n",
            "         npar    AIC    BIC  logLik deviance  Chisq Df Pr(>Chisq)    \n",
            "Model.0     3 478271 478298 -239133   478265                         \n",
            "Model1.3    4 477638 477674 -238815   477630 635.05  1  < 2.2e-16 ***\n",
            "---\n",
            "Signif. codes:  0 ‘***’ 0.001 ‘**’ 0.01 ‘*’ 0.05 ‘.’ 0.1 ‘ ’ 1\n"
          ],
          "name": "stdout"
        }
      ]
    },
    {
      "cell_type": "markdown",
      "metadata": {
        "id": "JyLvQIPsEOwy"
      },
      "source": [
        "## Multivariable models"
      ]
    },
    {
      "cell_type": "code",
      "metadata": {
        "id": "cH-WW4kMESTb"
      },
      "source": [
        "%%R\n",
        "Model2.0 <- lme4::lmer(\n",
        "                  SensorValue ~ \n",
        "                  Parity + MonthsInMilk + CalvingSeason + MilkingType +\n",
        "                  (1| HerdIdentifier:AnimalIdentifier),\n",
        "                  REML = FALSE,\n",
        "                  data = AnalysisData\n",
        "                  )"
      ],
      "execution_count": null,
      "outputs": []
    },
    {
      "cell_type": "code",
      "metadata": {
        "id": "juYHYPvcEXsE",
        "colab": {
          "base_uri": "https://localhost:8080/"
        },
        "outputId": "3a748e6f-34c3-4fe0-d92a-7b9072f2e622"
      },
      "source": [
        "%%R\n",
        "drop1(Model2.0,test=\"Chisq\")"
      ],
      "execution_count": null,
      "outputs": [
        {
          "output_type": "stream",
          "text": [
            "Single term deletions\n",
            "\n",
            "Model:\n",
            "SensorValue ~ Parity + MonthsInMilk + CalvingSeason + MilkingType + \n",
            "    (1 | HerdIdentifier:AnimalIdentifier)\n",
            "              npar    AIC     LRT   Pr(Chi)    \n",
            "<none>             474352                      \n",
            "Parity           2 476170 1821.67 < 2.2e-16 ***\n",
            "MonthsInMilk    11 475756 1426.06 < 2.2e-16 ***\n",
            "CalvingSeason    3 474363   16.92 0.0007356 ***\n",
            "MilkingType      1 474999  648.53 < 2.2e-16 ***\n",
            "---\n",
            "Signif. codes:  0 ‘***’ 0.001 ‘**’ 0.01 ‘*’ 0.05 ‘.’ 0.1 ‘ ’ 1\n"
          ],
          "name": "stdout"
        }
      ]
    },
    {
      "cell_type": "markdown",
      "metadata": {
        "id": "rBTUaZIWEZgg"
      },
      "source": [
        "## Introduction of interactions"
      ]
    },
    {
      "cell_type": "markdown",
      "metadata": {
        "id": "GD9hdCSTEdwm"
      },
      "source": [
        "### Interactions with MonthsInMilk"
      ]
    },
    {
      "cell_type": "code",
      "metadata": {
        "id": "ewJXyqohEhNB",
        "colab": {
          "base_uri": "https://localhost:8080/"
        },
        "outputId": "488d9541-8eff-4242-f6ca-a75f0511d642"
      },
      "source": [
        "%%R\n",
        "Model2.1 <- lme4::lmer(\n",
        "                  SensorValue ~ \n",
        "                  MonthsInMilk*Parity + CalvingSeason + MilkingType +\n",
        "                  (1| HerdIdentifier:AnimalIdentifier),\n",
        "                  REML = FALSE,\n",
        "                  data = AnalysisData\n",
        "                  )\n",
        "anova(Model2.0,Model2.1,test=\"Chisq\")"
      ],
      "execution_count": null,
      "outputs": [
        {
          "output_type": "stream",
          "text": [
            "Data: AnalysisData\n",
            "Models:\n",
            "Model2.0: SensorValue ~ Parity + MonthsInMilk + CalvingSeason + MilkingType + \n",
            "Model2.0:     (1 | HerdIdentifier:AnimalIdentifier)\n",
            "Model2.1: SensorValue ~ MonthsInMilk * Parity + CalvingSeason + MilkingType + \n",
            "Model2.1:     (1 | HerdIdentifier:AnimalIdentifier)\n",
            "         npar    AIC    BIC  logLik deviance  Chisq Df Pr(>Chisq)    \n",
            "Model2.0   20 474352 474530 -237156   474312                         \n",
            "Model2.1   42 474061 474434 -236988   473977 335.61 22  < 2.2e-16 ***\n",
            "---\n",
            "Signif. codes:  0 ‘***’ 0.001 ‘**’ 0.01 ‘*’ 0.05 ‘.’ 0.1 ‘ ’ 1\n"
          ],
          "name": "stdout"
        }
      ]
    },
    {
      "cell_type": "code",
      "metadata": {
        "id": "pimdyzxCEklt",
        "colab": {
          "base_uri": "https://localhost:8080/"
        },
        "outputId": "6a1b89a9-3074-4e85-c005-9d1a81a3edfc"
      },
      "source": [
        "%%R\n",
        "Model2.2 <- lme4::lmer(\n",
        "                  SensorValue ~ \n",
        "                  MonthsInMilk*MilkingType + CalvingSeason + Parity +\n",
        "                  (1| HerdIdentifier:AnimalIdentifier),\n",
        "                  REML = FALSE,\n",
        "                  data = AnalysisData\n",
        "                  )\n",
        "anova(Model2.0,Model2.2,test=\"Chisq\")"
      ],
      "execution_count": null,
      "outputs": [
        {
          "output_type": "stream",
          "text": [
            "Data: AnalysisData\n",
            "Models:\n",
            "Model2.0: SensorValue ~ Parity + MonthsInMilk + CalvingSeason + MilkingType + \n",
            "Model2.0:     (1 | HerdIdentifier:AnimalIdentifier)\n",
            "Model2.2: SensorValue ~ MonthsInMilk * MilkingType + CalvingSeason + Parity + \n",
            "Model2.2:     (1 | HerdIdentifier:AnimalIdentifier)\n",
            "         npar    AIC    BIC  logLik deviance  Chisq Df Pr(>Chisq)    \n",
            "Model2.0   20 474352 474530 -237156   474312                         \n",
            "Model2.2   31 474273 474549 -237105   474211 101.56 11  < 2.2e-16 ***\n",
            "---\n",
            "Signif. codes:  0 ‘***’ 0.001 ‘**’ 0.01 ‘*’ 0.05 ‘.’ 0.1 ‘ ’ 1\n"
          ],
          "name": "stdout"
        }
      ]
    },
    {
      "cell_type": "code",
      "metadata": {
        "id": "kRwyShvzEmwd",
        "colab": {
          "base_uri": "https://localhost:8080/"
        },
        "outputId": "bdc78360-1fb7-47de-c12c-2924759438d0"
      },
      "source": [
        "%%R\n",
        "Model2.3 <- lme4::lmer(\n",
        "                  SensorValue ~ \n",
        "                  MonthsInMilk*CalvingSeason + Parity + MilkingType +\n",
        "                  (1| HerdIdentifier:AnimalIdentifier),\n",
        "                  REML = FALSE,\n",
        "                  data = AnalysisData\n",
        "                  )\n",
        "anova(Model2.0,Model2.3,test=\"Chisq\")"
      ],
      "execution_count": null,
      "outputs": [
        {
          "output_type": "stream",
          "text": [
            "Data: AnalysisData\n",
            "Models:\n",
            "Model2.0: SensorValue ~ Parity + MonthsInMilk + CalvingSeason + MilkingType + \n",
            "Model2.0:     (1 | HerdIdentifier:AnimalIdentifier)\n",
            "Model2.3: SensorValue ~ MonthsInMilk * CalvingSeason + Parity + MilkingType + \n",
            "Model2.3:     (1 | HerdIdentifier:AnimalIdentifier)\n",
            "         npar    AIC    BIC  logLik deviance Chisq Df Pr(>Chisq)    \n",
            "Model2.0   20 474352 474530 -237156   474312                        \n",
            "Model2.3   53 463507 463979 -231701   463401 10911 33  < 2.2e-16 ***\n",
            "---\n",
            "Signif. codes:  0 ‘***’ 0.001 ‘**’ 0.01 ‘*’ 0.05 ‘.’ 0.1 ‘ ’ 1\n"
          ],
          "name": "stdout"
        }
      ]
    },
    {
      "cell_type": "markdown",
      "metadata": {
        "id": "H72Wpr2FEqS7"
      },
      "source": [
        "## Multiple interactions"
      ]
    },
    {
      "cell_type": "code",
      "metadata": {
        "id": "7H-WGZYiEuJC",
        "colab": {
          "base_uri": "https://localhost:8080/"
        },
        "outputId": "3b6f6cff-4205-43b5-9822-1c0ffbdc18d0"
      },
      "source": [
        "%%R\n",
        "Model2.4 <- lme4::lmer(\n",
        "                  SensorValue ~ \n",
        "                  MonthsInMilk*CalvingSeason + \n",
        "                  MonthsInMilk*Parity + \n",
        "                  MonthsInMilk*MilkingType +\n",
        "                  (1| HerdIdentifier:AnimalIdentifier),\n",
        "                  REML = FALSE,\n",
        "                  data = AnalysisData\n",
        "                  )\n",
        "anova(Model2.0,Model2.4,test=\"Chisq\")"
      ],
      "execution_count": null,
      "outputs": [
        {
          "output_type": "stream",
          "text": [
            "Data: AnalysisData\n",
            "Models:\n",
            "Model2.0: SensorValue ~ Parity + MonthsInMilk + CalvingSeason + MilkingType + \n",
            "Model2.0:     (1 | HerdIdentifier:AnimalIdentifier)\n",
            "Model2.4: SensorValue ~ MonthsInMilk * CalvingSeason + MonthsInMilk * Parity + \n",
            "Model2.4:     MonthsInMilk * MilkingType + (1 | HerdIdentifier:AnimalIdentifier)\n",
            "         npar    AIC    BIC  logLik deviance Chisq Df Pr(>Chisq)    \n",
            "Model2.0   20 474352 474530 -237156   474312                        \n",
            "Model2.4   86 463008 463773 -231418   462836 11476 66  < 2.2e-16 ***\n",
            "---\n",
            "Signif. codes:  0 ‘***’ 0.001 ‘**’ 0.01 ‘*’ 0.05 ‘.’ 0.1 ‘ ’ 1\n"
          ],
          "name": "stdout"
        }
      ]
    },
    {
      "cell_type": "code",
      "metadata": {
        "id": "Y1ulFPNmEyg2",
        "colab": {
          "base_uri": "https://localhost:8080/"
        },
        "outputId": "bce7e7b6-0338-4225-e2e8-dce893c965ee"
      },
      "source": [
        "%%R\n",
        "summary(Model2.4)"
      ],
      "execution_count": null,
      "outputs": [
        {
          "output_type": "stream",
          "text": [
            "Linear mixed model fit by maximum likelihood  ['lmerMod']\n",
            "Formula: SensorValue ~ MonthsInMilk * CalvingSeason + MonthsInMilk * Parity +  \n",
            "    MonthsInMilk * MilkingType + (1 | HerdIdentifier:AnimalIdentifier)\n",
            "   Data: AnalysisData\n",
            "\n",
            "      AIC       BIC    logLik  deviance  df.resid \n",
            " 463008.1  463773.4 -231418.1  462836.1     53987 \n",
            "\n",
            "Scaled residuals: \n",
            "    Min      1Q  Median      3Q     Max \n",
            "-4.2651 -0.5509 -0.0968  0.4173 29.4462 \n",
            "\n",
            "Random effects:\n",
            " Groups                          Name        Variance Std.Dev.\n",
            " HerdIdentifier:AnimalIdentifier (Intercept)  76.67    8.756  \n",
            " Residual                                    285.84   16.907  \n",
            "Number of obs: 54073, groups:  HerdIdentifier:AnimalIdentifier, 1689\n",
            "\n",
            "Fixed effects:\n",
            "                                    Estimate Std. Error t value\n",
            "(Intercept)                         41.47360    0.99375  41.734\n",
            "MonthsInMilk0                        6.75208    1.16290   5.806\n",
            "MonthsInMilk1                        7.76408    1.19765   6.483\n",
            "MonthsInMilk2                       -2.57574    1.17797  -2.187\n",
            "MonthsInMilk3                       -7.01860    1.20195  -5.839\n",
            "MonthsInMilk4                       -9.65044    1.20044  -8.039\n",
            "MonthsInMilk5                       -8.01517    1.17641  -6.813\n",
            "MonthsInMilk6                       -5.74418    1.17868  -4.873\n",
            "MonthsInMilk7                       -2.61478    1.17488  -2.226\n",
            "MonthsInMilk8                        5.81507    1.20289   4.834\n",
            "MonthsInMilk9                        7.00798    1.19708   5.854\n",
            "MonthsInMilk10                       4.97088    1.18826   4.183\n",
            "CalvingSeasonSpring                -18.58196    0.77702 -23.914\n",
            "CalvingSeasonSummer                 -1.22929    0.73401  -1.675\n",
            "CalvingSeasonWinter                -16.88188    0.79784 -21.159\n",
            "Parity2                             -1.51629    0.83418  -1.818\n",
            "Parity3+                            -8.51268    0.75039 -11.344\n",
            "MilkingTypeCMS                      11.07298    0.73852  14.993\n",
            "MonthsInMilk0:CalvingSeasonSpring    7.50153    0.97456   7.697\n",
            "MonthsInMilk1:CalvingSeasonSpring   26.62099    1.01455  26.239\n",
            "MonthsInMilk2:CalvingSeasonSpring   39.00254    1.03998  37.503\n",
            "MonthsInMilk3:CalvingSeasonSpring   41.96226    1.07640  38.984\n",
            "MonthsInMilk4:CalvingSeasonSpring   39.84951    1.08150  36.847\n",
            "MonthsInMilk5:CalvingSeasonSpring   34.02174    1.05339  32.297\n",
            "MonthsInMilk6:CalvingSeasonSpring   24.04248    1.01878  23.599\n",
            "MonthsInMilk7:CalvingSeasonSpring   13.85977    1.02273  13.552\n",
            "MonthsInMilk8:CalvingSeasonSpring    0.48613    1.05495   0.461\n",
            "MonthsInMilk9:CalvingSeasonSpring   -5.24186    1.09395  -4.792\n",
            "MonthsInMilk10:CalvingSeasonSpring  -5.14987    1.09675  -4.696\n",
            "MonthsInMilk0:CalvingSeasonSummer    7.21402    0.93978   7.676\n",
            "MonthsInMilk1:CalvingSeasonSummer   13.69683    0.97701  14.019\n",
            "MonthsInMilk2:CalvingSeasonSummer   15.29630    0.96742  15.811\n",
            "MonthsInMilk3:CalvingSeasonSummer   10.87561    0.97448  11.160\n",
            "MonthsInMilk4:CalvingSeasonSummer    6.52055    0.97912   6.660\n",
            "MonthsInMilk5:CalvingSeasonSummer    0.07830    0.96099   0.081\n",
            "MonthsInMilk6:CalvingSeasonSummer   -5.91627    0.99645  -5.937\n",
            "MonthsInMilk7:CalvingSeasonSummer  -10.06684    1.00000 -10.067\n",
            "MonthsInMilk8:CalvingSeasonSummer  -16.71222    1.01299 -16.498\n",
            "MonthsInMilk9:CalvingSeasonSummer  -15.12398    1.00763 -15.009\n",
            "MonthsInMilk10:CalvingSeasonSummer  -8.61905    1.00833  -8.548\n",
            "MonthsInMilk0:CalvingSeasonWinter    2.57525    1.02425   2.514\n",
            "MonthsInMilk1:CalvingSeasonWinter    8.92488    1.06289   8.397\n",
            "MonthsInMilk2:CalvingSeasonWinter   17.56235    1.02619  17.114\n",
            "MonthsInMilk3:CalvingSeasonWinter   24.25610    1.06069  22.868\n",
            "MonthsInMilk4:CalvingSeasonWinter   30.25180    1.06904  28.298\n",
            "MonthsInMilk5:CalvingSeasonWinter   36.43181    1.08573  33.555\n",
            "MonthsInMilk6:CalvingSeasonWinter   34.25353    1.08859  31.466\n",
            "MonthsInMilk7:CalvingSeasonWinter   28.56596    1.07889  26.477\n",
            "MonthsInMilk8:CalvingSeasonWinter   17.13264    1.10401  15.519\n",
            "MonthsInMilk9:CalvingSeasonWinter    7.92818    1.06976   7.411\n",
            "MonthsInMilk10:CalvingSeasonWinter   2.29204    1.06124   2.160\n",
            "MonthsInMilk0:Parity2               -9.92808    1.07338  -9.249\n",
            "MonthsInMilk1:Parity2               -9.86343    1.10607  -8.918\n",
            "MonthsInMilk2:Parity2               -8.13858    1.09320  -7.445\n",
            "MonthsInMilk3:Parity2               -6.83976    1.09603  -6.240\n",
            "MonthsInMilk4:Parity2               -4.51849    1.09624  -4.122\n",
            "MonthsInMilk5:Parity2               -4.84449    1.09456  -4.426\n",
            "MonthsInMilk6:Parity2               -4.38982    1.09576  -4.006\n",
            "MonthsInMilk7:Parity2               -3.28958    1.09460  -3.005\n",
            "MonthsInMilk8:Parity2               -4.52662    1.09920  -4.118\n",
            "MonthsInMilk9:Parity2               -4.07580    1.09487  -3.723\n",
            "MonthsInMilk10:Parity2              -3.37768    1.09291  -3.091\n",
            "MonthsInMilk0:Parity3+              -9.43435    0.94671  -9.965\n",
            "MonthsInMilk1:Parity3+             -10.07934    0.97597 -10.327\n",
            "MonthsInMilk2:Parity3+              -6.65661    0.96698  -6.884\n",
            "MonthsInMilk3:Parity3+              -3.96547    0.96758  -4.098\n",
            "MonthsInMilk4:Parity3+              -0.82225    0.96829  -0.849\n",
            "MonthsInMilk5:Parity3+              -1.22733    0.96679  -1.269\n",
            "MonthsInMilk6:Parity3+              -0.21726    0.96874  -0.224\n",
            "MonthsInMilk7:Parity3+               0.40588    0.96916   0.419\n",
            "MonthsInMilk8:Parity3+              -0.18850    0.96971  -0.194\n",
            "MonthsInMilk9:Parity3+               0.29067    0.96866   0.300\n",
            "MonthsInMilk10:Parity3+              0.96659    0.96567   1.001\n",
            "MonthsInMilk0:MilkingTypeCMS         0.01511    0.76223   0.020\n",
            "MonthsInMilk1:MilkingTypeCMS         2.09298    0.79642   2.628\n",
            "MonthsInMilk2:MilkingTypeCMS         3.19203    0.78973   4.042\n",
            "MonthsInMilk3:MilkingTypeCMS         2.08522    0.79168   2.634\n",
            "MonthsInMilk4:MilkingTypeCMS         1.29230    0.79366   1.628\n",
            "MonthsInMilk5:MilkingTypeCMS         2.41533    0.79323   3.045\n",
            "MonthsInMilk6:MilkingTypeCMS         2.86172    0.79752   3.588\n",
            "MonthsInMilk7:MilkingTypeCMS         3.50577    0.79924   4.386\n",
            "MonthsInMilk8:MilkingTypeCMS         4.16014    0.80034   5.198\n",
            "MonthsInMilk9:MilkingTypeCMS         4.62003    0.79889   5.783\n",
            "MonthsInMilk10:MilkingTypeCMS        5.04658    0.79753   6.328\n"
          ],
          "name": "stdout"
        },
        {
          "output_type": "stream",
          "text": [
            "R[write to console]: \n",
            "Correlation matrix not shown by default, as p = 84 > 12.\n",
            "Use print(object, correlation=TRUE)  or\n",
            "    vcov(object)        if you need it\n",
            "\n",
            "\n"
          ],
          "name": "stderr"
        }
      ]
    },
    {
      "cell_type": "code",
      "metadata": {
        "id": "vivz5dkpE6UE",
        "colab": {
          "base_uri": "https://localhost:8080/"
        },
        "outputId": "9f9f082c-1be0-4f1f-f89e-2cc4534f792b"
      },
      "source": [
        "%%R\n",
        "finalModel <- Model2.4\n",
        "Modeldrop <- drop1(finalModel, test=\"Chisq\")\n",
        "if(\"Pr(>F)\" %in% colnames(Modeldrop))\n",
        "{\n",
        "  Pvalues <- Modeldrop$`Pr(>F)`\n",
        "} else \n",
        "{\n",
        "  Pvalues <- Modeldrop$`Pr(Chi)`\n",
        "}\n",
        "Modeldrop"
      ],
      "execution_count": null,
      "outputs": [
        {
          "output_type": "stream",
          "text": [
            "Single term deletions\n",
            "\n",
            "Model:\n",
            "SensorValue ~ MonthsInMilk * CalvingSeason + MonthsInMilk * Parity + \n",
            "    MonthsInMilk * MilkingType + (1 | HerdIdentifier:AnimalIdentifier)\n",
            "                           npar    AIC     LRT   Pr(Chi)    \n",
            "<none>                          463008                      \n",
            "MonthsInMilk:CalvingSeason   33 473967 11024.4 < 2.2e-16 ***\n",
            "MonthsInMilk:Parity          22 463444   479.4 < 2.2e-16 ***\n",
            "MonthsInMilk:MilkingType     11 463083    96.8 7.641e-16 ***\n",
            "---\n",
            "Signif. codes:  0 ‘***’ 0.001 ‘**’ 0.01 ‘*’ 0.05 ‘.’ 0.1 ‘ ’ 1\n"
          ],
          "name": "stdout"
        }
      ]
    },
    {
      "cell_type": "code",
      "metadata": {
        "colab": {
          "base_uri": "https://localhost:8080/"
        },
        "id": "zPHw4FYJxmF2",
        "outputId": "12aecb8a-8b9c-4a15-c93b-a0cd7bbf3e56"
      },
      "source": [
        "%%R\n",
        "Model2.5 <- lme4::lmer(\n",
        "                  SensorValue ~ \n",
        "                  MonthsInMilk*CalvingSeason + \n",
        "                  MonthsInMilk*Parity + \n",
        "                  MonthsInMilk*MilkingType +\n",
        "                  MonthsInMilk*MilkingType*CalvingSeason + \n",
        "                  (1| HerdIdentifier:AnimalIdentifier),\n",
        "                  REML = FALSE,\n",
        "                  data = AnalysisData\n",
        "                  )\n",
        "anova(Model2.0,Model2.5,test=\"Chisq\")"
      ],
      "execution_count": null,
      "outputs": [
        {
          "output_type": "stream",
          "text": [
            "Data: AnalysisData\n",
            "Models:\n",
            "Model2.0: SensorValue ~ Parity + MonthsInMilk + CalvingSeason + MilkingType + \n",
            "Model2.0:     (1 | HerdIdentifier:AnimalIdentifier)\n",
            "Model2.5: SensorValue ~ MonthsInMilk * CalvingSeason + MonthsInMilk * Parity + \n",
            "Model2.5:     MonthsInMilk * MilkingType + MonthsInMilk * MilkingType * \n",
            "Model2.5:     CalvingSeason + (1 | HerdIdentifier:AnimalIdentifier)\n",
            "         npar    AIC    BIC  logLik deviance Chisq  Df Pr(>Chisq)    \n",
            "Model2.0   20 474352 474530 -237156   474312                         \n",
            "Model2.5  122 460320 461406 -230038   460076 14236 102  < 2.2e-16 ***\n",
            "---\n",
            "Signif. codes:  0 ‘***’ 0.001 ‘**’ 0.01 ‘*’ 0.05 ‘.’ 0.1 ‘ ’ 1\n"
          ],
          "name": "stdout"
        }
      ]
    },
    {
      "cell_type": "code",
      "metadata": {
        "colab": {
          "base_uri": "https://localhost:8080/"
        },
        "id": "HZUkre_IyCTT",
        "outputId": "97ac60cc-820c-4740-8c6c-4b06c204df69"
      },
      "source": [
        "%%R\n",
        "summary(Model2.5)"
      ],
      "execution_count": null,
      "outputs": [
        {
          "output_type": "stream",
          "text": [
            "Linear mixed model fit by maximum likelihood  ['lmerMod']\n",
            "Formula: SensorValue ~ MonthsInMilk * CalvingSeason + MonthsInMilk * Parity +  \n",
            "    MonthsInMilk * MilkingType + MonthsInMilk * MilkingType *  \n",
            "    CalvingSeason + (1 | HerdIdentifier:AnimalIdentifier)\n",
            "   Data: AnalysisData\n",
            "\n",
            "      AIC       BIC    logLik  deviance  df.resid \n",
            " 460320.4  461405.9 -230038.2  460076.4     53951 \n",
            "\n",
            "Scaled residuals: \n",
            "    Min      1Q  Median      3Q     Max \n",
            "-4.5925 -0.4953 -0.0768  0.3685 30.3315 \n",
            "\n",
            "Random effects:\n",
            " Groups                          Name        Variance Std.Dev.\n",
            " HerdIdentifier:AnimalIdentifier (Intercept)  77.28    8.791  \n",
            " Residual                                    271.17   16.467  \n",
            "Number of obs: 54073, groups:  HerdIdentifier:AnimalIdentifier, 1689\n",
            "\n",
            "Fixed effects:\n",
            "                                                  Estimate Std. Error t value\n",
            "(Intercept)                                        38.3054     1.1650  32.881\n",
            "MonthsInMilk0                                      10.1448     1.3877   7.310\n",
            "MonthsInMilk1                                      14.5535     1.4237  10.222\n",
            "MonthsInMilk2                                       6.4582     1.3974   4.622\n",
            "MonthsInMilk3                                       3.1217     1.4608   2.137\n",
            "MonthsInMilk4                                      -0.3970     1.4667  -0.271\n",
            "MonthsInMilk5                                      -1.2178     1.4135  -0.862\n",
            "MonthsInMilk6                                      -2.4184     1.4116  -1.713\n",
            "MonthsInMilk7                                      -2.9502     1.4051  -2.100\n",
            "MonthsInMilk8                                      -0.4242     1.4732  -0.288\n",
            "MonthsInMilk9                                       0.8784     1.4670   0.599\n",
            "MonthsInMilk10                                      1.3256     1.4534   0.912\n",
            "CalvingSeasonSpring                               -12.0557     1.3777  -8.751\n",
            "CalvingSeasonSummer                                -1.2660     1.2349  -1.025\n",
            "CalvingSeasonWinter                                -8.3641     1.3891  -6.021\n",
            "Parity2                                            -1.6074     0.8128  -1.978\n",
            "Parity3+                                           -8.5033     0.7312 -11.629\n",
            "MilkingTypeCMS                                     15.7809     1.1981  13.171\n",
            "MonthsInMilk0:CalvingSeasonSpring                   2.3509     1.7587   1.337\n",
            "MonthsInMilk1:CalvingSeasonSpring                  11.6923     1.8306   6.387\n",
            "MonthsInMilk2:CalvingSeasonSpring                  15.2433     1.8907   8.062\n",
            "MonthsInMilk3:CalvingSeasonSpring                  18.0771     1.9434   9.302\n",
            "MonthsInMilk4:CalvingSeasonSpring                  18.3119     1.9480   9.400\n",
            "MonthsInMilk5:CalvingSeasonSpring                  16.6359     1.8972   8.769\n",
            "MonthsInMilk6:CalvingSeasonSpring                  14.1696     1.8124   7.818\n",
            "MonthsInMilk7:CalvingSeasonSpring                  11.5032     1.8247   6.304\n",
            "MonthsInMilk8:CalvingSeasonSpring                   8.4585     1.8701   4.523\n",
            "MonthsInMilk9:CalvingSeasonSpring                   6.1689     1.9292   3.198\n",
            "MonthsInMilk10:CalvingSeasonSpring                  4.8006     1.9237   2.496\n",
            "MonthsInMilk0:CalvingSeasonSummer                   1.8612     1.5901   1.171\n",
            "MonthsInMilk1:CalvingSeasonSummer                   4.1668     1.6474   2.529\n",
            "MonthsInMilk2:CalvingSeasonSummer                   4.8461     1.6327   2.968\n",
            "MonthsInMilk3:CalvingSeasonSummer                   2.8026     1.6437   1.705\n",
            "MonthsInMilk4:CalvingSeasonSummer                   2.0677     1.6487   1.254\n",
            "MonthsInMilk5:CalvingSeasonSummer                   0.6718     1.6125   0.417\n",
            "MonthsInMilk6:CalvingSeasonSummer                   0.4990     1.6604   0.301\n",
            "MonthsInMilk7:CalvingSeasonSummer                   1.1100     1.6634   0.667\n",
            "MonthsInMilk8:CalvingSeasonSummer                  -1.0817     1.6836  -0.642\n",
            "MonthsInMilk9:CalvingSeasonSummer                  -3.0836     1.6809  -1.834\n",
            "MonthsInMilk10:CalvingSeasonSummer                 -3.6683     1.6762  -2.188\n",
            "MonthsInMilk0:CalvingSeasonWinter                  -0.6665     1.8172  -0.367\n",
            "MonthsInMilk1:CalvingSeasonWinter                   6.0579     1.9123   3.168\n",
            "MonthsInMilk2:CalvingSeasonWinter                   8.0719     1.8411   4.384\n",
            "MonthsInMilk3:CalvingSeasonWinter                   9.2110     1.8888   4.877\n",
            "MonthsInMilk4:CalvingSeasonWinter                   9.8100     1.9092   5.138\n",
            "MonthsInMilk5:CalvingSeasonWinter                  10.6789     1.9442   5.493\n",
            "MonthsInMilk6:CalvingSeasonWinter                  14.2918     1.9392   7.370\n",
            "MonthsInMilk7:CalvingSeasonWinter                  13.6273     1.9226   7.088\n",
            "MonthsInMilk8:CalvingSeasonWinter                  10.2440     1.9589   5.229\n",
            "MonthsInMilk9:CalvingSeasonWinter                   7.0248     1.8863   3.724\n",
            "MonthsInMilk10:CalvingSeasonWinter                  3.1918     1.8655   1.711\n",
            "MonthsInMilk0:Parity2                              -9.8418     1.0457  -9.412\n",
            "MonthsInMilk1:Parity2                              -9.8588     1.0777  -9.148\n",
            "MonthsInMilk2:Parity2                              -7.8214     1.0654  -7.341\n",
            "MonthsInMilk3:Parity2                              -6.5969     1.0683  -6.175\n",
            "MonthsInMilk4:Parity2                              -4.0519     1.0685  -3.792\n",
            "MonthsInMilk5:Parity2                              -4.1113     1.0670  -3.853\n",
            "MonthsInMilk6:Parity2                              -3.8874     1.0679  -3.640\n",
            "MonthsInMilk7:Parity2                              -2.9467     1.0667  -2.762\n",
            "MonthsInMilk8:Parity2                              -4.2496     1.0710  -3.968\n",
            "MonthsInMilk9:Parity2                              -3.8180     1.0669  -3.579\n",
            "MonthsInMilk10:Parity2                             -3.3872     1.0649  -3.181\n",
            "MonthsInMilk0:Parity3+                             -9.4110     0.9223 -10.204\n",
            "MonthsInMilk1:Parity3+                            -10.1677     0.9510 -10.691\n",
            "MonthsInMilk2:Parity3+                             -6.5931     0.9423  -6.997\n",
            "MonthsInMilk3:Parity3+                             -3.8912     0.9433  -4.125\n",
            "MonthsInMilk4:Parity3+                             -0.4395     0.9441  -0.466\n",
            "MonthsInMilk5:Parity3+                             -0.5921     0.9426  -0.628\n",
            "MonthsInMilk6:Parity3+                              0.3830     0.9444   0.406\n",
            "MonthsInMilk7:Parity3+                              0.9086     0.9447   0.962\n",
            "MonthsInMilk8:Parity3+                              0.3188     0.9452   0.337\n",
            "MonthsInMilk9:Parity3+                              0.5432     0.9440   0.575\n",
            "MonthsInMilk10:Parity3+                             0.9675     0.9411   1.028\n",
            "MonthsInMilk0:MilkingTypeCMS                       -5.0494     1.3882  -3.637\n",
            "MonthsInMilk1:MilkingTypeCMS                       -7.8033     1.4317  -5.450\n",
            "MonthsInMilk2:MilkingTypeCMS                      -10.2247     1.4135  -7.234\n",
            "MonthsInMilk3:MilkingTypeCMS                      -13.0220     1.5075  -8.638\n",
            "MonthsInMilk4:MilkingTypeCMS                      -12.7714     1.5204  -8.400\n",
            "MonthsInMilk5:MilkingTypeCMS                       -8.3337     1.4521  -5.739\n",
            "MonthsInMilk6:MilkingTypeCMS                       -2.6435     1.4559  -1.816\n",
            "MonthsInMilk7:MilkingTypeCMS                        3.7108     1.4512   2.557\n",
            "MonthsInMilk8:MilkingTypeCMS                       13.3257     1.5472   8.613\n",
            "MonthsInMilk9:MilkingTypeCMS                       13.8189     1.5418   8.963\n",
            "MonthsInMilk10:MilkingTypeCMS                      10.7205     1.5288   7.012\n",
            "CalvingSeasonSpring:MilkingTypeCMS                 -9.4141     1.6474  -5.715\n",
            "CalvingSeasonSummer:MilkingTypeCMS                  0.2563     1.5150   0.169\n",
            "CalvingSeasonWinter:MilkingTypeCMS                -12.4642     1.6762  -7.436\n",
            "MonthsInMilk0:CalvingSeasonSpring:MilkingTypeCMS    7.5723     2.0881   3.626\n",
            "MonthsInMilk1:CalvingSeasonSpring:MilkingTypeCMS   21.0717     2.1741   9.692\n",
            "MonthsInMilk2:CalvingSeasonSpring:MilkingTypeCMS   33.1790     2.2390  14.819\n",
            "MonthsInMilk3:CalvingSeasonSpring:MilkingTypeCMS   33.6467     2.3077  14.580\n",
            "MonthsInMilk4:CalvingSeasonSpring:MilkingTypeCMS   30.4091     2.3155  13.133\n",
            "MonthsInMilk5:CalvingSeasonSpring:MilkingTypeCMS   24.5317     2.2552  10.878\n",
            "MonthsInMilk6:CalvingSeasonSpring:MilkingTypeCMS   13.9585     2.1652   6.447\n",
            "MonthsInMilk7:CalvingSeasonSpring:MilkingTypeCMS    3.1451     2.1775   1.444\n",
            "MonthsInMilk8:CalvingSeasonSpring:MilkingTypeCMS  -11.8147     2.2377  -5.280\n",
            "MonthsInMilk9:CalvingSeasonSpring:MilkingTypeCMS  -16.8432     2.3132  -7.281\n",
            "MonthsInMilk10:CalvingSeasonSpring:MilkingTypeCMS -14.7656     2.3120  -6.386\n",
            "MonthsInMilk0:CalvingSeasonSummer:MilkingTypeCMS    7.8151     1.9451   4.018\n",
            "MonthsInMilk1:CalvingSeasonSummer:MilkingTypeCMS   13.9781     2.0186   6.925\n",
            "MonthsInMilk2:CalvingSeasonSummer:MilkingTypeCMS   15.2559     1.9996   7.629\n",
            "MonthsInMilk3:CalvingSeasonSummer:MilkingTypeCMS   11.7004     2.0137   5.810\n",
            "MonthsInMilk4:CalvingSeasonSummer:MilkingTypeCMS    6.1666     2.0216   3.050\n",
            "MonthsInMilk5:CalvingSeasonSummer:MilkingTypeCMS   -1.4237     1.9809  -0.719\n",
            "MonthsInMilk6:CalvingSeasonSummer:MilkingTypeCMS  -10.1438     2.0471  -4.955\n",
            "MonthsInMilk7:CalvingSeasonSummer:MilkingTypeCMS  -17.5223     2.0525  -8.537\n",
            "MonthsInMilk8:CalvingSeasonSummer:MilkingTypeCMS  -24.3120     2.0786 -11.696\n",
            "MonthsInMilk9:CalvingSeasonSummer:MilkingTypeCMS  -18.6117     2.0711  -8.986\n",
            "MonthsInMilk10:CalvingSeasonSummer:MilkingTypeCMS  -7.6541     2.0690  -3.699\n",
            "MonthsInMilk0:CalvingSeasonWinter:MilkingTypeCMS    5.1866     2.1739   2.386\n",
            "MonthsInMilk1:CalvingSeasonWinter:MilkingTypeCMS    5.3452     2.2756   2.349\n",
            "MonthsInMilk2:CalvingSeasonWinter:MilkingTypeCMS   14.5067     2.1936   6.613\n",
            "MonthsInMilk3:CalvingSeasonWinter:MilkingTypeCMS   22.1364     2.2578   9.805\n",
            "MonthsInMilk4:CalvingSeasonWinter:MilkingTypeCMS   29.2389     2.2794  12.828\n",
            "MonthsInMilk5:CalvingSeasonWinter:MilkingTypeCMS   36.1444     2.3186  15.589\n",
            "MonthsInMilk6:CalvingSeasonWinter:MilkingTypeCMS   27.8629     2.3178  12.021\n",
            "MonthsInMilk7:CalvingSeasonWinter:MilkingTypeCMS   20.4257     2.2975   8.890\n",
            "MonthsInMilk8:CalvingSeasonWinter:MilkingTypeCMS    8.5943     2.3451   3.665\n",
            "MonthsInMilk9:CalvingSeasonWinter:MilkingTypeCMS    0.5641     2.2639   0.249\n",
            "MonthsInMilk10:CalvingSeasonWinter:MilkingTypeCMS  -1.4753     2.2417  -0.658\n"
          ],
          "name": "stdout"
        },
        {
          "output_type": "stream",
          "text": [
            "R[write to console]: \n",
            "Correlation matrix not shown by default, as p = 120 > 12.\n",
            "Use print(object, correlation=TRUE)  or\n",
            "    vcov(object)        if you need it\n",
            "\n",
            "\n"
          ],
          "name": "stderr"
        }
      ]
    },
    {
      "cell_type": "code",
      "metadata": {
        "colab": {
          "base_uri": "https://localhost:8080/"
        },
        "id": "0jMrV_Tr0hdU",
        "outputId": "33c58a18-8f62-4780-dec1-e91596e9d2a9"
      },
      "source": [
        "%%R\n",
        "Model2.6 <- lme4::lmer(\n",
        "                  SensorValue ~ \n",
        "                  MonthsInMilk*CalvingSeason + \n",
        "                  MonthsInMilk*Parity + \n",
        "                  MonthsInMilk*MilkingType +\n",
        "                  MonthsInMilk*MilkingType*CalvingSeason + \n",
        "                  MonthsInMilk*Parity*MilkingType*CalvingSeason +\n",
        "                  (1| HerdIdentifier:AnimalIdentifier),\n",
        "                  REML = FALSE,\n",
        "                  data = AnalysisData\n",
        "                  )\n",
        "anova(Model2.0,Model2.6,test=\"Chisq\")"
      ],
      "execution_count": null,
      "outputs": [
        {
          "output_type": "stream",
          "text": [
            "Data: AnalysisData\n",
            "Models:\n",
            "Model2.0: SensorValue ~ Parity + MonthsInMilk + CalvingSeason + MilkingType + \n",
            "Model2.0:     (1 | HerdIdentifier:AnimalIdentifier)\n",
            "Model2.6: SensorValue ~ MonthsInMilk * CalvingSeason + MonthsInMilk * Parity + \n",
            "Model2.6:     MonthsInMilk * MilkingType + MonthsInMilk * MilkingType * \n",
            "Model2.6:     CalvingSeason + MonthsInMilk * Parity * MilkingType * CalvingSeason + \n",
            "Model2.6:     (1 | HerdIdentifier:AnimalIdentifier)\n",
            "         npar    AIC    BIC  logLik deviance Chisq  Df Pr(>Chisq)    \n",
            "Model2.0   20 474352 474530 -237156   474312                         \n",
            "Model2.6  290 460155 462735 -229787   459575 14738 270  < 2.2e-16 ***\n",
            "---\n",
            "Signif. codes:  0 ‘***’ 0.001 ‘**’ 0.01 ‘*’ 0.05 ‘.’ 0.1 ‘ ’ 1\n"
          ],
          "name": "stdout"
        }
      ]
    },
    {
      "cell_type": "code",
      "metadata": {
        "colab": {
          "base_uri": "https://localhost:8080/"
        },
        "id": "DTJKUkdU07Wq",
        "outputId": "babd472f-abf9-4b79-d0fb-38e7f0058e6b"
      },
      "source": [
        "%%R\n",
        "summary(Model2.6)"
      ],
      "execution_count": null,
      "outputs": [
        {
          "output_type": "stream",
          "text": [
            "Linear mixed model fit by maximum likelihood  ['lmerMod']\n",
            "Formula: SensorValue ~ MonthsInMilk * CalvingSeason + MonthsInMilk * Parity +  \n",
            "    MonthsInMilk * MilkingType + MonthsInMilk * MilkingType *  \n",
            "    CalvingSeason + MonthsInMilk * Parity * MilkingType * CalvingSeason +  \n",
            "    (1 | HerdIdentifier:AnimalIdentifier)\n",
            "   Data: AnalysisData\n",
            "\n",
            "      AIC       BIC    logLik  deviance  df.resid \n",
            " 460154.6  462735.0 -229787.3  459574.6     53783 \n",
            "\n",
            "Scaled residuals: \n",
            "    Min      1Q  Median      3Q     Max \n",
            "-4.7410 -0.4923 -0.0752  0.3676 30.4554 \n",
            "\n",
            "Random effects:\n",
            " Groups                          Name        Variance Std.Dev.\n",
            " HerdIdentifier:AnimalIdentifier (Intercept)  77.57    8.807  \n",
            " Residual                                    268.57   16.388  \n",
            "Number of obs: 54073, groups:  HerdIdentifier:AnimalIdentifier, 1689\n",
            "\n",
            "Fixed effects:\n",
            "                                                            Estimate Std. Error\n",
            "(Intercept)                                                 34.26860    2.57682\n",
            "MonthsInMilk0                                               13.94971    3.31536\n",
            "MonthsInMilk1                                               15.01072    3.31807\n",
            "MonthsInMilk2                                                7.12966    3.08194\n",
            "MonthsInMilk3                                                3.55428    3.24081\n",
            "MonthsInMilk4                                                2.21014    3.20314\n",
            "MonthsInMilk5                                                1.57356    3.06287\n",
            "MonthsInMilk6                                                0.08424    3.07095\n",
            "MonthsInMilk7                                               -0.61769    3.01868\n",
            "MonthsInMilk8                                                1.19616    3.17612\n",
            "MonthsInMilk9                                                3.03145    3.14755\n",
            "MonthsInMilk10                                               4.86485    3.07845\n",
            "CalvingSeasonSpring                                         -7.47137    3.47149\n",
            "CalvingSeasonSummer                                         -6.03850    3.52482\n",
            "CalvingSeasonWinter                                         24.94118    4.05137\n",
            "Parity2                                                      2.73932    3.07812\n",
            "Parity3+                                                    -3.64854    2.78708\n",
            "MilkingTypeCMS                                              18.00933    3.00174\n",
            "MonthsInMilk0:CalvingSeasonSpring                           -4.99042    4.64298\n",
            "MonthsInMilk1:CalvingSeasonSpring                           13.08897    4.84673\n",
            "MonthsInMilk2:CalvingSeasonSpring                           15.68496    4.72628\n",
            "MonthsInMilk3:CalvingSeasonSpring                           17.56778    4.75801\n",
            "MonthsInMilk4:CalvingSeasonSpring                           17.50365    4.73157\n",
            "MonthsInMilk5:CalvingSeasonSpring                           13.53527    4.57514\n",
            "MonthsInMilk6:CalvingSeasonSpring                            9.73830    4.34424\n",
            "MonthsInMilk7:CalvingSeasonSpring                            7.95441    4.35468\n",
            "MonthsInMilk8:CalvingSeasonSpring                            6.10647    4.36174\n",
            "MonthsInMilk9:CalvingSeasonSpring                            1.91834    4.41262\n",
            "MonthsInMilk10:CalvingSeasonSpring                          -1.21259    4.33701\n",
            "MonthsInMilk0:CalvingSeasonSummer                            3.93451    4.58179\n",
            "MonthsInMilk1:CalvingSeasonSummer                           14.74860    4.65764\n",
            "MonthsInMilk2:CalvingSeasonSummer                           13.08591    4.40950\n",
            "MonthsInMilk3:CalvingSeasonSummer                            9.72325    4.36422\n",
            "MonthsInMilk4:CalvingSeasonSummer                            8.53121    4.29240\n",
            "MonthsInMilk5:CalvingSeasonSummer                            6.34127    4.16527\n",
            "MonthsInMilk6:CalvingSeasonSummer                            6.69000    4.23845\n",
            "MonthsInMilk7:CalvingSeasonSummer                            6.05630    4.20478\n",
            "MonthsInMilk8:CalvingSeasonSummer                            4.74304    4.26322\n",
            "MonthsInMilk9:CalvingSeasonSummer                            1.52035    4.23495\n",
            "MonthsInMilk10:CalvingSeasonSummer                          -0.82033    4.17428\n",
            "MonthsInMilk0:CalvingSeasonWinter                          -34.86285    5.14571\n",
            "MonthsInMilk1:CalvingSeasonWinter                          -24.84453    5.47796\n",
            "MonthsInMilk2:CalvingSeasonWinter                          -24.95278    5.11316\n",
            "MonthsInMilk3:CalvingSeasonWinter                          -26.52016    5.29454\n",
            "MonthsInMilk4:CalvingSeasonWinter                          -27.28738    5.18116\n",
            "MonthsInMilk5:CalvingSeasonWinter                          -26.83333    5.24458\n",
            "MonthsInMilk6:CalvingSeasonWinter                          -21.63905    5.14655\n",
            "MonthsInMilk7:CalvingSeasonWinter                          -19.54212    5.03414\n",
            "MonthsInMilk8:CalvingSeasonWinter                          -23.14959    5.05281\n",
            "MonthsInMilk9:CalvingSeasonWinter                          -27.01735    4.85924\n",
            "MonthsInMilk10:CalvingSeasonWinter                         -31.14366    4.77673\n",
            "MonthsInMilk0:Parity2                                      -13.80605    4.01853\n",
            "MonthsInMilk1:Parity2                                      -10.31283    4.03087\n",
            "MonthsInMilk2:Parity2                                       -9.87383    3.86690\n",
            "MonthsInMilk3:Parity2                                       -7.41449    4.06286\n",
            "MonthsInMilk4:Parity2                                       -6.39494    4.03814\n",
            "MonthsInMilk5:Parity2                                       -7.63873    3.88289\n",
            "MonthsInMilk6:Parity2                                       -6.12959    3.84145\n",
            "MonthsInMilk7:Parity2                                       -5.65512    3.82119\n",
            "MonthsInMilk8:Parity2                                       -6.41177    4.04807\n",
            "MonthsInMilk9:Parity2                                       -7.13145    4.02128\n",
            "MonthsInMilk10:Parity2                                      -6.97831    3.98876\n",
            "MonthsInMilk0:Parity3+                                     -13.86448    3.61570\n",
            "MonthsInMilk1:Parity3+                                     -10.57370    3.64198\n",
            "MonthsInMilk2:Parity3+                                      -6.33907    3.42541\n",
            "MonthsInMilk3:Parity3+                                      -3.67744    3.61707\n",
            "MonthsInMilk4:Parity3+                                      -3.36493    3.59930\n",
            "MonthsInMilk5:Parity3+                                      -3.30207    3.43519\n",
            "MonthsInMilk6:Parity3+                                      -2.38159    3.44799\n",
            "MonthsInMilk7:Parity3+                                      -1.22580    3.40016\n",
            "MonthsInMilk8:Parity3+                                      -0.77106    3.58578\n",
            "MonthsInMilk9:Parity3+                                      -0.97790    3.56044\n",
            "MonthsInMilk10:Parity3+                                     -3.02592    3.49576\n",
            "MonthsInMilk0:MilkingTypeCMS                                -8.15676    3.77059\n",
            "MonthsInMilk1:MilkingTypeCMS                                -6.03764    3.78217\n",
            "MonthsInMilk2:MilkingTypeCMS                                -9.95776    3.57800\n",
            "MonthsInMilk3:MilkingTypeCMS                               -12.24160    3.75369\n",
            "MonthsInMilk4:MilkingTypeCMS                               -13.40588    3.72284\n",
            "MonthsInMilk5:MilkingTypeCMS                                -9.26800    3.57344\n",
            "MonthsInMilk6:MilkingTypeCMS                                -3.99871    3.58815\n",
            "MonthsInMilk7:MilkingTypeCMS                                 3.77319    3.53846\n",
            "MonthsInMilk8:MilkingTypeCMS                                15.98449    3.72010\n",
            "MonthsInMilk9:MilkingTypeCMS                                18.42855    3.68845\n",
            "MonthsInMilk10:MilkingTypeCMS                               11.62368    3.62025\n",
            "CalvingSeasonSpring:MilkingTypeCMS                         -16.09989    4.00664\n",
            "CalvingSeasonSummer:MilkingTypeCMS                           5.78787    4.12569\n",
            "CalvingSeasonWinter:MilkingTypeCMS                         -37.01147    4.60474\n",
            "Parity2:MilkingTypeCMS                                       1.24241    3.63125\n",
            "Parity3+:MilkingTypeCMS                                     -4.34910    3.27836\n",
            "CalvingSeasonSpring:Parity2                                 -6.83877    4.30234\n",
            "CalvingSeasonSummer:Parity2                                  3.68684    4.22933\n",
            "CalvingSeasonWinter:Parity2                                -36.74768    4.77549\n",
            "CalvingSeasonSpring:Parity3+                                -4.53987    3.90327\n",
            "CalvingSeasonSummer:Parity3+                                 5.89037    3.83662\n",
            "CalvingSeasonWinter:Parity3+                               -37.43965    4.41008\n",
            "MonthsInMilk0:CalvingSeasonSpring:MilkingTypeCMS            16.53723    5.24045\n",
            "MonthsInMilk1:CalvingSeasonSpring:MilkingTypeCMS            21.19169    5.43383\n",
            "MonthsInMilk2:CalvingSeasonSpring:MilkingTypeCMS            37.91522    5.35659\n",
            "MonthsInMilk3:CalvingSeasonSpring:MilkingTypeCMS            38.42310    5.41245\n",
            "MonthsInMilk4:CalvingSeasonSpring:MilkingTypeCMS            33.16264    5.38986\n",
            "MonthsInMilk5:CalvingSeasonSpring:MilkingTypeCMS            29.78100    5.22951\n",
            "MonthsInMilk6:CalvingSeasonSpring:MilkingTypeCMS            22.05151    4.99888\n",
            "MonthsInMilk7:CalvingSeasonSpring:MilkingTypeCMS             6.84342    5.00629\n",
            "MonthsInMilk8:CalvingSeasonSpring:MilkingTypeCMS           -11.04286    5.04376\n",
            "MonthsInMilk9:CalvingSeasonSpring:MilkingTypeCMS           -18.47302    5.12002\n",
            "MonthsInMilk10:CalvingSeasonSpring:MilkingTypeCMS          -11.14193    5.05441\n",
            "MonthsInMilk0:CalvingSeasonSummer:MilkingTypeCMS            12.03703    5.26745\n",
            "MonthsInMilk1:CalvingSeasonSummer:MilkingTypeCMS             0.87511    5.36577\n",
            "MonthsInMilk2:CalvingSeasonSummer:MilkingTypeCMS             7.46343    5.14747\n",
            "MonthsInMilk3:CalvingSeasonSummer:MilkingTypeCMS             5.57350    5.10224\n",
            "MonthsInMilk4:CalvingSeasonSummer:MilkingTypeCMS             0.23335    5.04687\n",
            "MonthsInMilk5:CalvingSeasonSummer:MilkingTypeCMS            -7.87575    4.91482\n",
            "MonthsInMilk6:CalvingSeasonSummer:MilkingTypeCMS           -17.33399    5.01951\n",
            "MonthsInMilk7:CalvingSeasonSummer:MilkingTypeCMS           -24.61645    4.99046\n",
            "MonthsInMilk8:CalvingSeasonSummer:MilkingTypeCMS           -33.88786    5.05393\n",
            "MonthsInMilk9:CalvingSeasonSummer:MilkingTypeCMS           -28.19505    5.01544\n",
            "MonthsInMilk10:CalvingSeasonSummer:MilkingTypeCMS          -13.01588    4.95771\n",
            "MonthsInMilk0:CalvingSeasonWinter:MilkingTypeCMS            31.48342    5.77787\n",
            "MonthsInMilk1:CalvingSeasonWinter:MilkingTypeCMS            28.15904    6.09191\n",
            "MonthsInMilk2:CalvingSeasonWinter:MilkingTypeCMS            40.18407    5.74051\n",
            "MonthsInMilk3:CalvingSeasonWinter:MilkingTypeCMS            50.60298    5.92454\n",
            "MonthsInMilk4:CalvingSeasonWinter:MilkingTypeCMS            56.86465    5.82887\n",
            "MonthsInMilk5:CalvingSeasonWinter:MilkingTypeCMS            66.45769    5.89524\n",
            "MonthsInMilk6:CalvingSeasonWinter:MilkingTypeCMS            58.17876    5.81029\n",
            "MonthsInMilk7:CalvingSeasonWinter:MilkingTypeCMS            48.20149    5.70571\n",
            "MonthsInMilk8:CalvingSeasonWinter:MilkingTypeCMS            32.78255    5.74732\n",
            "MonthsInMilk9:CalvingSeasonWinter:MilkingTypeCMS            21.56068    5.54667\n",
            "MonthsInMilk10:CalvingSeasonWinter:MilkingTypeCMS           22.33328    5.46056\n",
            "MonthsInMilk0:Parity2:MilkingTypeCMS                         1.96376    4.66109\n",
            "MonthsInMilk1:Parity2:MilkingTypeCMS                        -5.96134    4.70203\n",
            "MonthsInMilk2:Parity2:MilkingTypeCMS                        -3.06127    4.54776\n",
            "MonthsInMilk3:Parity2:MilkingTypeCMS                        -4.99498    4.78714\n",
            "MonthsInMilk4:Parity2:MilkingTypeCMS                        -4.20089    4.77278\n",
            "MonthsInMilk5:Parity2:MilkingTypeCMS                        -3.12472    4.59064\n",
            "MonthsInMilk6:Parity2:MilkingTypeCMS                        -3.99017    4.57442\n",
            "MonthsInMilk7:Parity2:MilkingTypeCMS                        -4.69059    4.54577\n",
            "MonthsInMilk8:Parity2:MilkingTypeCMS                        -5.74468    4.81608\n",
            "MonthsInMilk9:Parity2:MilkingTypeCMS                        -6.87199    4.78922\n",
            "MonthsInMilk10:Parity2:MilkingTypeCMS                       -2.06971    4.74882\n",
            "MonthsInMilk0:Parity3+:MilkingTypeCMS                        4.34319    4.16889\n",
            "MonthsInMilk1:Parity3+:MilkingTypeCMS                       -0.61885    4.21377\n",
            "MonthsInMilk2:Parity3+:MilkingTypeCMS                        0.64865    4.02486\n",
            "MonthsInMilk3:Parity3+:MilkingTypeCMS                        0.52016    4.24741\n",
            "MonthsInMilk4:Parity3+:MilkingTypeCMS                        2.47840    4.23801\n",
            "MonthsInMilk5:Parity3+:MilkingTypeCMS                        2.56925    4.05976\n",
            "MonthsInMilk6:Parity3+:MilkingTypeCMS                        3.88648    4.08287\n",
            "MonthsInMilk7:Parity3+:MilkingTypeCMS                        1.25926    4.03833\n",
            "MonthsInMilk8:Parity3+:MilkingTypeCMS                       -3.58292    4.26036\n",
            "MonthsInMilk9:Parity3+:MilkingTypeCMS                       -7.35971    4.23202\n",
            "MonthsInMilk10:Parity3+:MilkingTypeCMS                      -2.35911    4.16633\n",
            "MonthsInMilk0:CalvingSeasonSpring:Parity2                    7.21820    5.74545\n",
            "MonthsInMilk1:CalvingSeasonSpring:Parity2                   -1.88866    5.95770\n",
            "MonthsInMilk2:CalvingSeasonSpring:Parity2                    1.02253    5.95533\n",
            "MonthsInMilk3:CalvingSeasonSpring:Parity2                    2.41181    6.03271\n",
            "MonthsInMilk4:CalvingSeasonSpring:Parity2                    3.15801    5.98860\n",
            "MonthsInMilk5:CalvingSeasonSpring:Parity2                    7.23433    5.82600\n",
            "MonthsInMilk6:CalvingSeasonSpring:Parity2                    6.55342    5.52756\n",
            "MonthsInMilk7:CalvingSeasonSpring:Parity2                    5.93884    5.57499\n",
            "MonthsInMilk8:CalvingSeasonSpring:Parity2                    4.08066    5.68546\n",
            "MonthsInMilk9:CalvingSeasonSpring:Parity2                    8.61924    5.79921\n",
            "MonthsInMilk10:CalvingSeasonSpring:Parity2                   8.75738    5.76071\n",
            "MonthsInMilk0:CalvingSeasonSummer:Parity2                   -2.93374    5.56026\n",
            "MonthsInMilk1:CalvingSeasonSummer:Parity2                  -10.66523    5.65006\n",
            "MonthsInMilk2:CalvingSeasonSummer:Parity2                   -6.84473    5.46093\n",
            "MonthsInMilk3:CalvingSeasonSummer:Parity2                   -6.59921    5.42738\n",
            "MonthsInMilk4:CalvingSeasonSummer:Parity2                   -5.36798    5.38035\n",
            "MonthsInMilk5:CalvingSeasonSummer:Parity2                   -3.72580    5.26155\n",
            "MonthsInMilk6:CalvingSeasonSummer:Parity2                   -5.67318    5.34846\n",
            "MonthsInMilk7:CalvingSeasonSummer:Parity2                   -2.54424    5.33882\n",
            "MonthsInMilk8:CalvingSeasonSummer:Parity2                   -4.53681    5.40444\n",
            "MonthsInMilk9:CalvingSeasonSummer:Parity2                   -1.97128    5.40162\n",
            "MonthsInMilk10:CalvingSeasonSummer:Parity2                  -2.79008    5.35712\n",
            "MonthsInMilk0:CalvingSeasonWinter:Parity2                   35.17075    6.19740\n",
            "MonthsInMilk1:CalvingSeasonWinter:Parity2                   34.49907    6.51654\n",
            "MonthsInMilk2:CalvingSeasonWinter:Parity2                   38.74262    6.17181\n",
            "MonthsInMilk3:CalvingSeasonWinter:Parity2                   41.59228    6.36656\n",
            "MonthsInMilk4:CalvingSeasonWinter:Parity2                   40.41865    6.31043\n",
            "MonthsInMilk5:CalvingSeasonWinter:Parity2                   41.75194    6.40285\n",
            "MonthsInMilk6:CalvingSeasonWinter:Parity2                   41.38548    6.31343\n",
            "MonthsInMilk7:CalvingSeasonWinter:Parity2                   37.91234    6.22785\n",
            "MonthsInMilk8:CalvingSeasonWinter:Parity2                   39.18118    6.28848\n",
            "MonthsInMilk9:CalvingSeasonWinter:Parity2                   40.01608    6.04227\n",
            "MonthsInMilk10:CalvingSeasonWinter:Parity2                  37.75669    5.98070\n",
            "MonthsInMilk0:CalvingSeasonSpring:Parity3+                   9.01386    5.17811\n",
            "MonthsInMilk1:CalvingSeasonSpring:Parity3+                  -1.57934    5.40741\n",
            "MonthsInMilk2:CalvingSeasonSpring:Parity3+                  -1.66533    5.34778\n",
            "MonthsInMilk3:CalvingSeasonSpring:Parity3+                  -0.84476    5.41794\n",
            "MonthsInMilk4:CalvingSeasonSpring:Parity3+                  -0.86703    5.41040\n",
            "MonthsInMilk5:CalvingSeasonSpring:Parity3+                   1.31402    5.24025\n",
            "MonthsInMilk6:CalvingSeasonSpring:Parity3+                   4.29040    4.99330\n",
            "MonthsInMilk7:CalvingSeasonSpring:Parity3+                   2.88669    5.00434\n",
            "MonthsInMilk8:CalvingSeasonSpring:Parity3+                   1.55280    5.04579\n",
            "MonthsInMilk9:CalvingSeasonSpring:Parity3+                   3.11378    5.14592\n",
            "MonthsInMilk10:CalvingSeasonSpring:Parity3+                  6.56684    5.08650\n",
            "MonthsInMilk0:CalvingSeasonSummer:Parity3+                  -1.90099    4.99887\n",
            "MonthsInMilk1:CalvingSeasonSummer:Parity3+                 -12.58836    5.10682\n",
            "MonthsInMilk2:CalvingSeasonSummer:Parity3+                 -10.65830    4.87935\n",
            "MonthsInMilk3:CalvingSeasonSummer:Parity3+                  -8.48031    4.85451\n",
            "MonthsInMilk4:CalvingSeasonSummer:Parity3+                  -8.32612    4.80164\n",
            "MonthsInMilk5:CalvingSeasonSummer:Parity3+                  -7.61038    4.67011\n",
            "MonthsInMilk6:CalvingSeasonSummer:Parity3+                  -7.68585    4.77655\n",
            "MonthsInMilk7:CalvingSeasonSummer:Parity3+                  -6.76113    4.75097\n",
            "MonthsInMilk8:CalvingSeasonSummer:Parity3+                  -7.41040    4.81411\n",
            "MonthsInMilk9:CalvingSeasonSummer:Parity3+                  -6.19503    4.78574\n",
            "MonthsInMilk10:CalvingSeasonSummer:Parity3+                 -2.22065    4.73925\n",
            "MonthsInMilk0:CalvingSeasonWinter:Parity3+                  39.80991    5.65469\n",
            "MonthsInMilk1:CalvingSeasonWinter:Parity3+                  34.32228    6.01715\n",
            "MonthsInMilk2:CalvingSeasonWinter:Parity3+                  35.69578    5.64881\n",
            "MonthsInMilk3:CalvingSeasonWinter:Parity3+                  38.68784    5.83866\n",
            "MonthsInMilk4:CalvingSeasonWinter:Parity3+                  42.10147    5.75662\n",
            "MonthsInMilk5:CalvingSeasonWinter:Parity3+                  42.23550    5.83499\n",
            "MonthsInMilk6:CalvingSeasonWinter:Parity3+                  39.68210    5.75082\n",
            "MonthsInMilk7:CalvingSeasonWinter:Parity3+                  36.31881    5.64185\n",
            "MonthsInMilk8:CalvingSeasonWinter:Parity3+                  36.20361    5.68841\n",
            "MonthsInMilk9:CalvingSeasonWinter:Parity3+                  37.13442    5.48065\n",
            "MonthsInMilk10:CalvingSeasonWinter:Parity3+                 38.89217    5.39629\n",
            "CalvingSeasonSpring:Parity2:MilkingTypeCMS                   5.46687    5.04527\n",
            "CalvingSeasonSummer:Parity2:MilkingTypeCMS                  -5.11654    5.03348\n",
            "CalvingSeasonWinter:Parity2:MilkingTypeCMS                  18.51346    5.53385\n",
            "CalvingSeasonSpring:Parity3+:MilkingTypeCMS                  9.58101    4.54687\n",
            "CalvingSeasonSummer:Parity3+:MilkingTypeCMS                 -6.38547    4.53699\n",
            "CalvingSeasonWinter:Parity3+:MilkingTypeCMS                 30.37957    5.07693\n",
            "MonthsInMilk0:CalvingSeasonSpring:Parity2:MilkingTypeCMS    -7.81221    6.62809\n",
            "MonthsInMilk1:CalvingSeasonSpring:Parity2:MilkingTypeCMS     6.70181    6.86141\n",
            "MonthsInMilk2:CalvingSeasonSpring:Parity2:MilkingTypeCMS    -0.50510    6.89029\n",
            "MonthsInMilk3:CalvingSeasonSpring:Parity2:MilkingTypeCMS    -1.12369    7.01307\n",
            "MonthsInMilk4:CalvingSeasonSpring:Parity2:MilkingTypeCMS     0.85578    6.98289\n",
            "MonthsInMilk5:CalvingSeasonSpring:Parity2:MilkingTypeCMS    -3.21363    6.79804\n",
            "MonthsInMilk6:CalvingSeasonSpring:Parity2:MilkingTypeCMS    -5.32351    6.49399\n",
            "MonthsInMilk7:CalvingSeasonSpring:Parity2:MilkingTypeCMS    -1.30937    6.52975\n",
            "MonthsInMilk8:CalvingSeasonSpring:Parity2:MilkingTypeCMS     0.40618    6.68666\n",
            "MonthsInMilk9:CalvingSeasonSpring:Parity2:MilkingTypeCMS     0.71097    6.83307\n",
            "MonthsInMilk10:CalvingSeasonSpring:Parity2:MilkingTypeCMS   -4.79014    6.81021\n",
            "MonthsInMilk0:CalvingSeasonSummer:Parity2:MilkingTypeCMS    -4.36134    6.53701\n",
            "MonthsInMilk1:CalvingSeasonSummer:Parity2:MilkingTypeCMS    15.88935    6.67216\n",
            "MonthsInMilk2:CalvingSeasonSummer:Parity2:MilkingTypeCMS     8.41959    6.49581\n",
            "MonthsInMilk3:CalvingSeasonSummer:Parity2:MilkingTypeCMS     7.07849    6.46638\n",
            "MonthsInMilk4:CalvingSeasonSummer:Parity2:MilkingTypeCMS     5.35077    6.43688\n",
            "MonthsInMilk5:CalvingSeasonSummer:Parity2:MilkingTypeCMS     6.01535    6.29731\n",
            "MonthsInMilk6:CalvingSeasonSummer:Parity2:MilkingTypeCMS     8.98576    6.44575\n",
            "MonthsInMilk7:CalvingSeasonSummer:Parity2:MilkingTypeCMS     6.87384    6.43273\n",
            "MonthsInMilk8:CalvingSeasonSummer:Parity2:MilkingTypeCMS     7.71866    6.51147\n",
            "MonthsInMilk9:CalvingSeasonSummer:Parity2:MilkingTypeCMS     5.57375    6.49178\n",
            "MonthsInMilk10:CalvingSeasonSummer:Parity2:MilkingTypeCMS    1.68539    6.45164\n",
            "MonthsInMilk0:CalvingSeasonWinter:Parity2:MilkingTypeCMS   -21.97020    7.12260\n",
            "MonthsInMilk1:CalvingSeasonWinter:Parity2:MilkingTypeCMS   -19.33748    7.44159\n",
            "MonthsInMilk2:CalvingSeasonWinter:Parity2:MilkingTypeCMS   -22.37013    7.08323\n",
            "MonthsInMilk3:CalvingSeasonWinter:Parity2:MilkingTypeCMS   -24.36163    7.30906\n",
            "MonthsInMilk4:CalvingSeasonWinter:Parity2:MilkingTypeCMS   -21.28320    7.26370\n",
            "MonthsInMilk5:CalvingSeasonWinter:Parity2:MilkingTypeCMS   -25.04238    7.36398\n",
            "MonthsInMilk6:CalvingSeasonWinter:Parity2:MilkingTypeCMS   -25.58098    7.29379\n",
            "MonthsInMilk7:CalvingSeasonWinter:Parity2:MilkingTypeCMS   -21.95508    7.20327\n",
            "MonthsInMilk8:CalvingSeasonWinter:Parity2:MilkingTypeCMS   -19.55145    7.29954\n",
            "MonthsInMilk9:CalvingSeasonWinter:Parity2:MilkingTypeCMS   -17.91347    7.03974\n",
            "MonthsInMilk10:CalvingSeasonWinter:Parity2:MilkingTypeCMS  -21.28071    6.97385\n",
            "MonthsInMilk0:CalvingSeasonSpring:Parity3+:MilkingTypeCMS  -12.10494    5.92443\n",
            "MonthsInMilk1:CalvingSeasonSpring:Parity3+:MilkingTypeCMS   -3.99835    6.15895\n",
            "MonthsInMilk2:CalvingSeasonSpring:Parity3+:MilkingTypeCMS   -9.41136    6.14410\n",
            "MonthsInMilk3:CalvingSeasonSpring:Parity3+:MilkingTypeCMS   -8.79480    6.25015\n",
            "MonthsInMilk4:CalvingSeasonSpring:Parity3+:MilkingTypeCMS   -5.23819    6.24813\n",
            "MonthsInMilk5:CalvingSeasonSpring:Parity3+:MilkingTypeCMS   -7.86673    6.06737\n",
            "MonthsInMilk6:CalvingSeasonSpring:Parity3+:MilkingTypeCMS  -12.60250    5.81627\n",
            "MonthsInMilk7:CalvingSeasonSpring:Parity3+:MilkingTypeCMS   -5.38881    5.82866\n",
            "MonthsInMilk8:CalvingSeasonSpring:Parity3+:MilkingTypeCMS   -0.26693    5.90728\n",
            "MonthsInMilk9:CalvingSeasonSpring:Parity3+:MilkingTypeCMS    5.24847    6.04893\n",
            "MonthsInMilk10:CalvingSeasonSpring:Parity3+:MilkingTypeCMS  -2.96040    6.00128\n",
            "MonthsInMilk0:CalvingSeasonSummer:Parity3+:MilkingTypeCMS   -6.71106    5.82639\n",
            "MonthsInMilk1:CalvingSeasonSummer:Parity3+:MilkingTypeCMS   14.78102    5.96678\n",
            "MonthsInMilk2:CalvingSeasonSummer:Parity3+:MilkingTypeCMS    8.83719    5.76477\n",
            "MonthsInMilk3:CalvingSeasonSummer:Parity3+:MilkingTypeCMS    6.43863    5.74495\n",
            "MonthsInMilk4:CalvingSeasonSummer:Parity3+:MilkingTypeCMS    7.10822    5.70895\n",
            "MonthsInMilk5:CalvingSeasonSummer:Parity3+:MilkingTypeCMS    7.79385    5.57238\n",
            "MonthsInMilk6:CalvingSeasonSummer:Parity3+:MilkingTypeCMS    7.67998    5.71695\n",
            "MonthsInMilk7:CalvingSeasonSummer:Parity3+:MilkingTypeCMS    8.62813    5.70083\n",
            "MonthsInMilk8:CalvingSeasonSummer:Parity3+:MilkingTypeCMS   13.29588    5.77328\n",
            "MonthsInMilk9:CalvingSeasonSummer:Parity3+:MilkingTypeCMS   14.76123    5.73483\n",
            "MonthsInMilk10:CalvingSeasonSummer:Parity3+:MilkingTypeCMS   8.05719    5.69457\n",
            "MonthsInMilk0:CalvingSeasonWinter:Parity3+:MilkingTypeCMS  -31.86176    6.44830\n",
            "MonthsInMilk1:CalvingSeasonWinter:Parity3+:MilkingTypeCMS  -27.02679    6.80073\n",
            "MonthsInMilk2:CalvingSeasonWinter:Parity3+:MilkingTypeCMS  -30.52187    6.44025\n",
            "MonthsInMilk3:CalvingSeasonWinter:Parity3+:MilkingTypeCMS  -34.27554    6.64465\n",
            "MonthsInMilk4:CalvingSeasonWinter:Parity3+:MilkingTypeCMS  -33.81908    6.58310\n",
            "MonthsInMilk5:CalvingSeasonWinter:Parity3+:MilkingTypeCMS  -37.78822    6.66932\n",
            "MonthsInMilk6:CalvingSeasonWinter:Parity3+:MilkingTypeCMS  -38.26707    6.60105\n",
            "MonthsInMilk7:CalvingSeasonWinter:Parity3+:MilkingTypeCMS  -35.64350    6.49670\n",
            "MonthsInMilk8:CalvingSeasonWinter:Parity3+:MilkingTypeCMS  -29.19062    6.57143\n",
            "MonthsInMilk9:CalvingSeasonWinter:Parity3+:MilkingTypeCMS  -22.92322    6.34921\n",
            "MonthsInMilk10:CalvingSeasonWinter:Parity3+:MilkingTypeCMS -27.04239    6.26259\n",
            "                                                           t value\n",
            "(Intercept)                                                 13.299\n",
            "MonthsInMilk0                                                4.208\n",
            "MonthsInMilk1                                                4.524\n",
            "MonthsInMilk2                                                2.313\n",
            "MonthsInMilk3                                                1.097\n",
            "MonthsInMilk4                                                0.690\n",
            "MonthsInMilk5                                                0.514\n",
            "MonthsInMilk6                                                0.027\n",
            "MonthsInMilk7                                               -0.205\n",
            "MonthsInMilk8                                                0.377\n",
            "MonthsInMilk9                                                0.963\n",
            "MonthsInMilk10                                               1.580\n",
            "CalvingSeasonSpring                                         -2.152\n",
            "CalvingSeasonSummer                                         -1.713\n",
            "CalvingSeasonWinter                                          6.156\n",
            "Parity2                                                      0.890\n",
            "Parity3+                                                    -1.309\n",
            "MilkingTypeCMS                                               6.000\n",
            "MonthsInMilk0:CalvingSeasonSpring                           -1.075\n",
            "MonthsInMilk1:CalvingSeasonSpring                            2.701\n",
            "MonthsInMilk2:CalvingSeasonSpring                            3.319\n",
            "MonthsInMilk3:CalvingSeasonSpring                            3.692\n",
            "MonthsInMilk4:CalvingSeasonSpring                            3.699\n",
            "MonthsInMilk5:CalvingSeasonSpring                            2.958\n",
            "MonthsInMilk6:CalvingSeasonSpring                            2.242\n",
            "MonthsInMilk7:CalvingSeasonSpring                            1.827\n",
            "MonthsInMilk8:CalvingSeasonSpring                            1.400\n",
            "MonthsInMilk9:CalvingSeasonSpring                            0.435\n",
            "MonthsInMilk10:CalvingSeasonSpring                          -0.280\n",
            "MonthsInMilk0:CalvingSeasonSummer                            0.859\n",
            "MonthsInMilk1:CalvingSeasonSummer                            3.167\n",
            "MonthsInMilk2:CalvingSeasonSummer                            2.968\n",
            "MonthsInMilk3:CalvingSeasonSummer                            2.228\n",
            "MonthsInMilk4:CalvingSeasonSummer                            1.988\n",
            "MonthsInMilk5:CalvingSeasonSummer                            1.522\n",
            "MonthsInMilk6:CalvingSeasonSummer                            1.578\n",
            "MonthsInMilk7:CalvingSeasonSummer                            1.440\n",
            "MonthsInMilk8:CalvingSeasonSummer                            1.113\n",
            "MonthsInMilk9:CalvingSeasonSummer                            0.359\n",
            "MonthsInMilk10:CalvingSeasonSummer                          -0.197\n",
            "MonthsInMilk0:CalvingSeasonWinter                           -6.775\n",
            "MonthsInMilk1:CalvingSeasonWinter                           -4.535\n",
            "MonthsInMilk2:CalvingSeasonWinter                           -4.880\n",
            "MonthsInMilk3:CalvingSeasonWinter                           -5.009\n",
            "MonthsInMilk4:CalvingSeasonWinter                           -5.267\n",
            "MonthsInMilk5:CalvingSeasonWinter                           -5.116\n",
            "MonthsInMilk6:CalvingSeasonWinter                           -4.205\n",
            "MonthsInMilk7:CalvingSeasonWinter                           -3.882\n",
            "MonthsInMilk8:CalvingSeasonWinter                           -4.582\n",
            "MonthsInMilk9:CalvingSeasonWinter                           -5.560\n",
            "MonthsInMilk10:CalvingSeasonWinter                          -6.520\n",
            "MonthsInMilk0:Parity2                                       -3.436\n",
            "MonthsInMilk1:Parity2                                       -2.558\n",
            "MonthsInMilk2:Parity2                                       -2.553\n",
            "MonthsInMilk3:Parity2                                       -1.825\n",
            "MonthsInMilk4:Parity2                                       -1.584\n",
            "MonthsInMilk5:Parity2                                       -1.967\n",
            "MonthsInMilk6:Parity2                                       -1.596\n",
            "MonthsInMilk7:Parity2                                       -1.480\n",
            "MonthsInMilk8:Parity2                                       -1.584\n",
            "MonthsInMilk9:Parity2                                       -1.773\n",
            "MonthsInMilk10:Parity2                                      -1.749\n",
            "MonthsInMilk0:Parity3+                                      -3.835\n",
            "MonthsInMilk1:Parity3+                                      -2.903\n",
            "MonthsInMilk2:Parity3+                                      -1.851\n",
            "MonthsInMilk3:Parity3+                                      -1.017\n",
            "MonthsInMilk4:Parity3+                                      -0.935\n",
            "MonthsInMilk5:Parity3+                                      -0.961\n",
            "MonthsInMilk6:Parity3+                                      -0.691\n",
            "MonthsInMilk7:Parity3+                                      -0.361\n",
            "MonthsInMilk8:Parity3+                                      -0.215\n",
            "MonthsInMilk9:Parity3+                                      -0.275\n",
            "MonthsInMilk10:Parity3+                                     -0.866\n",
            "MonthsInMilk0:MilkingTypeCMS                                -2.163\n",
            "MonthsInMilk1:MilkingTypeCMS                                -1.596\n",
            "MonthsInMilk2:MilkingTypeCMS                                -2.783\n",
            "MonthsInMilk3:MilkingTypeCMS                                -3.261\n",
            "MonthsInMilk4:MilkingTypeCMS                                -3.601\n",
            "MonthsInMilk5:MilkingTypeCMS                                -2.594\n",
            "MonthsInMilk6:MilkingTypeCMS                                -1.114\n",
            "MonthsInMilk7:MilkingTypeCMS                                 1.066\n",
            "MonthsInMilk8:MilkingTypeCMS                                 4.297\n",
            "MonthsInMilk9:MilkingTypeCMS                                 4.996\n",
            "MonthsInMilk10:MilkingTypeCMS                                3.211\n",
            "CalvingSeasonSpring:MilkingTypeCMS                          -4.018\n",
            "CalvingSeasonSummer:MilkingTypeCMS                           1.403\n",
            "CalvingSeasonWinter:MilkingTypeCMS                          -8.038\n",
            "Parity2:MilkingTypeCMS                                       0.342\n",
            "Parity3+:MilkingTypeCMS                                     -1.327\n",
            "CalvingSeasonSpring:Parity2                                 -1.590\n",
            "CalvingSeasonSummer:Parity2                                  0.872\n",
            "CalvingSeasonWinter:Parity2                                 -7.695\n",
            "CalvingSeasonSpring:Parity3+                                -1.163\n",
            "CalvingSeasonSummer:Parity3+                                 1.535\n",
            "CalvingSeasonWinter:Parity3+                                -8.490\n",
            "MonthsInMilk0:CalvingSeasonSpring:MilkingTypeCMS             3.156\n",
            "MonthsInMilk1:CalvingSeasonSpring:MilkingTypeCMS             3.900\n",
            "MonthsInMilk2:CalvingSeasonSpring:MilkingTypeCMS             7.078\n",
            "MonthsInMilk3:CalvingSeasonSpring:MilkingTypeCMS             7.099\n",
            "MonthsInMilk4:CalvingSeasonSpring:MilkingTypeCMS             6.153\n",
            "MonthsInMilk5:CalvingSeasonSpring:MilkingTypeCMS             5.695\n",
            "MonthsInMilk6:CalvingSeasonSpring:MilkingTypeCMS             4.411\n",
            "MonthsInMilk7:CalvingSeasonSpring:MilkingTypeCMS             1.367\n",
            "MonthsInMilk8:CalvingSeasonSpring:MilkingTypeCMS            -2.189\n",
            "MonthsInMilk9:CalvingSeasonSpring:MilkingTypeCMS            -3.608\n",
            "MonthsInMilk10:CalvingSeasonSpring:MilkingTypeCMS           -2.204\n",
            "MonthsInMilk0:CalvingSeasonSummer:MilkingTypeCMS             2.285\n",
            "MonthsInMilk1:CalvingSeasonSummer:MilkingTypeCMS             0.163\n",
            "MonthsInMilk2:CalvingSeasonSummer:MilkingTypeCMS             1.450\n",
            "MonthsInMilk3:CalvingSeasonSummer:MilkingTypeCMS             1.092\n",
            "MonthsInMilk4:CalvingSeasonSummer:MilkingTypeCMS             0.046\n",
            "MonthsInMilk5:CalvingSeasonSummer:MilkingTypeCMS            -1.602\n",
            "MonthsInMilk6:CalvingSeasonSummer:MilkingTypeCMS            -3.453\n",
            "MonthsInMilk7:CalvingSeasonSummer:MilkingTypeCMS            -4.933\n",
            "MonthsInMilk8:CalvingSeasonSummer:MilkingTypeCMS            -6.705\n",
            "MonthsInMilk9:CalvingSeasonSummer:MilkingTypeCMS            -5.622\n",
            "MonthsInMilk10:CalvingSeasonSummer:MilkingTypeCMS           -2.625\n",
            "MonthsInMilk0:CalvingSeasonWinter:MilkingTypeCMS             5.449\n",
            "MonthsInMilk1:CalvingSeasonWinter:MilkingTypeCMS             4.622\n",
            "MonthsInMilk2:CalvingSeasonWinter:MilkingTypeCMS             7.000\n",
            "MonthsInMilk3:CalvingSeasonWinter:MilkingTypeCMS             8.541\n",
            "MonthsInMilk4:CalvingSeasonWinter:MilkingTypeCMS             9.756\n",
            "MonthsInMilk5:CalvingSeasonWinter:MilkingTypeCMS            11.273\n",
            "MonthsInMilk6:CalvingSeasonWinter:MilkingTypeCMS            10.013\n",
            "MonthsInMilk7:CalvingSeasonWinter:MilkingTypeCMS             8.448\n",
            "MonthsInMilk8:CalvingSeasonWinter:MilkingTypeCMS             5.704\n",
            "MonthsInMilk9:CalvingSeasonWinter:MilkingTypeCMS             3.887\n",
            "MonthsInMilk10:CalvingSeasonWinter:MilkingTypeCMS            4.090\n",
            "MonthsInMilk0:Parity2:MilkingTypeCMS                         0.421\n",
            "MonthsInMilk1:Parity2:MilkingTypeCMS                        -1.268\n",
            "MonthsInMilk2:Parity2:MilkingTypeCMS                        -0.673\n",
            "MonthsInMilk3:Parity2:MilkingTypeCMS                        -1.043\n",
            "MonthsInMilk4:Parity2:MilkingTypeCMS                        -0.880\n",
            "MonthsInMilk5:Parity2:MilkingTypeCMS                        -0.681\n",
            "MonthsInMilk6:Parity2:MilkingTypeCMS                        -0.872\n",
            "MonthsInMilk7:Parity2:MilkingTypeCMS                        -1.032\n",
            "MonthsInMilk8:Parity2:MilkingTypeCMS                        -1.193\n",
            "MonthsInMilk9:Parity2:MilkingTypeCMS                        -1.435\n",
            "MonthsInMilk10:Parity2:MilkingTypeCMS                       -0.436\n",
            "MonthsInMilk0:Parity3+:MilkingTypeCMS                        1.042\n",
            "MonthsInMilk1:Parity3+:MilkingTypeCMS                       -0.147\n",
            "MonthsInMilk2:Parity3+:MilkingTypeCMS                        0.161\n",
            "MonthsInMilk3:Parity3+:MilkingTypeCMS                        0.122\n",
            "MonthsInMilk4:Parity3+:MilkingTypeCMS                        0.585\n",
            "MonthsInMilk5:Parity3+:MilkingTypeCMS                        0.633\n",
            "MonthsInMilk6:Parity3+:MilkingTypeCMS                        0.952\n",
            "MonthsInMilk7:Parity3+:MilkingTypeCMS                        0.312\n",
            "MonthsInMilk8:Parity3+:MilkingTypeCMS                       -0.841\n",
            "MonthsInMilk9:Parity3+:MilkingTypeCMS                       -1.739\n",
            "MonthsInMilk10:Parity3+:MilkingTypeCMS                      -0.566\n",
            "MonthsInMilk0:CalvingSeasonSpring:Parity2                    1.256\n",
            "MonthsInMilk1:CalvingSeasonSpring:Parity2                   -0.317\n",
            "MonthsInMilk2:CalvingSeasonSpring:Parity2                    0.172\n",
            "MonthsInMilk3:CalvingSeasonSpring:Parity2                    0.400\n",
            "MonthsInMilk4:CalvingSeasonSpring:Parity2                    0.527\n",
            "MonthsInMilk5:CalvingSeasonSpring:Parity2                    1.242\n",
            "MonthsInMilk6:CalvingSeasonSpring:Parity2                    1.186\n",
            "MonthsInMilk7:CalvingSeasonSpring:Parity2                    1.065\n",
            "MonthsInMilk8:CalvingSeasonSpring:Parity2                    0.718\n",
            "MonthsInMilk9:CalvingSeasonSpring:Parity2                    1.486\n",
            "MonthsInMilk10:CalvingSeasonSpring:Parity2                   1.520\n",
            "MonthsInMilk0:CalvingSeasonSummer:Parity2                   -0.528\n",
            "MonthsInMilk1:CalvingSeasonSummer:Parity2                   -1.888\n",
            "MonthsInMilk2:CalvingSeasonSummer:Parity2                   -1.253\n",
            "MonthsInMilk3:CalvingSeasonSummer:Parity2                   -1.216\n",
            "MonthsInMilk4:CalvingSeasonSummer:Parity2                   -0.998\n",
            "MonthsInMilk5:CalvingSeasonSummer:Parity2                   -0.708\n",
            "MonthsInMilk6:CalvingSeasonSummer:Parity2                   -1.061\n",
            "MonthsInMilk7:CalvingSeasonSummer:Parity2                   -0.477\n",
            "MonthsInMilk8:CalvingSeasonSummer:Parity2                   -0.839\n",
            "MonthsInMilk9:CalvingSeasonSummer:Parity2                   -0.365\n",
            "MonthsInMilk10:CalvingSeasonSummer:Parity2                  -0.521\n",
            "MonthsInMilk0:CalvingSeasonWinter:Parity2                    5.675\n",
            "MonthsInMilk1:CalvingSeasonWinter:Parity2                    5.294\n",
            "MonthsInMilk2:CalvingSeasonWinter:Parity2                    6.277\n",
            "MonthsInMilk3:CalvingSeasonWinter:Parity2                    6.533\n",
            "MonthsInMilk4:CalvingSeasonWinter:Parity2                    6.405\n",
            "MonthsInMilk5:CalvingSeasonWinter:Parity2                    6.521\n",
            "MonthsInMilk6:CalvingSeasonWinter:Parity2                    6.555\n",
            "MonthsInMilk7:CalvingSeasonWinter:Parity2                    6.088\n",
            "MonthsInMilk8:CalvingSeasonWinter:Parity2                    6.231\n",
            "MonthsInMilk9:CalvingSeasonWinter:Parity2                    6.623\n",
            "MonthsInMilk10:CalvingSeasonWinter:Parity2                   6.313\n",
            "MonthsInMilk0:CalvingSeasonSpring:Parity3+                   1.741\n",
            "MonthsInMilk1:CalvingSeasonSpring:Parity3+                  -0.292\n",
            "MonthsInMilk2:CalvingSeasonSpring:Parity3+                  -0.311\n",
            "MonthsInMilk3:CalvingSeasonSpring:Parity3+                  -0.156\n",
            "MonthsInMilk4:CalvingSeasonSpring:Parity3+                  -0.160\n",
            "MonthsInMilk5:CalvingSeasonSpring:Parity3+                   0.251\n",
            "MonthsInMilk6:CalvingSeasonSpring:Parity3+                   0.859\n",
            "MonthsInMilk7:CalvingSeasonSpring:Parity3+                   0.577\n",
            "MonthsInMilk8:CalvingSeasonSpring:Parity3+                   0.308\n",
            "MonthsInMilk9:CalvingSeasonSpring:Parity3+                   0.605\n",
            "MonthsInMilk10:CalvingSeasonSpring:Parity3+                  1.291\n",
            "MonthsInMilk0:CalvingSeasonSummer:Parity3+                  -0.380\n",
            "MonthsInMilk1:CalvingSeasonSummer:Parity3+                  -2.465\n",
            "MonthsInMilk2:CalvingSeasonSummer:Parity3+                  -2.184\n",
            "MonthsInMilk3:CalvingSeasonSummer:Parity3+                  -1.747\n",
            "MonthsInMilk4:CalvingSeasonSummer:Parity3+                  -1.734\n",
            "MonthsInMilk5:CalvingSeasonSummer:Parity3+                  -1.630\n",
            "MonthsInMilk6:CalvingSeasonSummer:Parity3+                  -1.609\n",
            "MonthsInMilk7:CalvingSeasonSummer:Parity3+                  -1.423\n",
            "MonthsInMilk8:CalvingSeasonSummer:Parity3+                  -1.539\n",
            "MonthsInMilk9:CalvingSeasonSummer:Parity3+                  -1.294\n",
            "MonthsInMilk10:CalvingSeasonSummer:Parity3+                 -0.469\n",
            "MonthsInMilk0:CalvingSeasonWinter:Parity3+                   7.040\n",
            "MonthsInMilk1:CalvingSeasonWinter:Parity3+                   5.704\n",
            "MonthsInMilk2:CalvingSeasonWinter:Parity3+                   6.319\n",
            "MonthsInMilk3:CalvingSeasonWinter:Parity3+                   6.626\n",
            "MonthsInMilk4:CalvingSeasonWinter:Parity3+                   7.314\n",
            "MonthsInMilk5:CalvingSeasonWinter:Parity3+                   7.238\n",
            "MonthsInMilk6:CalvingSeasonWinter:Parity3+                   6.900\n",
            "MonthsInMilk7:CalvingSeasonWinter:Parity3+                   6.437\n",
            "MonthsInMilk8:CalvingSeasonWinter:Parity3+                   6.364\n",
            "MonthsInMilk9:CalvingSeasonWinter:Parity3+                   6.776\n",
            "MonthsInMilk10:CalvingSeasonWinter:Parity3+                  7.207\n",
            "CalvingSeasonSpring:Parity2:MilkingTypeCMS                   1.084\n",
            "CalvingSeasonSummer:Parity2:MilkingTypeCMS                  -1.017\n",
            "CalvingSeasonWinter:Parity2:MilkingTypeCMS                   3.345\n",
            "CalvingSeasonSpring:Parity3+:MilkingTypeCMS                  2.107\n",
            "CalvingSeasonSummer:Parity3+:MilkingTypeCMS                 -1.407\n",
            "CalvingSeasonWinter:Parity3+:MilkingTypeCMS                  5.984\n",
            "MonthsInMilk0:CalvingSeasonSpring:Parity2:MilkingTypeCMS    -1.179\n",
            "MonthsInMilk1:CalvingSeasonSpring:Parity2:MilkingTypeCMS     0.977\n",
            "MonthsInMilk2:CalvingSeasonSpring:Parity2:MilkingTypeCMS    -0.073\n",
            "MonthsInMilk3:CalvingSeasonSpring:Parity2:MilkingTypeCMS    -0.160\n",
            "MonthsInMilk4:CalvingSeasonSpring:Parity2:MilkingTypeCMS     0.123\n",
            "MonthsInMilk5:CalvingSeasonSpring:Parity2:MilkingTypeCMS    -0.473\n",
            "MonthsInMilk6:CalvingSeasonSpring:Parity2:MilkingTypeCMS    -0.820\n",
            "MonthsInMilk7:CalvingSeasonSpring:Parity2:MilkingTypeCMS    -0.201\n",
            "MonthsInMilk8:CalvingSeasonSpring:Parity2:MilkingTypeCMS     0.061\n",
            "MonthsInMilk9:CalvingSeasonSpring:Parity2:MilkingTypeCMS     0.104\n",
            "MonthsInMilk10:CalvingSeasonSpring:Parity2:MilkingTypeCMS   -0.703\n",
            "MonthsInMilk0:CalvingSeasonSummer:Parity2:MilkingTypeCMS    -0.667\n",
            "MonthsInMilk1:CalvingSeasonSummer:Parity2:MilkingTypeCMS     2.381\n",
            "MonthsInMilk2:CalvingSeasonSummer:Parity2:MilkingTypeCMS     1.296\n",
            "MonthsInMilk3:CalvingSeasonSummer:Parity2:MilkingTypeCMS     1.095\n",
            "MonthsInMilk4:CalvingSeasonSummer:Parity2:MilkingTypeCMS     0.831\n",
            "MonthsInMilk5:CalvingSeasonSummer:Parity2:MilkingTypeCMS     0.955\n",
            "MonthsInMilk6:CalvingSeasonSummer:Parity2:MilkingTypeCMS     1.394\n",
            "MonthsInMilk7:CalvingSeasonSummer:Parity2:MilkingTypeCMS     1.069\n",
            "MonthsInMilk8:CalvingSeasonSummer:Parity2:MilkingTypeCMS     1.185\n",
            "MonthsInMilk9:CalvingSeasonSummer:Parity2:MilkingTypeCMS     0.859\n",
            "MonthsInMilk10:CalvingSeasonSummer:Parity2:MilkingTypeCMS    0.261\n",
            "MonthsInMilk0:CalvingSeasonWinter:Parity2:MilkingTypeCMS    -3.085\n",
            "MonthsInMilk1:CalvingSeasonWinter:Parity2:MilkingTypeCMS    -2.599\n",
            "MonthsInMilk2:CalvingSeasonWinter:Parity2:MilkingTypeCMS    -3.158\n",
            "MonthsInMilk3:CalvingSeasonWinter:Parity2:MilkingTypeCMS    -3.333\n",
            "MonthsInMilk4:CalvingSeasonWinter:Parity2:MilkingTypeCMS    -2.930\n",
            "MonthsInMilk5:CalvingSeasonWinter:Parity2:MilkingTypeCMS    -3.401\n",
            "MonthsInMilk6:CalvingSeasonWinter:Parity2:MilkingTypeCMS    -3.507\n",
            "MonthsInMilk7:CalvingSeasonWinter:Parity2:MilkingTypeCMS    -3.048\n",
            "MonthsInMilk8:CalvingSeasonWinter:Parity2:MilkingTypeCMS    -2.678\n",
            "MonthsInMilk9:CalvingSeasonWinter:Parity2:MilkingTypeCMS    -2.545\n",
            "MonthsInMilk10:CalvingSeasonWinter:Parity2:MilkingTypeCMS   -3.052\n",
            "MonthsInMilk0:CalvingSeasonSpring:Parity3+:MilkingTypeCMS   -2.043\n",
            "MonthsInMilk1:CalvingSeasonSpring:Parity3+:MilkingTypeCMS   -0.649\n",
            "MonthsInMilk2:CalvingSeasonSpring:Parity3+:MilkingTypeCMS   -1.532\n",
            "MonthsInMilk3:CalvingSeasonSpring:Parity3+:MilkingTypeCMS   -1.407\n",
            "MonthsInMilk4:CalvingSeasonSpring:Parity3+:MilkingTypeCMS   -0.838\n",
            "MonthsInMilk5:CalvingSeasonSpring:Parity3+:MilkingTypeCMS   -1.297\n",
            "MonthsInMilk6:CalvingSeasonSpring:Parity3+:MilkingTypeCMS   -2.167\n",
            "MonthsInMilk7:CalvingSeasonSpring:Parity3+:MilkingTypeCMS   -0.925\n",
            "MonthsInMilk8:CalvingSeasonSpring:Parity3+:MilkingTypeCMS   -0.045\n",
            "MonthsInMilk9:CalvingSeasonSpring:Parity3+:MilkingTypeCMS    0.868\n",
            "MonthsInMilk10:CalvingSeasonSpring:Parity3+:MilkingTypeCMS  -0.493\n",
            "MonthsInMilk0:CalvingSeasonSummer:Parity3+:MilkingTypeCMS   -1.152\n",
            "MonthsInMilk1:CalvingSeasonSummer:Parity3+:MilkingTypeCMS    2.477\n",
            "MonthsInMilk2:CalvingSeasonSummer:Parity3+:MilkingTypeCMS    1.533\n",
            "MonthsInMilk3:CalvingSeasonSummer:Parity3+:MilkingTypeCMS    1.121\n",
            "MonthsInMilk4:CalvingSeasonSummer:Parity3+:MilkingTypeCMS    1.245\n",
            "MonthsInMilk5:CalvingSeasonSummer:Parity3+:MilkingTypeCMS    1.399\n",
            "MonthsInMilk6:CalvingSeasonSummer:Parity3+:MilkingTypeCMS    1.343\n",
            "MonthsInMilk7:CalvingSeasonSummer:Parity3+:MilkingTypeCMS    1.513\n",
            "MonthsInMilk8:CalvingSeasonSummer:Parity3+:MilkingTypeCMS    2.303\n",
            "MonthsInMilk9:CalvingSeasonSummer:Parity3+:MilkingTypeCMS    2.574\n",
            "MonthsInMilk10:CalvingSeasonSummer:Parity3+:MilkingTypeCMS   1.415\n",
            "MonthsInMilk0:CalvingSeasonWinter:Parity3+:MilkingTypeCMS   -4.941\n",
            "MonthsInMilk1:CalvingSeasonWinter:Parity3+:MilkingTypeCMS   -3.974\n",
            "MonthsInMilk2:CalvingSeasonWinter:Parity3+:MilkingTypeCMS   -4.739\n",
            "MonthsInMilk3:CalvingSeasonWinter:Parity3+:MilkingTypeCMS   -5.158\n",
            "MonthsInMilk4:CalvingSeasonWinter:Parity3+:MilkingTypeCMS   -5.137\n",
            "MonthsInMilk5:CalvingSeasonWinter:Parity3+:MilkingTypeCMS   -5.666\n",
            "MonthsInMilk6:CalvingSeasonWinter:Parity3+:MilkingTypeCMS   -5.797\n",
            "MonthsInMilk7:CalvingSeasonWinter:Parity3+:MilkingTypeCMS   -5.486\n",
            "MonthsInMilk8:CalvingSeasonWinter:Parity3+:MilkingTypeCMS   -4.442\n",
            "MonthsInMilk9:CalvingSeasonWinter:Parity3+:MilkingTypeCMS   -3.610\n",
            "MonthsInMilk10:CalvingSeasonWinter:Parity3+:MilkingTypeCMS  -4.318\n"
          ],
          "name": "stdout"
        },
        {
          "output_type": "stream",
          "text": [
            "R[write to console]: \n",
            "Correlation matrix not shown by default, as p = 288 > 12.\n",
            "Use print(object, correlation=TRUE)  or\n",
            "    vcov(object)        if you need it\n",
            "\n",
            "\n"
          ],
          "name": "stderr"
        }
      ]
    },
    {
      "cell_type": "code",
      "metadata": {
        "colab": {
          "base_uri": "https://localhost:8080/"
        },
        "id": "ZAQsHXTHyLpH",
        "outputId": "a92c7075-8288-4899-d3f1-c1d000c3ee12"
      },
      "source": [
        "%%R\n",
        "finalModel <- Model2.5\n",
        "Modeldrop <- drop1(finalModel, test=\"Chisq\")\n",
        "if(\"Pr(>F)\" %in% colnames(Modeldrop))\n",
        "{\n",
        "  Pvalues <- Modeldrop$`Pr(>F)`\n",
        "} else \n",
        "{\n",
        "  Pvalues <- Modeldrop$`Pr(Chi)`\n",
        "}\n",
        "Modeldrop"
      ],
      "execution_count": null,
      "outputs": [
        {
          "output_type": "stream",
          "text": [
            "Single term deletions\n",
            "\n",
            "Model:\n",
            "SensorValue ~ MonthsInMilk * CalvingSeason + MonthsInMilk * Parity + \n",
            "    MonthsInMilk * MilkingType + MonthsInMilk * MilkingType * \n",
            "    CalvingSeason + (1 | HerdIdentifier:AnimalIdentifier)\n",
            "                                       npar    AIC     LRT   Pr(Chi)    \n",
            "<none>                                      460320                      \n",
            "MonthsInMilk:Parity                      22 460817  540.31 < 2.2e-16 ***\n",
            "MonthsInMilk:CalvingSeason:MilkingType   33 463003 2748.63 < 2.2e-16 ***\n",
            "---\n",
            "Signif. codes:  0 ‘***’ 0.001 ‘**’ 0.01 ‘*’ 0.05 ‘.’ 0.1 ‘ ’ 1\n"
          ],
          "name": "stdout"
        }
      ]
    },
    {
      "cell_type": "code",
      "metadata": {
        "colab": {
          "base_uri": "https://localhost:8080/"
        },
        "id": "rkiNurVm1Cum",
        "outputId": "22eaf87a-5486-42a9-d52a-d2823cfcb451"
      },
      "source": [
        "%%R\n",
        "finalModel <- Model2.6\n",
        "Modeldrop <- drop1(finalModel, test=\"Chisq\")\n",
        "if(\"Pr(>F)\" %in% colnames(Modeldrop))\n",
        "{\n",
        "  Pvalues <- Modeldrop$`Pr(>F)`\n",
        "} else \n",
        "{\n",
        "  Pvalues <- Modeldrop$`Pr(Chi)`\n",
        "}\n",
        "Modeldrop"
      ],
      "execution_count": null,
      "outputs": [
        {
          "output_type": "stream",
          "text": [
            "Single term deletions\n",
            "\n",
            "Model:\n",
            "SensorValue ~ MonthsInMilk * CalvingSeason + MonthsInMilk * Parity + \n",
            "    MonthsInMilk * MilkingType + MonthsInMilk * MilkingType * \n",
            "    CalvingSeason + MonthsInMilk * Parity * MilkingType * CalvingSeason + \n",
            "    (1 | HerdIdentifier:AnimalIdentifier)\n",
            "                                              npar    AIC    LRT   Pr(Chi)    \n",
            "<none>                                             460155                     \n",
            "MonthsInMilk:CalvingSeason:Parity:MilkingType   66 460154 131.79 2.771e-06 ***\n",
            "---\n",
            "Signif. codes:  0 ‘***’ 0.001 ‘**’ 0.01 ‘*’ 0.05 ‘.’ 0.1 ‘ ’ 1\n"
          ],
          "name": "stdout"
        }
      ]
    },
    {
      "cell_type": "code",
      "metadata": {
        "id": "r7c9P6wtE9i6"
      },
      "source": [
        "%%R\n",
        "save(finalModel, file=\"/content/drive/Shareddrives/Bovi-Analytics/Projects/SenseOfSensors/CsvData/SensorAggRepartitioned08032021/finalmodelwalkingtime.rdata\")"
      ],
      "execution_count": null,
      "outputs": []
    },
    {
      "cell_type": "markdown",
      "metadata": {
        "id": "OoXr394IFEDa"
      },
      "source": [
        "# Final model analysis of variance"
      ]
    },
    {
      "cell_type": "code",
      "metadata": {
        "id": "1WOgSlvoFHj5",
        "colab": {
          "base_uri": "https://localhost:8080/"
        },
        "outputId": "2b9cf1fe-1b8e-446e-b66f-43ececc60b44"
      },
      "source": [
        "%%R\n",
        "Anova(finalModel)"
      ],
      "execution_count": null,
      "outputs": [
        {
          "output_type": "stream",
          "text": [
            "Analysis of Deviance Table (Type II Wald chisquare tests)\n",
            "\n",
            "Response: SensorValue\n",
            "                                                  Chisq Df Pr(>Chisq)    \n",
            "MonthsInMilk                                   1896.796 11  < 2.2e-16 ***\n",
            "CalvingSeason                                    20.091  3  0.0001626 ***\n",
            "Parity                                         2457.135  2  < 2.2e-16 ***\n",
            "MilkingType                                     736.557  1  < 2.2e-16 ***\n",
            "MonthsInMilk:CalvingSeason                    13004.903 33  < 2.2e-16 ***\n",
            "MonthsInMilk:Parity                             535.732 22  < 2.2e-16 ***\n",
            "MonthsInMilk:MilkingType                         90.732 11  1.198e-14 ***\n",
            "CalvingSeason:MilkingType                        10.969  3  0.0118975 *  \n",
            "Parity:MilkingType                               29.093  2  4.813e-07 ***\n",
            "CalvingSeason:Parity                             17.230  6  0.0084748 ** \n",
            "MonthsInMilk:CalvingSeason:MilkingType         2776.306 33  < 2.2e-16 ***\n",
            "MonthsInMilk:Parity:MilkingType                  31.946 22  0.0783151 .  \n",
            "MonthsInMilk:CalvingSeason:Parity               280.147 66  < 2.2e-16 ***\n",
            "CalvingSeason:Parity:MilkingType                 20.551  6  0.0022082 ** \n",
            "MonthsInMilk:CalvingSeason:Parity:MilkingType   131.958 66  2.654e-06 ***\n",
            "---\n",
            "Signif. codes:  0 ‘***’ 0.001 ‘**’ 0.01 ‘*’ 0.05 ‘.’ 0.1 ‘ ’ 1\n"
          ],
          "name": "stdout"
        }
      ]
    },
    {
      "cell_type": "markdown",
      "metadata": {
        "id": "0cXgutKnFLW8"
      },
      "source": [
        "# Final model figures and LSM (95% CI)"
      ]
    },
    {
      "cell_type": "markdown",
      "metadata": {
        "id": "aWFcoopSFPbN"
      },
      "source": [
        "## Main effects"
      ]
    },
    {
      "cell_type": "code",
      "metadata": {
        "id": "ekbZYRK_FRcM",
        "colab": {
          "base_uri": "https://localhost:8080/"
        },
        "outputId": "ba0ee282-04b1-4933-b766-c56052c3b171"
      },
      "source": [
        "%%R\n",
        "multcomp::cld(lsmeans::lsmeans(finalModel, ~ MonthsInMilk), alpha=0.05, Letters=letters, adjust=\"tukey\")"
      ],
      "execution_count": null,
      "outputs": [
        {
          "output_type": "stream",
          "text": [
            "R[write to console]: Note: D.f. calculations have been disabled because the number of observations exceeds 3000.\n",
            "To enable adjustments, add the argument 'pbkrtest.limit = 54073' (or larger)\n",
            "[or, globally, 'set emm_options(pbkrtest.limit = 54073)' or larger];\n",
            "but be warned that this may result in large computation time and memory use.\n",
            "\n",
            "R[write to console]: Note: D.f. calculations have been disabled because the number of observations exceeds 3000.\n",
            "To enable adjustments, add the argument 'lmerTest.limit = 54073' (or larger)\n",
            "[or, globally, 'set emm_options(lmerTest.limit = 54073)' or larger];\n",
            "but be warned that this may result in large computation time and memory use.\n",
            "\n",
            "R[write to console]: NOTE: Results may be misleading due to involvement in interactions\n",
            "\n",
            "R[write to console]: Note: adjust = \"tukey\" was changed to \"sidak\"\n",
            "because \"tukey\" is only appropriate for one set of pairwise comparisons\n",
            "\n"
          ],
          "name": "stderr"
        },
        {
          "output_type": "stream",
          "text": [
            " MonthsInMilk lsmean    SE  df asymp.LCL asymp.UCL .group    \n",
            " -1             35.2 0.407 Inf      34.1      36.4  a        \n",
            " 10             38.6 0.373 Inf      37.6      39.7   b       \n",
            " 0              39.1 0.373 Inf      38.1      40.2   bc      \n",
            " 9              39.5 0.375 Inf      38.4      40.6   bcd     \n",
            " 7              40.2 0.379 Inf      39.1      41.3    cde    \n",
            " 8              40.5 0.378 Inf      39.4      41.6     de    \n",
            " 6              40.9 0.380 Inf      39.8      42.0      ef   \n",
            " 5              42.0 0.387 Inf      40.9      43.1       f   \n",
            " 4              42.2 0.385 Inf      41.1      43.3       fg  \n",
            " 3              43.5 0.387 Inf      42.4      44.6        g  \n",
            " 2              46.0 0.386 Inf      44.9      47.1         h \n",
            " 1              49.2 0.395 Inf      48.0      50.3          i\n",
            "\n",
            "Results are averaged over the levels of: CalvingSeason, Parity, MilkingType \n",
            "Degrees-of-freedom method: asymptotic \n",
            "Confidence level used: 0.95 \n",
            "Conf-level adjustment: sidak method for 12 estimates \n",
            "P value adjustment: tukey method for comparing a family of 12 estimates \n",
            "significance level used: alpha = 0.05 \n"
          ],
          "name": "stdout"
        }
      ]
    },
    {
      "cell_type": "code",
      "metadata": {
        "id": "iK1KuKkdFWqf",
        "colab": {
          "base_uri": "https://localhost:8080/"
        },
        "outputId": "57b23688-8061-4ca6-972c-b6a820d04e79"
      },
      "source": [
        "%%R\n",
        "multcomp::cld(lsmeans::lsmeans(finalModel, ~ Parity), alpha=0.05, Letters=letters, adjust=\"tukey\")"
      ],
      "execution_count": null,
      "outputs": [
        {
          "output_type": "stream",
          "text": [
            "R[write to console]: Note: D.f. calculations have been disabled because the number of observations exceeds 3000.\n",
            "To enable adjustments, add the argument 'pbkrtest.limit = 54073' (or larger)\n",
            "[or, globally, 'set emm_options(pbkrtest.limit = 54073)' or larger];\n",
            "but be warned that this may result in large computation time and memory use.\n",
            "\n",
            "R[write to console]: Note: D.f. calculations have been disabled because the number of observations exceeds 3000.\n",
            "To enable adjustments, add the argument 'lmerTest.limit = 54073' (or larger)\n",
            "[or, globally, 'set emm_options(lmerTest.limit = 54073)' or larger];\n",
            "but be warned that this may result in large computation time and memory use.\n",
            "\n",
            "R[write to console]: NOTE: Results may be misleading due to involvement in interactions\n",
            "\n",
            "R[write to console]: Note: adjust = \"tukey\" was changed to \"sidak\"\n",
            "because \"tukey\" is only appropriate for one set of pairwise comparisons\n",
            "\n"
          ],
          "name": "stderr"
        },
        {
          "output_type": "stream",
          "text": [
            " Parity lsmean    SE  df asymp.LCL asymp.UCL .group\n",
            " 3+       36.6 0.274 Inf      35.9      37.2  a    \n",
            " 2        40.6 0.290 Inf      39.9      41.3   b   \n",
            " 1        47.0 0.306 Inf      46.3      47.8    c  \n",
            "\n",
            "Results are averaged over the levels of: MonthsInMilk, CalvingSeason, MilkingType \n",
            "Degrees-of-freedom method: asymptotic \n",
            "Confidence level used: 0.95 \n",
            "Conf-level adjustment: sidak method for 3 estimates \n",
            "P value adjustment: tukey method for comparing a family of 3 estimates \n",
            "significance level used: alpha = 0.05 \n"
          ],
          "name": "stdout"
        }
      ]
    },
    {
      "cell_type": "code",
      "metadata": {
        "id": "HUx8xOEKFZWL",
        "colab": {
          "base_uri": "https://localhost:8080/"
        },
        "outputId": "25864341-a441-4597-e7bd-5cb32b83378a"
      },
      "source": [
        "%%R\n",
        "multcomp::cld(lsmeans::lsmeans(finalModel, ~ CalvingSeason), alpha=0.05, Letters=letters, adjust=\"tukey\")"
      ],
      "execution_count": null,
      "outputs": [
        {
          "output_type": "stream",
          "text": [
            "R[write to console]: Note: D.f. calculations have been disabled because the number of observations exceeds 3000.\n",
            "To enable adjustments, add the argument 'pbkrtest.limit = 54073' (or larger)\n",
            "[or, globally, 'set emm_options(pbkrtest.limit = 54073)' or larger];\n",
            "but be warned that this may result in large computation time and memory use.\n",
            "\n",
            "R[write to console]: Note: D.f. calculations have been disabled because the number of observations exceeds 3000.\n",
            "To enable adjustments, add the argument 'lmerTest.limit = 54073' (or larger)\n",
            "[or, globally, 'set emm_options(lmerTest.limit = 54073)' or larger];\n",
            "but be warned that this may result in large computation time and memory use.\n",
            "\n",
            "R[write to console]: NOTE: Results may be misleading due to involvement in interactions\n",
            "\n",
            "R[write to console]: Note: adjust = \"tukey\" was changed to \"sidak\"\n",
            "because \"tukey\" is only appropriate for one set of pairwise comparisons\n",
            "\n"
          ],
          "name": "stderr"
        },
        {
          "output_type": "stream",
          "text": [
            " CalvingSeason lsmean    SE  df asymp.LCL asymp.UCL .group\n",
            " Summer          40.6 0.312 Inf      39.8      41.4  a    \n",
            " Spring          41.0 0.339 Inf      40.2      41.9  ab   \n",
            " Autumn          41.9 0.317 Inf      41.1      42.6   bc  \n",
            " Winter          42.2 0.348 Inf      41.3      43.0    c  \n",
            "\n",
            "Results are averaged over the levels of: MonthsInMilk, Parity, MilkingType \n",
            "Degrees-of-freedom method: asymptotic \n",
            "Confidence level used: 0.95 \n",
            "Conf-level adjustment: sidak method for 4 estimates \n",
            "P value adjustment: tukey method for comparing a family of 4 estimates \n",
            "significance level used: alpha = 0.05 \n"
          ],
          "name": "stdout"
        }
      ]
    },
    {
      "cell_type": "code",
      "metadata": {
        "id": "4L43TJhKFcGo",
        "colab": {
          "base_uri": "https://localhost:8080/"
        },
        "outputId": "1cf6159d-e0e4-4a63-d7ec-01098424b418"
      },
      "source": [
        "%%R\n",
        "multcomp::cld(lsmeans::lsmeans(finalModel, ~ MilkingType), alpha=0.05, Letters=letters, adjust=\"tukey\")"
      ],
      "execution_count": null,
      "outputs": [
        {
          "output_type": "stream",
          "text": [
            "R[write to console]: Note: D.f. calculations have been disabled because the number of observations exceeds 3000.\n",
            "To enable adjustments, add the argument 'pbkrtest.limit = 54073' (or larger)\n",
            "[or, globally, 'set emm_options(pbkrtest.limit = 54073)' or larger];\n",
            "but be warned that this may result in large computation time and memory use.\n",
            "\n",
            "R[write to console]: Note: D.f. calculations have been disabled because the number of observations exceeds 3000.\n",
            "To enable adjustments, add the argument 'lmerTest.limit = 54073' (or larger)\n",
            "[or, globally, 'set emm_options(lmerTest.limit = 54073)' or larger];\n",
            "but be warned that this may result in large computation time and memory use.\n",
            "\n",
            "R[write to console]: NOTE: Results may be misleading due to involvement in interactions\n",
            "\n",
            "R[write to console]: Note: adjust = \"tukey\" was changed to \"sidak\"\n",
            "because \"tukey\" is only appropriate for one set of pairwise comparisons\n",
            "\n"
          ],
          "name": "stderr"
        },
        {
          "output_type": "stream",
          "text": [
            " MilkingType lsmean    SE  df asymp.LCL asymp.UCL .group\n",
            " AMS           34.1 0.423 Inf      33.1      35.0  a    \n",
            " CMS           48.7 0.280 Inf      48.1      49.4   b   \n",
            "\n",
            "Results are averaged over the levels of: MonthsInMilk, CalvingSeason, Parity \n",
            "Degrees-of-freedom method: asymptotic \n",
            "Confidence level used: 0.95 \n",
            "Conf-level adjustment: sidak method for 2 estimates \n",
            "significance level used: alpha = 0.05 \n"
          ],
          "name": "stdout"
        }
      ]
    },
    {
      "cell_type": "markdown",
      "metadata": {
        "id": "D29ZdDO4wdXf"
      },
      "source": [
        "### nieuwe multcomp milkingtype calving season"
      ]
    },
    {
      "cell_type": "code",
      "metadata": {
        "colab": {
          "base_uri": "https://localhost:8080/",
          "height": 732
        },
        "id": "obW3ZzdpvZp4",
        "outputId": "d92823e2-7f14-46d5-83b1-c72ca261b5b3"
      },
      "source": [
        "%%R\n",
        "multcomp::cld(lsmeans::lsmeans(finalModel, ~ MilkingType, ~ CalvingSeason), alpha=0.05, Letters=letters, adjust=\"tukey\")"
      ],
      "execution_count": null,
      "outputs": [
        {
          "output_type": "stream",
          "text": [
            "R[write to console]: Note: D.f. calculations have been disabled because the number of observations exceeds 3000.\n",
            "To enable adjustments, add the argument 'pbkrtest.limit = 54073' (or larger)\n",
            "[or, globally, 'set emm_options(pbkrtest.limit = 54073)' or larger];\n",
            "but be warned that this may result in large computation time and memory use.\n",
            "\n",
            "R[write to console]: Note: D.f. calculations have been disabled because the number of observations exceeds 3000.\n",
            "To enable adjustments, add the argument 'lmerTest.limit = 54073' (or larger)\n",
            "[or, globally, 'set emm_options(lmerTest.limit = 54073)' or larger];\n",
            "but be warned that this may result in large computation time and memory use.\n",
            "\n",
            "R[write to console]: Error in RG@levels[[f]] : invalid subscript type 'language'\n",
            "\n"
          ],
          "name": "stderr"
        },
        {
          "output_type": "stream",
          "text": [
            "\n",
            "Error in RG@levels[[f]] : invalid subscript type 'language'\n"
          ],
          "name": "stdout"
        },
        {
          "output_type": "error",
          "ename": "RInterpreterError",
          "evalue": "ignored",
          "traceback": [
            "\u001b[0;31m---------------------------------------------------------------------------\u001b[0m",
            "\u001b[0;31mRRuntimeError\u001b[0m                             Traceback (most recent call last)",
            "\u001b[0;32m/usr/local/lib/python3.7/dist-packages/rpy2/ipython/rmagic.py\u001b[0m in \u001b[0;36meval\u001b[0;34m(self, code)\u001b[0m\n\u001b[1;32m    267\u001b[0m                 \u001b[0;31m# Need the newline in case the last line in code is a comment.\u001b[0m\u001b[0;34m\u001b[0m\u001b[0;34m\u001b[0m\u001b[0;34m\u001b[0m\u001b[0m\n\u001b[0;32m--> 268\u001b[0;31m                 \u001b[0mvalue\u001b[0m\u001b[0;34m,\u001b[0m \u001b[0mvisible\u001b[0m \u001b[0;34m=\u001b[0m \u001b[0mro\u001b[0m\u001b[0;34m.\u001b[0m\u001b[0mr\u001b[0m\u001b[0;34m(\u001b[0m\u001b[0;34m\"withVisible({%s\\n})\"\u001b[0m \u001b[0;34m%\u001b[0m \u001b[0mcode\u001b[0m\u001b[0;34m)\u001b[0m\u001b[0;34m\u001b[0m\u001b[0;34m\u001b[0m\u001b[0m\n\u001b[0m\u001b[1;32m    269\u001b[0m             \u001b[0;32mexcept\u001b[0m \u001b[0;34m(\u001b[0m\u001b[0mri\u001b[0m\u001b[0;34m.\u001b[0m\u001b[0membedded\u001b[0m\u001b[0;34m.\u001b[0m\u001b[0mRRuntimeError\u001b[0m\u001b[0;34m,\u001b[0m \u001b[0mValueError\u001b[0m\u001b[0;34m)\u001b[0m \u001b[0;32mas\u001b[0m \u001b[0mexception\u001b[0m\u001b[0;34m:\u001b[0m\u001b[0;34m\u001b[0m\u001b[0;34m\u001b[0m\u001b[0m\n",
            "\u001b[0;32m/usr/local/lib/python3.7/dist-packages/rpy2/robjects/__init__.py\u001b[0m in \u001b[0;36m__call__\u001b[0;34m(self, string)\u001b[0m\n\u001b[1;32m    437\u001b[0m         \u001b[0mp\u001b[0m \u001b[0;34m=\u001b[0m \u001b[0mrinterface\u001b[0m\u001b[0;34m.\u001b[0m\u001b[0mparse\u001b[0m\u001b[0;34m(\u001b[0m\u001b[0mstring\u001b[0m\u001b[0;34m)\u001b[0m\u001b[0;34m\u001b[0m\u001b[0;34m\u001b[0m\u001b[0m\n\u001b[0;32m--> 438\u001b[0;31m         \u001b[0mres\u001b[0m \u001b[0;34m=\u001b[0m \u001b[0mself\u001b[0m\u001b[0;34m.\u001b[0m\u001b[0meval\u001b[0m\u001b[0;34m(\u001b[0m\u001b[0mp\u001b[0m\u001b[0;34m)\u001b[0m\u001b[0;34m\u001b[0m\u001b[0;34m\u001b[0m\u001b[0m\n\u001b[0m\u001b[1;32m    439\u001b[0m         \u001b[0;32mreturn\u001b[0m \u001b[0mconversion\u001b[0m\u001b[0;34m.\u001b[0m\u001b[0mrpy2py\u001b[0m\u001b[0;34m(\u001b[0m\u001b[0mres\u001b[0m\u001b[0;34m)\u001b[0m\u001b[0;34m\u001b[0m\u001b[0;34m\u001b[0m\u001b[0m\n",
            "\u001b[0;32m/usr/local/lib/python3.7/dist-packages/rpy2/robjects/functions.py\u001b[0m in \u001b[0;36m__call__\u001b[0;34m(self, *args, **kwargs)\u001b[0m\n\u001b[1;32m    198\u001b[0m         return (super(SignatureTranslatedFunction, self)\n\u001b[0;32m--> 199\u001b[0;31m                 .__call__(*args, **kwargs))\n\u001b[0m\u001b[1;32m    200\u001b[0m \u001b[0;34m\u001b[0m\u001b[0m\n",
            "\u001b[0;32m/usr/local/lib/python3.7/dist-packages/rpy2/robjects/functions.py\u001b[0m in \u001b[0;36m__call__\u001b[0;34m(self, *args, **kwargs)\u001b[0m\n\u001b[1;32m    124\u001b[0m                 \u001b[0mnew_kwargs\u001b[0m\u001b[0;34m[\u001b[0m\u001b[0mk\u001b[0m\u001b[0;34m]\u001b[0m \u001b[0;34m=\u001b[0m \u001b[0mconversion\u001b[0m\u001b[0;34m.\u001b[0m\u001b[0mpy2rpy\u001b[0m\u001b[0;34m(\u001b[0m\u001b[0mv\u001b[0m\u001b[0;34m)\u001b[0m\u001b[0;34m\u001b[0m\u001b[0;34m\u001b[0m\u001b[0m\n\u001b[0;32m--> 125\u001b[0;31m         \u001b[0mres\u001b[0m \u001b[0;34m=\u001b[0m \u001b[0msuper\u001b[0m\u001b[0;34m(\u001b[0m\u001b[0mFunction\u001b[0m\u001b[0;34m,\u001b[0m \u001b[0mself\u001b[0m\u001b[0;34m)\u001b[0m\u001b[0;34m.\u001b[0m\u001b[0m__call__\u001b[0m\u001b[0;34m(\u001b[0m\u001b[0;34m*\u001b[0m\u001b[0mnew_args\u001b[0m\u001b[0;34m,\u001b[0m \u001b[0;34m**\u001b[0m\u001b[0mnew_kwargs\u001b[0m\u001b[0;34m)\u001b[0m\u001b[0;34m\u001b[0m\u001b[0;34m\u001b[0m\u001b[0m\n\u001b[0m\u001b[1;32m    126\u001b[0m         \u001b[0mres\u001b[0m \u001b[0;34m=\u001b[0m \u001b[0mconversion\u001b[0m\u001b[0;34m.\u001b[0m\u001b[0mrpy2py\u001b[0m\u001b[0;34m(\u001b[0m\u001b[0mres\u001b[0m\u001b[0;34m)\u001b[0m\u001b[0;34m\u001b[0m\u001b[0;34m\u001b[0m\u001b[0m\n",
            "\u001b[0;32m/usr/local/lib/python3.7/dist-packages/rpy2/rinterface_lib/conversion.py\u001b[0m in \u001b[0;36m_\u001b[0;34m(*args, **kwargs)\u001b[0m\n\u001b[1;32m     44\u001b[0m     \u001b[0;32mdef\u001b[0m \u001b[0m_\u001b[0m\u001b[0;34m(\u001b[0m\u001b[0;34m*\u001b[0m\u001b[0margs\u001b[0m\u001b[0;34m,\u001b[0m \u001b[0;34m**\u001b[0m\u001b[0mkwargs\u001b[0m\u001b[0;34m)\u001b[0m\u001b[0;34m:\u001b[0m\u001b[0;34m\u001b[0m\u001b[0;34m\u001b[0m\u001b[0m\n\u001b[0;32m---> 45\u001b[0;31m         \u001b[0mcdata\u001b[0m \u001b[0;34m=\u001b[0m \u001b[0mfunction\u001b[0m\u001b[0;34m(\u001b[0m\u001b[0;34m*\u001b[0m\u001b[0margs\u001b[0m\u001b[0;34m,\u001b[0m \u001b[0;34m**\u001b[0m\u001b[0mkwargs\u001b[0m\u001b[0;34m)\u001b[0m\u001b[0;34m\u001b[0m\u001b[0;34m\u001b[0m\u001b[0m\n\u001b[0m\u001b[1;32m     46\u001b[0m         \u001b[0;31m# TODO: test cdata is of the expected CType\u001b[0m\u001b[0;34m\u001b[0m\u001b[0;34m\u001b[0m\u001b[0;34m\u001b[0m\u001b[0m\n",
            "\u001b[0;32m/usr/local/lib/python3.7/dist-packages/rpy2/rinterface.py\u001b[0m in \u001b[0;36m__call__\u001b[0;34m(self, *args, **kwargs)\u001b[0m\n\u001b[1;32m    679\u001b[0m             \u001b[0;32mif\u001b[0m \u001b[0merror_occured\u001b[0m\u001b[0;34m[\u001b[0m\u001b[0;36m0\u001b[0m\u001b[0;34m]\u001b[0m\u001b[0;34m:\u001b[0m\u001b[0;34m\u001b[0m\u001b[0;34m\u001b[0m\u001b[0m\n\u001b[0;32m--> 680\u001b[0;31m                 \u001b[0;32mraise\u001b[0m \u001b[0membedded\u001b[0m\u001b[0;34m.\u001b[0m\u001b[0mRRuntimeError\u001b[0m\u001b[0;34m(\u001b[0m\u001b[0m_rinterface\u001b[0m\u001b[0;34m.\u001b[0m\u001b[0m_geterrmessage\u001b[0m\u001b[0;34m(\u001b[0m\u001b[0;34m)\u001b[0m\u001b[0;34m)\u001b[0m\u001b[0;34m\u001b[0m\u001b[0;34m\u001b[0m\u001b[0m\n\u001b[0m\u001b[1;32m    681\u001b[0m         \u001b[0;32mreturn\u001b[0m \u001b[0mres\u001b[0m\u001b[0;34m\u001b[0m\u001b[0;34m\u001b[0m\u001b[0m\n",
            "\u001b[0;31mRRuntimeError\u001b[0m: Error in RG@levels[[f]] : invalid subscript type 'language'\n",
            "\nDuring handling of the above exception, another exception occurred:\n",
            "\u001b[0;31mRInterpreterError\u001b[0m                         Traceback (most recent call last)",
            "\u001b[0;32m<ipython-input-32-50cca26a48d1>\u001b[0m in \u001b[0;36m<module>\u001b[0;34m()\u001b[0m\n\u001b[0;32m----> 1\u001b[0;31m \u001b[0mget_ipython\u001b[0m\u001b[0;34m(\u001b[0m\u001b[0;34m)\u001b[0m\u001b[0;34m.\u001b[0m\u001b[0mrun_cell_magic\u001b[0m\u001b[0;34m(\u001b[0m\u001b[0;34m'R'\u001b[0m\u001b[0;34m,\u001b[0m \u001b[0;34m''\u001b[0m\u001b[0;34m,\u001b[0m \u001b[0;34m'multcomp::cld(lsmeans::lsmeans(finalModel, ~ MilkingType, ~ CalvingSeason), alpha=0.05, Letters=letters, adjust=\"tukey\")'\u001b[0m\u001b[0;34m)\u001b[0m\u001b[0;34m\u001b[0m\u001b[0;34m\u001b[0m\u001b[0m\n\u001b[0m",
            "\u001b[0;32m/usr/local/lib/python3.7/dist-packages/IPython/core/interactiveshell.py\u001b[0m in \u001b[0;36mrun_cell_magic\u001b[0;34m(self, magic_name, line, cell)\u001b[0m\n\u001b[1;32m   2115\u001b[0m             \u001b[0mmagic_arg_s\u001b[0m \u001b[0;34m=\u001b[0m \u001b[0mself\u001b[0m\u001b[0;34m.\u001b[0m\u001b[0mvar_expand\u001b[0m\u001b[0;34m(\u001b[0m\u001b[0mline\u001b[0m\u001b[0;34m,\u001b[0m \u001b[0mstack_depth\u001b[0m\u001b[0;34m)\u001b[0m\u001b[0;34m\u001b[0m\u001b[0;34m\u001b[0m\u001b[0m\n\u001b[1;32m   2116\u001b[0m             \u001b[0;32mwith\u001b[0m \u001b[0mself\u001b[0m\u001b[0;34m.\u001b[0m\u001b[0mbuiltin_trap\u001b[0m\u001b[0;34m:\u001b[0m\u001b[0;34m\u001b[0m\u001b[0;34m\u001b[0m\u001b[0m\n\u001b[0;32m-> 2117\u001b[0;31m                 \u001b[0mresult\u001b[0m \u001b[0;34m=\u001b[0m \u001b[0mfn\u001b[0m\u001b[0;34m(\u001b[0m\u001b[0mmagic_arg_s\u001b[0m\u001b[0;34m,\u001b[0m \u001b[0mcell\u001b[0m\u001b[0;34m)\u001b[0m\u001b[0;34m\u001b[0m\u001b[0;34m\u001b[0m\u001b[0m\n\u001b[0m\u001b[1;32m   2118\u001b[0m             \u001b[0;32mreturn\u001b[0m \u001b[0mresult\u001b[0m\u001b[0;34m\u001b[0m\u001b[0;34m\u001b[0m\u001b[0m\n\u001b[1;32m   2119\u001b[0m \u001b[0;34m\u001b[0m\u001b[0m\n",
            "\u001b[0;32m<decorator-gen-119>\u001b[0m in \u001b[0;36mR\u001b[0;34m(self, line, cell, local_ns)\u001b[0m\n",
            "\u001b[0;32m/usr/local/lib/python3.7/dist-packages/IPython/core/magic.py\u001b[0m in \u001b[0;36m<lambda>\u001b[0;34m(f, *a, **k)\u001b[0m\n\u001b[1;32m    186\u001b[0m     \u001b[0;31m# but it's overkill for just that one bit of state.\u001b[0m\u001b[0;34m\u001b[0m\u001b[0;34m\u001b[0m\u001b[0;34m\u001b[0m\u001b[0m\n\u001b[1;32m    187\u001b[0m     \u001b[0;32mdef\u001b[0m \u001b[0mmagic_deco\u001b[0m\u001b[0;34m(\u001b[0m\u001b[0marg\u001b[0m\u001b[0;34m)\u001b[0m\u001b[0;34m:\u001b[0m\u001b[0;34m\u001b[0m\u001b[0;34m\u001b[0m\u001b[0m\n\u001b[0;32m--> 188\u001b[0;31m         \u001b[0mcall\u001b[0m \u001b[0;34m=\u001b[0m \u001b[0;32mlambda\u001b[0m \u001b[0mf\u001b[0m\u001b[0;34m,\u001b[0m \u001b[0;34m*\u001b[0m\u001b[0ma\u001b[0m\u001b[0;34m,\u001b[0m \u001b[0;34m**\u001b[0m\u001b[0mk\u001b[0m\u001b[0;34m:\u001b[0m \u001b[0mf\u001b[0m\u001b[0;34m(\u001b[0m\u001b[0;34m*\u001b[0m\u001b[0ma\u001b[0m\u001b[0;34m,\u001b[0m \u001b[0;34m**\u001b[0m\u001b[0mk\u001b[0m\u001b[0;34m)\u001b[0m\u001b[0;34m\u001b[0m\u001b[0;34m\u001b[0m\u001b[0m\n\u001b[0m\u001b[1;32m    189\u001b[0m \u001b[0;34m\u001b[0m\u001b[0m\n\u001b[1;32m    190\u001b[0m         \u001b[0;32mif\u001b[0m \u001b[0mcallable\u001b[0m\u001b[0;34m(\u001b[0m\u001b[0marg\u001b[0m\u001b[0;34m)\u001b[0m\u001b[0;34m:\u001b[0m\u001b[0;34m\u001b[0m\u001b[0;34m\u001b[0m\u001b[0m\n",
            "\u001b[0;32m/usr/local/lib/python3.7/dist-packages/rpy2/ipython/rmagic.py\u001b[0m in \u001b[0;36mR\u001b[0;34m(self, line, cell, local_ns)\u001b[0m\n\u001b[1;32m    781\u001b[0m             \u001b[0;32mif\u001b[0m \u001b[0;32mnot\u001b[0m \u001b[0me\u001b[0m\u001b[0;34m.\u001b[0m\u001b[0mstdout\u001b[0m\u001b[0;34m.\u001b[0m\u001b[0mendswith\u001b[0m\u001b[0;34m(\u001b[0m\u001b[0me\u001b[0m\u001b[0;34m.\u001b[0m\u001b[0merr\u001b[0m\u001b[0;34m)\u001b[0m\u001b[0;34m:\u001b[0m\u001b[0;34m\u001b[0m\u001b[0;34m\u001b[0m\u001b[0m\n\u001b[1;32m    782\u001b[0m                 \u001b[0mprint\u001b[0m\u001b[0;34m(\u001b[0m\u001b[0me\u001b[0m\u001b[0;34m.\u001b[0m\u001b[0merr\u001b[0m\u001b[0;34m)\u001b[0m\u001b[0;34m\u001b[0m\u001b[0;34m\u001b[0m\u001b[0m\n\u001b[0;32m--> 783\u001b[0;31m             \u001b[0;32mraise\u001b[0m \u001b[0me\u001b[0m\u001b[0;34m\u001b[0m\u001b[0;34m\u001b[0m\u001b[0m\n\u001b[0m\u001b[1;32m    784\u001b[0m         \u001b[0;32mfinally\u001b[0m\u001b[0;34m:\u001b[0m\u001b[0;34m\u001b[0m\u001b[0;34m\u001b[0m\u001b[0m\n\u001b[1;32m    785\u001b[0m             \u001b[0;32mif\u001b[0m \u001b[0mself\u001b[0m\u001b[0;34m.\u001b[0m\u001b[0mdevice\u001b[0m \u001b[0;32min\u001b[0m \u001b[0;34m[\u001b[0m\u001b[0;34m'png'\u001b[0m\u001b[0;34m,\u001b[0m \u001b[0;34m'svg'\u001b[0m\u001b[0;34m]\u001b[0m\u001b[0;34m:\u001b[0m\u001b[0;34m\u001b[0m\u001b[0;34m\u001b[0m\u001b[0m\n",
            "\u001b[0;32m/usr/local/lib/python3.7/dist-packages/rpy2/ipython/rmagic.py\u001b[0m in \u001b[0;36mR\u001b[0;34m(self, line, cell, local_ns)\u001b[0m\n\u001b[1;32m    761\u001b[0m                     \u001b[0mreturn_output\u001b[0m \u001b[0;34m=\u001b[0m \u001b[0;32mFalse\u001b[0m\u001b[0;34m\u001b[0m\u001b[0;34m\u001b[0m\u001b[0m\n\u001b[1;32m    762\u001b[0m             \u001b[0;32melse\u001b[0m\u001b[0;34m:\u001b[0m\u001b[0;34m\u001b[0m\u001b[0;34m\u001b[0m\u001b[0m\n\u001b[0;32m--> 763\u001b[0;31m                 \u001b[0mtext_result\u001b[0m\u001b[0;34m,\u001b[0m \u001b[0mresult\u001b[0m\u001b[0;34m,\u001b[0m \u001b[0mvisible\u001b[0m \u001b[0;34m=\u001b[0m \u001b[0mself\u001b[0m\u001b[0;34m.\u001b[0m\u001b[0meval\u001b[0m\u001b[0;34m(\u001b[0m\u001b[0mcode\u001b[0m\u001b[0;34m)\u001b[0m\u001b[0;34m\u001b[0m\u001b[0;34m\u001b[0m\u001b[0m\n\u001b[0m\u001b[1;32m    764\u001b[0m                 \u001b[0mtext_output\u001b[0m \u001b[0;34m+=\u001b[0m \u001b[0mtext_result\u001b[0m\u001b[0;34m\u001b[0m\u001b[0;34m\u001b[0m\u001b[0m\n\u001b[1;32m    765\u001b[0m                 \u001b[0;32mif\u001b[0m \u001b[0mvisible\u001b[0m\u001b[0;34m:\u001b[0m\u001b[0;34m\u001b[0m\u001b[0;34m\u001b[0m\u001b[0m\n",
            "\u001b[0;32m/usr/local/lib/python3.7/dist-packages/rpy2/ipython/rmagic.py\u001b[0m in \u001b[0;36meval\u001b[0;34m(self, code)\u001b[0m\n\u001b[1;32m    271\u001b[0m                 \u001b[0mwarning_or_other_msg\u001b[0m \u001b[0;34m=\u001b[0m \u001b[0mself\u001b[0m\u001b[0;34m.\u001b[0m\u001b[0mflush\u001b[0m\u001b[0;34m(\u001b[0m\u001b[0;34m)\u001b[0m\u001b[0;34m\u001b[0m\u001b[0;34m\u001b[0m\u001b[0m\n\u001b[1;32m    272\u001b[0m                 raise RInterpreterError(code, str(exception),\n\u001b[0;32m--> 273\u001b[0;31m                                         warning_or_other_msg)\n\u001b[0m\u001b[1;32m    274\u001b[0m             \u001b[0mtext_output\u001b[0m \u001b[0;34m=\u001b[0m \u001b[0mself\u001b[0m\u001b[0;34m.\u001b[0m\u001b[0mflush\u001b[0m\u001b[0;34m(\u001b[0m\u001b[0;34m)\u001b[0m\u001b[0;34m\u001b[0m\u001b[0;34m\u001b[0m\u001b[0m\n\u001b[1;32m    275\u001b[0m             \u001b[0;32mreturn\u001b[0m \u001b[0mtext_output\u001b[0m\u001b[0;34m,\u001b[0m \u001b[0mvalue\u001b[0m\u001b[0;34m,\u001b[0m \u001b[0mvisible\u001b[0m\u001b[0;34m[\u001b[0m\u001b[0;36m0\u001b[0m\u001b[0;34m]\u001b[0m\u001b[0;34m\u001b[0m\u001b[0;34m\u001b[0m\u001b[0m\n",
            "\u001b[0;31mRInterpreterError\u001b[0m: Failed to parse and evaluate line 'multcomp::cld(lsmeans::lsmeans(finalModel, ~ MilkingType, ~ CalvingSeason), alpha=0.05, Letters=letters, adjust=\"tukey\")'.\nR error message: \"Error in RG@levels[[f]] : invalid subscript type 'language'\""
          ]
        }
      ]
    },
    {
      "cell_type": "markdown",
      "metadata": {
        "id": "c0A00NQmFfKc"
      },
      "source": [
        "## Interactions"
      ]
    },
    {
      "cell_type": "markdown",
      "metadata": {
        "id": "1ZCV4coUFhr7"
      },
      "source": [
        "### MonthsInMilk by parity"
      ]
    },
    {
      "cell_type": "code",
      "metadata": {
        "id": "WXDuKZYcFqdb"
      },
      "source": [
        "%%R\n",
        "LSMs<-lsmeans::lsmeans(finalModel, pairwise ~ MonthsInMilk|Parity, type = \"response\", glhargs=list())\n",
        "multcomp::cld(LSMs[[1]], alpha=0.05, Letters=letters, adjust=\"tukey\")"
      ],
      "execution_count": null,
      "outputs": []
    },
    {
      "cell_type": "code",
      "metadata": {
        "id": "Bj8cmS9cFvDK"
      },
      "source": [
        "%%R\n",
        "dfPValues <- summary(LSMs)[[2]]\n",
        "dfLMSs <- summary(LSMs)[[1]]\n",
        "dfLMSs %>% \n",
        "  mutate(label = if_else(MonthsInMilk == max(as.numeric(MonthsInMilk)), as.character(Parity), NA_character_)) %>%\n",
        "  ggplot(\n",
        "  aes(\n",
        "    x=MonthsInMilk,\n",
        "    y=lsmean,\n",
        "    group=Parity, \n",
        "    color=Parity)\n",
        "    ) +\n",
        "  geom_line() +  \n",
        "  geom_errorbar(\n",
        "    aes(ymin=asymp.LCL, \n",
        "        ymax=asymp.UCL), \n",
        "    width=.2,\n",
        "    position=position_dodge(0.05)) +\n",
        "  labs(\n",
        "    title = \"Walking time (min/day)\", \n",
        "    y=\"Minutes per day\" , \n",
        "    x = \"Months in milk\") +\n",
        "  theme_bw() +\n",
        "  theme(plot.title = element_text(hjust = 0.5),\n",
        "        panel.border = element_blank(), \n",
        "        panel.grid.major = element_blank(),\n",
        "        panel.grid.minor = element_blank(), \n",
        "        axis.line = element_line(colour = \"black\"))"
      ],
      "execution_count": null,
      "outputs": []
    },
    {
      "cell_type": "markdown",
      "metadata": {
        "id": "27TgINROFljg"
      },
      "source": [
        "### MonthsInMilk by milking type"
      ]
    },
    {
      "cell_type": "code",
      "metadata": {
        "id": "upOS6V2hFzih"
      },
      "source": [
        "%%R\n",
        "LSMs<-lsmeans::lsmeans(finalModel, pairwise ~ MonthsInMilk|MilkingType, type = \"response\", glhargs=list())\n",
        "multcomp::cld(LSMs[[1]], alpha=0.05, Letters=letters, adjust=\"tukey\")"
      ],
      "execution_count": null,
      "outputs": []
    },
    {
      "cell_type": "code",
      "metadata": {
        "id": "rXEqEQIqtc0o"
      },
      "source": [
        "%%R\n",
        "dfPValues <- summary(LSMs)[[2]]\n",
        "dfLMSs <- summary(LSMs)[[1]]\n",
        "dfLMSs %>% \n",
        "  mutate(label = if_else(MonthsInMilk == max(as.numeric(MonthsInMilk)), as.character(MilkingType), NA_character_)) %>%\n",
        "  ggplot(\n",
        "  aes(\n",
        "    x=MonthsInMilk,\n",
        "    y=lsmean,\n",
        "    group=MilkingType, \n",
        "    color=MilkingType)\n",
        "    ) +\n",
        "  geom_line() +  \n",
        "  geom_errorbar(\n",
        "    aes(ymin=asymp.LCL, \n",
        "        ymax=asymp.UCL), \n",
        "    width=.2,\n",
        "    position=position_dodge(0.05)) +\n",
        "  labs(\n",
        "    title = \"Walking time (min/day)\", \n",
        "    y=\"Minutes per day\" , \n",
        "    x = \"Months in milk\") +\n",
        "  theme_bw() +\n",
        "  theme(plot.title = element_text(hjust = 0.5),\n",
        "        panel.border = element_blank(), \n",
        "        panel.grid.major = element_blank(),\n",
        "        panel.grid.minor = element_blank(), \n",
        "        axis.line = element_line(colour = \"black\"))"
      ],
      "execution_count": null,
      "outputs": []
    },
    {
      "cell_type": "markdown",
      "metadata": {
        "id": "lTZDu5kGFnxY"
      },
      "source": [
        "### MonthsInMilk by calving season"
      ]
    },
    {
      "cell_type": "code",
      "metadata": {
        "id": "OmZZMtgqF7S_"
      },
      "source": [
        "%%R\n",
        "LSMs<-lsmeans::lsmeans(finalModel, pairwise ~ MonthsInMilk|CalvingSeason, type = \"response\", glhargs=list())\n",
        "multcomp::cld(LSMs[[1]], alpha=0.05, Letters=letters, adjust=\"tukey\")"
      ],
      "execution_count": null,
      "outputs": []
    },
    {
      "cell_type": "code",
      "metadata": {
        "id": "JPASIlvWF-bY"
      },
      "source": [
        "%%R\n",
        "dfPValues <- summary(LSMs)[[2]]\n",
        "dfLMSs <- summary(LSMs)[[1]]\n",
        "dfLMSs %>% \n",
        "  mutate(label = if_else(MonthsInMilk == max(as.numeric(MonthsInMilk)), as.character(CalvingSeason), NA_character_)) %>%\n",
        "  ggplot(\n",
        "  aes(\n",
        "    x=MonthsInMilk,\n",
        "    y=lsmean,\n",
        "    group=CalvingSeason, \n",
        "    color=CalvingSeason)\n",
        "    ) +\n",
        "  geom_line() +  \n",
        "  geom_errorbar(\n",
        "    aes(ymin=asymp.LCL, \n",
        "        ymax=asymp.UCL), \n",
        "    width=.2,\n",
        "    position=position_dodge(0.05)) +\n",
        "  labs(\n",
        "    title = \"Walking time (min/day)\", \n",
        "    y=\"Minutes per day\" , \n",
        "    x = \"Months in milk\") +\n",
        "  theme_bw() +\n",
        "  theme(plot.title = element_text(hjust = 0.5),\n",
        "        panel.border = element_blank(), \n",
        "        panel.grid.major = element_blank(),\n",
        "        panel.grid.minor = element_blank(), \n",
        "        axis.line = element_line(colour = \"black\"))"
      ],
      "execution_count": null,
      "outputs": []
    },
    {
      "cell_type": "markdown",
      "metadata": {
        "id": "XRDc34HSu7iQ"
      },
      "source": [
        "### MonthsInMilk by MilkingType by CalvingSeason"
      ]
    },
    {
      "cell_type": "code",
      "metadata": {
        "colab": {
          "base_uri": "https://localhost:8080/"
        },
        "id": "11PCdANcsur5",
        "outputId": "730252f6-6a13-4491-f044-f3fd5f29038e"
      },
      "source": [
        "%%R\n",
        "LSMs<-lsmeans::lsmeans(finalModel, pairwise ~ MonthsInMilk|MilkingType|CalvingSeason, type = \"response\", glhargs=list())\n",
        "multcomp::cld(LSMs[[1]], alpha=0.05, Letters=letters, adjust=\"tukey\")"
      ],
      "execution_count": null,
      "outputs": [
        {
          "output_type": "stream",
          "text": [
            "R[write to console]: Note: D.f. calculations have been disabled because the number of observations exceeds 3000.\n",
            "To enable adjustments, add the argument 'pbkrtest.limit = 54073' (or larger)\n",
            "[or, globally, 'set emm_options(pbkrtest.limit = 54073)' or larger];\n",
            "but be warned that this may result in large computation time and memory use.\n",
            "\n",
            "R[write to console]: Note: D.f. calculations have been disabled because the number of observations exceeds 3000.\n",
            "To enable adjustments, add the argument 'lmerTest.limit = 54073' (or larger)\n",
            "[or, globally, 'set emm_options(lmerTest.limit = 54073)' or larger];\n",
            "but be warned that this may result in large computation time and memory use.\n",
            "\n",
            "R[write to console]: NOTE: Results may be misleading due to involvement in interactions\n",
            "\n",
            "R[write to console]: Note: adjust = \"tukey\" was changed to \"sidak\"\n",
            "because \"tukey\" is only appropriate for one set of pairwise comparisons\n",
            "\n"
          ],
          "name": "stderr"
        },
        {
          "output_type": "stream",
          "text": [
            "MilkingType = AMS, CalvingSeason = Autumn:\n",
            " MonthsInMilk lsmean    SE  df asymp.LCL asymp.UCL .group   \n",
            " 7              31.1 0.955 Inf      28.3      33.8  a       \n",
            " 6              31.2 0.965 Inf      28.5      34.0  a       \n",
            " 5              31.9 0.980 Inf      29.1      34.7  ab      \n",
            " 8              32.8 1.071 Inf      29.7      35.8  ab      \n",
            " 4              32.9 1.062 Inf      29.9      36.0  ab      \n",
            " 3              33.8 1.065 Inf      30.8      36.9  ab      \n",
            " -1             34.0 1.176 Inf      30.6      37.3  ab      \n",
            " 9              34.3 1.058 Inf      31.3      37.3  ab      \n",
            " 10             35.5 1.042 Inf      32.5      38.5   bc     \n",
            " 2              35.7 0.964 Inf      32.9      38.4   bc     \n",
            " 0              38.7 1.031 Inf      35.7      41.6    cd    \n",
            " 1              42.0 1.040 Inf      39.0      45.0     d    \n",
            "\n",
            "MilkingType = AMS, CalvingSeason = Spring:\n",
            " MonthsInMilk lsmean    SE  df asymp.LCL asymp.UCL .group   \n",
            " -1             22.7 1.183 Inf      19.3      26.1  a       \n",
            " 0              27.8 1.133 Inf      24.6      31.1   b      \n",
            " 10             28.1 1.191 Inf      24.7      31.5   b      \n",
            " 9              28.9 1.196 Inf      25.4      32.3   bc     \n",
            " 8              29.5 1.096 Inf      26.4      32.6   bc     \n",
            " 7              30.7 1.131 Inf      27.5      33.9   bc     \n",
            " 6              33.3 1.093 Inf      30.2      36.4    cd    \n",
            " 5              37.0 1.263 Inf      33.4      40.6     de   \n",
            " 2              39.9 1.333 Inf      36.1      43.7      ef  \n",
            " 4              39.9 1.299 Inf      36.2      43.6      ef  \n",
            " 3              40.6 1.310 Inf      36.9      44.4      ef  \n",
            " 1              42.7 1.257 Inf      39.1      46.3       f  \n",
            "\n",
            "MilkingType = AMS, CalvingSeason = Summer:\n",
            " MonthsInMilk lsmean    SE  df asymp.LCL asymp.UCL .group   \n",
            " 10             30.2 0.915 Inf      27.5      32.8  a       \n",
            " 9              30.2 0.922 Inf      27.6      32.9  a       \n",
            " 6              30.6 0.983 Inf      27.8      33.4  ab      \n",
            " 8              30.7 0.912 Inf      28.1      33.3  ab      \n",
            " -1             31.1 1.105 Inf      28.0      34.3  ab      \n",
            " 7              31.2 0.987 Inf      28.3      34.0  ab      \n",
            " 5              31.6 0.889 Inf      29.1      34.1  ab      \n",
            " 4              34.0 0.889 Inf      31.5      36.6   bc     \n",
            " 3              35.7 0.908 Inf      33.1      38.3    cd    \n",
            " 0              38.2 1.013 Inf      35.3      41.1     de   \n",
            " 2              40.1 1.031 Inf      37.1      43.0      e   \n",
            " 1              46.2 1.073 Inf      43.1      49.2       f  \n",
            "\n",
            "MilkingType = AMS, CalvingSeason = Winter:\n",
            " MonthsInMilk lsmean    SE  df asymp.LCL asymp.UCL .group   \n",
            " 0              29.0 1.201 Inf      25.6      32.5  a       \n",
            " 10             30.1 1.082 Inf      27.0      33.2  ab      \n",
            " 9              33.2 1.112 Inf      30.0      36.4  abc     \n",
            " 5              33.3 1.387 Inf      29.3      37.2  abc     \n",
            " 4              33.4 1.263 Inf      29.7      37.0  abc     \n",
            " -1             34.2 1.368 Inf      30.3      38.1  abc     \n",
            " 3              34.3 1.282 Inf      30.6      37.9  abc     \n",
            " 8              35.0 1.265 Inf      31.3      38.6   bcd    \n",
            " 2              35.8 1.243 Inf      32.2      39.3    cd    \n",
            " 7              36.5 1.309 Inf      32.7      40.2    cd    \n",
            " 6              36.8 1.352 Inf      32.9      40.7    cd    \n",
            " 1              40.3 1.391 Inf      36.3      44.3     d    \n",
            "\n",
            "MilkingType = CMS, CalvingSeason = Autumn:\n",
            " MonthsInMilk lsmean    SE  df asymp.LCL asymp.UCL .group   \n",
            " 4              35.9 0.698 Inf      33.9      37.9  a       \n",
            " 3              37.1 0.691 Inf      35.1      39.0  ab      \n",
            " 5              39.4 0.650 Inf      37.6      41.3   bc     \n",
            " 2              41.9 0.616 Inf      40.1      43.7    cd    \n",
            " 6              44.2 0.668 Inf      42.2      46.1     d    \n",
            " 0              49.6 0.596 Inf      47.9      51.3      e   \n",
            " 7              50.7 0.658 Inf      48.8      52.5      e   \n",
            " 1              50.8 0.633 Inf      48.9      52.6      e   \n",
            " -1             50.9 0.751 Inf      48.8      53.1      e   \n",
            " 8              62.6 0.734 Inf      60.5      64.7       f  \n",
            " 10             62.6 0.718 Inf      60.6      64.7       f  \n",
            " 9              65.0 0.730 Inf      62.9      67.0       f  \n",
            "\n",
            "MilkingType = CMS, CalvingSeason = Spring:\n",
            " MonthsInMilk lsmean    SE  df asymp.LCL asymp.UCL .group   \n",
            " -1             28.6 0.728 Inf      26.5      30.7  a       \n",
            " 10             30.4 0.772 Inf      28.2      32.6  ab      \n",
            " 9              31.9 0.748 Inf      29.8      34.1   b      \n",
            " 8              37.3 0.665 Inf      35.4      39.2    c     \n",
            " 0              37.6 0.633 Inf      35.8      39.4    c     \n",
            " 7              43.8 0.661 Inf      41.9      45.7     d    \n",
            " 6              51.2 0.653 Inf      49.4      53.1      e   \n",
            " 5              59.5 0.734 Inf      57.4      61.6       f  \n",
            " 1              62.4 0.677 Inf      60.5      64.4       fg \n",
            " 4              63.5 0.750 Inf      61.4      65.7        g \n",
            " 3              67.9 0.746 Inf      65.8      70.1         h\n",
            " 2              69.6 0.735 Inf      67.5      71.7         h\n",
            "\n",
            "MilkingType = CMS, CalvingSeason = Summer:\n",
            " MonthsInMilk lsmean    SE  df asymp.LCL asymp.UCL .group   \n",
            " 7              33.3 0.728 Inf      31.2      35.4  a       \n",
            " 6              33.7 0.720 Inf      31.7      35.8  a       \n",
            " 8              35.6 0.684 Inf      33.6      37.6  ab      \n",
            " 5              37.8 0.644 Inf      36.0      39.7   b      \n",
            " 9              41.4 0.667 Inf      39.5      43.3    c     \n",
            " 4              43.4 0.642 Inf      41.5      45.2    c     \n",
            " 10             49.5 0.680 Inf      47.5      51.4     d    \n",
            " -1             50.0 0.750 Inf      47.9      52.2     d    \n",
            " 3              50.9 0.636 Inf      49.1      52.8     d    \n",
            " 0              59.4 0.664 Inf      57.5      61.3      e   \n",
            " 2              61.5 0.705 Inf      59.5      63.5      e   \n",
            " 1              68.0 0.714 Inf      65.9      70.0       f  \n",
            "\n",
            "MilkingType = CMS, CalvingSeason = Winter:\n",
            " MonthsInMilk lsmean    SE  df asymp.LCL asymp.UCL .group   \n",
            " -1             30.4 0.797 Inf      28.2      32.7  a       \n",
            " 0              32.8 0.697 Inf      30.8      34.8  a       \n",
            " 1              41.1 0.730 Inf      39.0      43.1   b      \n",
            " 10             42.7 0.647 Inf      40.9      44.6   b      \n",
            " 2              43.8 0.662 Inf      41.9      45.7   b      \n",
            " 3              47.9 0.676 Inf      45.9      49.8    c     \n",
            " 9              51.1 0.651 Inf      49.2      53.0     d    \n",
            " 4              54.1 0.677 Inf      52.2      56.1      e   \n",
            " 8              60.6 0.720 Inf      58.6      62.7       f  \n",
            " 7              64.4 0.733 Inf      62.3      66.5        g \n",
            " 5              65.6 0.754 Inf      63.4      67.7        g \n",
            " 6              65.9 0.749 Inf      63.8      68.1        g \n",
            "\n",
            "Results are averaged over the levels of: Parity \n",
            "Degrees-of-freedom method: asymptotic \n",
            "Confidence level used: 0.95 \n",
            "Conf-level adjustment: sidak method for 12 estimates \n",
            "P value adjustment: tukey method for comparing a family of 12 estimates \n",
            "significance level used: alpha = 0.05 \n"
          ],
          "name": "stdout"
        }
      ]
    },
    {
      "cell_type": "code",
      "metadata": {
        "colab": {
          "base_uri": "https://localhost:8080/",
          "height": 497
        },
        "id": "BkvIEOKitoPP",
        "outputId": "92312ce5-d945-4ebd-b8b6-d661bf6caa83"
      },
      "source": [
        "%%R\n",
        "dfPValues <- summary(LSMs)[[2]]\n",
        "dfLMSs <- summary(LSMs)[[1]]\n",
        "dfLMSs %>% \n",
        "  mutate(label = if_else(MonthsInMilk == max(as.numeric(MonthsInMilk)), as.character(MilkingType,CalvingSeason), NA_character_)) %>%\n",
        "  ggplot(\n",
        "  aes(\n",
        "    x=MonthsInMilk,\n",
        "    y=lsmean,\n",
        "    group=CalvingSeason, \n",
        "    color=CalvingSeason)\n",
        "    ) +\n",
        "  facet_wrap(~MilkingType) + \n",
        "  geom_line() +  \n",
        "  geom_errorbar(\n",
        "    aes(ymin=asymp.LCL, \n",
        "        ymax=asymp.UCL), \n",
        "    width=.2,\n",
        "    position=position_dodge(0.05)) +\n",
        "  labs(\n",
        "    title = \"Walking time (min/day)\", \n",
        "    y=\"Minutes per day\" , \n",
        "    x = \"Months in milk\") +\n",
        "  theme_bw() +\n",
        "  theme(plot.title = element_text(hjust = 0.5),\n",
        "        panel.border = element_blank(), \n",
        "        panel.grid.major = element_blank(),\n",
        "        panel.grid.minor = element_blank(), \n",
        "        axis.line = element_line(colour = \"black\"))"
      ],
      "execution_count": null,
      "outputs": [
        {
          "output_type": "display_data",
          "data": {
            "image/png": "[encoded data removed]"
          },
          "metadata": {
            "tags": []
          }
        }
      ]
    },
    {
      "cell_type": "markdown",
      "metadata": {
        "id": "8wYUXxIolu5S"
      },
      "source": [
        "# Model without 3 way interaction"
      ]
    },
    {
      "cell_type": "code",
      "metadata": {
        "id": "_A_JxtzFmK0y"
      },
      "source": [
        "%%R\n",
        "AnalysisDataAMS <- AnalysisData %>% dplyr::filter(MilkingType == \"AMS\")\n",
        "AnalysisDataCMS <- AnalysisData %>% dplyr::filter(MilkingType != \"AMS\")"
      ],
      "execution_count": null,
      "outputs": []
    },
    {
      "cell_type": "markdown",
      "metadata": {
        "id": "NTgMpIhrlzOT"
      },
      "source": [
        "## MonthsInMilk by calving season AMS"
      ]
    },
    {
      "cell_type": "code",
      "metadata": {
        "id": "-c2H3buAl4h6"
      },
      "source": [
        "%%R\n",
        "ModelAMSOnly <- lme4::lmer(\n",
        "                  SensorValue ~ \n",
        "                  MonthsInMilk*CalvingSeason + \n",
        "                  MonthsInMilk*Parity + \n",
        "                   MonthsInMilk*CalvingSeason + \n",
        "                    (1| HerdIdentifier:AnimalIdentifier),\n",
        "                  REML = FALSE,\n",
        "                  data = AnalysisDataAMS\n",
        "                  )"
      ],
      "execution_count": null,
      "outputs": []
    },
    {
      "cell_type": "code",
      "metadata": {
        "colab": {
          "base_uri": "https://localhost:8080/"
        },
        "id": "cJbCrhW8lzOT",
        "outputId": "1ff53662-271c-46bb-cc10-c030bfb92726"
      },
      "source": [
        "%%R\n",
        "LSMs<-lsmeans::lsmeans(ModelAMSOnly, pairwise ~ MonthsInMilk|CalvingSeason, type = \"response\", glhargs=list())\n",
        "multcomp::cld(LSMs[[1]], alpha=0.05, Letters=letters, adjust=\"tukey\")"
      ],
      "execution_count": null,
      "outputs": [
        {
          "output_type": "stream",
          "text": [
            "R[write to console]: Note: D.f. calculations have been disabled because the number of observations exceeds 3000.\n",
            "To enable adjustments, add the argument 'pbkrtest.limit = 16514' (or larger)\n",
            "[or, globally, 'set emm_options(pbkrtest.limit = 16514)' or larger];\n",
            "but be warned that this may result in large computation time and memory use.\n",
            "\n",
            "R[write to console]: Note: D.f. calculations have been disabled because the number of observations exceeds 3000.\n",
            "To enable adjustments, add the argument 'lmerTest.limit = 16514' (or larger)\n",
            "[or, globally, 'set emm_options(lmerTest.limit = 16514)' or larger];\n",
            "but be warned that this may result in large computation time and memory use.\n",
            "\n",
            "R[write to console]: Note: adjust = \"tukey\" was changed to \"sidak\"\n",
            "because \"tukey\" is only appropriate for one set of pairwise comparisons\n",
            "\n"
          ],
          "name": "stderr"
        },
        {
          "output_type": "stream",
          "text": [
            "CalvingSeason = Autumn:\n",
            " MonthsInMilk lsmean    SE  df asymp.LCL asymp.UCL .group \n",
            " 7              31.2 0.741 Inf      29.0      33.3  a     \n",
            " 6              31.2 0.745 Inf      29.1      33.3  a     \n",
            " 5              32.0 0.751 Inf      29.9      34.2  ab    \n",
            " 8              32.9 0.813 Inf      30.6      35.2  abc   \n",
            " 4              33.0 0.804 Inf      30.7      35.3  abc   \n",
            " 3              34.1 0.797 Inf      31.8      36.4  abcd  \n",
            " 9              34.4 0.808 Inf      32.1      36.7   bcd  \n",
            " -1             35.1 0.826 Inf      32.7      37.4   bcde \n",
            " 10             35.2 0.798 Inf      32.9      37.4    cde \n",
            " 2              36.1 0.732 Inf      34.1      38.2     de \n",
            " 0              37.8 0.731 Inf      35.7      39.9      e \n",
            " 1              42.7 0.759 Inf      40.5      44.9       f\n",
            "\n",
            "CalvingSeason = Spring:\n",
            " MonthsInMilk lsmean    SE  df asymp.LCL asymp.UCL .group \n",
            " -1             22.9 0.882 Inf      20.4      25.5  a     \n",
            " 10             28.0 0.920 Inf      25.4      30.6   b    \n",
            " 0              28.3 0.824 Inf      25.9      30.6   b    \n",
            " 9              28.7 0.920 Inf      26.0      31.3   b    \n",
            " 8              29.4 0.845 Inf      27.0      31.8   b    \n",
            " 7              30.5 0.858 Inf      28.1      33.0   bc   \n",
            " 6              33.3 0.838 Inf      30.9      35.7    cd  \n",
            " 5              36.5 0.940 Inf      33.8      39.2     de \n",
            " 4              39.2 0.958 Inf      36.4      41.9      ef\n",
            " 2              39.3 0.960 Inf      36.5      42.0      ef\n",
            " 3              40.1 0.963 Inf      37.3      42.8      ef\n",
            " 1              42.3 0.890 Inf      39.8      44.9       f\n",
            "\n",
            "CalvingSeason = Summer:\n",
            " MonthsInMilk lsmean    SE  df asymp.LCL asymp.UCL .group \n",
            " 9              30.2 0.726 Inf      28.1      32.3  a     \n",
            " 10             30.3 0.726 Inf      28.2      32.4  a     \n",
            " 6              30.5 0.766 Inf      28.3      32.7  a     \n",
            " 8              30.6 0.722 Inf      28.6      32.7  a     \n",
            " 7              31.0 0.771 Inf      28.8      33.2  ab    \n",
            " 5              31.4 0.701 Inf      29.4      33.4  ab    \n",
            " 4              33.8 0.696 Inf      31.8      35.8   bc   \n",
            " -1             33.8 0.776 Inf      31.6      36.0   bc   \n",
            " 3              35.6 0.704 Inf      33.6      37.6    c   \n",
            " 0              38.4 0.738 Inf      36.3      40.5     d  \n",
            " 2              39.6 0.768 Inf      37.4      41.8     d  \n",
            " 1              45.5 0.784 Inf      43.3      47.8      e \n",
            "\n",
            "CalvingSeason = Winter:\n",
            " MonthsInMilk lsmean    SE  df asymp.LCL asymp.UCL .group \n",
            " -1             26.9 0.917 Inf      24.3      29.5  a     \n",
            " 0              29.1 0.879 Inf      26.6      31.6  a     \n",
            " 10             30.1 0.840 Inf      27.7      32.5  ab    \n",
            " 9              33.2 0.857 Inf      30.7      35.6   bc   \n",
            " 5              34.3 0.994 Inf      31.5      37.1    cd  \n",
            " 4              34.5 0.912 Inf      31.9      37.1    cd  \n",
            " 8              34.8 0.950 Inf      32.1      37.5    cd  \n",
            " 3              34.9 0.901 Inf      32.3      37.4    cd  \n",
            " 2              36.0 0.895 Inf      33.4      38.5    cd  \n",
            " 7              36.4 0.967 Inf      33.6      39.2    cd  \n",
            " 6              37.1 0.988 Inf      34.3      40.0     de \n",
            " 1              40.5 0.976 Inf      37.7      43.3      e \n",
            "\n",
            "Results are averaged over the levels of: Parity \n",
            "Degrees-of-freedom method: asymptotic \n",
            "Confidence level used: 0.95 \n",
            "Conf-level adjustment: sidak method for 12 estimates \n",
            "P value adjustment: tukey method for comparing a family of 12 estimates \n",
            "significance level used: alpha = 0.05 \n"
          ],
          "name": "stdout"
        }
      ]
    },
    {
      "cell_type": "code",
      "metadata": {
        "colab": {
          "base_uri": "https://localhost:8080/",
          "height": 497
        },
        "id": "bGkRHwDIlzOa",
        "outputId": "5d4fe2df-9b6c-431e-ade8-8a88b03c96eb"
      },
      "source": [
        "%%R\n",
        "dfPValues <- summary(LSMs)[[2]]\n",
        "dfLMSs <- summary(LSMs)[[1]]\n",
        "dfLMSs %>% \n",
        "  mutate(label = if_else(MonthsInMilk == max(as.numeric(MonthsInMilk)), as.character(CalvingSeason), NA_character_)) %>%\n",
        "  ggplot(\n",
        "  aes(\n",
        "    x=MonthsInMilk,\n",
        "    y=lsmean,\n",
        "    group=CalvingSeason, \n",
        "    color=CalvingSeason)\n",
        "    ) +\n",
        "  geom_line() +  \n",
        "  geom_errorbar(\n",
        "    aes(ymin=asymp.LCL, \n",
        "        ymax=asymp.UCL), \n",
        "    width=.2,\n",
        "    position=position_dodge(0.05)) +\n",
        "  labs(\n",
        "    title = \"Walking time AMS (min/day)\", \n",
        "    y=\"Minutes per day\" , \n",
        "    x = \"Months in milk\") +\n",
        "  theme_bw() +\n",
        "  theme(plot.title = element_text(hjust = 0.5),\n",
        "        panel.border = element_blank(), \n",
        "        panel.grid.major = element_blank(),\n",
        "        panel.grid.minor = element_blank(), \n",
        "        axis.line = element_line(colour = \"black\"))"
      ],
      "execution_count": null,
      "outputs": [
        {
          "output_type": "display_data",
          "data": {
            "image/png": "[encoded data removed]"
          },
          "metadata": {
            "tags": []
          }
        }
      ]
    },
    {
      "cell_type": "markdown",
      "metadata": {
        "id": "X0jQAeaamwFU"
      },
      "source": [
        "## MonthsInMilk by calving season CMS"
      ]
    },
    {
      "cell_type": "code",
      "metadata": {
        "id": "9SDpjk8Mmggb"
      },
      "source": [
        "%%R\n",
        "ModelCMSOnly <- lme4::lmer(\n",
        "                  SensorValue ~ \n",
        "                  MonthsInMilk*CalvingSeason + \n",
        "                  MonthsInMilk*Parity + \n",
        "                   MonthsInMilk*CalvingSeason + \n",
        "                    (1| HerdIdentifier:AnimalIdentifier),\n",
        "                  REML = FALSE,\n",
        "                  data = AnalysisDataCMS\n",
        "                  )"
      ],
      "execution_count": null,
      "outputs": []
    },
    {
      "cell_type": "code",
      "metadata": {
        "colab": {
          "base_uri": "https://localhost:8080/"
        },
        "id": "9JETNKG5mjF4",
        "outputId": "5ca564f3-29bd-4c06-c0aa-b9443e0dfc84"
      },
      "source": [
        "%%R\n",
        "LSMs<-lsmeans::lsmeans(ModelCMSOnly, pairwise ~ MonthsInMilk|CalvingSeason, type = \"response\", glhargs=list())\n",
        "multcomp::cld(LSMs[[1]], alpha=0.05, Letters=letters, adjust=\"tukey\")"
      ],
      "execution_count": null,
      "outputs": [
        {
          "output_type": "stream",
          "text": [
            "R[write to console]: Note: D.f. calculations have been disabled because the number of observations exceeds 3000.\n",
            "To enable adjustments, add the argument 'pbkrtest.limit = 37559' (or larger)\n",
            "[or, globally, 'set emm_options(pbkrtest.limit = 37559)' or larger];\n",
            "but be warned that this may result in large computation time and memory use.\n",
            "\n",
            "R[write to console]: Note: D.f. calculations have been disabled because the number of observations exceeds 3000.\n",
            "To enable adjustments, add the argument 'lmerTest.limit = 37559' (or larger)\n",
            "[or, globally, 'set emm_options(lmerTest.limit = 37559)' or larger];\n",
            "but be warned that this may result in large computation time and memory use.\n",
            "\n",
            "R[write to console]: Note: adjust = \"tukey\" was changed to \"sidak\"\n",
            "because \"tukey\" is only appropriate for one set of pairwise comparisons\n",
            "\n"
          ],
          "name": "stderr"
        },
        {
          "output_type": "stream",
          "text": [
            "CalvingSeason = Autumn:\n",
            " MonthsInMilk lsmean    SE  df asymp.LCL asymp.UCL .group   \n",
            " 4              36.0 0.735 Inf      33.9      38.1  a       \n",
            " 3              37.4 0.726 Inf      35.3      39.5  ab      \n",
            " 5              39.6 0.687 Inf      37.6      41.6   bc     \n",
            " 2              42.2 0.645 Inf      40.4      44.1    cd    \n",
            " 6              44.5 0.706 Inf      42.4      46.5     d    \n",
            " 0              49.6 0.618 Inf      47.8      51.3      e   \n",
            " -1             50.7 0.751 Inf      48.5      52.8      e   \n",
            " 7              50.8 0.698 Inf      48.8      52.8      e   \n",
            " 1              50.8 0.663 Inf      48.9      52.7      e   \n",
            " 10             62.0 0.760 Inf      59.8      64.2       f  \n",
            " 8              62.3 0.777 Inf      60.1      64.6       f  \n",
            " 9              64.3 0.773 Inf      62.1      66.5       f  \n",
            "\n",
            "CalvingSeason = Spring:\n",
            " MonthsInMilk lsmean    SE  df asymp.LCL asymp.UCL .group   \n",
            " -1             29.2 0.757 Inf      27.1      31.4  a       \n",
            " 10             30.5 0.824 Inf      28.2      32.9  a       \n",
            " 9              32.2 0.801 Inf      29.9      34.5  a       \n",
            " 8              37.5 0.704 Inf      35.5      39.5   b      \n",
            " 0              38.0 0.662 Inf      36.1      39.9   b      \n",
            " 7              44.0 0.703 Inf      42.0      46.0    c     \n",
            " 6              51.1 0.692 Inf      49.1      53.1     d    \n",
            " 5              59.3 0.775 Inf      57.1      61.5      e   \n",
            " 1              62.1 0.712 Inf      60.1      64.1      ef  \n",
            " 4              63.3 0.792 Inf      61.0      65.5       f  \n",
            " 3              67.6 0.788 Inf      65.4      69.9        g \n",
            " 2              69.2 0.775 Inf      66.9      71.4        g \n",
            "\n",
            "CalvingSeason = Summer:\n",
            " MonthsInMilk lsmean    SE  df asymp.LCL asymp.UCL .group   \n",
            " 7              33.4 0.760 Inf      31.2      35.6  a       \n",
            " 6              33.9 0.746 Inf      31.7      36.0  a       \n",
            " 8              36.0 0.714 Inf      33.9      38.0  ab      \n",
            " 5              37.9 0.672 Inf      36.0      39.8   b      \n",
            " 9              41.7 0.700 Inf      39.7      43.7    c     \n",
            " 4              43.3 0.663 Inf      41.4      45.2    c     \n",
            " 10             49.7 0.717 Inf      47.7      51.8     d    \n",
            " -1             49.7 0.743 Inf      47.6      51.8     d    \n",
            " 3              51.0 0.658 Inf      49.1      52.8     d    \n",
            " 0              58.3 0.681 Inf      56.4      60.2      e   \n",
            " 2              61.4 0.723 Inf      59.3      63.5       f  \n",
            " 1              68.0 0.732 Inf      65.9      70.1        g \n",
            "\n",
            "CalvingSeason = Winter:\n",
            " MonthsInMilk lsmean    SE  df asymp.LCL asymp.UCL .group   \n",
            " -1             29.9 0.813 Inf      27.5      32.2  a       \n",
            " 0              33.2 0.735 Inf      31.1      35.3   b      \n",
            " 1              41.4 0.773 Inf      39.2      43.6    c     \n",
            " 10             42.8 0.691 Inf      40.9      44.8    c     \n",
            " 2              43.9 0.705 Inf      41.9      45.9    c     \n",
            " 3              47.8 0.718 Inf      45.8      49.9     d    \n",
            " 9              51.1 0.694 Inf      49.1      53.1      e   \n",
            " 4              54.2 0.722 Inf      52.2      56.3       f  \n",
            " 8              60.3 0.768 Inf      58.1      62.5        g \n",
            " 7              64.0 0.781 Inf      61.8      66.2         h\n",
            " 5              65.6 0.804 Inf      63.3      67.9         h\n",
            " 6              65.8 0.799 Inf      63.5      68.1         h\n",
            "\n",
            "Results are averaged over the levels of: Parity \n",
            "Degrees-of-freedom method: asymptotic \n",
            "Confidence level used: 0.95 \n",
            "Conf-level adjustment: sidak method for 12 estimates \n",
            "P value adjustment: tukey method for comparing a family of 12 estimates \n",
            "significance level used: alpha = 0.05 \n"
          ],
          "name": "stdout"
        }
      ]
    },
    {
      "cell_type": "code",
      "metadata": {
        "colab": {
          "base_uri": "https://localhost:8080/",
          "height": 497
        },
        "id": "vU-MEVO5mjF_",
        "outputId": "381ecec2-13d4-439a-9e4c-cc8a3f16643b"
      },
      "source": [
        "%%R\n",
        "dfPValues <- summary(LSMs)[[2]]\n",
        "dfLMSs <- summary(LSMs)[[1]]\n",
        "dfLMSs %>% \n",
        "  mutate(label = if_else(MonthsInMilk == max(as.numeric(MonthsInMilk)), as.character(CalvingSeason), NA_character_)) %>%\n",
        "  ggplot(\n",
        "  aes(\n",
        "    x=MonthsInMilk,\n",
        "    y=lsmean,\n",
        "    group=CalvingSeason, \n",
        "    color=CalvingSeason)\n",
        "    ) +\n",
        "  geom_line() +  \n",
        "  geom_errorbar(\n",
        "    aes(ymin=asymp.LCL, \n",
        "        ymax=asymp.UCL), \n",
        "    width=.2,\n",
        "    position=position_dodge(0.05)) +\n",
        "  labs(\n",
        "    title = \"Walking time CMS (min/day)\", \n",
        "    y=\"Minutes per day\" , \n",
        "    x = \"Months in milk\") +\n",
        "  theme_bw() +\n",
        "  theme(plot.title = element_text(hjust = 0.5),\n",
        "        panel.border = element_blank(), \n",
        "        panel.grid.major = element_blank(),\n",
        "        panel.grid.minor = element_blank(), \n",
        "        axis.line = element_line(colour = \"black\"))"
      ],
      "execution_count": null,
      "outputs": [
        {
          "output_type": "display_data",
          "data": {
            "image/png": "[encoded data removed]"
          },
          "metadata": {
            "tags": []
          }
        }
      ]
    }
  ]
}