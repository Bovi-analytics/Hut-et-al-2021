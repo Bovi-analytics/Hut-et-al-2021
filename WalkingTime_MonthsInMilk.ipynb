{
  "nbformat": 4,
  "nbformat_minor": 0,
  "metadata": {
    "colab": {
      "name": "WalkingTime MonthsInMilk",
      "provenance": [],
      "collapsed_sections": [],
      "include_colab_link": true
    },
    "kernelspec": {
      "name": "python3",
      "display_name": "Python 3"
    }
  },
  "cells": [
    {
      "cell_type": "markdown",
      "metadata": {
        "id": "view-in-github",
        "colab_type": "text"
      },
      "source": [
        "<a href=\"https://colab.research.google.com/github/Bovi-analytics/Hut-et-al-2021/blob/master/WalkingTime_MonthsInMilk.ipynb\" target=\"_parent\"><img src=\"https://colab.research.google.com/assets/colab-badge.svg\" alt=\"Open In Colab\"/></a>"
      ]
    },
    {
      "cell_type": "markdown",
      "metadata": {
        "id": "YpoUtbLLC2Sl"
      },
      "source": [
        "# Statistical notebook for walking time MonthsInMilk"
      ]
    },
    {
      "cell_type": "markdown",
      "metadata": {
        "id": "AsEoCjSgC6A0"
      },
      "source": [
        "## Importing of google drive"
      ]
    },
    {
      "cell_type": "code",
      "metadata": {
        "colab": {
          "base_uri": "https://localhost:8080/"
        },
        "id": "WCUSUtqb21vg",
        "outputId": "f39f8fb9-d244-4a8f-ac0b-22b99f0c6b74"
      },
      "source": [
        "from google.colab import drive\n",
        "drive.mount('/content/drive')"
      ],
      "execution_count": null,
      "outputs": [
        {
          "output_type": "stream",
          "name": "stdout",
          "text": [
            "Mounted at /content/drive\n"
          ]
        }
      ]
    },
    {
      "cell_type": "markdown",
      "metadata": {
        "id": "hU1yIHIeC-Mz"
      },
      "source": [
        "## R loading"
      ]
    },
    {
      "cell_type": "code",
      "metadata": {
        "id": "TxkiqsiB23Kg"
      },
      "source": [
        "%reload_ext rpy2.ipython"
      ],
      "execution_count": null,
      "outputs": []
    },
    {
      "cell_type": "code",
      "metadata": {
        "id": "y_uD6Sgn5pAh"
      },
      "source": [
        "%%R\n",
        "lib_loc <- \"/content/drive/Shareddrives/Bovi-Analytics/R-lib/\""
      ],
      "execution_count": null,
      "outputs": []
    },
    {
      "cell_type": "code",
      "metadata": {
        "id": "DMSLfoXg5orx",
        "colab": {
          "base_uri": "https://localhost:8080/"
        },
        "outputId": "4ca33ba0-aef3-4e83-81ef-44ffc73feab7"
      },
      "source": [
        "%%R\n",
        "package_list <- c(\"ggplot2\",\n",
        "                  \"readr\",\n",
        "                  \"plyr\",\n",
        "                  \"dplyr\",\n",
        "                  \"tidyr\",                \n",
        "                  \"lme4\",\n",
        "                  \"lmerTest\",\n",
        "                  \"multcompView\",\n",
        "                  \"mvtnorm\",\n",
        "                  \"TH.data\",\n",
        "                  \"multcomp\",\n",
        "                  \"emmeans\",\n",
        "                  \"lsmeans\",\n",
        "                  \"carData\",\n",
        "                  \"car\"\n",
        "                  )\n",
        "\n",
        "for (pkg in package_list) {\n",
        "  if (pkg %in% rownames(.packages()) == FALSE)\n",
        "  {library(pkg, lib.loc = lib_loc, character.only = TRUE)}\n",
        "\n",
        "}"
      ],
      "execution_count": null,
      "outputs": [
        {
          "output_type": "stream",
          "name": "stderr",
          "text": [
            "R[write to console]: \n",
            "Attaching package: ‘dplyr’\n",
            "\n",
            "\n",
            "R[write to console]: The following objects are masked from ‘package:plyr’:\n",
            "\n",
            "    arrange, count, desc, failwith, id, mutate, rename, summarise,\n",
            "    summarize\n",
            "\n",
            "\n",
            "R[write to console]: The following object is masked from ‘package:ggplot2’:\n",
            "\n",
            "    vars\n",
            "\n",
            "\n",
            "R[write to console]: The following objects are masked from ‘package:stats’:\n",
            "\n",
            "    filter, lag\n",
            "\n",
            "\n",
            "R[write to console]: The following objects are masked from ‘package:base’:\n",
            "\n",
            "    intersect, setdiff, setequal, union\n",
            "\n",
            "\n",
            "R[write to console]: Loading required package: Matrix\n",
            "\n",
            "R[write to console]: \n",
            "Attaching package: ‘Matrix’\n",
            "\n",
            "\n",
            "R[write to console]: The following objects are masked from ‘package:tidyr’:\n",
            "\n",
            "    expand, pack, unpack\n",
            "\n",
            "\n",
            "R[write to console]: \n",
            "Attaching package: ‘lmerTest’\n",
            "\n",
            "\n",
            "R[write to console]: The following object is masked from ‘package:lme4’:\n",
            "\n",
            "    lmer\n",
            "\n",
            "\n",
            "R[write to console]: The following object is masked from ‘package:stats’:\n",
            "\n",
            "    step\n",
            "\n",
            "\n",
            "R[write to console]: Loading required package: survival\n",
            "\n",
            "R[write to console]: Loading required package: MASS\n",
            "\n",
            "R[write to console]: \n",
            "Attaching package: ‘MASS’\n",
            "\n",
            "\n",
            "R[write to console]: The following object is masked from ‘package:dplyr’:\n",
            "\n",
            "    select\n",
            "\n",
            "\n",
            "R[write to console]: \n",
            "Attaching package: ‘TH.data’\n",
            "\n",
            "\n",
            "R[write to console]: The following object is masked from ‘package:MASS’:\n",
            "\n",
            "    geyser\n",
            "\n",
            "\n",
            "R[write to console]: The 'lsmeans' package is now basically a front end for 'emmeans'.\n",
            "Users are encouraged to switch the rest of the way.\n",
            "See help('transition') for more information, including how to\n",
            "convert old 'lsmeans' objects and scripts to work with 'emmeans'.\n",
            "\n",
            "R[write to console]: Registered S3 methods overwritten by 'car':\n",
            "  method                          from\n",
            "  influence.merMod                lme4\n",
            "  cooks.distance.influence.merMod lme4\n",
            "  dfbeta.influence.merMod         lme4\n",
            "  dfbetas.influence.merMod        lme4\n",
            "\n",
            "R[write to console]: \n",
            "Attaching package: ‘car’\n",
            "\n",
            "\n",
            "R[write to console]: The following object is masked from ‘package:dplyr’:\n",
            "\n",
            "    recode\n",
            "\n",
            "\n"
          ]
        }
      ]
    },
    {
      "cell_type": "markdown",
      "metadata": {
        "id": "6g8R3oiMDUic"
      },
      "source": [
        "## Data loading into dataframe"
      ]
    },
    {
      "cell_type": "code",
      "metadata": {
        "id": "XKMnpccx3BDP"
      },
      "source": [
        "%%R\n",
        "url = ('/content/drive/Shareddrives/Bovi-Analytics/Projects/SenseOfSensors/CsvData/SensorAggRepartitioned02042021/ObservationType=WalkingTimePerDay/part-00000-tid-1349821109549544597-c9251edd-6d65-49bf-bc6f-941ced55eb0c-3065-39.c000.csv')\n",
        "\n",
        "dataset = read.csv(url)\n",
        "\n"
      ],
      "execution_count": null,
      "outputs": []
    },
    {
      "cell_type": "code",
      "metadata": {
        "id": "EdsoTgv63LDl"
      },
      "source": [
        "%%R\n",
        "\n",
        "#path <- \"/content/drive/Shareddrives/Bovi-Analytics/Projects/SenseOfSensors/CsvData/SensorAggRepartitioned08032021/ObservationType=WalkingTimeMinutesPer2Hours/part-00000-tid-5876581890551720600-0e9afc0a-339b-4a8d-9159-2f92fdf60451-17582-38.c000.csv\"\n",
        "AnalysisData <- \n",
        "  readr::read_csv(\"/content/drive/Shareddrives/Bovi-Analytics/Projects/SenseOfSensors/CsvData/SensorAggRepartitioned02042021/ObservationType=WalkingTimePerDay/part-00000-tid-1349821109549544597-c9251edd-6d65-49bf-bc6f-941ced55eb0c-3065-39.c000.csv\", \n",
        "    col_types = readr::cols(HerdIdentifier = readr::col_character(), \n",
        "        TransitionLactationNumber = readr::col_integer(), \n",
        "        TransitionParity = readr::col_character(), \n",
        "        TransitionMonthsInMilk = readr::col_integer(), \n",
        "        TransitionCalvingDate = readr::col_character(), \n",
        "        Hour = readr::col_integer(), \n",
        "        Observations = readr::col_integer())) %>% \n",
        "  dplyr::filter(dplyr::between(TransitionMonthsInMilk, -1, 10)) %>%\n",
        "   dplyr::mutate(\n",
        "    AnimalIdentifier = factor(AnimalIdentifier),\n",
        "    HerdIdentifier = factor(HerdIdentifier),\n",
        "    LactationNumber = factor(TransitionLactationNumber),\n",
        "    Parity = factor(TransitionParity),\n",
        "    MonthsInMilk = factor(TransitionMonthsInMilk),\n",
        "    numMonthsInMilk = TransitionMonthsInMilk,\n",
        "    CalvingSeason = factor(TransitionSeason),\n",
        "    Hour = factor(Hour),\n",
        "    SensorValue = ObservationValue,\n",
        "    MilkingType = factor(case_when(\n",
        "    HerdIdentifier %in% c(\"544\", \"2514\", \"3314\")~\"AMS\",\n",
        "    TRUE~\"CMS\"\n",
        "  ))\n",
        "  ) %>%\n",
        "  dplyr::select(AnimalIdentifier, HerdIdentifier, Parity, MonthsInMilk, numMonthsInMilk, CalvingSeason, Hour, SensorValue, MilkingType, LactationNumber) %>%\n",
        "  tidyr::drop_na()"
      ],
      "execution_count": null,
      "outputs": []
    },
    {
      "cell_type": "code",
      "metadata": {
        "id": "6tB88jG161J_",
        "colab": {
          "base_uri": "https://localhost:8080/"
        },
        "outputId": "76061c32-5e33-4183-8638-c4a5e626cd00"
      },
      "source": [
        "%%R\n",
        "head(AnalysisData)"
      ],
      "execution_count": null,
      "outputs": [
        {
          "output_type": "stream",
          "name": "stdout",
          "text": [
            "# A tibble: 6 × 10\n",
            "  AnimalIdentifier HerdIdentifier Parity MonthsInMilk numMonthsInMilk\n",
            "  <fct>            <fct>          <fct>  <fct>                  <int>\n",
            "1 70               2297           1      3                          3\n",
            "2 7829             2011           3+     7                          7\n",
            "3 7831             2011           3+     5                          5\n",
            "4 72               2297           2      3                          3\n",
            "5 71               2297           1      6                          6\n",
            "6 7955             2011           3+     5                          5\n",
            "# … with 5 more variables: CalvingSeason <fct>, Hour <fct>, SensorValue <dbl>,\n",
            "#   MilkingType <fct>, LactationNumber <fct>\n"
          ]
        }
      ]
    },
    {
      "cell_type": "code",
      "metadata": {
        "id": "F1V_3TaBTfdf",
        "colab": {
          "base_uri": "https://localhost:8080/"
        },
        "outputId": "a37a91c1-f303-4113-84f4-b279bfe5ba87"
      },
      "source": [
        "%%R\n",
        "str(AnalysisData)"
      ],
      "execution_count": null,
      "outputs": [
        {
          "output_type": "stream",
          "name": "stdout",
          "text": [
            "tibble [54,073 × 10] (S3: tbl_df/tbl/data.frame)\n",
            " $ AnimalIdentifier: Factor w/ 1051 levels \"1\",\"2\",\"3\",\"4\",..: 70 671 672 72 71 678 708 679 736 76 ...\n",
            " $ HerdIdentifier  : Factor w/ 8 levels \"2011\",\"2297\",..: 2 1 1 2 2 1 1 1 1 2 ...\n",
            " $ Parity          : Factor w/ 3 levels \"1\",\"2\",\"3+\": 1 3 3 2 1 3 3 3 3 2 ...\n",
            " $ MonthsInMilk    : Factor w/ 12 levels \"-1\",\"0\",\"1\",\"2\",..: 5 9 7 5 8 7 8 6 5 4 ...\n",
            " $ numMonthsInMilk : int [1:54073] 3 7 5 3 6 5 6 4 3 2 ...\n",
            " $ CalvingSeason   : Factor w/ 4 levels \"Autumn\",\"Spring\",..: 4 3 1 4 2 4 2 1 3 4 ...\n",
            " $ Hour            : Factor w/ 2 levels \"22\",\"23\": 1 2 1 2 1 1 1 2 1 1 ...\n",
            " $ SensorValue     : num [1:54073] 55.3 29 48.4 53.7 61.3 ...\n",
            " $ MilkingType     : Factor w/ 2 levels \"AMS\",\"CMS\": 2 2 2 2 2 2 2 2 2 2 ...\n",
            " $ LactationNumber : Factor w/ 13 levels \"1\",\"2\",\"3\",\"4\",..: 1 7 6 2 1 6 5 5 4 2 ...\n"
          ]
        }
      ]
    },
    {
      "cell_type": "markdown",
      "metadata": {
        "id": "w_wIGlvgDmxq"
      },
      "source": [
        "## Descriptive statistics"
      ]
    },
    {
      "cell_type": "code",
      "metadata": {
        "id": "45tZUG5dDp50",
        "colab": {
          "base_uri": "https://localhost:8080/"
        },
        "outputId": "6973cf55-f945-4827-f70e-984d73dd18a5"
      },
      "source": [
        "%%R\n",
        "AnalysisData %>%\n",
        "  group_by(Parity) %>%\n",
        "  summarise(Unique_Elements = n_distinct(AnimalIdentifier))"
      ],
      "execution_count": null,
      "outputs": [
        {
          "output_type": "stream",
          "name": "stdout",
          "text": [
            "# A tibble: 3 × 2\n",
            "  Parity Unique_Elements\n",
            "  <fct>            <int>\n",
            "1 1                  736\n",
            "2 2                  712\n",
            "3 3+                 742\n"
          ]
        }
      ]
    },
    {
      "cell_type": "code",
      "metadata": {
        "id": "MJRr0y9mDsE6",
        "colab": {
          "base_uri": "https://localhost:8080/"
        },
        "outputId": "bfa0a7f5-0089-47fb-d9b8-3ab8888eef51"
      },
      "source": [
        "%%R\n",
        "AnalysisData %>%\n",
        "  summarise(Unique_Elements = n_distinct(AnimalIdentifier))"
      ],
      "execution_count": null,
      "outputs": [
        {
          "output_type": "stream",
          "name": "stdout",
          "text": [
            "# A tibble: 1 × 1\n",
            "  Unique_Elements\n",
            "            <int>\n",
            "1            1051\n"
          ]
        }
      ]
    },
    {
      "cell_type": "code",
      "metadata": {
        "colab": {
          "base_uri": "https://localhost:8080/"
        },
        "id": "wS90oc0Yd-8b",
        "outputId": "cd98f2d1-a8f0-4c3b-d5e4-3a2e2e17d7c0"
      },
      "source": [
        "%%R\n",
        "AnalysisData %>%\n",
        "  group_by(LactationNumber) %>%\n",
        "  summarise(Unique_Elements = n_distinct(AnimalIdentifier))"
      ],
      "execution_count": null,
      "outputs": [
        {
          "output_type": "stream",
          "name": "stdout",
          "text": [
            "# A tibble: 13 × 2\n",
            "   LactationNumber Unique_Elements\n",
            "   <fct>                     <int>\n",
            " 1 1                           736\n",
            " 2 2                           712\n",
            " 3 3                           635\n",
            " 4 4                           483\n",
            " 5 5                           350\n",
            " 6 6                           208\n",
            " 7 7                           102\n",
            " 8 8                            51\n",
            " 9 9                            23\n",
            "10 10                           13\n",
            "11 11                            7\n",
            "12 12                            2\n",
            "13 13                            2\n"
          ]
        }
      ]
    },
    {
      "cell_type": "markdown",
      "metadata": {
        "id": "ZW8v7MjbD1Eh"
      },
      "source": [
        "# Model building"
      ]
    },
    {
      "cell_type": "markdown",
      "metadata": {
        "id": "s6XiVwQYD3Ph"
      },
      "source": [
        "First we determine the null model"
      ]
    },
    {
      "cell_type": "markdown",
      "metadata": {
        "id": "R3In3XAH6UNw"
      },
      "source": [
        "## Null model"
      ]
    },
    {
      "cell_type": "code",
      "metadata": {
        "id": "oMj6hll16TdN"
      },
      "source": [
        "%%R\n",
        "Model.0 <- lme4::lmer(\n",
        "                  SensorValue ~ 1 + (1 + numMonthsInMilk|AnimalIdentifier), \n",
        "                  data = AnalysisData\n",
        "                  )"
      ],
      "execution_count": null,
      "outputs": []
    },
    {
      "cell_type": "markdown",
      "metadata": {
        "id": "Y67KPZBG6Vtp"
      },
      "source": [
        "## Univariable models"
      ]
    },
    {
      "cell_type": "code",
      "metadata": {
        "id": "BtHdHQiAVH4_",
        "colab": {
          "base_uri": "https://localhost:8080/"
        },
        "outputId": "cfab7880-a7c4-418e-f813-ff852a79b7c5"
      },
      "source": [
        "%%R\n",
        "Model1.0 <- lme4::lmer(\n",
        "                  SensorValue ~ \n",
        "                  MonthsInMilk + \n",
        "                   (1 + numMonthsInMilk|AnimalIdentifier),\n",
        "                  REML = FALSE,\n",
        "                  data = AnalysisData\n",
        ")\n",
        "anova(Model.0,Model1.0,test=\"Chisq\")"
      ],
      "execution_count": null,
      "outputs": [
        {
          "output_type": "stream",
          "name": "stderr",
          "text": [
            "R[write to console]: refitting model(s) with ML (instead of REML)\n",
            "\n"
          ]
        },
        {
          "output_type": "stream",
          "name": "stdout",
          "text": [
            "Data: AnalysisData\n",
            "Models:\n",
            "Model.0: SensorValue ~ 1 + (1 + numMonthsInMilk | AnimalIdentifier)\n",
            "Model1.0: SensorValue ~ MonthsInMilk + (1 + numMonthsInMilk | AnimalIdentifier)\n",
            "         npar    AIC    BIC  logLik deviance  Chisq Df Pr(>Chisq)    \n",
            "Model.0     5 484340 484385 -242165   484330                         \n",
            "Model1.0   16 483030 483173 -241499   482998 1332.1 11  < 2.2e-16 ***\n",
            "---\n",
            "Signif. codes:  0 ‘***’ 0.001 ‘**’ 0.01 ‘*’ 0.05 ‘.’ 0.1 ‘ ’ 1\n"
          ]
        }
      ]
    },
    {
      "cell_type": "code",
      "metadata": {
        "id": "gMvqQic5VSOL",
        "colab": {
          "base_uri": "https://localhost:8080/"
        },
        "outputId": "45faede2-a916-4cf8-8212-abb5a12c04f4"
      },
      "source": [
        "%%R\n",
        "Model1.1 <- lme4::lmer(\n",
        "                  SensorValue ~ \n",
        "                  Parity + \n",
        "                  (1 + numMonthsInMilk|AnimalIdentifier),\n",
        "                  REML = FALSE,\n",
        "                  data = AnalysisData\n",
        "                  )\n",
        "anova(Model.0,Model1.1,test=\"Chisq\")"
      ],
      "execution_count": null,
      "outputs": [
        {
          "output_type": "stream",
          "name": "stderr",
          "text": [
            "R[write to console]: refitting model(s) with ML (instead of REML)\n",
            "\n"
          ]
        },
        {
          "output_type": "stream",
          "name": "stdout",
          "text": [
            "Data: AnalysisData\n",
            "Models:\n",
            "Model.0: SensorValue ~ 1 + (1 + numMonthsInMilk | AnimalIdentifier)\n",
            "Model1.1: SensorValue ~ Parity + (1 + numMonthsInMilk | AnimalIdentifier)\n",
            "         npar    AIC    BIC  logLik deviance  Chisq Df Pr(>Chisq)    \n",
            "Model.0     5 484340 484385 -242165   484330                         \n",
            "Model1.1    7 481329 481391 -240657   481315 3015.9  2  < 2.2e-16 ***\n",
            "---\n",
            "Signif. codes:  0 ‘***’ 0.001 ‘**’ 0.01 ‘*’ 0.05 ‘.’ 0.1 ‘ ’ 1\n"
          ]
        }
      ]
    },
    {
      "cell_type": "code",
      "metadata": {
        "id": "oszGEcBuVUqI",
        "colab": {
          "base_uri": "https://localhost:8080/"
        },
        "outputId": "886098fa-56a0-4218-d5bd-5405d6e48287"
      },
      "source": [
        "%%R\n",
        "Model1.2 <- lme4::lmer(\n",
        "                  SensorValue ~ \n",
        "                  CalvingSeason +\n",
        "                   (1 + numMonthsInMilk|AnimalIdentifier),\n",
        "                  REML = FALSE,\n",
        "                  data = AnalysisData\n",
        "                  )\n",
        "anova(Model.0,Model1.2,test=\"Chisq\")"
      ],
      "execution_count": null,
      "outputs": [
        {
          "output_type": "stream",
          "name": "stderr",
          "text": [
            "R[write to console]: refitting model(s) with ML (instead of REML)\n",
            "\n"
          ]
        },
        {
          "output_type": "stream",
          "name": "stdout",
          "text": [
            "Data: AnalysisData\n",
            "Models:\n",
            "Model.0: SensorValue ~ 1 + (1 + numMonthsInMilk | AnimalIdentifier)\n",
            "Model1.2: SensorValue ~ CalvingSeason + (1 + numMonthsInMilk | AnimalIdentifier)\n",
            "         npar    AIC    BIC  logLik deviance  Chisq Df Pr(>Chisq)    \n",
            "Model.0     5 484340 484385 -242165   484330                         \n",
            "Model1.2    8 484301 484372 -242142   484285 45.479  3  7.318e-10 ***\n",
            "---\n",
            "Signif. codes:  0 ‘***’ 0.001 ‘**’ 0.01 ‘*’ 0.05 ‘.’ 0.1 ‘ ’ 1\n"
          ]
        }
      ]
    },
    {
      "cell_type": "code",
      "metadata": {
        "id": "D1LlsEdpVWQP",
        "colab": {
          "base_uri": "https://localhost:8080/"
        },
        "outputId": "a9d51712-9aab-4013-93e5-2d55a079a126"
      },
      "source": [
        "%%R\n",
        "Model1.3 <- lme4::lmer(\n",
        "                  SensorValue ~ \n",
        "                  MilkingType +\n",
        "                   (1 + numMonthsInMilk|AnimalIdentifier),\n",
        "                  REML = FALSE,\n",
        "                  data = AnalysisData\n",
        "                  )\n",
        "anova(Model.0,Model1.3,test=\"Chisq\")"
      ],
      "execution_count": null,
      "outputs": [
        {
          "output_type": "stream",
          "name": "stderr",
          "text": [
            "R[write to console]: refitting model(s) with ML (instead of REML)\n",
            "\n"
          ]
        },
        {
          "output_type": "stream",
          "name": "stdout",
          "text": [
            "Data: AnalysisData\n",
            "Models:\n",
            "Model.0: SensorValue ~ 1 + (1 + numMonthsInMilk | AnimalIdentifier)\n",
            "Model1.3: SensorValue ~ MilkingType + (1 + numMonthsInMilk | AnimalIdentifier)\n",
            "         npar    AIC    BIC  logLik deviance  Chisq Df Pr(>Chisq)    \n",
            "Model.0     5 484340 484385 -242165   484330                         \n",
            "Model1.3    6 480083 480137 -240036   480071 4259.1  1  < 2.2e-16 ***\n",
            "---\n",
            "Signif. codes:  0 ‘***’ 0.001 ‘**’ 0.01 ‘*’ 0.05 ‘.’ 0.1 ‘ ’ 1\n"
          ]
        }
      ]
    },
    {
      "cell_type": "markdown",
      "metadata": {
        "id": "JyLvQIPsEOwy"
      },
      "source": [
        "## Multivariable models"
      ]
    },
    {
      "cell_type": "code",
      "metadata": {
        "id": "cH-WW4kMESTb",
        "colab": {
          "base_uri": "https://localhost:8080/"
        },
        "outputId": "aa9b7c7d-9b2e-43ee-82a7-fafd0327b5a4"
      },
      "source": [
        "%%R\n",
        "Model2.0 <- lme4::lmer(\n",
        "                  SensorValue ~ \n",
        "                  Parity + MonthsInMilk + CalvingSeason + MilkingType + HerdIdentifier +\n",
        "                   (1 + numMonthsInMilk|AnimalIdentifier),\n",
        "                  REML = FALSE,\n",
        "                  data = AnalysisData\n",
        "                  )"
      ],
      "execution_count": null,
      "outputs": [
        {
          "output_type": "stream",
          "name": "stderr",
          "text": [
            "R[write to console]: fixed-effect model matrix is rank deficient so dropping 1 column / coefficient\n",
            "\n"
          ]
        }
      ]
    },
    {
      "cell_type": "code",
      "metadata": {
        "id": "juYHYPvcEXsE",
        "colab": {
          "base_uri": "https://localhost:8080/"
        },
        "outputId": "25ebfd49-ea70-45d1-894b-130101c53182"
      },
      "source": [
        "%%R\n",
        "drop1(Model2.0,test=\"Chisq\")"
      ],
      "execution_count": null,
      "outputs": [
        {
          "output_type": "stream",
          "text": [
            "Single term deletions\n",
            "\n",
            "Model:\n",
            "SensorValue ~ Parity + MonthsInMilk + CalvingSeason + MilkingType + \n",
            "    (1 + numMonthsInMilk | HerdIdentifier/AnimalIdentifier)\n",
            "              npar    AIC     LRT   Pr(Chi)    \n",
            "<none>             471405                      \n",
            "Parity           2 473456 2055.05 < 2.2e-16 ***\n",
            "MonthsInMilk    11 472973 1589.46 < 2.2e-16 ***\n",
            "CalvingSeason    3 471417   17.91 0.0004589 ***\n",
            "MilkingType      1 471416   12.44 0.0004200 ***\n",
            "---\n",
            "Signif. codes:  0 ‘***’ 0.001 ‘**’ 0.01 ‘*’ 0.05 ‘.’ 0.1 ‘ ’ 1\n"
          ],
          "name": "stdout"
        }
      ]
    },
    {
      "cell_type": "markdown",
      "metadata": {
        "id": "rBTUaZIWEZgg"
      },
      "source": [
        "## Introduction of interactions"
      ]
    },
    {
      "cell_type": "markdown",
      "metadata": {
        "id": "GD9hdCSTEdwm"
      },
      "source": [
        "### Interactions with MonthsInMilk"
      ]
    },
    {
      "cell_type": "code",
      "metadata": {
        "id": "ewJXyqohEhNB",
        "colab": {
          "base_uri": "https://localhost:8080/"
        },
        "outputId": "eeaaba12-b1b7-4a7a-a705-6a74f874d384"
      },
      "source": [
        "%%R\n",
        "Model2.1 <- lme4::lmer(\n",
        "                  SensorValue ~ \n",
        "                  MonthsInMilk*Parity + CalvingSeason + MilkingType +\n",
        "                   (1 + numMonthsInMilk| HerdIdentifier/AnimalIdentifier),\n",
        "                  REML = FALSE,\n",
        "                  data = AnalysisData\n",
        "                  )\n",
        "anova(Model2.0,Model2.1,test=\"Chisq\")"
      ],
      "execution_count": null,
      "outputs": [
        {
          "output_type": "stream",
          "text": [
            "Data: AnalysisData\n",
            "Models:\n",
            "Model2.0: SensorValue ~ Parity + MonthsInMilk + CalvingSeason + MilkingType + \n",
            "Model2.0:     (1 + numMonthsInMilk | HerdIdentifier/AnimalIdentifier)\n",
            "Model2.1: SensorValue ~ MonthsInMilk * Parity + CalvingSeason + MilkingType + \n",
            "Model2.1:     (1 + numMonthsInMilk | HerdIdentifier/AnimalIdentifier)\n",
            "         npar    AIC    BIC  logLik deviance  Chisq Df Pr(>Chisq)    \n",
            "Model2.0   25 471405 471628 -235678   471355                         \n",
            "Model2.1   47 471167 471586 -235537   471073 281.86 22  < 2.2e-16 ***\n",
            "---\n",
            "Signif. codes:  0 ‘***’ 0.001 ‘**’ 0.01 ‘*’ 0.05 ‘.’ 0.1 ‘ ’ 1\n"
          ],
          "name": "stdout"
        }
      ]
    },
    {
      "cell_type": "code",
      "metadata": {
        "id": "pimdyzxCEklt",
        "colab": {
          "base_uri": "https://localhost:8080/"
        },
        "outputId": "445182af-24f7-4637-8957-960056b97856"
      },
      "source": [
        "%%R\n",
        "Model2.2 <- lme4::lmer(\n",
        "                  SensorValue ~ \n",
        "                  MonthsInMilk*MilkingType + CalvingSeason + Parity +\n",
        "                   (1 + numMonthsInMilk| HerdIdentifier/AnimalIdentifier),\n",
        "                  REML = FALSE,\n",
        "                  data = AnalysisData\n",
        "                  )\n",
        "anova(Model2.0,Model2.2,test=\"Chisq\")"
      ],
      "execution_count": null,
      "outputs": [
        {
          "output_type": "stream",
          "text": [
            "Data: AnalysisData\n",
            "Models:\n",
            "Model2.0: SensorValue ~ Parity + MonthsInMilk + CalvingSeason + MilkingType + \n",
            "Model2.0:     (1 + numMonthsInMilk | HerdIdentifier/AnimalIdentifier)\n",
            "Model2.2: SensorValue ~ MonthsInMilk * MilkingType + CalvingSeason + Parity + \n",
            "Model2.2:     (1 + numMonthsInMilk | HerdIdentifier/AnimalIdentifier)\n",
            "         npar    AIC    BIC  logLik deviance  Chisq Df Pr(>Chisq)    \n",
            "Model2.0   25 471405 471628 -235678   471355                         \n",
            "Model2.2   36 471382 471702 -235655   471310 45.132 11    4.6e-06 ***\n",
            "---\n",
            "Signif. codes:  0 ‘***’ 0.001 ‘**’ 0.01 ‘*’ 0.05 ‘.’ 0.1 ‘ ’ 1\n"
          ],
          "name": "stdout"
        }
      ]
    },
    {
      "cell_type": "code",
      "metadata": {
        "id": "kRwyShvzEmwd",
        "colab": {
          "base_uri": "https://localhost:8080/"
        },
        "outputId": "83500d39-018c-460e-e2e1-22d95a938b51"
      },
      "source": [
        "%%R\n",
        "Model2.3 <- lme4::lmer(\n",
        "                  SensorValue ~ \n",
        "                  MonthsInMilk*CalvingSeason + Parity + MilkingType +\n",
        "                   (1 + numMonthsInMilk| HerdIdentifier/AnimalIdentifier),\n",
        "                  REML = FALSE,\n",
        "                  data = AnalysisData\n",
        "                  )\n",
        "anova(Model2.0,Model2.3,test=\"Chisq\")"
      ],
      "execution_count": null,
      "outputs": [
        {
          "output_type": "stream",
          "text": [
            "Data: AnalysisData\n",
            "Models:\n",
            "Model2.0: SensorValue ~ Parity + MonthsInMilk + CalvingSeason + MilkingType + \n",
            "Model2.0:     (1 + numMonthsInMilk | HerdIdentifier/AnimalIdentifier)\n",
            "Model2.3: SensorValue ~ MonthsInMilk * CalvingSeason + Parity + MilkingType + \n",
            "Model2.3:     (1 + numMonthsInMilk | HerdIdentifier/AnimalIdentifier)\n",
            "         npar    AIC    BIC  logLik deviance Chisq Df Pr(>Chisq)    \n",
            "Model2.0   25 471405 471628 -235678   471355                        \n",
            "Model2.3   58 461246 461762 -230565   461130 10226 33  < 2.2e-16 ***\n",
            "---\n",
            "Signif. codes:  0 ‘***’ 0.001 ‘**’ 0.01 ‘*’ 0.05 ‘.’ 0.1 ‘ ’ 1\n"
          ],
          "name": "stdout"
        }
      ]
    },
    {
      "cell_type": "markdown",
      "metadata": {
        "id": "H72Wpr2FEqS7"
      },
      "source": [
        "## Multiple interactions"
      ]
    },
    {
      "cell_type": "code",
      "metadata": {
        "id": "7H-WGZYiEuJC",
        "colab": {
          "base_uri": "https://localhost:8080/"
        },
        "outputId": "d13d5366-53b6-421d-a173-e5e5a5a67139"
      },
      "source": [
        "%%R\n",
        "Model2.4 <- lme4::lmer(\n",
        "                  SensorValue ~ \n",
        "                  MonthsInMilk*CalvingSeason + \n",
        "                  MonthsInMilk*Parity + \n",
        "                  MonthsInMilk*MilkingType +\n",
        "                   (1 + numMonthsInMilk| HerdIdentifier/AnimalIdentifier),\n",
        "                  REML = FALSE,\n",
        "                  data = AnalysisData\n",
        "                  )\n",
        "anova(Model2.0,Model2.4,test=\"Chisq\")"
      ],
      "execution_count": null,
      "outputs": [
        {
          "output_type": "stream",
          "text": [
            "Data: AnalysisData\n",
            "Models:\n",
            "Model2.0: SensorValue ~ Parity + MonthsInMilk + CalvingSeason + MilkingType + \n",
            "Model2.0:     (1 + numMonthsInMilk | HerdIdentifier/AnimalIdentifier)\n",
            "Model2.4: SensorValue ~ MonthsInMilk * CalvingSeason + MonthsInMilk * Parity + \n",
            "Model2.4:     MonthsInMilk * MilkingType + (1 + numMonthsInMilk | HerdIdentifier/AnimalIdentifier)\n",
            "         npar    AIC    BIC  logLik deviance Chisq Df Pr(>Chisq)    \n",
            "Model2.0   25 471405 471628 -235678   471355                        \n",
            "Model2.4   91 460902 461712 -230360   460720 10635 66  < 2.2e-16 ***\n",
            "---\n",
            "Signif. codes:  0 ‘***’ 0.001 ‘**’ 0.01 ‘*’ 0.05 ‘.’ 0.1 ‘ ’ 1\n"
          ],
          "name": "stdout"
        }
      ]
    },
    {
      "cell_type": "code",
      "source": [
        "%%R\n",
        "Model2.5 <- lme4::lmer(\n",
        "                  SensorValue ~ \n",
        "                  MonthsInMilk*CalvingSeason + \n",
        "                  MonthsInMilk*Parity + \n",
        "                  MonthsInMilk*HerdIdentifier +\n",
        "                  (1 + numMonthsInMilk|AnimalIdentifier),\n",
        "                  REML = FALSE,\n",
        "                  data = AnalysisData\n",
        "                  )\n",
        "anova(Model2.0,Model2.5,test=\"Chisq\")"
      ],
      "metadata": {
        "colab": {
          "base_uri": "https://localhost:8080/"
        },
        "id": "Ao4yyfRc3c2c",
        "outputId": "12f94426-8929-4b00-a8c6-7415a21b9c21"
      },
      "execution_count": null,
      "outputs": [
        {
          "output_type": "stream",
          "name": "stdout",
          "text": [
            "Data: AnalysisData\n",
            "Models:\n",
            "Model2.0: SensorValue ~ Parity + MonthsInMilk + CalvingSeason + MilkingType + \n",
            "Model2.0:     HerdIdentifier + (1 + numMonthsInMilk | AnimalIdentifier)\n",
            "Model2.5: SensorValue ~ MonthsInMilk * CalvingSeason + MonthsInMilk * Parity + \n",
            "Model2.5:     MonthsInMilk * HerdIdentifier + (1 + numMonthsInMilk | AnimalIdentifier)\n",
            "         npar    AIC    BIC  logLik deviance Chisq  Df Pr(>Chisq)    \n",
            "Model2.0   28 475307 475557 -237626   475251                         \n",
            "Model2.5  160 464188 465612 -231934   463868 11383 132  < 2.2e-16 ***\n",
            "---\n",
            "Signif. codes:  0 ‘***’ 0.001 ‘**’ 0.01 ‘*’ 0.05 ‘.’ 0.1 ‘ ’ 1\n"
          ]
        }
      ]
    },
    {
      "cell_type": "code",
      "metadata": {
        "id": "Y1ulFPNmEyg2",
        "colab": {
          "base_uri": "https://localhost:8080/"
        },
        "outputId": "b128f30d-a9a9-441a-a258-770edd9a1ee1"
      },
      "source": [
        "%%R\n",
        "summary(Model2.5)"
      ],
      "execution_count": null,
      "outputs": [
        {
          "output_type": "stream",
          "name": "stdout",
          "text": [
            "Linear mixed model fit by maximum likelihood  ['lmerMod']\n",
            "Formula: SensorValue ~ MonthsInMilk * CalvingSeason + MonthsInMilk * Parity +  \n",
            "    MonthsInMilk * HerdIdentifier + (1 + numMonthsInMilk | AnimalIdentifier)\n",
            "   Data: AnalysisData\n",
            "\n",
            "      AIC       BIC    logLik  deviance  df.resid \n",
            " 464187.9  465611.6 -231934.0  463867.9     53913 \n",
            "\n",
            "Scaled residuals: \n",
            "    Min      1Q  Median      3Q     Max \n",
            "-4.4839 -0.5471 -0.0938  0.4269 29.9279 \n",
            "\n",
            "Random effects:\n",
            " Groups           Name            Variance Std.Dev. Corr \n",
            " AnimalIdentifier (Intercept)      78.6478  8.868        \n",
            "                  numMonthsInMilk   0.9762  0.988   -0.58\n",
            " Residual                         294.6946 17.167        \n",
            "Number of obs: 54073, groups:  AnimalIdentifier, 1051\n",
            "\n",
            "Fixed effects:\n",
            "                                   Estimate Std. Error t value\n",
            "(Intercept)                         49.6977     1.1451  43.402\n",
            "MonthsInMilk0                        8.5134     1.2890   6.605\n",
            "MonthsInMilk1                       17.9684     1.3123  13.692\n",
            "MonthsInMilk2                        7.2412     1.3052   5.548\n",
            "MonthsInMilk3                        1.5910     1.3430   1.185\n",
            "MonthsInMilk4                       -1.2764     1.3591  -0.939\n",
            "MonthsInMilk5                        2.3117     1.3484   1.714\n",
            "MonthsInMilk6                        5.3989     1.3734   3.931\n",
            "MonthsInMilk7                        8.9415     1.3893   6.436\n",
            "MonthsInMilk8                       17.1194     1.4368  11.915\n",
            "MonthsInMilk9                       18.1186     1.4505  12.491\n",
            "MonthsInMilk10                      15.2397     1.4694  10.372\n",
            "CalvingSeasonSpring                -19.8076     0.7915 -25.026\n",
            "CalvingSeasonSummer                 -2.0233     0.7512  -2.694\n",
            "CalvingSeasonWinter                -17.3702     0.8111 -21.416\n",
            "Parity2                             -0.4093     0.8553  -0.478\n",
            "Parity3+                            -7.6978     0.7712  -9.981\n",
            "HerdIdentifier2297                  -7.4418     1.2715  -5.853\n",
            "HerdIdentifier2514                 -11.4809     1.3806  -8.316\n",
            "HerdIdentifier2746                  20.3291     1.2402  16.392\n",
            "HerdIdentifier3                     -0.1568     1.3276  -0.118\n",
            "HerdIdentifier3314                 -10.3348     1.3801  -7.488\n",
            "HerdIdentifier544                   -4.9581     1.2302  -4.030\n",
            "HerdIdentifier5888                  -1.1568     1.2448  -0.929\n",
            "MonthsInMilk0:CalvingSeasonSpring    7.6201     0.9935   7.670\n",
            "MonthsInMilk1:CalvingSeasonSpring   27.8075     1.0344  26.882\n",
            "MonthsInMilk2:CalvingSeasonSpring   40.1018     1.0621  37.756\n",
            "MonthsInMilk3:CalvingSeasonSpring   43.2768     1.1017  39.283\n",
            "MonthsInMilk4:CalvingSeasonSpring   41.2087     1.1099  37.128\n",
            "MonthsInMilk5:CalvingSeasonSpring   35.6310     1.0865  32.794\n",
            "MonthsInMilk6:CalvingSeasonSpring   25.4504     1.0577  24.062\n",
            "MonthsInMilk7:CalvingSeasonSpring   15.4918     1.0688  14.494\n",
            "MonthsInMilk8:CalvingSeasonSpring    2.2133     1.1084   1.997\n",
            "MonthsInMilk9:CalvingSeasonSpring   -3.4393     1.1563  -2.974\n",
            "MonthsInMilk10:CalvingSeasonSpring  -3.2416     1.1696  -2.771\n",
            "MonthsInMilk0:CalvingSeasonSummer    6.9854     0.9599   7.277\n",
            "MonthsInMilk1:CalvingSeasonSummer   14.6870     0.9978  14.719\n",
            "MonthsInMilk2:CalvingSeasonSummer   16.4177     0.9902  16.580\n",
            "MonthsInMilk3:CalvingSeasonSummer   12.2933     0.9991  12.305\n",
            "MonthsInMilk4:CalvingSeasonSummer    7.7186     1.0067   7.668\n",
            "MonthsInMilk5:CalvingSeasonSummer    1.5107     0.9938   1.520\n",
            "MonthsInMilk6:CalvingSeasonSummer   -4.5792     1.0351  -4.424\n",
            "MonthsInMilk7:CalvingSeasonSummer   -8.8125     1.0447  -8.435\n",
            "MonthsInMilk8:CalvingSeasonSummer  -15.1411     1.0650 -14.216\n",
            "MonthsInMilk9:CalvingSeasonSummer  -13.6045     1.0702 -12.712\n",
            "MonthsInMilk10:CalvingSeasonSummer  -7.1379     1.0807  -6.605\n",
            "MonthsInMilk0:CalvingSeasonWinter    2.2301     1.0423   2.140\n",
            "MonthsInMilk1:CalvingSeasonWinter    8.6787     1.0809   8.029\n",
            "MonthsInMilk2:CalvingSeasonWinter   17.3104     1.0453  16.560\n",
            "MonthsInMilk3:CalvingSeasonWinter   24.2252     1.0822  22.385\n",
            "MonthsInMilk4:CalvingSeasonWinter   30.1604     1.0941  27.567\n",
            "MonthsInMilk5:CalvingSeasonWinter   36.5820     1.1153  32.801\n",
            "MonthsInMilk6:CalvingSeasonWinter   34.2766     1.1231  30.520\n",
            "MonthsInMilk7:CalvingSeasonWinter   28.4893     1.1187  25.467\n",
            "MonthsInMilk8:CalvingSeasonWinter   17.2225     1.1500  14.976\n",
            "MonthsInMilk9:CalvingSeasonWinter    7.9928     1.1232   7.116\n",
            "MonthsInMilk10:CalvingSeasonWinter   2.3573     1.1242   2.097\n",
            "MonthsInMilk0:Parity2              -10.8922     1.0969  -9.930\n",
            "MonthsInMilk1:Parity2              -11.2735     1.1291  -9.984\n",
            "MonthsInMilk2:Parity2               -9.5310     1.1160  -8.540\n",
            "MonthsInMilk3:Parity2               -8.2765     1.1190  -7.397\n",
            "MonthsInMilk4:Parity2               -5.9810     1.1192  -5.344\n",
            "MonthsInMilk5:Parity2               -6.0910     1.1178  -5.449\n",
            "MonthsInMilk6:Parity2               -5.8440     1.1200  -5.218\n",
            "MonthsInMilk7:Parity2               -4.6608     1.1192  -4.165\n",
            "MonthsInMilk8:Parity2               -6.1147     1.1245  -5.438\n",
            "MonthsInMilk9:Parity2               -5.6701     1.1204  -5.061\n",
            "MonthsInMilk10:Parity2              -4.8177     1.1197  -4.303\n",
            "MonthsInMilk0:Parity3+             -10.5660     0.9697 -10.896\n",
            "MonthsInMilk1:Parity3+             -11.5952     0.9990 -11.607\n",
            "MonthsInMilk2:Parity3+              -8.3411     0.9903  -8.423\n",
            "MonthsInMilk3:Parity3+              -5.7312     0.9919  -5.778\n",
            "MonthsInMilk4:Parity3+              -2.6235     0.9938  -2.640\n",
            "MonthsInMilk5:Parity3+              -3.0293     0.9946  -3.046\n",
            "MonthsInMilk6:Parity3+              -2.2113     0.9996  -2.212\n",
            "MonthsInMilk7:Parity3+              -1.5729     1.0028  -1.568\n",
            "MonthsInMilk8:Parity3+              -2.4333     1.0070  -2.416\n",
            "MonthsInMilk9:Parity3+              -2.0543     1.0093  -2.035\n",
            "MonthsInMilk10:Parity3+             -1.3103     1.0113  -1.296\n",
            "MonthsInMilk0:HerdIdentifier2297     3.9294     1.3053   3.010\n",
            "MonthsInMilk1:HerdIdentifier2297     2.3727     1.3632   1.741\n",
            "MonthsInMilk2:HerdIdentifier2297     3.3839     1.3623   2.484\n",
            "MonthsInMilk3:HerdIdentifier2297     3.8683     1.4026   2.758\n",
            "MonthsInMilk4:HerdIdentifier2297     3.3954     1.4307   2.373\n",
            "MonthsInMilk5:HerdIdentifier2297     1.7385     1.4574   1.193\n",
            "MonthsInMilk6:HerdIdentifier2297     2.2984     1.4983   1.534\n",
            "MonthsInMilk7:HerdIdentifier2297     2.0292     1.5414   1.316\n",
            "MonthsInMilk8:HerdIdentifier2297     2.0022     1.5905   1.259\n",
            "MonthsInMilk9:HerdIdentifier2297     2.5285     1.6343   1.547\n",
            "MonthsInMilk10:HerdIdentifier2297    2.5559     1.6911   1.511\n",
            "MonthsInMilk0:HerdIdentifier2514    -0.6297     1.4869  -0.423\n",
            "MonthsInMilk1:HerdIdentifier2514    -7.4011     1.4919  -4.961\n",
            "MonthsInMilk2:HerdIdentifier2514    -6.4209     1.5093  -4.254\n",
            "MonthsInMilk3:HerdIdentifier2514    -3.8048     1.5363  -2.477\n",
            "MonthsInMilk4:HerdIdentifier2514    -2.6811     1.5562  -1.723\n",
            "MonthsInMilk5:HerdIdentifier2514    -4.4916     1.5823  -2.839\n",
            "MonthsInMilk6:HerdIdentifier2514    -4.9805     1.6327  -3.050\n",
            "MonthsInMilk7:HerdIdentifier2514    -4.7732     1.6830  -2.836\n",
            "MonthsInMilk8:HerdIdentifier2514    -5.5050     1.7228  -3.195\n",
            "MonthsInMilk9:HerdIdentifier2514    -5.9922     1.7678  -3.390\n",
            "MonthsInMilk10:HerdIdentifier2514   -6.7746     1.8123  -3.738\n",
            "MonthsInMilk0:HerdIdentifier2746    -5.3994     1.2654  -4.267\n",
            "MonthsInMilk1:HerdIdentifier2746   -19.6748     1.3329 -14.761\n",
            "MonthsInMilk2:HerdIdentifier2746   -18.3017     1.3368 -13.690\n",
            "MonthsInMilk3:HerdIdentifier2746   -20.8452     1.3518 -15.420\n",
            "MonthsInMilk4:HerdIdentifier2746   -21.7747     1.3820 -15.756\n",
            "MonthsInMilk5:HerdIdentifier2746   -23.3176     1.4210 -16.410\n",
            "MonthsInMilk6:HerdIdentifier2746   -24.3587     1.4568 -16.720\n",
            "MonthsInMilk7:HerdIdentifier2746   -23.7806     1.4975 -15.881\n",
            "MonthsInMilk8:HerdIdentifier2746   -22.5240     1.5472 -14.558\n",
            "MonthsInMilk9:HerdIdentifier2746   -20.8811     1.5945 -13.096\n",
            "MonthsInMilk10:HerdIdentifier2746  -17.5434     1.6520 -10.620\n",
            "MonthsInMilk0:HerdIdentifier3        0.9759     1.4101   0.692\n",
            "MonthsInMilk1:HerdIdentifier3       -4.5244     1.4766  -3.064\n",
            "MonthsInMilk2:HerdIdentifier3       -2.2862     1.4709  -1.554\n",
            "MonthsInMilk3:HerdIdentifier3       -0.5500     1.5042  -0.366\n",
            "MonthsInMilk4:HerdIdentifier3       -1.7274     1.5331  -1.127\n",
            "MonthsInMilk5:HerdIdentifier3       -4.8008     1.5691  -3.060\n",
            "MonthsInMilk6:HerdIdentifier3       -5.3210     1.6114  -3.302\n",
            "MonthsInMilk7:HerdIdentifier3       -5.2472     1.6505  -3.179\n",
            "MonthsInMilk8:HerdIdentifier3       -2.5854     1.6877  -1.532\n",
            "MonthsInMilk9:HerdIdentifier3       -2.2040     1.7346  -1.271\n",
            "MonthsInMilk10:HerdIdentifier3      -2.1319     1.7908  -1.191\n",
            "MonthsInMilk0:HerdIdentifier3314     1.9495     1.5010   1.299\n",
            "MonthsInMilk1:HerdIdentifier3314    -4.2373     1.5939  -2.659\n",
            "MonthsInMilk2:HerdIdentifier3314    -3.1095     1.5845  -1.962\n",
            "MonthsInMilk3:HerdIdentifier3314    -1.5587     1.6067  -0.970\n",
            "MonthsInMilk4:HerdIdentifier3314    -2.2232     1.6412  -1.355\n",
            "MonthsInMilk5:HerdIdentifier3314    -5.5508     1.6702  -3.323\n",
            "MonthsInMilk6:HerdIdentifier3314    -6.6212     1.6995  -3.896\n",
            "MonthsInMilk7:HerdIdentifier3314    -7.2419     1.7520  -4.133\n",
            "MonthsInMilk8:HerdIdentifier3314    -6.6474     1.7955  -3.702\n",
            "MonthsInMilk9:HerdIdentifier3314    -6.1462     1.8346  -3.350\n",
            "MonthsInMilk10:HerdIdentifier3314   -4.1617     1.8877  -2.205\n",
            "MonthsInMilk0:HerdIdentifier544     -2.4614     1.2627  -1.949\n",
            "MonthsInMilk1:HerdIdentifier544    -13.3992     1.3203 -10.149\n",
            "MonthsInMilk2:HerdIdentifier544    -13.8515     1.3179 -10.510\n",
            "MonthsInMilk3:HerdIdentifier544    -13.9204     1.3458 -10.344\n",
            "MonthsInMilk4:HerdIdentifier544    -13.9661     1.3803 -10.118\n",
            "MonthsInMilk5:HerdIdentifier544    -15.9198     1.4072 -11.313\n",
            "MonthsInMilk6:HerdIdentifier544    -16.1129     1.4487 -11.122\n",
            "MonthsInMilk7:HerdIdentifier544    -16.6455     1.4825 -11.228\n",
            "MonthsInMilk8:HerdIdentifier544    -16.1734     1.5334 -10.547\n",
            "MonthsInMilk9:HerdIdentifier544    -15.5089     1.5771  -9.834\n",
            "MonthsInMilk10:HerdIdentifier544   -14.3326     1.6257  -8.816\n",
            "MonthsInMilk0:HerdIdentifier5888    -1.3715     1.2893  -1.064\n",
            "MonthsInMilk1:HerdIdentifier5888   -15.7728     1.3167 -11.979\n",
            "MonthsInMilk2:HerdIdentifier5888   -12.3054     1.3307  -9.247\n",
            "MonthsInMilk3:HerdIdentifier5888   -11.4277     1.3648  -8.373\n",
            "MonthsInMilk4:HerdIdentifier5888   -12.0784     1.3965  -8.649\n",
            "MonthsInMilk5:HerdIdentifier5888   -12.7676     1.4310  -8.922\n",
            "MonthsInMilk6:HerdIdentifier5888   -12.1187     1.4738  -8.223\n",
            "MonthsInMilk7:HerdIdentifier5888   -11.5342     1.5143  -7.617\n",
            "MonthsInMilk8:HerdIdentifier5888    -9.9996     1.5684  -6.376\n",
            "MonthsInMilk9:HerdIdentifier5888    -9.1719     1.6132  -5.685\n",
            "MonthsInMilk10:HerdIdentifier5888   -7.1472     1.6637  -4.296\n"
          ]
        },
        {
          "output_type": "stream",
          "name": "stderr",
          "text": [
            "R[write to console]: \n",
            "Correlation matrix not shown by default, as p = 156 > 12.\n",
            "Use print(object, correlation=TRUE)  or\n",
            "    vcov(object)        if you need it\n",
            "\n",
            "\n"
          ]
        },
        {
          "output_type": "stream",
          "name": "stdout",
          "text": [
            "optimizer (nloptwrap) convergence code: 0 (OK)\n",
            "Model failed to converge with max|grad| = 0.0031113 (tol = 0.002, component 1)\n",
            "\n"
          ]
        }
      ]
    },
    {
      "cell_type": "code",
      "metadata": {
        "id": "vivz5dkpE6UE",
        "colab": {
          "base_uri": "https://localhost:8080/"
        },
        "outputId": "f61758ce-ae16-434e-88b5-40556eefd6f5"
      },
      "source": [
        "%%R\n",
        "finalModel <- Model2.5\n",
        "Modeldrop <- drop1(finalModel, test=\"Chisq\")\n",
        "if(\"Pr(>F)\" %in% colnames(Modeldrop))\n",
        "{\n",
        "  Pvalues <- Modeldrop$`Pr(>F)`\n",
        "} else \n",
        "{\n",
        "  Pvalues <- Modeldrop$`Pr(Chi)`\n",
        "}\n",
        "Modeldrop"
      ],
      "execution_count": null,
      "outputs": [
        {
          "output_type": "stream",
          "name": "stdout",
          "text": [
            "Single term deletions\n",
            "\n",
            "Model:\n",
            "SensorValue ~ MonthsInMilk * CalvingSeason + MonthsInMilk * Parity + \n",
            "    MonthsInMilk * HerdIdentifier + (1 + numMonthsInMilk | AnimalIdentifier)\n",
            "                            npar    AIC     LRT   Pr(Chi)    \n",
            "<none>                           464188                      \n",
            "MonthsInMilk:CalvingSeason    33 474124 10002.5 < 2.2e-16 ***\n",
            "MonthsInMilk:Parity           22 464540   396.4 < 2.2e-16 ***\n",
            "MonthsInMilk:HerdIdentifier   77 465328  1294.0 < 2.2e-16 ***\n",
            "---\n",
            "Signif. codes:  0 ‘***’ 0.001 ‘**’ 0.01 ‘*’ 0.05 ‘.’ 0.1 ‘ ’ 1\n"
          ]
        }
      ]
    },
    {
      "cell_type": "code",
      "metadata": {
        "colab": {
          "base_uri": "https://localhost:8080/"
        },
        "id": "zPHw4FYJxmF2",
        "outputId": "b264f7ed-fc53-4ac6-ac0a-fe0115737dfd"
      },
      "source": [
        "%%R\n",
        "Model2.5 <- lme4::lmer(\n",
        "                  SensorValue ~ \n",
        "                  MonthsInMilk*CalvingSeason + \n",
        "                  MonthsInMilk*Parity + \n",
        "                  MonthsInMilk*MilkingType +\n",
        "                  MonthsInMilk*MilkingType*CalvingSeason + \n",
        "                   (1 + numMonthsInMilk| HerdIdentifier/AnimalIdentifier),\n",
        "                  REML = FALSE,\n",
        "                  data = AnalysisData\n",
        "                  )\n",
        "anova(Model2.0,Model2.5,test=\"Chisq\")"
      ],
      "execution_count": null,
      "outputs": [
        {
          "output_type": "stream",
          "text": [
            "Data: AnalysisData\n",
            "Models:\n",
            "Model2.0: SensorValue ~ Parity + MonthsInMilk + CalvingSeason + MilkingType + \n",
            "Model2.0:     (1 + numMonthsInMilk | HerdIdentifier/AnimalIdentifier)\n",
            "Model2.5: SensorValue ~ MonthsInMilk * CalvingSeason + MonthsInMilk * Parity + \n",
            "Model2.5:     MonthsInMilk * MilkingType + MonthsInMilk * MilkingType * \n",
            "Model2.5:     CalvingSeason + (1 + numMonthsInMilk | HerdIdentifier/AnimalIdentifier)\n",
            "         npar    AIC    BIC  logLik deviance Chisq  Df Pr(>Chisq)    \n",
            "Model2.0   25 471405 471628 -235678   471355                         \n",
            "Model2.5  127 458530 459661 -229138   458276 13079 102  < 2.2e-16 ***\n",
            "---\n",
            "Signif. codes:  0 ‘***’ 0.001 ‘**’ 0.01 ‘*’ 0.05 ‘.’ 0.1 ‘ ’ 1\n"
          ],
          "name": "stdout"
        }
      ]
    },
    {
      "cell_type": "code",
      "metadata": {
        "colab": {
          "base_uri": "https://localhost:8080/"
        },
        "id": "HZUkre_IyCTT",
        "outputId": "56526af5-097c-4380-88f8-f5a25dd8fcb8"
      },
      "source": [
        "%%R\n",
        "summary(Model2.5)"
      ],
      "execution_count": null,
      "outputs": [
        {
          "output_type": "stream",
          "text": [
            "Linear mixed model fit by maximum likelihood  ['lmerMod']\n",
            "Formula: SensorValue ~ MonthsInMilk * CalvingSeason + MonthsInMilk * Parity +  \n",
            "    MonthsInMilk * MilkingType + MonthsInMilk * MilkingType *  \n",
            "    CalvingSeason + (1 + numMonthsInMilk | HerdIdentifier/AnimalIdentifier)\n",
            "   Data: AnalysisData\n",
            "\n",
            "      AIC       BIC    logLik  deviance  df.resid \n",
            " 458530.5  459660.5 -229138.2  458276.5     53946 \n",
            "\n",
            "Scaled residuals: \n",
            "    Min      1Q  Median      3Q     Max \n",
            "-5.3292 -0.4813 -0.0703  0.3753 29.0499 \n",
            "\n",
            "Random effects:\n",
            " Groups                          Name            Variance Std.Dev. Corr \n",
            " AnimalIdentifier:HerdIdentifier (Intercept)     106.288  10.310        \n",
            "                                 numMonthsInMilk   1.388   1.178   -0.66\n",
            " HerdIdentifier                  (Intercept)      17.336   4.164        \n",
            "                                 numMonthsInMilk   0.149   0.386   -0.63\n",
            " Residual                                        254.897  15.966        \n",
            "Number of obs: 54073, groups:  \n",
            "AnimalIdentifier:HerdIdentifier, 1689; HerdIdentifier, 8\n",
            "\n",
            "Fixed effects:\n",
            "                                                   Estimate Std. Error t value\n",
            "(Intercept)                                        37.74959    2.82805  13.348\n",
            "MonthsInMilk0                                      10.40143    1.37298   7.576\n",
            "MonthsInMilk1                                      14.83086    1.46871  10.098\n",
            "MonthsInMilk2                                       6.82787    1.53700   4.442\n",
            "MonthsInMilk3                                       3.77371    1.70809   2.209\n",
            "MonthsInMilk4                                       0.41884    1.85160   0.226\n",
            "MonthsInMilk5                                      -0.27737    1.97253  -0.141\n",
            "MonthsInMilk6                                      -1.22708    2.14564  -0.572\n",
            "MonthsInMilk7                                      -1.56486    2.32704  -0.672\n",
            "MonthsInMilk8                                       1.13971    2.55704   0.446\n",
            "MonthsInMilk9                                       2.78517    2.75136   1.012\n",
            "MonthsInMilk10                                      3.37391    2.94864   1.144\n",
            "CalvingSeasonSpring                               -12.19898    1.41271  -8.635\n",
            "CalvingSeasonSummer                                -1.27118    1.27382  -0.998\n",
            "CalvingSeasonWinter                                -7.87197    1.42216  -5.535\n",
            "Parity2                                            -1.52417    0.80378  -1.896\n",
            "Parity3+                                           -7.93967    0.73354 -10.824\n",
            "MilkingTypeCMS                                     16.72595    3.46991   4.820\n",
            "MonthsInMilk0:CalvingSeasonSpring                   2.24632    1.71158   1.312\n",
            "MonthsInMilk1:CalvingSeasonSpring                  11.72602    1.78789   6.559\n",
            "MonthsInMilk2:CalvingSeasonSpring                  15.40517    1.85254   8.316\n",
            "MonthsInMilk3:CalvingSeasonSpring                  18.08751    1.91439   9.448\n",
            "MonthsInMilk4:CalvingSeasonSpring                  18.34482    1.93335   9.489\n",
            "MonthsInMilk5:CalvingSeasonSpring                  16.74244    1.90489   8.789\n",
            "MonthsInMilk6:CalvingSeasonSpring                  14.25029    1.85058   7.700\n",
            "MonthsInMilk7:CalvingSeasonSpring                  11.63662    1.89131   6.153\n",
            "MonthsInMilk8:CalvingSeasonSpring                   8.51399    1.96211   4.339\n",
            "MonthsInMilk9:CalvingSeasonSpring                   6.08897    2.04647   2.975\n",
            "MonthsInMilk10:CalvingSeasonSpring                  4.65779    2.07727   2.242\n",
            "MonthsInMilk0:CalvingSeasonSummer                   1.48318    1.54750   0.958\n",
            "MonthsInMilk1:CalvingSeasonSummer                   4.09670    1.60982   2.545\n",
            "MonthsInMilk2:CalvingSeasonSummer                   4.86017    1.60478   3.029\n",
            "MonthsInMilk3:CalvingSeasonSummer                   2.70608    1.62666   1.664\n",
            "MonthsInMilk4:CalvingSeasonSummer                   1.95545    1.64518   1.189\n",
            "MonthsInMilk5:CalvingSeasonSummer                   0.54710    1.63003   0.336\n",
            "MonthsInMilk6:CalvingSeasonSummer                   0.28216    1.69660   0.166\n",
            "MonthsInMilk7:CalvingSeasonSummer                   0.71186    1.72286   0.413\n",
            "MonthsInMilk8:CalvingSeasonSummer                  -1.39925    1.76986  -0.791\n",
            "MonthsInMilk9:CalvingSeasonSummer                  -3.50184    1.79984  -1.946\n",
            "MonthsInMilk10:CalvingSeasonSummer                 -4.28395    1.83402  -2.336\n",
            "MonthsInMilk0:CalvingSeasonWinter                  -1.22469    1.76787  -0.693\n",
            "MonthsInMilk1:CalvingSeasonWinter                   5.68984    1.86700   3.048\n",
            "MonthsInMilk2:CalvingSeasonWinter                   7.67760    1.80682   4.249\n",
            "MonthsInMilk3:CalvingSeasonWinter                   8.59819    1.86197   4.618\n",
            "MonthsInMilk4:CalvingSeasonWinter                   9.25736    1.89559   4.884\n",
            "MonthsInMilk5:CalvingSeasonWinter                  10.06184    1.94632   5.170\n",
            "MonthsInMilk6:CalvingSeasonWinter                  13.58475    1.96354   6.919\n",
            "MonthsInMilk7:CalvingSeasonWinter                  12.86568    1.97188   6.525\n",
            "MonthsInMilk8:CalvingSeasonWinter                   9.49817    2.03029   4.678\n",
            "MonthsInMilk9:CalvingSeasonWinter                   6.12742    1.99145   3.077\n",
            "MonthsInMilk10:CalvingSeasonWinter                  2.36059    2.01165   1.173\n",
            "MonthsInMilk0:Parity2                              -9.75652    1.02087  -9.557\n",
            "MonthsInMilk1:Parity2                              -9.88053    1.05387  -9.375\n",
            "MonthsInMilk2:Parity2                              -7.90927    1.04270  -7.585\n",
            "MonthsInMilk3:Parity2                              -6.69355    1.04615  -6.398\n",
            "MonthsInMilk4:Parity2                              -4.16878    1.04733  -3.980\n",
            "MonthsInMilk5:Parity2                              -4.23587    1.04691  -4.046\n",
            "MonthsInMilk6:Parity2                              -4.09717    1.04930  -3.905\n",
            "MonthsInMilk7:Parity2                              -3.12715    1.04943  -2.980\n",
            "MonthsInMilk8:Parity2                              -4.45247    1.05522  -4.219\n",
            "MonthsInMilk9:Parity2                              -4.15267    1.05245  -3.946\n",
            "MonthsInMilk10:Parity2                             -3.65430    1.05247  -3.472\n",
            "MonthsInMilk0:Parity3+                             -9.41146    0.90172 -10.437\n",
            "MonthsInMilk1:Parity3+                            -10.34367    0.93194 -11.099\n",
            "MonthsInMilk2:Parity3+                             -6.96558    0.92499  -7.530\n",
            "MonthsInMilk3:Parity3+                             -4.36646    0.92819  -4.704\n",
            "MonthsInMilk4:Parity3+                             -1.01000    0.93248  -1.083\n",
            "MonthsInMilk5:Parity3+                             -1.26739    0.93536  -1.355\n",
            "MonthsInMilk6:Parity3+                             -0.44355    0.94265  -0.471\n",
            "MonthsInMilk7:Parity3+                             -0.03838    0.94925  -0.040\n",
            "MonthsInMilk8:Parity3+                             -0.84789    0.95707  -0.886\n",
            "MonthsInMilk9:Parity3+                             -0.89852    0.96359  -0.932\n",
            "MonthsInMilk10:Parity3+                            -0.50112    0.97003  -0.517\n",
            "MonthsInMilk0:MilkingTypeCMS                       -5.05425    1.38211  -3.657\n",
            "MonthsInMilk1:MilkingTypeCMS                       -8.23421    1.51421  -5.438\n",
            "MonthsInMilk2:MilkingTypeCMS                      -11.03946    1.63673  -6.745\n",
            "MonthsInMilk3:MilkingTypeCMS                      -14.10465    1.88273  -7.492\n",
            "MonthsInMilk4:MilkingTypeCMS                      -14.15113    2.08888  -6.774\n",
            "MonthsInMilk5:MilkingTypeCMS                      -10.09878    2.26526  -4.458\n",
            "MonthsInMilk6:MilkingTypeCMS                       -4.62292    2.50544  -1.845\n",
            "MonthsInMilk7:MilkingTypeCMS                        1.62384    2.75194   0.590\n",
            "MonthsInMilk8:MilkingTypeCMS                       10.68966    3.05444   3.500\n",
            "MonthsInMilk9:MilkingTypeCMS                       10.88581    3.31275   3.286\n",
            "MonthsInMilk10:MilkingTypeCMS                       7.36915    3.57430   2.062\n",
            "CalvingSeasonSpring:MilkingTypeCMS                -10.67876    1.69014  -6.318\n",
            "CalvingSeasonSummer:MilkingTypeCMS                 -1.59729    1.55629  -1.026\n",
            "CalvingSeasonWinter:MilkingTypeCMS                -13.45628    1.71511  -7.846\n",
            "MonthsInMilk0:CalvingSeasonSpring:MilkingTypeCMS    7.47170    2.03276   3.676\n",
            "MonthsInMilk1:CalvingSeasonSpring:MilkingTypeCMS   21.72785    2.12361  10.232\n",
            "MonthsInMilk2:CalvingSeasonSpring:MilkingTypeCMS   33.84966    2.19456  15.424\n",
            "MonthsInMilk3:CalvingSeasonSpring:MilkingTypeCMS   34.54453    2.27425  15.189\n",
            "MonthsInMilk4:CalvingSeasonSpring:MilkingTypeCMS   31.52608    2.29950  13.710\n",
            "MonthsInMilk5:CalvingSeasonSpring:MilkingTypeCMS   25.94145    2.26609  11.448\n",
            "MonthsInMilk6:CalvingSeasonSpring:MilkingTypeCMS   15.59307    2.21192   7.050\n",
            "MonthsInMilk7:CalvingSeasonSpring:MilkingTypeCMS    4.59029    2.25796   2.033\n",
            "MonthsInMilk8:CalvingSeasonSpring:MilkingTypeCMS  -10.04878    2.34772  -4.280\n",
            "MonthsInMilk9:CalvingSeasonSpring:MilkingTypeCMS  -14.71089    2.45461  -5.993\n",
            "MonthsInMilk10:CalvingSeasonSpring:MilkingTypeCMS -12.32162    2.49780  -4.933\n",
            "MonthsInMilk0:CalvingSeasonSummer:MilkingTypeCMS    7.75718    1.89295   4.098\n",
            "MonthsInMilk1:CalvingSeasonSummer:MilkingTypeCMS   14.75132    1.97131   7.483\n",
            "MonthsInMilk2:CalvingSeasonSummer:MilkingTypeCMS   16.48717    1.96331   8.398\n",
            "MonthsInMilk3:CalvingSeasonSummer:MilkingTypeCMS   13.22136    1.98990   6.644\n",
            "MonthsInMilk4:CalvingSeasonSummer:MilkingTypeCMS    7.95240    2.01359   3.949\n",
            "MonthsInMilk5:CalvingSeasonSummer:MilkingTypeCMS    0.85307    1.99762   0.427\n",
            "MonthsInMilk6:CalvingSeasonSummer:MilkingTypeCMS   -7.52317    2.08541  -3.608\n",
            "MonthsInMilk7:CalvingSeasonSummer:MilkingTypeCMS  -14.57461    2.11820  -6.881\n",
            "MonthsInMilk8:CalvingSeasonSummer:MilkingTypeCMS  -20.88297    2.17609  -9.597\n",
            "MonthsInMilk9:CalvingSeasonSummer:MilkingTypeCMS  -14.54492    2.20894  -6.585\n",
            "MonthsInMilk10:CalvingSeasonSummer:MilkingTypeCMS  -2.85672    2.25065  -1.269\n",
            "MonthsInMilk0:CalvingSeasonWinter:MilkingTypeCMS    5.49841    2.11572   2.599\n",
            "MonthsInMilk1:CalvingSeasonWinter:MilkingTypeCMS    6.17477    2.22205   2.779\n",
            "MonthsInMilk2:CalvingSeasonWinter:MilkingTypeCMS   15.31399    2.15300   7.113\n",
            "MonthsInMilk3:CalvingSeasonWinter:MilkingTypeCMS   23.11649    2.22602  10.385\n",
            "MonthsInMilk4:CalvingSeasonWinter:MilkingTypeCMS   30.15983    2.26393  13.322\n",
            "MonthsInMilk5:CalvingSeasonWinter:MilkingTypeCMS   37.18175    2.32194  16.013\n",
            "MonthsInMilk6:CalvingSeasonWinter:MilkingTypeCMS   28.87367    2.34725  12.301\n",
            "MonthsInMilk7:CalvingSeasonWinter:MilkingTypeCMS   21.22777    2.35666   9.008\n",
            "MonthsInMilk8:CalvingSeasonWinter:MilkingTypeCMS    9.55029    2.43040   3.930\n",
            "MonthsInMilk9:CalvingSeasonWinter:MilkingTypeCMS    1.64730    2.38999   0.689\n",
            "MonthsInMilk10:CalvingSeasonWinter:MilkingTypeCMS  -0.56811    2.41495  -0.235\n"
          ],
          "name": "stdout"
        },
        {
          "output_type": "stream",
          "text": [
            "R[write to console]: \n",
            "Correlation matrix not shown by default, as p = 120 > 12.\n",
            "Use print(object, correlation=TRUE)  or\n",
            "    vcov(object)        if you need it\n",
            "\n",
            "\n"
          ],
          "name": "stderr"
        },
        {
          "output_type": "stream",
          "text": [
            "optimizer (nloptwrap) convergence code: 0 (OK)\n",
            "Model failed to converge with max|grad| = 0.0135256 (tol = 0.002, component 1)\n",
            "\n"
          ],
          "name": "stdout"
        }
      ]
    },
    {
      "cell_type": "code",
      "metadata": {
        "colab": {
          "base_uri": "https://localhost:8080/"
        },
        "id": "0jMrV_Tr0hdU",
        "outputId": "31650c8c-aaa2-4578-e100-aba1f36bd09a"
      },
      "source": [
        "%%R\n",
        "Model2.6 <- lme4::lmer(\n",
        "                  SensorValue ~ \n",
        "                  MonthsInMilk*CalvingSeason + \n",
        "                  MonthsInMilk*Parity + \n",
        "                  MonthsInMilk*MilkingType +\n",
        "                  MonthsInMilk*MilkingType*CalvingSeason + \n",
        "                  MonthsInMilk*Parity*MilkingType*CalvingSeason +\n",
        "                   (1 + numMonthsInMilk| HerdIdentifier/AnimalIdentifier),\n",
        "                  REML = FALSE,\n",
        "                  data = AnalysisData\n",
        "                  )\n",
        "anova(Model2.0,Model2.6,test=\"Chisq\")"
      ],
      "execution_count": null,
      "outputs": [
        {
          "output_type": "stream",
          "text": [
            "Data: AnalysisData\n",
            "Models:\n",
            "Model2.0: SensorValue ~ Parity + MonthsInMilk + CalvingSeason + MilkingType + \n",
            "Model2.0:     (1 + numMonthsInMilk | HerdIdentifier/AnimalIdentifier)\n",
            "Model2.6: SensorValue ~ MonthsInMilk * CalvingSeason + MonthsInMilk * Parity + \n",
            "Model2.6:     MonthsInMilk * MilkingType + MonthsInMilk * MilkingType * \n",
            "Model2.6:     CalvingSeason + MonthsInMilk * Parity * MilkingType * CalvingSeason + \n",
            "Model2.6:     (1 + numMonthsInMilk | HerdIdentifier/AnimalIdentifier)\n",
            "         npar    AIC    BIC  logLik deviance Chisq  Df Pr(>Chisq)    \n",
            "Model2.0   25 471405 471628 -235678   471355                         \n",
            "Model2.6  295 458354 460979 -228882   457764 13591 270  < 2.2e-16 ***\n",
            "---\n",
            "Signif. codes:  0 ‘***’ 0.001 ‘**’ 0.01 ‘*’ 0.05 ‘.’ 0.1 ‘ ’ 1\n"
          ],
          "name": "stdout"
        }
      ]
    },
    {
      "cell_type": "code",
      "metadata": {
        "colab": {
          "base_uri": "https://localhost:8080/"
        },
        "id": "DTJKUkdU07Wq",
        "outputId": "8958016e-acee-4d0a-e5f7-2e104b5fade5"
      },
      "source": [
        "%%R\n",
        "summary(Model2.6)"
      ],
      "execution_count": null,
      "outputs": [
        {
          "output_type": "stream",
          "text": [
            "Linear mixed model fit by maximum likelihood  ['lmerMod']\n",
            "Formula: SensorValue ~ MonthsInMilk * CalvingSeason + MonthsInMilk * Parity +  \n",
            "    MonthsInMilk * MilkingType + MonthsInMilk * MilkingType *  \n",
            "    CalvingSeason + MonthsInMilk * Parity * MilkingType * CalvingSeason +  \n",
            "    (1 + numMonthsInMilk | HerdIdentifier/AnimalIdentifier)\n",
            "   Data: AnalysisData\n",
            "\n",
            "      AIC       BIC    logLik  deviance  df.resid \n",
            " 458354.5  460979.4 -228882.2  457764.5     53778 \n",
            "\n",
            "Scaled residuals: \n",
            "    Min      1Q  Median      3Q     Max \n",
            "-5.3839 -0.4786 -0.0685  0.3742 29.1746 \n",
            "\n",
            "Random effects:\n",
            " Groups                          Name            Variance Std.Dev. Corr \n",
            " AnimalIdentifier:HerdIdentifier (Intercept)     106.4517 10.3175       \n",
            "                                 numMonthsInMilk   1.3821  1.1756  -0.66\n",
            " HerdIdentifier                  (Intercept)      17.2455  4.1528       \n",
            "                                 numMonthsInMilk   0.1494  0.3865  -0.62\n",
            " Residual                                        252.3546 15.8857       \n",
            "Number of obs: 54073, groups:  \n",
            "AnimalIdentifier:HerdIdentifier, 1689; HerdIdentifier, 8\n",
            "\n",
            "Fixed effects:\n",
            "                                                           Estimate Std. Error\n",
            "(Intercept)                                                 34.1346     3.6323\n",
            "MonthsInMilk0                                               13.9843     3.2471\n",
            "MonthsInMilk1                                               14.8101     3.2975\n",
            "MonthsInMilk2                                                6.9079     3.1168\n",
            "MonthsInMilk3                                                3.6954     3.3219\n",
            "MonthsInMilk4                                                2.5978     3.3625\n",
            "MonthsInMilk5                                                2.1454     3.3332\n",
            "MonthsInMilk6                                                0.9085     3.4502\n",
            "MonthsInMilk7                                                0.3988     3.5318\n",
            "MonthsInMilk8                                                2.2290     3.7930\n",
            "MonthsInMilk9                                                4.2491     3.9139\n",
            "MonthsInMilk10                                               6.3993     4.0140\n",
            "CalvingSeasonSpring                                         -8.0822     3.4838\n",
            "CalvingSeasonSummer                                         -6.0147     3.5158\n",
            "CalvingSeasonWinter                                         26.4278     4.0376\n",
            "Parity2                                                      2.6040     3.0445\n",
            "Parity3+                                                    -3.5527     2.7803\n",
            "MilkingTypeCMS                                              18.3400     4.4140\n",
            "MonthsInMilk0:CalvingSeasonSpring                           -4.7092     4.5355\n",
            "MonthsInMilk1:CalvingSeasonSpring                           13.5388     4.7485\n",
            "MonthsInMilk2:CalvingSeasonSpring                           16.4841     4.6371\n",
            "MonthsInMilk3:CalvingSeasonSpring                           18.1569     4.6788\n",
            "MonthsInMilk4:CalvingSeasonSpring                           17.9540     4.6662\n",
            "MonthsInMilk5:CalvingSeasonSpring                           13.9831     4.5352\n",
            "MonthsInMilk6:CalvingSeasonSpring                           10.0636     4.3415\n",
            "MonthsInMilk7:CalvingSeasonSpring                            8.2998     4.3759\n",
            "MonthsInMilk8:CalvingSeasonSpring                            6.5882     4.4083\n",
            "MonthsInMilk9:CalvingSeasonSpring                            2.2959     4.4817\n",
            "MonthsInMilk10:CalvingSeasonSpring                          -1.2992     4.4368\n",
            "MonthsInMilk0:CalvingSeasonSummer                            3.7414     4.4767\n",
            "MonthsInMilk1:CalvingSeasonSummer                           14.8227     4.5737\n",
            "MonthsInMilk2:CalvingSeasonSummer                           13.1956     4.3366\n",
            "MonthsInMilk3:CalvingSeasonSummer                            9.6969     4.2969\n",
            "MonthsInMilk4:CalvingSeasonSummer                            8.4191     4.2381\n",
            "MonthsInMilk5:CalvingSeasonSummer                            6.1766     4.1304\n",
            "MonthsInMilk6:CalvingSeasonSummer                            6.3290     4.2158\n",
            "MonthsInMilk7:CalvingSeasonSummer                            5.5107     4.2036\n",
            "MonthsInMilk8:CalvingSeasonSummer                            4.2048     4.2842\n",
            "MonthsInMilk9:CalvingSeasonSummer                            1.0222     4.2799\n",
            "MonthsInMilk10:CalvingSeasonSummer                          -1.4209     4.2518\n",
            "MonthsInMilk0:CalvingSeasonWinter                          -36.9520     5.0332\n",
            "MonthsInMilk1:CalvingSeasonWinter                          -27.2278     5.3868\n",
            "MonthsInMilk2:CalvingSeasonWinter                          -27.2425     5.0350\n",
            "MonthsInMilk3:CalvingSeasonWinter                          -28.5259     5.2062\n",
            "MonthsInMilk4:CalvingSeasonWinter                          -28.9135     5.1023\n",
            "MonthsInMilk5:CalvingSeasonWinter                          -28.3830     5.1745\n",
            "MonthsInMilk6:CalvingSeasonWinter                          -23.1341     5.0949\n",
            "MonthsInMilk7:CalvingSeasonWinter                          -21.0164     5.0050\n",
            "MonthsInMilk8:CalvingSeasonWinter                          -24.4830     5.0434\n",
            "MonthsInMilk9:CalvingSeasonWinter                          -28.5305     4.8873\n",
            "MonthsInMilk10:CalvingSeasonWinter                         -32.8937     4.8300\n",
            "MonthsInMilk0:Parity2                                      -13.4863     3.9191\n",
            "MonthsInMilk1:Parity2                                       -9.8174     3.9503\n",
            "MonthsInMilk2:Parity2                                       -9.3926     3.7921\n",
            "MonthsInMilk3:Parity2                                       -7.1347     3.9795\n",
            "MonthsInMilk4:Parity2                                       -6.2261     3.9573\n",
            "MonthsInMilk5:Parity2                                       -7.5904     3.8134\n",
            "MonthsInMilk6:Parity2                                       -6.2317     3.7801\n",
            "MonthsInMilk7:Parity2                                       -5.8192     3.7688\n",
            "MonthsInMilk8:Parity2                                       -6.3709     3.9974\n",
            "MonthsInMilk9:Parity2                                       -7.0084     3.9825\n",
            "MonthsInMilk10:Parity2                                      -7.0334     3.9596\n",
            "MonthsInMilk0:Parity3+                                     -13.6254     3.5297\n",
            "MonthsInMilk1:Parity3+                                     -10.2758     3.5781\n",
            "MonthsInMilk2:Parity3+                                      -6.0666     3.3709\n",
            "MonthsInMilk3:Parity3+                                      -3.5924     3.5559\n",
            "MonthsInMilk4:Parity3+                                      -3.5066     3.5449\n",
            "MonthsInMilk5:Parity3+                                      -3.6320     3.3998\n",
            "MonthsInMilk6:Parity3+                                      -2.8517     3.4260\n",
            "MonthsInMilk7:Parity3+                                      -1.8030     3.3988\n",
            "MonthsInMilk8:Parity3+                                      -1.3866     3.5950\n",
            "MonthsInMilk9:Parity3+                                      -1.7043     3.5940\n",
            "MonthsInMilk10:Parity3+                                     -4.0011     3.5533\n",
            "MonthsInMilk0:MilkingTypeCMS                                -7.3816     3.6974\n",
            "MonthsInMilk1:MilkingTypeCMS                                -5.5803     3.7646\n",
            "MonthsInMilk2:MilkingTypeCMS                                -9.6589     3.6307\n",
            "MonthsInMilk3:MilkingTypeCMS                               -12.5462     3.8735\n",
            "MonthsInMilk4:MilkingTypeCMS                               -14.1632     3.9479\n",
            "MonthsInMilk5:MilkingTypeCMS                               -10.5985     3.9442\n",
            "MonthsInMilk6:MilkingTypeCMS                                -5.5520     4.1030\n",
            "MonthsInMilk7:MilkingTypeCMS                                 1.9045     4.2281\n",
            "MonthsInMilk8:MilkingTypeCMS                                13.8100     4.5473\n",
            "MonthsInMilk9:MilkingTypeCMS                                15.9721     4.7108\n",
            "MonthsInMilk10:MilkingTypeCMS                                8.6351     4.8591\n",
            "CalvingSeasonSpring:MilkingTypeCMS                         -17.1629     4.0213\n",
            "CalvingSeasonSummer:MilkingTypeCMS                           5.3361     4.1164\n",
            "CalvingSeasonWinter:MilkingTypeCMS                         -40.0294     4.5970\n",
            "Parity2:MilkingTypeCMS                                       2.0962     3.5934\n",
            "Parity3+:MilkingTypeCMS                                     -3.6716     3.2724\n",
            "CalvingSeasonSpring:Parity2                                 -6.4753     4.2769\n",
            "CalvingSeasonSummer:Parity2                                  3.9853     4.1926\n",
            "CalvingSeasonWinter:Parity2                                -37.8518     4.7372\n",
            "CalvingSeasonSpring:Parity3+                                -4.1325     3.9248\n",
            "CalvingSeasonSummer:Parity3+                                 5.5915     3.8285\n",
            "CalvingSeasonWinter:Parity3+                               -38.7560     4.3957\n",
            "MonthsInMilk0:CalvingSeasonSpring:MilkingTypeCMS            15.6148     5.1228\n",
            "MonthsInMilk1:CalvingSeasonSpring:MilkingTypeCMS            21.2260     5.3269\n",
            "MonthsInMilk2:CalvingSeasonSpring:MilkingTypeCMS            37.6449     5.2574\n",
            "MonthsInMilk3:CalvingSeasonSpring:MilkingTypeCMS            38.8015     5.3244\n",
            "MonthsInMilk4:CalvingSeasonSpring:MilkingTypeCMS            34.1011     5.3186\n",
            "MonthsInMilk5:CalvingSeasonSpring:MilkingTypeCMS            31.3033     5.1872\n",
            "MonthsInMilk6:CalvingSeasonSpring:MilkingTypeCMS            23.9809     4.9983\n",
            "MonthsInMilk7:CalvingSeasonSpring:MilkingTypeCMS             8.8941     5.0347\n",
            "MonthsInMilk8:CalvingSeasonSpring:MilkingTypeCMS            -8.9885     5.1004\n",
            "MonthsInMilk9:CalvingSeasonSpring:MilkingTypeCMS           -15.9538     5.2029\n",
            "MonthsInMilk10:CalvingSeasonSpring:MilkingTypeCMS           -7.9654     5.1733\n",
            "MonthsInMilk0:CalvingSeasonSummer:MilkingTypeCMS            10.1258     5.1481\n",
            "MonthsInMilk1:CalvingSeasonSummer:MilkingTypeCMS             0.1303     5.2663\n",
            "MonthsInMilk2:CalvingSeasonSummer:MilkingTypeCMS             6.9893     5.0593\n",
            "MonthsInMilk3:CalvingSeasonSummer:MilkingTypeCMS             5.7072     5.0229\n",
            "MonthsInMilk4:CalvingSeasonSummer:MilkingTypeCMS             0.6197     4.9826\n",
            "MonthsInMilk5:CalvingSeasonSummer:MilkingTypeCMS            -6.8518     4.8742\n",
            "MonthsInMilk6:CalvingSeasonSummer:MilkingTypeCMS           -15.9002     4.9936\n",
            "MonthsInMilk7:CalvingSeasonSummer:MilkingTypeCMS           -22.5580     4.9917\n",
            "MonthsInMilk8:CalvingSeasonSummer:MilkingTypeCMS           -31.3799     5.0815\n",
            "MonthsInMilk9:CalvingSeasonSummer:MilkingTypeCMS           -24.7086     5.0736\n",
            "MonthsInMilk10:CalvingSeasonSummer:MilkingTypeCMS           -9.1185     5.0547\n",
            "MonthsInMilk0:CalvingSeasonWinter:MilkingTypeCMS            33.4972     5.6559\n",
            "MonthsInMilk1:CalvingSeasonWinter:MilkingTypeCMS            31.6711     5.9907\n",
            "MonthsInMilk2:CalvingSeasonWinter:MilkingTypeCMS            43.4524     5.6543\n",
            "MonthsInMilk3:CalvingSeasonWinter:MilkingTypeCMS            53.8141     5.8311\n",
            "MonthsInMilk4:CalvingSeasonWinter:MilkingTypeCMS            59.8248     5.7480\n",
            "MonthsInMilk5:CalvingSeasonWinter:MilkingTypeCMS            69.5301     5.8264\n",
            "MonthsInMilk6:CalvingSeasonWinter:MilkingTypeCMS            61.0563     5.7637\n",
            "MonthsInMilk7:CalvingSeasonWinter:MilkingTypeCMS            51.0687     5.6867\n",
            "MonthsInMilk8:CalvingSeasonWinter:MilkingTypeCMS            35.6390     5.7519\n",
            "MonthsInMilk9:CalvingSeasonWinter:MilkingTypeCMS            24.6660     5.5950\n",
            "MonthsInMilk10:CalvingSeasonWinter:MilkingTypeCMS           25.6126     5.5407\n",
            "MonthsInMilk0:Parity2:MilkingTypeCMS                         1.0336     4.5472\n",
            "MonthsInMilk1:Parity2:MilkingTypeCMS                        -7.0898     4.6054\n",
            "MonthsInMilk2:Parity2:MilkingTypeCMS                        -4.5220     4.4576\n",
            "MonthsInMilk3:Parity2:MilkingTypeCMS                        -6.0313     4.6890\n",
            "MonthsInMilk4:Parity2:MilkingTypeCMS                        -5.1183     4.6787\n",
            "MonthsInMilk5:Parity2:MilkingTypeCMS                        -3.8627     4.5107\n",
            "MonthsInMilk6:Parity2:MilkingTypeCMS                        -4.7214     4.5035\n",
            "MonthsInMilk7:Parity2:MilkingTypeCMS                        -5.1413     4.4875\n",
            "MonthsInMilk8:Parity2:MilkingTypeCMS                        -6.6871     4.7592\n",
            "MonthsInMilk9:Parity2:MilkingTypeCMS                        -7.8996     4.7467\n",
            "MonthsInMilk10:Parity2:MilkingTypeCMS                       -3.0116     4.7189\n",
            "MonthsInMilk0:Parity3+:MilkingTypeCMS                        3.3375     4.0714\n",
            "MonthsInMilk1:Parity3+:MilkingTypeCMS                       -1.6429     4.1367\n",
            "MonthsInMilk2:Parity3+:MilkingTypeCMS                       -0.6611     3.9572\n",
            "MonthsInMilk3:Parity3+:MilkingTypeCMS                       -0.3321     4.1750\n",
            "MonthsInMilk4:Parity3+:MilkingTypeCMS                        1.8548     4.1753\n",
            "MonthsInMilk5:Parity3+:MilkingTypeCMS                        2.2330     4.0203\n",
            "MonthsInMilk6:Parity3+:MilkingTypeCMS                        3.5518     4.0606\n",
            "MonthsInMilk7:Parity3+:MilkingTypeCMS                        1.2363     4.0420\n",
            "MonthsInMilk8:Parity3+:MilkingTypeCMS                       -3.8692     4.2770\n",
            "MonthsInMilk9:Parity3+:MilkingTypeCMS                       -7.6026     4.2783\n",
            "MonthsInMilk10:Parity3+:MilkingTypeCMS                      -2.4818     4.2430\n",
            "MonthsInMilk0:CalvingSeasonSpring:Parity2                    6.8505     5.6019\n",
            "MonthsInMilk1:CalvingSeasonSpring:Parity2                   -2.5108     5.8209\n",
            "MonthsInMilk2:CalvingSeasonSpring:Parity2                    0.3489     5.8213\n",
            "MonthsInMilk3:CalvingSeasonSpring:Parity2                    1.9009     5.9045\n",
            "MonthsInMilk4:CalvingSeasonSpring:Parity2                    2.8525     5.8718\n",
            "MonthsInMilk5:CalvingSeasonSpring:Parity2                    7.0742     5.7298\n",
            "MonthsInMilk6:CalvingSeasonSpring:Parity2                    6.5321     5.4631\n",
            "MonthsInMilk7:CalvingSeasonSpring:Parity2                    6.0651     5.5240\n",
            "MonthsInMilk8:CalvingSeasonSpring:Parity2                    4.0007     5.6495\n",
            "MonthsInMilk9:CalvingSeasonSpring:Parity2                    8.2184     5.7776\n",
            "MonthsInMilk10:CalvingSeasonSpring:Parity2                   9.0616     5.7567\n",
            "MonthsInMilk0:CalvingSeasonSummer:Parity2                   -3.2330     5.4219\n",
            "MonthsInMilk1:CalvingSeasonSummer:Parity2                  -11.1370     5.5311\n",
            "MonthsInMilk2:CalvingSeasonSummer:Parity2                   -7.2522     5.3492\n",
            "MonthsInMilk3:CalvingSeasonSummer:Parity2                   -6.9657     5.3209\n",
            "MonthsInMilk4:CalvingSeasonSummer:Parity2                   -5.7569     5.2827\n",
            "MonthsInMilk5:CalvingSeasonSummer:Parity2                   -4.1574     5.1781\n",
            "MonthsInMilk6:CalvingSeasonSummer:Parity2                   -5.9609     5.2720\n",
            "MonthsInMilk7:CalvingSeasonSummer:Parity2                   -2.9829     5.2771\n",
            "MonthsInMilk8:CalvingSeasonSummer:Parity2                   -4.9682     5.3628\n",
            "MonthsInMilk9:CalvingSeasonSummer:Parity2                   -2.7260     5.3709\n",
            "MonthsInMilk10:CalvingSeasonSummer:Parity2                  -3.7121     5.3500\n",
            "MonthsInMilk0:CalvingSeasonWinter:Parity2                   36.8375     6.0486\n",
            "MonthsInMilk1:CalvingSeasonWinter:Parity2                   36.5173     6.3859\n",
            "MonthsInMilk2:CalvingSeasonWinter:Parity2                   40.6884     6.0540\n",
            "MonthsInMilk3:CalvingSeasonWinter:Parity2                   43.0976     6.2399\n",
            "MonthsInMilk4:CalvingSeasonWinter:Parity2                   41.5400     6.1907\n",
            "MonthsInMilk5:CalvingSeasonWinter:Parity2                   42.7645     6.2922\n",
            "MonthsInMilk6:CalvingSeasonWinter:Parity2                   42.3335     6.2201\n",
            "MonthsInMilk7:CalvingSeasonWinter:Parity2                   38.8421     6.1567\n",
            "MonthsInMilk8:CalvingSeasonWinter:Parity2                   39.8002     6.2373\n",
            "MonthsInMilk9:CalvingSeasonWinter:Parity2                   40.7494     6.0304\n",
            "MonthsInMilk10:CalvingSeasonWinter:Parity2                  38.6740     5.9873\n",
            "MonthsInMilk0:CalvingSeasonSpring:Parity3+                   8.5635     5.0538\n",
            "MonthsInMilk1:CalvingSeasonSpring:Parity3+                  -1.9008     5.2975\n",
            "MonthsInMilk2:CalvingSeasonSpring:Parity3+                  -2.3251     5.2461\n",
            "MonthsInMilk3:CalvingSeasonSpring:Parity3+                  -1.4522     5.3269\n",
            "MonthsInMilk4:CalvingSeasonSpring:Parity3+                  -1.2600     5.3356\n",
            "MonthsInMilk5:CalvingSeasonSpring:Parity3+                   1.0155     5.1962\n",
            "MonthsInMilk6:CalvingSeasonSpring:Parity3+                   4.1315     4.9941\n",
            "MonthsInMilk7:CalvingSeasonSpring:Parity3+                   2.7574     5.0345\n",
            "MonthsInMilk8:CalvingSeasonSpring:Parity3+                   1.1610     5.1112\n",
            "MonthsInMilk9:CalvingSeasonSpring:Parity3+                   2.8929     5.2406\n",
            "MonthsInMilk10:CalvingSeasonSpring:Parity3+                  6.8199     5.2194\n",
            "MonthsInMilk0:CalvingSeasonSummer:Parity3+                  -2.0535     4.8798\n",
            "MonthsInMilk1:CalvingSeasonSummer:Parity3+                 -12.5591     5.0076\n",
            "MonthsInMilk2:CalvingSeasonSummer:Parity3+                 -10.5846     4.7910\n",
            "MonthsInMilk3:CalvingSeasonSummer:Parity3+                  -8.3700     4.7733\n",
            "MonthsInMilk4:CalvingSeasonSummer:Parity3+                  -8.0475     4.7351\n",
            "MonthsInMilk5:CalvingSeasonSummer:Parity3+                  -7.2254     4.6275\n",
            "MonthsInMilk6:CalvingSeasonSummer:Parity3+                  -7.1450     4.7507\n",
            "MonthsInMilk7:CalvingSeasonSummer:Parity3+                  -6.1104     4.7538\n",
            "MonthsInMilk8:CalvingSeasonSummer:Parity3+                  -6.5621     4.8458\n",
            "MonthsInMilk9:CalvingSeasonSummer:Parity3+                  -5.4530     4.8553\n",
            "MonthsInMilk10:CalvingSeasonSummer:Parity3+                 -1.5957     4.8491\n",
            "MonthsInMilk0:CalvingSeasonWinter:Parity3+                  41.5335     5.5244\n",
            "MonthsInMilk1:CalvingSeasonWinter:Parity3+                  36.6829     5.9081\n",
            "MonthsInMilk2:CalvingSeasonWinter:Parity3+                  37.9506     5.5527\n",
            "MonthsInMilk3:CalvingSeasonWinter:Parity3+                  40.3545     5.7345\n",
            "MonthsInMilk4:CalvingSeasonWinter:Parity3+                  43.4945     5.6637\n",
            "MonthsInMilk5:CalvingSeasonWinter:Parity3+                  43.4964     5.7545\n",
            "MonthsInMilk6:CalvingSeasonWinter:Parity3+                  40.7537     5.6933\n",
            "MonthsInMilk7:CalvingSeasonWinter:Parity3+                  37.3124     5.6140\n",
            "MonthsInMilk8:CalvingSeasonWinter:Parity3+                  37.1155     5.6861\n",
            "MonthsInMilk9:CalvingSeasonWinter:Parity3+                  38.0595     5.5274\n",
            "MonthsInMilk10:CalvingSeasonWinter:Parity3+                 40.4012     5.4761\n",
            "CalvingSeasonSpring:Parity2:MilkingTypeCMS                   4.3100     5.0132\n",
            "CalvingSeasonSummer:Parity2:MilkingTypeCMS                  -7.7358     4.9931\n",
            "CalvingSeasonWinter:Parity2:MilkingTypeCMS                  20.2516     5.4932\n",
            "CalvingSeasonSpring:Parity3+:MilkingTypeCMS                  9.7735     4.5699\n",
            "CalvingSeasonSummer:Parity3+:MilkingTypeCMS                 -7.7528     4.5292\n",
            "CalvingSeasonWinter:Parity3+:MilkingTypeCMS                 33.1786     5.0696\n",
            "MonthsInMilk0:CalvingSeasonSpring:Parity2:MilkingTypeCMS    -6.7878     6.4646\n",
            "MonthsInMilk1:CalvingSeasonSpring:Parity2:MilkingTypeCMS     8.0225     6.7049\n",
            "MonthsInMilk2:CalvingSeasonSpring:Parity2:MilkingTypeCMS     1.2474     6.7357\n",
            "MonthsInMilk3:CalvingSeasonSpring:Parity2:MilkingTypeCMS     0.2237     6.8644\n",
            "MonthsInMilk4:CalvingSeasonSpring:Parity2:MilkingTypeCMS     1.9566     6.8472\n",
            "MonthsInMilk5:CalvingSeasonSpring:Parity2:MilkingTypeCMS    -2.3408     6.6862\n",
            "MonthsInMilk6:CalvingSeasonSpring:Parity2:MilkingTypeCMS    -4.5662     6.4173\n",
            "MonthsInMilk7:CalvingSeasonSpring:Parity2:MilkingTypeCMS    -0.7895     6.4712\n",
            "MonthsInMilk8:CalvingSeasonSpring:Parity2:MilkingTypeCMS     1.4663     6.6444\n",
            "MonthsInMilk9:CalvingSeasonSpring:Parity2:MilkingTypeCMS     1.9610     6.8053\n",
            "MonthsInMilk10:CalvingSeasonSpring:Parity2:MilkingTypeCMS   -3.8743     6.8030\n",
            "MonthsInMilk0:CalvingSeasonSummer:Parity2:MilkingTypeCMS    -1.9858     6.3751\n",
            "MonthsInMilk1:CalvingSeasonSummer:Parity2:MilkingTypeCMS    18.3503     6.5279\n",
            "MonthsInMilk2:CalvingSeasonSummer:Parity2:MilkingTypeCMS    11.1670     6.3606\n",
            "MonthsInMilk3:CalvingSeasonSummer:Parity2:MilkingTypeCMS     9.5581     6.3392\n",
            "MonthsInMilk4:CalvingSeasonSummer:Parity2:MilkingTypeCMS     7.9744     6.3215\n",
            "MonthsInMilk5:CalvingSeasonSummer:Parity2:MilkingTypeCMS     8.6639     6.2008\n",
            "MonthsInMilk6:CalvingSeasonSummer:Parity2:MilkingTypeCMS    11.5616     6.3574\n",
            "MonthsInMilk7:CalvingSeasonSummer:Parity2:MilkingTypeCMS     9.3446     6.3657\n",
            "MonthsInMilk8:CalvingSeasonSummer:Parity2:MilkingTypeCMS    10.4835     6.4690\n",
            "MonthsInMilk9:CalvingSeasonSummer:Parity2:MilkingTypeCMS     8.2446     6.4654\n",
            "MonthsInMilk10:CalvingSeasonSummer:Parity2:MilkingTypeCMS    4.7218     6.4557\n",
            "MonthsInMilk0:CalvingSeasonWinter:Parity2:MilkingTypeCMS   -23.8337     6.9537\n",
            "MonthsInMilk1:CalvingSeasonWinter:Parity2:MilkingTypeCMS   -22.1473     7.2898\n",
            "MonthsInMilk2:CalvingSeasonWinter:Parity2:MilkingTypeCMS   -24.7333     6.9473\n",
            "MonthsInMilk3:CalvingSeasonWinter:Parity2:MilkingTypeCMS   -26.4689     7.1661\n",
            "MonthsInMilk4:CalvingSeasonWinter:Parity2:MilkingTypeCMS   -23.0338     7.1301\n",
            "MonthsInMilk5:CalvingSeasonWinter:Parity2:MilkingTypeCMS   -26.7082     7.2417\n",
            "MonthsInMilk6:CalvingSeasonWinter:Parity2:MilkingTypeCMS   -27.0078     7.1913\n",
            "MonthsInMilk7:CalvingSeasonWinter:Parity2:MilkingTypeCMS   -23.6285     7.1270\n",
            "MonthsInMilk8:CalvingSeasonWinter:Parity2:MilkingTypeCMS   -20.6042     7.2449\n",
            "MonthsInMilk9:CalvingSeasonWinter:Parity2:MilkingTypeCMS   -19.0617     7.0290\n",
            "MonthsInMilk10:CalvingSeasonWinter:Parity2:MilkingTypeCMS  -22.3956     6.9868\n",
            "MonthsInMilk0:CalvingSeasonSpring:Parity3+:MilkingTypeCMS  -10.9875     5.7845\n",
            "MonthsInMilk1:CalvingSeasonSpring:Parity3+:MilkingTypeCMS   -3.4100     6.0339\n",
            "MonthsInMilk2:CalvingSeasonSpring:Parity3+:MilkingTypeCMS   -8.4554     6.0265\n",
            "MonthsInMilk3:CalvingSeasonSpring:Parity3+:MilkingTypeCMS   -8.4740     6.1446\n",
            "MonthsInMilk4:CalvingSeasonSpring:Parity3+:MilkingTypeCMS   -5.4358     6.1625\n",
            "MonthsInMilk5:CalvingSeasonSpring:Parity3+:MilkingTypeCMS   -8.5242     6.0175\n",
            "MonthsInMilk6:CalvingSeasonSpring:Parity3+:MilkingTypeCMS  -13.5491     5.8169\n",
            "MonthsInMilk7:CalvingSeasonSpring:Parity3+:MilkingTypeCMS   -6.9173     5.8658\n",
            "MonthsInMilk8:CalvingSeasonSpring:Parity3+:MilkingTypeCMS   -1.4015     5.9842\n",
            "MonthsInMilk9:CalvingSeasonSpring:Parity3+:MilkingTypeCMS    3.7568     6.1587\n",
            "MonthsInMilk10:CalvingSeasonSpring:Parity3+:MilkingTypeCMS  -4.9055     6.1577\n",
            "MonthsInMilk0:CalvingSeasonSummer:Parity3+:MilkingTypeCMS   -4.4538     5.6883\n",
            "MonthsInMilk1:CalvingSeasonSummer:Parity3+:MilkingTypeCMS   16.3747     5.8469\n",
            "MonthsInMilk2:CalvingSeasonSummer:Parity3+:MilkingTypeCMS   10.6921     5.6569\n",
            "MonthsInMilk3:CalvingSeasonSummer:Parity3+:MilkingTypeCMS    7.8062     5.6478\n",
            "MonthsInMilk4:CalvingSeasonSummer:Parity3+:MilkingTypeCMS    8.4273     5.6294\n",
            "MonthsInMilk5:CalvingSeasonSummer:Parity3+:MilkingTypeCMS    8.8181     5.5219\n",
            "MonthsInMilk6:CalvingSeasonSummer:Parity3+:MilkingTypeCMS    8.6120     5.6864\n",
            "MonthsInMilk7:CalvingSeasonSummer:Parity3+:MilkingTypeCMS    8.9896     5.7053\n",
            "MonthsInMilk8:CalvingSeasonSummer:Parity3+:MilkingTypeCMS   13.5932     5.8123\n",
            "MonthsInMilk9:CalvingSeasonSummer:Parity3+:MilkingTypeCMS   14.4275     5.8193\n",
            "MonthsInMilk10:CalvingSeasonSummer:Parity3+:MilkingTypeCMS   8.2392     5.8277\n",
            "MonthsInMilk0:CalvingSeasonWinter:Parity3+:MilkingTypeCMS  -33.7063     6.3027\n",
            "MonthsInMilk1:CalvingSeasonWinter:Parity3+:MilkingTypeCMS  -30.1308     6.6754\n",
            "MonthsInMilk2:CalvingSeasonWinter:Parity3+:MilkingTypeCMS  -33.4857     6.3307\n",
            "MonthsInMilk3:CalvingSeasonWinter:Parity3+:MilkingTypeCMS  -37.0910     6.5305\n",
            "MonthsInMilk4:CalvingSeasonWinter:Parity3+:MilkingTypeCMS  -36.5881     6.4843\n",
            "MonthsInMilk5:CalvingSeasonWinter:Parity3+:MilkingTypeCMS  -40.6596     6.5875\n",
            "MonthsInMilk6:CalvingSeasonWinter:Parity3+:MilkingTypeCMS  -40.9510     6.5479\n",
            "MonthsInMilk7:CalvingSeasonWinter:Parity3+:MilkingTypeCMS  -38.6697     6.4805\n",
            "MonthsInMilk8:CalvingSeasonWinter:Parity3+:MilkingTypeCMS  -32.1758     6.5861\n",
            "MonthsInMilk9:CalvingSeasonWinter:Parity3+:MilkingTypeCMS  -26.1114     6.4222\n",
            "MonthsInMilk10:CalvingSeasonWinter:Parity3+:MilkingTypeCMS -31.0030     6.3796\n",
            "                                                           t value\n",
            "(Intercept)                                                  9.398\n",
            "MonthsInMilk0                                                4.307\n",
            "MonthsInMilk1                                                4.491\n",
            "MonthsInMilk2                                                2.216\n",
            "MonthsInMilk3                                                1.112\n",
            "MonthsInMilk4                                                0.773\n",
            "MonthsInMilk5                                                0.644\n",
            "MonthsInMilk6                                                0.263\n",
            "MonthsInMilk7                                                0.113\n",
            "MonthsInMilk8                                                0.588\n",
            "MonthsInMilk9                                                1.086\n",
            "MonthsInMilk10                                               1.594\n",
            "CalvingSeasonSpring                                         -2.320\n",
            "CalvingSeasonSummer                                         -1.711\n",
            "CalvingSeasonWinter                                          6.545\n",
            "Parity2                                                      0.855\n",
            "Parity3+                                                    -1.278\n",
            "MilkingTypeCMS                                               4.155\n",
            "MonthsInMilk0:CalvingSeasonSpring                           -1.038\n",
            "MonthsInMilk1:CalvingSeasonSpring                            2.851\n",
            "MonthsInMilk2:CalvingSeasonSpring                            3.555\n",
            "MonthsInMilk3:CalvingSeasonSpring                            3.881\n",
            "MonthsInMilk4:CalvingSeasonSpring                            3.848\n",
            "MonthsInMilk5:CalvingSeasonSpring                            3.083\n",
            "MonthsInMilk6:CalvingSeasonSpring                            2.318\n",
            "MonthsInMilk7:CalvingSeasonSpring                            1.897\n",
            "MonthsInMilk8:CalvingSeasonSpring                            1.494\n",
            "MonthsInMilk9:CalvingSeasonSpring                            0.512\n",
            "MonthsInMilk10:CalvingSeasonSpring                          -0.293\n",
            "MonthsInMilk0:CalvingSeasonSummer                            0.836\n",
            "MonthsInMilk1:CalvingSeasonSummer                            3.241\n",
            "MonthsInMilk2:CalvingSeasonSummer                            3.043\n",
            "MonthsInMilk3:CalvingSeasonSummer                            2.257\n",
            "MonthsInMilk4:CalvingSeasonSummer                            1.987\n",
            "MonthsInMilk5:CalvingSeasonSummer                            1.495\n",
            "MonthsInMilk6:CalvingSeasonSummer                            1.501\n",
            "MonthsInMilk7:CalvingSeasonSummer                            1.311\n",
            "MonthsInMilk8:CalvingSeasonSummer                            0.981\n",
            "MonthsInMilk9:CalvingSeasonSummer                            0.239\n",
            "MonthsInMilk10:CalvingSeasonSummer                          -0.334\n",
            "MonthsInMilk0:CalvingSeasonWinter                           -7.342\n",
            "MonthsInMilk1:CalvingSeasonWinter                           -5.055\n",
            "MonthsInMilk2:CalvingSeasonWinter                           -5.411\n",
            "MonthsInMilk3:CalvingSeasonWinter                           -5.479\n",
            "MonthsInMilk4:CalvingSeasonWinter                           -5.667\n",
            "MonthsInMilk5:CalvingSeasonWinter                           -5.485\n",
            "MonthsInMilk6:CalvingSeasonWinter                           -4.541\n",
            "MonthsInMilk7:CalvingSeasonWinter                           -4.199\n",
            "MonthsInMilk8:CalvingSeasonWinter                           -4.854\n",
            "MonthsInMilk9:CalvingSeasonWinter                           -5.838\n",
            "MonthsInMilk10:CalvingSeasonWinter                          -6.810\n",
            "MonthsInMilk0:Parity2                                       -3.441\n",
            "MonthsInMilk1:Parity2                                       -2.485\n",
            "MonthsInMilk2:Parity2                                       -2.477\n",
            "MonthsInMilk3:Parity2                                       -1.793\n",
            "MonthsInMilk4:Parity2                                       -1.573\n",
            "MonthsInMilk5:Parity2                                       -1.990\n",
            "MonthsInMilk6:Parity2                                       -1.649\n",
            "MonthsInMilk7:Parity2                                       -1.544\n",
            "MonthsInMilk8:Parity2                                       -1.594\n",
            "MonthsInMilk9:Parity2                                       -1.760\n",
            "MonthsInMilk10:Parity2                                      -1.776\n",
            "MonthsInMilk0:Parity3+                                      -3.860\n",
            "MonthsInMilk1:Parity3+                                      -2.872\n",
            "MonthsInMilk2:Parity3+                                      -1.800\n",
            "MonthsInMilk3:Parity3+                                      -1.010\n",
            "MonthsInMilk4:Parity3+                                      -0.989\n",
            "MonthsInMilk5:Parity3+                                      -1.068\n",
            "MonthsInMilk6:Parity3+                                      -0.832\n",
            "MonthsInMilk7:Parity3+                                      -0.530\n",
            "MonthsInMilk8:Parity3+                                      -0.386\n",
            "MonthsInMilk9:Parity3+                                      -0.474\n",
            "MonthsInMilk10:Parity3+                                     -1.126\n",
            "MonthsInMilk0:MilkingTypeCMS                                -1.996\n",
            "MonthsInMilk1:MilkingTypeCMS                                -1.482\n",
            "MonthsInMilk2:MilkingTypeCMS                                -2.660\n",
            "MonthsInMilk3:MilkingTypeCMS                                -3.239\n",
            "MonthsInMilk4:MilkingTypeCMS                                -3.588\n",
            "MonthsInMilk5:MilkingTypeCMS                                -2.687\n",
            "MonthsInMilk6:MilkingTypeCMS                                -1.353\n",
            "MonthsInMilk7:MilkingTypeCMS                                 0.450\n",
            "MonthsInMilk8:MilkingTypeCMS                                 3.037\n",
            "MonthsInMilk9:MilkingTypeCMS                                 3.391\n",
            "MonthsInMilk10:MilkingTypeCMS                                1.777\n",
            "CalvingSeasonSpring:MilkingTypeCMS                          -4.268\n",
            "CalvingSeasonSummer:MilkingTypeCMS                           1.296\n",
            "CalvingSeasonWinter:MilkingTypeCMS                          -8.708\n",
            "Parity2:MilkingTypeCMS                                       0.583\n",
            "Parity3+:MilkingTypeCMS                                     -1.122\n",
            "CalvingSeasonSpring:Parity2                                 -1.514\n",
            "CalvingSeasonSummer:Parity2                                  0.951\n",
            "CalvingSeasonWinter:Parity2                                 -7.990\n",
            "CalvingSeasonSpring:Parity3+                                -1.053\n",
            "CalvingSeasonSummer:Parity3+                                 1.460\n",
            "CalvingSeasonWinter:Parity3+                                -8.817\n",
            "MonthsInMilk0:CalvingSeasonSpring:MilkingTypeCMS             3.048\n",
            "MonthsInMilk1:CalvingSeasonSpring:MilkingTypeCMS             3.985\n",
            "MonthsInMilk2:CalvingSeasonSpring:MilkingTypeCMS             7.160\n",
            "MonthsInMilk3:CalvingSeasonSpring:MilkingTypeCMS             7.287\n",
            "MonthsInMilk4:CalvingSeasonSpring:MilkingTypeCMS             6.412\n",
            "MonthsInMilk5:CalvingSeasonSpring:MilkingTypeCMS             6.035\n",
            "MonthsInMilk6:CalvingSeasonSpring:MilkingTypeCMS             4.798\n",
            "MonthsInMilk7:CalvingSeasonSpring:MilkingTypeCMS             1.767\n",
            "MonthsInMilk8:CalvingSeasonSpring:MilkingTypeCMS            -1.762\n",
            "MonthsInMilk9:CalvingSeasonSpring:MilkingTypeCMS            -3.066\n",
            "MonthsInMilk10:CalvingSeasonSpring:MilkingTypeCMS           -1.540\n",
            "MonthsInMilk0:CalvingSeasonSummer:MilkingTypeCMS             1.967\n",
            "MonthsInMilk1:CalvingSeasonSummer:MilkingTypeCMS             0.025\n",
            "MonthsInMilk2:CalvingSeasonSummer:MilkingTypeCMS             1.381\n",
            "MonthsInMilk3:CalvingSeasonSummer:MilkingTypeCMS             1.136\n",
            "MonthsInMilk4:CalvingSeasonSummer:MilkingTypeCMS             0.124\n",
            "MonthsInMilk5:CalvingSeasonSummer:MilkingTypeCMS            -1.406\n",
            "MonthsInMilk6:CalvingSeasonSummer:MilkingTypeCMS            -3.184\n",
            "MonthsInMilk7:CalvingSeasonSummer:MilkingTypeCMS            -4.519\n",
            "MonthsInMilk8:CalvingSeasonSummer:MilkingTypeCMS            -6.175\n",
            "MonthsInMilk9:CalvingSeasonSummer:MilkingTypeCMS            -4.870\n",
            "MonthsInMilk10:CalvingSeasonSummer:MilkingTypeCMS           -1.804\n",
            "MonthsInMilk0:CalvingSeasonWinter:MilkingTypeCMS             5.922\n",
            "MonthsInMilk1:CalvingSeasonWinter:MilkingTypeCMS             5.287\n",
            "MonthsInMilk2:CalvingSeasonWinter:MilkingTypeCMS             7.685\n",
            "MonthsInMilk3:CalvingSeasonWinter:MilkingTypeCMS             9.229\n",
            "MonthsInMilk4:CalvingSeasonWinter:MilkingTypeCMS            10.408\n",
            "MonthsInMilk5:CalvingSeasonWinter:MilkingTypeCMS            11.934\n",
            "MonthsInMilk6:CalvingSeasonWinter:MilkingTypeCMS            10.593\n",
            "MonthsInMilk7:CalvingSeasonWinter:MilkingTypeCMS             8.980\n",
            "MonthsInMilk8:CalvingSeasonWinter:MilkingTypeCMS             6.196\n",
            "MonthsInMilk9:CalvingSeasonWinter:MilkingTypeCMS             4.409\n",
            "MonthsInMilk10:CalvingSeasonWinter:MilkingTypeCMS            4.623\n",
            "MonthsInMilk0:Parity2:MilkingTypeCMS                         0.227\n",
            "MonthsInMilk1:Parity2:MilkingTypeCMS                        -1.539\n",
            "MonthsInMilk2:Parity2:MilkingTypeCMS                        -1.014\n",
            "MonthsInMilk3:Parity2:MilkingTypeCMS                        -1.286\n",
            "MonthsInMilk4:Parity2:MilkingTypeCMS                        -1.094\n",
            "MonthsInMilk5:Parity2:MilkingTypeCMS                        -0.856\n",
            "MonthsInMilk6:Parity2:MilkingTypeCMS                        -1.048\n",
            "MonthsInMilk7:Parity2:MilkingTypeCMS                        -1.146\n",
            "MonthsInMilk8:Parity2:MilkingTypeCMS                        -1.405\n",
            "MonthsInMilk9:Parity2:MilkingTypeCMS                        -1.664\n",
            "MonthsInMilk10:Parity2:MilkingTypeCMS                       -0.638\n",
            "MonthsInMilk0:Parity3+:MilkingTypeCMS                        0.820\n",
            "MonthsInMilk1:Parity3+:MilkingTypeCMS                       -0.397\n",
            "MonthsInMilk2:Parity3+:MilkingTypeCMS                       -0.167\n",
            "MonthsInMilk3:Parity3+:MilkingTypeCMS                       -0.080\n",
            "MonthsInMilk4:Parity3+:MilkingTypeCMS                        0.444\n",
            "MonthsInMilk5:Parity3+:MilkingTypeCMS                        0.555\n",
            "MonthsInMilk6:Parity3+:MilkingTypeCMS                        0.875\n",
            "MonthsInMilk7:Parity3+:MilkingTypeCMS                        0.306\n",
            "MonthsInMilk8:Parity3+:MilkingTypeCMS                       -0.905\n",
            "MonthsInMilk9:Parity3+:MilkingTypeCMS                       -1.777\n",
            "MonthsInMilk10:Parity3+:MilkingTypeCMS                      -0.585\n",
            "MonthsInMilk0:CalvingSeasonSpring:Parity2                    1.223\n",
            "MonthsInMilk1:CalvingSeasonSpring:Parity2                   -0.431\n",
            "MonthsInMilk2:CalvingSeasonSpring:Parity2                    0.060\n",
            "MonthsInMilk3:CalvingSeasonSpring:Parity2                    0.322\n",
            "MonthsInMilk4:CalvingSeasonSpring:Parity2                    0.486\n",
            "MonthsInMilk5:CalvingSeasonSpring:Parity2                    1.235\n",
            "MonthsInMilk6:CalvingSeasonSpring:Parity2                    1.196\n",
            "MonthsInMilk7:CalvingSeasonSpring:Parity2                    1.098\n",
            "MonthsInMilk8:CalvingSeasonSpring:Parity2                    0.708\n",
            "MonthsInMilk9:CalvingSeasonSpring:Parity2                    1.422\n",
            "MonthsInMilk10:CalvingSeasonSpring:Parity2                   1.574\n",
            "MonthsInMilk0:CalvingSeasonSummer:Parity2                   -0.596\n",
            "MonthsInMilk1:CalvingSeasonSummer:Parity2                   -2.014\n",
            "MonthsInMilk2:CalvingSeasonSummer:Parity2                   -1.356\n",
            "MonthsInMilk3:CalvingSeasonSummer:Parity2                   -1.309\n",
            "MonthsInMilk4:CalvingSeasonSummer:Parity2                   -1.090\n",
            "MonthsInMilk5:CalvingSeasonSummer:Parity2                   -0.803\n",
            "MonthsInMilk6:CalvingSeasonSummer:Parity2                   -1.131\n",
            "MonthsInMilk7:CalvingSeasonSummer:Parity2                   -0.565\n",
            "MonthsInMilk8:CalvingSeasonSummer:Parity2                   -0.926\n",
            "MonthsInMilk9:CalvingSeasonSummer:Parity2                   -0.508\n",
            "MonthsInMilk10:CalvingSeasonSummer:Parity2                  -0.694\n",
            "MonthsInMilk0:CalvingSeasonWinter:Parity2                    6.090\n",
            "MonthsInMilk1:CalvingSeasonWinter:Parity2                    5.718\n",
            "MonthsInMilk2:CalvingSeasonWinter:Parity2                    6.721\n",
            "MonthsInMilk3:CalvingSeasonWinter:Parity2                    6.907\n",
            "MonthsInMilk4:CalvingSeasonWinter:Parity2                    6.710\n",
            "MonthsInMilk5:CalvingSeasonWinter:Parity2                    6.796\n",
            "MonthsInMilk6:CalvingSeasonWinter:Parity2                    6.806\n",
            "MonthsInMilk7:CalvingSeasonWinter:Parity2                    6.309\n",
            "MonthsInMilk8:CalvingSeasonWinter:Parity2                    6.381\n",
            "MonthsInMilk9:CalvingSeasonWinter:Parity2                    6.757\n",
            "MonthsInMilk10:CalvingSeasonWinter:Parity2                   6.459\n",
            "MonthsInMilk0:CalvingSeasonSpring:Parity3+                   1.694\n",
            "MonthsInMilk1:CalvingSeasonSpring:Parity3+                  -0.359\n",
            "MonthsInMilk2:CalvingSeasonSpring:Parity3+                  -0.443\n",
            "MonthsInMilk3:CalvingSeasonSpring:Parity3+                  -0.273\n",
            "MonthsInMilk4:CalvingSeasonSpring:Parity3+                  -0.236\n",
            "MonthsInMilk5:CalvingSeasonSpring:Parity3+                   0.195\n",
            "MonthsInMilk6:CalvingSeasonSpring:Parity3+                   0.827\n",
            "MonthsInMilk7:CalvingSeasonSpring:Parity3+                   0.548\n",
            "MonthsInMilk8:CalvingSeasonSpring:Parity3+                   0.227\n",
            "MonthsInMilk9:CalvingSeasonSpring:Parity3+                   0.552\n",
            "MonthsInMilk10:CalvingSeasonSpring:Parity3+                  1.307\n",
            "MonthsInMilk0:CalvingSeasonSummer:Parity3+                  -0.421\n",
            "MonthsInMilk1:CalvingSeasonSummer:Parity3+                  -2.508\n",
            "MonthsInMilk2:CalvingSeasonSummer:Parity3+                  -2.209\n",
            "MonthsInMilk3:CalvingSeasonSummer:Parity3+                  -1.753\n",
            "MonthsInMilk4:CalvingSeasonSummer:Parity3+                  -1.700\n",
            "MonthsInMilk5:CalvingSeasonSummer:Parity3+                  -1.561\n",
            "MonthsInMilk6:CalvingSeasonSummer:Parity3+                  -1.504\n",
            "MonthsInMilk7:CalvingSeasonSummer:Parity3+                  -1.285\n",
            "MonthsInMilk8:CalvingSeasonSummer:Parity3+                  -1.354\n",
            "MonthsInMilk9:CalvingSeasonSummer:Parity3+                  -1.123\n",
            "MonthsInMilk10:CalvingSeasonSummer:Parity3+                 -0.329\n",
            "MonthsInMilk0:CalvingSeasonWinter:Parity3+                   7.518\n",
            "MonthsInMilk1:CalvingSeasonWinter:Parity3+                   6.209\n",
            "MonthsInMilk2:CalvingSeasonWinter:Parity3+                   6.835\n",
            "MonthsInMilk3:CalvingSeasonWinter:Parity3+                   7.037\n",
            "MonthsInMilk4:CalvingSeasonWinter:Parity3+                   7.680\n",
            "MonthsInMilk5:CalvingSeasonWinter:Parity3+                   7.559\n",
            "MonthsInMilk6:CalvingSeasonWinter:Parity3+                   7.158\n",
            "MonthsInMilk7:CalvingSeasonWinter:Parity3+                   6.646\n",
            "MonthsInMilk8:CalvingSeasonWinter:Parity3+                   6.527\n",
            "MonthsInMilk9:CalvingSeasonWinter:Parity3+                   6.886\n",
            "MonthsInMilk10:CalvingSeasonWinter:Parity3+                  7.378\n",
            "CalvingSeasonSpring:Parity2:MilkingTypeCMS                   0.860\n",
            "CalvingSeasonSummer:Parity2:MilkingTypeCMS                  -1.549\n",
            "CalvingSeasonWinter:Parity2:MilkingTypeCMS                   3.687\n",
            "CalvingSeasonSpring:Parity3+:MilkingTypeCMS                  2.139\n",
            "CalvingSeasonSummer:Parity3+:MilkingTypeCMS                 -1.712\n",
            "CalvingSeasonWinter:Parity3+:MilkingTypeCMS                  6.545\n",
            "MonthsInMilk0:CalvingSeasonSpring:Parity2:MilkingTypeCMS    -1.050\n",
            "MonthsInMilk1:CalvingSeasonSpring:Parity2:MilkingTypeCMS     1.197\n",
            "MonthsInMilk2:CalvingSeasonSpring:Parity2:MilkingTypeCMS     0.185\n",
            "MonthsInMilk3:CalvingSeasonSpring:Parity2:MilkingTypeCMS     0.033\n",
            "MonthsInMilk4:CalvingSeasonSpring:Parity2:MilkingTypeCMS     0.286\n",
            "MonthsInMilk5:CalvingSeasonSpring:Parity2:MilkingTypeCMS    -0.350\n",
            "MonthsInMilk6:CalvingSeasonSpring:Parity2:MilkingTypeCMS    -0.712\n",
            "MonthsInMilk7:CalvingSeasonSpring:Parity2:MilkingTypeCMS    -0.122\n",
            "MonthsInMilk8:CalvingSeasonSpring:Parity2:MilkingTypeCMS     0.221\n",
            "MonthsInMilk9:CalvingSeasonSpring:Parity2:MilkingTypeCMS     0.288\n",
            "MonthsInMilk10:CalvingSeasonSpring:Parity2:MilkingTypeCMS   -0.570\n",
            "MonthsInMilk0:CalvingSeasonSummer:Parity2:MilkingTypeCMS    -0.311\n",
            "MonthsInMilk1:CalvingSeasonSummer:Parity2:MilkingTypeCMS     2.811\n",
            "MonthsInMilk2:CalvingSeasonSummer:Parity2:MilkingTypeCMS     1.756\n",
            "MonthsInMilk3:CalvingSeasonSummer:Parity2:MilkingTypeCMS     1.508\n",
            "MonthsInMilk4:CalvingSeasonSummer:Parity2:MilkingTypeCMS     1.261\n",
            "MonthsInMilk5:CalvingSeasonSummer:Parity2:MilkingTypeCMS     1.397\n",
            "MonthsInMilk6:CalvingSeasonSummer:Parity2:MilkingTypeCMS     1.819\n",
            "MonthsInMilk7:CalvingSeasonSummer:Parity2:MilkingTypeCMS     1.468\n",
            "MonthsInMilk8:CalvingSeasonSummer:Parity2:MilkingTypeCMS     1.621\n",
            "MonthsInMilk9:CalvingSeasonSummer:Parity2:MilkingTypeCMS     1.275\n",
            "MonthsInMilk10:CalvingSeasonSummer:Parity2:MilkingTypeCMS    0.731\n",
            "MonthsInMilk0:CalvingSeasonWinter:Parity2:MilkingTypeCMS    -3.428\n",
            "MonthsInMilk1:CalvingSeasonWinter:Parity2:MilkingTypeCMS    -3.038\n",
            "MonthsInMilk2:CalvingSeasonWinter:Parity2:MilkingTypeCMS    -3.560\n",
            "MonthsInMilk3:CalvingSeasonWinter:Parity2:MilkingTypeCMS    -3.694\n",
            "MonthsInMilk4:CalvingSeasonWinter:Parity2:MilkingTypeCMS    -3.231\n",
            "MonthsInMilk5:CalvingSeasonWinter:Parity2:MilkingTypeCMS    -3.688\n",
            "MonthsInMilk6:CalvingSeasonWinter:Parity2:MilkingTypeCMS    -3.756\n",
            "MonthsInMilk7:CalvingSeasonWinter:Parity2:MilkingTypeCMS    -3.315\n",
            "MonthsInMilk8:CalvingSeasonWinter:Parity2:MilkingTypeCMS    -2.844\n",
            "MonthsInMilk9:CalvingSeasonWinter:Parity2:MilkingTypeCMS    -2.712\n",
            "MonthsInMilk10:CalvingSeasonWinter:Parity2:MilkingTypeCMS   -3.205\n",
            "MonthsInMilk0:CalvingSeasonSpring:Parity3+:MilkingTypeCMS   -1.899\n",
            "MonthsInMilk1:CalvingSeasonSpring:Parity3+:MilkingTypeCMS   -0.565\n",
            "MonthsInMilk2:CalvingSeasonSpring:Parity3+:MilkingTypeCMS   -1.403\n",
            "MonthsInMilk3:CalvingSeasonSpring:Parity3+:MilkingTypeCMS   -1.379\n",
            "MonthsInMilk4:CalvingSeasonSpring:Parity3+:MilkingTypeCMS   -0.882\n",
            "MonthsInMilk5:CalvingSeasonSpring:Parity3+:MilkingTypeCMS   -1.417\n",
            "MonthsInMilk6:CalvingSeasonSpring:Parity3+:MilkingTypeCMS   -2.329\n",
            "MonthsInMilk7:CalvingSeasonSpring:Parity3+:MilkingTypeCMS   -1.179\n",
            "MonthsInMilk8:CalvingSeasonSpring:Parity3+:MilkingTypeCMS   -0.234\n",
            "MonthsInMilk9:CalvingSeasonSpring:Parity3+:MilkingTypeCMS    0.610\n",
            "MonthsInMilk10:CalvingSeasonSpring:Parity3+:MilkingTypeCMS  -0.797\n",
            "MonthsInMilk0:CalvingSeasonSummer:Parity3+:MilkingTypeCMS   -0.783\n",
            "MonthsInMilk1:CalvingSeasonSummer:Parity3+:MilkingTypeCMS    2.801\n",
            "MonthsInMilk2:CalvingSeasonSummer:Parity3+:MilkingTypeCMS    1.890\n",
            "MonthsInMilk3:CalvingSeasonSummer:Parity3+:MilkingTypeCMS    1.382\n",
            "MonthsInMilk4:CalvingSeasonSummer:Parity3+:MilkingTypeCMS    1.497\n",
            "MonthsInMilk5:CalvingSeasonSummer:Parity3+:MilkingTypeCMS    1.597\n",
            "MonthsInMilk6:CalvingSeasonSummer:Parity3+:MilkingTypeCMS    1.514\n",
            "MonthsInMilk7:CalvingSeasonSummer:Parity3+:MilkingTypeCMS    1.576\n",
            "MonthsInMilk8:CalvingSeasonSummer:Parity3+:MilkingTypeCMS    2.339\n",
            "MonthsInMilk9:CalvingSeasonSummer:Parity3+:MilkingTypeCMS    2.479\n",
            "MonthsInMilk10:CalvingSeasonSummer:Parity3+:MilkingTypeCMS   1.414\n",
            "MonthsInMilk0:CalvingSeasonWinter:Parity3+:MilkingTypeCMS   -5.348\n",
            "MonthsInMilk1:CalvingSeasonWinter:Parity3+:MilkingTypeCMS   -4.514\n",
            "MonthsInMilk2:CalvingSeasonWinter:Parity3+:MilkingTypeCMS   -5.289\n",
            "MonthsInMilk3:CalvingSeasonWinter:Parity3+:MilkingTypeCMS   -5.680\n",
            "MonthsInMilk4:CalvingSeasonWinter:Parity3+:MilkingTypeCMS   -5.643\n",
            "MonthsInMilk5:CalvingSeasonWinter:Parity3+:MilkingTypeCMS   -6.172\n",
            "MonthsInMilk6:CalvingSeasonWinter:Parity3+:MilkingTypeCMS   -6.254\n",
            "MonthsInMilk7:CalvingSeasonWinter:Parity3+:MilkingTypeCMS   -5.967\n",
            "MonthsInMilk8:CalvingSeasonWinter:Parity3+:MilkingTypeCMS   -4.885\n",
            "MonthsInMilk9:CalvingSeasonWinter:Parity3+:MilkingTypeCMS   -4.066\n",
            "MonthsInMilk10:CalvingSeasonWinter:Parity3+:MilkingTypeCMS  -4.860\n"
          ],
          "name": "stdout"
        },
        {
          "output_type": "stream",
          "text": [
            "R[write to console]: \n",
            "Correlation matrix not shown by default, as p = 288 > 12.\n",
            "Use print(object, correlation=TRUE)  or\n",
            "    vcov(object)        if you need it\n",
            "\n",
            "\n"
          ],
          "name": "stderr"
        },
        {
          "output_type": "stream",
          "text": [
            "optimizer (nloptwrap) convergence code: 0 (OK)\n",
            "Model failed to converge with max|grad| = 0.0114136 (tol = 0.002, component 1)\n",
            "\n"
          ],
          "name": "stdout"
        }
      ]
    },
    {
      "cell_type": "code",
      "metadata": {
        "id": "r7c9P6wtE9i6"
      },
      "source": [
        "%%R\n",
        "save(finalModel, file=\"/content/drive/Shareddrives/Bovi-Analytics/Projects/SenseOfSensors/CsvData/SensorAggRepartitioned08032021/finalmodelwalkingtime.rdata\")"
      ],
      "execution_count": null,
      "outputs": []
    },
    {
      "cell_type": "code",
      "metadata": {
        "id": "zN2-o8jbXq8l"
      },
      "source": [
        "%%R\n",
        "load(file=\"/content/drive/Shareddrives/Bovi-Analytics/Projects/SenseOfSensors/CsvData/SensorAggRepartitioned08032021/finalmodelwalkingtime.rdata\")"
      ],
      "execution_count": null,
      "outputs": []
    },
    {
      "cell_type": "markdown",
      "metadata": {
        "id": "OoXr394IFEDa"
      },
      "source": [
        "# Final model analysis of variance"
      ]
    },
    {
      "cell_type": "code",
      "metadata": {
        "id": "1WOgSlvoFHj5",
        "colab": {
          "base_uri": "https://localhost:8080/"
        },
        "outputId": "d487a471-f2c3-4975-c4f0-107897954424"
      },
      "source": [
        "%%R\n",
        "Anova(finalModel)"
      ],
      "execution_count": null,
      "outputs": [
        {
          "output_type": "stream",
          "name": "stdout",
          "text": [
            "Analysis of Deviance Table (Type II Wald chisquare tests)\n",
            "\n",
            "Response: SensorValue\n",
            "                                Chisq Df Pr(>Chisq)    \n",
            "MonthsInMilk                 1767.225 11     <2e-16 ***\n",
            "CalvingSeason                   9.827  3     0.0201 *  \n",
            "Parity                       3365.298  2     <2e-16 ***\n",
            "HerdIdentifier               6001.209  7     <2e-16 ***\n",
            "MonthsInMilk:CalvingSeason  11049.909 33     <2e-16 ***\n",
            "MonthsInMilk:Parity           398.534 22     <2e-16 ***\n",
            "MonthsInMilk:HerdIdentifier  1311.352 77     <2e-16 ***\n",
            "---\n",
            "Signif. codes:  0 ‘***’ 0.001 ‘**’ 0.01 ‘*’ 0.05 ‘.’ 0.1 ‘ ’ 1\n"
          ]
        }
      ]
    },
    {
      "cell_type": "markdown",
      "metadata": {
        "id": "0cXgutKnFLW8"
      },
      "source": [
        "# Final model figures and LSM (95% CI)"
      ]
    },
    {
      "cell_type": "markdown",
      "metadata": {
        "id": "aWFcoopSFPbN"
      },
      "source": [
        "## Main effects"
      ]
    },
    {
      "cell_type": "code",
      "metadata": {
        "id": "ekbZYRK_FRcM",
        "colab": {
          "base_uri": "https://localhost:8080/"
        },
        "outputId": "60e419d2-23ee-40a7-9108-f06933961f06"
      },
      "source": [
        "%%R\n",
        "multcomp::cld(lsmeans::lsmeans(finalModel, ~ MonthsInMilk), alpha=0.05, Letters=letters, adjust=\"tukey\")"
      ],
      "execution_count": null,
      "outputs": [
        {
          "output_type": "stream",
          "name": "stderr",
          "text": [
            "R[write to console]: Note: D.f. calculations have been disabled because the number of observations exceeds 3000.\n",
            "To enable adjustments, add the argument 'pbkrtest.limit = 54073' (or larger)\n",
            "[or, globally, 'set emm_options(pbkrtest.limit = 54073)' or larger];\n",
            "but be warned that this may result in large computation time and memory use.\n",
            "\n",
            "R[write to console]: Note: D.f. calculations have been disabled because the number of observations exceeds 3000.\n",
            "To enable adjustments, add the argument 'lmerTest.limit = 54073' (or larger)\n",
            "[or, globally, 'set emm_options(lmerTest.limit = 54073)' or larger];\n",
            "but be warned that this may result in large computation time and memory use.\n",
            "\n",
            "R[write to console]: NOTE: Results may be misleading due to involvement in interactions\n",
            "\n",
            "R[write to console]: Note: adjust = \"tukey\" was changed to \"sidak\"\n",
            "because \"tukey\" is only appropriate for one set of pairwise comparisons\n",
            "\n"
          ]
        },
        {
          "output_type": "stream",
          "name": "stdout",
          "text": [
            " MonthsInMilk lsmean    SE  df asymp.LCL asymp.UCL .group    \n",
            " -1             35.3 0.529 Inf      33.8      36.8  a        \n",
            " 10             40.3 0.488 Inf      38.9      41.7   b       \n",
            " 0              40.5 0.476 Inf      39.1      41.8   b       \n",
            " 9              41.4 0.467 Inf      40.1      42.7   bc      \n",
            " 7              42.6 0.438 Inf      41.3      43.8    cd     \n",
            " 8              43.0 0.451 Inf      41.7      44.2     d     \n",
            " 6              43.4 0.430 Inf      42.2      44.6     de    \n",
            " 4              44.5 0.431 Inf      43.3      45.8      ef   \n",
            " 5              44.9 0.430 Inf      43.6      46.1       fg  \n",
            " 3              46.1 0.437 Inf      44.9      47.4        g  \n",
            " 2              48.4 0.449 Inf      47.1      49.7         h \n",
            " 1              50.6 0.468 Inf      49.3      51.9          i\n",
            "\n",
            "Results are averaged over the levels of: CalvingSeason, Parity, HerdIdentifier \n",
            "Degrees-of-freedom method: asymptotic \n",
            "Confidence level used: 0.95 \n",
            "Conf-level adjustment: sidak method for 12 estimates \n",
            "P value adjustment: tukey method for comparing a family of 12 estimates \n",
            "significance level used: alpha = 0.05 \n"
          ]
        }
      ]
    },
    {
      "cell_type": "code",
      "metadata": {
        "id": "iK1KuKkdFWqf",
        "colab": {
          "base_uri": "https://localhost:8080/"
        },
        "outputId": "e7865c8f-d4af-4c66-bae8-8315b6f9cb2c"
      },
      "source": [
        "%%R\n",
        "multcomp::cld(lsmeans::lsmeans(finalModel, ~ Parity), alpha=0.05, Letters=letters, adjust=\"tukey\")"
      ],
      "execution_count": null,
      "outputs": [
        {
          "output_type": "stream",
          "name": "stderr",
          "text": [
            "R[write to console]: Note: D.f. calculations have been disabled because the number of observations exceeds 3000.\n",
            "To enable adjustments, add the argument 'pbkrtest.limit = 54073' (or larger)\n",
            "[or, globally, 'set emm_options(pbkrtest.limit = 54073)' or larger];\n",
            "but be warned that this may result in large computation time and memory use.\n",
            "\n",
            "R[write to console]: Note: D.f. calculations have been disabled because the number of observations exceeds 3000.\n",
            "To enable adjustments, add the argument 'lmerTest.limit = 54073' (or larger)\n",
            "[or, globally, 'set emm_options(lmerTest.limit = 54073)' or larger];\n",
            "but be warned that this may result in large computation time and memory use.\n",
            "\n",
            "R[write to console]: NOTE: Results may be misleading due to involvement in interactions\n",
            "\n",
            "R[write to console]: Note: adjust = \"tukey\" was changed to \"sidak\"\n",
            "because \"tukey\" is only appropriate for one set of pairwise comparisons\n",
            "\n"
          ]
        },
        {
          "output_type": "stream",
          "name": "stdout",
          "text": [
            " Parity lsmean    SE  df asymp.LCL asymp.UCL .group\n",
            " 3+       37.8 0.340 Inf      36.9      38.6  a    \n",
            " 2        42.7 0.353 Inf      41.9      43.6   b   \n",
            " 1        49.7 0.360 Inf      48.9      50.6    c  \n",
            "\n",
            "Results are averaged over the levels of: MonthsInMilk, CalvingSeason, HerdIdentifier \n",
            "Degrees-of-freedom method: asymptotic \n",
            "Confidence level used: 0.95 \n",
            "Conf-level adjustment: sidak method for 3 estimates \n",
            "P value adjustment: tukey method for comparing a family of 3 estimates \n",
            "significance level used: alpha = 0.05 \n"
          ]
        }
      ]
    },
    {
      "cell_type": "code",
      "metadata": {
        "id": "HUx8xOEKFZWL",
        "colab": {
          "base_uri": "https://localhost:8080/"
        },
        "outputId": "d8018865-0bd7-4e10-f45b-03bdeacf03ab"
      },
      "source": [
        "%%R\n",
        "multcomp::cld(lsmeans::lsmeans(finalModel, ~ CalvingSeason), alpha=0.05, Letters=letters, adjust=\"tukey\")"
      ],
      "execution_count": null,
      "outputs": [
        {
          "output_type": "stream",
          "name": "stderr",
          "text": [
            "R[write to console]: Note: D.f. calculations have been disabled because the number of observations exceeds 3000.\n",
            "To enable adjustments, add the argument 'pbkrtest.limit = 54073' (or larger)\n",
            "[or, globally, 'set emm_options(pbkrtest.limit = 54073)' or larger];\n",
            "but be warned that this may result in large computation time and memory use.\n",
            "\n",
            "R[write to console]: Note: D.f. calculations have been disabled because the number of observations exceeds 3000.\n",
            "To enable adjustments, add the argument 'lmerTest.limit = 54073' (or larger)\n",
            "[or, globally, 'set emm_options(lmerTest.limit = 54073)' or larger];\n",
            "but be warned that this may result in large computation time and memory use.\n",
            "\n",
            "R[write to console]: NOTE: Results may be misleading due to involvement in interactions\n",
            "\n",
            "R[write to console]: Note: adjust = \"tukey\" was changed to \"sidak\"\n",
            "because \"tukey\" is only appropriate for one set of pairwise comparisons\n",
            "\n"
          ]
        },
        {
          "output_type": "stream",
          "name": "stdout",
          "text": [
            " CalvingSeason lsmean    SE  df asymp.LCL asymp.UCL .group\n",
            " Summer          42.6 0.359 Inf      41.7      43.5  a    \n",
            " Spring          43.3 0.371 Inf      42.4      44.3   b   \n",
            " Autumn          43.8 0.360 Inf      42.9      44.7   b   \n",
            " Winter          43.9 0.371 Inf      43.0      44.8   b   \n",
            "\n",
            "Results are averaged over the levels of: MonthsInMilk, Parity, HerdIdentifier \n",
            "Degrees-of-freedom method: asymptotic \n",
            "Confidence level used: 0.95 \n",
            "Conf-level adjustment: sidak method for 4 estimates \n",
            "P value adjustment: tukey method for comparing a family of 4 estimates \n",
            "significance level used: alpha = 0.05 \n"
          ]
        }
      ]
    },
    {
      "cell_type": "code",
      "metadata": {
        "id": "4L43TJhKFcGo"
      },
      "source": [
        "%%R\n",
        "multcomp::cld(lsmeans::lsmeans(finalModel, ~ MilkingType), alpha=0.05, Letters=letters, adjust=\"tukey\")"
      ],
      "execution_count": null,
      "outputs": []
    },
    {
      "cell_type": "markdown",
      "metadata": {
        "id": "D29ZdDO4wdXf"
      },
      "source": [
        "### nieuwe multcomp milkingtype calving season"
      ]
    },
    {
      "cell_type": "code",
      "metadata": {
        "id": "obW3ZzdpvZp4"
      },
      "source": [
        "%%R\n",
        "multcomp::cld(lsmeans::lsmeans(finalModel, ~ MilkingType, ~ CalvingSeason), alpha=0.05, Letters=letters, adjust=\"tukey\")"
      ],
      "execution_count": null,
      "outputs": []
    },
    {
      "cell_type": "markdown",
      "metadata": {
        "id": "V9knm0W7C0Q9"
      },
      "source": [
        "Contrasts"
      ]
    },
    {
      "cell_type": "code",
      "metadata": {
        "colab": {
          "base_uri": "https://localhost:8080/"
        },
        "id": "udIh8fY8C26E",
        "outputId": "cbf01d11-b6dd-4be9-edd3-c984db98dbd2"
      },
      "source": [
        "%%R\n",
        "LSMs<-lsmeans::lsmeans(finalModel, pairwise ~ MonthsInMilk|Parity, type = \"response\", glhargs=list())\n",
        "multcomp::cld(LSMs[[1]], alpa=0.05, Letters=letters, adjust=\"tukey\")\n",
        "confint(LSMs$contrasts)"
      ],
      "execution_count": null,
      "outputs": [
        {
          "output_type": "stream",
          "name": "stderr",
          "text": [
            "R[write to console]: Note: D.f. calculations have been disabled because the number of observations exceeds 3000.\n",
            "To enable adjustments, add the argument 'pbkrtest.limit = 54073' (or larger)\n",
            "[or, globally, 'set emm_options(pbkrtest.limit = 54073)' or larger];\n",
            "but be warned that this may result in large computation time and memory use.\n",
            "\n",
            "R[write to console]: Note: D.f. calculations have been disabled because the number of observations exceeds 3000.\n",
            "To enable adjustments, add the argument 'lmerTest.limit = 54073' (or larger)\n",
            "[or, globally, 'set emm_options(lmerTest.limit = 54073)' or larger];\n",
            "but be warned that this may result in large computation time and memory use.\n",
            "\n",
            "R[write to console]: Note: adjust = \"tukey\" was changed to \"sidak\"\n",
            "because \"tukey\" is only appropriate for one set of pairwise comparisons\n",
            "\n"
          ]
        },
        {
          "output_type": "stream",
          "name": "stdout",
          "text": [
            "Parity = 1:\n",
            " contrast  estimate    SE  df asymp.LCL asymp.UCL\n",
            " (-1) - 0  -12.3464 0.849 Inf -15.12193    -9.571\n",
            " (-1) - 1  -22.9321 0.875 Inf -25.79066   -20.074\n",
            " (-1) - 2  -19.0873 0.872 Inf -21.93564   -16.239\n",
            " (-1) - 3  -15.5100 0.878 Inf -18.38067   -12.639\n",
            " (-1) - 4  -12.1136 0.889 Inf -15.01842    -9.209\n",
            " (-1) - 5  -12.6040 0.901 Inf -15.54829    -9.660\n",
            " (-1) - 6  -10.7841 0.916 Inf -13.77894    -7.789\n",
            " (-1) - 7   -9.3344 0.934 Inf -12.38600    -6.283\n",
            " (-1) - 8  -10.5140 0.954 Inf -13.63039    -7.398\n",
            " (-1) - 9   -8.6839 0.973 Inf -11.86358    -5.504\n",
            " (-1) - 10  -7.0422 0.992 Inf -10.28387    -3.801\n",
            " 0 - 1     -10.5857 0.757 Inf -13.06006    -8.111\n",
            " 0 - 2      -6.7409 0.751 Inf  -9.19401    -4.288\n",
            " 0 - 3      -3.1636 0.755 Inf  -5.63205    -0.695\n",
            " 0 - 4       0.2328 0.764 Inf  -2.26478     2.730\n",
            " 0 - 5      -0.2576 0.775 Inf  -2.79077     2.276\n",
            " 0 - 6       1.5623 0.790 Inf  -1.02039     4.145\n",
            " 0 - 7       3.0120 0.807 Inf   0.37418     5.650\n",
            " 0 - 8       1.8324 0.827 Inf  -0.87074     4.536\n",
            " 0 - 9       3.6625 0.847 Inf   0.89567     6.429\n",
            " 0 - 10      5.3042 0.866 Inf   2.47529     8.133\n",
            " 1 - 2       3.8448 0.767 Inf   1.33977     6.350\n",
            " 1 - 3       7.4221 0.768 Inf   4.91092     9.933\n",
            " 1 - 4      10.8185 0.774 Inf   8.28799    13.349\n",
            " 1 - 5      10.3281 0.783 Inf   7.77079    12.885\n",
            " 1 - 6      12.1480 0.795 Inf   9.55140    14.745\n",
            " 1 - 7      13.5977 0.809 Inf  10.95457    16.241\n",
            " 1 - 8      12.4181 0.826 Inf   9.71871    15.118\n",
            " 1 - 9      14.2482 0.843 Inf  11.49296    17.003\n",
            " 1 - 10     15.8899 0.860 Inf  13.08020    18.700\n",
            " 2 - 3       3.5773 0.752 Inf   1.12067     6.034\n",
            " 2 - 4       6.9737 0.754 Inf   4.50804     9.439\n",
            " 2 - 5       6.4833 0.760 Inf   4.00047     8.966\n",
            " 2 - 6       8.3032 0.769 Inf   5.78930    10.817\n",
            " 2 - 7       9.7529 0.781 Inf   7.20112    12.305\n",
            " 2 - 8       8.5733 0.796 Inf   5.97156    11.175\n",
            " 2 - 9      10.4034 0.811 Inf   7.75320    13.054\n",
            " 2 - 10     12.0451 0.826 Inf   9.34654    14.744\n",
            " 3 - 4       3.3964 0.746 Inf   0.95917     5.834\n",
            " 3 - 5       2.9060 0.748 Inf   0.46200     5.350\n",
            " 3 - 6       4.7259 0.754 Inf   2.26050     7.191\n",
            " 3 - 7       6.1756 0.763 Inf   3.68074     8.670\n",
            " 3 - 8       4.9960 0.776 Inf   2.46075     7.531\n",
            " 3 - 9       6.8261 0.788 Inf   4.24959     9.403\n",
            " 3 - 10      8.4678 0.801 Inf   5.85088    11.085\n",
            " 4 - 5      -0.4904 0.740 Inf  -2.90877     1.928\n",
            " 4 - 6       1.3295 0.743 Inf  -1.10002     3.759\n",
            " 4 - 7       2.7791 0.749 Inf   0.32988     5.228\n",
            " 4 - 8       1.5996 0.759 Inf  -0.88162     4.081\n",
            " 4 - 9       3.4297 0.769 Inf   0.91746     5.942\n",
            " 4 - 10      5.0713 0.779 Inf   2.52570     7.617\n",
            " 5 - 6       1.8199 0.735 Inf  -0.58338     4.223\n",
            " 5 - 7       3.2696 0.738 Inf   0.85686     5.682\n",
            " 5 - 8       2.0900 0.745 Inf  -0.34510     4.525\n",
            " 5 - 9       3.9201 0.752 Inf   1.46221     6.378\n",
            " 5 - 10      5.5618 0.759 Inf   3.08123     8.042\n",
            " 6 - 7       1.4496 0.732 Inf  -0.94221     3.841\n",
            " 6 - 8       0.2701 0.736 Inf  -2.13378     2.674\n",
            " 6 - 9       2.1002 0.740 Inf  -0.31668     4.517\n",
            " 6 - 10      3.7418 0.744 Inf   1.31032     6.173\n",
            " 7 - 8      -1.1796 0.729 Inf  -3.56037     1.201\n",
            " 7 - 9       0.6506 0.729 Inf  -1.73343     3.035\n",
            " 7 - 10      2.2922 0.731 Inf  -0.09721     4.682\n",
            " 8 - 9       1.8301 0.723 Inf  -0.53225     4.192\n",
            " 8 - 10      3.4717 0.721 Inf   1.11432     5.829\n",
            " 9 - 10      1.6416 0.712 Inf  -0.68579     3.969\n",
            "\n",
            "Parity = 2:\n",
            " contrast  estimate    SE  df asymp.LCL asymp.UCL\n",
            " (-1) - 0   -1.4541 0.713 Inf  -3.78301     0.875\n",
            " (-1) - 1  -11.6586 0.744 Inf -14.09079    -9.226\n",
            " (-1) - 2   -9.5563 0.745 Inf -11.99000    -7.123\n",
            " (-1) - 3   -7.2335 0.760 Inf  -9.71765    -4.749\n",
            " (-1) - 4   -6.1326 0.776 Inf  -8.66784    -3.597\n",
            " (-1) - 5   -6.5130 0.794 Inf  -9.10728    -3.919\n",
            " (-1) - 6   -4.9400 0.812 Inf  -7.59337    -2.287\n",
            " (-1) - 7   -4.6736 0.833 Inf  -7.39622    -1.951\n",
            " (-1) - 8   -4.3992 0.860 Inf  -7.21111    -1.587\n",
            " (-1) - 9   -3.0137 0.882 Inf  -5.89687    -0.131\n",
            " (-1) - 10  -2.2246 0.911 Inf  -5.20314     0.754\n",
            " 0 - 1     -10.2045 0.705 Inf -12.50751    -7.901\n",
            " 0 - 2      -8.1021 0.702 Inf -10.39631    -5.808\n",
            " 0 - 3      -5.7794 0.715 Inf  -8.11686    -3.442\n",
            " 0 - 4      -4.6784 0.729 Inf  -7.06077    -2.296\n",
            " 0 - 5      -5.0588 0.745 Inf  -7.49337    -2.624\n",
            " 0 - 6      -3.4859 0.761 Inf  -5.97417    -0.998\n",
            " 0 - 7      -3.2195 0.781 Inf  -5.77214    -0.667\n",
            " 0 - 8      -2.9451 0.808 Inf  -5.58402    -0.306\n",
            " 0 - 9      -1.5596 0.828 Inf  -4.26593     1.147\n",
            " 0 - 10     -0.7704 0.857 Inf  -3.56997     2.029\n",
            " 1 - 2       2.1023 0.724 Inf  -0.26313     4.468\n",
            " 1 - 3       4.4251 0.734 Inf   2.02754     6.823\n",
            " 1 - 4       5.5260 0.744 Inf   3.09434     7.958\n",
            " 1 - 5       5.1456 0.757 Inf   2.67162     7.620\n",
            " 1 - 6       6.7186 0.770 Inf   4.20196     9.235\n",
            " 1 - 7       6.9850 0.787 Inf   4.41325     9.557\n",
            " 1 - 8       7.2594 0.810 Inf   4.61113     9.908\n",
            " 1 - 9       8.6449 0.828 Inf   5.93775    11.352\n",
            " 1 - 10      9.4341 0.854 Inf   6.64200    12.226\n",
            " 2 - 3       2.3227 0.722 Inf  -0.03520     4.681\n",
            " 2 - 4       3.4237 0.729 Inf   1.04119     5.806\n",
            " 2 - 5       3.0433 0.739 Inf   0.62750     5.459\n",
            " 2 - 6       4.6162 0.750 Inf   2.16593     7.067\n",
            " 2 - 7       4.8827 0.764 Inf   2.38585     7.379\n",
            " 2 - 8       5.1570 0.785 Inf   2.59014     7.724\n",
            " 2 - 9       6.5426 0.801 Inf   3.92399     9.161\n",
            " 2 - 10      7.3317 0.826 Inf   4.63392    10.030\n",
            " 3 - 4       1.1010 0.729 Inf  -1.28198     3.484\n",
            " 3 - 5       0.7206 0.736 Inf  -1.68570     3.127\n",
            " 3 - 6       2.2935 0.744 Inf  -0.13793     4.725\n",
            " 3 - 7       2.5599 0.756 Inf   0.09084     5.029\n",
            " 3 - 8       2.8343 0.774 Inf   0.30443     5.364\n",
            " 3 - 9       4.2198 0.788 Inf   1.64560     6.794\n",
            " 3 - 10      5.0090 0.809 Inf   2.36374     7.654\n",
            " 4 - 5      -0.3804 0.734 Inf  -2.78009     2.019\n",
            " 4 - 6       1.1925 0.739 Inf  -1.22220     3.607\n",
            " 4 - 7       1.4590 0.748 Inf  -0.98434     3.902\n",
            " 4 - 8       1.7333 0.764 Inf  -0.76268     4.229\n",
            " 4 - 9       3.1189 0.774 Inf   0.58793     5.650\n",
            " 4 - 10      3.9080 0.794 Inf   1.31276     6.503\n",
            " 5 - 6       1.5729 0.737 Inf  -0.83458     3.980\n",
            " 5 - 7       1.8394 0.742 Inf  -0.58649     4.265\n",
            " 5 - 8       2.1137 0.756 Inf  -0.35607     4.584\n",
            " 5 - 9       3.4993 0.764 Inf   1.00317     5.995\n",
            " 5 - 10      4.2884 0.780 Inf   1.73782     6.839\n",
            " 6 - 7       0.2664 0.738 Inf  -2.14402     2.677\n",
            " 6 - 8       0.5408 0.748 Inf  -1.90354     2.985\n",
            " 6 - 9       1.9263 0.753 Inf  -0.53533     4.388\n",
            " 6 - 10      2.7155 0.768 Inf   0.20698     5.224\n",
            " 7 - 8       0.2744 0.744 Inf  -2.15720     2.706\n",
            " 7 - 9       1.6599 0.746 Inf  -0.77932     4.099\n",
            " 7 - 10      2.4491 0.758 Inf  -0.02784     4.926\n",
            " 8 - 9       1.3855 0.747 Inf  -1.05627     3.827\n",
            " 8 - 10      2.1747 0.756 Inf  -0.29451     4.644\n",
            " 9 - 10      0.7892 0.748 Inf  -1.65558     3.234\n",
            "\n",
            "Parity = 3+:\n",
            " contrast  estimate    SE  df asymp.LCL asymp.UCL\n",
            " (-1) - 0   -1.7804 0.493 Inf  -3.39174    -0.169\n",
            " (-1) - 1  -11.3368 0.526 Inf -13.05532    -9.618\n",
            " (-1) - 2  -10.7462 0.536 Inf -12.49627    -8.996\n",
            " (-1) - 3   -9.7788 0.555 Inf -11.59284    -7.965\n",
            " (-1) - 4   -9.4901 0.577 Inf -11.37425    -7.606\n",
            " (-1) - 5   -9.5747 0.602 Inf -11.54271    -7.607\n",
            " (-1) - 6   -8.5728 0.628 Inf -10.62517    -6.520\n",
            " (-1) - 7   -7.7615 0.657 Inf  -9.91007    -5.613\n",
            " (-1) - 8   -8.0806 0.688 Inf -10.33006    -5.831\n",
            " (-1) - 9   -6.6296 0.722 Inf  -8.99007    -4.269\n",
            " (-1) - 10  -5.7319 0.759 Inf  -8.21286    -3.251\n",
            " 0 - 1      -9.5565 0.495 Inf -11.17525    -7.938\n",
            " 0 - 2      -8.9658 0.501 Inf -10.60365    -7.328\n",
            " 0 - 3      -7.9985 0.518 Inf  -9.69012    -6.307\n",
            " 0 - 4      -7.7097 0.536 Inf  -9.46254    -5.957\n",
            " 0 - 5      -7.7943 0.560 Inf  -9.62318    -5.965\n",
            " 0 - 6      -6.7924 0.584 Inf  -8.69952    -4.885\n",
            " 0 - 7      -5.9812 0.611 Inf  -7.97915    -3.983\n",
            " 0 - 8      -6.3003 0.641 Inf  -8.39475    -4.206\n",
            " 0 - 9      -4.8492 0.674 Inf  -7.05148    -2.647\n",
            " 0 - 10     -3.9515 0.710 Inf  -6.27186    -1.631\n",
            " 1 - 2       0.5907 0.520 Inf  -1.10734     2.289\n",
            " 1 - 3       1.5580 0.531 Inf  -0.17876     3.295\n",
            " 1 - 4       1.8468 0.546 Inf   0.06334     3.630\n",
            " 1 - 5       1.7622 0.565 Inf  -0.08365     3.608\n",
            " 1 - 6       2.7640 0.585 Inf   0.85390     4.674\n",
            " 1 - 7       3.5753 0.609 Inf   1.58621     5.564\n",
            " 1 - 8       3.2562 0.635 Inf   1.18195     5.330\n",
            " 1 - 9       4.7072 0.665 Inf   2.53516     6.879\n",
            " 1 - 10      5.6049 0.698 Inf   3.32384     7.886\n",
            " 2 - 3       0.9673 0.524 Inf  -0.74417     2.679\n",
            " 2 - 4       1.2561 0.534 Inf  -0.48896     3.001\n",
            " 2 - 5       1.1715 0.549 Inf  -0.62393     2.967\n",
            " 2 - 6       2.1734 0.566 Inf   0.32482     4.022\n",
            " 2 - 7       2.9846 0.587 Inf   1.06785     4.901\n",
            " 2 - 8       2.6655 0.610 Inf   0.67225     4.659\n",
            " 2 - 9       4.1166 0.637 Inf   2.03356     6.200\n",
            " 2 - 10      5.0143 0.669 Inf   2.82902     7.199\n",
            " 3 - 4       0.2888 0.532 Inf  -1.45077     2.028\n",
            " 3 - 5       0.2042 0.544 Inf  -1.57207     1.980\n",
            " 3 - 6       1.2060 0.556 Inf  -0.61060     3.023\n",
            " 3 - 7       2.0173 0.573 Inf   0.14418     3.890\n",
            " 3 - 8       1.6982 0.593 Inf  -0.23997     3.636\n",
            " 3 - 9       3.1492 0.618 Inf   1.13068     5.168\n",
            " 3 - 10      4.0469 0.646 Inf   1.93494     6.159\n",
            " 4 - 5      -0.0846 0.540 Inf  -1.85028     1.681\n",
            " 4 - 6       0.9173 0.549 Inf  -0.87532     2.710\n",
            " 4 - 7       1.7285 0.562 Inf  -0.10780     3.565\n",
            " 4 - 8       1.4094 0.578 Inf  -0.48067     3.300\n",
            " 4 - 9       2.8605 0.599 Inf   0.90130     4.820\n",
            " 4 - 10      3.7581 0.625 Inf   1.71433     5.802\n",
            " 5 - 6       1.0019 0.547 Inf  -0.78440     2.788\n",
            " 5 - 7       1.8131 0.556 Inf  -0.00312     3.629\n",
            " 5 - 8       1.4940 0.568 Inf  -0.36323     3.351\n",
            " 5 - 9       2.9451 0.586 Inf   1.03023     4.860\n",
            " 5 - 10      3.8428 0.608 Inf   1.85470     5.831\n",
            " 6 - 7       0.8113 0.551 Inf  -0.98901     2.612\n",
            " 6 - 8       0.4922 0.559 Inf  -1.33595     2.320\n",
            " 6 - 9       1.9432 0.573 Inf   0.06962     3.817\n",
            " 6 - 10      2.8409 0.592 Inf   0.90489     4.777\n",
            " 7 - 8      -0.3191 0.555 Inf  -2.13415     1.496\n",
            " 7 - 9       1.1319 0.565 Inf  -0.71538     2.979\n",
            " 7 - 10      2.0296 0.581 Inf   0.13236     3.927\n",
            " 8 - 9       1.4510 0.561 Inf  -0.38069     3.283\n",
            " 8 - 10      2.3487 0.572 Inf   0.47995     4.217\n",
            " 9 - 10      0.8977 0.568 Inf  -0.95944     2.755\n",
            "\n",
            "Results are averaged over the levels of: CalvingSeason, HerdIdentifier \n",
            "Degrees-of-freedom method: asymptotic \n",
            "Confidence level used: 0.95 \n",
            "Conf-level adjustment: tukey method for comparing a family of 12 estimates \n"
          ]
        }
      ]
    },
    {
      "cell_type": "markdown",
      "metadata": {
        "id": "c0A00NQmFfKc"
      },
      "source": [
        "## Interactions"
      ]
    },
    {
      "cell_type": "markdown",
      "metadata": {
        "id": "1ZCV4coUFhr7"
      },
      "source": [
        "### MonthsInMilk by parity"
      ]
    },
    {
      "cell_type": "code",
      "metadata": {
        "id": "WXDuKZYcFqdb",
        "colab": {
          "base_uri": "https://localhost:8080/"
        },
        "outputId": "b46b6abf-98f0-4909-bae2-8068787ed4a2"
      },
      "source": [
        "%%R\n",
        "LSMs<-lsmeans::lsmeans(finalModel, pairwise ~ MonthsInMilk|Parity, type = \"response\", glhargs=list())\n",
        "multcomp::cld(LSMs[[1]], alpha=0.05, Letters=letters, adjust=\"tukey\")\n",
        "confint(LSMs$contrasts)"
      ],
      "execution_count": null,
      "outputs": [
        {
          "output_type": "stream",
          "name": "stderr",
          "text": [
            "R[write to console]: Note: D.f. calculations have been disabled because the number of observations exceeds 3000.\n",
            "To enable adjustments, add the argument 'pbkrtest.limit = 54073' (or larger)\n",
            "[or, globally, 'set emm_options(pbkrtest.limit = 54073)' or larger];\n",
            "but be warned that this may result in large computation time and memory use.\n",
            "\n",
            "R[write to console]: Note: D.f. calculations have been disabled because the number of observations exceeds 3000.\n",
            "To enable adjustments, add the argument 'lmerTest.limit = 54073' (or larger)\n",
            "[or, globally, 'set emm_options(lmerTest.limit = 54073)' or larger];\n",
            "but be warned that this may result in large computation time and memory use.\n",
            "\n",
            "R[write to console]: Note: adjust = \"tukey\" was changed to \"sidak\"\n",
            "because \"tukey\" is only appropriate for one set of pairwise comparisons\n",
            "\n"
          ]
        },
        {
          "output_type": "stream",
          "name": "stdout",
          "text": [
            "Parity = 1:\n",
            " contrast  estimate    SE  df asymp.LCL asymp.UCL\n",
            " (-1) - 0  -12.3464 0.849 Inf -15.12193    -9.571\n",
            " (-1) - 1  -22.9321 0.875 Inf -25.79066   -20.074\n",
            " (-1) - 2  -19.0873 0.872 Inf -21.93564   -16.239\n",
            " (-1) - 3  -15.5100 0.878 Inf -18.38067   -12.639\n",
            " (-1) - 4  -12.1136 0.889 Inf -15.01842    -9.209\n",
            " (-1) - 5  -12.6040 0.901 Inf -15.54829    -9.660\n",
            " (-1) - 6  -10.7841 0.916 Inf -13.77894    -7.789\n",
            " (-1) - 7   -9.3344 0.934 Inf -12.38600    -6.283\n",
            " (-1) - 8  -10.5140 0.954 Inf -13.63039    -7.398\n",
            " (-1) - 9   -8.6839 0.973 Inf -11.86358    -5.504\n",
            " (-1) - 10  -7.0422 0.992 Inf -10.28387    -3.801\n",
            " 0 - 1     -10.5857 0.757 Inf -13.06006    -8.111\n",
            " 0 - 2      -6.7409 0.751 Inf  -9.19401    -4.288\n",
            " 0 - 3      -3.1636 0.755 Inf  -5.63205    -0.695\n",
            " 0 - 4       0.2328 0.764 Inf  -2.26478     2.730\n",
            " 0 - 5      -0.2576 0.775 Inf  -2.79077     2.276\n",
            " 0 - 6       1.5623 0.790 Inf  -1.02039     4.145\n",
            " 0 - 7       3.0120 0.807 Inf   0.37418     5.650\n",
            " 0 - 8       1.8324 0.827 Inf  -0.87074     4.536\n",
            " 0 - 9       3.6625 0.847 Inf   0.89567     6.429\n",
            " 0 - 10      5.3042 0.866 Inf   2.47529     8.133\n",
            " 1 - 2       3.8448 0.767 Inf   1.33977     6.350\n",
            " 1 - 3       7.4221 0.768 Inf   4.91092     9.933\n",
            " 1 - 4      10.8185 0.774 Inf   8.28799    13.349\n",
            " 1 - 5      10.3281 0.783 Inf   7.77079    12.885\n",
            " 1 - 6      12.1480 0.795 Inf   9.55140    14.745\n",
            " 1 - 7      13.5977 0.809 Inf  10.95457    16.241\n",
            " 1 - 8      12.4181 0.826 Inf   9.71871    15.118\n",
            " 1 - 9      14.2482 0.843 Inf  11.49296    17.003\n",
            " 1 - 10     15.8899 0.860 Inf  13.08020    18.700\n",
            " 2 - 3       3.5773 0.752 Inf   1.12067     6.034\n",
            " 2 - 4       6.9737 0.754 Inf   4.50804     9.439\n",
            " 2 - 5       6.4833 0.760 Inf   4.00047     8.966\n",
            " 2 - 6       8.3032 0.769 Inf   5.78930    10.817\n",
            " 2 - 7       9.7529 0.781 Inf   7.20112    12.305\n",
            " 2 - 8       8.5733 0.796 Inf   5.97156    11.175\n",
            " 2 - 9      10.4034 0.811 Inf   7.75320    13.054\n",
            " 2 - 10     12.0451 0.826 Inf   9.34654    14.744\n",
            " 3 - 4       3.3964 0.746 Inf   0.95917     5.834\n",
            " 3 - 5       2.9060 0.748 Inf   0.46200     5.350\n",
            " 3 - 6       4.7259 0.754 Inf   2.26050     7.191\n",
            " 3 - 7       6.1756 0.763 Inf   3.68074     8.670\n",
            " 3 - 8       4.9960 0.776 Inf   2.46075     7.531\n",
            " 3 - 9       6.8261 0.788 Inf   4.24959     9.403\n",
            " 3 - 10      8.4678 0.801 Inf   5.85088    11.085\n",
            " 4 - 5      -0.4904 0.740 Inf  -2.90877     1.928\n",
            " 4 - 6       1.3295 0.743 Inf  -1.10002     3.759\n",
            " 4 - 7       2.7791 0.749 Inf   0.32988     5.228\n",
            " 4 - 8       1.5996 0.759 Inf  -0.88162     4.081\n",
            " 4 - 9       3.4297 0.769 Inf   0.91746     5.942\n",
            " 4 - 10      5.0713 0.779 Inf   2.52570     7.617\n",
            " 5 - 6       1.8199 0.735 Inf  -0.58338     4.223\n",
            " 5 - 7       3.2696 0.738 Inf   0.85686     5.682\n",
            " 5 - 8       2.0900 0.745 Inf  -0.34510     4.525\n",
            " 5 - 9       3.9201 0.752 Inf   1.46221     6.378\n",
            " 5 - 10      5.5618 0.759 Inf   3.08123     8.042\n",
            " 6 - 7       1.4496 0.732 Inf  -0.94221     3.841\n",
            " 6 - 8       0.2701 0.736 Inf  -2.13378     2.674\n",
            " 6 - 9       2.1002 0.740 Inf  -0.31668     4.517\n",
            " 6 - 10      3.7418 0.744 Inf   1.31032     6.173\n",
            " 7 - 8      -1.1796 0.729 Inf  -3.56037     1.201\n",
            " 7 - 9       0.6506 0.729 Inf  -1.73343     3.035\n",
            " 7 - 10      2.2922 0.731 Inf  -0.09721     4.682\n",
            " 8 - 9       1.8301 0.723 Inf  -0.53225     4.192\n",
            " 8 - 10      3.4717 0.721 Inf   1.11432     5.829\n",
            " 9 - 10      1.6416 0.712 Inf  -0.68579     3.969\n",
            "\n",
            "Parity = 2:\n",
            " contrast  estimate    SE  df asymp.LCL asymp.UCL\n",
            " (-1) - 0   -1.4541 0.713 Inf  -3.78301     0.875\n",
            " (-1) - 1  -11.6586 0.744 Inf -14.09079    -9.226\n",
            " (-1) - 2   -9.5563 0.745 Inf -11.99000    -7.123\n",
            " (-1) - 3   -7.2335 0.760 Inf  -9.71765    -4.749\n",
            " (-1) - 4   -6.1326 0.776 Inf  -8.66784    -3.597\n",
            " (-1) - 5   -6.5130 0.794 Inf  -9.10728    -3.919\n",
            " (-1) - 6   -4.9400 0.812 Inf  -7.59337    -2.287\n",
            " (-1) - 7   -4.6736 0.833 Inf  -7.39622    -1.951\n",
            " (-1) - 8   -4.3992 0.860 Inf  -7.21111    -1.587\n",
            " (-1) - 9   -3.0137 0.882 Inf  -5.89687    -0.131\n",
            " (-1) - 10  -2.2246 0.911 Inf  -5.20314     0.754\n",
            " 0 - 1     -10.2045 0.705 Inf -12.50751    -7.901\n",
            " 0 - 2      -8.1021 0.702 Inf -10.39631    -5.808\n",
            " 0 - 3      -5.7794 0.715 Inf  -8.11686    -3.442\n",
            " 0 - 4      -4.6784 0.729 Inf  -7.06077    -2.296\n",
            " 0 - 5      -5.0588 0.745 Inf  -7.49337    -2.624\n",
            " 0 - 6      -3.4859 0.761 Inf  -5.97417    -0.998\n",
            " 0 - 7      -3.2195 0.781 Inf  -5.77214    -0.667\n",
            " 0 - 8      -2.9451 0.808 Inf  -5.58402    -0.306\n",
            " 0 - 9      -1.5596 0.828 Inf  -4.26593     1.147\n",
            " 0 - 10     -0.7704 0.857 Inf  -3.56997     2.029\n",
            " 1 - 2       2.1023 0.724 Inf  -0.26313     4.468\n",
            " 1 - 3       4.4251 0.734 Inf   2.02754     6.823\n",
            " 1 - 4       5.5260 0.744 Inf   3.09434     7.958\n",
            " 1 - 5       5.1456 0.757 Inf   2.67162     7.620\n",
            " 1 - 6       6.7186 0.770 Inf   4.20196     9.235\n",
            " 1 - 7       6.9850 0.787 Inf   4.41325     9.557\n",
            " 1 - 8       7.2594 0.810 Inf   4.61113     9.908\n",
            " 1 - 9       8.6449 0.828 Inf   5.93775    11.352\n",
            " 1 - 10      9.4341 0.854 Inf   6.64200    12.226\n",
            " 2 - 3       2.3227 0.722 Inf  -0.03520     4.681\n",
            " 2 - 4       3.4237 0.729 Inf   1.04119     5.806\n",
            " 2 - 5       3.0433 0.739 Inf   0.62750     5.459\n",
            " 2 - 6       4.6162 0.750 Inf   2.16593     7.067\n",
            " 2 - 7       4.8827 0.764 Inf   2.38585     7.379\n",
            " 2 - 8       5.1570 0.785 Inf   2.59014     7.724\n",
            " 2 - 9       6.5426 0.801 Inf   3.92399     9.161\n",
            " 2 - 10      7.3317 0.826 Inf   4.63392    10.030\n",
            " 3 - 4       1.1010 0.729 Inf  -1.28198     3.484\n",
            " 3 - 5       0.7206 0.736 Inf  -1.68570     3.127\n",
            " 3 - 6       2.2935 0.744 Inf  -0.13793     4.725\n",
            " 3 - 7       2.5599 0.756 Inf   0.09084     5.029\n",
            " 3 - 8       2.8343 0.774 Inf   0.30443     5.364\n",
            " 3 - 9       4.2198 0.788 Inf   1.64560     6.794\n",
            " 3 - 10      5.0090 0.809 Inf   2.36374     7.654\n",
            " 4 - 5      -0.3804 0.734 Inf  -2.78009     2.019\n",
            " 4 - 6       1.1925 0.739 Inf  -1.22220     3.607\n",
            " 4 - 7       1.4590 0.748 Inf  -0.98434     3.902\n",
            " 4 - 8       1.7333 0.764 Inf  -0.76268     4.229\n",
            " 4 - 9       3.1189 0.774 Inf   0.58793     5.650\n",
            " 4 - 10      3.9080 0.794 Inf   1.31276     6.503\n",
            " 5 - 6       1.5729 0.737 Inf  -0.83458     3.980\n",
            " 5 - 7       1.8394 0.742 Inf  -0.58649     4.265\n",
            " 5 - 8       2.1137 0.756 Inf  -0.35607     4.584\n",
            " 5 - 9       3.4993 0.764 Inf   1.00317     5.995\n",
            " 5 - 10      4.2884 0.780 Inf   1.73782     6.839\n",
            " 6 - 7       0.2664 0.738 Inf  -2.14402     2.677\n",
            " 6 - 8       0.5408 0.748 Inf  -1.90354     2.985\n",
            " 6 - 9       1.9263 0.753 Inf  -0.53533     4.388\n",
            " 6 - 10      2.7155 0.768 Inf   0.20698     5.224\n",
            " 7 - 8       0.2744 0.744 Inf  -2.15720     2.706\n",
            " 7 - 9       1.6599 0.746 Inf  -0.77932     4.099\n",
            " 7 - 10      2.4491 0.758 Inf  -0.02784     4.926\n",
            " 8 - 9       1.3855 0.747 Inf  -1.05627     3.827\n",
            " 8 - 10      2.1747 0.756 Inf  -0.29451     4.644\n",
            " 9 - 10      0.7892 0.748 Inf  -1.65558     3.234\n",
            "\n",
            "Parity = 3+:\n",
            " contrast  estimate    SE  df asymp.LCL asymp.UCL\n",
            " (-1) - 0   -1.7804 0.493 Inf  -3.39174    -0.169\n",
            " (-1) - 1  -11.3368 0.526 Inf -13.05532    -9.618\n",
            " (-1) - 2  -10.7462 0.536 Inf -12.49627    -8.996\n",
            " (-1) - 3   -9.7788 0.555 Inf -11.59284    -7.965\n",
            " (-1) - 4   -9.4901 0.577 Inf -11.37425    -7.606\n",
            " (-1) - 5   -9.5747 0.602 Inf -11.54271    -7.607\n",
            " (-1) - 6   -8.5728 0.628 Inf -10.62517    -6.520\n",
            " (-1) - 7   -7.7615 0.657 Inf  -9.91007    -5.613\n",
            " (-1) - 8   -8.0806 0.688 Inf -10.33006    -5.831\n",
            " (-1) - 9   -6.6296 0.722 Inf  -8.99007    -4.269\n",
            " (-1) - 10  -5.7319 0.759 Inf  -8.21286    -3.251\n",
            " 0 - 1      -9.5565 0.495 Inf -11.17525    -7.938\n",
            " 0 - 2      -8.9658 0.501 Inf -10.60365    -7.328\n",
            " 0 - 3      -7.9985 0.518 Inf  -9.69012    -6.307\n",
            " 0 - 4      -7.7097 0.536 Inf  -9.46254    -5.957\n",
            " 0 - 5      -7.7943 0.560 Inf  -9.62318    -5.965\n",
            " 0 - 6      -6.7924 0.584 Inf  -8.69952    -4.885\n",
            " 0 - 7      -5.9812 0.611 Inf  -7.97915    -3.983\n",
            " 0 - 8      -6.3003 0.641 Inf  -8.39475    -4.206\n",
            " 0 - 9      -4.8492 0.674 Inf  -7.05148    -2.647\n",
            " 0 - 10     -3.9515 0.710 Inf  -6.27186    -1.631\n",
            " 1 - 2       0.5907 0.520 Inf  -1.10734     2.289\n",
            " 1 - 3       1.5580 0.531 Inf  -0.17876     3.295\n",
            " 1 - 4       1.8468 0.546 Inf   0.06334     3.630\n",
            " 1 - 5       1.7622 0.565 Inf  -0.08365     3.608\n",
            " 1 - 6       2.7640 0.585 Inf   0.85390     4.674\n",
            " 1 - 7       3.5753 0.609 Inf   1.58621     5.564\n",
            " 1 - 8       3.2562 0.635 Inf   1.18195     5.330\n",
            " 1 - 9       4.7072 0.665 Inf   2.53516     6.879\n",
            " 1 - 10      5.6049 0.698 Inf   3.32384     7.886\n",
            " 2 - 3       0.9673 0.524 Inf  -0.74417     2.679\n",
            " 2 - 4       1.2561 0.534 Inf  -0.48896     3.001\n",
            " 2 - 5       1.1715 0.549 Inf  -0.62393     2.967\n",
            " 2 - 6       2.1734 0.566 Inf   0.32482     4.022\n",
            " 2 - 7       2.9846 0.587 Inf   1.06785     4.901\n",
            " 2 - 8       2.6655 0.610 Inf   0.67225     4.659\n",
            " 2 - 9       4.1166 0.637 Inf   2.03356     6.200\n",
            " 2 - 10      5.0143 0.669 Inf   2.82902     7.199\n",
            " 3 - 4       0.2888 0.532 Inf  -1.45077     2.028\n",
            " 3 - 5       0.2042 0.544 Inf  -1.57207     1.980\n",
            " 3 - 6       1.2060 0.556 Inf  -0.61060     3.023\n",
            " 3 - 7       2.0173 0.573 Inf   0.14418     3.890\n",
            " 3 - 8       1.6982 0.593 Inf  -0.23997     3.636\n",
            " 3 - 9       3.1492 0.618 Inf   1.13068     5.168\n",
            " 3 - 10      4.0469 0.646 Inf   1.93494     6.159\n",
            " 4 - 5      -0.0846 0.540 Inf  -1.85028     1.681\n",
            " 4 - 6       0.9173 0.549 Inf  -0.87532     2.710\n",
            " 4 - 7       1.7285 0.562 Inf  -0.10780     3.565\n",
            " 4 - 8       1.4094 0.578 Inf  -0.48067     3.300\n",
            " 4 - 9       2.8605 0.599 Inf   0.90130     4.820\n",
            " 4 - 10      3.7581 0.625 Inf   1.71433     5.802\n",
            " 5 - 6       1.0019 0.547 Inf  -0.78440     2.788\n",
            " 5 - 7       1.8131 0.556 Inf  -0.00312     3.629\n",
            " 5 - 8       1.4940 0.568 Inf  -0.36323     3.351\n",
            " 5 - 9       2.9451 0.586 Inf   1.03023     4.860\n",
            " 5 - 10      3.8428 0.608 Inf   1.85470     5.831\n",
            " 6 - 7       0.8113 0.551 Inf  -0.98901     2.612\n",
            " 6 - 8       0.4922 0.559 Inf  -1.33595     2.320\n",
            " 6 - 9       1.9432 0.573 Inf   0.06962     3.817\n",
            " 6 - 10      2.8409 0.592 Inf   0.90489     4.777\n",
            " 7 - 8      -0.3191 0.555 Inf  -2.13415     1.496\n",
            " 7 - 9       1.1319 0.565 Inf  -0.71538     2.979\n",
            " 7 - 10      2.0296 0.581 Inf   0.13236     3.927\n",
            " 8 - 9       1.4510 0.561 Inf  -0.38069     3.283\n",
            " 8 - 10      2.3487 0.572 Inf   0.47995     4.217\n",
            " 9 - 10      0.8977 0.568 Inf  -0.95944     2.755\n",
            "\n",
            "Results are averaged over the levels of: CalvingSeason, HerdIdentifier \n",
            "Degrees-of-freedom method: asymptotic \n",
            "Confidence level used: 0.95 \n",
            "Conf-level adjustment: tukey method for comparing a family of 12 estimates \n"
          ]
        }
      ]
    },
    {
      "cell_type": "code",
      "metadata": {
        "id": "Bj8cmS9cFvDK",
        "colab": {
          "base_uri": "https://localhost:8080/",
          "height": 497
        },
        "outputId": "fd535951-2aee-491d-85e4-569c2f46bee2"
      },
      "source": [
        "%%R\n",
        "dfPValues <- summary(LSMs)[[2]]\n",
        "dfLMSs <- summary(LSMs)[[1]]\n",
        "dfLMSs %>% \n",
        "  mutate(label = if_else(MonthsInMilk == max(as.numeric(MonthsInMilk)), as.character(Parity), NA_character_)) %>%\n",
        "  ggplot(\n",
        "  aes(\n",
        "    x=MonthsInMilk,\n",
        "    y=lsmean,\n",
        "    group=Parity, \n",
        "    color=Parity)\n",
        "    ) +\n",
        "  geom_line(size=1) +  \n",
        "  geom_errorbar(\n",
        "    aes(ymin=asymp.LCL, \n",
        "        ymax=asymp.UCL), \n",
        "    width=1,\n",
        "    size=1,\n",
        "    position=position_dodge(0.25)) +\n",
        "  labs(\n",
        "    title = \"Walking time (min/day)\", \n",
        "    y=\"Minutes per day\" , \n",
        "    x = \"Months in milk\") +\n",
        "  theme_bw() +\n",
        "  theme(text=element_text(size=25),\n",
        "        plot.title = element_text(hjust = 0.5),\n",
        "        panel.border = element_blank(), \n",
        "        panel.grid.major = element_blank(),\n",
        "        panel.grid.minor = element_blank(), \n",
        "        axis.line = element_line(colour = \"black\"))"
      ],
      "execution_count": null,
      "outputs": [
        {
          "output_type": "display_data",
          "data": {
            "image/png": "[encoded data removed]"
          },
          "metadata": {}
        }
      ]
    },
    {
      "cell_type": "code",
      "metadata": {
        "id": "Wz8y0dNqllv3"
      },
      "source": [
        "%%R\n",
        "ggsave(\"/content/drive/Shareddrives/Bovi-Analytics/Projects/SenseOfSensors/DiurnalPattern/Figures122021/WalkingTimeParityByMonthsInMilk.png\", width = 10, height = 8)"
      ],
      "execution_count": null,
      "outputs": []
    },
    {
      "cell_type": "markdown",
      "metadata": {
        "id": "27TgINROFljg"
      },
      "source": [
        "### MonthsInMilk by milking type"
      ]
    },
    {
      "cell_type": "code",
      "metadata": {
        "id": "upOS6V2hFzih"
      },
      "source": [
        "%%R\n",
        "LSMs<-lsmeans::lsmeans(finalModel, pairwise ~ MonthsInMilk|MilkingType, type = \"response\", glhargs=list())\n",
        "multcomp::cld(LSMs[[1]], alpha=0.05, Letters=letters, adjust=\"tukey\")"
      ],
      "execution_count": null,
      "outputs": []
    },
    {
      "cell_type": "code",
      "source": [
        "%%R\n",
        "LSMs<-lsmeans::lsmeans(finalModel, pairwise ~ MonthsInMilk|HerdIdentifier, type = \"response\", glhargs=list())"
      ],
      "metadata": {
        "colab": {
          "base_uri": "https://localhost:8080/"
        },
        "id": "su6uNKDT4ClW",
        "outputId": "2b3ad059-a3e3-4022-e6b5-4acfbc571ed7"
      },
      "execution_count": null,
      "outputs": [
        {
          "output_type": "stream",
          "name": "stderr",
          "text": [
            "R[write to console]: Note: D.f. calculations have been disabled because the number of observations exceeds 3000.\n",
            "To enable adjustments, add the argument 'pbkrtest.limit = 54073' (or larger)\n",
            "[or, globally, 'set emm_options(pbkrtest.limit = 54073)' or larger];\n",
            "but be warned that this may result in large computation time and memory use.\n",
            "\n",
            "R[write to console]: Note: D.f. calculations have been disabled because the number of observations exceeds 3000.\n",
            "To enable adjustments, add the argument 'lmerTest.limit = 54073' (or larger)\n",
            "[or, globally, 'set emm_options(lmerTest.limit = 54073)' or larger];\n",
            "but be warned that this may result in large computation time and memory use.\n",
            "\n"
          ]
        }
      ]
    },
    {
      "cell_type": "code",
      "source": [
        "%%R\n",
        "dfHerdIdentifier <- data.frame(HerdIdentifier = c(\"2011\", \"2297\", \"2514\", \"2746\", \"3\", \"3314\", \"544\", \"5888\"),\n",
        "                 Farm = c(\"CMS-P\", \"CMS-P\", \"AMS-C\", \"CMS-P\", \"CMS-P\", \"AMS-C\", \"AMS-C\", \"CMS-P\")\n",
        "                 )"
      ],
      "metadata": {
        "id": "ZoYgtxgT4Dps"
      },
      "execution_count": null,
      "outputs": []
    },
    {
      "cell_type": "code",
      "metadata": {
        "id": "rXEqEQIqtc0o",
        "colab": {
          "base_uri": "https://localhost:8080/",
          "height": 497
        },
        "outputId": "157ff27d-a73d-427d-d96c-46b322996406"
      },
      "source": [
        "%%R\n",
        "dfLMSs <- summary(LSMs)[[1]]\n",
        "dfLMSs %>% \n",
        "  dplyr::left_join(dfHerdIdentifier, by =  c(\"HerdIdentifier\")) %>%\n",
        "  mutate(label = if_else(MonthsInMilk == max(as.numeric(MonthsInMilk)), as.character(HerdIdentifier), NA_character_)) %>%\n",
        "  ggplot(\n",
        "  aes(\n",
        "    x=MonthsInMilk,\n",
        "    y=lsmean,\n",
        "    group=HerdIdentifier, \n",
        "    color=Farm)\n",
        "    ) +\n",
        "  geom_line(size=1) +  \n",
        "  geom_errorbar(\n",
        "    aes(ymin=asymp.LCL, \n",
        "        ymax=asymp.UCL), \n",
        "    width=1,\n",
        "    size=1,\n",
        "    position=position_dodge(0.25)) +\n",
        "  labs(\n",
        "    title = \"Walking time (min/day)\", \n",
        "    y=\"Minutes per day\" , \n",
        "    x = \"MonthsInMilk\") +\n",
        "  theme_bw() +\n",
        "  theme(text=element_text(size=25),\n",
        "        plot.title = element_text(hjust = 0.5),\n",
        "        panel.border = element_blank(), \n",
        "        panel.grid.major = element_blank(),\n",
        "        panel.grid.minor = element_blank(), \n",
        "        axis.line = element_line(colour = \"black\"))"
      ],
      "execution_count": null,
      "outputs": [
        {
          "output_type": "display_data",
          "data": {
            "image/png": "[encoded data removed]"
          },
          "metadata": {}
        }
      ]
    },
    {
      "cell_type": "code",
      "metadata": {
        "id": "n2wiXwnyltGu"
      },
      "source": [
        "%%R\n",
        "ggsave(\"/content/drive/Shareddrives/Bovi-Analytics/Projects/SenseOfSensors/DiurnalPattern/Figures122021/WalkingTimeMilkingTypeByMonthsInMilk.png\", width = 10, height = 8)"
      ],
      "execution_count": null,
      "outputs": []
    },
    {
      "cell_type": "markdown",
      "metadata": {
        "id": "lTZDu5kGFnxY"
      },
      "source": [
        "### MonthsInMilk by calving season"
      ]
    },
    {
      "cell_type": "code",
      "metadata": {
        "id": "OmZZMtgqF7S_",
        "colab": {
          "base_uri": "https://localhost:8080/"
        },
        "outputId": "565e4475-1ff7-4610-f2d8-c0d48b5c9f21"
      },
      "source": [
        "%%R\n",
        "LSMs<-lsmeans::lsmeans(finalModel, pairwise ~ MonthsInMilk|CalvingSeason, type = \"response\", glhargs=list())\n",
        "multcomp::cld(LSMs[[1]], alpha=0.05, Letters=letters, adjust=\"tukey\")"
      ],
      "execution_count": null,
      "outputs": [
        {
          "output_type": "stream",
          "name": "stderr",
          "text": [
            "R[write to console]: Note: D.f. calculations have been disabled because the number of observations exceeds 3000.\n",
            "To enable adjustments, add the argument 'pbkrtest.limit = 54073' (or larger)\n",
            "[or, globally, 'set emm_options(pbkrtest.limit = 54073)' or larger];\n",
            "but be warned that this may result in large computation time and memory use.\n",
            "\n",
            "R[write to console]: Note: D.f. calculations have been disabled because the number of observations exceeds 3000.\n",
            "To enable adjustments, add the argument 'lmerTest.limit = 54073' (or larger)\n",
            "[or, globally, 'set emm_options(lmerTest.limit = 54073)' or larger];\n",
            "but be warned that this may result in large computation time and memory use.\n",
            "\n",
            "R[write to console]: Note: adjust = \"tukey\" was changed to \"sidak\"\n",
            "because \"tukey\" is only appropriate for one set of pairwise comparisons\n",
            "\n"
          ]
        },
        {
          "output_type": "stream",
          "name": "stdout",
          "text": [
            "CalvingSeason = Autumn:\n",
            " MonthsInMilk lsmean    SE  df asymp.LCL asymp.UCL .group    \n",
            " 4              34.6 0.627 Inf      32.8      36.4  a        \n",
            " 3              36.0 0.627 Inf      34.2      37.8  a        \n",
            " 5              36.2 0.589 Inf      34.5      37.9  a        \n",
            " 6              39.4 0.597 Inf      37.7      41.1   b       \n",
            " 2              39.8 0.583 Inf      38.1      41.4   b       \n",
            " 7              43.6 0.600 Inf      41.8      45.3    c      \n",
            " -1             45.1 0.707 Inf      43.1      47.1    cd     \n",
            " 0              46.1 0.603 Inf      44.4      47.8     de    \n",
            " 1              47.6 0.609 Inf      45.9      49.4      e    \n",
            " 8              51.7 0.667 Inf      49.8      53.6       f   \n",
            " 10             52.1 0.689 Inf      50.1      54.1       f   \n",
            " 9              53.5 0.678 Inf      51.5      55.4       f   \n",
            "\n",
            "CalvingSeason = Spring:\n",
            " MonthsInMilk lsmean    SE  df asymp.LCL asymp.UCL .group    \n",
            " -1             25.3 0.722 Inf      23.2      27.4  a        \n",
            " 10             29.1 0.748 Inf      26.9      31.2   b       \n",
            " 9              30.2 0.720 Inf      28.2      32.3   b       \n",
            " 0              33.9 0.640 Inf      32.1      35.7    c      \n",
            " 8              34.1 0.641 Inf      32.3      35.9    c      \n",
            " 7              39.2 0.634 Inf      37.4      41.1     d     \n",
            " 6              45.1 0.615 Inf      43.3      46.8      e    \n",
            " 5              52.1 0.679 Inf      50.1      54.0       f   \n",
            " 1              55.6 0.664 Inf      53.7      57.5        g  \n",
            " 4              56.0 0.692 Inf      54.0      57.9        g  \n",
            " 3              59.5 0.696 Inf      57.5      61.4         h \n",
            " 2              60.1 0.698 Inf      58.1      62.1         h \n",
            "\n",
            "CalvingSeason = Summer:\n",
            " MonthsInMilk lsmean    SE  df asymp.LCL asymp.UCL .group    \n",
            " 7              32.7 0.638 Inf      30.9      34.5  a        \n",
            " 6              32.8 0.623 Inf      31.0      34.6  a        \n",
            " 8              34.5 0.613 Inf      32.8      36.3  ab       \n",
            " 5              35.7 0.568 Inf      34.1      37.3   bc      \n",
            " 9              37.8 0.624 Inf      36.1      39.6    c      \n",
            " 4              40.3 0.564 Inf      38.7      41.9     d     \n",
            " 10             42.9 0.651 Inf      41.1      44.8      e    \n",
            " -1             43.1 0.689 Inf      41.1      45.0      e    \n",
            " 3              46.3 0.570 Inf      44.6      47.9       f   \n",
            " 0              51.0 0.630 Inf      49.2      52.8        g  \n",
            " 2              54.2 0.628 Inf      52.4      56.0         h \n",
            " 1              60.3 0.650 Inf      58.4      62.1          i\n",
            "\n",
            "CalvingSeason = Winter:\n",
            " MonthsInMilk lsmean    SE  df asymp.LCL asymp.UCL .group    \n",
            " -1             27.7 0.754 Inf      25.6      29.9  a        \n",
            " 0              30.9 0.687 Inf      29.0      32.9   b       \n",
            " 10             37.1 0.666 Inf      35.2      39.0    c      \n",
            " 1              38.9 0.710 Inf      36.9      40.9    c      \n",
            " 2              39.7 0.645 Inf      37.9      41.6    c      \n",
            " 3              42.8 0.641 Inf      41.0      44.7     d     \n",
            " 9              44.1 0.654 Inf      42.2      46.0     d     \n",
            " 4              47.4 0.641 Inf      45.5      49.2      e    \n",
            " 8              51.5 0.695 Inf      49.6      53.5       f   \n",
            " 7              54.7 0.695 Inf      52.7      56.7        g  \n",
            " 5              55.4 0.701 Inf      53.4      57.4        g  \n",
            " 6              56.3 0.701 Inf      54.3      58.3        g  \n",
            "\n",
            "Results are averaged over the levels of: Parity, HerdIdentifier \n",
            "Degrees-of-freedom method: asymptotic \n",
            "Confidence level used: 0.95 \n",
            "Conf-level adjustment: sidak method for 12 estimates \n",
            "P value adjustment: tukey method for comparing a family of 12 estimates \n",
            "significance level used: alpha = 0.05 \n"
          ]
        }
      ]
    },
    {
      "cell_type": "code",
      "metadata": {
        "id": "JPASIlvWF-bY",
        "colab": {
          "base_uri": "https://localhost:8080/",
          "height": 497
        },
        "outputId": "7825cb1c-b19f-47c2-f5b9-97a8c0470761"
      },
      "source": [
        "%%R\n",
        "dfPValues <- summary(LSMs)[[2]]\n",
        "dfLMSs <- summary(LSMs)[[1]]\n",
        "dfLMSs %>% \n",
        "  mutate(label = if_else(MonthsInMilk == max(as.numeric(MonthsInMilk)), as.character(CalvingSeason), NA_character_)) %>%\n",
        "  ggplot(\n",
        "  aes(\n",
        "    x=MonthsInMilk,\n",
        "    y=lsmean,\n",
        "    group=CalvingSeason, \n",
        "    color=CalvingSeason)\n",
        "    ) +\n",
        "  geom_line(size=1) +  \n",
        "  geom_errorbar(\n",
        "    aes(ymin=asymp.LCL, \n",
        "        ymax=asymp.UCL), \n",
        "    width=1,\n",
        "    size=1,\n",
        "    position=position_dodge(0.25)) +\n",
        "  labs(\n",
        "    title = \"Walking time (min/day)\", \n",
        "    y=\"Minutes per day\" , \n",
        "    x = \"Months in milk\") +\n",
        "  theme_bw() +\n",
        "  theme(text=element_text(size=25),\n",
        "        plot.title = element_text(hjust = 0.5),\n",
        "        panel.border = element_blank(), \n",
        "        panel.grid.major = element_blank(),\n",
        "        panel.grid.minor = element_blank(), \n",
        "        axis.line = element_line(colour = \"black\"))"
      ],
      "execution_count": null,
      "outputs": [
        {
          "output_type": "display_data",
          "data": {
            "image/png": "[encoded data removed]"
          },
          "metadata": {}
        }
      ]
    },
    {
      "cell_type": "code",
      "metadata": {
        "id": "JfeDYzTvlzsR"
      },
      "source": [
        "%%R\n",
        "ggsave(\"/content/drive/Shareddrives/Bovi-Analytics/Projects/SenseOfSensors/DiurnalPattern/Figures122021/WalkingTimeCalvingSeasonByMonthsInMilk.png\", width = 10, height = 8)"
      ],
      "execution_count": null,
      "outputs": []
    },
    {
      "cell_type": "markdown",
      "metadata": {
        "id": "XRDc34HSu7iQ"
      },
      "source": [
        "### MonthsInMilk by MilkingType by CalvingSeason"
      ]
    },
    {
      "cell_type": "code",
      "metadata": {
        "id": "11PCdANcsur5",
        "colab": {
          "base_uri": "https://localhost:8080/"
        },
        "outputId": "6ac0f803-5ecb-41c3-d94d-ec199aa37320"
      },
      "source": [
        "%%R\n",
        "LSMs<-lsmeans::lsmeans(finalModel, pairwise ~ MonthsInMilk|MilkingType|CalvingSeason, type = \"response\", glhargs=list())\n",
        "multcomp::cld(LSMs[[1]], alpha=0.05, Letters=letters, adjust=\"tukey\")"
      ],
      "execution_count": null,
      "outputs": [
        {
          "output_type": "stream",
          "text": [
            "R[write to console]: Note: D.f. calculations have been disabled because the number of observations exceeds 3000.\n",
            "To enable adjustments, add the argument 'pbkrtest.limit = 54073' (or larger)\n",
            "[or, globally, 'set emm_options(pbkrtest.limit = 54073)' or larger];\n",
            "but be warned that this may result in large computation time and memory use.\n",
            "\n",
            "R[write to console]: Note: D.f. calculations have been disabled because the number of observations exceeds 3000.\n",
            "To enable adjustments, add the argument 'lmerTest.limit = 54073' (or larger)\n",
            "[or, globally, 'set emm_options(lmerTest.limit = 54073)' or larger];\n",
            "but be warned that this may result in large computation time and memory use.\n",
            "\n",
            "R[write to console]: Note: adjust = \"tukey\" was changed to \"sidak\"\n",
            "because \"tukey\" is only appropriate for one set of pairwise comparisons\n",
            "\n"
          ],
          "name": "stderr"
        },
        {
          "output_type": "stream",
          "text": [
            "MilkingType = AMS, CalvingSeason = Autumn:\n",
            " MonthsInMilk lsmean   SE  df asymp.LCL asymp.UCL .group    \n",
            " 4              27.0 2.12 Inf      20.9      33.1  a        \n",
            " 3              27.7 2.20 Inf      21.4      34.0  abc      \n",
            " 5              28.3 2.06 Inf      22.4      34.2  ab       \n",
            " 2              30.5 2.30 Inf      24.0      37.1   bcd     \n",
            " 6              31.2 2.03 Inf      25.3      37.0    c      \n",
            " 7              35.0 2.04 Inf      29.2      40.9     de    \n",
            " -1             38.5 2.74 Inf      30.7      46.4      ef   \n",
            " 0              39.0 2.56 Inf      31.7      46.3      ef   \n",
            " 1              39.4 2.43 Inf      32.4      46.3      ef   \n",
            " 8              42.6 2.09 Inf      36.7      48.6       f   \n",
            " 10             42.7 2.24 Inf      36.3      49.1       f   \n",
            " 9              44.2 2.15 Inf      38.1      50.4       f   \n",
            "\n",
            "MilkingType = AMS, CalvingSeason = Spring:\n",
            " MonthsInMilk lsmean   SE  df asymp.LCL asymp.UCL .group    \n",
            " -1             18.9 2.75 Inf      11.1      26.8  ab       \n",
            " 10             19.3 2.26 Inf      12.8      25.8  a c      \n",
            " 9              20.6 2.17 Inf      14.4      26.8  a c      \n",
            " 8              24.6 2.09 Inf      18.7      30.6   b d     \n",
            " 0              26.6 2.57 Inf      19.3      34.0    cde    \n",
            " 7              30.4 2.05 Inf      24.5      36.2      e    \n",
            " 6              36.8 2.05 Inf      30.9      42.6       f   \n",
            " 5              43.8 2.09 Inf      37.8      49.7        g  \n",
            " 1              46.9 2.44 Inf      39.9      53.9        gh \n",
            " 4              48.0 2.15 Inf      41.9      54.2         hi\n",
            " 2              50.6 2.33 Inf      43.9      57.2          i\n",
            " 3              50.7 2.23 Inf      44.4      57.1          i\n",
            "\n",
            "MilkingType = AMS, CalvingSeason = Summer:\n",
            " MonthsInMilk lsmean   SE  df asymp.LCL asymp.UCL .group    \n",
            " 7              24.0 2.05 Inf      18.1      29.8  a        \n",
            " 6              24.3 2.04 Inf      18.4      30.1  a        \n",
            " 8              25.2 2.07 Inf      19.3      31.2  ab       \n",
            " 5              27.3 2.05 Inf      21.4      33.2   bc      \n",
            " 9              28.8 2.14 Inf      22.7      34.9    cd     \n",
            " 4              32.2 2.10 Inf      26.1      38.2     de    \n",
            " 10             33.9 2.23 Inf      27.6      40.3      ef   \n",
            " -1             36.2 2.74 Inf      28.4      44.0     def   \n",
            " 3              37.1 2.19 Inf      30.9      43.4       f   \n",
            " 0              43.4 2.56 Inf      36.0      50.7        g  \n",
            " 2              44.3 2.30 Inf      37.7      50.9        g  \n",
            " 1              51.2 2.43 Inf      44.2      58.1         h \n",
            "\n",
            "MilkingType = AMS, CalvingSeason = Winter:\n",
            " MonthsInMilk lsmean   SE  df asymp.LCL asymp.UCL .group    \n",
            " -1             21.3 2.76 Inf      13.4      29.2  a        \n",
            " 0              24.1 2.58 Inf      16.7      31.5  a        \n",
            " 10             27.5 2.24 Inf      21.1      33.9  ab       \n",
            " 2              31.3 2.32 Inf      24.7      37.9   bc      \n",
            " 1              31.5 2.46 Inf      24.5      38.5   bc      \n",
            " 9              34.8 2.15 Inf      28.6      40.9    cd     \n",
            " 3              35.0 2.21 Inf      28.7      41.3     d     \n",
            " 4              40.3 2.13 Inf      34.2      46.4      e    \n",
            " 8              42.5 2.11 Inf      36.4      48.5      e    \n",
            " 7              46.2 2.07 Inf      40.3      52.2       f   \n",
            " 5              47.7 2.10 Inf      41.8      53.7       f   \n",
            " 6              48.3 2.07 Inf      42.4      54.2       f   \n",
            "\n",
            "MilkingType = CMS, CalvingSeason = Autumn:\n",
            " MonthsInMilk lsmean   SE  df asymp.LCL asymp.UCL .group    \n",
            " 4              38.8 1.66 Inf      34.1      43.6  a        \n",
            " 3              40.5 1.72 Inf      35.6      45.5  a        \n",
            " 5              41.1 1.60 Inf      36.5      45.7  a        \n",
            " 6              44.4 1.59 Inf      39.8      48.9   b       \n",
            " 2              44.8 1.78 Inf      39.7      49.9   b       \n",
            " 7              48.8 1.59 Inf      44.2      53.3    cd     \n",
            " -1             49.4 2.13 Inf      43.3      55.5    c      \n",
            " 0              50.2 1.98 Inf      44.5      55.8    c      \n",
            " 1              52.6 1.88 Inf      47.2      58.0     de    \n",
            " 8              57.0 1.64 Inf      52.3      61.7      ef   \n",
            " 10             57.6 1.75 Inf      52.6      62.6      ef   \n",
            " 9              58.9 1.68 Inf      54.1      63.8       f   \n",
            "\n",
            "MilkingType = CMS, CalvingSeason = Spring:\n",
            " MonthsInMilk lsmean   SE  df asymp.LCL asymp.UCL .group    \n",
            " -1             29.9 2.13 Inf      23.8      36.0  a        \n",
            " 10             34.1 1.77 Inf      29.1      39.2  ab       \n",
            " 9              35.3 1.70 Inf      30.4      40.1  ab       \n",
            " 0              37.8 1.99 Inf      32.1      43.5   bc      \n",
            " 8              39.0 1.62 Inf      34.4      43.6    c      \n",
            " 7              44.1 1.59 Inf      39.5      48.7     d     \n",
            " 6              50.0 1.59 Inf      45.4      54.5      e    \n",
            " 5              56.6 1.63 Inf      52.0      61.3       f   \n",
            " 4              59.9 1.67 Inf      55.1      64.7        g  \n",
            " 1              60.2 1.89 Inf      54.7      65.6       fg  \n",
            " 3              63.6 1.74 Inf      58.6      68.5         h \n",
            " 2              64.8 1.81 Inf      59.6      70.0         h \n",
            "\n",
            "MilkingType = CMS, CalvingSeason = Summer:\n",
            " MonthsInMilk lsmean   SE  df asymp.LCL asymp.UCL .group    \n",
            " 6              37.5 1.60 Inf      32.9      42.0  a        \n",
            " 7              37.7 1.60 Inf      33.1      42.3  ab       \n",
            " 8              39.6 1.62 Inf      35.0      44.2  ab       \n",
            " 5              40.1 1.60 Inf      35.6      44.7   bc      \n",
            " 9              43.5 1.67 Inf      38.7      48.2    cd     \n",
            " 4              44.0 1.64 Inf      39.3      48.7     d     \n",
            " -1             47.1 2.13 Inf      41.1      53.2     de    \n",
            " 10             48.8 1.74 Inf      43.8      53.7      ef   \n",
            " 3              50.0 1.70 Inf      45.1      54.8      e    \n",
            " 0              54.5 1.99 Inf      48.8      60.2       f   \n",
            " 2              58.6 1.79 Inf      53.4      63.7        g  \n",
            " 1              64.4 1.89 Inf      59.0      69.8         h \n",
            "\n",
            "MilkingType = CMS, CalvingSeason = Winter:\n",
            " MonthsInMilk lsmean   SE  df asymp.LCL asymp.UCL .group    \n",
            " -1             32.2 2.15 Inf      26.1      38.4  a        \n",
            " 0              35.3 2.01 Inf      29.5      41.0   b       \n",
            " 10             42.4 1.74 Inf      37.4      47.3    c      \n",
            " 1              44.8 1.91 Inf      39.3      50.2    cd     \n",
            " 2              45.5 1.80 Inf      40.4      50.6    cde    \n",
            " 3              47.8 1.72 Inf      42.9      52.8      e    \n",
            " 9              49.4 1.67 Inf      44.7      54.2     def   \n",
            " 4              52.1 1.66 Inf      47.4      56.8       f   \n",
            " 8              56.8 1.64 Inf      52.1      61.5        g  \n",
            " 7              60.0 1.62 Inf      55.4      64.6         h \n",
            " 5              60.6 1.64 Inf      55.9      65.3         h \n",
            " 6              61.5 1.62 Inf      56.9      66.1         h \n",
            "\n",
            "Results are averaged over the levels of: Parity \n",
            "Degrees-of-freedom method: asymptotic \n",
            "Confidence level used: 0.95 \n",
            "Conf-level adjustment: sidak method for 12 estimates \n",
            "P value adjustment: tukey method for comparing a family of 12 estimates \n",
            "significance level used: alpha = 0.05 \n"
          ],
          "name": "stdout"
        }
      ]
    },
    {
      "cell_type": "code",
      "metadata": {
        "id": "BkvIEOKitoPP",
        "colab": {
          "base_uri": "https://localhost:8080/",
          "height": 497
        },
        "outputId": "693eb44a-639a-4c66-8c0a-fdd38b868d74"
      },
      "source": [
        "%%R\n",
        "dfPValues <- summary(LSMs)[[2]]\n",
        "dfLMSs <- summary(LSMs)[[1]]\n",
        "dfLMSs %>% \n",
        "  mutate(label = if_else(MonthsInMilk == max(as.numeric(MonthsInMilk)), as.character(MilkingType,CalvingSeason), NA_character_)) %>%\n",
        "  ggplot(\n",
        "  aes(\n",
        "    x=MonthsInMilk,\n",
        "    y=lsmean,\n",
        "    group=CalvingSeason, \n",
        "    color=CalvingSeason)\n",
        "    ) +\n",
        "  facet_wrap(~MilkingType) + \n",
        "  geom_line() +  \n",
        "  geom_errorbar(\n",
        "    aes(ymin=asymp.LCL, \n",
        "        ymax=asymp.UCL), \n",
        "    width=.5,\n",
        "    position=position_dodge(0.25)) +\n",
        "  labs(\n",
        "    title = \"Walking time (min/day)\", \n",
        "    y=\"Minutes per day\" , \n",
        "    x = \"Months in milk\") +\n",
        "  theme_bw() +\n",
        "  theme(plot.title = element_text(hjust = 0.5),\n",
        "        panel.border = element_blank(), \n",
        "        panel.grid.major = element_blank(),\n",
        "        panel.grid.minor = element_blank(), \n",
        "        axis.line = element_line(colour = \"black\"))"
      ],
      "execution_count": null,
      "outputs": [
        {
          "output_type": "display_data",
          "data": {
            "image/png": "[encoded data removed]"
          },
          "metadata": {
            "tags": []
          }
        }
      ]
    },
    {
      "cell_type": "markdown",
      "metadata": {
        "id": "8wYUXxIolu5S"
      },
      "source": [
        "# Model without 3 way interaction"
      ]
    },
    {
      "cell_type": "code",
      "metadata": {
        "id": "_A_JxtzFmK0y"
      },
      "source": [
        "%%R\n",
        "AnalysisDataAMS <- AnalysisData %>% dplyr::filter(MilkingType == \"AMS\")\n",
        "AnalysisDataCMS <- AnalysisData %>% dplyr::filter(MilkingType != \"AMS\")"
      ],
      "execution_count": null,
      "outputs": []
    },
    {
      "cell_type": "markdown",
      "metadata": {
        "id": "NTgMpIhrlzOT"
      },
      "source": [
        "## MonthsInMilk by calving season AMS"
      ]
    },
    {
      "cell_type": "code",
      "metadata": {
        "id": "-c2H3buAl4h6"
      },
      "source": [
        "%%R\n",
        "ModelAMSOnly <- lme4::lmer(\n",
        "                  SensorValue ~ \n",
        "                  MonthsInMilk*CalvingSeason + \n",
        "                  MonthsInMilk*Parity + \n",
        "                   MonthsInMilk*CalvingSeason + \n",
        "                     (1 + numMonthsInMilk| HerdIdentifier/AnimalIdentifier),\n",
        "                  REML = FALSE,\n",
        "                  data = AnalysisDataAMS\n",
        "                  )"
      ],
      "execution_count": null,
      "outputs": []
    },
    {
      "cell_type": "code",
      "metadata": {
        "id": "cJbCrhW8lzOT",
        "colab": {
          "base_uri": "https://localhost:8080/"
        },
        "outputId": "1efe53fb-6366-47c8-cb33-17bf23408edb"
      },
      "source": [
        "%%R\n",
        "LSMs<-lsmeans::lsmeans(ModelAMSOnly, pairwise ~ MonthsInMilk|CalvingSeason, type = \"response\", glhargs=list())\n",
        "multcomp::cld(LSMs[[1]], alpha=0.05, Letters=letters, adjust=\"tukey\")"
      ],
      "execution_count": null,
      "outputs": [
        {
          "output_type": "stream",
          "text": [
            "R[write to console]: Note: D.f. calculations have been disabled because the number of observations exceeds 3000.\n",
            "To enable adjustments, add the argument 'pbkrtest.limit = 16514' (or larger)\n",
            "[or, globally, 'set emm_options(pbkrtest.limit = 16514)' or larger];\n",
            "but be warned that this may result in large computation time and memory use.\n",
            "\n",
            "R[write to console]: Note: D.f. calculations have been disabled because the number of observations exceeds 3000.\n",
            "To enable adjustments, add the argument 'lmerTest.limit = 16514' (or larger)\n",
            "[or, globally, 'set emm_options(lmerTest.limit = 16514)' or larger];\n",
            "but be warned that this may result in large computation time and memory use.\n",
            "\n",
            "R[write to console]: Note: adjust = \"tukey\" was changed to \"sidak\"\n",
            "because \"tukey\" is only appropriate for one set of pairwise comparisons\n",
            "\n"
          ],
          "name": "stderr"
        },
        {
          "output_type": "stream",
          "text": [
            "CalvingSeason = Autumn:\n",
            " MonthsInMilk lsmean    SE  df asymp.LCL asymp.UCL .group \n",
            " 6              31.5 1.066 Inf      28.5      34.6  a     \n",
            " 7              31.6 1.165 Inf      28.3      35.0  a     \n",
            " 5              32.2 0.979 Inf      29.4      35.0  ab    \n",
            " 4              33.1 0.944 Inf      30.4      35.8  abc   \n",
            " 8              33.5 1.315 Inf      29.7      37.2  abcd  \n",
            " 3              34.1 0.879 Inf      31.6      36.6  abc   \n",
            " -1             34.7 0.883 Inf      32.2      37.3  abcd  \n",
            " 9              35.2 1.422 Inf      31.1      39.2   bcd  \n",
            " 2              35.9 0.780 Inf      33.7      38.1    cd  \n",
            " 10             36.0 1.534 Inf      31.6      40.4    cd  \n",
            " 0              37.7 0.766 Inf      35.5      39.9     d  \n",
            " 1              42.4 0.786 Inf      40.2      44.7      e \n",
            "\n",
            "CalvingSeason = Spring:\n",
            " MonthsInMilk lsmean    SE  df asymp.LCL asymp.UCL .group \n",
            " -1             22.5 0.938 Inf      19.8      25.2  a     \n",
            " 0              27.9 0.858 Inf      25.5      30.4   b    \n",
            " 10             28.6 1.603 Inf      24.0      33.2  ab    \n",
            " 9              29.1 1.491 Inf      24.9      33.4   b    \n",
            " 8              29.8 1.337 Inf      26.0      33.6   b    \n",
            " 7              31.0 1.242 Inf      27.4      34.5   bc   \n",
            " 6              33.5 1.131 Inf      30.3      36.8    cd  \n",
            " 5              36.6 1.125 Inf      33.4      39.9     de \n",
            " 2              39.0 0.991 Inf      36.2      41.8      ef\n",
            " 4              39.1 1.073 Inf      36.1      42.2      ef\n",
            " 3              39.9 1.027 Inf      37.0      42.8      ef\n",
            " 1              41.9 0.912 Inf      39.3      44.5       f\n",
            "\n",
            "CalvingSeason = Summer:\n",
            " MonthsInMilk lsmean    SE  df asymp.LCL asymp.UCL .group \n",
            " 9              30.5 1.380 Inf      26.6      34.5  ab    \n",
            " 6              30.6 1.080 Inf      27.5      33.7  a     \n",
            " 10             30.6 1.500 Inf      26.3      34.9  ab    \n",
            " 8              30.9 1.263 Inf      27.3      34.5  ab    \n",
            " 7              31.1 1.183 Inf      27.8      34.5  ab    \n",
            " 5              31.5 0.943 Inf      28.8      34.2  ab    \n",
            " -1             33.5 0.834 Inf      31.1      35.9  abc   \n",
            " 4              33.7 0.857 Inf      31.3      36.2   bc   \n",
            " 3              35.4 0.799 Inf      33.2      37.7    cd  \n",
            " 0              38.0 0.770 Inf      35.8      40.2     de \n",
            " 2              39.3 0.812 Inf      37.0      41.7      e \n",
            " 1              45.2 0.808 Inf      42.9      47.5       f\n",
            "\n",
            "CalvingSeason = Winter:\n",
            " MonthsInMilk lsmean    SE  df asymp.LCL asymp.UCL .group \n",
            " -1             26.9 0.974 Inf      24.2      29.7  a     \n",
            " 0              28.8 0.910 Inf      26.2      31.4  ab    \n",
            " 10             30.7 1.561 Inf      26.3      35.2  abc   \n",
            " 9              33.6 1.454 Inf      29.5      37.8   bcd  \n",
            " 5              34.4 1.168 Inf      31.0      37.7    cd  \n",
            " 4              34.5 1.034 Inf      31.6      37.5    cd  \n",
            " 3              34.7 0.972 Inf      31.9      37.5    cd  \n",
            " 8              35.2 1.403 Inf      31.2      39.2     d  \n",
            " 2              35.7 0.932 Inf      33.1      38.4    cd  \n",
            " 7              36.7 1.316 Inf      32.9      40.4     de \n",
            " 6              37.3 1.242 Inf      33.8      40.9     de \n",
            " 1              40.3 0.995 Inf      37.5      43.1      e \n",
            "\n",
            "Results are averaged over the levels of: Parity \n",
            "Degrees-of-freedom method: asymptotic \n",
            "Confidence level used: 0.95 \n",
            "Conf-level adjustment: sidak method for 12 estimates \n",
            "P value adjustment: tukey method for comparing a family of 12 estimates \n",
            "significance level used: alpha = 0.05 \n"
          ],
          "name": "stdout"
        }
      ]
    },
    {
      "cell_type": "code",
      "metadata": {
        "id": "bGkRHwDIlzOa",
        "colab": {
          "base_uri": "https://localhost:8080/",
          "height": 497
        },
        "outputId": "8084fdb1-857c-4083-9e1a-4e32c700f8f7"
      },
      "source": [
        "%%R\n",
        "dfPValues <- summary(LSMs)[[2]]\n",
        "dfLMSs <- summary(LSMs)[[1]]\n",
        "dfLMSs %>% \n",
        "  mutate(label = if_else(MonthsInMilk == max(as.numeric(MonthsInMilk)), as.character(CalvingSeason), NA_character_)) %>%\n",
        "  ggplot(\n",
        "  aes(\n",
        "    x=MonthsInMilk,\n",
        "    y=lsmean,\n",
        "    group=CalvingSeason, \n",
        "    color=CalvingSeason)\n",
        "    ) +\n",
        "  geom_line() +  \n",
        "  geom_errorbar(\n",
        "    aes(ymin=asymp.LCL, \n",
        "        ymax=asymp.UCL), \n",
        "    width=.5,\n",
        "    position=position_dodge(0.25)) +\n",
        "  labs(\n",
        "    title = \"Walking time AMS (min/day)\", \n",
        "    y=\"Minutes per day\" , \n",
        "    x = \"Months in milk\") +\n",
        "  theme_bw() +\n",
        "  theme(plot.title = element_text(hjust = 0.5),\n",
        "        panel.border = element_blank(), \n",
        "        panel.grid.major = element_blank(),\n",
        "        panel.grid.minor = element_blank(), \n",
        "        axis.line = element_line(colour = \"black\"))"
      ],
      "execution_count": null,
      "outputs": [
        {
          "output_type": "display_data",
          "data": {
            "image/png": "[encoded data removed]"
          },
          "metadata": {
            "tags": []
          }
        }
      ]
    },
    {
      "cell_type": "code",
      "metadata": {
        "id": "QMId3yM7l7bm"
      },
      "source": [
        "%%R\n",
        "ggsave(\"/content/drive/Shareddrives/Bovi-Analytics/Projects/SenseOfSensors/DiurnalPattern/Figures/WalkingTimeCalvingSeasonAMSByMonthsInMilk.png\", width = 5, height = 4)"
      ],
      "execution_count": null,
      "outputs": []
    },
    {
      "cell_type": "markdown",
      "metadata": {
        "id": "X0jQAeaamwFU"
      },
      "source": [
        "## MonthsInMilk by calving season CMS"
      ]
    },
    {
      "cell_type": "code",
      "metadata": {
        "id": "9SDpjk8Mmggb"
      },
      "source": [
        "%%R\n",
        "ModelCMSOnly <- lme4::lmer(\n",
        "                  SensorValue ~ \n",
        "                  MonthsInMilk*CalvingSeason + \n",
        "                  MonthsInMilk*Parity + \n",
        "                   MonthsInMilk*CalvingSeason + \n",
        "                     (1 + numMonthsInMilk| HerdIdentifier/AnimalIdentifier),\n",
        "                  REML = FALSE,\n",
        "                  data = AnalysisDataCMS\n",
        "                  )"
      ],
      "execution_count": null,
      "outputs": []
    },
    {
      "cell_type": "code",
      "metadata": {
        "colab": {
          "base_uri": "https://localhost:8080/"
        },
        "id": "9JETNKG5mjF4",
        "outputId": "f03b0ddd-23f8-493a-ffe7-caa89401378d"
      },
      "source": [
        "%%R\n",
        "LSMs<-lsmeans::lsmeans(ModelCMSOnly, pairwise ~ MonthsInMilk|CalvingSeason, type = \"response\", glhargs=list())\n",
        "multcomp::cld(LSMs[[1]], alpha=0.05, Letters=letters, adjust=\"tukey\")"
      ],
      "execution_count": null,
      "outputs": [
        {
          "output_type": "stream",
          "text": [
            "R[write to console]: Note: D.f. calculations have been disabled because the number of observations exceeds 3000.\n",
            "To enable adjustments, add the argument 'pbkrtest.limit = 37559' (or larger)\n",
            "[or, globally, 'set emm_options(pbkrtest.limit = 37559)' or larger];\n",
            "but be warned that this may result in large computation time and memory use.\n",
            "\n",
            "R[write to console]: Note: D.f. calculations have been disabled because the number of observations exceeds 3000.\n",
            "To enable adjustments, add the argument 'lmerTest.limit = 37559' (or larger)\n",
            "[or, globally, 'set emm_options(lmerTest.limit = 37559)' or larger];\n",
            "but be warned that this may result in large computation time and memory use.\n",
            "\n",
            "R[write to console]: Note: adjust = \"tukey\" was changed to \"sidak\"\n",
            "because \"tukey\" is only appropriate for one set of pairwise comparisons\n",
            "\n"
          ],
          "name": "stderr"
        },
        {
          "output_type": "stream",
          "text": [
            "CalvingSeason = Autumn:\n",
            " MonthsInMilk lsmean   SE  df asymp.LCL asymp.UCL .group   \n",
            " 4              35.8 2.03 Inf      30.0      41.6  a       \n",
            " 3              37.4 2.12 Inf      31.3      43.4  ab      \n",
            " 5              39.1 1.95 Inf      33.5      44.7   bc     \n",
            " 2              42.3 2.20 Inf      36.0      48.6    cd    \n",
            " 6              43.9 1.90 Inf      38.5      49.4     d    \n",
            " 7              50.3 1.87 Inf      45.0      55.7      e   \n",
            " 0              50.5 2.45 Inf      43.5      57.5      e   \n",
            " 1              51.2 2.33 Inf      44.6      57.9      e   \n",
            " -1             51.3 2.63 Inf      43.8      58.8      e   \n",
            " 10             60.7 1.95 Inf      55.1      66.3       f  \n",
            " 8              61.4 1.90 Inf      56.0      66.8       f  \n",
            " 9              63.3 1.91 Inf      57.8      68.8       f  \n",
            "\n",
            "CalvingSeason = Spring:\n",
            " MonthsInMilk lsmean   SE  df asymp.LCL asymp.UCL .group   \n",
            " -1             28.4 2.63 Inf      20.9      35.9  a       \n",
            " 10             30.2 1.98 Inf      24.5      35.8  ab      \n",
            " 9              31.8 1.92 Inf      26.3      37.3  ab      \n",
            " 8              37.0 1.87 Inf      31.7      42.3    c     \n",
            " 0              37.2 2.47 Inf      30.2      44.3   bc     \n",
            " 7              43.7 1.87 Inf      38.3      49.0     d    \n",
            " 6              50.9 1.90 Inf      45.5      56.3      e   \n",
            " 5              58.9 1.98 Inf      53.3      64.6       f  \n",
            " 1              61.8 2.35 Inf      55.1      68.5       fg \n",
            " 4              62.8 2.05 Inf      57.0      68.7        g \n",
            " 3              67.1 2.14 Inf      61.0      73.2         h\n",
            " 2              68.6 2.24 Inf      62.2      75.0         h\n",
            "\n",
            "CalvingSeason = Summer:\n",
            " MonthsInMilk lsmean   SE  df asymp.LCL asymp.UCL .group   \n",
            " 7              33.7 1.89 Inf      28.3      39.1  a       \n",
            " 6              33.9 1.91 Inf      28.4      39.4  a       \n",
            " 8              36.4 1.87 Inf      31.0      41.7  ab      \n",
            " 5              37.7 1.94 Inf      32.2      43.2   b      \n",
            " 9              42.5 1.89 Inf      37.1      47.9    cd    \n",
            " 4              42.9 2.01 Inf      37.1      48.6    c     \n",
            " -1             48.4 2.63 Inf      40.8      55.9     de   \n",
            " 3              50.5 2.10 Inf      44.5      56.5      e   \n",
            " 10             50.8 1.94 Inf      45.3      56.4      ef  \n",
            " 0              56.8 2.47 Inf      49.8      63.9       f  \n",
            " 2              60.8 2.23 Inf      54.4      67.1        g \n",
            " 1              67.2 2.35 Inf      60.5      73.9         h\n",
            "\n",
            "CalvingSeason = Winter:\n",
            " MonthsInMilk lsmean   SE  df asymp.LCL asymp.UCL .group   \n",
            " -1             29.9 2.65 Inf      22.4      37.5  a       \n",
            " 0              33.4 2.48 Inf      26.3      40.5   b      \n",
            " 10             41.1 1.93 Inf      35.6      46.6    c     \n",
            " 1              41.7 2.36 Inf      35.0      48.5    c     \n",
            " 2              43.9 2.22 Inf      37.5      50.2    c     \n",
            " 3              47.7 2.12 Inf      41.7      53.8     d    \n",
            " 9              49.7 1.88 Inf      44.3      55.1     de   \n",
            " 4              53.9 2.03 Inf      48.1      59.7      e   \n",
            " 8              59.1 1.89 Inf      53.7      64.5       f  \n",
            " 7              63.0 1.90 Inf      57.6      68.5        g \n",
            " 5              65.0 1.99 Inf      59.3      70.7        g \n",
            " 6              65.0 1.93 Inf      59.5      70.6        g \n",
            "\n",
            "Results are averaged over the levels of: Parity \n",
            "Degrees-of-freedom method: asymptotic \n",
            "Confidence level used: 0.95 \n",
            "Conf-level adjustment: sidak method for 12 estimates \n",
            "P value adjustment: tukey method for comparing a family of 12 estimates \n",
            "significance level used: alpha = 0.05 \n"
          ],
          "name": "stdout"
        }
      ]
    },
    {
      "cell_type": "code",
      "metadata": {
        "colab": {
          "base_uri": "https://localhost:8080/",
          "height": 497
        },
        "id": "vU-MEVO5mjF_",
        "outputId": "0bfad3f9-ad3f-43b9-ccb8-ef514504d7d1"
      },
      "source": [
        "%%R\n",
        "dfPValues <- summary(LSMs)[[2]]\n",
        "dfLMSs <- summary(LSMs)[[1]]\n",
        "dfLMSs %>% \n",
        "  mutate(label = if_else(MonthsInMilk == max(as.numeric(MonthsInMilk)), as.character(CalvingSeason), NA_character_)) %>%\n",
        "  ggplot(\n",
        "  aes(\n",
        "    x=MonthsInMilk,\n",
        "    y=lsmean,\n",
        "    group=CalvingSeason, \n",
        "    color=CalvingSeason)\n",
        "    ) +\n",
        "  geom_line() +  \n",
        "  geom_errorbar(\n",
        "    aes(ymin=asymp.LCL, \n",
        "        ymax=asymp.UCL), \n",
        "    width=.5,\n",
        "    position=position_dodge(0.25)) +\n",
        "  labs(\n",
        "    title = \"Walking time CMS (min/day)\", \n",
        "    y=\"Minutes per day\" , \n",
        "    x = \"Months in milk\") +\n",
        "  theme_bw() +\n",
        "  theme(plot.title = element_text(hjust = 0.5),\n",
        "        panel.border = element_blank(), \n",
        "        panel.grid.major = element_blank(),\n",
        "        panel.grid.minor = element_blank(), \n",
        "        axis.line = element_line(colour = \"black\"))"
      ],
      "execution_count": null,
      "outputs": [
        {
          "output_type": "display_data",
          "data": {
            "image/png": "[encoded data removed]"
          },
          "metadata": {
            "tags": []
          }
        }
      ]
    },
    {
      "cell_type": "code",
      "metadata": {
        "id": "ytZ4HvXLmBk_"
      },
      "source": [
        "%%R\n",
        "ggsave(\"/content/drive/Shareddrives/Bovi-Analytics/Projects/SenseOfSensors/DiurnalPattern/Figures/WalkingTimeCalvingSeasonCMSByMonthsInMilk.png\", width = 5, height = 4)"
      ],
      "execution_count": null,
      "outputs": []
    }
  ]
}