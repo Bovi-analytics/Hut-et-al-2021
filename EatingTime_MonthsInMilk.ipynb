{
  "nbformat": 4,
  "nbformat_minor": 0,
  "metadata": {
    "colab": {
      "name": "EatingTime MonthsInMilk",
      "provenance": [],
      "collapsed_sections": [],
      "include_colab_link": true
    },
    "kernelspec": {
      "name": "python3",
      "display_name": "Python 3"
    }
  },
  "cells": [
    {
      "cell_type": "markdown",
      "metadata": {
        "id": "view-in-github",
        "colab_type": "text"
      },
      "source": [
        "<a href=\"https://colab.research.google.com/github/Bovi-analytics/Hut-et-al-2021/blob/master/EatingTime_MonthsInMilk.ipynb\" target=\"_parent\"><img src=\"https://colab.research.google.com/assets/colab-badge.svg\" alt=\"Open In Colab\"/></a>"
      ]
    },
    {
      "cell_type": "markdown",
      "metadata": {
        "id": "bA6soJRe_ctZ"
      },
      "source": [
        "# Statistical notebook for eating time MonthsInMilk"
      ]
    },
    {
      "cell_type": "markdown",
      "metadata": {
        "id": "E4n6rd-m_lSR"
      },
      "source": [
        "## Importing of google drive"
      ]
    },
    {
      "cell_type": "code",
      "metadata": {
        "colab": {
          "base_uri": "https://localhost:8080/"
        },
        "id": "WCUSUtqb21vg",
        "outputId": "e5b35f60-86b0-4332-d806-2a63bc3e72b0"
      },
      "source": [
        "from google.colab import drive\n",
        "drive.mount('/content/drive')"
      ],
      "execution_count": null,
      "outputs": [
        {
          "output_type": "stream",
          "name": "stdout",
          "text": [
            "Mounted at /content/drive\n"
          ]
        }
      ]
    },
    {
      "cell_type": "markdown",
      "metadata": {
        "id": "Ma0Aajwx_r51"
      },
      "source": [
        "## R loading"
      ]
    },
    {
      "cell_type": "code",
      "metadata": {
        "id": "TxkiqsiB23Kg"
      },
      "source": [
        "%reload_ext rpy2.ipython"
      ],
      "execution_count": null,
      "outputs": []
    },
    {
      "cell_type": "code",
      "metadata": {
        "id": "tV7fJnp73fqX"
      },
      "source": [
        "%%R\n",
        "lib_loc <- \"/content/drive/Shareddrives/Bovi-Analytics/R-lib/\""
      ],
      "execution_count": null,
      "outputs": []
    },
    {
      "cell_type": "code",
      "metadata": {
        "id": "nzQ3HPLB3TAQ",
        "colab": {
          "base_uri": "https://localhost:8080/"
        },
        "outputId": "293902b0-c607-4321-d2f2-2008490f82bd"
      },
      "source": [
        "%%R\n",
        "package_list <- c(\"ggplot2\",\n",
        "                  \"readr\",\n",
        "                  \"plyr\",\n",
        "                  \"dplyr\",\n",
        "                  \"tidyr\",                \n",
        "                  \"lme4\",\n",
        "                  \"lmerTest\",\n",
        "                  \"multcompView\",\n",
        "                  \"mvtnorm\",\n",
        "                  \"TH.data\",\n",
        "                  \"multcomp\",\n",
        "                  \"emmeans\",\n",
        "                  \"lsmeans\",\n",
        "                  \"carData\",\n",
        "                  \"car\"\n",
        "                  )\n",
        "\n",
        "for (pkg in package_list) {\n",
        "  if (pkg %in% rownames(.packages()) == FALSE)\n",
        "  {library(pkg, lib.loc = lib_loc, character.only = TRUE)}\n",
        "\n",
        "}"
      ],
      "execution_count": null,
      "outputs": [
        {
          "output_type": "stream",
          "name": "stderr",
          "text": [
            "R[write to console]: \n",
            "Attaching package: ‘dplyr’\n",
            "\n",
            "\n",
            "R[write to console]: The following objects are masked from ‘package:plyr’:\n",
            "\n",
            "    arrange, count, desc, failwith, id, mutate, rename, summarise,\n",
            "    summarize\n",
            "\n",
            "\n",
            "R[write to console]: The following object is masked from ‘package:ggplot2’:\n",
            "\n",
            "    vars\n",
            "\n",
            "\n",
            "R[write to console]: The following objects are masked from ‘package:stats’:\n",
            "\n",
            "    filter, lag\n",
            "\n",
            "\n",
            "R[write to console]: The following objects are masked from ‘package:base’:\n",
            "\n",
            "    intersect, setdiff, setequal, union\n",
            "\n",
            "\n",
            "R[write to console]: Loading required package: Matrix\n",
            "\n",
            "R[write to console]: \n",
            "Attaching package: ‘Matrix’\n",
            "\n",
            "\n",
            "R[write to console]: The following objects are masked from ‘package:tidyr’:\n",
            "\n",
            "    expand, pack, unpack\n",
            "\n",
            "\n",
            "R[write to console]: \n",
            "Attaching package: ‘lmerTest’\n",
            "\n",
            "\n",
            "R[write to console]: The following object is masked from ‘package:lme4’:\n",
            "\n",
            "    lmer\n",
            "\n",
            "\n",
            "R[write to console]: The following object is masked from ‘package:stats’:\n",
            "\n",
            "    step\n",
            "\n",
            "\n",
            "R[write to console]: Loading required package: survival\n",
            "\n",
            "R[write to console]: Loading required package: MASS\n",
            "\n",
            "R[write to console]: \n",
            "Attaching package: ‘MASS’\n",
            "\n",
            "\n",
            "R[write to console]: The following object is masked from ‘package:dplyr’:\n",
            "\n",
            "    select\n",
            "\n",
            "\n",
            "R[write to console]: \n",
            "Attaching package: ‘TH.data’\n",
            "\n",
            "\n",
            "R[write to console]: The following object is masked from ‘package:MASS’:\n",
            "\n",
            "    geyser\n",
            "\n",
            "\n",
            "R[write to console]: The 'lsmeans' package is now basically a front end for 'emmeans'.\n",
            "Users are encouraged to switch the rest of the way.\n",
            "See help('transition') for more information, including how to\n",
            "convert old 'lsmeans' objects and scripts to work with 'emmeans'.\n",
            "\n",
            "R[write to console]: Registered S3 methods overwritten by 'car':\n",
            "  method                          from\n",
            "  influence.merMod                lme4\n",
            "  cooks.distance.influence.merMod lme4\n",
            "  dfbeta.influence.merMod         lme4\n",
            "  dfbetas.influence.merMod        lme4\n",
            "\n",
            "R[write to console]: \n",
            "Attaching package: ‘car’\n",
            "\n",
            "\n",
            "R[write to console]: The following object is masked from ‘package:dplyr’:\n",
            "\n",
            "    recode\n",
            "\n",
            "\n"
          ]
        }
      ]
    },
    {
      "cell_type": "markdown",
      "metadata": {
        "id": "j96Qh2mb_8Gq"
      },
      "source": [
        "## Data loading into dataframe"
      ]
    },
    {
      "cell_type": "code",
      "metadata": {
        "id": "XKMnpccx3BDP"
      },
      "source": [
        "%%R\n",
        "url = ('/content/drive/Shareddrives/Bovi-Analytics/Projects/SenseOfSensors/CsvData/SensorAggRepartitioned08032021/ObservationType=EatingTimeMinutesPerDay/part-00000-tid-183333261268000902-29b42dfd-564e-4e7d-8ea7-05b4fb30d5d6-1694-6.c000.csv')\n",
        "\n",
        "dataset = read.csv(url)\n",
        "\n"
      ],
      "execution_count": null,
      "outputs": []
    },
    {
      "cell_type": "code",
      "metadata": {
        "id": "EdsoTgv63LDl"
      },
      "source": [
        "%%R\n",
        "\n",
        "#path <- \"/content/drive/Shareddrives/Bovi-Analytics/Projects/SenseOfSensors/CsvData/SensorAggRepartitioned08032021/ObservationType=EatingTimeMinutesPerDay/part-00000-tid-183333261268000902-29b42dfd-564e-4e7d-8ea7-05b4fb30d5d6-1694-6.c000.csv\"\n",
        "AnalysisData <- \n",
        "  readr::read_csv(\"/content/drive/Shareddrives/Bovi-Analytics/Projects/SenseOfSensors/CsvData/SensorAggRepartitioned08032021/ObservationType=EatingTimeMinutesPerDay/part-00000-tid-183333261268000902-29b42dfd-564e-4e7d-8ea7-05b4fb30d5d6-1694-6.c000.csv\", \n",
        "    col_types = readr::cols(HerdIdentifier = readr::col_character(), \n",
        "        TransitionLactationNumber = readr::col_integer(), \n",
        "        TransitionParity = readr::col_character(), \n",
        "        TransitionMonthsInMilk = readr::col_integer(), \n",
        "        TransitionCalvingDate = readr::col_character(), \n",
        "        Hour = readr::col_integer(), \n",
        "        Observations = readr::col_integer())) %>% \n",
        "  dplyr::filter(dplyr::between(TransitionMonthsInMilk, -1, 10)) %>%\n",
        "   dplyr::mutate(\n",
        "    AnimalIdentifier = factor(AnimalIdentifier),\n",
        "    HerdIdentifier = factor(HerdIdentifier),\n",
        "    Parity = factor(TransitionParity),\n",
        "    LactationNumber = factor(TransitionLactationNumber),\n",
        "    MonthsInMilk = factor(TransitionMonthsInMilk),\n",
        "    numMonthsInMilk = TransitionMonthsInMilk,\n",
        "    CalvingSeason = factor(TransitionSeason),\n",
        "    Hour = factor(Hour),\n",
        "    SensorValue = ObservationValue,\n",
        "    MilkingType = factor(case_when(\n",
        "    HerdIdentifier %in% c(\"544\", \"2514\", \"3314\")~\"AMS\",\n",
        "    TRUE~\"CMS\"\n",
        "  ))\n",
        "  ) %>%\n",
        "  dplyr::select(AnimalIdentifier, HerdIdentifier, Parity, MonthsInMilk, numMonthsInMilk, CalvingSeason, Hour, SensorValue, MilkingType, LactationNumber) %>%\n",
        "  tidyr::drop_na()"
      ],
      "execution_count": null,
      "outputs": []
    },
    {
      "cell_type": "code",
      "metadata": {
        "colab": {
          "base_uri": "https://localhost:8080/"
        },
        "id": "6tB88jG161J_",
        "outputId": "25c17aa4-5d45-49ba-cc8e-353a597667d4"
      },
      "source": [
        "%%R\n",
        "head(AnalysisData)"
      ],
      "execution_count": null,
      "outputs": [
        {
          "output_type": "stream",
          "name": "stdout",
          "text": [
            "# A tibble: 6 × 10\n",
            "  AnimalIdentifier HerdIdentifier Parity MonthsInMilk numMonthsInMilk\n",
            "  <fct>            <fct>          <fct>  <fct>                  <int>\n",
            "1 10               2746           2      -1                        -1\n",
            "2 92               3              1      1                          1\n",
            "3 8127             2011           3+     7                          7\n",
            "4 10               2746           1      8                          8\n",
            "5 8553             2011           2      2                          2\n",
            "6 92               3              3+     0                          0\n",
            "# … with 5 more variables: CalvingSeason <fct>, Hour <fct>, SensorValue <dbl>,\n",
            "#   MilkingType <fct>, LactationNumber <fct>\n"
          ]
        }
      ]
    },
    {
      "cell_type": "code",
      "metadata": {
        "colab": {
          "base_uri": "https://localhost:8080/"
        },
        "id": "F1V_3TaBTfdf",
        "outputId": "b5dced1d-611c-4f43-8fe9-cfa43d49d790"
      },
      "source": [
        "%%R\n",
        "str(AnalysisData)"
      ],
      "execution_count": null,
      "outputs": [
        {
          "output_type": "stream",
          "name": "stdout",
          "text": [
            "tibble [42,548 × 10] (S3: tbl_df/tbl/data.frame)\n",
            " $ AnimalIdentifier: Factor w/ 1100 levels \"1\",\"2\",\"3\",\"4\",..: 10 92 749 10 873 92 130 22 72 352 ...\n",
            " $ HerdIdentifier  : Factor w/ 8 levels \"2011\",\"2297\",..: 4 5 1 4 1 5 7 4 6 8 ...\n",
            " $ Parity          : Factor w/ 3 levels \"1\",\"2\",\"3+\": 2 1 3 1 2 3 1 1 3 3 ...\n",
            " $ MonthsInMilk    : Factor w/ 12 levels \"-1\",\"0\",\"1\",\"2\",..: 1 3 9 10 4 2 1 5 6 1 ...\n",
            " $ numMonthsInMilk : int [1:42548] -1 1 7 8 2 0 -1 3 4 -1 ...\n",
            " $ CalvingSeason   : Factor w/ 4 levels \"Autumn\",\"Spring\",..: 4 1 4 1 3 1 2 4 1 1 ...\n",
            " $ Hour            : Factor w/ 1 level \"0\": 1 1 1 1 1 1 1 1 1 1 ...\n",
            " $ SensorValue     : num [1:42548] 505 315 334 483 442 ...\n",
            " $ MilkingType     : Factor w/ 2 levels \"AMS\",\"CMS\": 2 2 2 2 2 2 1 2 1 2 ...\n",
            " $ LactationNumber : Factor w/ 13 levels \"1\",\"2\",\"3\",\"4\",..: 2 1 5 1 2 7 1 1 5 12 ...\n"
          ]
        }
      ]
    },
    {
      "cell_type": "markdown",
      "metadata": {
        "id": "yq_0sR7phWSH"
      },
      "source": [
        "## Descriptive statistics"
      ]
    },
    {
      "cell_type": "code",
      "metadata": {
        "colab": {
          "base_uri": "https://localhost:8080/"
        },
        "id": "93-Yu1JyhVJb",
        "outputId": "4835264d-36fd-48ae-ecb5-ea2e8bcf133f"
      },
      "source": [
        "%%R\n",
        "AnalysisData %>%\n",
        "  group_by(Parity) %>%\n",
        "  summarise(Unique_Elements = n_distinct(AnimalIdentifier))"
      ],
      "execution_count": null,
      "outputs": [
        {
          "output_type": "stream",
          "name": "stdout",
          "text": [
            "# A tibble: 3 × 2\n",
            "  Parity Unique_Elements\n",
            "  <fct>            <int>\n",
            "1 1                  704\n",
            "2 2                  693\n",
            "3 3+                 733\n"
          ]
        }
      ]
    },
    {
      "cell_type": "code",
      "metadata": {
        "colab": {
          "base_uri": "https://localhost:8080/"
        },
        "id": "O9zQgXhG4WIN",
        "outputId": "49111185-cb1d-43da-c41e-6dff5cd3976b"
      },
      "source": [
        "%%R\n",
        "AnalysisData %>%\n",
        "  summarise(Unique_Elements = n_distinct(AnimalIdentifier))"
      ],
      "execution_count": null,
      "outputs": [
        {
          "output_type": "stream",
          "name": "stdout",
          "text": [
            "# A tibble: 1 × 1\n",
            "  Unique_Elements\n",
            "            <int>\n",
            "1            1074\n"
          ]
        }
      ]
    },
    {
      "cell_type": "code",
      "metadata": {
        "colab": {
          "base_uri": "https://localhost:8080/"
        },
        "id": "wEFoAOXrvVJH",
        "outputId": "a8d06a3f-caf9-46f6-bd58-6b77bf817817"
      },
      "source": [
        "%%R\n",
        "AnalysisData %>%\n",
        "  group_by(LactationNumber) %>%\n",
        "  summarise(Unique_Elements = n_distinct(AnimalIdentifier))"
      ],
      "execution_count": null,
      "outputs": [
        {
          "output_type": "stream",
          "name": "stdout",
          "text": [
            "# A tibble: 13 × 2\n",
            "   LactationNumber Unique_Elements\n",
            "   <fct>                     <int>\n",
            " 1 1                           704\n",
            " 2 2                           693\n",
            " 3 3                           612\n",
            " 4 4                           476\n",
            " 5 5                           333\n",
            " 6 6                           202\n",
            " 7 7                            94\n",
            " 8 8                            44\n",
            " 9 9                            22\n",
            "10 10                           11\n",
            "11 11                            6\n",
            "12 12                            2\n",
            "13 13                            2\n"
          ]
        }
      ]
    },
    {
      "cell_type": "code",
      "metadata": {
        "colab": {
          "base_uri": "https://localhost:8080/"
        },
        "id": "rcP8JQo7-WC5",
        "outputId": "8844fe84-ad5d-4e0a-cc78-d5c305a681cb"
      },
      "source": [
        "%%R\n",
        "AnalysisData %>%\n",
        "  group_by(AnimalIdentifier, LactationNumber) %>%\n",
        "  summarise(Unique_Elements = n_distinct(AnimalIdentifier))"
      ],
      "execution_count": null,
      "outputs": [
        {
          "output_type": "stream",
          "name": "stdout",
          "text": [
            "`summarise()` has grouped output by 'AnimalIdentifier'. You can override using the `.groups` argument.\n",
            "# A tibble: 3,201 × 3\n",
            "# Groups:   AnimalIdentifier [1,074]\n",
            "   AnimalIdentifier LactationNumber Unique_Elements\n",
            "   <fct>            <fct>                     <int>\n",
            " 1 1                1                             1\n",
            " 2 1                2                             1\n",
            " 3 1                3                             1\n",
            " 4 1                4                             1\n",
            " 5 1                5                             1\n",
            " 6 1                6                             1\n",
            " 7 1                7                             1\n",
            " 8 2                1                             1\n",
            " 9 2                2                             1\n",
            "10 2                3                             1\n",
            "# … with 3,191 more rows\n"
          ]
        }
      ]
    },
    {
      "cell_type": "markdown",
      "metadata": {
        "id": "R3In3XAH6UNw"
      },
      "source": [
        "# Model building"
      ]
    },
    {
      "cell_type": "markdown",
      "metadata": {
        "id": "xH_zbB8lAnnT"
      },
      "source": [
        "First we determine the null model"
      ]
    },
    {
      "cell_type": "markdown",
      "metadata": {
        "id": "2HV14NMvAqNi"
      },
      "source": [
        "## Null model"
      ]
    },
    {
      "cell_type": "code",
      "metadata": {
        "id": "uYZJk1Fyg4xG"
      },
      "source": [
        "%%R\n",
        "Model.0 <- lme4::lmer(\n",
        "                  SensorValue ~ 1 + (1 + numMonthsInMilk|AnimalIdentifier), \n",
        "                  data = AnalysisData,\n",
        "                  REML = FALSE\n",
        "                  )\n"
      ],
      "execution_count": null,
      "outputs": []
    },
    {
      "cell_type": "markdown",
      "metadata": {
        "id": "Y67KPZBG6Vtp"
      },
      "source": [
        "## Univariable models"
      ]
    },
    {
      "cell_type": "code",
      "metadata": {
        "colab": {
          "base_uri": "https://localhost:8080/"
        },
        "id": "BtHdHQiAVH4_",
        "outputId": "df3a4940-298a-42e3-8835-44a01cd59c30"
      },
      "source": [
        "%%R\n",
        "Model1.0 <- lme4::lmer(\n",
        "                  SensorValue ~ \n",
        "                  MonthsInMilk + \n",
        "                  (1 + numMonthsInMilk|AnimalIdentifier),\n",
        "                  REML = FALSE,\n",
        "                  data = AnalysisData\n",
        ")\n",
        "anova(Model.0,Model1.0,test=\"Chisq\")"
      ],
      "execution_count": null,
      "outputs": [
        {
          "output_type": "stream",
          "name": "stdout",
          "text": [
            "Data: AnalysisData\n",
            "Models:\n",
            "Model.0: SensorValue ~ 1 + (1 + numMonthsInMilk | AnimalIdentifier)\n",
            "Model1.0: SensorValue ~ MonthsInMilk + (1 + numMonthsInMilk | AnimalIdentifier)\n",
            "         npar    AIC    BIC  logLik deviance  Chisq Df Pr(>Chisq)    \n",
            "Model.0     5 488327 488370 -244158   488317                         \n",
            "Model1.0   16 487724 487862 -243846   487692 625.32 11  < 2.2e-16 ***\n",
            "---\n",
            "Signif. codes:  0 ‘***’ 0.001 ‘**’ 0.01 ‘*’ 0.05 ‘.’ 0.1 ‘ ’ 1\n"
          ]
        }
      ]
    },
    {
      "cell_type": "code",
      "metadata": {
        "colab": {
          "base_uri": "https://localhost:8080/"
        },
        "id": "gMvqQic5VSOL",
        "outputId": "84889f8b-3597-485f-fe63-6be13e2d935f"
      },
      "source": [
        "%%R\n",
        "Model1.1 <- lme4::lmer(\n",
        "                  SensorValue ~ \n",
        "                  Parity + \n",
        "                  (1 + numMonthsInMilk|AnimalIdentifier),\n",
        "                  REML = FALSE,\n",
        "                  data = AnalysisData\n",
        "                  )\n",
        "anova(Model.0,Model1.1,test=\"Chisq\")"
      ],
      "execution_count": null,
      "outputs": [
        {
          "output_type": "stream",
          "name": "stdout",
          "text": [
            "Data: AnalysisData\n",
            "Models:\n",
            "Model.0: SensorValue ~ 1 + (1 + numMonthsInMilk | AnimalIdentifier)\n",
            "Model1.1: SensorValue ~ Parity + (1 + numMonthsInMilk | AnimalIdentifier)\n",
            "         npar    AIC    BIC  logLik deviance  Chisq Df Pr(>Chisq)    \n",
            "Model.0     5 488327 488370 -244158   488317                         \n",
            "Model1.1    7 484939 484999 -242462   484925 3392.3  2  < 2.2e-16 ***\n",
            "---\n",
            "Signif. codes:  0 ‘***’ 0.001 ‘**’ 0.01 ‘*’ 0.05 ‘.’ 0.1 ‘ ’ 1\n"
          ]
        }
      ]
    },
    {
      "cell_type": "code",
      "metadata": {
        "colab": {
          "base_uri": "https://localhost:8080/"
        },
        "id": "D1LlsEdpVWQP",
        "outputId": "9eee4ab4-2bc3-4990-d8d3-24252644b7d8"
      },
      "source": [
        "%%R\n",
        "Model1.2 <- lme4::lmer(\n",
        "                  SensorValue ~ \n",
        "                  CalvingSeason +\n",
        "                  (1 + numMonthsInMilk|AnimalIdentifier),\n",
        "                  REML = FALSE,\n",
        "                  data = AnalysisData\n",
        "                  )\n",
        "anova(Model.0,Model1.2,test=\"Chisq\")"
      ],
      "execution_count": null,
      "outputs": [
        {
          "output_type": "stream",
          "name": "stdout",
          "text": [
            "Data: AnalysisData\n",
            "Models:\n",
            "Model.0: SensorValue ~ 1 + (1 + numMonthsInMilk | AnimalIdentifier)\n",
            "Model1.2: SensorValue ~ CalvingSeason + (1 + numMonthsInMilk | AnimalIdentifier)\n",
            "         npar    AIC    BIC  logLik deviance Chisq Df Pr(>Chisq)    \n",
            "Model.0     5 488327 488370 -244158   488317                        \n",
            "Model1.2    8 488291 488360 -244137   488275 42.06  3  3.897e-09 ***\n",
            "---\n",
            "Signif. codes:  0 ‘***’ 0.001 ‘**’ 0.01 ‘*’ 0.05 ‘.’ 0.1 ‘ ’ 1\n"
          ]
        }
      ]
    },
    {
      "cell_type": "code",
      "metadata": {
        "id": "bd8jrGGgWUbv",
        "colab": {
          "base_uri": "https://localhost:8080/"
        },
        "outputId": "82139db9-ebc1-40a0-df40-cfd9ed5e1b47"
      },
      "source": [
        "%%R\n",
        "Model1.3 <- lme4::lmer(\n",
        "                  SensorValue ~ \n",
        "                  MilkingType +\n",
        "                  (1 + numMonthsInMilk|AnimalIdentifier),\n",
        "                  REML = FALSE,\n",
        "                  data = AnalysisData\n",
        "                  )\n",
        "anova(Model.0,Model1.3,test=\"Chisq\")"
      ],
      "execution_count": null,
      "outputs": [
        {
          "output_type": "stream",
          "name": "stdout",
          "text": [
            "Data: AnalysisData\n",
            "Models:\n",
            "Model.0: SensorValue ~ 1 + (1 + numMonthsInMilk | AnimalIdentifier)\n",
            "Model1.3: SensorValue ~ MilkingType + (1 + numMonthsInMilk | AnimalIdentifier)\n",
            "         npar    AIC    BIC  logLik deviance Chisq Df Pr(>Chisq)    \n",
            "Model.0     5 488327 488370 -244158   488317                        \n",
            "Model1.3    6 488070 488122 -244029   488058   259  1  < 2.2e-16 ***\n",
            "---\n",
            "Signif. codes:  0 ‘***’ 0.001 ‘**’ 0.01 ‘*’ 0.05 ‘.’ 0.1 ‘ ’ 1\n"
          ]
        }
      ]
    },
    {
      "cell_type": "markdown",
      "metadata": {
        "id": "4fXa9WQx6Zzh"
      },
      "source": [
        "## Multivariable models"
      ]
    },
    {
      "cell_type": "code",
      "metadata": {
        "id": "N2pB1m1lXFCW",
        "colab": {
          "base_uri": "https://localhost:8080/"
        },
        "outputId": "4d73eac6-3952-4da3-8d63-8a202af21ab7"
      },
      "source": [
        "%%R\n",
        "Model2.0 <- lme4::lmer(\n",
        "                  SensorValue ~ \n",
        "                  Parity + MonthsInMilk + CalvingSeason + MilkingType + HerdIdentifier +\n",
        "                  (1 + numMonthsInMilk|AnimalIdentifier),\n",
        "                  REML = FALSE,\n",
        "                  data = AnalysisData\n",
        "                  )"
      ],
      "execution_count": null,
      "outputs": [
        {
          "output_type": "stream",
          "name": "stderr",
          "text": [
            "R[write to console]: fixed-effect model matrix is rank deficient so dropping 1 column / coefficient\n",
            "\n"
          ]
        }
      ]
    },
    {
      "cell_type": "code",
      "metadata": {
        "colab": {
          "base_uri": "https://localhost:8080/"
        },
        "id": "_jkt1d5IbXsd",
        "outputId": "29266c7e-d403-40db-fcdc-eb96c09f7749"
      },
      "source": [
        "%%R\n",
        "drop1(Model2.0,test=\"Chisq\")"
      ],
      "execution_count": null,
      "outputs": [
        {
          "output_type": "stream",
          "text": [
            "Single term deletions\n",
            "\n",
            "Model:\n",
            "SensorValue ~ Parity + MonthsInMilk + CalvingSeason + MilkingType + \n",
            "    (1 + numMonthsInMilk | HerdIdentifier/AnimalIdentifier)\n",
            "              npar    AIC     LRT   Pr(Chi)    \n",
            "<none>             474314                      \n",
            "Parity           2 477103 2793.12 < 2.2e-16 ***\n",
            "MonthsInMilk    11 474760  467.81 < 2.2e-16 ***\n",
            "CalvingSeason    3 474329   21.00 0.0001054 ***\n",
            "MilkingType      1 474316    4.30 0.0380258 *  \n",
            "---\n",
            "Signif. codes:  0 ‘***’ 0.001 ‘**’ 0.01 ‘*’ 0.05 ‘.’ 0.1 ‘ ’ 1\n"
          ],
          "name": "stdout"
        }
      ]
    },
    {
      "cell_type": "markdown",
      "metadata": {
        "id": "ljVTKt-Pctv0"
      },
      "source": [
        "## Introduction of interactions"
      ]
    },
    {
      "cell_type": "markdown",
      "metadata": {
        "id": "79oMxviecv0k"
      },
      "source": [
        "### Interactions with MonthsInMilk"
      ]
    },
    {
      "cell_type": "code",
      "metadata": {
        "colab": {
          "base_uri": "https://localhost:8080/"
        },
        "id": "kO8mZS_-5EK9",
        "outputId": "900ab594-5311-4fe3-d743-ab162a66d23f"
      },
      "source": [
        "%%R\n",
        "Model2.1 <- lme4::lmer(\n",
        "                  SensorValue ~ \n",
        "                  MonthsInMilk*Parity + CalvingSeason + MilkingType +\n",
        "                 (1 + numMonthsInMilk| HerdIdentifier/AnimalIdentifier),\n",
        "                  REML = FALSE,\n",
        "                  data = AnalysisData\n",
        "                  )\n",
        "anova(Model2.0,Model2.1,test=\"Chisq\")"
      ],
      "execution_count": null,
      "outputs": [
        {
          "output_type": "stream",
          "name": "stdout",
          "text": [
            "Data: AnalysisData\n",
            "Models:\n",
            "Model2.0: SensorValue ~ Parity + MonthsInMilk + CalvingSeason + MilkingType + \n",
            "Model2.0:     HerdIdentifier + (1 + numMonthsInMilk | AnimalIdentifier)\n",
            "Model2.1: SensorValue ~ MonthsInMilk * Parity + CalvingSeason + MilkingType + \n",
            "Model2.1:     (1 + numMonthsInMilk | HerdIdentifier/AnimalIdentifier)\n",
            "         npar    AIC    BIC  logLik deviance  Chisq Df Pr(>Chisq)    \n",
            "Model2.0   28 482240 482483 -241092   482184                         \n",
            "Model2.1   47 472952 473359 -236429   472858 9326.4 19  < 2.2e-16 ***\n",
            "---\n",
            "Signif. codes:  0 ‘***’ 0.001 ‘**’ 0.01 ‘*’ 0.05 ‘.’ 0.1 ‘ ’ 1\n"
          ]
        }
      ]
    },
    {
      "cell_type": "code",
      "metadata": {
        "colab": {
          "base_uri": "https://localhost:8080/"
        },
        "id": "mkVcZec9cyCk",
        "outputId": "cb84d4fe-0997-49ba-fbf2-8c962336449f"
      },
      "source": [
        "%%R\n",
        "Model2.2 <- lme4::lmer(\n",
        "                  SensorValue ~ \n",
        "                  MonthsInMilk*MilkingType + CalvingSeason + Parity +\n",
        "                  (1 + numMonthsInMilk| HerdIdentifier/AnimalIdentifier),\n",
        "                  REML = FALSE,\n",
        "                  data = AnalysisData\n",
        "                  )\n",
        "anova(Model2.0,Model2.2,test=\"Chisq\")"
      ],
      "execution_count": null,
      "outputs": [
        {
          "output_type": "stream",
          "text": [
            "Data: AnalysisData\n",
            "Models:\n",
            "Model2.0: SensorValue ~ Parity + MonthsInMilk + CalvingSeason + MilkingType + \n",
            "Model2.0:     (1 + numMonthsInMilk | HerdIdentifier/AnimalIdentifier)\n",
            "Model2.2: SensorValue ~ MonthsInMilk * MilkingType + CalvingSeason + Parity + \n",
            "Model2.2:     (1 + numMonthsInMilk | HerdIdentifier/AnimalIdentifier)\n",
            "         npar    AIC    BIC  logLik deviance  Chisq Df Pr(>Chisq)    \n",
            "Model2.0   25 474314 474530 -237132   474264                         \n",
            "Model2.2   36 474284 474596 -237106   474212 51.306 11   3.64e-07 ***\n",
            "---\n",
            "Signif. codes:  0 ‘***’ 0.001 ‘**’ 0.01 ‘*’ 0.05 ‘.’ 0.1 ‘ ’ 1\n"
          ],
          "name": "stdout"
        }
      ]
    },
    {
      "cell_type": "code",
      "metadata": {
        "colab": {
          "base_uri": "https://localhost:8080/"
        },
        "id": "Wb15N_ANcybP",
        "outputId": "854cfb26-da43-4b5e-fb31-0a5ecb7ab439"
      },
      "source": [
        "%%R\n",
        "Model2.3 <- lme4::lmer(\n",
        "                  SensorValue ~ \n",
        "                  MonthsInMilk*CalvingSeason + Parity + MilkingType +\n",
        "                  (1 + numMonthsInMilk| HerdIdentifier/AnimalIdentifier),\n",
        "                  REML = FALSE,\n",
        "                  data = AnalysisData\n",
        "                  )\n",
        "anova(Model2.0,Model2.3,test=\"Chisq\")"
      ],
      "execution_count": null,
      "outputs": [
        {
          "output_type": "stream",
          "text": [
            "Data: AnalysisData\n",
            "Models:\n",
            "Model2.0: SensorValue ~ Parity + MonthsInMilk + CalvingSeason + MilkingType + \n",
            "Model2.0:     (1 + numMonthsInMilk | HerdIdentifier/AnimalIdentifier)\n",
            "Model2.3: SensorValue ~ MonthsInMilk * CalvingSeason + Parity + MilkingType + \n",
            "Model2.3:     (1 + numMonthsInMilk | HerdIdentifier/AnimalIdentifier)\n",
            "         npar    AIC    BIC  logLik deviance  Chisq Df Pr(>Chisq)    \n",
            "Model2.0   25 474314 474530 -237132   474264                         \n",
            "Model2.3   58 473824 474326 -236854   473708 555.69 33  < 2.2e-16 ***\n",
            "---\n",
            "Signif. codes:  0 ‘***’ 0.001 ‘**’ 0.01 ‘*’ 0.05 ‘.’ 0.1 ‘ ’ 1\n"
          ],
          "name": "stdout"
        }
      ]
    },
    {
      "cell_type": "markdown",
      "metadata": {
        "id": "fmKSPEKhd0XJ"
      },
      "source": [
        "## Multiple interactions"
      ]
    },
    {
      "cell_type": "code",
      "metadata": {
        "colab": {
          "base_uri": "https://localhost:8080/"
        },
        "id": "VNnl2eKxc9ug",
        "outputId": "87d3d4a7-1e6c-4b63-8a47-269435c4c428"
      },
      "source": [
        "%%R\n",
        "Model2.4 <- lme4::lmer(\n",
        "                  SensorValue ~ \n",
        "                  MonthsInMilk*CalvingSeason + \n",
        "                  MonthsInMilk*Parity + \n",
        "                  MonthsInMilk*MilkingType +\n",
        "                  (1 + numMonthsInMilk| HerdIdentifier/AnimalIdentifier),\n",
        "                  REML = FALSE,\n",
        "                  data = AnalysisData\n",
        "                  )\n",
        "anova(Model2.0,Model2.4,test=\"Chisq\")"
      ],
      "execution_count": null,
      "outputs": [
        {
          "output_type": "stream",
          "text": [
            "Data: AnalysisData\n",
            "Models:\n",
            "Model2.0: SensorValue ~ Parity + MonthsInMilk + CalvingSeason + MilkingType + \n",
            "Model2.0:     (1 + numMonthsInMilk | HerdIdentifier/AnimalIdentifier)\n",
            "Model2.4: SensorValue ~ MonthsInMilk * CalvingSeason + MonthsInMilk * Parity + \n",
            "Model2.4:     MonthsInMilk * MilkingType + (1 + numMonthsInMilk | HerdIdentifier/AnimalIdentifier)\n",
            "         npar    AIC    BIC  logLik deviance  Chisq Df Pr(>Chisq)    \n",
            "Model2.0   25 474314 474530 -237132   474264                         \n",
            "Model2.4   91 472411 473199 -236114   472229 2035.1 66  < 2.2e-16 ***\n",
            "---\n",
            "Signif. codes:  0 ‘***’ 0.001 ‘**’ 0.01 ‘*’ 0.05 ‘.’ 0.1 ‘ ’ 1\n"
          ],
          "name": "stdout"
        }
      ]
    },
    {
      "cell_type": "code",
      "source": [
        "%%R\n",
        "Model2.5 <- lme4::lmer(\n",
        "                  SensorValue ~ \n",
        "                  MonthsInMilk*CalvingSeason + \n",
        "                  MonthsInMilk*Parity + \n",
        "                  MonthsInMilk*HerdIdentifier +\n",
        "                  (1 + numMonthsInMilk|AnimalIdentifier),\n",
        "                  REML = FALSE,\n",
        "                  data = AnalysisData\n",
        "                  )\n",
        "anova(Model2.0,Model2.5,test=\"Chisq\")"
      ],
      "metadata": {
        "colab": {
          "base_uri": "https://localhost:8080/"
        },
        "id": "lthVq5OtuejV",
        "outputId": "bf055ce9-86cf-46b3-99c8-7e7262c5b32b"
      },
      "execution_count": null,
      "outputs": [
        {
          "output_type": "stream",
          "name": "stdout",
          "text": [
            "Data: AnalysisData\n",
            "Models:\n",
            "Model2.0: SensorValue ~ Parity + MonthsInMilk + CalvingSeason + MilkingType + \n",
            "Model2.0:     HerdIdentifier + (1 + numMonthsInMilk | AnimalIdentifier)\n",
            "Model2.5: SensorValue ~ MonthsInMilk * CalvingSeason + MonthsInMilk * Parity + \n",
            "Model2.5:     MonthsInMilk * HerdIdentifier + (1 + numMonthsInMilk | AnimalIdentifier)\n",
            "         npar    AIC    BIC  logLik deviance  Chisq  Df Pr(>Chisq)    \n",
            "Model2.0   28 482240 482483 -241092   482184                          \n",
            "Model2.5  160 479860 481245 -239770   479540 2644.9 132  < 2.2e-16 ***\n",
            "---\n",
            "Signif. codes:  0 ‘***’ 0.001 ‘**’ 0.01 ‘*’ 0.05 ‘.’ 0.1 ‘ ’ 1\n"
          ]
        }
      ]
    },
    {
      "cell_type": "code",
      "metadata": {
        "colab": {
          "base_uri": "https://localhost:8080/"
        },
        "id": "nDPBFISf8kGh",
        "outputId": "f6d9655b-d473-4aa0-87a7-6ea0428215fa"
      },
      "source": [
        "%%R\n",
        "summary(Model2.5)"
      ],
      "execution_count": null,
      "outputs": [
        {
          "output_type": "stream",
          "name": "stdout",
          "text": [
            "Linear mixed model fit by maximum likelihood  ['lmerMod']\n",
            "Formula: SensorValue ~ MonthsInMilk * CalvingSeason + MonthsInMilk * Parity +  \n",
            "    MonthsInMilk * HerdIdentifier + (1 + numMonthsInMilk | AnimalIdentifier)\n",
            "   Data: AnalysisData\n",
            "\n",
            "      AIC       BIC    logLik  deviance  df.resid \n",
            " 479859.5  481244.9 -239769.8  479539.5     42388 \n",
            "\n",
            "Scaled residuals: \n",
            "    Min      1Q  Median      3Q     Max \n",
            "-6.2341 -0.5051  0.0499  0.5952  5.9509 \n",
            "\n",
            "Random effects:\n",
            " Groups           Name            Variance Std.Dev. Corr \n",
            " AnimalIdentifier (Intercept)     1759.321 41.944        \n",
            "                  numMonthsInMilk    6.582  2.566   -0.13\n",
            " Residual                         4271.161 65.354        \n",
            "Number of obs: 42548, groups:  AnimalIdentifier, 1074\n",
            "\n",
            "Fixed effects:\n",
            "                                    Estimate Std. Error t value\n",
            "(Intercept)                         258.5601     4.7218  54.758\n",
            "MonthsInMilk0                        25.2860     5.3209   4.752\n",
            "MonthsInMilk1                        59.1881     5.3945  10.972\n",
            "MonthsInMilk2                        57.8305     5.4322  10.646\n",
            "MonthsInMilk3                        76.3576     5.4767  13.942\n",
            "MonthsInMilk4                        91.2925     5.5111  16.565\n",
            "MonthsInMilk5                       106.2255     5.5443  19.159\n",
            "MonthsInMilk6                       119.8430     5.5909  21.435\n",
            "MonthsInMilk7                       126.6526     5.6291  22.500\n",
            "MonthsInMilk8                       133.7727     5.6851  23.530\n",
            "MonthsInMilk9                       124.0273     5.7456  21.587\n",
            "MonthsInMilk10                      109.7414     5.7907  18.951\n",
            "CalvingSeasonSpring                  -3.3874     3.2862  -1.031\n",
            "CalvingSeasonSummer                   6.0884     3.0353   2.006\n",
            "CalvingSeasonWinter                 -11.4355     3.2528  -3.516\n",
            "Parity2                              85.5038     3.5903  23.815\n",
            "Parity3+                             22.2455     3.2125   6.925\n",
            "HerdIdentifier2297                   11.9155     5.3854   2.213\n",
            "HerdIdentifier2514                   35.1721     5.1671   6.807\n",
            "HerdIdentifier2746                   61.3057     5.3265  11.510\n",
            "HerdIdentifier3                      60.7079     5.4658  11.107\n",
            "HerdIdentifier3314                   -5.5772     5.8333  -0.956\n",
            "HerdIdentifier544                    36.1116     5.2221   6.915\n",
            "HerdIdentifier5888                   92.3122     5.1964  17.765\n",
            "MonthsInMilk0:CalvingSeasonSpring    -1.0904     4.3372  -0.251\n",
            "MonthsInMilk1:CalvingSeasonSpring    21.2577     4.4538   4.773\n",
            "MonthsInMilk2:CalvingSeasonSpring    33.4764     4.4873   7.460\n",
            "MonthsInMilk3:CalvingSeasonSpring    21.2322     4.5304   4.687\n",
            "MonthsInMilk4:CalvingSeasonSpring    12.3457     4.5394   2.720\n",
            "MonthsInMilk5:CalvingSeasonSpring     9.0792     4.5448   1.998\n",
            "MonthsInMilk6:CalvingSeasonSpring     4.1432     4.5457   0.911\n",
            "MonthsInMilk7:CalvingSeasonSpring     0.0453     4.5962   0.010\n",
            "MonthsInMilk8:CalvingSeasonSpring   -11.6726     4.6480  -2.511\n",
            "MonthsInMilk9:CalvingSeasonSpring    -7.3807     4.7450  -1.555\n",
            "MonthsInMilk10:CalvingSeasonSpring   -3.1642     4.7955  -0.660\n",
            "MonthsInMilk0:CalvingSeasonSummer     1.7938     4.0069   0.448\n",
            "MonthsInMilk1:CalvingSeasonSummer    -4.8714     4.1053  -1.187\n",
            "MonthsInMilk2:CalvingSeasonSummer    -4.0422     4.1217  -0.981\n",
            "MonthsInMilk3:CalvingSeasonSummer    -3.6358     4.1522  -0.876\n",
            "MonthsInMilk4:CalvingSeasonSummer    -1.8569     4.1899  -0.443\n",
            "MonthsInMilk5:CalvingSeasonSummer    -2.7816     4.2412  -0.656\n",
            "MonthsInMilk6:CalvingSeasonSummer   -11.1932     4.3239  -2.589\n",
            "MonthsInMilk7:CalvingSeasonSummer   -21.6081     4.3530  -4.964\n",
            "MonthsInMilk8:CalvingSeasonSummer   -28.5980     4.3806  -6.528\n",
            "MonthsInMilk9:CalvingSeasonSummer   -18.3976     4.4045  -4.177\n",
            "MonthsInMilk10:CalvingSeasonSummer   -0.4967     4.4188  -0.112\n",
            "MonthsInMilk0:CalvingSeasonWinter     2.2545     4.3142   0.523\n",
            "MonthsInMilk1:CalvingSeasonWinter    11.3466     4.4695   2.539\n",
            "MonthsInMilk2:CalvingSeasonWinter    22.0788     4.5034   4.903\n",
            "MonthsInMilk3:CalvingSeasonWinter    24.4480     4.5517   5.371\n",
            "MonthsInMilk4:CalvingSeasonWinter    32.1496     4.5744   7.028\n",
            "MonthsInMilk5:CalvingSeasonWinter    37.6035     4.5776   8.215\n",
            "MonthsInMilk6:CalvingSeasonWinter    19.8352     4.5986   4.313\n",
            "MonthsInMilk7:CalvingSeasonWinter     2.7387     4.5975   0.596\n",
            "MonthsInMilk8:CalvingSeasonWinter    -7.0838     4.5949  -1.542\n",
            "MonthsInMilk9:CalvingSeasonWinter     5.8381     4.5856   1.273\n",
            "MonthsInMilk10:CalvingSeasonWinter   12.6034     4.6080   2.735\n",
            "MonthsInMilk0:Parity2               -39.9734     4.6850  -8.532\n",
            "MonthsInMilk1:Parity2               -59.3368     4.7551 -12.479\n",
            "MonthsInMilk2:Parity2               -67.1383     4.7386 -14.168\n",
            "MonthsInMilk3:Parity2               -82.5033     4.7220 -17.472\n",
            "MonthsInMilk4:Parity2               -91.8771     4.7285 -19.430\n",
            "MonthsInMilk5:Parity2               -98.5919     4.7391 -20.804\n",
            "MonthsInMilk6:Parity2              -104.3088     4.7500 -21.960\n",
            "MonthsInMilk7:Parity2              -106.6168     4.7575 -22.410\n",
            "MonthsInMilk8:Parity2              -110.8113     4.7641 -23.260\n",
            "MonthsInMilk9:Parity2              -113.0357     4.7815 -23.640\n",
            "MonthsInMilk10:Parity2             -115.6129     4.7808 -24.183\n",
            "MonthsInMilk0:Parity3+              -34.1321     4.0823  -8.361\n",
            "MonthsInMilk1:Parity3+              -54.8504     4.1655 -13.168\n",
            "MonthsInMilk2:Parity3+              -52.7957     4.1543 -12.709\n",
            "MonthsInMilk3:Parity3+              -65.2293     4.1454 -15.735\n",
            "MonthsInMilk4:Parity3+              -75.0218     4.1546 -18.057\n",
            "MonthsInMilk5:Parity3+              -84.3432     4.1793 -20.181\n",
            "MonthsInMilk6:Parity3+              -86.8365     4.2082 -20.635\n",
            "MonthsInMilk7:Parity3+              -87.7670     4.2344 -20.727\n",
            "MonthsInMilk8:Parity3+              -90.2459     4.2527 -21.221\n",
            "MonthsInMilk9:Parity3+              -93.8755     4.2767 -21.950\n",
            "MonthsInMilk10:Parity3+             -94.9204     4.2866 -22.143\n",
            "MonthsInMilk0:HerdIdentifier2297      4.2272     5.6144   0.753\n",
            "MonthsInMilk1:HerdIdentifier2297    -25.3018     5.8138  -4.352\n",
            "MonthsInMilk2:HerdIdentifier2297    -34.2598     5.8060  -5.901\n",
            "MonthsInMilk3:HerdIdentifier2297    -32.4666     5.8363  -5.563\n",
            "MonthsInMilk4:HerdIdentifier2297    -34.9394     5.9022  -5.920\n",
            "MonthsInMilk5:HerdIdentifier2297    -38.4893     5.9713  -6.446\n",
            "MonthsInMilk6:HerdIdentifier2297    -39.4142     6.0604  -6.504\n",
            "MonthsInMilk7:HerdIdentifier2297    -32.7397     6.1553  -5.319\n",
            "MonthsInMilk8:HerdIdentifier2297    -27.6612     6.2410  -4.432\n",
            "MonthsInMilk9:HerdIdentifier2297    -16.0807     6.3421  -2.536\n",
            "MonthsInMilk10:HerdIdentifier2297    -5.1400     6.4758  -0.794\n",
            "MonthsInMilk0:HerdIdentifier2514    -19.4449     5.5269  -3.518\n",
            "MonthsInMilk1:HerdIdentifier2514    -72.1883     5.5316 -13.050\n",
            "MonthsInMilk2:HerdIdentifier2514    -55.6568     5.6089  -9.923\n",
            "MonthsInMilk3:HerdIdentifier2514    -47.7812     5.6612  -8.440\n",
            "MonthsInMilk4:HerdIdentifier2514    -50.9754     5.7074  -8.931\n",
            "MonthsInMilk5:HerdIdentifier2514    -53.2583     5.7829  -9.210\n",
            "MonthsInMilk6:HerdIdentifier2514    -50.6429     5.8748  -8.620\n",
            "MonthsInMilk7:HerdIdentifier2514    -48.3905     5.9781  -8.095\n",
            "MonthsInMilk8:HerdIdentifier2514    -52.5453     6.0743  -8.650\n",
            "MonthsInMilk9:HerdIdentifier2514    -52.4524     6.2067  -8.451\n",
            "MonthsInMilk10:HerdIdentifier2514   -52.4833     6.3219  -8.302\n",
            "MonthsInMilk0:HerdIdentifier2746     -8.8096     5.4773  -1.608\n",
            "MonthsInMilk1:HerdIdentifier2746    -66.8411     5.7008 -11.725\n",
            "MonthsInMilk2:HerdIdentifier2746    -55.2565     5.7486  -9.612\n",
            "MonthsInMilk3:HerdIdentifier2746    -58.7413     5.8071 -10.115\n",
            "MonthsInMilk4:HerdIdentifier2746    -71.8379     5.8869 -12.203\n",
            "MonthsInMilk5:HerdIdentifier2746    -74.6444     5.9503 -12.545\n",
            "MonthsInMilk6:HerdIdentifier2746    -65.5461     6.0370 -10.857\n",
            "MonthsInMilk7:HerdIdentifier2746    -55.2704     6.1241  -9.025\n",
            "MonthsInMilk8:HerdIdentifier2746    -45.0938     6.2375  -7.229\n",
            "MonthsInMilk9:HerdIdentifier2746    -41.3779     6.3502  -6.516\n",
            "MonthsInMilk10:HerdIdentifier2746   -29.3399     6.4615  -4.541\n",
            "MonthsInMilk0:HerdIdentifier3       -10.9380     5.7750  -1.894\n",
            "MonthsInMilk1:HerdIdentifier3       -43.8892     5.9207  -7.413\n",
            "MonthsInMilk2:HerdIdentifier3       -43.5739     5.9494  -7.324\n",
            "MonthsInMilk3:HerdIdentifier3       -51.0800     5.9676  -8.560\n",
            "MonthsInMilk4:HerdIdentifier3       -46.3765     6.0392  -7.679\n",
            "MonthsInMilk5:HerdIdentifier3       -55.5292     6.1160  -9.079\n",
            "MonthsInMilk6:HerdIdentifier3       -59.4371     6.2207  -9.555\n",
            "MonthsInMilk7:HerdIdentifier3       -52.9490     6.3172  -8.382\n",
            "MonthsInMilk8:HerdIdentifier3       -47.3280     6.4091  -7.385\n",
            "MonthsInMilk9:HerdIdentifier3       -35.6554     6.5215  -5.467\n",
            "MonthsInMilk10:HerdIdentifier3      -29.5829     6.6417  -4.454\n",
            "MonthsInMilk0:HerdIdentifier3314      6.7107     6.3622   1.055\n",
            "MonthsInMilk1:HerdIdentifier3314    -31.4952     6.5903  -4.779\n",
            "MonthsInMilk2:HerdIdentifier3314    -17.2830     6.6014  -2.618\n",
            "MonthsInMilk3:HerdIdentifier3314    -13.3446     6.6349  -2.011\n",
            "MonthsInMilk4:HerdIdentifier3314    -22.8708     6.6821  -3.423\n",
            "MonthsInMilk5:HerdIdentifier3314    -27.7139     6.7651  -4.097\n",
            "MonthsInMilk6:HerdIdentifier3314    -33.9428     6.8163  -4.980\n",
            "MonthsInMilk7:HerdIdentifier3314    -33.8302     6.9011  -4.902\n",
            "MonthsInMilk8:HerdIdentifier3314    -36.7741     6.9798  -5.269\n",
            "MonthsInMilk9:HerdIdentifier3314    -29.5678     7.0625  -4.187\n",
            "MonthsInMilk10:HerdIdentifier3314   -25.3873     7.1819  -3.535\n",
            "MonthsInMilk0:HerdIdentifier544      -1.3281     5.4037  -0.246\n",
            "MonthsInMilk1:HerdIdentifier544     -17.8839     5.6510  -3.165\n",
            "MonthsInMilk2:HerdIdentifier544      -8.8886     5.6201  -1.582\n",
            "MonthsInMilk3:HerdIdentifier544      -8.0621     5.6287  -1.432\n",
            "MonthsInMilk4:HerdIdentifier544     -10.8933     5.6701  -1.921\n",
            "MonthsInMilk5:HerdIdentifier544     -14.4956     5.7533  -2.520\n",
            "MonthsInMilk6:HerdIdentifier544     -15.3861     5.8437  -2.633\n",
            "MonthsInMilk7:HerdIdentifier544     -14.8035     5.9257  -2.498\n",
            "MonthsInMilk8:HerdIdentifier544     -18.6515     6.0128  -3.102\n",
            "MonthsInMilk9:HerdIdentifier544     -16.5884     6.1235  -2.709\n",
            "MonthsInMilk10:HerdIdentifier544    -13.6769     6.2250  -2.197\n",
            "MonthsInMilk0:HerdIdentifier5888    -11.9922     5.5133  -2.175\n",
            "MonthsInMilk1:HerdIdentifier5888    -36.6458     5.5578  -6.594\n",
            "MonthsInMilk2:HerdIdentifier5888     -7.5779     5.6214  -1.348\n",
            "MonthsInMilk3:HerdIdentifier5888    -10.2615     5.6623  -1.812\n",
            "MonthsInMilk4:HerdIdentifier5888    -21.2310     5.7222  -3.710\n",
            "MonthsInMilk5:HerdIdentifier5888    -32.5997     5.8005  -5.620\n",
            "MonthsInMilk6:HerdIdentifier5888    -37.1941     5.8934  -6.311\n",
            "MonthsInMilk7:HerdIdentifier5888    -39.1582     5.9972  -6.529\n",
            "MonthsInMilk8:HerdIdentifier5888    -46.7151     6.1020  -7.656\n",
            "MonthsInMilk9:HerdIdentifier5888    -49.7456     6.2361  -7.977\n",
            "MonthsInMilk10:HerdIdentifier5888   -46.8356     6.3511  -7.374\n"
          ]
        },
        {
          "output_type": "stream",
          "name": "stderr",
          "text": [
            "R[write to console]: \n",
            "Correlation matrix not shown by default, as p = 156 > 12.\n",
            "Use print(object, correlation=TRUE)  or\n",
            "    vcov(object)        if you need it\n",
            "\n",
            "\n"
          ]
        }
      ]
    },
    {
      "cell_type": "code",
      "metadata": {
        "id": "iwk8mtFH997x",
        "colab": {
          "base_uri": "https://localhost:8080/"
        },
        "outputId": "c3787b28-e108-46ff-813e-67b87f42c25e"
      },
      "source": [
        "%%R\n",
        "finalModel <- Model2.5\n",
        "Modeldrop <- drop1(finalModel, test=\"Chisq\")\n",
        "if(\"Pr(>F)\" %in% colnames(Modeldrop))\n",
        "{\n",
        "  Pvalues <- Modeldrop$`Pr(>F)`\n",
        "} else \n",
        "{\n",
        "  Pvalues <- Modeldrop$`Pr(Chi)`\n",
        "}\n",
        "Modeldrop"
      ],
      "execution_count": null,
      "outputs": [
        {
          "output_type": "stream",
          "name": "stdout",
          "text": [
            "Single term deletions\n",
            "\n",
            "Model:\n",
            "SensorValue ~ MonthsInMilk * CalvingSeason + MonthsInMilk * Parity + \n",
            "    MonthsInMilk * HerdIdentifier + (1 + numMonthsInMilk | AnimalIdentifier)\n",
            "                            npar    AIC     LRT   Pr(Chi)    \n",
            "<none>                           479860                      \n",
            "MonthsInMilk:CalvingSeason    33 480264  470.88 < 2.2e-16 ***\n",
            "MonthsInMilk:Parity           22 481149 1333.68 < 2.2e-16 ***\n",
            "MonthsInMilk:HerdIdentifier   77 480599  893.53 < 2.2e-16 ***\n",
            "---\n",
            "Signif. codes:  0 ‘***’ 0.001 ‘**’ 0.01 ‘*’ 0.05 ‘.’ 0.1 ‘ ’ 1\n"
          ]
        }
      ]
    },
    {
      "cell_type": "code",
      "metadata": {
        "id": "Tei50epK7u5q"
      },
      "source": [
        "%%R\n",
        "save(finalModel, file=\"/content/drive/Shareddrives/Bovi-Analytics/Projects/SenseOfSensors/CsvData/SensorAggRepartitioned08032021/finalmodeleatingtime.rdata\")"
      ],
      "execution_count": null,
      "outputs": []
    },
    {
      "cell_type": "code",
      "metadata": {
        "id": "mJ-cenI9Gk0z"
      },
      "source": [
        "%%R\n",
        "load(file=\"/content/drive/Shareddrives/Bovi-Analytics/Projects/SenseOfSensors/CsvData/SensorAggRepartitioned08032021/finalmodeleatingtime.rdata\")"
      ],
      "execution_count": null,
      "outputs": []
    },
    {
      "cell_type": "markdown",
      "metadata": {
        "id": "AVDpPc5Id49m"
      },
      "source": [
        "# Final model analysis of variance"
      ]
    },
    {
      "cell_type": "code",
      "metadata": {
        "colab": {
          "base_uri": "https://localhost:8080/"
        },
        "id": "A2Pht69s724t",
        "outputId": "02e029ec-2703-4732-99d9-b70f32abcca8"
      },
      "source": [
        "%%R\n",
        "Anova(finalModel)"
      ],
      "execution_count": null,
      "outputs": [
        {
          "output_type": "stream",
          "name": "stdout",
          "text": [
            "Analysis of Deviance Table (Type II Wald chisquare tests)\n",
            "\n",
            "Response: SensorValue\n",
            "                               Chisq Df Pr(>Chisq)    \n",
            "MonthsInMilk                 654.811 11  < 2.2e-16 ***\n",
            "CalvingSeason                 20.903  3  0.0001103 ***\n",
            "Parity                      3946.019  2  < 2.2e-16 ***\n",
            "HerdIdentifier              2499.838  7  < 2.2e-16 ***\n",
            "MonthsInMilk:CalvingSeason   473.851 33  < 2.2e-16 ***\n",
            "MonthsInMilk:Parity         1356.989 22  < 2.2e-16 ***\n",
            "MonthsInMilk:HerdIdentifier  907.170 77  < 2.2e-16 ***\n",
            "---\n",
            "Signif. codes:  0 ‘***’ 0.001 ‘**’ 0.01 ‘*’ 0.05 ‘.’ 0.1 ‘ ’ 1\n"
          ]
        }
      ]
    },
    {
      "cell_type": "markdown",
      "metadata": {
        "id": "o_lNMoApe7rx"
      },
      "source": [
        "# Final model figures and LSM (95% CI)"
      ]
    },
    {
      "cell_type": "markdown",
      "metadata": {
        "id": "IYoGfSjXfAE5"
      },
      "source": [
        "## Main effects"
      ]
    },
    {
      "cell_type": "code",
      "metadata": {
        "colab": {
          "base_uri": "https://localhost:8080/"
        },
        "id": "0iqNi254rGC1",
        "outputId": "0b6b36f6-2a33-47e4-a2ca-8a32326c5394"
      },
      "source": [
        "%%R\n",
        "multcomp::cld(lsmeans::lsmeans(finalModel, ~ MonthsInMilk), alpha=0.05, Letters=letters, adjust=\"tukey\")"
      ],
      "execution_count": null,
      "outputs": [
        {
          "output_type": "stream",
          "name": "stderr",
          "text": [
            "R[write to console]: Note: D.f. calculations have been disabled because the number of observations exceeds 3000.\n",
            "To enable adjustments, add the argument 'pbkrtest.limit = 42548' (or larger)\n",
            "[or, globally, 'set emm_options(pbkrtest.limit = 42548)' or larger];\n",
            "but be warned that this may result in large computation time and memory use.\n",
            "\n",
            "R[write to console]: Note: D.f. calculations have been disabled because the number of observations exceeds 3000.\n",
            "To enable adjustments, add the argument 'lmerTest.limit = 42548' (or larger)\n",
            "[or, globally, 'set emm_options(lmerTest.limit = 42548)' or larger];\n",
            "but be warned that this may result in large computation time and memory use.\n",
            "\n",
            "R[write to console]: NOTE: Results may be misleading due to involvement in interactions\n",
            "\n",
            "R[write to console]: Note: adjust = \"tukey\" was changed to \"sidak\"\n",
            "because \"tukey\" is only appropriate for one set of pairwise comparisons\n",
            "\n"
          ]
        },
        {
          "output_type": "stream",
          "name": "stdout",
          "text": [
            " MonthsInMilk lsmean   SE  df asymp.LCL asymp.UCL .group  \n",
            " 1               320 2.19 Inf       314       326  a      \n",
            " 0               325 2.16 Inf       319       331  ab     \n",
            " -1              329 2.28 Inf       322       335   bc    \n",
            " 2               332 2.17 Inf       325       338    c    \n",
            " 3               339 2.17 Inf       332       345     d   \n",
            " 4               343 2.18 Inf       336       349     de  \n",
            " 10              345 2.38 Inf       338       352      ef \n",
            " 5               348 2.20 Inf       342       354      efg\n",
            " 9               349 2.33 Inf       342       355      efg\n",
            " 8               349 2.28 Inf       343       356       fg\n",
            " 6               350 2.22 Inf       344       357       fg\n",
            " 7               351 2.25 Inf       345       358        g\n",
            "\n",
            "Results are averaged over the levels of: CalvingSeason, Parity, HerdIdentifier \n",
            "Degrees-of-freedom method: asymptotic \n",
            "Confidence level used: 0.95 \n",
            "Conf-level adjustment: sidak method for 12 estimates \n",
            "P value adjustment: tukey method for comparing a family of 12 estimates \n",
            "significance level used: alpha = 0.05 \n"
          ]
        }
      ]
    },
    {
      "cell_type": "code",
      "metadata": {
        "colab": {
          "base_uri": "https://localhost:8080/"
        },
        "id": "4Yyx-9gQgIUo",
        "outputId": "0ca1c40c-b9e2-4ed2-952f-9b7546bd921a"
      },
      "source": [
        "%%R\n",
        "multcomp::cld(lsmeans::lsmeans(finalModel, ~ Parity), alpha=0.05, Letters=letters, adjust=\"tukey\")"
      ],
      "execution_count": null,
      "outputs": [
        {
          "output_type": "stream",
          "name": "stderr",
          "text": [
            "R[write to console]: Note: D.f. calculations have been disabled because the number of observations exceeds 3000.\n",
            "To enable adjustments, add the argument 'pbkrtest.limit = 42548' (or larger)\n",
            "[or, globally, 'set emm_options(pbkrtest.limit = 42548)' or larger];\n",
            "but be warned that this may result in large computation time and memory use.\n",
            "\n",
            "R[write to console]: Note: D.f. calculations have been disabled because the number of observations exceeds 3000.\n",
            "To enable adjustments, add the argument 'lmerTest.limit = 42548' (or larger)\n",
            "[or, globally, 'set emm_options(lmerTest.limit = 42548)' or larger];\n",
            "but be warned that this may result in large computation time and memory use.\n",
            "\n",
            "R[write to console]: NOTE: Results may be misleading due to involvement in interactions\n",
            "\n",
            "R[write to console]: Note: adjust = \"tukey\" was changed to \"sidak\"\n",
            "because \"tukey\" is only appropriate for one set of pairwise comparisons\n",
            "\n"
          ]
        },
        {
          "output_type": "stream",
          "name": "stdout",
          "text": [
            " Parity lsmean   SE  df asymp.LCL asymp.UCL .group\n",
            " 3+        308 1.89 Inf       304       313  a    \n",
            " 1         354 1.97 Inf       350       359   b   \n",
            " 2         357 1.94 Inf       353       362    c  \n",
            "\n",
            "Results are averaged over the levels of: MonthsInMilk, CalvingSeason, HerdIdentifier \n",
            "Degrees-of-freedom method: asymptotic \n",
            "Confidence level used: 0.95 \n",
            "Conf-level adjustment: sidak method for 3 estimates \n",
            "P value adjustment: tukey method for comparing a family of 3 estimates \n",
            "significance level used: alpha = 0.05 \n"
          ]
        }
      ]
    },
    {
      "cell_type": "code",
      "metadata": {
        "colab": {
          "base_uri": "https://localhost:8080/"
        },
        "id": "7F-RZM29gLY0",
        "outputId": "1cf7f8fa-af9f-4b2b-b799-addda9ec7d8a"
      },
      "source": [
        "%%R\n",
        "multcomp::cld(lsmeans::lsmeans(finalModel, ~ CalvingSeason), alpha=0.05, Letters=letters, adjust=\"tukey\")"
      ],
      "execution_count": null,
      "outputs": [
        {
          "output_type": "stream",
          "name": "stderr",
          "text": [
            "R[write to console]: Note: D.f. calculations have been disabled because the number of observations exceeds 3000.\n",
            "To enable adjustments, add the argument 'pbkrtest.limit = 42548' (or larger)\n",
            "[or, globally, 'set emm_options(pbkrtest.limit = 42548)' or larger];\n",
            "but be warned that this may result in large computation time and memory use.\n",
            "\n",
            "R[write to console]: Note: D.f. calculations have been disabled because the number of observations exceeds 3000.\n",
            "To enable adjustments, add the argument 'lmerTest.limit = 42548' (or larger)\n",
            "[or, globally, 'set emm_options(lmerTest.limit = 42548)' or larger];\n",
            "but be warned that this may result in large computation time and memory use.\n",
            "\n",
            "R[write to console]: NOTE: Results may be misleading due to involvement in interactions\n",
            "\n",
            "R[write to console]: Note: adjust = \"tukey\" was changed to \"sidak\"\n",
            "because \"tukey\" is only appropriate for one set of pairwise comparisons\n",
            "\n"
          ]
        },
        {
          "output_type": "stream",
          "name": "stdout",
          "text": [
            " CalvingSeason lsmean   SE  df asymp.LCL asymp.UCL .group\n",
            " Summer           337 1.96 Inf       332       342  a    \n",
            " Autumn           339 1.97 Inf       334       344  ab   \n",
            " Winter           341 2.00 Inf       336       346   bc  \n",
            " Spring           342 2.00 Inf       337       347    c  \n",
            "\n",
            "Results are averaged over the levels of: MonthsInMilk, Parity, HerdIdentifier \n",
            "Degrees-of-freedom method: asymptotic \n",
            "Confidence level used: 0.95 \n",
            "Conf-level adjustment: sidak method for 4 estimates \n",
            "P value adjustment: tukey method for comparing a family of 4 estimates \n",
            "significance level used: alpha = 0.05 \n"
          ]
        }
      ]
    },
    {
      "cell_type": "code",
      "metadata": {
        "id": "-4Sa6sAUgNT6",
        "colab": {
          "base_uri": "https://localhost:8080/",
          "height": 1000
        },
        "outputId": "16d1b7e8-8db1-4f1e-bc31-ece63133c1fb"
      },
      "source": [
        "%%R\n",
        "multcomp::cld(lsmeans::lsmeans(finalModel, ~ MilkingType), alpha=0.05, Letters=letters, adjust=\"tukey\")"
      ],
      "execution_count": null,
      "outputs": [
        {
          "output_type": "stream",
          "name": "stderr",
          "text": [
            "R[write to console]: Note: D.f. calculations have been disabled because the number of observations exceeds 3000.\n",
            "To enable adjustments, add the argument 'pbkrtest.limit = 42548' (or larger)\n",
            "[or, globally, 'set emm_options(pbkrtest.limit = 42548)' or larger];\n",
            "but be warned that this may result in large computation time and memory use.\n",
            "\n",
            "R[write to console]: Note: D.f. calculations have been disabled because the number of observations exceeds 3000.\n",
            "To enable adjustments, add the argument 'lmerTest.limit = 42548' (or larger)\n",
            "[or, globally, 'set emm_options(lmerTest.limit = 42548)' or larger];\n",
            "but be warned that this may result in large computation time and memory use.\n",
            "\n",
            "R[write to console]: Error in emmfcn(...) : \n",
            "  No variable named MilkingType in the reference grid\n",
            "\n",
            "R[write to console]: In addition: \n",
            "R[write to console]: Warning messages:\n",
            "\n",
            "R[write to console]: 1: \n",
            "R[write to console]: In checkConv(attr(opt, \"derivs\"), opt$par, ctrl = control$checkConv,  :\n",
            "R[write to console]: \n",
            " \n",
            "R[write to console]:  Model failed to converge with max|grad| = 0.0417332 (tol = 0.002, component 1)\n",
            "\n",
            "R[write to console]: 2: \n",
            "R[write to console]: In checkConv(attr(opt, \"derivs\"), opt$par, ctrl = control$checkConv,  :\n",
            "R[write to console]: \n",
            " \n",
            "R[write to console]:  Model failed to converge with max|grad| = 0.00431015 (tol = 0.002, component 1)\n",
            "\n",
            "R[write to console]: 3: \n",
            "R[write to console]: In checkConv(attr(opt, \"derivs\"), opt$par, ctrl = control$checkConv,  :\n",
            "R[write to console]: \n",
            " \n",
            "R[write to console]:  Model failed to converge with max|grad| = 0.00914177 (tol = 0.002, component 1)\n",
            "\n",
            "R[write to console]: 4: \n",
            "R[write to console]: In checkConv(attr(opt, \"derivs\"), opt$par, ctrl = control$checkConv,  :\n",
            "R[write to console]: \n",
            " \n",
            "R[write to console]:  Model failed to converge with max|grad| = 0.00800173 (tol = 0.002, component 1)\n",
            "\n",
            "R[write to console]: 5: \n",
            "R[write to console]: In checkConv(attr(opt, \"derivs\"), opt$par, ctrl = control$checkConv,  :\n",
            "R[write to console]: \n",
            " \n",
            "R[write to console]:  Model failed to converge with max|grad| = 0.00462599 (tol = 0.002, component 1)\n",
            "\n",
            "R[write to console]: 6: \n",
            "R[write to console]: In checkConv(attr(opt, \"derivs\"), opt$par, ctrl = control$checkConv,  :\n",
            "R[write to console]: \n",
            " \n",
            "R[write to console]:  Model failed to converge with max|grad| = 0.041814 (tol = 0.002, component 1)\n",
            "\n"
          ]
        },
        {
          "output_type": "stream",
          "name": "stdout",
          "text": [
            "\n",
            "Error in emmfcn(...) : \n",
            "  No variable named MilkingType in the reference grid\n"
          ]
        },
        {
          "output_type": "error",
          "ename": "RInterpreterError",
          "evalue": "ignored",
          "traceback": [
            "\u001b[0;31m---------------------------------------------------------------------------\u001b[0m",
            "\u001b[0;31mRRuntimeError\u001b[0m                             Traceback (most recent call last)",
            "\u001b[0;32m/usr/local/lib/python3.7/dist-packages/rpy2/ipython/rmagic.py\u001b[0m in \u001b[0;36meval\u001b[0;34m(self, code)\u001b[0m\n\u001b[1;32m    267\u001b[0m                 \u001b[0;31m# Need the newline in case the last line in code is a comment.\u001b[0m\u001b[0;34m\u001b[0m\u001b[0;34m\u001b[0m\u001b[0;34m\u001b[0m\u001b[0m\n\u001b[0;32m--> 268\u001b[0;31m                 \u001b[0mvalue\u001b[0m\u001b[0;34m,\u001b[0m \u001b[0mvisible\u001b[0m \u001b[0;34m=\u001b[0m \u001b[0mro\u001b[0m\u001b[0;34m.\u001b[0m\u001b[0mr\u001b[0m\u001b[0;34m(\u001b[0m\u001b[0;34m\"withVisible({%s\\n})\"\u001b[0m \u001b[0;34m%\u001b[0m \u001b[0mcode\u001b[0m\u001b[0;34m)\u001b[0m\u001b[0;34m\u001b[0m\u001b[0;34m\u001b[0m\u001b[0m\n\u001b[0m\u001b[1;32m    269\u001b[0m             \u001b[0;32mexcept\u001b[0m \u001b[0;34m(\u001b[0m\u001b[0mri\u001b[0m\u001b[0;34m.\u001b[0m\u001b[0membedded\u001b[0m\u001b[0;34m.\u001b[0m\u001b[0mRRuntimeError\u001b[0m\u001b[0;34m,\u001b[0m \u001b[0mValueError\u001b[0m\u001b[0;34m)\u001b[0m \u001b[0;32mas\u001b[0m \u001b[0mexception\u001b[0m\u001b[0;34m:\u001b[0m\u001b[0;34m\u001b[0m\u001b[0;34m\u001b[0m\u001b[0m\n",
            "\u001b[0;32m/usr/local/lib/python3.7/dist-packages/rpy2/robjects/__init__.py\u001b[0m in \u001b[0;36m__call__\u001b[0;34m(self, string)\u001b[0m\n\u001b[1;32m    437\u001b[0m         \u001b[0mp\u001b[0m \u001b[0;34m=\u001b[0m \u001b[0mrinterface\u001b[0m\u001b[0;34m.\u001b[0m\u001b[0mparse\u001b[0m\u001b[0;34m(\u001b[0m\u001b[0mstring\u001b[0m\u001b[0;34m)\u001b[0m\u001b[0;34m\u001b[0m\u001b[0;34m\u001b[0m\u001b[0m\n\u001b[0;32m--> 438\u001b[0;31m         \u001b[0mres\u001b[0m \u001b[0;34m=\u001b[0m \u001b[0mself\u001b[0m\u001b[0;34m.\u001b[0m\u001b[0meval\u001b[0m\u001b[0;34m(\u001b[0m\u001b[0mp\u001b[0m\u001b[0;34m)\u001b[0m\u001b[0;34m\u001b[0m\u001b[0;34m\u001b[0m\u001b[0m\n\u001b[0m\u001b[1;32m    439\u001b[0m         \u001b[0;32mreturn\u001b[0m \u001b[0mconversion\u001b[0m\u001b[0;34m.\u001b[0m\u001b[0mrpy2py\u001b[0m\u001b[0;34m(\u001b[0m\u001b[0mres\u001b[0m\u001b[0;34m)\u001b[0m\u001b[0;34m\u001b[0m\u001b[0;34m\u001b[0m\u001b[0m\n",
            "\u001b[0;32m/usr/local/lib/python3.7/dist-packages/rpy2/robjects/functions.py\u001b[0m in \u001b[0;36m__call__\u001b[0;34m(self, *args, **kwargs)\u001b[0m\n\u001b[1;32m    198\u001b[0m         return (super(SignatureTranslatedFunction, self)\n\u001b[0;32m--> 199\u001b[0;31m                 .__call__(*args, **kwargs))\n\u001b[0m\u001b[1;32m    200\u001b[0m \u001b[0;34m\u001b[0m\u001b[0m\n",
            "\u001b[0;32m/usr/local/lib/python3.7/dist-packages/rpy2/robjects/functions.py\u001b[0m in \u001b[0;36m__call__\u001b[0;34m(self, *args, **kwargs)\u001b[0m\n\u001b[1;32m    124\u001b[0m                 \u001b[0mnew_kwargs\u001b[0m\u001b[0;34m[\u001b[0m\u001b[0mk\u001b[0m\u001b[0;34m]\u001b[0m \u001b[0;34m=\u001b[0m \u001b[0mconversion\u001b[0m\u001b[0;34m.\u001b[0m\u001b[0mpy2rpy\u001b[0m\u001b[0;34m(\u001b[0m\u001b[0mv\u001b[0m\u001b[0;34m)\u001b[0m\u001b[0;34m\u001b[0m\u001b[0;34m\u001b[0m\u001b[0m\n\u001b[0;32m--> 125\u001b[0;31m         \u001b[0mres\u001b[0m \u001b[0;34m=\u001b[0m \u001b[0msuper\u001b[0m\u001b[0;34m(\u001b[0m\u001b[0mFunction\u001b[0m\u001b[0;34m,\u001b[0m \u001b[0mself\u001b[0m\u001b[0;34m)\u001b[0m\u001b[0;34m.\u001b[0m\u001b[0m__call__\u001b[0m\u001b[0;34m(\u001b[0m\u001b[0;34m*\u001b[0m\u001b[0mnew_args\u001b[0m\u001b[0;34m,\u001b[0m \u001b[0;34m**\u001b[0m\u001b[0mnew_kwargs\u001b[0m\u001b[0;34m)\u001b[0m\u001b[0;34m\u001b[0m\u001b[0;34m\u001b[0m\u001b[0m\n\u001b[0m\u001b[1;32m    126\u001b[0m         \u001b[0mres\u001b[0m \u001b[0;34m=\u001b[0m \u001b[0mconversion\u001b[0m\u001b[0;34m.\u001b[0m\u001b[0mrpy2py\u001b[0m\u001b[0;34m(\u001b[0m\u001b[0mres\u001b[0m\u001b[0;34m)\u001b[0m\u001b[0;34m\u001b[0m\u001b[0;34m\u001b[0m\u001b[0m\n",
            "\u001b[0;32m/usr/local/lib/python3.7/dist-packages/rpy2/rinterface_lib/conversion.py\u001b[0m in \u001b[0;36m_\u001b[0;34m(*args, **kwargs)\u001b[0m\n\u001b[1;32m     44\u001b[0m     \u001b[0;32mdef\u001b[0m \u001b[0m_\u001b[0m\u001b[0;34m(\u001b[0m\u001b[0;34m*\u001b[0m\u001b[0margs\u001b[0m\u001b[0;34m,\u001b[0m \u001b[0;34m**\u001b[0m\u001b[0mkwargs\u001b[0m\u001b[0;34m)\u001b[0m\u001b[0;34m:\u001b[0m\u001b[0;34m\u001b[0m\u001b[0;34m\u001b[0m\u001b[0m\n\u001b[0;32m---> 45\u001b[0;31m         \u001b[0mcdata\u001b[0m \u001b[0;34m=\u001b[0m \u001b[0mfunction\u001b[0m\u001b[0;34m(\u001b[0m\u001b[0;34m*\u001b[0m\u001b[0margs\u001b[0m\u001b[0;34m,\u001b[0m \u001b[0;34m**\u001b[0m\u001b[0mkwargs\u001b[0m\u001b[0;34m)\u001b[0m\u001b[0;34m\u001b[0m\u001b[0;34m\u001b[0m\u001b[0m\n\u001b[0m\u001b[1;32m     46\u001b[0m         \u001b[0;31m# TODO: test cdata is of the expected CType\u001b[0m\u001b[0;34m\u001b[0m\u001b[0;34m\u001b[0m\u001b[0;34m\u001b[0m\u001b[0m\n",
            "\u001b[0;32m/usr/local/lib/python3.7/dist-packages/rpy2/rinterface.py\u001b[0m in \u001b[0;36m__call__\u001b[0;34m(self, *args, **kwargs)\u001b[0m\n\u001b[1;32m    679\u001b[0m             \u001b[0;32mif\u001b[0m \u001b[0merror_occured\u001b[0m\u001b[0;34m[\u001b[0m\u001b[0;36m0\u001b[0m\u001b[0;34m]\u001b[0m\u001b[0;34m:\u001b[0m\u001b[0;34m\u001b[0m\u001b[0;34m\u001b[0m\u001b[0m\n\u001b[0;32m--> 680\u001b[0;31m                 \u001b[0;32mraise\u001b[0m \u001b[0membedded\u001b[0m\u001b[0;34m.\u001b[0m\u001b[0mRRuntimeError\u001b[0m\u001b[0;34m(\u001b[0m\u001b[0m_rinterface\u001b[0m\u001b[0;34m.\u001b[0m\u001b[0m_geterrmessage\u001b[0m\u001b[0;34m(\u001b[0m\u001b[0;34m)\u001b[0m\u001b[0;34m)\u001b[0m\u001b[0;34m\u001b[0m\u001b[0;34m\u001b[0m\u001b[0m\n\u001b[0m\u001b[1;32m    681\u001b[0m         \u001b[0;32mreturn\u001b[0m \u001b[0mres\u001b[0m\u001b[0;34m\u001b[0m\u001b[0;34m\u001b[0m\u001b[0m\n",
            "\u001b[0;31mRRuntimeError\u001b[0m: Error in emmfcn(...) : \n  No variable named MilkingType in the reference grid\n",
            "\nDuring handling of the above exception, another exception occurred:\n",
            "\u001b[0;31mRInterpreterError\u001b[0m                         Traceback (most recent call last)",
            "\u001b[0;32m<ipython-input-36-71d55d5fb209>\u001b[0m in \u001b[0;36m<module>\u001b[0;34m()\u001b[0m\n\u001b[0;32m----> 1\u001b[0;31m \u001b[0mget_ipython\u001b[0m\u001b[0;34m(\u001b[0m\u001b[0;34m)\u001b[0m\u001b[0;34m.\u001b[0m\u001b[0mrun_cell_magic\u001b[0m\u001b[0;34m(\u001b[0m\u001b[0;34m'R'\u001b[0m\u001b[0;34m,\u001b[0m \u001b[0;34m''\u001b[0m\u001b[0;34m,\u001b[0m \u001b[0;34m'multcomp::cld(lsmeans::lsmeans(finalModel, ~ MilkingType), alpha=0.05, Letters=letters, adjust=\"tukey\")'\u001b[0m\u001b[0;34m)\u001b[0m\u001b[0;34m\u001b[0m\u001b[0;34m\u001b[0m\u001b[0m\n\u001b[0m",
            "\u001b[0;32m/usr/local/lib/python3.7/dist-packages/IPython/core/interactiveshell.py\u001b[0m in \u001b[0;36mrun_cell_magic\u001b[0;34m(self, magic_name, line, cell)\u001b[0m\n\u001b[1;32m   2115\u001b[0m             \u001b[0mmagic_arg_s\u001b[0m \u001b[0;34m=\u001b[0m \u001b[0mself\u001b[0m\u001b[0;34m.\u001b[0m\u001b[0mvar_expand\u001b[0m\u001b[0;34m(\u001b[0m\u001b[0mline\u001b[0m\u001b[0;34m,\u001b[0m \u001b[0mstack_depth\u001b[0m\u001b[0;34m)\u001b[0m\u001b[0;34m\u001b[0m\u001b[0;34m\u001b[0m\u001b[0m\n\u001b[1;32m   2116\u001b[0m             \u001b[0;32mwith\u001b[0m \u001b[0mself\u001b[0m\u001b[0;34m.\u001b[0m\u001b[0mbuiltin_trap\u001b[0m\u001b[0;34m:\u001b[0m\u001b[0;34m\u001b[0m\u001b[0;34m\u001b[0m\u001b[0m\n\u001b[0;32m-> 2117\u001b[0;31m                 \u001b[0mresult\u001b[0m \u001b[0;34m=\u001b[0m \u001b[0mfn\u001b[0m\u001b[0;34m(\u001b[0m\u001b[0mmagic_arg_s\u001b[0m\u001b[0;34m,\u001b[0m \u001b[0mcell\u001b[0m\u001b[0;34m)\u001b[0m\u001b[0;34m\u001b[0m\u001b[0;34m\u001b[0m\u001b[0m\n\u001b[0m\u001b[1;32m   2118\u001b[0m             \u001b[0;32mreturn\u001b[0m \u001b[0mresult\u001b[0m\u001b[0;34m\u001b[0m\u001b[0;34m\u001b[0m\u001b[0m\n\u001b[1;32m   2119\u001b[0m \u001b[0;34m\u001b[0m\u001b[0m\n",
            "\u001b[0;32m<decorator-gen-119>\u001b[0m in \u001b[0;36mR\u001b[0;34m(self, line, cell, local_ns)\u001b[0m\n",
            "\u001b[0;32m/usr/local/lib/python3.7/dist-packages/IPython/core/magic.py\u001b[0m in \u001b[0;36m<lambda>\u001b[0;34m(f, *a, **k)\u001b[0m\n\u001b[1;32m    186\u001b[0m     \u001b[0;31m# but it's overkill for just that one bit of state.\u001b[0m\u001b[0;34m\u001b[0m\u001b[0;34m\u001b[0m\u001b[0;34m\u001b[0m\u001b[0m\n\u001b[1;32m    187\u001b[0m     \u001b[0;32mdef\u001b[0m \u001b[0mmagic_deco\u001b[0m\u001b[0;34m(\u001b[0m\u001b[0marg\u001b[0m\u001b[0;34m)\u001b[0m\u001b[0;34m:\u001b[0m\u001b[0;34m\u001b[0m\u001b[0;34m\u001b[0m\u001b[0m\n\u001b[0;32m--> 188\u001b[0;31m         \u001b[0mcall\u001b[0m \u001b[0;34m=\u001b[0m \u001b[0;32mlambda\u001b[0m \u001b[0mf\u001b[0m\u001b[0;34m,\u001b[0m \u001b[0;34m*\u001b[0m\u001b[0ma\u001b[0m\u001b[0;34m,\u001b[0m \u001b[0;34m**\u001b[0m\u001b[0mk\u001b[0m\u001b[0;34m:\u001b[0m \u001b[0mf\u001b[0m\u001b[0;34m(\u001b[0m\u001b[0;34m*\u001b[0m\u001b[0ma\u001b[0m\u001b[0;34m,\u001b[0m \u001b[0;34m**\u001b[0m\u001b[0mk\u001b[0m\u001b[0;34m)\u001b[0m\u001b[0;34m\u001b[0m\u001b[0;34m\u001b[0m\u001b[0m\n\u001b[0m\u001b[1;32m    189\u001b[0m \u001b[0;34m\u001b[0m\u001b[0m\n\u001b[1;32m    190\u001b[0m         \u001b[0;32mif\u001b[0m \u001b[0mcallable\u001b[0m\u001b[0;34m(\u001b[0m\u001b[0marg\u001b[0m\u001b[0;34m)\u001b[0m\u001b[0;34m:\u001b[0m\u001b[0;34m\u001b[0m\u001b[0;34m\u001b[0m\u001b[0m\n",
            "\u001b[0;32m/usr/local/lib/python3.7/dist-packages/rpy2/ipython/rmagic.py\u001b[0m in \u001b[0;36mR\u001b[0;34m(self, line, cell, local_ns)\u001b[0m\n\u001b[1;32m    781\u001b[0m             \u001b[0;32mif\u001b[0m \u001b[0;32mnot\u001b[0m \u001b[0me\u001b[0m\u001b[0;34m.\u001b[0m\u001b[0mstdout\u001b[0m\u001b[0;34m.\u001b[0m\u001b[0mendswith\u001b[0m\u001b[0;34m(\u001b[0m\u001b[0me\u001b[0m\u001b[0;34m.\u001b[0m\u001b[0merr\u001b[0m\u001b[0;34m)\u001b[0m\u001b[0;34m:\u001b[0m\u001b[0;34m\u001b[0m\u001b[0;34m\u001b[0m\u001b[0m\n\u001b[1;32m    782\u001b[0m                 \u001b[0mprint\u001b[0m\u001b[0;34m(\u001b[0m\u001b[0me\u001b[0m\u001b[0;34m.\u001b[0m\u001b[0merr\u001b[0m\u001b[0;34m)\u001b[0m\u001b[0;34m\u001b[0m\u001b[0;34m\u001b[0m\u001b[0m\n\u001b[0;32m--> 783\u001b[0;31m             \u001b[0;32mraise\u001b[0m \u001b[0me\u001b[0m\u001b[0;34m\u001b[0m\u001b[0;34m\u001b[0m\u001b[0m\n\u001b[0m\u001b[1;32m    784\u001b[0m         \u001b[0;32mfinally\u001b[0m\u001b[0;34m:\u001b[0m\u001b[0;34m\u001b[0m\u001b[0;34m\u001b[0m\u001b[0m\n\u001b[1;32m    785\u001b[0m             \u001b[0;32mif\u001b[0m \u001b[0mself\u001b[0m\u001b[0;34m.\u001b[0m\u001b[0mdevice\u001b[0m \u001b[0;32min\u001b[0m \u001b[0;34m[\u001b[0m\u001b[0;34m'png'\u001b[0m\u001b[0;34m,\u001b[0m \u001b[0;34m'svg'\u001b[0m\u001b[0;34m]\u001b[0m\u001b[0;34m:\u001b[0m\u001b[0;34m\u001b[0m\u001b[0;34m\u001b[0m\u001b[0m\n",
            "\u001b[0;32m/usr/local/lib/python3.7/dist-packages/rpy2/ipython/rmagic.py\u001b[0m in \u001b[0;36mR\u001b[0;34m(self, line, cell, local_ns)\u001b[0m\n\u001b[1;32m    761\u001b[0m                     \u001b[0mreturn_output\u001b[0m \u001b[0;34m=\u001b[0m \u001b[0;32mFalse\u001b[0m\u001b[0;34m\u001b[0m\u001b[0;34m\u001b[0m\u001b[0m\n\u001b[1;32m    762\u001b[0m             \u001b[0;32melse\u001b[0m\u001b[0;34m:\u001b[0m\u001b[0;34m\u001b[0m\u001b[0;34m\u001b[0m\u001b[0m\n\u001b[0;32m--> 763\u001b[0;31m                 \u001b[0mtext_result\u001b[0m\u001b[0;34m,\u001b[0m \u001b[0mresult\u001b[0m\u001b[0;34m,\u001b[0m \u001b[0mvisible\u001b[0m \u001b[0;34m=\u001b[0m \u001b[0mself\u001b[0m\u001b[0;34m.\u001b[0m\u001b[0meval\u001b[0m\u001b[0;34m(\u001b[0m\u001b[0mcode\u001b[0m\u001b[0;34m)\u001b[0m\u001b[0;34m\u001b[0m\u001b[0;34m\u001b[0m\u001b[0m\n\u001b[0m\u001b[1;32m    764\u001b[0m                 \u001b[0mtext_output\u001b[0m \u001b[0;34m+=\u001b[0m \u001b[0mtext_result\u001b[0m\u001b[0;34m\u001b[0m\u001b[0;34m\u001b[0m\u001b[0m\n\u001b[1;32m    765\u001b[0m                 \u001b[0;32mif\u001b[0m \u001b[0mvisible\u001b[0m\u001b[0;34m:\u001b[0m\u001b[0;34m\u001b[0m\u001b[0;34m\u001b[0m\u001b[0m\n",
            "\u001b[0;32m/usr/local/lib/python3.7/dist-packages/rpy2/ipython/rmagic.py\u001b[0m in \u001b[0;36meval\u001b[0;34m(self, code)\u001b[0m\n\u001b[1;32m    271\u001b[0m                 \u001b[0mwarning_or_other_msg\u001b[0m \u001b[0;34m=\u001b[0m \u001b[0mself\u001b[0m\u001b[0;34m.\u001b[0m\u001b[0mflush\u001b[0m\u001b[0;34m(\u001b[0m\u001b[0;34m)\u001b[0m\u001b[0;34m\u001b[0m\u001b[0;34m\u001b[0m\u001b[0m\n\u001b[1;32m    272\u001b[0m                 raise RInterpreterError(code, str(exception),\n\u001b[0;32m--> 273\u001b[0;31m                                         warning_or_other_msg)\n\u001b[0m\u001b[1;32m    274\u001b[0m             \u001b[0mtext_output\u001b[0m \u001b[0;34m=\u001b[0m \u001b[0mself\u001b[0m\u001b[0;34m.\u001b[0m\u001b[0mflush\u001b[0m\u001b[0;34m(\u001b[0m\u001b[0;34m)\u001b[0m\u001b[0;34m\u001b[0m\u001b[0;34m\u001b[0m\u001b[0m\n\u001b[1;32m    275\u001b[0m             \u001b[0;32mreturn\u001b[0m \u001b[0mtext_output\u001b[0m\u001b[0;34m,\u001b[0m \u001b[0mvalue\u001b[0m\u001b[0;34m,\u001b[0m \u001b[0mvisible\u001b[0m\u001b[0;34m[\u001b[0m\u001b[0;36m0\u001b[0m\u001b[0;34m]\u001b[0m\u001b[0;34m\u001b[0m\u001b[0;34m\u001b[0m\u001b[0m\n",
            "\u001b[0;31mRInterpreterError\u001b[0m: Failed to parse and evaluate line 'multcomp::cld(lsmeans::lsmeans(finalModel, ~ MilkingType), alpha=0.05, Letters=letters, adjust=\"tukey\")'.\nR error message: 'Error in emmfcn(...) : \\n  No variable named MilkingType in the reference grid'"
          ]
        }
      ]
    },
    {
      "cell_type": "markdown",
      "metadata": {
        "id": "duGZylmVgTAP"
      },
      "source": [
        "## Interactions"
      ]
    },
    {
      "cell_type": "markdown",
      "metadata": {
        "id": "bjo6rxOpgeIH"
      },
      "source": [
        "### MonthsInMilk by parity"
      ]
    },
    {
      "cell_type": "code",
      "metadata": {
        "colab": {
          "base_uri": "https://localhost:8080/"
        },
        "id": "tW4ttmjJgeuQ",
        "outputId": "1d90ab88-db19-45bd-db89-0328b9c75201"
      },
      "source": [
        "%%R\n",
        "LSMs<-lsmeans::lsmeans(finalModel, pairwise ~ MonthsInMilk|Parity, type = \"response\", glhargs=list())\n",
        "multcomp::cld(LSMs[[1]], alpha=0.05, Letters=letters, adjust=\"tukey\")\n",
        "confint(LSMs$contrasts)"
      ],
      "execution_count": null,
      "outputs": [
        {
          "output_type": "stream",
          "name": "stderr",
          "text": [
            "R[write to console]: Note: D.f. calculations have been disabled because the number of observations exceeds 3000.\n",
            "To enable adjustments, add the argument 'pbkrtest.limit = 42548' (or larger)\n",
            "[or, globally, 'set emm_options(pbkrtest.limit = 42548)' or larger];\n",
            "but be warned that this may result in large computation time and memory use.\n",
            "\n",
            "R[write to console]: Note: D.f. calculations have been disabled because the number of observations exceeds 3000.\n",
            "To enable adjustments, add the argument 'lmerTest.limit = 42548' (or larger)\n",
            "[or, globally, 'set emm_options(lmerTest.limit = 42548)' or larger];\n",
            "but be warned that this may result in large computation time and memory use.\n",
            "\n",
            "R[write to console]: Note: adjust = \"tukey\" was changed to \"sidak\"\n",
            "because \"tukey\" is only appropriate for one set of pairwise comparisons\n",
            "\n"
          ]
        },
        {
          "output_type": "stream",
          "name": "stdout",
          "text": [
            "Parity = 1:\n",
            " contrast  estimate   SE  df asymp.LCL asymp.UCL\n",
            " (-1) - 0  -20.8286 3.57 Inf   -32.498   -9.1591\n",
            " (-1) - 1  -29.3407 3.63 Inf   -41.217  -17.4646\n",
            " (-1) - 2  -42.8967 3.62 Inf   -54.723  -31.0701\n",
            " (-1) - 3  -59.1515 3.62 Inf   -70.968  -47.3354\n",
            " (-1) - 4  -69.5615 3.63 Inf   -81.438  -57.6852\n",
            " (-1) - 5  -80.1094 3.67 Inf   -92.111  -68.1079\n",
            " (-1) - 6  -85.3439 3.71 Inf   -97.473  -73.2145\n",
            " (-1) - 7  -87.3038 3.75 Inf   -99.567  -75.0406\n",
            " (-1) - 8  -87.5880 3.79 Inf   -99.985  -75.1915\n",
            " (-1) - 9  -88.8587 3.84 Inf  -101.411  -76.3064\n",
            " (-1) - 10 -86.6713 3.88 Inf   -99.344  -73.9983\n",
            " 0 - 1      -8.5120 3.17 Inf   -18.870    1.8459\n",
            " 0 - 2     -22.0681 3.15 Inf   -32.355  -11.7813\n",
            " 0 - 3     -38.3229 3.14 Inf   -48.580  -28.0653\n",
            " 0 - 4     -48.7329 3.15 Inf   -59.040  -38.4259\n",
            " 0 - 5     -59.2808 3.19 Inf   -69.715  -48.8464\n",
            " 0 - 6     -64.5153 3.23 Inf   -75.077  -53.9532\n",
            " 0 - 7     -66.4752 3.27 Inf   -77.172  -55.7784\n",
            " 0 - 8     -66.7594 3.32 Inf   -77.593  -55.9257\n",
            " 0 - 9     -68.0301 3.36 Inf   -79.026  -57.0343\n",
            " 0 - 10    -65.8427 3.40 Inf   -76.959  -54.7268\n",
            " 1 - 2     -13.5561 3.19 Inf   -23.996   -3.1163\n",
            " 1 - 3     -29.8108 3.18 Inf   -40.207  -19.4151\n",
            " 1 - 4     -40.2209 3.19 Inf   -50.648  -29.7936\n",
            " 1 - 5     -50.7688 3.22 Inf   -61.305  -40.2326\n",
            " 1 - 6     -56.0033 3.26 Inf   -66.649  -45.3573\n",
            " 1 - 7     -57.9631 3.29 Inf   -68.726  -47.2002\n",
            " 1 - 8     -58.2473 3.33 Inf   -69.130  -47.3646\n",
            " 1 - 9     -59.5181 3.37 Inf   -70.547  -48.4888\n",
            " 1 - 10    -57.3306 3.41 Inf   -68.464  -46.1971\n",
            " 2 - 3     -16.2548 3.13 Inf   -26.493   -6.0162\n",
            " 2 - 4     -26.6648 3.14 Inf   -36.916  -16.4133\n",
            " 2 - 5     -37.2127 3.17 Inf   -47.556  -26.8690\n",
            " 2 - 6     -42.4472 3.19 Inf   -52.885  -32.0095\n",
            " 2 - 7     -44.4071 3.22 Inf   -54.946  -33.8679\n",
            " 2 - 8     -44.6913 3.26 Inf   -55.336  -34.0465\n",
            " 2 - 9     -45.9620 3.30 Inf   -56.740  -35.1840\n",
            " 2 - 10    -43.7746 3.33 Inf   -54.643  -32.9065\n",
            " 3 - 4     -10.4100 3.10 Inf   -20.537   -0.2831\n",
            " 3 - 5     -20.9579 3.12 Inf   -31.159  -10.7570\n",
            " 3 - 6     -26.1924 3.15 Inf   -36.470  -15.9144\n",
            " 3 - 7     -28.1523 3.17 Inf   -38.515  -17.7895\n",
            " 3 - 8     -28.4365 3.20 Inf   -38.889  -17.9843\n",
            " 3 - 9     -29.7072 3.23 Inf   -40.278  -19.1369\n",
            " 3 - 10    -27.5198 3.26 Inf   -38.165  -16.8750\n",
            " 4 - 5     -10.5479 3.10 Inf   -20.694   -0.4014\n",
            " 4 - 6     -15.7824 3.12 Inf   -25.988   -5.5770\n",
            " 4 - 7     -17.7423 3.14 Inf   -28.015   -7.4700\n",
            " 4 - 8     -18.0265 3.17 Inf   -28.371   -7.6823\n",
            " 4 - 9     -19.2972 3.20 Inf   -29.744   -8.8503\n",
            " 4 - 10    -17.1098 3.21 Inf   -27.615   -6.6048\n",
            " 5 - 6      -5.2345 3.13 Inf   -15.450    4.9812\n",
            " 5 - 7      -7.1944 3.14 Inf   -17.458    3.0697\n",
            " 5 - 8      -7.4786 3.16 Inf   -17.797    2.8401\n",
            " 5 - 9      -8.7493 3.18 Inf   -19.153    1.6544\n",
            " 5 - 10     -6.5619 3.20 Inf   -17.007    3.8830\n",
            " 6 - 7      -1.9599 3.14 Inf   -12.217    8.2974\n",
            " 6 - 8      -2.2441 3.15 Inf   -12.538    8.0497\n",
            " 6 - 9      -3.5148 3.17 Inf   -13.876    6.8466\n",
            " 6 - 10     -1.3274 3.18 Inf   -11.714    9.0594\n",
            " 7 - 8      -0.2842 3.14 Inf   -10.562    9.9933\n",
            " 7 - 9      -1.5549 3.16 Inf   -11.882    8.7722\n",
            " 7 - 10      0.6325 3.16 Inf    -9.703   10.9677\n",
            " 8 - 9      -1.2707 3.15 Inf   -11.569    9.0276\n",
            " 8 - 10      0.9167 3.15 Inf    -9.372   11.2058\n",
            " 9 - 10      2.1874 3.14 Inf    -8.077   12.4518\n",
            "\n",
            "Parity = 2:\n",
            " contrast  estimate   SE  df asymp.LCL asymp.UCL\n",
            " (-1) - 0   19.1447 3.10 Inf     9.020   29.2699\n",
            " (-1) - 1   29.9961 3.16 Inf    19.656   40.3367\n",
            " (-1) - 2   24.2416 3.18 Inf    13.863   34.6204\n",
            " (-1) - 3   23.3518 3.19 Inf    12.917   33.7863\n",
            " (-1) - 4   22.3155 3.23 Inf    11.773   32.8577\n",
            " (-1) - 5   18.4824 3.25 Inf     7.853   29.1118\n",
            " (-1) - 6   18.9649 3.29 Inf     8.223   29.7069\n",
            " (-1) - 7   19.3130 3.32 Inf     8.450   30.1762\n",
            " (-1) - 8   23.2233 3.37 Inf    12.222   34.2249\n",
            " (-1) - 9   24.1770 3.43 Inf    12.983   35.3710\n",
            " (-1) - 10  28.9416 3.48 Inf    17.563   40.3197\n",
            " 0 - 1      10.8514 3.10 Inf     0.720   20.9831\n",
            " 0 - 2       5.0969 3.11 Inf    -5.055   15.2492\n",
            " 0 - 3       4.2071 3.12 Inf    -5.984   14.3979\n",
            " 0 - 4       3.1708 3.15 Inf    -7.113   13.4543\n",
            " 0 - 5      -0.6623 3.17 Inf   -11.018    9.6932\n",
            " 0 - 6      -0.1798 3.20 Inf   -10.634   10.2741\n",
            " 0 - 7       0.1683 3.23 Inf   -10.393   10.7300\n",
            " 0 - 8       4.0786 3.27 Inf    -6.609   14.7665\n",
            " 0 - 9       5.0323 3.33 Inf    -5.838   15.9026\n",
            " 0 - 10      9.7969 3.38 Inf    -1.248   20.8418\n",
            " 1 - 2      -5.7545 3.15 Inf   -16.050    4.5412\n",
            " 1 - 3      -6.6443 3.16 Inf   -16.961    3.6725\n",
            " 1 - 4      -7.6806 3.18 Inf   -18.071    2.7103\n",
            " 1 - 5     -11.5137 3.20 Inf   -21.959   -1.0680\n",
            " 1 - 6     -11.0312 3.22 Inf   -21.558   -0.5042\n",
            " 1 - 7     -10.6831 3.25 Inf   -21.301   -0.0648\n",
            " 1 - 8      -6.7728 3.28 Inf   -17.502    3.9561\n",
            " 1 - 9      -5.8191 3.33 Inf   -16.715    5.0765\n",
            " 1 - 10     -1.0545 3.38 Inf   -12.110   10.0009\n",
            " 2 - 3      -0.8898 3.14 Inf   -11.166    9.3863\n",
            " 2 - 4      -1.9260 3.16 Inf   -12.259    8.4070\n",
            " 2 - 5      -5.7591 3.17 Inf   -16.130    4.6120\n",
            " 2 - 6      -5.2767 3.19 Inf   -15.713    5.1597\n",
            " 2 - 7      -4.9286 3.22 Inf   -15.441    5.5835\n",
            " 2 - 8      -1.0183 3.25 Inf   -11.626    9.5894\n",
            " 2 - 9      -0.0645 3.29 Inf   -10.825   10.6963\n",
            " 2 - 10      4.7000 3.34 Inf    -6.207   15.6073\n",
            " 3 - 4      -1.0362 3.15 Inf   -11.330    9.2577\n",
            " 3 - 5      -4.8693 3.16 Inf   -15.184    5.4456\n",
            " 3 - 6      -4.3869 3.17 Inf   -14.750    5.9764\n",
            " 3 - 7      -4.0388 3.19 Inf   -14.462    6.3841\n",
            " 3 - 8      -0.1285 3.21 Inf   -10.631   10.3743\n",
            " 3 - 9       0.8253 3.26 Inf    -9.816   11.4669\n",
            " 3 - 10      5.5898 3.30 Inf    -5.184   16.3640\n",
            " 4 - 5      -3.8331 3.16 Inf   -14.144    6.4776\n",
            " 4 - 6      -3.3506 3.16 Inf   -13.693    6.9913\n",
            " 4 - 7      -3.0026 3.18 Inf   -13.388    7.3833\n",
            " 4 - 8       0.9078 3.20 Inf    -9.542   11.3574\n",
            " 4 - 9       1.8615 3.24 Inf    -8.712   12.4345\n",
            " 4 - 10      6.6261 3.27 Inf    -4.065   17.3168\n",
            " 5 - 6       0.4824 3.15 Inf    -9.819   10.7836\n",
            " 5 - 7       0.8305 3.16 Inf    -9.499   11.1598\n",
            " 5 - 8       4.7409 3.18 Inf    -5.635   15.1172\n",
            " 5 - 9       5.6946 3.21 Inf    -4.790   16.1788\n",
            " 5 - 10     10.4591 3.24 Inf    -0.127   21.0458\n",
            " 6 - 7       0.3481 3.15 Inf    -9.950   10.6464\n",
            " 6 - 8       4.2584 3.16 Inf    -6.070   14.5868\n",
            " 6 - 9       5.2121 3.19 Inf    -5.208   15.6319\n",
            " 6 - 10      9.9767 3.22 Inf    -0.530   20.4837\n",
            " 7 - 8       3.9104 3.15 Inf    -6.380   14.2006\n",
            " 7 - 9       4.8641 3.17 Inf    -5.502   15.2302\n",
            " 7 - 10      9.6286 3.19 Inf    -0.809   20.0662\n",
            " 8 - 9       0.9537 3.16 Inf    -9.380   11.2872\n",
            " 8 - 10      5.7183 3.18 Inf    -4.671   16.1078\n",
            " 9 - 10      4.7645 3.18 Inf    -5.635   15.1644\n",
            "\n",
            "Parity = 3+:\n",
            " contrast  estimate   SE  df asymp.LCL asymp.UCL\n",
            " (-1) - 0   13.3035 2.04 Inf     6.629   19.9781\n",
            " (-1) - 1   25.5097 2.15 Inf    18.485   32.5346\n",
            " (-1) - 2    9.8989 2.19 Inf     2.758   17.0397\n",
            " (-1) - 3    6.0778 2.22 Inf    -1.188   13.3441\n",
            " (-1) - 4    5.4603 2.27 Inf    -1.947   12.8671\n",
            " (-1) - 5    4.2338 2.32 Inf    -3.337   11.8046\n",
            " (-1) - 6    1.4926 2.38 Inf    -6.287    9.2725\n",
            " (-1) - 7    0.4632 2.45 Inf    -7.548    8.4746\n",
            " (-1) - 8    2.6579 2.52 Inf    -5.572   10.8880\n",
            " (-1) - 9    5.0168 2.60 Inf    -3.466   13.4999\n",
            " (-1) - 10   8.2491 2.68 Inf    -0.509   17.0071\n",
            " 0 - 1      12.2062 2.12 Inf     5.287   19.1258\n",
            " 0 - 2      -3.4045 2.15 Inf   -10.416    3.6074\n",
            " 0 - 3      -7.2257 2.18 Inf   -14.340   -0.1111\n",
            " 0 - 4      -7.8432 2.21 Inf   -15.076   -0.6100\n",
            " 0 - 5      -9.0697 2.26 Inf   -16.446   -1.6931\n",
            " 0 - 6     -11.8109 2.32 Inf   -19.378   -4.2439\n",
            " 0 - 7     -12.8403 2.38 Inf   -20.622   -5.0588\n",
            " 0 - 8     -10.6456 2.44 Inf   -18.629   -2.6617\n",
            " 0 - 9      -8.2867 2.52 Inf   -16.509   -0.0641\n",
            " 0 - 10     -5.0544 2.60 Inf   -13.539    3.4301\n",
            " 1 - 2     -15.6108 2.22 Inf   -22.875   -8.3461\n",
            " 1 - 3     -19.4319 2.25 Inf   -26.773  -12.0913\n",
            " 1 - 4     -20.0494 2.27 Inf   -27.482  -12.6166\n",
            " 1 - 5     -21.2759 2.31 Inf   -28.826  -13.7258\n",
            " 1 - 6     -24.0171 2.36 Inf   -31.732  -16.3025\n",
            " 1 - 7     -25.0465 2.42 Inf   -32.950  -17.1432\n",
            " 1 - 8     -22.8518 2.47 Inf   -30.934  -14.7700\n",
            " 1 - 9     -20.4929 2.54 Inf   -28.790  -12.1957\n",
            " 1 - 10    -17.2606 2.61 Inf   -25.797   -8.7241\n",
            " 2 - 3      -3.8211 2.25 Inf   -11.170    3.5273\n",
            " 2 - 4      -4.4387 2.27 Inf   -11.855    2.9772\n",
            " 2 - 5      -5.6652 2.30 Inf   -13.175    1.8442\n",
            " 2 - 6      -8.4063 2.34 Inf   -16.058   -0.7550\n",
            " 2 - 7      -9.4357 2.39 Inf   -17.254   -1.6175\n",
            " 2 - 8      -7.2411 2.44 Inf   -15.217    0.7350\n",
            " 2 - 9      -4.8822 2.50 Inf   -13.054    3.2900\n",
            " 2 - 10     -1.6498 2.57 Inf   -10.043    6.7434\n",
            " 3 - 4      -0.6175 2.27 Inf    -8.029    6.7941\n",
            " 3 - 5      -1.8440 2.29 Inf    -9.325    5.6368\n",
            " 3 - 6      -4.5852 2.33 Inf   -12.185    3.0144\n",
            " 3 - 7      -5.6146 2.37 Inf   -13.358    2.1291\n",
            " 3 - 8      -3.4199 2.41 Inf   -11.300    4.4598\n",
            " 3 - 9      -1.0610 2.46 Inf    -9.117    6.9945\n",
            " 3 - 10      2.1713 2.53 Inf    -6.086   10.4288\n",
            " 4 - 5      -1.2265 2.28 Inf    -8.694    6.2409\n",
            " 4 - 6      -3.9676 2.31 Inf   -11.530    3.5945\n",
            " 4 - 7      -4.9970 2.35 Inf   -12.680    2.6863\n",
            " 4 - 8      -2.8024 2.39 Inf   -10.599    4.9944\n",
            " 4 - 9      -0.4435 2.43 Inf    -8.395    7.5080\n",
            " 4 - 10      2.7889 2.49 Inf    -5.345   10.9223\n",
            " 5 - 6      -2.7412 2.31 Inf   -10.292    4.8098\n",
            " 5 - 7      -3.7706 2.34 Inf   -11.419    3.8776\n",
            " 5 - 8      -1.5759 2.37 Inf    -9.314    6.1624\n",
            " 5 - 9       0.7830 2.41 Inf    -7.088    8.6539\n",
            " 5 - 10      4.0153 2.46 Inf    -4.016   12.0469\n",
            " 6 - 7      -1.0294 2.34 Inf    -8.688    6.6291\n",
            " 6 - 8       1.1653 2.36 Inf    -6.559    8.8898\n",
            " 6 - 9       3.5242 2.40 Inf    -4.310   11.3586\n",
            " 6 - 10      6.7565 2.44 Inf    -1.216   14.7289\n",
            " 7 - 8       2.1947 2.37 Inf    -5.545    9.9343\n",
            " 7 - 9       4.5536 2.39 Inf    -3.272   12.3791\n",
            " 7 - 10      7.7859 2.43 Inf    -0.154   15.7262\n",
            " 8 - 9       2.3589 2.39 Inf    -5.448   10.1659\n",
            " 8 - 10      5.5912 2.42 Inf    -2.307   13.4894\n",
            " 9 - 10      3.2323 2.42 Inf    -4.666   11.1308\n",
            "\n",
            "Results are averaged over the levels of: CalvingSeason, HerdIdentifier \n",
            "Degrees-of-freedom method: asymptotic \n",
            "Confidence level used: 0.95 \n",
            "Conf-level adjustment: tukey method for comparing a family of 12 estimates \n"
          ]
        }
      ]
    },
    {
      "cell_type": "code",
      "metadata": {
        "colab": {
          "base_uri": "https://localhost:8080/"
        },
        "id": "QTRc5csbAfbN",
        "outputId": "9e120446-3c79-405f-db64-0316b969d18c"
      },
      "source": [
        "%%R\n",
        "LSMs<-lsmeans::lsmeans(finalModel, pairwise ~ MonthsInMilk|Parity, type = \"response\", glhargs=list())\n",
        "confint(LSMs$contrasts)"
      ],
      "execution_count": null,
      "outputs": [
        {
          "output_type": "stream",
          "name": "stderr",
          "text": [
            "R[write to console]: Note: D.f. calculations have been disabled because the number of observations exceeds 3000.\n",
            "To enable adjustments, add the argument 'pbkrtest.limit = 42548' (or larger)\n",
            "[or, globally, 'set emm_options(pbkrtest.limit = 42548)' or larger];\n",
            "but be warned that this may result in large computation time and memory use.\n",
            "\n",
            "R[write to console]: Note: D.f. calculations have been disabled because the number of observations exceeds 3000.\n",
            "To enable adjustments, add the argument 'lmerTest.limit = 42548' (or larger)\n",
            "[or, globally, 'set emm_options(lmerTest.limit = 42548)' or larger];\n",
            "but be warned that this may result in large computation time and memory use.\n",
            "\n"
          ]
        },
        {
          "output_type": "stream",
          "name": "stdout",
          "text": [
            "Parity = 1:\n",
            " contrast  estimate   SE  df asymp.LCL asymp.UCL\n",
            " (-1) - 0  -20.8286 3.57 Inf   -32.498   -9.1591\n",
            " (-1) - 1  -29.3407 3.63 Inf   -41.217  -17.4646\n",
            " (-1) - 2  -42.8967 3.62 Inf   -54.723  -31.0701\n",
            " (-1) - 3  -59.1515 3.62 Inf   -70.968  -47.3354\n",
            " (-1) - 4  -69.5615 3.63 Inf   -81.438  -57.6852\n",
            " (-1) - 5  -80.1094 3.67 Inf   -92.111  -68.1079\n",
            " (-1) - 6  -85.3439 3.71 Inf   -97.473  -73.2145\n",
            " (-1) - 7  -87.3038 3.75 Inf   -99.567  -75.0406\n",
            " (-1) - 8  -87.5880 3.79 Inf   -99.985  -75.1915\n",
            " (-1) - 9  -88.8587 3.84 Inf  -101.411  -76.3064\n",
            " (-1) - 10 -86.6713 3.88 Inf   -99.344  -73.9983\n",
            " 0 - 1      -8.5120 3.17 Inf   -18.870    1.8459\n",
            " 0 - 2     -22.0681 3.15 Inf   -32.355  -11.7813\n",
            " 0 - 3     -38.3229 3.14 Inf   -48.580  -28.0653\n",
            " 0 - 4     -48.7329 3.15 Inf   -59.040  -38.4259\n",
            " 0 - 5     -59.2808 3.19 Inf   -69.715  -48.8464\n",
            " 0 - 6     -64.5153 3.23 Inf   -75.077  -53.9532\n",
            " 0 - 7     -66.4752 3.27 Inf   -77.172  -55.7784\n",
            " 0 - 8     -66.7594 3.32 Inf   -77.593  -55.9257\n",
            " 0 - 9     -68.0301 3.36 Inf   -79.026  -57.0343\n",
            " 0 - 10    -65.8427 3.40 Inf   -76.959  -54.7268\n",
            " 1 - 2     -13.5561 3.19 Inf   -23.996   -3.1163\n",
            " 1 - 3     -29.8108 3.18 Inf   -40.207  -19.4151\n",
            " 1 - 4     -40.2209 3.19 Inf   -50.648  -29.7936\n",
            " 1 - 5     -50.7688 3.22 Inf   -61.305  -40.2326\n",
            " 1 - 6     -56.0033 3.26 Inf   -66.649  -45.3573\n",
            " 1 - 7     -57.9631 3.29 Inf   -68.726  -47.2002\n",
            " 1 - 8     -58.2473 3.33 Inf   -69.130  -47.3646\n",
            " 1 - 9     -59.5181 3.37 Inf   -70.547  -48.4888\n",
            " 1 - 10    -57.3306 3.41 Inf   -68.464  -46.1971\n",
            " 2 - 3     -16.2548 3.13 Inf   -26.493   -6.0162\n",
            " 2 - 4     -26.6648 3.14 Inf   -36.916  -16.4133\n",
            " 2 - 5     -37.2127 3.17 Inf   -47.556  -26.8690\n",
            " 2 - 6     -42.4472 3.19 Inf   -52.885  -32.0095\n",
            " 2 - 7     -44.4071 3.22 Inf   -54.946  -33.8679\n",
            " 2 - 8     -44.6913 3.26 Inf   -55.336  -34.0465\n",
            " 2 - 9     -45.9620 3.30 Inf   -56.740  -35.1840\n",
            " 2 - 10    -43.7746 3.33 Inf   -54.643  -32.9065\n",
            " 3 - 4     -10.4100 3.10 Inf   -20.537   -0.2831\n",
            " 3 - 5     -20.9579 3.12 Inf   -31.159  -10.7570\n",
            " 3 - 6     -26.1924 3.15 Inf   -36.470  -15.9144\n",
            " 3 - 7     -28.1523 3.17 Inf   -38.515  -17.7895\n",
            " 3 - 8     -28.4365 3.20 Inf   -38.889  -17.9843\n",
            " 3 - 9     -29.7072 3.23 Inf   -40.278  -19.1369\n",
            " 3 - 10    -27.5198 3.26 Inf   -38.165  -16.8750\n",
            " 4 - 5     -10.5479 3.10 Inf   -20.694   -0.4014\n",
            " 4 - 6     -15.7824 3.12 Inf   -25.988   -5.5770\n",
            " 4 - 7     -17.7423 3.14 Inf   -28.015   -7.4700\n",
            " 4 - 8     -18.0265 3.17 Inf   -28.371   -7.6823\n",
            " 4 - 9     -19.2972 3.20 Inf   -29.744   -8.8503\n",
            " 4 - 10    -17.1098 3.21 Inf   -27.615   -6.6048\n",
            " 5 - 6      -5.2345 3.13 Inf   -15.450    4.9812\n",
            " 5 - 7      -7.1944 3.14 Inf   -17.458    3.0697\n",
            " 5 - 8      -7.4786 3.16 Inf   -17.797    2.8401\n",
            " 5 - 9      -8.7493 3.18 Inf   -19.153    1.6544\n",
            " 5 - 10     -6.5619 3.20 Inf   -17.007    3.8830\n",
            " 6 - 7      -1.9599 3.14 Inf   -12.217    8.2974\n",
            " 6 - 8      -2.2441 3.15 Inf   -12.538    8.0497\n",
            " 6 - 9      -3.5148 3.17 Inf   -13.876    6.8466\n",
            " 6 - 10     -1.3274 3.18 Inf   -11.714    9.0594\n",
            " 7 - 8      -0.2842 3.14 Inf   -10.562    9.9933\n",
            " 7 - 9      -1.5549 3.16 Inf   -11.882    8.7722\n",
            " 7 - 10      0.6325 3.16 Inf    -9.703   10.9677\n",
            " 8 - 9      -1.2707 3.15 Inf   -11.569    9.0276\n",
            " 8 - 10      0.9167 3.15 Inf    -9.372   11.2058\n",
            " 9 - 10      2.1874 3.14 Inf    -8.077   12.4518\n",
            "\n",
            "Parity = 2:\n",
            " contrast  estimate   SE  df asymp.LCL asymp.UCL\n",
            " (-1) - 0   19.1447 3.10 Inf     9.020   29.2699\n",
            " (-1) - 1   29.9961 3.16 Inf    19.656   40.3367\n",
            " (-1) - 2   24.2416 3.18 Inf    13.863   34.6204\n",
            " (-1) - 3   23.3518 3.19 Inf    12.917   33.7863\n",
            " (-1) - 4   22.3155 3.23 Inf    11.773   32.8577\n",
            " (-1) - 5   18.4824 3.25 Inf     7.853   29.1118\n",
            " (-1) - 6   18.9649 3.29 Inf     8.223   29.7069\n",
            " (-1) - 7   19.3130 3.32 Inf     8.450   30.1762\n",
            " (-1) - 8   23.2233 3.37 Inf    12.222   34.2249\n",
            " (-1) - 9   24.1770 3.43 Inf    12.983   35.3710\n",
            " (-1) - 10  28.9416 3.48 Inf    17.563   40.3197\n",
            " 0 - 1      10.8514 3.10 Inf     0.720   20.9831\n",
            " 0 - 2       5.0969 3.11 Inf    -5.055   15.2492\n",
            " 0 - 3       4.2071 3.12 Inf    -5.984   14.3979\n",
            " 0 - 4       3.1708 3.15 Inf    -7.113   13.4543\n",
            " 0 - 5      -0.6623 3.17 Inf   -11.018    9.6932\n",
            " 0 - 6      -0.1798 3.20 Inf   -10.634   10.2741\n",
            " 0 - 7       0.1683 3.23 Inf   -10.393   10.7300\n",
            " 0 - 8       4.0786 3.27 Inf    -6.609   14.7665\n",
            " 0 - 9       5.0323 3.33 Inf    -5.838   15.9026\n",
            " 0 - 10      9.7969 3.38 Inf    -1.248   20.8418\n",
            " 1 - 2      -5.7545 3.15 Inf   -16.050    4.5412\n",
            " 1 - 3      -6.6443 3.16 Inf   -16.961    3.6725\n",
            " 1 - 4      -7.6806 3.18 Inf   -18.071    2.7103\n",
            " 1 - 5     -11.5137 3.20 Inf   -21.959   -1.0680\n",
            " 1 - 6     -11.0312 3.22 Inf   -21.558   -0.5042\n",
            " 1 - 7     -10.6831 3.25 Inf   -21.301   -0.0648\n",
            " 1 - 8      -6.7728 3.28 Inf   -17.502    3.9561\n",
            " 1 - 9      -5.8191 3.33 Inf   -16.715    5.0765\n",
            " 1 - 10     -1.0545 3.38 Inf   -12.110   10.0009\n",
            " 2 - 3      -0.8898 3.14 Inf   -11.166    9.3863\n",
            " 2 - 4      -1.9260 3.16 Inf   -12.259    8.4070\n",
            " 2 - 5      -5.7591 3.17 Inf   -16.130    4.6120\n",
            " 2 - 6      -5.2767 3.19 Inf   -15.713    5.1597\n",
            " 2 - 7      -4.9286 3.22 Inf   -15.441    5.5835\n",
            " 2 - 8      -1.0183 3.25 Inf   -11.626    9.5894\n",
            " 2 - 9      -0.0645 3.29 Inf   -10.825   10.6963\n",
            " 2 - 10      4.7000 3.34 Inf    -6.207   15.6073\n",
            " 3 - 4      -1.0362 3.15 Inf   -11.330    9.2577\n",
            " 3 - 5      -4.8693 3.16 Inf   -15.184    5.4456\n",
            " 3 - 6      -4.3869 3.17 Inf   -14.750    5.9764\n",
            " 3 - 7      -4.0388 3.19 Inf   -14.462    6.3841\n",
            " 3 - 8      -0.1285 3.21 Inf   -10.631   10.3743\n",
            " 3 - 9       0.8253 3.26 Inf    -9.816   11.4669\n",
            " 3 - 10      5.5898 3.30 Inf    -5.184   16.3640\n",
            " 4 - 5      -3.8331 3.16 Inf   -14.144    6.4776\n",
            " 4 - 6      -3.3506 3.16 Inf   -13.693    6.9913\n",
            " 4 - 7      -3.0026 3.18 Inf   -13.388    7.3833\n",
            " 4 - 8       0.9078 3.20 Inf    -9.542   11.3574\n",
            " 4 - 9       1.8615 3.24 Inf    -8.712   12.4345\n",
            " 4 - 10      6.6261 3.27 Inf    -4.065   17.3168\n",
            " 5 - 6       0.4824 3.15 Inf    -9.819   10.7836\n",
            " 5 - 7       0.8305 3.16 Inf    -9.499   11.1598\n",
            " 5 - 8       4.7409 3.18 Inf    -5.635   15.1172\n",
            " 5 - 9       5.6946 3.21 Inf    -4.790   16.1788\n",
            " 5 - 10     10.4591 3.24 Inf    -0.127   21.0458\n",
            " 6 - 7       0.3481 3.15 Inf    -9.950   10.6464\n",
            " 6 - 8       4.2584 3.16 Inf    -6.070   14.5868\n",
            " 6 - 9       5.2121 3.19 Inf    -5.208   15.6319\n",
            " 6 - 10      9.9767 3.22 Inf    -0.530   20.4837\n",
            " 7 - 8       3.9104 3.15 Inf    -6.380   14.2006\n",
            " 7 - 9       4.8641 3.17 Inf    -5.502   15.2302\n",
            " 7 - 10      9.6286 3.19 Inf    -0.809   20.0662\n",
            " 8 - 9       0.9537 3.16 Inf    -9.380   11.2872\n",
            " 8 - 10      5.7183 3.18 Inf    -4.671   16.1078\n",
            " 9 - 10      4.7645 3.18 Inf    -5.635   15.1644\n",
            "\n",
            "Parity = 3+:\n",
            " contrast  estimate   SE  df asymp.LCL asymp.UCL\n",
            " (-1) - 0   13.3035 2.04 Inf     6.629   19.9781\n",
            " (-1) - 1   25.5097 2.15 Inf    18.485   32.5346\n",
            " (-1) - 2    9.8989 2.19 Inf     2.758   17.0397\n",
            " (-1) - 3    6.0778 2.22 Inf    -1.188   13.3441\n",
            " (-1) - 4    5.4603 2.27 Inf    -1.947   12.8671\n",
            " (-1) - 5    4.2338 2.32 Inf    -3.337   11.8046\n",
            " (-1) - 6    1.4926 2.38 Inf    -6.287    9.2725\n",
            " (-1) - 7    0.4632 2.45 Inf    -7.548    8.4746\n",
            " (-1) - 8    2.6579 2.52 Inf    -5.572   10.8880\n",
            " (-1) - 9    5.0168 2.60 Inf    -3.466   13.4999\n",
            " (-1) - 10   8.2491 2.68 Inf    -0.509   17.0071\n",
            " 0 - 1      12.2062 2.12 Inf     5.287   19.1258\n",
            " 0 - 2      -3.4045 2.15 Inf   -10.416    3.6074\n",
            " 0 - 3      -7.2257 2.18 Inf   -14.340   -0.1111\n",
            " 0 - 4      -7.8432 2.21 Inf   -15.076   -0.6100\n",
            " 0 - 5      -9.0697 2.26 Inf   -16.446   -1.6931\n",
            " 0 - 6     -11.8109 2.32 Inf   -19.378   -4.2439\n",
            " 0 - 7     -12.8403 2.38 Inf   -20.622   -5.0588\n",
            " 0 - 8     -10.6456 2.44 Inf   -18.629   -2.6617\n",
            " 0 - 9      -8.2867 2.52 Inf   -16.509   -0.0641\n",
            " 0 - 10     -5.0544 2.60 Inf   -13.539    3.4301\n",
            " 1 - 2     -15.6108 2.22 Inf   -22.875   -8.3461\n",
            " 1 - 3     -19.4319 2.25 Inf   -26.773  -12.0913\n",
            " 1 - 4     -20.0494 2.27 Inf   -27.482  -12.6166\n",
            " 1 - 5     -21.2759 2.31 Inf   -28.826  -13.7258\n",
            " 1 - 6     -24.0171 2.36 Inf   -31.732  -16.3025\n",
            " 1 - 7     -25.0465 2.42 Inf   -32.950  -17.1432\n",
            " 1 - 8     -22.8518 2.47 Inf   -30.934  -14.7700\n",
            " 1 - 9     -20.4929 2.54 Inf   -28.790  -12.1957\n",
            " 1 - 10    -17.2606 2.61 Inf   -25.797   -8.7241\n",
            " 2 - 3      -3.8211 2.25 Inf   -11.170    3.5273\n",
            " 2 - 4      -4.4387 2.27 Inf   -11.855    2.9772\n",
            " 2 - 5      -5.6652 2.30 Inf   -13.175    1.8442\n",
            " 2 - 6      -8.4063 2.34 Inf   -16.058   -0.7550\n",
            " 2 - 7      -9.4357 2.39 Inf   -17.254   -1.6175\n",
            " 2 - 8      -7.2411 2.44 Inf   -15.217    0.7350\n",
            " 2 - 9      -4.8822 2.50 Inf   -13.054    3.2900\n",
            " 2 - 10     -1.6498 2.57 Inf   -10.043    6.7434\n",
            " 3 - 4      -0.6175 2.27 Inf    -8.029    6.7941\n",
            " 3 - 5      -1.8440 2.29 Inf    -9.325    5.6368\n",
            " 3 - 6      -4.5852 2.33 Inf   -12.185    3.0144\n",
            " 3 - 7      -5.6146 2.37 Inf   -13.358    2.1291\n",
            " 3 - 8      -3.4199 2.41 Inf   -11.300    4.4598\n",
            " 3 - 9      -1.0610 2.46 Inf    -9.117    6.9945\n",
            " 3 - 10      2.1713 2.53 Inf    -6.086   10.4288\n",
            " 4 - 5      -1.2265 2.28 Inf    -8.694    6.2409\n",
            " 4 - 6      -3.9676 2.31 Inf   -11.530    3.5945\n",
            " 4 - 7      -4.9970 2.35 Inf   -12.680    2.6863\n",
            " 4 - 8      -2.8024 2.39 Inf   -10.599    4.9944\n",
            " 4 - 9      -0.4435 2.43 Inf    -8.395    7.5080\n",
            " 4 - 10      2.7889 2.49 Inf    -5.345   10.9223\n",
            " 5 - 6      -2.7412 2.31 Inf   -10.292    4.8098\n",
            " 5 - 7      -3.7706 2.34 Inf   -11.419    3.8776\n",
            " 5 - 8      -1.5759 2.37 Inf    -9.314    6.1624\n",
            " 5 - 9       0.7830 2.41 Inf    -7.088    8.6539\n",
            " 5 - 10      4.0153 2.46 Inf    -4.016   12.0469\n",
            " 6 - 7      -1.0294 2.34 Inf    -8.688    6.6291\n",
            " 6 - 8       1.1653 2.36 Inf    -6.559    8.8898\n",
            " 6 - 9       3.5242 2.40 Inf    -4.310   11.3586\n",
            " 6 - 10      6.7565 2.44 Inf    -1.216   14.7289\n",
            " 7 - 8       2.1947 2.37 Inf    -5.545    9.9343\n",
            " 7 - 9       4.5536 2.39 Inf    -3.272   12.3791\n",
            " 7 - 10      7.7859 2.43 Inf    -0.154   15.7262\n",
            " 8 - 9       2.3589 2.39 Inf    -5.448   10.1659\n",
            " 8 - 10      5.5912 2.42 Inf    -2.307   13.4894\n",
            " 9 - 10      3.2323 2.42 Inf    -4.666   11.1308\n",
            "\n",
            "Results are averaged over the levels of: CalvingSeason, HerdIdentifier \n",
            "Degrees-of-freedom method: asymptotic \n",
            "Confidence level used: 0.95 \n",
            "Conf-level adjustment: tukey method for comparing a family of 12 estimates \n"
          ]
        }
      ]
    },
    {
      "cell_type": "code",
      "metadata": {
        "colab": {
          "base_uri": "https://localhost:8080/",
          "height": 497
        },
        "id": "GGTLFjbIgpEc",
        "outputId": "c1c25666-16bf-4144-dd40-3839927ba9a3"
      },
      "source": [
        "%%R\n",
        "dfPValues <- summary(LSMs)[[2]]\n",
        "dfLMSs <- summary(LSMs)[[1]]\n",
        "dfLMSs %>% \n",
        "  mutate(label = if_else(MonthsInMilk == max(as.numeric(MonthsInMilk)), as.character(Parity), NA_character_)) %>%\n",
        "  ggplot(\n",
        "  aes(\n",
        "    x=MonthsInMilk,\n",
        "    y=lsmean,\n",
        "    group=Parity, \n",
        "    color=Parity)\n",
        "    ) +\n",
        "  geom_line(size=1) +  \n",
        "  geom_errorbar(\n",
        "    aes(ymin=asymp.LCL, \n",
        "        ymax=asymp.UCL), \n",
        "    width=.5,\n",
        "    size=1,\n",
        "    position=position_dodge(0.25)) +\n",
        "  labs(\n",
        "    title = \"Eating time (min/day)\", \n",
        "    y=\"Minutes per day\" , \n",
        "    x = \"Months in milk\") +\n",
        "  theme_bw() +\n",
        "  theme(text=element_text(size=25),\n",
        "        plot.title = element_text(hjust = 0.5),\n",
        "        panel.border = element_blank(), \n",
        "        panel.grid.major = element_blank(),\n",
        "        panel.grid.minor = element_blank(), \n",
        "        axis.line = element_line(colour = \"black\"))\n"
      ],
      "execution_count": null,
      "outputs": [
        {
          "output_type": "display_data",
          "data": {
            "image/png": "[encoded data removed]"
          },
          "metadata": {}
        }
      ]
    },
    {
      "cell_type": "code",
      "metadata": {
        "id": "qltPHvRmaJCR"
      },
      "source": [
        "%%R\n",
        "ggsave(\"/content/drive/Shareddrives/Bovi-Analytics/Projects/SenseOfSensors/DiurnalPattern/Figures122021/EatingTimeParityByMonthsInMilk.png\", width = 10, height = 8)"
      ],
      "execution_count": null,
      "outputs": []
    },
    {
      "cell_type": "markdown",
      "metadata": {
        "id": "7QPzfWWOhUdn"
      },
      "source": [
        "### MonthsInMilk by milking type"
      ]
    },
    {
      "cell_type": "code",
      "source": [
        "%%R\n",
        "LSMs<-lsmeans::lsmeans(finalModel, pairwise ~ HerdIdentifier|MonthsInMilk, type = \"response\", glhargs=list())\n",
        "multcomp::cld(LSMs[[1]], alpha=0.05, Letters=letters, adjust=\"tukey\")"
      ],
      "metadata": {
        "colab": {
          "base_uri": "https://localhost:8080/"
        },
        "id": "DtVQ-O7GiglZ",
        "outputId": "4e72f60a-3559-4f9b-8057-3d5a629df929"
      },
      "execution_count": null,
      "outputs": [
        {
          "output_type": "stream",
          "name": "stderr",
          "text": [
            "R[write to console]: Note: D.f. calculations have been disabled because the number of observations exceeds 3000.\n",
            "To enable adjustments, add the argument 'pbkrtest.limit = 42548' (or larger)\n",
            "[or, globally, 'set emm_options(pbkrtest.limit = 42548)' or larger];\n",
            "but be warned that this may result in large computation time and memory use.\n",
            "\n",
            "R[write to console]: Note: D.f. calculations have been disabled because the number of observations exceeds 3000.\n",
            "To enable adjustments, add the argument 'lmerTest.limit = 42548' (or larger)\n",
            "[or, globally, 'set emm_options(lmerTest.limit = 42548)' or larger];\n",
            "but be warned that this may result in large computation time and memory use.\n",
            "\n",
            "R[write to console]: Note: adjust = \"tukey\" was changed to \"sidak\"\n",
            "because \"tukey\" is only appropriate for one set of pairwise comparisons\n",
            "\n"
          ]
        },
        {
          "output_type": "stream",
          "name": "stdout",
          "text": [
            "MonthsInMilk = -1:\n",
            " HerdIdentifier lsmean   SE  df asymp.LCL asymp.UCL .group \n",
            " 3314              287 4.87 Inf       273       300  a     \n",
            " 2011              292 3.47 Inf       283       302  ab    \n",
            " 2297              304 4.25 Inf       293       316   b    \n",
            " 2514              327 3.89 Inf       317       338    c   \n",
            " 544               328 4.07 Inf       317       340    c   \n",
            " 3                 353 4.34 Inf       341       365     d  \n",
            " 2746              354 4.15 Inf       342       365     d  \n",
            " 5888              385 3.99 Inf       374       395      e \n",
            "\n",
            "MonthsInMilk = 0:\n",
            " HerdIdentifier lsmean   SE  df asymp.LCL asymp.UCL .group \n",
            " 2011              294 3.13 Inf       285       302  a     \n",
            " 3314              295 4.58 Inf       282       307  ab    \n",
            " 2514              309 3.76 Inf       299       320   bc   \n",
            " 2297              310 4.06 Inf       299       321    c   \n",
            " 544               328 3.98 Inf       318       339     d  \n",
            " 3                 343 4.14 Inf       332       355      e \n",
            " 2746              346 3.87 Inf       336       357      e \n",
            " 5888              374 3.83 Inf       364       384       f\n",
            "\n",
            "MonthsInMilk = 1:\n",
            " HerdIdentifier lsmean   SE  df asymp.LCL asymp.UCL .group \n",
            " 3314              283 4.85 Inf       270       296  a     \n",
            " 2514              283 3.72 Inf       273       293  a     \n",
            " 2297              307 4.27 Inf       295       319   b    \n",
            " 2746              315 4.13 Inf       304       326   b    \n",
            " 2011              320 3.12 Inf       312       329   b    \n",
            " 3                 337 4.28 Inf       325       349    c   \n",
            " 544               339 4.28 Inf       327       350    c   \n",
            " 5888              376 3.84 Inf       366       386     d  \n",
            "\n",
            "MonthsInMilk = 2:\n",
            " HerdIdentifier lsmean   SE  df asymp.LCL asymp.UCL .group \n",
            " 3314              300 4.80 Inf       287       313  a     \n",
            " 2297              301 4.21 Inf       289       312  a     \n",
            " 2514              303 3.79 Inf       292       313  a     \n",
            " 2011              323 3.13 Inf       314       332   b    \n",
            " 2746              329 4.15 Inf       318       340   bc   \n",
            " 3                 340 4.27 Inf       328       352    cd  \n",
            " 544               350 4.18 Inf       339       362     d  \n",
            " 5888              408 3.87 Inf       397       418      e \n",
            "\n",
            "MonthsInMilk = 3:\n",
            " HerdIdentifier lsmean   SE  df asymp.LCL asymp.UCL .group \n",
            " 2297              309 4.20 Inf       298       321  a     \n",
            " 3314              311 4.80 Inf       298       324  a     \n",
            " 2514              317 3.83 Inf       307       328  ab    \n",
            " 2011              330 3.12 Inf       321       338   bc   \n",
            " 2746              332 4.19 Inf       321       344   bc   \n",
            " 3                 340 4.26 Inf       328       351    c   \n",
            " 544               358 4.14 Inf       347       369     d  \n",
            " 5888              412 3.89 Inf       401       423      e \n",
            "\n",
            "MonthsInMilk = 4:\n",
            " HerdIdentifier lsmean   SE  df asymp.LCL asymp.UCL .group \n",
            " 3314              310 4.80 Inf       297       323  a     \n",
            " 2297              316 4.23 Inf       304       327  ab    \n",
            " 2514              323 3.83 Inf       312       333  ab    \n",
            " 2746              328 4.24 Inf       317       340   bc   \n",
            " 2011              339 3.13 Inf       330       347    cd  \n",
            " 3                 353 4.30 Inf       341       365     de \n",
            " 544               364 4.13 Inf       353       375      e \n",
            " 5888              410 3.91 Inf       399       420       f\n",
            "\n",
            "MonthsInMilk = 5:\n",
            " HerdIdentifier lsmean   SE  df asymp.LCL asymp.UCL .group \n",
            " 3314              315 4.84 Inf       302       328  a     \n",
            " 2297              322 4.25 Inf       310       334  ab    \n",
            " 2514              330 3.87 Inf       320       341  ab    \n",
            " 2746              335 4.26 Inf       324       347   bc   \n",
            " 2011              349 3.16 Inf       340       357    cd  \n",
            " 3                 354 4.35 Inf       342       366     d  \n",
            " 544               370 4.18 Inf       359       382      e \n",
            " 5888              408 3.95 Inf       397       419       f\n",
            "\n",
            "MonthsInMilk = 6:\n",
            " HerdIdentifier lsmean   SE  df asymp.LCL asymp.UCL .group \n",
            " 3314              312 4.84 Inf       299       325  a     \n",
            " 2297              324 4.30 Inf       312       336  ab    \n",
            " 2514              336 3.93 Inf       325       347   bc   \n",
            " 2746              347 4.31 Inf       336       359    cd  \n",
            " 2011              352 3.19 Inf       343       360     d  \n",
            " 3                 353 4.42 Inf       341       365    cd  \n",
            " 544               372 4.23 Inf       361       384      e \n",
            " 5888              407 4.00 Inf       396       418       f\n",
            "\n",
            "MonthsInMilk = 7:\n",
            " HerdIdentifier lsmean   SE  df asymp.LCL asymp.UCL .group \n",
            " 3314              310 4.89 Inf       297       323  a     \n",
            " 2297              329 4.35 Inf       317       340   b    \n",
            " 2514              336 4.01 Inf       325       347   bc   \n",
            " 2011              349 3.24 Inf       341       358    cd  \n",
            " 2746              355 4.35 Inf       344       367     d  \n",
            " 3                 357 4.47 Inf       345       369     de \n",
            " 544               371 4.26 Inf       359       382      e \n",
            " 5888              403 4.07 Inf       392       414       f\n",
            "\n",
            "MonthsInMilk = 8:\n",
            " HerdIdentifier lsmean   SE  df asymp.LCL asymp.UCL .group \n",
            " 3314              305 4.91 Inf       291       318  a     \n",
            " 2514              330 4.07 Inf       319       341   b    \n",
            " 2297              331 4.38 Inf       320       343   bc   \n",
            " 2011              347 3.29 Inf       338       356    cd  \n",
            " 3                 361 4.52 Inf       348       373     de \n",
            " 2746              363 4.43 Inf       351       376     de \n",
            " 544               365 4.29 Inf       353       376      e \n",
            " 5888              393 4.13 Inf       382       404       f\n",
            "\n",
            "MonthsInMilk = 9:\n",
            " HerdIdentifier lsmean   SE  df asymp.LCL asymp.UCL .group \n",
            " 3314              307 4.94 Inf       294       321  a     \n",
            " 2514              325 4.17 Inf       314       336  ab    \n",
            " 2297              338 4.42 Inf       326       350   bc   \n",
            " 2011              342 3.37 Inf       333       352    c   \n",
            " 544               362 4.34 Inf       350       374     d  \n",
            " 2746              362 4.49 Inf       350       375     d  \n",
            " 3                 367 4.58 Inf       355       380     de \n",
            " 5888              385 4.22 Inf       373       396      e \n",
            "\n",
            "MonthsInMilk = 10:\n",
            " HerdIdentifier lsmean   SE  df asymp.LCL asymp.UCL .group \n",
            " 3314              303 5.01 Inf       289       317  a     \n",
            " 2514              317 4.24 Inf       305       328  a     \n",
            " 2011              334 3.44 Inf       325       343   b    \n",
            " 2297              341 4.51 Inf       329       353   b    \n",
            " 544               357 4.38 Inf       345       368    c   \n",
            " 3                 365 4.66 Inf       353       378    cd  \n",
            " 2746              366 4.55 Inf       354       378    cd  \n",
            " 5888              380 4.28 Inf       368       391     d  \n",
            "\n",
            "Results are averaged over the levels of: CalvingSeason, Parity \n",
            "Degrees-of-freedom method: asymptotic \n",
            "Confidence level used: 0.95 \n",
            "Conf-level adjustment: sidak method for 8 estimates \n",
            "P value adjustment: tukey method for comparing a family of 8 estimates \n",
            "significance level used: alpha = 0.05 \n"
          ]
        }
      ]
    },
    {
      "cell_type": "code",
      "metadata": {
        "id": "L_KlSoC7hFKf",
        "colab": {
          "base_uri": "https://localhost:8080/"
        },
        "outputId": "e910dab5-4cc2-47fe-d8a4-62d80e4e7b51"
      },
      "source": [
        "%%R\n",
        "LSMs<-lsmeans::lsmeans(finalModel, pairwise ~ MonthsInMilk|HerdIdentifier, type = \"response\", glhargs=list())\n",
        "multcomp::cld(LSMs[[1]], alpha=0.05, Letters=letters, adjust=\"tukey\")"
      ],
      "execution_count": null,
      "outputs": [
        {
          "output_type": "stream",
          "name": "stderr",
          "text": [
            "R[write to console]: Note: D.f. calculations have been disabled because the number of observations exceeds 3000.\n",
            "To enable adjustments, add the argument 'pbkrtest.limit = 42548' (or larger)\n",
            "[or, globally, 'set emm_options(pbkrtest.limit = 42548)' or larger];\n",
            "but be warned that this may result in large computation time and memory use.\n",
            "\n",
            "R[write to console]: Note: D.f. calculations have been disabled because the number of observations exceeds 3000.\n",
            "To enable adjustments, add the argument 'lmerTest.limit = 42548' (or larger)\n",
            "[or, globally, 'set emm_options(lmerTest.limit = 42548)' or larger];\n",
            "but be warned that this may result in large computation time and memory use.\n",
            "\n",
            "R[write to console]: Note: adjust = \"tukey\" was changed to \"sidak\"\n",
            "because \"tukey\" is only appropriate for one set of pairwise comparisons\n",
            "\n"
          ]
        },
        {
          "output_type": "stream",
          "name": "stdout",
          "text": [
            "HerdIdentifier = 2011:\n",
            " MonthsInMilk lsmean   SE  df asymp.LCL asymp.UCL .group  \n",
            " -1              292 3.47 Inf       282       302  a      \n",
            " 0               294 3.13 Inf       285       303  a      \n",
            " 1               320 3.12 Inf       311       329   b     \n",
            " 2               323 3.13 Inf       314       332   bc    \n",
            " 3               330 3.12 Inf       321       339   bcd   \n",
            " 10              334 3.44 Inf       324       344    cde  \n",
            " 4               339 3.13 Inf       330       348     def \n",
            " 9               342 3.37 Inf       333       352      efg\n",
            " 8               347 3.29 Inf       338       357       fg\n",
            " 5               349 3.16 Inf       339       358       fg\n",
            " 7               349 3.24 Inf       340       359       fg\n",
            " 6               352 3.19 Inf       342       361        g\n",
            "\n",
            "HerdIdentifier = 2297:\n",
            " MonthsInMilk lsmean   SE  df asymp.LCL asymp.UCL .group  \n",
            " 2               301 4.21 Inf       289       313  a      \n",
            " -1              304 4.25 Inf       292       316  a      \n",
            " 1               307 4.27 Inf       295       319  ab     \n",
            " 3               309 4.20 Inf       297       321  abc    \n",
            " 0               310 4.06 Inf       298       321  abc    \n",
            " 4               316 4.23 Inf       304       328  abcd   \n",
            " 5               322 4.25 Inf       310       334   bcde  \n",
            " 6               324 4.30 Inf       312       336    cdef \n",
            " 7               329 4.35 Inf       316       341     defg\n",
            " 8               331 4.38 Inf       319       344      efg\n",
            " 9               338 4.42 Inf       326       351       fg\n",
            " 10              341 4.51 Inf       328       354        g\n",
            "\n",
            "HerdIdentifier = 2514:\n",
            " MonthsInMilk lsmean   SE  df asymp.LCL asymp.UCL .group  \n",
            " 1               283 3.72 Inf       273       294  a      \n",
            " 2               303 3.79 Inf       292       313   b     \n",
            " 0               309 3.76 Inf       299       320   bc    \n",
            " 10              317 4.24 Inf       305       329   bcd   \n",
            " 3               317 3.83 Inf       306       328    cd   \n",
            " 4               323 3.83 Inf       312       334    cde  \n",
            " 9               325 4.17 Inf       313       337     de  \n",
            " -1              327 3.89 Inf       316       339     de  \n",
            " 8               330 4.07 Inf       318       341     de  \n",
            " 5               330 3.87 Inf       319       341     de  \n",
            " 6               336 3.93 Inf       325       347      e  \n",
            " 7               336 4.01 Inf       325       348      e  \n",
            "\n",
            "HerdIdentifier = 2746:\n",
            " MonthsInMilk lsmean   SE  df asymp.LCL asymp.UCL .group  \n",
            " 1               315 4.13 Inf       303       327  a      \n",
            " 4               328 4.24 Inf       316       340  ab     \n",
            " 2               329 4.15 Inf       317       341  ab     \n",
            " 3               332 4.19 Inf       320       344   bc    \n",
            " 5               335 4.26 Inf       323       347   bc    \n",
            " 0               346 3.87 Inf       335       357    cd   \n",
            " 6               347 4.31 Inf       335       360    cde  \n",
            " -1              354 4.15 Inf       342       365     def \n",
            " 7               355 4.35 Inf       343       368     def \n",
            " 9               362 4.49 Inf       349       375      ef \n",
            " 8               363 4.43 Inf       351       376       f \n",
            " 10              366 4.55 Inf       353       379       f \n",
            "\n",
            "HerdIdentifier = 3:\n",
            " MonthsInMilk lsmean   SE  df asymp.LCL asymp.UCL .group  \n",
            " 1               337 4.28 Inf       325       349  a      \n",
            " 3               340 4.26 Inf       327       352  ab     \n",
            " 2               340 4.27 Inf       328       352  ab     \n",
            " 0               343 4.14 Inf       332       355  abc    \n",
            " 6               353 4.42 Inf       340       366  abcd   \n",
            " 4               353 4.30 Inf       341       365  abcd   \n",
            " -1              353 4.34 Inf       341       365   bcd   \n",
            " 5               354 4.35 Inf       341       366   bcd   \n",
            " 7               357 4.47 Inf       344       370    cd   \n",
            " 8               361 4.52 Inf       348       373     d   \n",
            " 10              365 4.66 Inf       352       379     d   \n",
            " 9               367 4.58 Inf       354       381     d   \n",
            "\n",
            "HerdIdentifier = 3314:\n",
            " MonthsInMilk lsmean   SE  df asymp.LCL asymp.UCL .group  \n",
            " 1               283 4.85 Inf       269       297  a      \n",
            " -1              287 4.87 Inf       273       301  ab     \n",
            " 0               295 4.58 Inf       282       308  abc    \n",
            " 2               300 4.80 Inf       286       314  abcd   \n",
            " 10              303 5.01 Inf       289       317   bcd   \n",
            " 8               305 4.91 Inf       291       319   bcd   \n",
            " 9               307 4.94 Inf       293       321    cd   \n",
            " 7               310 4.89 Inf       296       324    cd   \n",
            " 4               310 4.80 Inf       296       324    cd   \n",
            " 3               311 4.80 Inf       297       325    cd   \n",
            " 6               312 4.84 Inf       298       326    cd   \n",
            " 5               315 4.84 Inf       301       329     d   \n",
            "\n",
            "HerdIdentifier = 544:\n",
            " MonthsInMilk lsmean   SE  df asymp.LCL asymp.UCL .group  \n",
            " 0               328 3.98 Inf       317       340  a      \n",
            " -1              328 4.07 Inf       317       340  a      \n",
            " 1               339 4.28 Inf       326       351  ab     \n",
            " 2               350 4.18 Inf       338       362   bc    \n",
            " 10              357 4.38 Inf       344       369    cd   \n",
            " 3               358 4.14 Inf       346       370    cde  \n",
            " 9               362 4.34 Inf       349       374    cde  \n",
            " 4               364 4.13 Inf       352       376    cde  \n",
            " 8               365 4.29 Inf       352       377    cde  \n",
            " 5               370 4.18 Inf       358       382     de  \n",
            " 7               371 4.26 Inf       359       383     de  \n",
            " 6               372 4.23 Inf       360       384      e  \n",
            "\n",
            "HerdIdentifier = 5888:\n",
            " MonthsInMilk lsmean   SE  df asymp.LCL asymp.UCL .group  \n",
            " 0               374 3.83 Inf       363       385  a      \n",
            " 1               376 3.84 Inf       365       387  a      \n",
            " 10              380 4.28 Inf       367       392  ab     \n",
            " -1              385 3.99 Inf       373       396  ab     \n",
            " 9               385 4.22 Inf       373       397  ab     \n",
            " 8               393 4.13 Inf       381       405   bc    \n",
            " 7               403 4.07 Inf       391       414    cd   \n",
            " 6               407 4.00 Inf       395       418    cd   \n",
            " 2               408 3.87 Inf       397       419    cd   \n",
            " 5               408 3.95 Inf       397       420     d   \n",
            " 4               410 3.91 Inf       399       421     d   \n",
            " 3               412 3.89 Inf       401       423     d   \n",
            "\n",
            "Results are averaged over the levels of: CalvingSeason, Parity \n",
            "Degrees-of-freedom method: asymptotic \n",
            "Confidence level used: 0.95 \n",
            "Conf-level adjustment: sidak method for 12 estimates \n",
            "P value adjustment: tukey method for comparing a family of 12 estimates \n",
            "significance level used: alpha = 0.05 \n"
          ]
        }
      ]
    },
    {
      "cell_type": "code",
      "metadata": {
        "id": "v4zchpywXfLE"
      },
      "source": [
        "%%R\n",
        "summary(LSMs)[[1]]"
      ],
      "execution_count": null,
      "outputs": []
    },
    {
      "cell_type": "code",
      "source": [
        "%%R\n",
        "LSMs<-lsmeans::lsmeans(finalModel, pairwise ~ MonthsInMilk|HerdIdentifier, type = \"response\", glhargs=list())"
      ],
      "metadata": {
        "colab": {
          "base_uri": "https://localhost:8080/"
        },
        "id": "4ZzphzZGw0IK",
        "outputId": "a6c53066-2172-43ab-bd6d-8cf5236ed4af"
      },
      "execution_count": null,
      "outputs": [
        {
          "output_type": "stream",
          "name": "stderr",
          "text": [
            "R[write to console]: Note: D.f. calculations have been disabled because the number of observations exceeds 3000.\n",
            "To enable adjustments, add the argument 'pbkrtest.limit = 42548' (or larger)\n",
            "[or, globally, 'set emm_options(pbkrtest.limit = 42548)' or larger];\n",
            "but be warned that this may result in large computation time and memory use.\n",
            "\n",
            "R[write to console]: Note: D.f. calculations have been disabled because the number of observations exceeds 3000.\n",
            "To enable adjustments, add the argument 'lmerTest.limit = 42548' (or larger)\n",
            "[or, globally, 'set emm_options(lmerTest.limit = 42548)' or larger];\n",
            "but be warned that this may result in large computation time and memory use.\n",
            "\n"
          ]
        }
      ]
    },
    {
      "cell_type": "code",
      "source": [
        "%%R\n",
        "dfHerdIdentifier <- data.frame(HerdIdentifier = c(\"2011\", \"2297\", \"2514\", \"2746\", \"3\", \"3314\", \"544\", \"5888\"),\n",
        "                 Farm = c(\"CMS-P\", \"CMS-P\", \"AMS-C\", \"CMS-P\", \"CMS-P\", \"AMS-C\", \"AMS-C\", \"CMS-P\")\n",
        "                 )"
      ],
      "metadata": {
        "id": "ALZqXWUcwd90"
      },
      "execution_count": null,
      "outputs": []
    },
    {
      "cell_type": "code",
      "metadata": {
        "colab": {
          "base_uri": "https://localhost:8080/",
          "height": 497
        },
        "id": "0F2gbrfvhIxm",
        "outputId": "1e3d7915-0ae4-4472-97ac-9c24471b1681"
      },
      "source": [
        "%%R\n",
        "dfLMSs <- summary(LSMs)[[1]]\n",
        "dfLMSs %>% \n",
        "  dplyr::left_join(dfHerdIdentifier, by =  c(\"HerdIdentifier\")) %>%\n",
        "  mutate(label = if_else(MonthsInMilk == max(as.numeric(MonthsInMilk)), as.character(HerdIdentifier), NA_character_)) %>%\n",
        "  ggplot(\n",
        "  aes(\n",
        "    x=MonthsInMilk,\n",
        "    y=lsmean,\n",
        "    group=HerdIdentifier, \n",
        "    color=Farm)\n",
        "    ) +\n",
        "  geom_line(size=1) +  \n",
        "  geom_errorbar(\n",
        "    aes(ymin=asymp.LCL, \n",
        "        ymax=asymp.UCL), \n",
        "    width=1,\n",
        "    size=1,\n",
        "    position=position_dodge(0.25)) +\n",
        "  labs(\n",
        "    title = \"Eating time (min/day)\", \n",
        "    y=\"Minutes per day\" , \n",
        "    x = \"MonthsInMilk\") +\n",
        "  theme_bw() +\n",
        "  theme(text=element_text(size=25),\n",
        "        plot.title = element_text(hjust = 0.5),\n",
        "        panel.border = element_blank(), \n",
        "        panel.grid.major = element_blank(),\n",
        "        panel.grid.minor = element_blank(), \n",
        "        axis.line = element_line(colour = \"black\"))"
      ],
      "execution_count": null,
      "outputs": [
        {
          "output_type": "display_data",
          "data": {
            "image/png": "[encoded data removed]"
          },
          "metadata": {}
        }
      ]
    },
    {
      "cell_type": "code",
      "metadata": {
        "id": "Z_vyQagslB6g"
      },
      "source": [
        "%%R\n",
        "ggsave(\"/content/drive/Shareddrives/Bovi-Analytics/Projects/SenseOfSensors/DiurnalPattern/Figures122021/EatingTimeAMSCMSByMonthsInMilk.png\", width = 10, height = 8)"
      ],
      "execution_count": null,
      "outputs": []
    },
    {
      "cell_type": "markdown",
      "metadata": {
        "id": "prAbWH2ah_D2"
      },
      "source": [
        "### MonthsInMilk by calving season"
      ]
    },
    {
      "cell_type": "code",
      "metadata": {
        "colab": {
          "base_uri": "https://localhost:8080/"
        },
        "id": "bjMxVU-uhp-o",
        "outputId": "ab82cd7c-92d6-4dcb-c88e-017637e9558e"
      },
      "source": [
        "%%R\n",
        "LSMs<-lsmeans::lsmeans(finalModel, pairwise ~ MonthsInMilk|CalvingSeason, type = \"response\", glhargs=list())\n",
        "multcomp::cld(LSMs[[1]], alpha=0.05, Letters=letters, adjust=\"tukey\")"
      ],
      "execution_count": null,
      "outputs": [
        {
          "output_type": "stream",
          "name": "stderr",
          "text": [
            "R[write to console]: Note: D.f. calculations have been disabled because the number of observations exceeds 3000.\n",
            "To enable adjustments, add the argument 'pbkrtest.limit = 42548' (or larger)\n",
            "[or, globally, 'set emm_options(pbkrtest.limit = 42548)' or larger];\n",
            "but be warned that this may result in large computation time and memory use.\n",
            "\n",
            "R[write to console]: Note: D.f. calculations have been disabled because the number of observations exceeds 3000.\n",
            "To enable adjustments, add the argument 'lmerTest.limit = 42548' (or larger)\n",
            "[or, globally, 'set emm_options(lmerTest.limit = 42548)' or larger];\n",
            "but be warned that this may result in large computation time and memory use.\n",
            "\n",
            "R[write to console]: Note: adjust = \"tukey\" was changed to \"sidak\"\n",
            "because \"tukey\" is only appropriate for one set of pairwise comparisons\n",
            "\n"
          ]
        },
        {
          "output_type": "stream",
          "name": "stdout",
          "text": [
            "CalvingSeason = Autumn:\n",
            " MonthsInMilk lsmean   SE  df asymp.LCL asymp.UCL .group  \n",
            " 1               315 2.80 Inf       307       323  a      \n",
            " 2               321 2.82 Inf       313       329  ab     \n",
            " 0               326 2.73 Inf       319       334   bc    \n",
            " 3               330 2.89 Inf       322       339   bcd   \n",
            " -1              331 2.94 Inf       323       339   bcd   \n",
            " 4               334 2.91 Inf       326       343    cd   \n",
            " 5               339 2.93 Inf       331       347     de  \n",
            " 10              345 3.07 Inf       336       354      e  \n",
            " 6               349 2.97 Inf       341       358      ef \n",
            " 9               356 3.04 Inf       347       365       fg\n",
            " 7               358 2.98 Inf       350       367       fg\n",
            " 8               363 3.01 Inf       355       372        g\n",
            "\n",
            "CalvingSeason = Spring:\n",
            " MonthsInMilk lsmean   SE  df asymp.LCL asymp.UCL .group  \n",
            " 0               322 2.97 Inf       313       330  a      \n",
            " -1              328 3.13 Inf       319       337  ab     \n",
            " 1               333 3.06 Inf       324       342   bc    \n",
            " 10              339 3.35 Inf       329       348   bcd   \n",
            " 4               343 3.00 Inf       335       352    cde  \n",
            " 5               345 2.99 Inf       336       353     def \n",
            " 9               345 3.26 Inf       336       354    cdef \n",
            " 3               348 3.02 Inf       340       357     def \n",
            " 8               348 3.12 Inf       339       357     def \n",
            " 6               350 2.97 Inf       342       359      ef \n",
            " 2               351 3.04 Inf       342       360      ef \n",
            " 7               355 3.04 Inf       346       364       f \n",
            "\n",
            "CalvingSeason = Summer:\n",
            " MonthsInMilk lsmean   SE  df asymp.LCL asymp.UCL .group  \n",
            " 1               317 2.80 Inf       309       325  a      \n",
            " 2               323 2.75 Inf       315       331  a      \n",
            " 3               333 2.71 Inf       325       341   b     \n",
            " 0               334 2.75 Inf       326       342   bc    \n",
            " -1              337 2.91 Inf       329       345   bc    \n",
            " 4               338 2.73 Inf       331       346   bc    \n",
            " 8               341 2.98 Inf       332       349   bcd   \n",
            " 5               342 2.80 Inf       334       350    cd   \n",
            " 7               343 2.94 Inf       334       351   bcd   \n",
            " 9               344 3.03 Inf       335       352    cd   \n",
            " 6               344 2.89 Inf       336       353    cd   \n",
            " 10              351 3.07 Inf       342       360     d   \n",
            "\n",
            "CalvingSeason = Winter:\n",
            " MonthsInMilk lsmean   SE  df asymp.LCL asymp.UCL .group  \n",
            " 1               315 3.12 Inf       306       324  a      \n",
            " 0               317 2.97 Inf       309       326  a      \n",
            " -1              320 3.13 Inf       311       328  a      \n",
            " 2               332 3.12 Inf       323       341   b     \n",
            " 3               343 3.11 Inf       334       352    c    \n",
            " 8               345 3.11 Inf       336       354    cd   \n",
            " 10              346 3.16 Inf       337       355    cd   \n",
            " 7               349 3.10 Inf       341       358    cde  \n",
            " 9               350 3.10 Inf       341       359    cde  \n",
            " 4               355 3.11 Inf       346       364     def \n",
            " 6               358 3.10 Inf       349       367      ef \n",
            " 5               365 3.10 Inf       356       374       f \n",
            "\n",
            "Results are averaged over the levels of: Parity, HerdIdentifier \n",
            "Degrees-of-freedom method: asymptotic \n",
            "Confidence level used: 0.95 \n",
            "Conf-level adjustment: sidak method for 12 estimates \n",
            "P value adjustment: tukey method for comparing a family of 12 estimates \n",
            "significance level used: alpha = 0.05 \n"
          ]
        }
      ]
    },
    {
      "cell_type": "code",
      "metadata": {
        "colab": {
          "base_uri": "https://localhost:8080/",
          "height": 497
        },
        "id": "7s_0qoxNhsf5",
        "outputId": "f65023ac-371a-404b-c759-8fe12a2ef548"
      },
      "source": [
        "%%R\n",
        "dfPValues <- summary(LSMs)[[2]]\n",
        "dfLMSs <- summary(LSMs)[[1]]\n",
        "dfLMSs %>% \n",
        "  mutate(label = if_else(MonthsInMilk == max(as.numeric(MonthsInMilk)), as.character(CalvingSeason), NA_character_)) %>%\n",
        "  ggplot(\n",
        "  aes(\n",
        "    x=MonthsInMilk,\n",
        "    y=lsmean,\n",
        "    group=CalvingSeason, \n",
        "    color=CalvingSeason)\n",
        "    ) +\n",
        "  geom_line(size=1) +  \n",
        "  geom_errorbar(\n",
        "    aes(ymin=asymp.LCL, \n",
        "        ymax=asymp.UCL), \n",
        "    width=1,\n",
        "    size=1,\n",
        "    position=position_dodge(0.25)) +\n",
        "  labs(\n",
        "    title = \"Eating time (min/day)\", \n",
        "    y=\"Minutes per day\" , \n",
        "    x = \"Months in milk\") +\n",
        "  theme_bw() +\n",
        "  theme(text=element_text(size=25),\n",
        "        plot.title = element_text(hjust = 0.5),\n",
        "        panel.border = element_blank(), \n",
        "        panel.grid.major = element_blank(),\n",
        "        panel.grid.minor = element_blank(), \n",
        "        axis.line = element_line(colour = \"black\"))"
      ],
      "execution_count": null,
      "outputs": [
        {
          "output_type": "display_data",
          "data": {
            "image/png": "[encoded data removed]"
          },
          "metadata": {}
        }
      ]
    },
    {
      "cell_type": "code",
      "metadata": {
        "id": "NogB4jPglU2f"
      },
      "source": [
        "%%R\n",
        "ggsave(\"/content/drive/Shareddrives/Bovi-Analytics/Projects/SenseOfSensors/DiurnalPattern/Figures122021/EatingTimeCalvingSeasonByMonthsInMilk.png\", width = 10, height = 8)"
      ],
      "execution_count": null,
      "outputs": []
    }
  ]
}