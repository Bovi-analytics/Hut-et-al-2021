{
  "nbformat": 4,
  "nbformat_minor": 0,
  "metadata": {
    "colab": {
      "name": "EatingTime MonthsInMilk",
      "provenance": [],
      "collapsed_sections": [],
      "toc_visible": true,
      "include_colab_link": true
    },
    "kernelspec": {
      "name": "python3",
      "display_name": "Python 3"
    }
  },
  "cells": [
    {
      "cell_type": "markdown",
      "metadata": {
        "id": "view-in-github",
        "colab_type": "text"
      },
      "source": [
        "<a href=\"https://colab.research.google.com/github/Bovi-analytics/hut-et-al-2021/blob/master/EatingTime_MonthsInMilk.ipynb\" target=\"_parent\"><img src=\"https://colab.research.google.com/assets/colab-badge.svg\" alt=\"Open In Colab\"/></a>"
      ]
    },
    {
      "cell_type": "markdown",
      "metadata": {
        "id": "bA6soJRe_ctZ"
      },
      "source": [
        "# Statistical notebook for eating time MonthsInMilk"
      ]
    },
    {
      "cell_type": "markdown",
      "metadata": {
        "id": "E4n6rd-m_lSR"
      },
      "source": [
        "## Importing of google drive"
      ]
    },
    {
      "cell_type": "code",
      "metadata": {
        "colab": {
          "base_uri": "https://localhost:8080/"
        },
        "id": "WCUSUtqb21vg",
        "outputId": "a448835e-ed17-4175-dd8a-18c2e9e08007"
      },
      "source": [
        "from google.colab import drive\n",
        "drive.mount('/content/drive')"
      ],
      "execution_count": null,
      "outputs": [
        {
          "output_type": "stream",
          "text": [
            "Drive already mounted at /content/drive; to attempt to forcibly remount, call drive.mount(\"/content/drive\", force_remount=True).\n"
          ],
          "name": "stdout"
        }
      ]
    },
    {
      "cell_type": "markdown",
      "metadata": {
        "id": "Ma0Aajwx_r51"
      },
      "source": [
        "## R loading"
      ]
    },
    {
      "cell_type": "code",
      "metadata": {
        "id": "TxkiqsiB23Kg"
      },
      "source": [
        "%reload_ext rpy2.ipython"
      ],
      "execution_count": null,
      "outputs": []
    },
    {
      "cell_type": "code",
      "metadata": {
        "id": "tV7fJnp73fqX"
      },
      "source": [
        "%%R\n",
        "lib_loc <- \"/content/drive/Shareddrives/Bovi-Analytics/R-lib/\""
      ],
      "execution_count": null,
      "outputs": []
    },
    {
      "cell_type": "code",
      "metadata": {
        "id": "nzQ3HPLB3TAQ"
      },
      "source": [
        "%%R\n",
        "package_list <- c(\"ggplot2\",\n",
        "                  \"readr\",\n",
        "                  \"plyr\",\n",
        "                  \"dplyr\",\n",
        "                  \"tidyr\",                \n",
        "                  \"lme4\",\n",
        "                  \"lmerTest\",\n",
        "                  \"multcompView\",\n",
        "                  \"mvtnorm\",\n",
        "                  \"TH.data\",\n",
        "                  \"multcomp\",\n",
        "                  \"emmeans\",\n",
        "                  \"lsmeans\",\n",
        "                  \"carData\",\n",
        "                  \"car\"\n",
        "                  )\n",
        "\n",
        "for (pkg in package_list) {\n",
        "  if (pkg %in% rownames(.packages()) == FALSE)\n",
        "  {library(pkg, lib.loc = lib_loc, character.only = TRUE)}\n",
        "\n",
        "}"
      ],
      "execution_count": null,
      "outputs": []
    },
    {
      "cell_type": "markdown",
      "metadata": {
        "id": "j96Qh2mb_8Gq"
      },
      "source": [
        "## Data loading into dataframe"
      ]
    },
    {
      "cell_type": "code",
      "metadata": {
        "id": "XKMnpccx3BDP"
      },
      "source": [
        "%%R\n",
        "url = ('/content/drive/Shareddrives/Bovi-Analytics/Projects/SenseOfSensors/CsvData/SensorAggRepartitioned08032021/ObservationType=EatingTimeMinutesPerDay/part-00000-tid-183333261268000902-29b42dfd-564e-4e7d-8ea7-05b4fb30d5d6-1694-6.c000.csv')\n",
        "\n",
        "dataset = read.csv(url)\n",
        "\n"
      ],
      "execution_count": null,
      "outputs": []
    },
    {
      "cell_type": "code",
      "metadata": {
        "id": "EdsoTgv63LDl"
      },
      "source": [
        "%%R\n",
        "\n",
        "#path <- \"/content/drive/Shareddrives/Bovi-Analytics/Projects/SenseOfSensors/CsvData/SensorAggRepartitioned08032021/ObservationType=EatingTimeMinutesPerDay/part-00000-tid-183333261268000902-29b42dfd-564e-4e7d-8ea7-05b4fb30d5d6-1694-6.c000.csv\"\n",
        "AnalysisData <- \n",
        "  readr::read_csv(\"/content/drive/Shareddrives/Bovi-Analytics/Projects/SenseOfSensors/CsvData/SensorAggRepartitioned08032021/ObservationType=EatingTimeMinutesPerDay/part-00000-tid-183333261268000902-29b42dfd-564e-4e7d-8ea7-05b4fb30d5d6-1694-6.c000.csv\", \n",
        "    col_types = readr::cols(HerdIdentifier = readr::col_character(), \n",
        "        TransitionLactationNumber = readr::col_integer(), \n",
        "        TransitionParity = readr::col_character(), \n",
        "        TransitionMonthsInMilk = readr::col_integer(), \n",
        "        TransitionCalvingDate = readr::col_character(), \n",
        "        Hour = readr::col_integer(), \n",
        "        Observations = readr::col_integer())) %>% \n",
        "  dplyr::filter(dplyr::between(TransitionMonthsInMilk, -1, 10)) %>%\n",
        "   dplyr::mutate(\n",
        "    AnimalIdentifier = factor(AnimalIdentifier),\n",
        "    HerdIdentifier = factor(HerdIdentifier),\n",
        "    Parity = factor(TransitionParity),\n",
        "    MonthsInMilk = factor(TransitionMonthsInMilk),\n",
        "    CalvingSeason = factor(TransitionSeason),\n",
        "    Hour = factor(Hour),\n",
        "    SensorValue = ObservationValue,\n",
        "    MilkingType = factor(case_when(\n",
        "    HerdIdentifier %in% c(\"544\", \"2514\", \"3314\")~\"AMS\",\n",
        "    TRUE~\"CMS\"\n",
        "  ))\n",
        "  ) %>%\n",
        "  dplyr::select(AnimalIdentifier, HerdIdentifier, Parity, MonthsInMilk, CalvingSeason, Hour, SensorValue, MilkingType) %>%\n",
        "  tidyr::drop_na()"
      ],
      "execution_count": null,
      "outputs": []
    },
    {
      "cell_type": "code",
      "metadata": {
        "colab": {
          "base_uri": "https://localhost:8080/"
        },
        "id": "6tB88jG161J_",
        "outputId": "04620167-ab17-424a-dec0-1862d6ee0d6b"
      },
      "source": [
        "%%R\n",
        "head(AnalysisData)"
      ],
      "execution_count": null,
      "outputs": [
        {
          "output_type": "stream",
          "text": [
            "# A tibble: 6 x 8\n",
            "  AnimalIdentifier HerdIdentifier Parity MonthsInMilk CalvingSeason Hour \n",
            "  <fct>            <fct>          <fct>  <fct>        <fct>         <fct>\n",
            "1 10               2746           2      -1           Winter        0    \n",
            "2 92               3              1      1            Autumn        0    \n",
            "3 8127             2011           3+     7            Winter        0    \n",
            "4 10               2746           1      8            Autumn        0    \n",
            "5 8553             2011           2      2            Summer        0    \n",
            "6 92               3              3+     0            Autumn        0    \n",
            "# … with 2 more variables: SensorValue <dbl>, MilkingType <fct>\n"
          ],
          "name": "stdout"
        }
      ]
    },
    {
      "cell_type": "code",
      "metadata": {
        "colab": {
          "base_uri": "https://localhost:8080/"
        },
        "id": "F1V_3TaBTfdf",
        "outputId": "9d4ab23e-aee2-4625-8337-b20574a9a937"
      },
      "source": [
        "%%R\n",
        "str(AnalysisData)"
      ],
      "execution_count": null,
      "outputs": [
        {
          "output_type": "stream",
          "text": [
            "tibble[,8] [42,548 × 8] (S3: tbl_df/tbl/data.frame)\n",
            " $ AnimalIdentifier: Factor w/ 1100 levels \"1\",\"2\",\"3\",\"4\",..: 10 92 749 10 873 92 130 22 72 352 ...\n",
            " $ HerdIdentifier  : Factor w/ 8 levels \"2011\",\"2297\",..: 4 5 1 4 1 5 7 4 6 8 ...\n",
            " $ Parity          : Factor w/ 3 levels \"1\",\"2\",\"3+\": 2 1 3 1 2 3 1 1 3 3 ...\n",
            " $ MonthsInMilk    : Factor w/ 12 levels \"-1\",\"0\",\"1\",\"2\",..: 1 3 9 10 4 2 1 5 6 1 ...\n",
            " $ CalvingSeason   : Factor w/ 4 levels \"Autumn\",\"Spring\",..: 4 1 4 1 3 1 2 4 1 1 ...\n",
            " $ Hour            : Factor w/ 1 level \"0\": 1 1 1 1 1 1 1 1 1 1 ...\n",
            " $ SensorValue     : num [1:42548] 505 315 334 483 442 ...\n",
            " $ MilkingType     : Factor w/ 2 levels \"AMS\",\"CMS\": 2 2 2 2 2 2 1 2 1 2 ...\n"
          ],
          "name": "stdout"
        }
      ]
    },
    {
      "cell_type": "markdown",
      "metadata": {
        "id": "yq_0sR7phWSH"
      },
      "source": [
        "## Descriptive statistics"
      ]
    },
    {
      "cell_type": "code",
      "metadata": {
        "colab": {
          "base_uri": "https://localhost:8080/"
        },
        "id": "93-Yu1JyhVJb",
        "outputId": "29ed42ab-a9a8-4549-9c46-6b269b54b853"
      },
      "source": [
        "%%R\n",
        "AnalysisData %>%\n",
        "  group_by(Parity) %>%\n",
        "  summarise(Unique_Elements = n_distinct(AnimalIdentifier))"
      ],
      "execution_count": null,
      "outputs": [
        {
          "output_type": "stream",
          "text": [
            "# A tibble: 3 x 2\n",
            "  Parity Unique_Elements\n",
            "  <fct>            <int>\n",
            "1 1                  704\n",
            "2 2                  693\n",
            "3 3+                 733\n"
          ],
          "name": "stdout"
        }
      ]
    },
    {
      "cell_type": "code",
      "metadata": {
        "colab": {
          "base_uri": "https://localhost:8080/"
        },
        "id": "O9zQgXhG4WIN",
        "outputId": "9f791694-bb22-4375-b509-5dd8a43d0ef4"
      },
      "source": [
        "%%R\n",
        "AnalysisData %>%\n",
        "  summarise(Unique_Elements = n_distinct(AnimalIdentifier))"
      ],
      "execution_count": null,
      "outputs": [
        {
          "output_type": "stream",
          "text": [
            "# A tibble: 1 x 1\n",
            "  Unique_Elements\n",
            "            <int>\n",
            "1            1074\n"
          ],
          "name": "stdout"
        }
      ]
    },
    {
      "cell_type": "markdown",
      "metadata": {
        "id": "R3In3XAH6UNw"
      },
      "source": [
        "# Model building"
      ]
    },
    {
      "cell_type": "markdown",
      "metadata": {
        "id": "xH_zbB8lAnnT"
      },
      "source": [
        "First we determine the null model"
      ]
    },
    {
      "cell_type": "markdown",
      "metadata": {
        "id": "2HV14NMvAqNi"
      },
      "source": [
        "## Null model"
      ]
    },
    {
      "cell_type": "code",
      "metadata": {
        "id": "oMj6hll16TdN"
      },
      "source": [
        "%%R\n",
        "Model.0 <- lme4::lmer(\n",
        "                  SensorValue ~ 1 + (1| HerdIdentifier:AnimalIdentifier), \n",
        "                  data = AnalysisData\n",
        "                  )\n"
      ],
      "execution_count": null,
      "outputs": []
    },
    {
      "cell_type": "markdown",
      "metadata": {
        "id": "Y67KPZBG6Vtp"
      },
      "source": [
        "## Univariable models"
      ]
    },
    {
      "cell_type": "code",
      "metadata": {
        "colab": {
          "base_uri": "https://localhost:8080/"
        },
        "id": "BtHdHQiAVH4_",
        "outputId": "7544f71b-c2aa-4043-ac08-e9853fecf23f"
      },
      "source": [
        "%%R\n",
        "Model1.0 <- lme4::lmer(\n",
        "                  SensorValue ~ \n",
        "                  MonthsInMilk + \n",
        "                  (1| HerdIdentifier:AnimalIdentifier),\n",
        "                  REML = FALSE,\n",
        "                  data = AnalysisData\n",
        ")\n",
        "anova(Model.0,Model1.0,test=\"Chisq\")"
      ],
      "execution_count": null,
      "outputs": [
        {
          "output_type": "stream",
          "text": [
            "R[write to console]: refitting model(s) with ML (instead of REML)\n",
            "\n"
          ],
          "name": "stderr"
        },
        {
          "output_type": "stream",
          "text": [
            "Data: AnalysisData\n",
            "Models:\n",
            "Model.0: SensorValue ~ 1 + (1 | HerdIdentifier:AnimalIdentifier)\n",
            "Model1.0: SensorValue ~ MonthsInMilk + (1 | HerdIdentifier:AnimalIdentifier)\n",
            "         npar    AIC    BIC  logLik deviance  Chisq Df Pr(>Chisq)    \n",
            "Model.0     3 479550 479576 -239772   479544                         \n",
            "Model1.0   14 478179 478300 -239076   478151 1392.7 11  < 2.2e-16 ***\n",
            "---\n",
            "Signif. codes:  0 ‘***’ 0.001 ‘**’ 0.01 ‘*’ 0.05 ‘.’ 0.1 ‘ ’ 1\n"
          ],
          "name": "stdout"
        }
      ]
    },
    {
      "cell_type": "code",
      "metadata": {
        "colab": {
          "base_uri": "https://localhost:8080/"
        },
        "id": "gMvqQic5VSOL",
        "outputId": "65875e48-8add-4663-b8cf-0c442261a6b8"
      },
      "source": [
        "%%R\n",
        "Model1.1 <- lme4::lmer(\n",
        "                  SensorValue ~ \n",
        "                  Parity + \n",
        "                  (1| HerdIdentifier:AnimalIdentifier),\n",
        "                  REML = FALSE,\n",
        "                  data = AnalysisData\n",
        "                  )\n",
        "anova(Model.0,Model1.1,test=\"Chisq\")"
      ],
      "execution_count": null,
      "outputs": [
        {
          "output_type": "stream",
          "text": [
            "R[write to console]: refitting model(s) with ML (instead of REML)\n",
            "\n"
          ],
          "name": "stderr"
        },
        {
          "output_type": "stream",
          "text": [
            "Data: AnalysisData\n",
            "Models:\n",
            "Model.0: SensorValue ~ 1 + (1 | HerdIdentifier:AnimalIdentifier)\n",
            "Model1.1: SensorValue ~ Parity + (1 | HerdIdentifier:AnimalIdentifier)\n",
            "         npar    AIC    BIC  logLik deviance  Chisq Df Pr(>Chisq)    \n",
            "Model.0     3 479550 479576 -239772   479544                         \n",
            "Model1.1    5 476682 476725 -238336   476672 2872.1  2  < 2.2e-16 ***\n",
            "---\n",
            "Signif. codes:  0 ‘***’ 0.001 ‘**’ 0.01 ‘*’ 0.05 ‘.’ 0.1 ‘ ’ 1\n"
          ],
          "name": "stdout"
        }
      ]
    },
    {
      "cell_type": "code",
      "metadata": {
        "colab": {
          "base_uri": "https://localhost:8080/"
        },
        "id": "D1LlsEdpVWQP",
        "outputId": "095e6575-40cf-427b-c756-b85133874f4a"
      },
      "source": [
        "%%R\n",
        "Model1.2 <- lme4::lmer(\n",
        "                  SensorValue ~ \n",
        "                  CalvingSeason +\n",
        "                  (1| HerdIdentifier:AnimalIdentifier),\n",
        "                  REML = FALSE,\n",
        "                  data = AnalysisData\n",
        "                  )\n",
        "anova(Model.0,Model1.2,test=\"Chisq\")"
      ],
      "execution_count": null,
      "outputs": [
        {
          "output_type": "stream",
          "text": [
            "R[write to console]: refitting model(s) with ML (instead of REML)\n",
            "\n"
          ],
          "name": "stderr"
        },
        {
          "output_type": "stream",
          "text": [
            "Data: AnalysisData\n",
            "Models:\n",
            "Model.0: SensorValue ~ 1 + (1 | HerdIdentifier:AnimalIdentifier)\n",
            "Model1.2: SensorValue ~ CalvingSeason + (1 | HerdIdentifier:AnimalIdentifier)\n",
            "         npar    AIC    BIC  logLik deviance  Chisq Df Pr(>Chisq)    \n",
            "Model.0     3 479550 479576 -239772   479544                         \n",
            "Model1.2    6 479509 479561 -239749   479497 46.252  3  5.014e-10 ***\n",
            "---\n",
            "Signif. codes:  0 ‘***’ 0.001 ‘**’ 0.01 ‘*’ 0.05 ‘.’ 0.1 ‘ ’ 1\n"
          ],
          "name": "stdout"
        }
      ]
    },
    {
      "cell_type": "code",
      "metadata": {
        "id": "bd8jrGGgWUbv",
        "colab": {
          "base_uri": "https://localhost:8080/"
        },
        "outputId": "80228c25-56dc-47a2-f9bb-2c2cbb925540"
      },
      "source": [
        "%%R\n",
        "Model1.3 <- lme4::lmer(\n",
        "                  SensorValue ~ \n",
        "                  MilkingType +\n",
        "                  (1| HerdIdentifier:AnimalIdentifier),\n",
        "                  REML = FALSE,\n",
        "                  data = AnalysisData\n",
        "                  )\n",
        "anova(Model.0,Model1.3,test=\"Chisq\")"
      ],
      "execution_count": null,
      "outputs": [
        {
          "output_type": "stream",
          "text": [
            "R[write to console]: refitting model(s) with ML (instead of REML)\n",
            "\n"
          ],
          "name": "stderr"
        },
        {
          "output_type": "stream",
          "text": [
            "Data: AnalysisData\n",
            "Models:\n",
            "Model.0: SensorValue ~ 1 + (1 | HerdIdentifier:AnimalIdentifier)\n",
            "Model1.3: SensorValue ~ MilkingType + (1 | HerdIdentifier:AnimalIdentifier)\n",
            "         npar    AIC    BIC  logLik deviance  Chisq Df Pr(>Chisq)    \n",
            "Model.0     3 479550 479576 -239772   479544                         \n",
            "Model1.3    4 479477 479512 -239735   479469 74.619  1  < 2.2e-16 ***\n",
            "---\n",
            "Signif. codes:  0 ‘***’ 0.001 ‘**’ 0.01 ‘*’ 0.05 ‘.’ 0.1 ‘ ’ 1\n"
          ],
          "name": "stdout"
        }
      ]
    },
    {
      "cell_type": "markdown",
      "metadata": {
        "id": "4fXa9WQx6Zzh"
      },
      "source": [
        "## Multivariable models"
      ]
    },
    {
      "cell_type": "code",
      "metadata": {
        "id": "N2pB1m1lXFCW"
      },
      "source": [
        "%%R\n",
        "Model2.0 <- lme4::lmer(\n",
        "                  SensorValue ~ \n",
        "                  Parity + MonthsInMilk + CalvingSeason + MilkingType +\n",
        "                  (1| HerdIdentifier:AnimalIdentifier),\n",
        "                  REML = FALSE,\n",
        "                  data = AnalysisData\n",
        "                  )"
      ],
      "execution_count": null,
      "outputs": []
    },
    {
      "cell_type": "code",
      "metadata": {
        "colab": {
          "base_uri": "https://localhost:8080/"
        },
        "id": "_jkt1d5IbXsd",
        "outputId": "3eb28ebb-7407-465f-9170-2b5ca2ad0f96"
      },
      "source": [
        "%%R\n",
        "drop1(Model2.0,test=\"Chisq\")"
      ],
      "execution_count": null,
      "outputs": [
        {
          "output_type": "stream",
          "text": [
            "Single term deletions\n",
            "\n",
            "Model:\n",
            "SensorValue ~ Parity + MonthsInMilk + CalvingSeason + MilkingType + \n",
            "    (1 | HerdIdentifier:AnimalIdentifier)\n",
            "              npar    AIC     LRT   Pr(Chi)    \n",
            "<none>             475507                      \n",
            "Parity           2 478086 2582.32 < 2.2e-16 ***\n",
            "MonthsInMilk    11 476585 1100.25 < 2.2e-16 ***\n",
            "CalvingSeason    3 475520   19.27 0.0002406 ***\n",
            "MilkingType      1 475578   73.24 < 2.2e-16 ***\n",
            "---\n",
            "Signif. codes:  0 ‘***’ 0.001 ‘**’ 0.01 ‘*’ 0.05 ‘.’ 0.1 ‘ ’ 1\n"
          ],
          "name": "stdout"
        }
      ]
    },
    {
      "cell_type": "markdown",
      "metadata": {
        "id": "ljVTKt-Pctv0"
      },
      "source": [
        "## Introduction of interactions"
      ]
    },
    {
      "cell_type": "markdown",
      "metadata": {
        "id": "79oMxviecv0k"
      },
      "source": [
        "### Interactions with MonthsInMilk"
      ]
    },
    {
      "cell_type": "code",
      "metadata": {
        "colab": {
          "base_uri": "https://localhost:8080/"
        },
        "id": "kO8mZS_-5EK9",
        "outputId": "85f55ef9-18a0-4364-e8c6-9f49f40da1ad"
      },
      "source": [
        "%%R\n",
        "Model2.1 <- lme4::lmer(\n",
        "                  SensorValue ~ \n",
        "                  MonthsInMilk*Parity + CalvingSeason + MilkingType +\n",
        "                  (1| HerdIdentifier:AnimalIdentifier),\n",
        "                  REML = FALSE,\n",
        "                  data = AnalysisData\n",
        "                  )\n",
        "anova(Model2.0,Model2.1,test=\"Chisq\")"
      ],
      "execution_count": null,
      "outputs": [
        {
          "output_type": "stream",
          "text": [
            "Data: AnalysisData\n",
            "Models:\n",
            "Model2.0: SensorValue ~ Parity + MonthsInMilk + CalvingSeason + MilkingType + \n",
            "Model2.0:     (1 | HerdIdentifier:AnimalIdentifier)\n",
            "Model2.1: SensorValue ~ MonthsInMilk * Parity + CalvingSeason + MilkingType + \n",
            "Model2.1:     (1 | HerdIdentifier:AnimalIdentifier)\n",
            "         npar    AIC    BIC  logLik deviance  Chisq Df Pr(>Chisq)    \n",
            "Model2.0   20 475507 475680 -237734   475467                         \n",
            "Model2.1   42 474211 474574 -237063   474127 1340.5 22  < 2.2e-16 ***\n",
            "---\n",
            "Signif. codes:  0 ‘***’ 0.001 ‘**’ 0.01 ‘*’ 0.05 ‘.’ 0.1 ‘ ’ 1\n"
          ],
          "name": "stdout"
        }
      ]
    },
    {
      "cell_type": "code",
      "metadata": {
        "colab": {
          "base_uri": "https://localhost:8080/"
        },
        "id": "mkVcZec9cyCk",
        "outputId": "0269e10b-f967-49b7-fb1d-739a53fd136c"
      },
      "source": [
        "%%R\n",
        "Model2.2 <- lme4::lmer(\n",
        "                  SensorValue ~ \n",
        "                  MonthsInMilk*MilkingType + CalvingSeason + Parity +\n",
        "                  (1| HerdIdentifier:AnimalIdentifier),\n",
        "                  REML = FALSE,\n",
        "                  data = AnalysisData\n",
        "                  )\n",
        "anova(Model2.0,Model2.2,test=\"Chisq\")"
      ],
      "execution_count": null,
      "outputs": [
        {
          "output_type": "stream",
          "text": [
            "Data: AnalysisData\n",
            "Models:\n",
            "Model2.0: SensorValue ~ Parity + MonthsInMilk + CalvingSeason + MilkingType + \n",
            "Model2.0:     (1 | HerdIdentifier:AnimalIdentifier)\n",
            "Model2.2: SensorValue ~ MonthsInMilk * MilkingType + CalvingSeason + Parity + \n",
            "Model2.2:     (1 | HerdIdentifier:AnimalIdentifier)\n",
            "         npar    AIC    BIC  logLik deviance  Chisq Df Pr(>Chisq)    \n",
            "Model2.0   20 475507 475680 -237734   475467                         \n",
            "Model2.2   31 475467 475736 -237703   475405 61.923 11  4.065e-09 ***\n",
            "---\n",
            "Signif. codes:  0 ‘***’ 0.001 ‘**’ 0.01 ‘*’ 0.05 ‘.’ 0.1 ‘ ’ 1\n"
          ],
          "name": "stdout"
        }
      ]
    },
    {
      "cell_type": "code",
      "metadata": {
        "colab": {
          "base_uri": "https://localhost:8080/"
        },
        "id": "Wb15N_ANcybP",
        "outputId": "84f859b3-4482-4469-ef20-9a2be2d662d5"
      },
      "source": [
        "%%R\n",
        "Model2.3 <- lme4::lmer(\n",
        "                  SensorValue ~ \n",
        "                  MonthsInMilk*CalvingSeason + Parity + MilkingType +\n",
        "                  (1| HerdIdentifier:AnimalIdentifier),\n",
        "                  REML = FALSE,\n",
        "                  data = AnalysisData\n",
        "                  )\n",
        "anova(Model2.0,Model2.3,test=\"Chisq\")"
      ],
      "execution_count": null,
      "outputs": [
        {
          "output_type": "stream",
          "text": [
            "Data: AnalysisData\n",
            "Models:\n",
            "Model2.0: SensorValue ~ Parity + MonthsInMilk + CalvingSeason + MilkingType + \n",
            "Model2.0:     (1 | HerdIdentifier:AnimalIdentifier)\n",
            "Model2.3: SensorValue ~ MonthsInMilk * CalvingSeason + Parity + MilkingType + \n",
            "Model2.3:     (1 | HerdIdentifier:AnimalIdentifier)\n",
            "         npar    AIC    BIC  logLik deviance  Chisq Df Pr(>Chisq)    \n",
            "Model2.0   20 475507 475680 -237734   475467                         \n",
            "Model2.3   53 475000 475459 -237447   474894 572.77 33  < 2.2e-16 ***\n",
            "---\n",
            "Signif. codes:  0 ‘***’ 0.001 ‘**’ 0.01 ‘*’ 0.05 ‘.’ 0.1 ‘ ’ 1\n"
          ],
          "name": "stdout"
        }
      ]
    },
    {
      "cell_type": "markdown",
      "metadata": {
        "id": "fmKSPEKhd0XJ"
      },
      "source": [
        "## Multiple interactions"
      ]
    },
    {
      "cell_type": "code",
      "metadata": {
        "colab": {
          "base_uri": "https://localhost:8080/"
        },
        "id": "VNnl2eKxc9ug",
        "outputId": "05dcd6b2-b45e-4f9e-91d2-3442510bc210"
      },
      "source": [
        "%%R\n",
        "Model2.4 <- lme4::lmer(\n",
        "                  SensorValue ~ \n",
        "                  MonthsInMilk*CalvingSeason + \n",
        "                  MonthsInMilk*Parity + \n",
        "                  MonthsInMilk*MilkingType +\n",
        "                  (1| HerdIdentifier:AnimalIdentifier),\n",
        "                  REML = FALSE,\n",
        "                  data = AnalysisData\n",
        "                  )\n",
        "anova(Model2.0,Model2.4,test=\"Chisq\")"
      ],
      "execution_count": null,
      "outputs": [
        {
          "output_type": "stream",
          "text": [
            "Data: AnalysisData\n",
            "Models:\n",
            "Model2.0: SensorValue ~ Parity + MonthsInMilk + CalvingSeason + MilkingType + \n",
            "Model2.0:     (1 | HerdIdentifier:AnimalIdentifier)\n",
            "Model2.4: SensorValue ~ MonthsInMilk * CalvingSeason + MonthsInMilk * Parity + \n",
            "Model2.4:     MonthsInMilk * MilkingType + (1 | HerdIdentifier:AnimalIdentifier)\n",
            "         npar    AIC    BIC  logLik deviance  Chisq Df Pr(>Chisq)    \n",
            "Model2.0   20 475507 475680 -237734   475467                         \n",
            "Model2.4   86 473643 474388 -236736   473471 1995.9 66  < 2.2e-16 ***\n",
            "---\n",
            "Signif. codes:  0 ‘***’ 0.001 ‘**’ 0.01 ‘*’ 0.05 ‘.’ 0.1 ‘ ’ 1\n"
          ],
          "name": "stdout"
        }
      ]
    },
    {
      "cell_type": "code",
      "metadata": {
        "colab": {
          "base_uri": "https://localhost:8080/"
        },
        "id": "nDPBFISf8kGh",
        "outputId": "dd2252ce-4843-4de4-a2e6-f70f5564a9b2"
      },
      "source": [
        "%%R\n",
        "summary(Model2.4)"
      ],
      "execution_count": null,
      "outputs": [
        {
          "output_type": "stream",
          "text": [
            "Linear mixed model fit by maximum likelihood  ['lmerMod']\n",
            "Formula: SensorValue ~ MonthsInMilk * CalvingSeason + MonthsInMilk * Parity +  \n",
            "    MonthsInMilk * MilkingType + (1 | HerdIdentifier:AnimalIdentifier)\n",
            "   Data: AnalysisData\n",
            "\n",
            "      AIC       BIC    logLik  deviance  df.resid \n",
            " 473643.3  474387.9 -236735.6  473471.3     42462 \n",
            "\n",
            "Scaled residuals: \n",
            "    Min      1Q  Median      3Q     Max \n",
            "-7.1223 -0.5039  0.0492  0.5852  6.5704 \n",
            "\n",
            "Random effects:\n",
            " Groups                          Name        Variance Std.Dev.\n",
            " HerdIdentifier:AnimalIdentifier (Intercept) 2834     53.23   \n",
            " Residual                                    3549     59.57   \n",
            "Number of obs: 42548, groups:  HerdIdentifier:AnimalIdentifier, 1720\n",
            "\n",
            "Fixed effects:\n",
            "                                    Estimate Std. Error t value\n",
            "(Intercept)                         281.4363     4.0613  69.298\n",
            "MonthsInMilk0                        13.6590     4.3858   3.114\n",
            "MonthsInMilk1                        11.7896     4.4908   2.625\n",
            "MonthsInMilk2                        24.0407     4.4903   5.354\n",
            "MonthsInMilk3                        45.7424     4.5227  10.114\n",
            "MonthsInMilk4                        55.8975     4.5285  12.343\n",
            "MonthsInMilk5                        67.5959     4.5478  14.863\n",
            "MonthsInMilk6                        79.2806     4.5753  17.328\n",
            "MonthsInMilk7                        87.0273     4.5743  19.025\n",
            "MonthsInMilk8                        90.7321     4.5665  19.869\n",
            "MonthsInMilk9                        83.4578     4.5646  18.284\n",
            "MonthsInMilk10                       72.4474     4.5543  15.907\n",
            "CalvingSeasonSpring                  -1.8222     3.0400  -0.599\n",
            "CalvingSeasonSummer                   9.0939     2.7985   3.250\n",
            "CalvingSeasonWinter                 -10.3502     3.0193  -3.428\n",
            "Parity2                              78.3296     3.2750  23.917\n",
            "Parity3+                             16.6902     2.9335   5.690\n",
            "MilkingTypeCMS                       22.0478     3.4698   6.354\n",
            "MonthsInMilk0:CalvingSeasonSpring    -0.6411     3.9357  -0.163\n",
            "MonthsInMilk1:CalvingSeasonSpring    16.5626     4.0387   4.101\n",
            "MonthsInMilk2:CalvingSeasonSpring    28.7032     4.0604   7.069\n",
            "MonthsInMilk3:CalvingSeasonSpring    17.5879     4.0914   4.299\n",
            "MonthsInMilk4:CalvingSeasonSpring     7.8996     4.0892   1.932\n",
            "MonthsInMilk5:CalvingSeasonSpring     4.9192     4.0830   1.205\n",
            "MonthsInMilk6:CalvingSeasonSpring     1.5093     4.0721   0.371\n",
            "MonthsInMilk7:CalvingSeasonSpring    -1.7696     4.1048  -0.431\n",
            "MonthsInMilk8:CalvingSeasonSpring   -13.0948     4.1332  -3.168\n",
            "MonthsInMilk9:CalvingSeasonSpring    -9.1448     4.1997  -2.178\n",
            "MonthsInMilk10:CalvingSeasonSpring   -4.9800     4.2197  -1.180\n",
            "MonthsInMilk0:CalvingSeasonSummer     1.7251     3.6272   0.476\n",
            "MonthsInMilk1:CalvingSeasonSummer   -10.8547     3.7170  -2.920\n",
            "MonthsInMilk2:CalvingSeasonSummer    -8.9835     3.7275  -2.410\n",
            "MonthsInMilk3:CalvingSeasonSummer    -7.7588     3.7513  -2.068\n",
            "MonthsInMilk4:CalvingSeasonSummer    -6.4484     3.7806  -1.706\n",
            "MonthsInMilk5:CalvingSeasonSummer    -7.6734     3.8161  -2.011\n",
            "MonthsInMilk6:CalvingSeasonSummer   -14.2664     3.8781  -3.679\n",
            "MonthsInMilk7:CalvingSeasonSummer   -24.3201     3.8866  -6.257\n",
            "MonthsInMilk8:CalvingSeasonSummer   -31.1939     3.8926  -8.014\n",
            "MonthsInMilk9:CalvingSeasonSummer   -21.5914     3.8950  -5.543\n",
            "MonthsInMilk10:CalvingSeasonSummer   -3.8877     3.8832  -1.001\n",
            "MonthsInMilk0:CalvingSeasonWinter     3.3518     3.9231   0.854\n",
            "MonthsInMilk1:CalvingSeasonWinter    12.7413     4.0697   3.131\n",
            "MonthsInMilk2:CalvingSeasonWinter    21.9720     4.0976   5.362\n",
            "MonthsInMilk3:CalvingSeasonWinter    25.3729     4.1353   6.136\n",
            "MonthsInMilk4:CalvingSeasonWinter    33.2063     4.1450   8.011\n",
            "MonthsInMilk5:CalvingSeasonWinter    38.9515     4.1353   9.419\n",
            "MonthsInMilk6:CalvingSeasonWinter    21.6820     4.1401   5.237\n",
            "MonthsInMilk7:CalvingSeasonWinter     5.1748     4.1285   1.253\n",
            "MonthsInMilk8:CalvingSeasonWinter    -4.4030     4.1112  -1.071\n",
            "MonthsInMilk9:CalvingSeasonWinter     8.2821     4.0858   2.027\n",
            "MonthsInMilk10:CalvingSeasonWinter   14.6853     4.0863   3.594\n",
            "MonthsInMilk0:Parity2               -34.0719     4.2584  -8.001\n",
            "MonthsInMilk1:Parity2               -53.1331     4.3269 -12.280\n",
            "MonthsInMilk2:Parity2               -61.0779     4.3162 -14.151\n",
            "MonthsInMilk3:Parity2               -75.6425     4.3030 -17.579\n",
            "MonthsInMilk4:Parity2               -84.3964     4.3103 -19.580\n",
            "MonthsInMilk5:Parity2               -90.7676     4.3186 -21.018\n",
            "MonthsInMilk6:Parity2               -95.9760     4.3280 -22.176\n",
            "MonthsInMilk7:Parity2               -97.8876     4.3342 -22.585\n",
            "MonthsInMilk8:Parity2              -101.7105     4.3393 -23.439\n",
            "MonthsInMilk9:Parity2              -103.7445     4.3548 -23.823\n",
            "MonthsInMilk10:Parity2             -107.0827     4.3522 -24.604\n",
            "MonthsInMilk0:Parity3+              -26.9775     3.6906  -7.310\n",
            "MonthsInMilk1:Parity3+              -44.6332     3.7691 -11.842\n",
            "MonthsInMilk2:Parity3+              -42.1452     3.7636 -11.198\n",
            "MonthsInMilk3:Parity3+              -53.5252     3.7567 -14.248\n",
            "MonthsInMilk4:Parity3+              -62.2355     3.7614 -16.546\n",
            "MonthsInMilk5:Parity3+              -71.4686     3.7775 -18.919\n",
            "MonthsInMilk6:Parity3+              -73.1623     3.7953 -19.277\n",
            "MonthsInMilk7:Parity3+              -74.2297     3.8104 -19.481\n",
            "MonthsInMilk8:Parity3+              -76.8273     3.8176 -20.124\n",
            "MonthsInMilk9:Parity3+              -80.0823     3.8298 -20.910\n",
            "MonthsInMilk10:Parity3+             -81.9032     3.8275 -21.399\n",
            "MonthsInMilk0:MilkingTypeCMS         -0.3913     2.9154  -0.134\n",
            "MonthsInMilk1:MilkingTypeCMS         11.4604     3.0073   3.811\n",
            "MonthsInMilk2:MilkingTypeCMS          3.9888     3.0080   1.326\n",
            "MonthsInMilk3:MilkingTypeCMS         -2.4387     3.0098  -0.810\n",
            "MonthsInMilk4:MilkingTypeCMS         -1.5618     3.0132  -0.518\n",
            "MonthsInMilk5:MilkingTypeCMS         -2.9670     3.0273  -0.980\n",
            "MonthsInMilk6:MilkingTypeCMS         -2.1979     3.0428  -0.722\n",
            "MonthsInMilk7:MilkingTypeCMS          0.0466     3.0539   0.015\n",
            "MonthsInMilk8:MilkingTypeCMS          5.2212     3.0566   1.708\n",
            "MonthsInMilk9:MilkingTypeCMS          6.6688     3.0692   2.173\n",
            "MonthsInMilk10:MilkingTypeCMS         9.9463     3.0696   3.240\n"
          ],
          "name": "stdout"
        },
        {
          "output_type": "stream",
          "text": [
            "R[write to console]: \n",
            "Correlation matrix not shown by default, as p = 84 > 12.\n",
            "Use print(object, correlation=TRUE)  or\n",
            "    vcov(object)        if you need it\n",
            "\n",
            "\n"
          ],
          "name": "stderr"
        }
      ]
    },
    {
      "cell_type": "code",
      "metadata": {
        "id": "iwk8mtFH997x",
        "colab": {
          "base_uri": "https://localhost:8080/"
        },
        "outputId": "fd33c974-f712-4b5c-8d64-8bc43d777eae"
      },
      "source": [
        "%%R\n",
        "finalModel <- Model2.4\n",
        "Modeldrop <- drop1(finalModel, test=\"Chisq\")\n",
        "if(\"Pr(>F)\" %in% colnames(Modeldrop))\n",
        "{\n",
        "  Pvalues <- Modeldrop$`Pr(>F)`\n",
        "} else \n",
        "{\n",
        "  Pvalues <- Modeldrop$`Pr(Chi)`\n",
        "}\n",
        "Modeldrop"
      ],
      "execution_count": null,
      "outputs": [
        {
          "output_type": "stream",
          "text": [
            "Single term deletions\n",
            "\n",
            "Model:\n",
            "SensorValue ~ MonthsInMilk * CalvingSeason + MonthsInMilk * Parity + \n",
            "    MonthsInMilk * MilkingType + (1 | HerdIdentifier:AnimalIdentifier)\n",
            "                           npar    AIC     LRT   Pr(Chi)    \n",
            "<none>                          473643                      \n",
            "MonthsInMilk:CalvingSeason   33 474172  594.55 < 2.2e-16 ***\n",
            "MonthsInMilk:Parity          22 474963 1364.01 < 2.2e-16 ***\n",
            "MonthsInMilk:MilkingType     11 473680   58.91 1.477e-08 ***\n",
            "---\n",
            "Signif. codes:  0 ‘***’ 0.001 ‘**’ 0.01 ‘*’ 0.05 ‘.’ 0.1 ‘ ’ 1\n"
          ],
          "name": "stdout"
        }
      ]
    },
    {
      "cell_type": "code",
      "metadata": {
        "id": "Tei50epK7u5q"
      },
      "source": [
        "%%R\n",
        "save(finalModel, file=\"/content/drive/Shareddrives/Bovi-Analytics/Projects/SenseOfSensors/CsvData/SensorAggRepartitioned08032021/finalmodeleatingtime.rdata\")"
      ],
      "execution_count": null,
      "outputs": []
    },
    {
      "cell_type": "markdown",
      "metadata": {
        "id": "AVDpPc5Id49m"
      },
      "source": [
        "# Final model analysis of variance"
      ]
    },
    {
      "cell_type": "code",
      "metadata": {
        "colab": {
          "base_uri": "https://localhost:8080/"
        },
        "id": "A2Pht69s724t",
        "outputId": "424d6626-aacc-4315-ed25-5d35ca2307bb"
      },
      "source": [
        "%%R\n",
        "Anova(finalModel)"
      ],
      "execution_count": null,
      "outputs": [
        {
          "output_type": "stream",
          "text": [
            "Analysis of Deviance Table (Type II Wald chisquare tests)\n",
            "\n",
            "Response: SensorValue\n",
            "                              Chisq Df Pr(>Chisq)    \n",
            "MonthsInMilk               1170.892 11  < 2.2e-16 ***\n",
            "CalvingSeason                19.603  3  0.0002052 ***\n",
            "Parity                     2803.977  2  < 2.2e-16 ***\n",
            "MilkingType                  73.941  1  < 2.2e-16 ***\n",
            "MonthsInMilk:CalvingSeason  598.982 33  < 2.2e-16 ***\n",
            "MonthsInMilk:Parity        1386.760 22  < 2.2e-16 ***\n",
            "MonthsInMilk:MilkingType     58.952 11  1.451e-08 ***\n",
            "---\n",
            "Signif. codes:  0 ‘***’ 0.001 ‘**’ 0.01 ‘*’ 0.05 ‘.’ 0.1 ‘ ’ 1\n"
          ],
          "name": "stdout"
        }
      ]
    },
    {
      "cell_type": "markdown",
      "metadata": {
        "id": "o_lNMoApe7rx"
      },
      "source": [
        "# Final model figures and LSM (95% CI)"
      ]
    },
    {
      "cell_type": "markdown",
      "metadata": {
        "id": "IYoGfSjXfAE5"
      },
      "source": [
        "## Main effects"
      ]
    },
    {
      "cell_type": "code",
      "metadata": {
        "colab": {
          "base_uri": "https://localhost:8080/"
        },
        "id": "0iqNi254rGC1",
        "outputId": "52d395b6-1103-4cb9-8763-1fc508d5e3d5"
      },
      "source": [
        "%%R\n",
        "multcomp::cld(lsmeans::lsmeans(finalModel, ~ MonthsInMilk), alpha=0.05, Letters=letters, adjust=\"tukey\")"
      ],
      "execution_count": null,
      "outputs": [
        {
          "output_type": "stream",
          "text": [
            "R[write to console]: Note: D.f. calculations have been disabled because the number of observations exceeds 3000.\n",
            "To enable adjustments, add the argument 'pbkrtest.limit = 42548' (or larger)\n",
            "[or, globally, 'set emm_options(pbkrtest.limit = 42548)' or larger];\n",
            "but be warned that this may result in large computation time and memory use.\n",
            "\n",
            "R[write to console]: Note: D.f. calculations have been disabled because the number of observations exceeds 3000.\n",
            "To enable adjustments, add the argument 'lmerTest.limit = 42548' (or larger)\n",
            "[or, globally, 'set emm_options(lmerTest.limit = 42548)' or larger];\n",
            "but be warned that this may result in large computation time and memory use.\n",
            "\n",
            "R[write to console]: NOTE: Results may be misleading due to involvement in interactions\n",
            "\n",
            "R[write to console]: Note: adjust = \"tukey\" was changed to \"sidak\"\n",
            "because \"tukey\" is only appropriate for one set of pairwise comparisons\n",
            "\n"
          ],
          "name": "stderr"
        },
        {
          "output_type": "stream",
          "text": [
            " MonthsInMilk lsmean   SE  df asymp.LCL asymp.UCL .group \n",
            " 1               313 1.79 Inf       308       318  a     \n",
            " 0               318 1.75 Inf       313       323  a     \n",
            " -1              323 1.83 Inf       318       329   b    \n",
            " 2               325 1.79 Inf       320       331   b    \n",
            " 3               334 1.79 Inf       329       339    c   \n",
            " 4               338 1.78 Inf       333       343    cd  \n",
            " 10              339 1.80 Inf       334       344     de \n",
            " 9               343 1.80 Inf       338       348     def\n",
            " 5               344 1.78 Inf       339       350      ef\n",
            " 8               345 1.79 Inf       340       350       f\n",
            " 6               347 1.79 Inf       342       353       f\n",
            " 7               348 1.79 Inf       343       353       f\n",
            "\n",
            "Results are averaged over the levels of: CalvingSeason, Parity, MilkingType \n",
            "Degrees-of-freedom method: asymptotic \n",
            "Confidence level used: 0.95 \n",
            "Conf-level adjustment: sidak method for 12 estimates \n",
            "P value adjustment: tukey method for comparing a family of 12 estimates \n",
            "significance level used: alpha = 0.05 \n"
          ],
          "name": "stdout"
        }
      ]
    },
    {
      "cell_type": "code",
      "metadata": {
        "colab": {
          "base_uri": "https://localhost:8080/"
        },
        "id": "4Yyx-9gQgIUo",
        "outputId": "eecac7a1-8598-4ee9-e293-e26f51997b2e"
      },
      "source": [
        "%%R\n",
        "multcomp::cld(lsmeans::lsmeans(finalModel, ~ Parity), alpha=0.05, Letters=letters, adjust=\"tukey\")"
      ],
      "execution_count": null,
      "outputs": [
        {
          "output_type": "stream",
          "text": [
            "R[write to console]: Note: D.f. calculations have been disabled because the number of observations exceeds 3000.\n",
            "To enable adjustments, add the argument 'pbkrtest.limit = 42548' (or larger)\n",
            "[or, globally, 'set emm_options(pbkrtest.limit = 42548)' or larger];\n",
            "but be warned that this may result in large computation time and memory use.\n",
            "\n",
            "R[write to console]: Note: D.f. calculations have been disabled because the number of observations exceeds 3000.\n",
            "To enable adjustments, add the argument 'lmerTest.limit = 42548' (or larger)\n",
            "[or, globally, 'set emm_options(lmerTest.limit = 42548)' or larger];\n",
            "but be warned that this may result in large computation time and memory use.\n",
            "\n",
            "R[write to console]: NOTE: Results may be misleading due to involvement in interactions\n",
            "\n",
            "R[write to console]: Note: adjust = \"tukey\" was changed to \"sidak\"\n",
            "because \"tukey\" is only appropriate for one set of pairwise comparisons\n",
            "\n"
          ],
          "name": "stderr"
        },
        {
          "output_type": "stream",
          "text": [
            " Parity lsmean   SE  df asymp.LCL asymp.UCL .group\n",
            " 3+        307 1.48 Inf       303       310  a    \n",
            " 1         347 1.53 Inf       344       351   b   \n",
            " 2         350 1.52 Inf       347       354    c  \n",
            "\n",
            "Results are averaged over the levels of: MonthsInMilk, CalvingSeason, MilkingType \n",
            "Degrees-of-freedom method: asymptotic \n",
            "Confidence level used: 0.95 \n",
            "Conf-level adjustment: sidak method for 3 estimates \n",
            "P value adjustment: tukey method for comparing a family of 3 estimates \n",
            "significance level used: alpha = 0.05 \n"
          ],
          "name": "stdout"
        }
      ]
    },
    {
      "cell_type": "code",
      "metadata": {
        "colab": {
          "base_uri": "https://localhost:8080/"
        },
        "id": "7F-RZM29gLY0",
        "outputId": "1dee489f-3f0b-4b3e-aa7b-93cc4cfabbba"
      },
      "source": [
        "%%R\n",
        "multcomp::cld(lsmeans::lsmeans(finalModel, ~ CalvingSeason), alpha=0.05, Letters=letters, adjust=\"tukey\")"
      ],
      "execution_count": null,
      "outputs": [
        {
          "output_type": "stream",
          "text": [
            "R[write to console]: Note: D.f. calculations have been disabled because the number of observations exceeds 3000.\n",
            "To enable adjustments, add the argument 'pbkrtest.limit = 42548' (or larger)\n",
            "[or, globally, 'set emm_options(pbkrtest.limit = 42548)' or larger];\n",
            "but be warned that this may result in large computation time and memory use.\n",
            "\n",
            "R[write to console]: Note: D.f. calculations have been disabled because the number of observations exceeds 3000.\n",
            "To enable adjustments, add the argument 'lmerTest.limit = 42548' (or larger)\n",
            "[or, globally, 'set emm_options(lmerTest.limit = 42548)' or larger];\n",
            "but be warned that this may result in large computation time and memory use.\n",
            "\n",
            "R[write to console]: NOTE: Results may be misleading due to involvement in interactions\n",
            "\n",
            "R[write to console]: Note: adjust = \"tukey\" was changed to \"sidak\"\n",
            "because \"tukey\" is only appropriate for one set of pairwise comparisons\n",
            "\n"
          ],
          "name": "stderr"
        },
        {
          "output_type": "stream",
          "text": [
            " CalvingSeason lsmean   SE  df asymp.LCL asymp.UCL .group\n",
            " Summer           332 1.59 Inf       328       335  a    \n",
            " Autumn           334 1.59 Inf       330       338  ab   \n",
            " Spring           336 1.64 Inf       332       340   bc  \n",
            " Winter           338 1.65 Inf       334       343    c  \n",
            "\n",
            "Results are averaged over the levels of: MonthsInMilk, Parity, MilkingType \n",
            "Degrees-of-freedom method: asymptotic \n",
            "Confidence level used: 0.95 \n",
            "Conf-level adjustment: sidak method for 4 estimates \n",
            "P value adjustment: tukey method for comparing a family of 4 estimates \n",
            "significance level used: alpha = 0.05 \n"
          ],
          "name": "stdout"
        }
      ]
    },
    {
      "cell_type": "code",
      "metadata": {
        "colab": {
          "base_uri": "https://localhost:8080/"
        },
        "id": "-4Sa6sAUgNT6",
        "outputId": "074106a5-bfd4-4a45-b08b-5a8d8490543e"
      },
      "source": [
        "%%R\n",
        "multcomp::cld(lsmeans::lsmeans(finalModel, ~ MilkingType), alpha=0.05, Letters=letters, adjust=\"tukey\")"
      ],
      "execution_count": null,
      "outputs": [
        {
          "output_type": "stream",
          "text": [
            "R[write to console]: Note: D.f. calculations have been disabled because the number of observations exceeds 3000.\n",
            "To enable adjustments, add the argument 'pbkrtest.limit = 42548' (or larger)\n",
            "[or, globally, 'set emm_options(pbkrtest.limit = 42548)' or larger];\n",
            "but be warned that this may result in large computation time and memory use.\n",
            "\n",
            "R[write to console]: Note: D.f. calculations have been disabled because the number of observations exceeds 3000.\n",
            "To enable adjustments, add the argument 'lmerTest.limit = 42548' (or larger)\n",
            "[or, globally, 'set emm_options(lmerTest.limit = 42548)' or larger];\n",
            "but be warned that this may result in large computation time and memory use.\n",
            "\n",
            "R[write to console]: NOTE: Results may be misleading due to involvement in interactions\n",
            "\n",
            "R[write to console]: Note: adjust = \"tukey\" was changed to \"sidak\"\n",
            "because \"tukey\" is only appropriate for one set of pairwise comparisons\n",
            "\n"
          ],
          "name": "stderr"
        },
        {
          "output_type": "stream",
          "text": [
            " MilkingType lsmean   SE  df asymp.LCL asymp.UCL .group\n",
            " AMS            323 2.30 Inf       318       328  a    \n",
            " CMS            347 1.64 Inf       343       351   b   \n",
            "\n",
            "Results are averaged over the levels of: MonthsInMilk, CalvingSeason, Parity \n",
            "Degrees-of-freedom method: asymptotic \n",
            "Confidence level used: 0.95 \n",
            "Conf-level adjustment: sidak method for 2 estimates \n",
            "significance level used: alpha = 0.05 \n"
          ],
          "name": "stdout"
        }
      ]
    },
    {
      "cell_type": "markdown",
      "metadata": {
        "id": "duGZylmVgTAP"
      },
      "source": [
        "## Interactions"
      ]
    },
    {
      "cell_type": "markdown",
      "metadata": {
        "id": "bjo6rxOpgeIH"
      },
      "source": [
        "### MonthsInMilk by parity"
      ]
    },
    {
      "cell_type": "code",
      "metadata": {
        "colab": {
          "base_uri": "https://localhost:8080/"
        },
        "id": "tW4ttmjJgeuQ",
        "outputId": "65e2c4ba-e613-4383-c5e0-c527ad227a36"
      },
      "source": [
        "%%R\n",
        "LSMs<-lsmeans::lsmeans(finalModel, pairwise ~ MonthsInMilk|Parity, type = \"response\", glhargs=list())\n",
        "multcomp::cld(LSMs[[1]], alpha=0.05, Letters=letters, adjust=\"tukey\")"
      ],
      "execution_count": null,
      "outputs": [
        {
          "output_type": "stream",
          "text": [
            "R[write to console]: Note: D.f. calculations have been disabled because the number of observations exceeds 3000.\n",
            "To enable adjustments, add the argument 'pbkrtest.limit = 42548' (or larger)\n",
            "[or, globally, 'set emm_options(pbkrtest.limit = 42548)' or larger];\n",
            "but be warned that this may result in large computation time and memory use.\n",
            "\n",
            "R[write to console]: Note: D.f. calculations have been disabled because the number of observations exceeds 3000.\n",
            "To enable adjustments, add the argument 'lmerTest.limit = 42548' (or larger)\n",
            "[or, globally, 'set emm_options(lmerTest.limit = 42548)' or larger];\n",
            "but be warned that this may result in large computation time and memory use.\n",
            "\n",
            "R[write to console]: Note: adjust = \"tukey\" was changed to \"sidak\"\n",
            "because \"tukey\" is only appropriate for one set of pairwise comparisons\n",
            "\n"
          ],
          "name": "stderr"
        },
        {
          "output_type": "stream",
          "text": [
            "Parity = 1:\n",
            " MonthsInMilk lsmean   SE  df asymp.LCL asymp.UCL .group \n",
            " -1              292 2.92 Inf       283       300  a     \n",
            " 0               306 2.47 Inf       299       313   b    \n",
            " 1               314 2.53 Inf       307       321   b    \n",
            " 2               328 2.50 Inf       321       335    c   \n",
            " 3               345 2.47 Inf       338       352     d  \n",
            " 4               355 2.46 Inf       348       363      e \n",
            " 5               367 2.48 Inf       360       374       f\n",
            " 10              371 2.49 Inf       363       378       f\n",
            " 6               372 2.49 Inf       365       379       f\n",
            " 8               373 2.49 Inf       366       380       f\n",
            " 9               373 2.50 Inf       366       380       f\n",
            " 7               374 2.49 Inf       366       381       f\n",
            "\n",
            "Parity = 2:\n",
            " MonthsInMilk lsmean   SE  df asymp.LCL asymp.UCL .group \n",
            " 1               339 2.49 Inf       332       346  a     \n",
            " 10              342 2.51 Inf       335       349  ab    \n",
            " 2               345 2.48 Inf       338       352  abc   \n",
            " 9               347 2.50 Inf       340       355  abc   \n",
            " 3               348 2.48 Inf       341       355  abc   \n",
            " 4               349 2.49 Inf       342       357   bc   \n",
            " 8               349 2.48 Inf       342       357   bc   \n",
            " 0               351 2.43 Inf       344       357   bc   \n",
            " 7               354 2.48 Inf       347       361    c   \n",
            " 5               354 2.48 Inf       347       362    c   \n",
            " 6               354 2.48 Inf       347       362    c   \n",
            " -1              370 2.49 Inf       363       377     d  \n",
            "\n",
            "Parity = 3+:\n",
            " MonthsInMilk lsmean   SE  df asymp.LCL asymp.UCL .group \n",
            " 1               286 2.01 Inf       280       292  a     \n",
            " 0               296 1.93 Inf       290       301   b    \n",
            " 2               303 2.03 Inf       297       308    c   \n",
            " 10              305 2.12 Inf       299       311    cd  \n",
            " 3               308 2.04 Inf       302       314    cde \n",
            " -1              308 1.95 Inf       303       314    cde \n",
            " 9               309 2.11 Inf       303       315    cdef\n",
            " 4               310 2.05 Inf       304       316     def\n",
            " 5               312 2.06 Inf       306       318     def\n",
            " 8               313 2.09 Inf       307       319      ef\n",
            " 6               316 2.07 Inf       310       322       f\n",
            " 7               316 2.09 Inf       310       322       f\n",
            "\n",
            "Results are averaged over the levels of: CalvingSeason, MilkingType \n",
            "Degrees-of-freedom method: asymptotic \n",
            "Confidence level used: 0.95 \n",
            "Conf-level adjustment: sidak method for 12 estimates \n",
            "P value adjustment: tukey method for comparing a family of 12 estimates \n",
            "significance level used: alpha = 0.05 \n"
          ],
          "name": "stdout"
        }
      ]
    },
    {
      "cell_type": "code",
      "metadata": {
        "colab": {
          "base_uri": "https://localhost:8080/",
          "height": 497
        },
        "id": "GGTLFjbIgpEc",
        "outputId": "0753d937-60c1-4964-c3f2-e3bf5a1a7f63"
      },
      "source": [
        "%%R\n",
        "dfPValues <- summary(LSMs)[[2]]\n",
        "dfLMSs <- summary(LSMs)[[1]]\n",
        "dfLMSs %>% \n",
        "  mutate(label = if_else(MonthsInMilk == max(as.numeric(MonthsInMilk)), as.character(Parity), NA_character_)) %>%\n",
        "  ggplot(\n",
        "  aes(\n",
        "    x=MonthsInMilk,\n",
        "    y=lsmean,\n",
        "    group=Parity, \n",
        "    color=Parity)\n",
        "    ) +\n",
        "  geom_line() +  \n",
        "  geom_errorbar(\n",
        "    aes(ymin=asymp.LCL, \n",
        "        ymax=asymp.UCL), \n",
        "    width=.2,\n",
        "    position=position_dodge(0.05)) +\n",
        "  labs(\n",
        "    title = \"Eating time (min/day)\", \n",
        "    y=\"Minutes per day\" , \n",
        "    x = \"Months in milk\") +\n",
        "  theme_bw() +\n",
        "  theme(plot.title = element_text(hjust = 0.5),\n",
        "        panel.border = element_blank(), \n",
        "        panel.grid.major = element_blank(),\n",
        "        panel.grid.minor = element_blank(), \n",
        "        axis.line = element_line(colour = \"black\"))"
      ],
      "execution_count": null,
      "outputs": [
        {
          "output_type": "display_data",
          "data": {
            "image/png": "[encoded data removed]"
          },
          "metadata": {
            "tags": []
          }
        }
      ]
    },
    {
      "cell_type": "markdown",
      "metadata": {
        "id": "7QPzfWWOhUdn"
      },
      "source": [
        "### MonthsInMilk by milking type"
      ]
    },
    {
      "cell_type": "code",
      "metadata": {
        "colab": {
          "base_uri": "https://localhost:8080/"
        },
        "id": "L_KlSoC7hFKf",
        "outputId": "998aa06d-e91e-42a1-a836-48f5b8c9669d"
      },
      "source": [
        "%%R\n",
        "LSMs<-lsmeans::lsmeans(finalModel, pairwise ~ MonthsInMilk|MilkingType, type = \"response\", glhargs=list())\n",
        "multcomp::cld(LSMs[[1]], alpha=0.05, Letters=letters, adjust=\"tukey\")"
      ],
      "execution_count": null,
      "outputs": [
        {
          "output_type": "stream",
          "text": [
            "R[write to console]: Note: D.f. calculations have been disabled because the number of observations exceeds 3000.\n",
            "To enable adjustments, add the argument 'pbkrtest.limit = 42548' (or larger)\n",
            "[or, globally, 'set emm_options(pbkrtest.limit = 42548)' or larger];\n",
            "but be warned that this may result in large computation time and memory use.\n",
            "\n",
            "R[write to console]: Note: D.f. calculations have been disabled because the number of observations exceeds 3000.\n",
            "To enable adjustments, add the argument 'lmerTest.limit = 42548' (or larger)\n",
            "[or, globally, 'set emm_options(lmerTest.limit = 42548)' or larger];\n",
            "but be warned that this may result in large computation time and memory use.\n",
            "\n",
            "R[write to console]: Note: adjust = \"tukey\" was changed to \"sidak\"\n",
            "because \"tukey\" is only appropriate for one set of pairwise comparisons\n",
            "\n"
          ],
          "name": "stderr"
        },
        {
          "output_type": "stream",
          "text": [
            "MilkingType = AMS:\n",
            " MonthsInMilk lsmean   SE  df asymp.LCL asymp.UCL .group  \n",
            " 1               296 2.89 Inf       288       304  a      \n",
            " 0               307 2.82 Inf       299       315   b     \n",
            " -1              312 2.88 Inf       304       321   b     \n",
            " 2               312 2.89 Inf       304       321   b     \n",
            " 10              323 2.91 Inf       315       332    c    \n",
            " 3               324 2.88 Inf       316       332    c    \n",
            " 4               328 2.88 Inf       320       336    cd   \n",
            " 9               329 2.91 Inf       321       337    cde  \n",
            " 8               331 2.90 Inf       323       340    cdef \n",
            " 5               335 2.88 Inf       327       343     def \n",
            " 7               337 2.90 Inf       328       345      ef \n",
            " 6               337 2.89 Inf       329       346       f \n",
            "\n",
            "MilkingType = CMS:\n",
            " MonthsInMilk lsmean   SE  df asymp.LCL asymp.UCL .group  \n",
            " 0               328 2.00 Inf       323       334  a      \n",
            " 1               330 2.03 Inf       324       335  ab     \n",
            " -1              334 2.11 Inf       328       340   bc    \n",
            " 2               338 2.03 Inf       333       344    cd   \n",
            " 3               343 2.03 Inf       338       349     de  \n",
            " 4               349 2.04 Inf       343       354      ef \n",
            " 5               354 2.04 Inf       348       360       fg\n",
            " 10              355 2.07 Inf       349       361        g\n",
            " 6               357 2.05 Inf       351       363        g\n",
            " 9               358 2.06 Inf       352       364        g\n",
            " 8               359 2.05 Inf       353       365        g\n",
            " 7               359 2.05 Inf       353       365        g\n",
            "\n",
            "Results are averaged over the levels of: CalvingSeason, Parity \n",
            "Degrees-of-freedom method: asymptotic \n",
            "Confidence level used: 0.95 \n",
            "Conf-level adjustment: sidak method for 12 estimates \n",
            "P value adjustment: tukey method for comparing a family of 12 estimates \n",
            "significance level used: alpha = 0.05 \n"
          ],
          "name": "stdout"
        }
      ]
    },
    {
      "cell_type": "code",
      "metadata": {
        "colab": {
          "base_uri": "https://localhost:8080/",
          "height": 497
        },
        "id": "0F2gbrfvhIxm",
        "outputId": "570504b1-1c17-4216-f3fa-e5bb80646acc"
      },
      "source": [
        "%%R\n",
        "dfPValues <- summary(LSMs)[[2]]\n",
        "dfLMSs <- summary(LSMs)[[1]]\n",
        "dfLMSs %>% \n",
        "  mutate(label = if_else(MonthsInMilk == max(as.numeric(MonthsInMilk)), as.character(MilkingType), NA_character_)) %>%\n",
        "  ggplot(\n",
        "  aes(\n",
        "    x=MonthsInMilk,\n",
        "    y=lsmean,\n",
        "    group=MilkingType, \n",
        "    color=MilkingType)\n",
        "    ) +\n",
        "  geom_line() +  \n",
        "  geom_errorbar(\n",
        "    aes(ymin=asymp.LCL, \n",
        "        ymax=asymp.UCL), \n",
        "    width=.2,\n",
        "    position=position_dodge(0.05)) +\n",
        "  labs(\n",
        "    title = \"Eating time (min/day)\", \n",
        "    y=\"Minutes per day\" , \n",
        "    x = \"Months in milk\") +\n",
        "  theme_bw() +\n",
        "  theme(plot.title = element_text(hjust = 0.5),\n",
        "        panel.border = element_blank(), \n",
        "        panel.grid.major = element_blank(),\n",
        "        panel.grid.minor = element_blank(), \n",
        "        axis.line = element_line(colour = \"black\"))"
      ],
      "execution_count": null,
      "outputs": [
        {
          "output_type": "display_data",
          "data": {
            "image/png": "[encoded data removed]"
          },
          "metadata": {
            "tags": []
          }
        }
      ]
    },
    {
      "cell_type": "markdown",
      "metadata": {
        "id": "prAbWH2ah_D2"
      },
      "source": [
        "### MonthsInMilk by calving season"
      ]
    },
    {
      "cell_type": "code",
      "metadata": {
        "colab": {
          "base_uri": "https://localhost:8080/"
        },
        "id": "bjMxVU-uhp-o",
        "outputId": "75e49829-2973-40f6-ff78-688f28b1a25f"
      },
      "source": [
        "%%R\n",
        "LSMs<-lsmeans::lsmeans(finalModel, pairwise ~ MonthsInMilk|CalvingSeason, type = \"response\", glhargs=list())\n",
        "multcomp::cld(LSMs[[1]], alpha=0.05, Letters=letters, adjust=\"tukey\")"
      ],
      "execution_count": null,
      "outputs": [
        {
          "output_type": "stream",
          "text": [
            "R[write to console]: Note: D.f. calculations have been disabled because the number of observations exceeds 3000.\n",
            "To enable adjustments, add the argument 'pbkrtest.limit = 42548' (or larger)\n",
            "[or, globally, 'set emm_options(pbkrtest.limit = 42548)' or larger];\n",
            "but be warned that this may result in large computation time and memory use.\n",
            "\n",
            "R[write to console]: Note: D.f. calculations have been disabled because the number of observations exceeds 3000.\n",
            "To enable adjustments, add the argument 'lmerTest.limit = 42548' (or larger)\n",
            "[or, globally, 'set emm_options(lmerTest.limit = 42548)' or larger];\n",
            "but be warned that this may result in large computation time and memory use.\n",
            "\n",
            "R[write to console]: Note: adjust = \"tukey\" was changed to \"sidak\"\n",
            "because \"tukey\" is only appropriate for one set of pairwise comparisons\n",
            "\n"
          ],
          "name": "stderr"
        },
        {
          "output_type": "stream",
          "text": [
            "CalvingSeason = Autumn:\n",
            " MonthsInMilk lsmean   SE  df asymp.LCL asymp.UCL .group   \n",
            " 1               309 2.42 Inf       302       316  a       \n",
            " 2               316 2.45 Inf       309       323  ab      \n",
            " 0               317 2.34 Inf       311       324  abc     \n",
            " -1              324 2.51 Inf       317       331   bcd    \n",
            " 3               326 2.52 Inf       318       333    cd    \n",
            " 4               330 2.54 Inf       323       338     de   \n",
            " 5               336 2.54 Inf       329       343      e   \n",
            " 10              339 2.52 Inf       331       346      ef  \n",
            " 6               346 2.56 Inf       339       353       fg \n",
            " 9               350 2.54 Inf       342       357        gh\n",
            " 7               354 2.55 Inf       347       361        gh\n",
            " 8               358 2.55 Inf       351       365         h\n",
            "\n",
            "CalvingSeason = Spring:\n",
            " MonthsInMilk lsmean   SE  df asymp.LCL asymp.UCL .group   \n",
            " 0               315 2.59 Inf       307       322  a       \n",
            " -1              322 2.71 Inf       315       330  ab      \n",
            " 1               324 2.68 Inf       316       331  ab      \n",
            " 10              332 2.82 Inf       324       340   bc     \n",
            " 4               336 2.63 Inf       329       344    cd    \n",
            " 9               339 2.77 Inf       331       347    cd    \n",
            " 5               339 2.62 Inf       332       347    cd    \n",
            " 3               341 2.65 Inf       334       349    cde   \n",
            " 2               343 2.67 Inf       335       350     de   \n",
            " 8               343 2.66 Inf       335       351     de   \n",
            " 6               346 2.58 Inf       338       353     de   \n",
            " 7               350 2.62 Inf       343       358      e   \n",
            "\n",
            "CalvingSeason = Summer:\n",
            " MonthsInMilk lsmean   SE  df asymp.LCL asymp.UCL .group   \n",
            " 1               307 2.40 Inf       300       314  a       \n",
            " 2               316 2.38 Inf       309       323  a       \n",
            " 3               327 2.34 Inf       320       334   b      \n",
            " 0               328 2.34 Inf       321       335   bc     \n",
            " 4               333 2.36 Inf       326       340   bcd    \n",
            " -1              333 2.46 Inf       326       340   bcd    \n",
            " 8               336 2.53 Inf       329       343    cde   \n",
            " 9               337 2.53 Inf       330       344     de   \n",
            " 5               338 2.42 Inf       331       344     de   \n",
            " 7               339 2.51 Inf       331       346     de   \n",
            " 6               341 2.49 Inf       334       348     de   \n",
            " 10              344 2.52 Inf       337       351      e   \n",
            "\n",
            "CalvingSeason = Winter:\n",
            " MonthsInMilk lsmean   SE  df asymp.LCL asymp.UCL .group   \n",
            " 0               310 2.60 Inf       303       318  a       \n",
            " 1               311 2.76 Inf       304       319  a       \n",
            " -1              314 2.72 Inf       306       322  a       \n",
            " 2               327 2.76 Inf       319       335   b      \n",
            " 3               341 2.76 Inf       333       349    c     \n",
            " 10              343 2.64 Inf       335       350    c     \n",
            " 8               343 2.66 Inf       336       351    cd    \n",
            " 9               348 2.63 Inf       340       355    cde   \n",
            " 7               349 2.69 Inf       341       356    cde   \n",
            " 4               353 2.74 Inf       345       361     de   \n",
            " 6               357 2.70 Inf       350       365      ef  \n",
            " 5               365 2.72 Inf       357       373       f  \n",
            "\n",
            "Results are averaged over the levels of: Parity, MilkingType \n",
            "Degrees-of-freedom method: asymptotic \n",
            "Confidence level used: 0.95 \n",
            "Conf-level adjustment: sidak method for 12 estimates \n",
            "P value adjustment: tukey method for comparing a family of 12 estimates \n",
            "significance level used: alpha = 0.05 \n"
          ],
          "name": "stdout"
        }
      ]
    },
    {
      "cell_type": "code",
      "metadata": {
        "colab": {
          "base_uri": "https://localhost:8080/",
          "height": 497
        },
        "id": "7s_0qoxNhsf5",
        "outputId": "7a150619-a470-4805-db1d-cc1bf1010704"
      },
      "source": [
        "%%R\n",
        "dfPValues <- summary(LSMs)[[2]]\n",
        "dfLMSs <- summary(LSMs)[[1]]\n",
        "dfLMSs %>% \n",
        "  mutate(label = if_else(MonthsInMilk == max(as.numeric(MonthsInMilk)), as.character(CalvingSeason), NA_character_)) %>%\n",
        "  ggplot(\n",
        "  aes(\n",
        "    x=MonthsInMilk,\n",
        "    y=lsmean,\n",
        "    group=CalvingSeason, \n",
        "    color=CalvingSeason)\n",
        "    ) +\n",
        "  geom_line() +  \n",
        "  geom_errorbar(\n",
        "    aes(ymin=asymp.LCL, \n",
        "        ymax=asymp.UCL), \n",
        "    width=.2,\n",
        "    position=position_dodge(0.05)) +\n",
        "  labs(\n",
        "    title = \"Eating time (min/day)\", \n",
        "    y=\"Minutes per day\" , \n",
        "    x = \"Months in milk\") +\n",
        "  theme_bw() +\n",
        "  theme(plot.title = element_text(hjust = 0.5),\n",
        "        panel.border = element_blank(), \n",
        "        panel.grid.major = element_blank(),\n",
        "        panel.grid.minor = element_blank(), \n",
        "        axis.line = element_line(colour = \"black\"))"
      ],
      "execution_count": null,
      "outputs": [
        {
          "output_type": "display_data",
          "data": {
            "image/png": "[encoded data removed]"
          },
          "metadata": {
            "tags": []
          }
        }
      ]
    }
  ]
}